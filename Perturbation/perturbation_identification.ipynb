{
 "cells": [
  {
   "cell_type": "code",
   "execution_count": 1,
   "metadata": {},
   "outputs": [],
   "source": [
    "import numpy as np\n",
    "import matplotlib.pyplot as plt\n",
    "import pandas as pd\n",
    "import cvxpy as cv\n",
    "import time\n",
    "import gurobipy as gp\n",
    "from gurobipy import GRB"
   ]
  },
  {
   "cell_type": "markdown",
   "metadata": {},
   "source": [
    "# Identifying perturbations\n",
    "\n",
    "Given transcript counts for a gene in a number of cells we can estimate bounds on the parameters of the reaction network. Assuming the counts are sampled from the stationary distribution of the system we bootstrap to produce CI bounds on the distribution, then optimize over constraints constructed from these values and the reaction system."
   ]
  },
  {
   "cell_type": "markdown",
   "metadata": {},
   "source": [
    "## Bootstrap"
   ]
  },
  {
   "cell_type": "code",
   "execution_count": 2,
   "metadata": {},
   "outputs": [],
   "source": [
    "def bootstrap(samples, N, plot=False, printing=False, drop_missing=False):\n",
    "    \"\"\"\n",
    "    Bootstrap sample data to find confidence intervals of\n",
    "    stationary distribution values.\n",
    "\n",
    "    Inputs:\n",
    "    samples: sample from stationary distribution (counts of transcripts)\n",
    "    N: number of bootstrap samples\n",
    "    plot: whether to plot histograms of bootstrap estimates with CI lines\n",
    "    printing: whether to print CI's\n",
    "    drop_missing: whether to drop missing values from the sample,\n",
    "        or replace them with 0 (as used when preparing BayNorm data)\n",
    "\n",
    "    Output:\n",
    "    intervals: list of confidence intervals for stationary distribution values\n",
    "        of all states up to largest observed\n",
    "    \"\"\"\n",
    "\n",
    "    '''pre-processing for real data'''\n",
    "    # change to series\n",
    "    # samples = pd.Series(samples)\n",
    "\n",
    "    # drop missing values\n",
    "    #if drop_missing:\n",
    "    #    samples = samples.dropna()\n",
    "    # replace with 0\n",
    "    #else:\n",
    "    #    samples = samples.fillna(value=0.0)\n",
    "\n",
    "    # change to int\n",
    "    #samples = samples.astype('int64')\n",
    "\n",
    "    # maximum state observed\n",
    "    x_max = int(np.nanmax(samples))\n",
    "    # size of sample\n",
    "    n = len(samples)\n",
    "\n",
    "    # N boostrap samples as N x n array\n",
    "    bootstrap = np.random.choice(samples, size=(N, n))\n",
    "    # produce N x (x_max + 1) array of counts of states:\n",
    "    # offset each row by multiple of x_max + 1 for efficient bincount\n",
    "    bootstrap_offs = bootstrap + np.arange(N)[:,None]*(x_max + 1)\n",
    "    counts = np.bincount(bootstrap_offs.ravel(), minlength=N*(x_max + 1)).reshape(-1,x_max + 1)\n",
    "    # dividing by n gives columns of estimates\n",
    "    # take 2.5%, 97.5% percentiles of each column (i.e each p(x))\n",
    "    quantiles = np.quantile(counts / n, [0.025, 0.975], axis=0)\n",
    "    # form intervals: list of [2.5%, 97.5%] values for each p(x)\n",
    "    intervals = [quantiles[:,i] for i in range(x_max + 1)]\n",
    "\n",
    "    # plot histograms and CI\n",
    "    if printing or plot:\n",
    "        for x in range(x_max + 1):\n",
    "            if printing:\n",
    "                print(f\"95% CI for p({x}) is: ({intervals[x][0]}, {intervals[x][1]})\")\n",
    "            if plot:\n",
    "                plt.hist(counts[:, x] / n)\n",
    "                plt.title(f\"Hist of p({x})\")\n",
    "                plt.axvline(intervals[x][0], color=\"red\")\n",
    "                plt.axvline(intervals[x][1], color=\"red\")\n",
    "            plt.show()\n",
    "\n",
    "    # return CIs\n",
    "    return intervals"
   ]
  },
  {
   "cell_type": "markdown",
   "metadata": {},
   "source": [
    "## Optimization"
   ]
  },
  {
   "cell_type": "code",
   "execution_count": 3,
   "metadata": {},
   "outputs": [],
   "source": [
    "def optimization_NLP(params, N, intervals, K=100, frechet_bounds=False, print_solution=True, printing=False):\n",
    "    \"\"\"\n",
    "    Solve Non-Linear Programming problem to bound parameters\n",
    "\n",
    "    Inputs:\n",
    "    params: [k_on, k_off, k_tx, k_deg] either values that will be fixed, or \"v\"\n",
    "        for variable to be bounded\n",
    "    N: number of rows/equations of Qp = 0 to use in constraints\n",
    "        must be even\n",
    "    intervals: list of confidence intervals for at least N/2 + 1 marginal states\n",
    "    K: upper bound on params (k's) for computational reasons\n",
    "    frechet_bounds: bool to include additionally derived 'frechet' constraints\n",
    "    print_solution: bool to print solution bounds\n",
    "    printing: bool to print optimizer information\n",
    "    \"\"\"\n",
    "\t\n",
    "\t# number of marginals used\n",
    "    M = int(N/2 + 1)\n",
    "\n",
    "\t# create Qr matrices:\n",
    "\t# create N + 2 x N + 2 square and drop last 2 rows, as have 2 upper diagonals\n",
    "    Q_on = (np.diag([-1 if not x % 2 else 0 for x in range(0,N+2)],0) +\n",
    "    \t\tnp.diag([1 if not x % 2 else 0 for x in range(0,N+1)],-1))[:-2, :]\n",
    "    Q_off = (np.diag([-1 if x % 2 else 0 for x in range(0,N+2)],0) +\n",
    "    \t\tnp.diag([1 if not x % 2 else 0 for x in range(0,N+1)],1))[:-2, :]\n",
    "    Q_tx = (np.diag([-1 if x % 2 else 0 for x in range(0,N+2)],0) +\n",
    "    \t\tnp.diag([1 if x % 2 else 0 for x in range(0,N)],-2))[:-2, :]\n",
    "    diag = []\n",
    "    off_diag = []\n",
    "    m = 0\n",
    "    for x in range(0, N + 2):\n",
    "        diag.append(-m)\n",
    "        if x > 1:\n",
    "            off_diag.append(m)\n",
    "        # every 2 entries, increase m by 1\n",
    "        if x % 2:\n",
    "            m += 1\n",
    "    Q_deg = (np.diag(diag,0) + np.diag(off_diag,2))[:-2, :]\n",
    "\n",
    "    # bounds from CI, on marginal\n",
    "    pl = [intr[0] for intr in intervals]\n",
    "    pu = [intr[1] for intr in intervals]\n",
    "\n",
    "    # define bounds\n",
    "    pl = np.array(pl)[:M]\n",
    "    pu = np.array(pu)[:M]\n",
    "\n",
    "    # form doubled bounds\n",
    "    pdl = np.repeat(pl,2)\n",
    "    pdu = np.repeat(pu,2)\n",
    "\t\n",
    "    # marginal = A @ p\n",
    "    A = np.repeat(np.eye(M, dtype=int), repeats=2, axis=1)\n",
    "\n",
    "    # create model\n",
    "    m = gp.Model(\"gene_exp\")\n",
    "\n",
    "    # set options\n",
    "    if not printing:\n",
    "        m.Params.LogToConsole = 0\n",
    "\n",
    "    # add variable p in [0, 1]\n",
    "    p = m.addMVar(shape=N + 2, vtype=GRB.CONTINUOUS, name=\"p\", lb=0, ub=1)\n",
    "\n",
    "    # initialize fixed / variable rates, constrain to [0, K] for computational reasons\n",
    "    if params[0] == \"v\":\n",
    "        k_on = m.addVar(vtype=GRB.CONTINUOUS, name=\"k_on\", lb=0, ub=K)\n",
    "    else:\n",
    "        k_on = params[0]\n",
    "    if params[1] == \"v\":\n",
    "        k_off = m.addVar(vtype=GRB.CONTINUOUS, name=\"k_off\", lb=0, ub=K)\n",
    "    else:\n",
    "        k_off = params[1]\n",
    "    if params[2] == \"v\":\n",
    "        k_tx = m.addVar(vtype=GRB.CONTINUOUS, name=\"k_tx\", lb=0, ub=K)\n",
    "    else:\n",
    "        k_tx = params[2]\n",
    "    if params[3] == \"v\":\n",
    "        k_deg = m.addVar(vtype=GRB.CONTINUOUS, name=\"k_deg\", lb=0, ub=K)\n",
    "    else:\n",
    "        k_deg = params[3]\n",
    "\n",
    "    # Constraints:\n",
    "    # Stationary condition: Qp = 0\n",
    "    m.addConstr(k_on*(Q_on @ p) + k_off*(Q_off @ p) + k_tx*(Q_tx @ p) + k_deg*(Q_deg @ p) == 0, name=\"Qp=0\")\n",
    "    # marginal bounds: p_L <= A @ p <= p_U\n",
    "    m.addConstr(pl <= A @ p, name=\"Marginal lb\")\n",
    "    m.addConstr(A @ p <= pu, name=\"Marginal ub\" )\n",
    "    # truncated joint dist: sum(p) <= 1\n",
    "    m.addConstr(p.sum() <= 1, name=\"Joint dist\")\n",
    "\n",
    "    if frechet_bounds:\n",
    "        # frechet bound vector\n",
    "        kv_off = np.array([0 if x % 2 else 1 for x in range(N + 2)])\n",
    "        kv_on = np.array([1 if x % 2 else 0 for x in range(N + 2)])\n",
    "        kv = k_off * kv_off + k_on * kv_on\n",
    "        # frechet bound\n",
    "        m.addConstr((k_on + k_off) * p <= kv)\n",
    "\n",
    "    # solution dict\n",
    "    solution = {}\n",
    "\n",
    "    par_names = [\"k_on\", \"k_off\", \"k_tx\", \"k_deg\"]\n",
    "\n",
    "    # optimize for each unknown parameter\n",
    "    for i, par in enumerate([k_on, k_off, k_tx, k_deg]):\n",
    "\n",
    "        # param name\n",
    "        name = par_names[i]\n",
    "\n",
    "        # if unknown: optimize\n",
    "        if params[i] == \"v\":\n",
    "\n",
    "            # set objective\n",
    "            m.setObjective(par, GRB.MINIMIZE)\n",
    "\n",
    "            try:\n",
    "                # optimize (solve)\n",
    "                m.optimize()\n",
    "                # record\n",
    "                min_val = m.ObjVal\n",
    "            except:\n",
    "                # record as infeasible/unbounded\n",
    "                min_val = None\n",
    "\n",
    "            # reset\n",
    "            m.reset()\n",
    "\n",
    "            # change objective\n",
    "            m.setObjective(par, GRB.MAXIMIZE)\n",
    "\n",
    "            try:\n",
    "                # re-optimize (re-solve)\n",
    "                m.optimize()\n",
    "                # record\n",
    "                max_val = m.ObjVal\n",
    "            except:\n",
    "                # record as infeasible/unbounded\n",
    "                max_val = None\n",
    "\n",
    "            # store\n",
    "            solution[name] = [min_val, max_val]\n",
    "    \n",
    "        # if known: store\n",
    "        else:\n",
    "            solution[name] = par\n",
    "    \n",
    "    # print\n",
    "    if print_solution:\n",
    "        for key, val in solution.items():\n",
    "            if type(val) == list:\n",
    "                print(f\"{key} in ({val[0]}, {val[1]})\")\n",
    "            else:\n",
    "                print(f\"{key} = {val}\")\n",
    "\n",
    "    return solution"
   ]
  },
  {
   "cell_type": "markdown",
   "metadata": {},
   "source": [
    "## Example"
   ]
  },
  {
   "cell_type": "code",
   "execution_count": 4,
   "metadata": {},
   "outputs": [],
   "source": [
    "# original\n",
    "counts_original = pd.read_csv(\"Simulated_data/counts_original.csv\", index_col=\"Unnamed: 0\")\n",
    "parameters_original = pd.read_csv(\"Simulated_data/parameters_original.csv\", index_col=\"Unnamed: 0\")\n",
    "# perturbed\n",
    "counts_perturbed = pd.read_csv(\"Simulated_data/counts_perturbed.csv\", index_col=\"Unnamed: 0\")\n",
    "parameters_perturbed = pd.read_csv(\"Simulated_data/parameters_perturbed.csv\", index_col=\"Unnamed: 0\")"
   ]
  },
  {
   "cell_type": "code",
   "execution_count": 19,
   "metadata": {},
   "outputs": [],
   "source": [
    "gene = f\"gene_{448}\""
   ]
  },
  {
   "cell_type": "code",
   "execution_count": 20,
   "metadata": {},
   "outputs": [
    {
     "name": "stdout",
     "output_type": "stream",
     "text": [
      "95% CI for p(0) is: (0.9596, 0.9698)\n",
      "95% CI for p(1) is: (0.0294, 0.0394)\n",
      "95% CI for p(2) is: (0.0002, 0.0018)\n",
      "\n",
      "\n",
      "95% CI for p(0) is: (0.607995, 0.634)\n",
      "95% CI for p(1) is: (0.276585, 0.30101)\n",
      "95% CI for p(2) is: (0.064995, 0.08020499999999998)\n",
      "95% CI for p(3) is: (0.0102, 0.0166)\n",
      "95% CI for p(4) is: (0.0018, 0.0048)\n",
      "95% CI for p(5) is: (0.0, 0.001)\n",
      "95% CI for p(6) is: (0.0, 0.0006)\n"
     ]
    }
   ],
   "source": [
    "intervals_original = bootstrap(counts_original.loc[gene], 1000, printing=True)\n",
    "print(\"\\n\")\n",
    "intervals_perturbed = bootstrap(counts_perturbed.loc[gene], 1000, printing=True)"
   ]
  },
  {
   "cell_type": "code",
   "execution_count": 24,
   "metadata": {},
   "outputs": [
    {
     "name": "stdout",
     "output_type": "stream",
     "text": [
      "k_on in (0.0, 99.9999999983496)\n",
      "k_off in (0.0, 99.9999999983496)\n",
      "k_tx in (0.030315461680904567, 10.316494744612532)\n",
      "k_deg = 1.0\n",
      "\n",
      "\n",
      "k_on in (0.0, 25.631528696632927)\n",
      "k_off in (0.0, 99.99999999834958)\n",
      "k_tx in (0.5252963646143499, 13.089367386439477)\n",
      "k_deg = 1.0\n"
     ]
    }
   ],
   "source": [
    "solution_original = optimization_NLP(params=[\"v\", \"v\", \"v\", 1.0], N=4, intervals=intervals_original, frechet_bounds=True)\n",
    "print(\"\\n\")\n",
    "solution_perturbed = optimization_NLP(params=[\"v\", \"v\", \"v\", 1.0], N=10, intervals=intervals_perturbed, frechet_bounds=True)"
   ]
  },
  {
   "cell_type": "code",
   "execution_count": 25,
   "metadata": {},
   "outputs": [
    {
     "name": "stdout",
     "output_type": "stream",
     "text": [
      "k_on     0.646965\n",
      "k_off    8.129486\n",
      "k_tx     0.819039\n",
      "k_deg    1.000000\n",
      "Name: gene_448, dtype: float64\n",
      "\n",
      "\n",
      "k_on     2.682905\n",
      "k_off    2.325016\n",
      "k_tx     1.289419\n",
      "k_deg    1.000000\n",
      "Name: gene_448, dtype: float64\n"
     ]
    }
   ],
   "source": [
    "print(parameters_original.loc[gene])\n",
    "print(\"\\n\")\n",
    "print(parameters_perturbed.loc[gene])"
   ]
  },
  {
   "cell_type": "markdown",
   "metadata": {},
   "source": [
    "## Plotting"
   ]
  },
  {
   "cell_type": "code",
   "execution_count": 26,
   "metadata": {},
   "outputs": [],
   "source": [
    "def plot_intervals(solution_original, solution_perturbed, parameters_original, parameters_perturbed):\n",
    "\n",
    "    # original results\n",
    "    x_org = [1, 4, 7]\n",
    "    y_org = [parameters_original['k_on'],\n",
    "             parameters_original['k_off'],\n",
    "             parameters_original['k_tx']]\n",
    "    lbs_org = [abs(solution_original['k_on'][0] - parameters_original['k_on']),\n",
    "               abs(solution_original['k_off'][0] - parameters_original['k_off']),\n",
    "               abs(solution_original['k_tx'][0] - parameters_original['k_tx'])]\n",
    "    ubs_org = [abs(solution_original['k_on'][1] - parameters_original['k_on']),\n",
    "               abs(solution_original['k_off'][1] - parameters_original['k_off']),\n",
    "               abs(solution_original['k_tx'][1] - parameters_original['k_tx'])]\n",
    "    bounds_org = [lbs_org, ubs_org]\n",
    "\n",
    "    # perturbed results\n",
    "    x_pert = [2, 5, 8]\n",
    "    y_pert = [parameters_perturbed['k_on'],\n",
    "             parameters_perturbed['k_off'],\n",
    "             parameters_perturbed['k_tx']]\n",
    "    lbs_pert = [abs(solution_perturbed['k_on'][0] - parameters_perturbed['k_on']),\n",
    "                abs(solution_perturbed['k_off'][0] - parameters_perturbed['k_off']),\n",
    "                abs(solution_perturbed['k_tx'][0] - parameters_perturbed['k_tx'])]\n",
    "    ubs_pert = [abs(solution_perturbed['k_on'][1] - parameters_perturbed['k_on']),\n",
    "                abs(solution_perturbed['k_off'][1] - parameters_perturbed['k_off']),\n",
    "                abs(solution_perturbed['k_tx'][1] - parameters_perturbed['k_tx'])]\n",
    "    bounds_pert = [lbs_pert, ubs_pert]\n",
    "\n",
    "    # plot\n",
    "    plt.figure(figsize=(12, 8))\n",
    "    plt.xticks([1.5, 4.5, 7.5], ['k_on', 'k_off', 'k_tx'])\n",
    "    plt.errorbar(x_org, y_org, yerr=bounds_org, fmt='o', color = \"red\", ecolor = 'orange', capsize=5.0, label=\"Original\")\n",
    "    plt.errorbar(x_pert, y_pert, yerr=bounds_pert, fmt='o', color = \"red\", ecolor = 'blue', capsize=5.0, label=\"Perturbed\")\n",
    "    plt.xlabel(\"Parameters\")\n",
    "    plt.ylabel(\"Values\")\n",
    "    plt.legend()\n",
    "    plt.show()"
   ]
  },
  {
   "cell_type": "code",
   "execution_count": 27,
   "metadata": {},
   "outputs": [
    {
     "data": {
      "image/png": "[encoded data removed]",
      "text/plain": [
       "<Figure size 1200x800 with 1 Axes>"
      ]
     },
     "metadata": {},
     "output_type": "display_data"
    }
   ],
   "source": [
    "plot_intervals(solution_original, solution_perturbed, parameters_original.loc[gene], parameters_perturbed.loc[gene])"
   ]
  },
  {
   "cell_type": "markdown",
   "metadata": {},
   "source": [
    "# Large Scale Analysis\n",
    "\n",
    "Using whole datasets of counts we wish to analyse each gene, storing a dataset of the resulting bounds where each gene has 'original' and 'perturbed' parameter estimates. These can then be searched for intervals which do not overlap before vs after a perturbation, indicating the possibility of differential expression."
   ]
  },
  {
   "cell_type": "code",
   "execution_count": null,
   "metadata": {},
   "outputs": [],
   "source": [
    "# load in datasets\n",
    "counts_original = pd.read_csv(\"Simulated_data/counts_original.csv\", index_col=\"Unnamed: 0\")\n",
    "parameters_original = pd.read_csv(\"Simulated_data/parameters_original.csv\", index_col=\"Unnamed: 0\")\n",
    "counts_perturbed = pd.read_csv(\"Simulated_data/counts_perturbed.csv\", index_col=\"Unnamed: 0\")\n",
    "parameters_perturbed = pd.read_csv(\"Simulated_data/parameters_perturbed.csv\", index_col=\"Unnamed: 0\")\n",
    "\n",
    "# create results datasets\n",
    "estimated_parameters = pd.DataFrame()\n",
    "\n",
    "# loop over genes\n",
    "for g in range(counts_original.shape[0]):\n",
    "\n",
    "    # bootstrap confidence intervals\n",
    "    intervals_original = bootstrap(counts_original.loc[f\"gene_{g}\"], 1000)\n",
    "    intervals_perturbed = bootstrap(counts_perturbed.loc[f\"gene_{g}\"], 1000)\n",
    "\n",
    "    N_org = len(intervals_original)\n",
    "    N_pert = len(intervals_perturbed)\n",
    "\n",
    "    # optimize: drop constraints until feasible\n",
    "    for N in range(2, N_org, -2):\n",
    "        # optimize\n",
    "        solution_original = optimization_NLP_new(params=[\"v\", \"v\", \"v\", 1.0], N=N, intervals=intervals_original, frechet_bounds=True)\n",
    "        # infeasible: drop constraints\n",
    "        if solution_original['k_on'][0] == None:\n",
    "            continue\n",
    "        # feasible: break\n",
    "        else:\n",
    "            break\n",
    "    for N in range(2, N_pert, -2):\n",
    "        solution_perturbed = optimization_NLP_new(params=[\"v\", \"v\", \"v\", 1.0], N=, intervals=intervals_perturbed, frechet_bounds=True)\n",
    "        if solution_perturbed['k_on'][0] == None:\n",
    "            continue\n",
    "        else:\n",
    "            break\n",
    "\n",
    "    # store results\n"
   ]
  },
  {
   "cell_type": "code",
   "execution_count": 136,
   "metadata": {},
   "outputs": [
    {
     "data": {
      "text/plain": [
       "2500"
      ]
     },
     "execution_count": 136,
     "metadata": {},
     "output_type": "execute_result"
    }
   ],
   "source": [
    "counts_original.shape[0]"
   ]
  },
  {
   "cell_type": "code",
   "execution_count": 138,
   "metadata": {},
   "outputs": [
    {
     "data": {
      "text/plain": [
       "17"
      ]
     },
     "execution_count": 138,
     "metadata": {},
     "output_type": "execute_result"
    }
   ],
   "source": [
    "len(intervals_original)"
   ]
  }
 ],
 "metadata": {
  "kernelspec": {
   "display_name": "M5R_venv",
   "language": "python",
   "name": "python3"
  },
  "language_info": {
   "codemirror_mode": {
    "name": "ipython",
    "version": 3
   },
   "file_extension": ".py",
   "mimetype": "text/x-python",
   "name": "python",
   "nbconvert_exporter": "python",
   "pygments_lexer": "ipython3",
   "version": "3.10.11"
  }
 },
 "nbformat": 4,
 "nbformat_minor": 2
}
