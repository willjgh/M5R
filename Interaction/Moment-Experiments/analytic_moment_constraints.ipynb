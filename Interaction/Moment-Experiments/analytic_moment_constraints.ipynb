{
 "cells": [
  {
   "cell_type": "markdown",
   "id": "1a9475ac",
   "metadata": {},
   "source": [
    "# Analytic moment constraints\n",
    "\n",
    "In an attempt to address the issues with poor model enforcement by moments (overdispersed poisson data remaining feasible) try adding analytic expressions for the moments of model as constraints.\n",
    "\n",
    "Previously only constrained expression for moments in terms of probabilities, which then constrain parameters via CME equations. But, if we have expressions for the model moments in terms of the model parameters e.g. poisson model, then these can be used as constraints to directly link moments to parameters.\n",
    "\n",
    "However, remains unclear if this can be used for more complicated models e.g. interacting birth-death, where analytic expressions for the model moments may not be available."
   ]
  }
 ],
 "metadata": {
  "language_info": {
   "name": "python"
  }
 },
 "nbformat": 4,
 "nbformat_minor": 5
}
