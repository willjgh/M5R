{
 "cells": [
  {
   "cell_type": "code",
   "execution_count": 2,
   "metadata": {},
   "outputs": [],
   "source": [
    "import numpy as np\n",
    "import matplotlib.pyplot as plt\n",
    "import pandas as pd\n",
    "import time\n",
    "import gurobipy as gp\n",
    "from gurobipy import GRB\n",
    "import scipy\n",
    "import tqdm\n",
    "from ast import literal_eval\n",
    "import json\n",
    "from time import time"
   ]
  },
  {
   "cell_type": "code",
   "execution_count": 3,
   "metadata": {},
   "outputs": [],
   "source": [
    "status_codes = {\n",
    "    1: 'LOADED',\n",
    "    2: 'OPTIMAL',\n",
    "    3: 'INFEASIBLE',\n",
    "    4: 'INF_OR_UNBD',\n",
    "    5: 'UNBOUNDED',\n",
    "    6: 'CUTOFF',\n",
    "    7: 'ITERATION_LIMIT',\n",
    "    8: 'NODE_LIMIT',\n",
    "    9: 'TIME_LIMIT',\n",
    "    10: 'SOLUTION_LIMIT',\n",
    "    11: 'INTERRUPTED',\n",
    "    12: 'NUMERIC',\n",
    "    13: 'SUBOPTIMAL',\n",
    "    14: 'INPROGRESS',\n",
    "    15: 'USER_OBJ_LIMIT'\n",
    "}"
   ]
  },
  {
   "cell_type": "markdown",
   "metadata": {},
   "source": [
    "# Perfect Information, Perfect Output?\n",
    "\n",
    "Removing uncertainty of the boostrap confidence intervals and instead using exact values of probabilities / moments to optimize we can test if the constraints used are sufficient to produce exact parameter values under optimization.\n",
    "\n",
    "This has been done in \"Marginal-Experiments/perfect_information_optimization\" for \"hyp\" and \"min\" optimizations using probability bounds with single capture efficiencies, but now investigate for per cell capture efficiencies and moment constraints."
   ]
  },
  {
   "cell_type": "markdown",
   "metadata": {},
   "source": [
    "# Code"
   ]
  },
  {
   "cell_type": "markdown",
   "metadata": {},
   "source": [
    "## Exact values"
   ]
  },
  {
   "cell_type": "code",
   "execution_count": 182,
   "metadata": {},
   "outputs": [],
   "source": [
    "def exact_probabilities(params, beta, truncation_OB, truncationM_OB, delta=0.01):\n",
    "    '''Compute exact values of marginal and joint stationary distributions'''\n",
    "\n",
    "    # store\n",
    "    bounds = {}\n",
    "\n",
    "    # joint\n",
    "    x1_values = scipy.stats.poisson.pmf(np.array([x1 for x1 in range(truncation_OB['min_x1_OB'], truncation_OB['max_x1_OB'] + 1)])[:, None], beta * params['k_tx_1'] / params['k_deg_1']).mean(axis=1)\n",
    "    x2_values = scipy.stats.poisson.pmf(np.array([x2 for x2 in range(truncation_OB['min_x2_OB'], truncation_OB['max_x2_OB'] + 1)])[:, None], beta * params['k_tx_2'] / params['k_deg_2']).mean(axis=1)\n",
    "    joint_values = x1_values.reshape(-1, 1) @ x2_values.reshape(1, -1)\n",
    "\n",
    "    # marginals\n",
    "    x1_Mvalues = scipy.stats.poisson.pmf(np.array([x1 for x1 in range(truncationM_OB['minM_x1_OB'], truncationM_OB['maxM_x1_OB'] + 1)])[:, None], beta * params['k_tx_1'] / params['k_deg_1']).mean(axis=1)\n",
    "    x2_Mvalues = scipy.stats.poisson.pmf(np.array([x2 for x2 in range(truncationM_OB['minM_x2_OB'], truncationM_OB['maxM_x2_OB'] + 1)])[:, None], beta * params['k_tx_2'] / params['k_deg_2']).mean(axis=1)\n",
    "\n",
    "    # delta widths for numerics\n",
    "    bounds['x1'] = np.stack([x1_Mvalues - delta, x1_Mvalues + delta], axis=0)\n",
    "    bounds['x2'] = np.stack([x2_Mvalues - delta, x2_Mvalues + delta], axis=0)\n",
    "    bounds['joint'] = np.stack([joint_values - delta, joint_values + delta], axis=0)\n",
    "\n",
    "    return bounds"
   ]
  },
  {
   "cell_type": "code",
   "execution_count": 183,
   "metadata": {},
   "outputs": [],
   "source": [
    "def exact_moments(params, beta, delta=0.01):\n",
    "    '''\n",
    "    Compute exact moments for a reaction network with given parameters, applying\n",
    "    given capture efficiency to product observed moments\n",
    "    '''\n",
    "\n",
    "    # only valid when no interaction\n",
    "    if params['k_reg'] > 0:\n",
    "        print(\"ERROR: Invalid for k_reg > 0\")\n",
    "        return None\n",
    "\n",
    "    # capture efficiency moments\n",
    "    E_beta = np.mean(beta)\n",
    "    E_beta_sq = np.mean(beta**2)\n",
    "\n",
    "    # OG moments\n",
    "    E_x1_OG = params['k_tx_1'] / params['k_deg_1']\n",
    "    E_x2_OG = params['k_tx_2'] / params['k_deg_2']\n",
    "    E_x1_x2_OG = E_x1_OG * E_x2_OG\n",
    "\n",
    "    # OB moments\n",
    "    E_x1_OB = E_x1_OG * E_beta\n",
    "    E_x2_OB = E_x2_OG * E_beta\n",
    "    E_x1_x2_OB = E_x1_x2_OG * E_beta_sq\n",
    "\n",
    "    # width for numerics\n",
    "    eps = np.array([-delta, delta])\n",
    "\n",
    "    # collect moments\n",
    "    result_dict = {\n",
    "        'E_x1': E_x1_OB + eps,\n",
    "        'E_x2': E_x2_OB + eps,\n",
    "        'E_x1_x2': E_x1_x2_OB + eps\n",
    "    }\n",
    "\n",
    "    return result_dict"
   ]
  },
  {
   "cell_type": "markdown",
   "metadata": {},
   "source": [
    "## Pre processing"
   ]
  },
  {
   "cell_type": "code",
   "execution_count": 184,
   "metadata": {},
   "outputs": [],
   "source": [
    "def summarise_truncation(truncation_OB, truncationM_OB):\n",
    "    '''\n",
    "    Summarise states included in collection of observed truncations\n",
    "    '''\n",
    "\n",
    "    # state set\n",
    "    state_pairs = set()\n",
    "    states = set()\n",
    "\n",
    "    # add each state pair in truncation\n",
    "    for x1_OB in range(truncation_OB['min_x1_OB'], truncation_OB['max_x1_OB'] + 1):\n",
    "        for x2_OB in range(truncation_OB['min_x2_OB'], truncation_OB['max_x2_OB'] + 1):\n",
    "\n",
    "            # add to set\n",
    "            state_pairs.add((x1_OB, x2_OB))\n",
    "            states.add(x1_OB)\n",
    "            states.add(x2_OB)\n",
    "\n",
    "    # also add any single states (not pairs) in marginal truncation that were missed\n",
    "    for x1_OB in range(truncationM_OB['minM_x1_OB'], truncationM_OB['maxM_x1_OB'] + 1):\n",
    "        states.add(x1_OB)\n",
    "    for x2_OB in range(truncationM_OB['minM_x2_OB'], truncationM_OB['maxM_x2_OB'] + 1):\n",
    "        states.add(x2_OB)\n",
    "\n",
    "    # collect info\n",
    "    info_dict = {\n",
    "        'state_pairs': state_pairs,\n",
    "        'states': states\n",
    "    }\n",
    "\n",
    "    return info_dict"
   ]
  },
  {
   "cell_type": "code",
   "execution_count": 6,
   "metadata": {},
   "outputs": [],
   "source": [
    "def Bm_trunc(x_OB, x_OG, beta):\n",
    "    return np.mean(scipy.stats.binom.pmf(x_OB, x_OG, beta))"
   ]
  },
  {
   "cell_type": "code",
   "execution_count": 106,
   "metadata": {},
   "outputs": [],
   "source": [
    "def marginal_truncation(x_OB, beta, thresh_OG=10**-6):\n",
    "\n",
    "    # start at first non-zero coefficient\n",
    "    x_OG = x_OB\n",
    "    coeff = Bm_trunc(x_OB, x_OG, beta)\n",
    "\n",
    "    # if not above threshold: increment until above\n",
    "    while coeff < thresh_OG:\n",
    "\n",
    "        # increment\n",
    "        x_OG += 1\n",
    "\n",
    "        # compute coeff\n",
    "        coeff = Bm_trunc(x_OB, x_OG, beta)\n",
    "\n",
    "    # store first state coeff >= thresh\n",
    "    minM_OG = x_OG\n",
    "\n",
    "    # increment until below threshold\n",
    "    while coeff >= thresh_OG:\n",
    "\n",
    "        # increment\n",
    "        x_OG += 1\n",
    "\n",
    "        # compute coeff\n",
    "        coeff = Bm_trunc(x_OB, x_OG, beta)\n",
    "\n",
    "    # store last state with coeff >= thresh (INCLUSIVE BOUND)\n",
    "    maxM_OG = x_OG - 1\n",
    "\n",
    "    return minM_OG, maxM_OG"
   ]
  },
  {
   "cell_type": "code",
   "execution_count": 209,
   "metadata": {},
   "outputs": [],
   "source": [
    "def marginal_truncation_new(x_OB, beta):\n",
    "\n",
    "    # min OG count 0\n",
    "    minM_OG = 0\n",
    "\n",
    "    # simply scale by mean capture\n",
    "    maxM_OG = int(x_OB / np.mean(beta)) + 1\n",
    "\n",
    "    return minM_OG, maxM_OG"
   ]
  },
  {
   "cell_type": "code",
   "execution_count": 186,
   "metadata": {},
   "outputs": [],
   "source": [
    "def original_truncation(truncation_summary, beta, thresh_OG=10**-6, new_method=False):\n",
    "    \n",
    "    # collect OG truncations\n",
    "    truncation_dict = {}\n",
    "\n",
    "    # compute truncation for each observed count\n",
    "    for x_OB in tqdm.tqdm(truncation_summary['states']):\n",
    "        \n",
    "        if new_method:\n",
    "            minM_OG, maxM_OG = marginal_truncation_new(x_OB, beta)\n",
    "        else:\n",
    "            minM_OG, maxM_OG = marginal_truncation(x_OB, beta, thresh_OG)\n",
    "\n",
    "        # store\n",
    "        truncation_dict[x_OB] = (minM_OG, maxM_OG)\n",
    "\n",
    "    return truncation_dict"
   ]
  },
  {
   "cell_type": "code",
   "execution_count": 187,
   "metadata": {},
   "outputs": [],
   "source": [
    "def Bm_matrix(x_OB, x_OG, beta):\n",
    "    return scipy.stats.binom.pmf(x_OB, x_OG, beta)"
   ]
  },
  {
   "cell_type": "code",
   "execution_count": 188,
   "metadata": {},
   "outputs": [],
   "source": [
    "def compute_coefficients(truncation_summary, truncation_OG, beta, thresh_OG=10**-6):\n",
    "\n",
    "    # store marginal grids\n",
    "    marginal_grids = {}\n",
    "\n",
    "    # loop over observed counts\n",
    "    for x_OB in tqdm.tqdm(truncation_summary['states']):\n",
    "        \n",
    "        # get truncation\n",
    "        minM_OG, maxM_OG = truncation_OG[x_OB]\n",
    "\n",
    "        # construct arrays for broadcasting\n",
    "        x_OB_arr = np.array([x_OB])[:, None]\n",
    "        x_OG_arr = np.arange(minM_OG, maxM_OG + 1)[:, None]\n",
    "        beta_arr = beta[None, :]\n",
    "          \n",
    "        # compute marginal grid\n",
    "        marginal_grid = Bm_matrix(x_OB_arr, x_OG_arr, beta_arr)\n",
    "\n",
    "        # store\n",
    "        marginal_grids[x_OB] = marginal_grid\n",
    "\n",
    "        # take mean over beta to get marginal coefficient array\n",
    "        marginal_array = np.mean(marginal_grid, axis=1)\n",
    "\n",
    "        # save\n",
    "        np.save(\n",
    "            f\"./Test-Info/Coefficients/state-{x_OB}.npy\",\n",
    "            marginal_array\n",
    "        )\n",
    "\n",
    "    # loop over oberved count pairs\n",
    "    for x1_OB, x2_OB in tqdm.tqdm(truncation_summary['state_pairs']):\n",
    "\n",
    "        # get marginal grids\n",
    "        grid_x1_OB = marginal_grids[x1_OB]\n",
    "        grid_x2_OB = marginal_grids[x2_OB]\n",
    "\n",
    "        # compute outer product\n",
    "        coeff_grid = grid_x1_OB @ grid_x2_OB.T\n",
    "\n",
    "        # threshold\n",
    "        coeff_grid[coeff_grid < thresh_OG] = 0.0\n",
    "\n",
    "        # divide by sample size\n",
    "        coeff_grid /= len(beta)\n",
    "\n",
    "        # save\n",
    "        np.save(\n",
    "            f\"./Test-Info/Coefficients/state-{x1_OB}-{x2_OB}.npy\",\n",
    "            coeff_grid\n",
    "        )"
   ]
  },
  {
   "cell_type": "code",
   "execution_count": 189,
   "metadata": {},
   "outputs": [],
   "source": [
    "def compute_original_extent(truncation_OB, truncationM_OB, truncation_OG):\n",
    "\n",
    "    # record min and max OG state extents\n",
    "    min_x1_OG_ext, max_x1_OG_ext = np.inf, 0\n",
    "    min_x2_OG_ext, max_x2_OG_ext = np.inf, 0\n",
    "\n",
    "    # loop over OG truncation to get OG states used and update extent\n",
    "    for x1_OB in range(truncation_OB['min_x1_OB'], truncation_OB['max_x1_OB'] + 1):\n",
    "        min_x1_OG, max_x1_OG = truncation_OG[x1_OB]\n",
    "        if min_x1_OG < min_x1_OG_ext:\n",
    "            min_x1_OG_ext = min_x1_OG\n",
    "        if max_x1_OG > max_x1_OG_ext:\n",
    "            max_x1_OG_ext = max_x1_OG\n",
    "\n",
    "    for x2_OB in range(truncation_OB['min_x2_OB'], truncation_OB['max_x2_OB'] + 1):\n",
    "        min_x2_OG, max_x2_OG = truncation_OG[x2_OB]\n",
    "        if min_x2_OG < min_x2_OG_ext:\n",
    "            min_x2_OG_ext = min_x2_OG\n",
    "        if max_x2_OG > max_x2_OG_ext:\n",
    "            max_x2_OG_ext = max_x2_OG\n",
    "\n",
    "    # repeat same process to update extent\n",
    "    for x1_OB in range(truncationM_OB['minM_x1_OB'], truncationM_OB['maxM_x1_OB'] + 1):\n",
    "        min_x1_OG, max_x1_OG = truncation_OG[x1_OB]\n",
    "        if min_x1_OG < min_x1_OG_ext:\n",
    "            min_x1_OG_ext = min_x1_OG\n",
    "        if max_x1_OG > max_x1_OG_ext:\n",
    "            max_x1_OG_ext = max_x1_OG\n",
    "\n",
    "    for x2_OB in range(truncationM_OB['minM_x2_OB'], truncationM_OB['maxM_x2_OB'] + 1):\n",
    "        min_x2_OG, max_x2_OG = truncation_OG[x2_OB]\n",
    "        if min_x2_OG < min_x2_OG_ext:\n",
    "            min_x2_OG_ext = min_x2_OG\n",
    "        if max_x2_OG > max_x2_OG_ext:\n",
    "            max_x2_OG_ext = max_x2_OG\n",
    "\n",
    "    # store extent for the sample\n",
    "    extent_dict = {\n",
    "        'min_x1_OG': min_x1_OG_ext,\n",
    "        'max_x1_OG': max_x1_OG_ext,\n",
    "        'min_x2_OG': min_x2_OG_ext,\n",
    "        'max_x2_OG': max_x2_OG_ext\n",
    "    }\n",
    "\n",
    "    return extent_dict"
   ]
  },
  {
   "cell_type": "markdown",
   "metadata": {},
   "source": [
    "## Combined"
   ]
  },
  {
   "cell_type": "code",
   "execution_count": 190,
   "metadata": {},
   "outputs": [],
   "source": [
    "def processing(params, beta, truncation_OB, truncationM_OB, delta=0.01, thresh_OG=10**-6, new_method=False):\n",
    "\n",
    "    # compute exact probabilities\n",
    "    bounds_OB = exact_probabilities(params, beta, truncation_OB, truncationM_OB, delta=delta)\n",
    "\n",
    "    # compute exact moments\n",
    "    moments_OB = exact_moments(params, beta, delta=delta)\n",
    "\n",
    "    # summarise observed truncations\n",
    "    truncation_summary = summarise_truncation(truncation_OB, truncationM_OB)\n",
    "\n",
    "    # compute original truncation\n",
    "    truncation_OG = original_truncation(truncation_summary, beta, thresh_OG, new_method)\n",
    "\n",
    "    # compute and store B and Bm coefficients\n",
    "    compute_coefficients(truncation_summary, truncation_OG, beta)\n",
    "\n",
    "    # compute original extent\n",
    "    extent_OG = compute_original_extent(truncation_OB, truncationM_OB, truncation_OG)\n",
    "\n",
    "    # return information\n",
    "    return bounds_OB, moments_OB, truncation_OG, extent_OG"
   ]
  },
  {
   "cell_type": "markdown",
   "metadata": {},
   "source": [
    "## Constraint functions"
   ]
  },
  {
   "cell_type": "code",
   "execution_count": 13,
   "metadata": {},
   "outputs": [],
   "source": [
    "def add_B_constraints(model, variables, bounds_OB, truncation_OB, truncation_OG):\n",
    "\n",
    "    # get OB truncation for sample\n",
    "    min_x1_OB = truncation_OB['min_x1_OB']\n",
    "    max_x1_OB = truncation_OB['max_x1_OB']\n",
    "    min_x2_OB = truncation_OB['min_x2_OB']\n",
    "    max_x2_OB = truncation_OB['max_x2_OB']\n",
    "\n",
    "    # get exact bounds\n",
    "    bounds = bounds_OB['joint']\n",
    "\n",
    "    # for each OB state pair in truncation\n",
    "    for x1_OB in range(min_x1_OB, max_x1_OB + 1):\n",
    "        for x2_OB in range(min_x2_OB, max_x2_OB + 1):\n",
    "\n",
    "            # get OG truncation for OB state pair\n",
    "            min_x1_OG, max_x1_OG = truncation_OG[x1_OB]\n",
    "            min_x2_OG, max_x2_OG = truncation_OG[x2_OB]\n",
    "            \n",
    "            # load coefficient grid for OB state pair\n",
    "            B_coeffs = np.load(f\"./Test-Info/Coefficients/state-{x1_OB}-{x2_OB}.npy\")\n",
    "\n",
    "            # slice variables to truncation\n",
    "            p1_slice = variables['p1'][min_x1_OG: max_x1_OG + 1]\n",
    "            p2_slice = variables['p2'][min_x2_OG: max_x2_OG + 1]\n",
    "\n",
    "            # bilinear form\n",
    "            sum_expr = p1_slice.T @ B_coeffs @ p2_slice\n",
    "        \n",
    "            # form constraints using CI bounds\n",
    "            model.addConstr(sum_expr >= bounds[0, x1_OB, x2_OB], name=f\"B_lb_{x1_OB}_{x2_OB}\")\n",
    "            model.addConstr(sum_expr <= bounds[1, x1_OB, x2_OB], name=f\"B_ub_{x1_OB}_{x2_OB}\")"
   ]
  },
  {
   "cell_type": "code",
   "execution_count": 14,
   "metadata": {},
   "outputs": [],
   "source": [
    "def add_marginal_B_constraints(model, variables, bounds_OB, truncationM_OB, truncation_OG):\n",
    "\n",
    "    # get marginal OB truncation for sample\n",
    "    minM_x1_OB = truncationM_OB['minM_x1_OB']\n",
    "    maxM_x1_OB = truncationM_OB['maxM_x1_OB']\n",
    "    minM_x2_OB = truncationM_OB['minM_x2_OB']\n",
    "    maxM_x2_OB = truncationM_OB['maxM_x2_OB']\n",
    "\n",
    "    # load CI bounds for sample\n",
    "    x1_bounds = bounds_OB['x1']\n",
    "    x2_bounds = bounds_OB['x2']\n",
    "\n",
    "    # for each OB state in truncation\n",
    "    for x1_OB in range(minM_x1_OB, maxM_x1_OB + 1):\n",
    "\n",
    "        # get OG truncation\n",
    "        min_x1_OG, max_x1_OG = truncation_OG[x1_OB]\n",
    "\n",
    "        # load marginal coefficient array for OB state\n",
    "        Bm_coeffs = np.load(f\"./Test-Info/Coefficients/state-{x1_OB}.npy\")\n",
    "\n",
    "        # slice variable to truncation\n",
    "        p1_slice = variables['p1'][min_x1_OG: max_x1_OG + 1]\n",
    "\n",
    "        # linear expression of sum\n",
    "        sum_expr = gp.quicksum(Bm_coeffs * p1_slice)\n",
    "\n",
    "        # form constraints using CI bounds\n",
    "        model.addConstr(sum_expr >= x1_bounds[0, x1_OB], name=f\"Bm_x1_lb_{x1_OB}\")\n",
    "        model.addConstr(sum_expr <= x1_bounds[1, x1_OB], name=f\"Bm_x1_ub_{x1_OB}\")\n",
    "\n",
    "    # repeat for x2\n",
    "    for x2_OB in range(minM_x2_OB, maxM_x2_OB + 1):\n",
    "\n",
    "        # get OG truncation\n",
    "        min_x2_OG, max_x2_OG = truncation_OG[x2_OB]\n",
    "\n",
    "        # load marginal coefficient array for OB state\n",
    "        Bm_coeffs = np.load(f\"./Test-Info/Coefficients/state-{x2_OB}.npy\")\n",
    "\n",
    "        # slice variable to truncation\n",
    "        p2_slice = variables['p2'][min_x2_OG: max_x2_OG + 1]\n",
    "\n",
    "        # linear expression of sum\n",
    "        sum_expr = gp.quicksum(Bm_coeffs * p2_slice)\n",
    "\n",
    "        # form constraints using CI bounds\n",
    "        model.addConstr(sum_expr >= x2_bounds[0, x2_OB], name=f\"Bm_x2_lb_{x2_OB}\")\n",
    "        model.addConstr(sum_expr <= x2_bounds[1, x2_OB], name=f\"Bm_x2_ub_{x2_OB}\")"
   ]
  },
  {
   "cell_type": "code",
   "execution_count": 76,
   "metadata": {},
   "outputs": [],
   "source": [
    "def add_moment_constraint(model, variables, extent_OG, moments_OB, beta):\n",
    "\n",
    "    # get extent of OG states\n",
    "    max_x1_OG = extent_OG['max_x1_OG']\n",
    "    max_x2_OG = extent_OG['max_x2_OG']\n",
    "\n",
    "    # get variables\n",
    "    p1 = variables['p1']\n",
    "    p2 = variables['p2']\n",
    "    E_x1 = model.addVar(vtype=GRB.CONTINUOUS, name=\"E_x1\")\n",
    "    E_x2 = model.addVar(vtype=GRB.CONTINUOUS, name=\"E_x2\")\n",
    "    variables['E_x1'] = E_x1\n",
    "    variables['E_x2'] = E_x2\n",
    "\n",
    "    # get capture efficiency moments\n",
    "    E_beta = np.mean(beta)\n",
    "    E_beta_sq = np.mean(beta**2)\n",
    "\n",
    "    # expressions for moments\n",
    "    expr_E_x1 = gp.quicksum(p1 * np.arange(max_x1_OG + 1))\n",
    "    expr_E_x2 = gp.quicksum(p2 * np.arange(max_x2_OG + 1))\n",
    "\n",
    "    # equate expressions\n",
    "    model.addConstr(E_x1 == expr_E_x1, name=\"E_x1_equality\")\n",
    "    model.addConstr(E_x2 == expr_E_x2, name=\"E_x2_equality\")\n",
    "\n",
    "    # moment bounds\n",
    "    model.addConstr(E_x1 <= moments_OB['E_x1'][1] / E_beta, name=\"E_x1_UB\")\n",
    "    model.addConstr(E_x1 >= moments_OB['E_x1'][0] / E_beta, name=\"E_x1_LB\")\n",
    "    model.addConstr(E_x2 <= moments_OB['E_x2'][1] / E_beta, name=\"E_x2_UB\")\n",
    "    model.addConstr(E_x2 >= moments_OB['E_x2'][0] / E_beta, name=\"E_x2_LB\")\n",
    "\n",
    "    # moment independence constraint\n",
    "    model.addConstr(E_x1 * E_x2 <= moments_OB['E_x1_x2'][1] / E_beta_sq, name=\"Indep_UB\")\n",
    "    model.addConstr(E_x1 * E_x2 >= moments_OB['E_x1_x2'][0] / E_beta_sq, name=\"Indep_LB\")"
   ]
  },
  {
   "cell_type": "code",
   "execution_count": 16,
   "metadata": {},
   "outputs": [],
   "source": [
    "def add_CME_constraints(model, variables, extent_OG):\n",
    "\n",
    "    # get extent of OG states\n",
    "    max_x1_OG = extent_OG['max_x1_OG']\n",
    "    max_x2_OG = extent_OG['max_x2_OG']\n",
    "\n",
    "    # get variables\n",
    "    p = variables['p']\n",
    "    k_tx_1 = variables['k_tx_1']\n",
    "    k_tx_2 = variables['k_tx_2']\n",
    "    k_deg_1 = variables['k_deg_2']\n",
    "    k_deg_2 = variables['k_deg_1']\n",
    "    \n",
    "    # manually add x1_OG = x2_OG = 0 constraint (to avoid p(0) terms)\n",
    "    model.addConstr(\n",
    "        0 == k_deg_1 * p[1, 0] + \\\n",
    "        k_deg_2 * p[0, 1] - \\\n",
    "        (k_tx_1 + k_tx_2) * p[0, 0],\n",
    "        name=\"CME_0_0\"\n",
    "    )\n",
    "\n",
    "    # manually add x1_OG = 0 constraints (to avoid p1(-1) terms)\n",
    "    model.addConstrs(\n",
    "        (\n",
    "            0 == k_tx_2 * p[0, x2_OG - 1] + \\\n",
    "            k_deg_1 * p[1, x2_OG] + \\\n",
    "            k_deg_2 * (x2_OG + 1) * p[0, x2_OG + 1] - \\\n",
    "            (k_tx_1 + k_tx_2 + k_deg_2 * x2_OG) * p[0, x2_OG]\n",
    "            for x2_OG in range(1, max_x2_OG)\n",
    "        ),\n",
    "        name=\"CME_0_x2\"\n",
    "    )\n",
    "    # manually add x2_OG = 0 constraints (to avoid p2(-1) terms)\n",
    "    model.addConstrs(\n",
    "        (\n",
    "            0 == k_tx_1 * p[x1_OG - 1, 0] + \\\n",
    "            k_deg_1 * (x1_OG + 1) * p[x1_OG + 1, 0] + \\\n",
    "            k_deg_2 * p[x1_OG, 1] - \\\n",
    "            (k_tx_1 + k_tx_2 + k_deg_1 * x1_OG) * p[x1_OG, 0]\n",
    "            for x1_OG in range(1, max_x1_OG)\n",
    "        ),\n",
    "        name=\"CME_x1_0\"\n",
    "    )\n",
    "\n",
    "    # add CME constraints\n",
    "    model.addConstrs(\n",
    "        (\n",
    "            0 == k_tx_1 * p[x1_OG - 1, x2_OG] + \\\n",
    "            k_tx_2 * p[x1_OG, x2_OG - 1] + \\\n",
    "            k_deg_1 * (x1_OG + 1) * p[x1_OG + 1, x2_OG] + \\\n",
    "            k_deg_2 * (x2_OG + 1) * p[x1_OG, x2_OG + 1] - \\\n",
    "            (k_tx_1 + k_tx_2 + k_deg_1 * x1_OG + k_deg_2 * x2_OG) * p[x1_OG, x2_OG]\n",
    "            for x1_OG in range(1, max_x1_OG)\n",
    "            for x2_OG in range(1, max_x2_OG)\n",
    "        ),\n",
    "        name=\"CME_x1_x2\"\n",
    "    )"
   ]
  },
  {
   "cell_type": "code",
   "execution_count": 17,
   "metadata": {},
   "outputs": [],
   "source": [
    "def add_marginal_CME_constraints(model, variables, extent_OG):\n",
    "\n",
    "    # get extent of OG states\n",
    "    max_x1_OG = extent_OG['max_x1_OG']\n",
    "    max_x2_OG = extent_OG['max_x2_OG']\n",
    "\n",
    "    # get variables\n",
    "    p1 = variables['p1']\n",
    "    p2 = variables['p2']\n",
    "    k_tx_1 = variables['k_tx_1']\n",
    "    k_tx_2 = variables['k_tx_2']\n",
    "    k_deg_1 = variables['k_deg_2']\n",
    "    k_deg_2 = variables['k_deg_1']\n",
    "\n",
    "    # construct Q matrices: 1 more column than square to add upper diagonal to last row\n",
    "    Q_tx_1 = (np.diag([1 for x in range(1, max_x1_OG + 1)], -1) - np.diag([1 for x in range(max_x1_OG + 1)]))[:-1, :]\n",
    "    Q_tx_2 = (np.diag([1 for x in range(1, max_x2_OG + 1)], -1) - np.diag([1 for x in range(max_x2_OG + 1)]))[:-1, :]\n",
    "    Q_deg_1 = (np.diag([x for x in range(1, max_x1_OG + 1)], 1) - np.diag([x for x in range(max_x1_OG + 1)]))[:-1, :]\n",
    "    Q_deg_2 = (np.diag([x for x in range(1, max_x2_OG + 1)], 1) - np.diag([x for x in range(max_x2_OG + 1)]))[:-1, :]\n",
    "\n",
    "    # add matrix constraints\n",
    "    model.addConstr(\n",
    "        k_tx_1 * (Q_tx_1 @ p1) + k_deg_1 * (Q_deg_1 @ p1) == 0,\n",
    "        name=\"Marginal_CME_x1\"\n",
    "    )\n",
    "\n",
    "    model.addConstr(\n",
    "        k_tx_2 * (Q_tx_2 @ p2) + k_deg_2 * (Q_deg_2 @ p2) == 0,\n",
    "        name=\"Marginal_CME_x2\"\n",
    "    )"
   ]
  },
  {
   "cell_type": "code",
   "execution_count": 18,
   "metadata": {},
   "outputs": [],
   "source": [
    "def add_base_constraints(model, variables):\n",
    "\n",
    "    # fix k_deg_1 = 1, k_deg = 2 for identifiability\n",
    "    model.addConstr(variables['k_deg_1'] == 1, name=\"Fix_k_deg_1\")\n",
    "    model.addConstr(variables['k_deg_2'] == 1, name=\"Fix_k_deg_2\")\n",
    "\n",
    "    # distributional constraints\n",
    "    model.addConstr(variables['p1'].sum() <= 1, name=\"Dist_x1\")\n",
    "    model.addConstr(variables['p2'].sum() <= 1, name=\"Dist_x2\")"
   ]
  },
  {
   "cell_type": "code",
   "execution_count": 19,
   "metadata": {},
   "outputs": [],
   "source": [
    "def add_factorization_constraint(model, variables):\n",
    "\n",
    "    # get variables\n",
    "    p1 = variables['p1']\n",
    "    p2 = variables['p2']\n",
    "    p = variables['p']\n",
    "\n",
    "    # outer product marginals\n",
    "    outer = p1[:, None] @ p2[None, :]\n",
    "\n",
    "    # equate dummy joint variable to product of marginals: all original states\n",
    "    model.addConstr(p == outer, name=f\"Joint_factorize\")"
   ]
  },
  {
   "cell_type": "markdown",
   "metadata": {},
   "source": [
    "## Optimization"
   ]
  },
  {
   "cell_type": "code",
   "execution_count": 236,
   "metadata": {},
   "outputs": [],
   "source": [
    "def construct_model(bounds_OB, moments_OB, truncation_OB, truncationM_OB, truncation_OG, extent_OG, beta, silent=True, time_limit=300):\n",
    "    \n",
    "    # WLS license\n",
    "    options = json.load(open(\"../../../WLS_credentials.json\"))\n",
    "\n",
    "    # silent\n",
    "    if silent:\n",
    "        options['OutputFlag'] = 0\n",
    "\n",
    "    # environment context\n",
    "    with gp.Env(params=options) as env:\n",
    "\n",
    "        # model context\n",
    "        with gp.Model('test-construction', env=env) as model:\n",
    "\n",
    "            # model settings\n",
    "            model.Params.TimeLimit = time_limit\n",
    "            K = 100\n",
    "\n",
    "            # variables\n",
    "\n",
    "            # marginal stationary distributions: original counts (size = largest original state used + 1)\n",
    "            p1 = model.addMVar(shape=(extent_OG['max_x1_OG'] + 1), vtype=GRB.CONTINUOUS, name=\"p1\", lb=0, ub=1)\n",
    "            p2 = model.addMVar(shape=(extent_OG['max_x2_OG'] + 1), vtype=GRB.CONTINUOUS, name=\"p2\", lb=0, ub=1)\n",
    "\n",
    "            # joint distribution\n",
    "            # p = model.addMVar(shape=(extent_OG['max_x1_OG'] + 1, extent_OG['max_x2_OG'] + 1), vtype=GRB.CONTINUOUS, name=\"p\", lb=0, ub=1)\n",
    "\n",
    "            # reaction rate constants\n",
    "            rate_names = ['k_tx_1', 'k_tx_2', 'k_deg_1', 'k_deg_2']\n",
    "            rates = model.addVars(rate_names, vtype=GRB.CONTINUOUS, lb=0, ub=K, name=rate_names)\n",
    "\n",
    "            # collect variables\n",
    "            variables = {\n",
    "            #    'p': p,\n",
    "                'p1': p1,\n",
    "                'p2': p2,\n",
    "                'k_tx_1': rates['k_tx_1'],\n",
    "                'k_tx_2': rates['k_tx_2'],\n",
    "                'k_deg_1': rates['k_deg_1'],\n",
    "                'k_deg_2': rates['k_deg_2']\n",
    "            }\n",
    "\n",
    "            # constraints\n",
    "\n",
    "            # base constraints\n",
    "            add_base_constraints(model, variables)\n",
    "\n",
    "            # independence constraints\n",
    "            # add_factorization_constraint(model, variables)\n",
    "\n",
    "            # B constraints\n",
    "            # add_B_constraints(model, variables, bounds_OB, truncation_OB, truncation_OG)\n",
    "\n",
    "            # marginal B constraints\n",
    "            # add_marginal_B_constraints(model, variables, bounds_OB, truncationM_OB, truncation_OG)\n",
    "\n",
    "            # moment constraints\n",
    "            add_moment_constraint(model, variables, extent_OG, moments_OB, beta)\n",
    "\n",
    "            # CME constraints\n",
    "            # add_CME_constraints(model, variables, extent_OG)\n",
    "\n",
    "            # marginal CME constraints\n",
    "            add_marginal_CME_constraints(model, variables, extent_OG)\n",
    "\n",
    "            # write to file\n",
    "            # model.write(\"./Test-Info/Models/constraint_test_new.lp\")\n",
    "\n",
    "            # solution dict\n",
    "            solution_dict = {}\n",
    "\n",
    "            # optimize rates\n",
    "            for name, rate in rates.items():\n",
    "                rate_dict = {}\n",
    "                model.setObjective(rate, GRB.MINIMIZE)\n",
    "                model.optimize()\n",
    "                rate_dict['min'] = model.ObjVal\n",
    "                rate_dict['min_status'] = status_codes[model.status]\n",
    "                model.setObjective(rate, GRB.MAXIMIZE)\n",
    "                model.optimize()\n",
    "                rate_dict['max'] = model.ObjVal\n",
    "                rate_dict['max_status'] = status_codes[model.status]\n",
    "\n",
    "                # store\n",
    "                solution_dict[name] = rate_dict\n",
    "\n",
    "                # display\n",
    "                print(f\"{name} in ({rate_dict['min']}, {rate_dict['max']}), status {rate_dict['min_status']}, {rate_dict['max_status']}\")\n",
    "\n",
    "    return solution_dict"
   ]
  },
  {
   "cell_type": "markdown",
   "metadata": {},
   "source": [
    "## Overall testing"
   ]
  },
  {
   "cell_type": "code",
   "execution_count": 192,
   "metadata": {},
   "outputs": [],
   "source": [
    "def exact_test(params, beta, truncation_OB, truncationM_OB, delta=0.01, silent=True, time_limit=300, custom_extent=None, thresh_OG=10**-6, new_method=False):\n",
    "\n",
    "    # get exact values and truncation info\n",
    "    bounds_OB, moments_OB, truncation_OG, extent_OG = processing(params, beta, truncation_OB, truncationM_OB, delta, thresh_OG, new_method)\n",
    "\n",
    "    if custom_extent:\n",
    "        extent_OG = custom_extent\n",
    "\n",
    "    # construct and optimize model\n",
    "    solutions = construct_model(bounds_OB, moments_OB, truncation_OB, truncationM_OB, truncation_OG, extent_OG, beta, silent=silent, time_limit=time_limit)\n",
    "\n",
    "    return solutions"
   ]
  },
  {
   "cell_type": "markdown",
   "metadata": {},
   "source": [
    "## Running"
   ]
  },
  {
   "cell_type": "markdown",
   "metadata": {},
   "source": [
    "### Conclusions\n",
    "\n",
    "- marginal probabilities + marginal CME: same results as with constant capture small OB truncation of exact probability values is enough to give exact upper and lower bounds on transcription parameters (expect same would hold for $k_{reg} > 0$ case if exact values were available)\n",
    "\n",
    "- moments + marginal CME: no upper bound on transcription parameters in any situation (even with extremely large truncation)\n",
    "\n",
    "- moment scaling truncation method (replacing thresholding B for marginal truncations by $[0, x^{OB} / \\mathbb{E}[\\beta]]$) works well for use with moments (also tested in 'moment_bootstrap') and avoids problems with infeasibility when using threshold truncation at high capture and small OB truncations. However, causes infeasibility when used with probabilities as size is too small / increases too slowly for even moderately large OB counts or lower captures."
   ]
  },
  {
   "cell_type": "code",
   "execution_count": 171,
   "metadata": {},
   "outputs": [
    {
     "name": "stderr",
     "output_type": "stream",
     "text": [
      "100%|██████████| 4/4 [00:00<00:00, 21.11it/s]\n",
      "100%|██████████| 4/4 [00:00<00:00, 372.83it/s]\n",
      "100%|██████████| 16/16 [00:00<00:00, 323.54it/s]\n"
     ]
    },
    {
     "name": "stdout",
     "output_type": "stream",
     "text": [
      "k_tx_1 in (1.9999978700492433, 2.0000019668188034), status OPTIMAL, OPTIMAL\n",
      "k_tx_2 in (1.9999973407456597, 1.9999973407456597), status OPTIMAL, OPTIMAL\n",
      "k_deg_1 in (1.0, 1.0), status OPTIMAL, OPTIMAL\n",
      "k_deg_2 in (1.0, 1.0), status OPTIMAL, OPTIMAL\n"
     ]
    }
   ],
   "source": [
    "params = {\n",
    "    'k_tx_1': 2,\n",
    "    'k_tx_2': 2,\n",
    "    'k_deg_1': 1,\n",
    "    'k_deg_2': 1,\n",
    "    'k_reg': 0\n",
    "}\n",
    "beta = np.array([0.06])\n",
    "M, N = 3, 3\n",
    "truncation_OB = {\n",
    "    'min_x1_OB': 0,\n",
    "    'min_x2_OB': 0,\n",
    "    'max_x1_OB': M,\n",
    "    'max_x2_OB': N\n",
    "}\n",
    "truncationM_OB = {\n",
    "    'minM_x1_OB': 0,\n",
    "    'minM_x2_OB': 0,\n",
    "    'maxM_x1_OB': M,\n",
    "    'maxM_x2_OB': N\n",
    "}\n",
    "# custom extent for moments\n",
    "custom_extent = {\n",
    "    'min_x1_OG': 0,\n",
    "    'max_x1_OG': 50,\n",
    "    'min_x2_OG': 0,\n",
    "    'max_x2_OG': 50\n",
    "}\n",
    "custom_extent=None\n",
    "solutions = exact_test(\n",
    "    params,\n",
    "    beta,\n",
    "    truncation_OB,\n",
    "    truncationM_OB,\n",
    "    delta=0.0000001,\n",
    "    silent=True,\n",
    "    time_limit=300,\n",
    "    custom_extent=custom_extent,\n",
    "    thresh_OG=10**-4\n",
    ")"
   ]
  },
  {
   "cell_type": "code",
   "execution_count": 179,
   "metadata": {},
   "outputs": [
    {
     "name": "stdout",
     "output_type": "stream",
     "text": [
      "(0, 847)\n",
      "(1, 1085)\n",
      "(2, 1289)\n",
      "(4, 1475)\n",
      "(8, 1650)\n",
      "(13, 1818)\n",
      "(19, 1980)\n",
      "(27, 2138)\n",
      "(35, 2292)\n",
      "(44, 2443)\n"
     ]
    }
   ],
   "source": [
    "rng = np.random.default_rng(111)\n",
    "beta = rng.beta(1, 20, size=1000)\n",
    "beta[beta < 0.01] = 0.01\n",
    "for x_OB in range(10):\n",
    "    print(marginal_truncation(x_OB, np.array([0.01, 0.05]), 10**-4))"
   ]
  },
  {
   "cell_type": "code",
   "execution_count": 237,
   "metadata": {},
   "outputs": [
    {
     "name": "stderr",
     "output_type": "stream",
     "text": [
      "100%|██████████| 6/6 [00:00<?, ?it/s]\n",
      "100%|██████████| 6/6 [00:00<00:00, 602.83it/s]\n",
      "100%|██████████| 36/36 [00:00<00:00, 482.63it/s]\n"
     ]
    },
    {
     "name": "stdout",
     "output_type": "stream",
     "text": [
      "k_tx_1 in (0.9993980353523594, 99.99999926845051), status OPTIMAL, OPTIMAL\n",
      "k_tx_2 in (0.9993980353523596, 99.99998569637052), status OPTIMAL, OPTIMAL\n",
      "k_deg_1 in (1.0, 1.0), status OPTIMAL, OPTIMAL\n",
      "k_deg_2 in (1.0, 1.0), status OPTIMAL, OPTIMAL\n"
     ]
    }
   ],
   "source": [
    "params = {\n",
    "    'k_tx_1': 1,\n",
    "    'k_tx_2': 1,\n",
    "    'k_deg_1': 1,\n",
    "    'k_deg_2': 1,\n",
    "    'k_reg': 0\n",
    "}\n",
    "beta = np.array([0.9])\n",
    "M, N = 5, 5\n",
    "truncation_OB = {\n",
    "    'min_x1_OB': 0,\n",
    "    'min_x2_OB': 0,\n",
    "    'max_x1_OB': M,\n",
    "    'max_x2_OB': N\n",
    "}\n",
    "truncationM_OB = {\n",
    "    'minM_x1_OB': 0,\n",
    "    'minM_x2_OB': 0,\n",
    "    'maxM_x1_OB': M,\n",
    "    'maxM_x2_OB': N\n",
    "}\n",
    "solutions = exact_test(params, beta, truncation_OB, truncationM_OB, delta=0.001, silent=True, time_limit=300, new_method=True)"
   ]
  },
  {
   "cell_type": "code",
   "execution_count": 235,
   "metadata": {},
   "outputs": [
    {
     "data": {
      "text/plain": [
       "((5, 14), (0, 6))"
      ]
     },
     "execution_count": 235,
     "metadata": {},
     "output_type": "execute_result"
    }
   ],
   "source": [
    "marginal_truncation(5, 0.9), marginal_truncation_new(5, 0.9)"
   ]
  },
  {
   "cell_type": "markdown",
   "metadata": {},
   "source": [
    "## Illustration of sums"
   ]
  },
  {
   "cell_type": "code",
   "execution_count": 4,
   "metadata": {},
   "outputs": [],
   "source": [
    "def B(x_OB, x_OG, beta):\n",
    "    return scipy.stats.binom.pmf(x_OB, x_OG, beta).mean()"
   ]
  },
  {
   "cell_type": "code",
   "execution_count": 6,
   "metadata": {},
   "outputs": [
    {
     "data": {
      "text/plain": [
       "array([0., 0., 0.])"
      ]
     },
     "execution_count": 6,
     "metadata": {},
     "output_type": "execute_result"
    }
   ],
   "source": [
    "y = np.array([0.0, 0.0, 0.0])\n",
    "log_y = np.log10(y, where=(y!=0.0))\n",
    "log_y"
   ]
  },
  {
   "cell_type": "code",
   "execution_count": 10,
   "metadata": {},
   "outputs": [
    {
     "data": {
      "image/png": "[encoded data removed]",
      "text/plain": [
       "<Figure size 640x480 with 1 Axes>"
      ]
     },
     "metadata": {},
     "output_type": "display_data"
    },
    {
     "data": {
      "text/plain": [
       "<matplotlib.legend.Legend at 0x2e3f13e3100>"
      ]
     },
     "execution_count": 10,
     "metadata": {},
     "output_type": "execute_result"
    },
    {
     "data": {
      "image/png": "[encoded data removed]",
      "text/plain": [
       "<Figure size 640x480 with 1 Axes>"
      ]
     },
     "metadata": {},
     "output_type": "display_data"
    }
   ],
   "source": [
    "rate = 2\n",
    "beta = 0.25\n",
    "M = 20\n",
    "x_OB = 5\n",
    "p1 = scipy.stats.poisson.pmf(np.array([x1 for x1 in range(0, M + 1)])[:, None], beta * rate).mean(axis=1)\n",
    "B_coefs = np.array([B(x_OB, x_OG, beta) for x_OG in range(M + 1)])\n",
    "M_coefs = np.arange(M + 1)\n",
    "prob_terms = p1 * B_coefs\n",
    "moment_terms = p1 * M_coefs\n",
    "cum_prob_terms = np.cumsum(prob_terms)\n",
    "cum_moment_terms = np.cumsum(moment_terms)\n",
    "'''\n",
    "Need to run log10 lines twice to avoid numpy bug taking random values from memory rather than leaving as 0.0\n",
    "'''\n",
    "log_cum_prob_terms = np.log10(cum_prob_terms, where=(cum_prob_terms!=0.0))\n",
    "log_cum_prob_terms = np.log10(cum_prob_terms, where=(cum_prob_terms!=0.0))\n",
    "log_cum_moment_terms = np.log10(cum_moment_terms, where=(cum_moment_terms!=0.0))\n",
    "log_cum_moment_terms = np.log10(cum_moment_terms, where=(cum_moment_terms!=0.0))\n",
    "plt.plot(cum_prob_terms, label=\"Prob\")\n",
    "plt.show()\n",
    "plt.plot(cum_moment_terms, label=\"Moment\")\n",
    "plt.legend()"
   ]
  }
 ],
 "metadata": {
  "kernelspec": {
   "display_name": "M5R_venv",
   "language": "python",
   "name": "python3"
  },
  "language_info": {
   "codemirror_mode": {
    "name": "ipython",
    "version": 3
   },
   "file_extension": ".py",
   "mimetype": "text/x-python",
   "name": "python",
   "nbconvert_exporter": "python",
   "pygments_lexer": "ipython3",
   "version": "3.10.11"
  }
 },
 "nbformat": 4,
 "nbformat_minor": 2
}
