{
 "cells": [
  {
   "cell_type": "code",
   "execution_count": 103,
   "metadata": {},
   "outputs": [],
   "source": [
    "import numpy as np\n",
    "import matplotlib.pyplot as plt\n",
    "import pandas as pd\n",
    "import time\n",
    "import gurobipy as gp\n",
    "from gurobipy import GRB\n",
    "import scipy\n",
    "import tqdm\n",
    "from ast import literal_eval\n",
    "import json\n",
    "from time import time\n",
    "import os"
   ]
  },
  {
   "cell_type": "code",
   "execution_count": 19,
   "metadata": {},
   "outputs": [],
   "source": [
    "status_codes = {\n",
    "    1: 'LOADED',\n",
    "    2: 'OPTIMAL',\n",
    "    3: 'INFEASIBLE',\n",
    "    4: 'INF_OR_UNBD',\n",
    "    5: 'UNBOUNDED',\n",
    "    6: 'CUTOFF',\n",
    "    7: 'ITERATION_LIMIT',\n",
    "    8: 'NODE_LIMIT',\n",
    "    9: 'TIME_LIMIT',\n",
    "    10: 'SOLUTION_LIMIT',\n",
    "    11: 'INTERRUPTED',\n",
    "    12: 'NUMERIC',\n",
    "    13: 'SUBOPTIMAL',\n",
    "    14: 'INPROGRESS',\n",
    "    15: 'USER_OBJ_LIMIT'\n",
    "}"
   ]
  },
  {
   "cell_type": "code",
   "execution_count": 20,
   "metadata": {},
   "outputs": [],
   "source": [
    "rng = np.random.default_rng()"
   ]
  },
  {
   "cell_type": "markdown",
   "metadata": {},
   "source": [
    "# Comparison\n",
    "\n",
    "Setup moment and probability optimizations and compare results\n",
    "\n",
    "Looking now at per cell capture efficiency values, also compare to correlation tests which are then affected by positive correlation introduced by downsampling\n",
    "\n",
    "## Contents\n",
    "\n",
    "- simulation of basic datasets e.g. varied interaction strength for different capture efficiencies (constant per dataset)\n",
    "- pre-processing (bootstrap) and optimization setup for probabilities and moments\n",
    "- correlation test analyis\n",
    "- result comparison"
   ]
  },
  {
   "cell_type": "markdown",
   "metadata": {},
   "source": [
    "# Simulation"
   ]
  },
  {
   "cell_type": "markdown",
   "metadata": {},
   "source": [
    "## Code"
   ]
  },
  {
   "cell_type": "markdown",
   "metadata": {},
   "source": [
    "### Sample simulation\n",
    "\n",
    "Use gillespie algorithm to simulate a sample path of reaction network with given parameters, taking n samples from the stationary distribution"
   ]
  },
  {
   "cell_type": "code",
   "execution_count": 21,
   "metadata": {},
   "outputs": [],
   "source": [
    "def gillespie(params, n, tmax=100, ts=10, plot=False, initial_state=(0, 0)):\n",
    "    '''\n",
    "    Simulate a sample path of the birth death regulation model\n",
    "    Sample n values at intervals of ts after a burn-in time of tmax\n",
    "\n",
    "    params: dict of reaction rate constants\n",
    "    n: number of samples\n",
    "    tmax: burn in time\n",
    "    ts: time between samples\n",
    "    '''\n",
    "\n",
    "    # initialize random generator\n",
    "    rng = np.random.default_rng()\n",
    "\n",
    "    # initialise time and state\n",
    "    t = 0\n",
    "    path = [initial_state]\n",
    "    jump_times = [0]\n",
    "\n",
    "    # simulate for burn-in time and time between n samples\n",
    "    while t < tmax + (n - 1) * ts:\n",
    "\n",
    "        # current state\n",
    "        x1, x2 = path[-1][0], path[-1][1]\n",
    "\n",
    "        # transition rates\n",
    "        q_tx_1 = params['k_tx_1']\n",
    "        q_tx_2 = params['k_tx_2']\n",
    "        q_deg_1 = x1 * params['k_deg_1']\n",
    "        q_deg_2 = x2 * params['k_deg_2']\n",
    "        q_reg = x1 * x2 * params['k_reg']\n",
    "        q_hold = q_tx_1 + q_tx_2 + q_deg_1 + q_deg_2 + q_reg\n",
    "\n",
    "        # holding time in current state\n",
    "        t_hold = -np.log(rng.uniform()) / q_hold\n",
    "        t += t_hold\n",
    "        jump_times.append(t)\n",
    "\n",
    "        # jump probability\n",
    "        outcome = [1, 2, 3, 4, 5]\n",
    "        prob = [\n",
    "            q_tx_1 / q_hold,\n",
    "            q_tx_2 / q_hold,\n",
    "            q_deg_1 / q_hold,\n",
    "            q_deg_2 / q_hold,\n",
    "            q_reg / q_hold\n",
    "        ]\n",
    "        jump = rng.choice(outcome, p=prob)\n",
    "        match jump:\n",
    "            case 1:\n",
    "                path.append((x1 + 1, x2))\n",
    "            case 2:\n",
    "                path.append((x1, x2 + 1))\n",
    "            case 3:\n",
    "                path.append((x1 - 1, x2))\n",
    "            case 4:\n",
    "                path.append((x1, x2 - 1))\n",
    "            case 5:\n",
    "                path.append((x1 - 1, x2 - 1))\n",
    "\n",
    "    # take the transcript states\n",
    "    x1_path = [state[0] for state in path]\n",
    "    x2_path = [state[1] for state in path]\n",
    "\n",
    "    # create step function of sample path from jump times and jump values\n",
    "    x1_path_function = scipy.interpolate.interp1d(jump_times, x1_path, kind='previous')\n",
    "    x2_path_function = scipy.interpolate.interp1d(jump_times, x2_path, kind='previous')\n",
    "\n",
    "    # take values at sampling times as samples from stationary dist\n",
    "    sample_times = [tmax + i * ts for i in range(n)]\n",
    "    x1_samples = x1_path_function(sample_times)\n",
    "    x2_samples = x2_path_function(sample_times)\n",
    "\n",
    "    # convert to integers\n",
    "    x1_samples = [int(x1) for x1 in x1_samples]\n",
    "    x2_samples = [int(x2) for x2 in x2_samples]\n",
    "\n",
    "    # re-combine to pairs of samples\n",
    "    samples = list(zip(x1_samples, x2_samples))\n",
    "\n",
    "    # plot sample paths\n",
    "    if plot:\n",
    "        x = np.linspace(0, tmax + (n - 1) * ts, 10000)\n",
    "        plt.plot(x, x1_path_function(x), label=\"X1 sample path\", color=\"blue\")\n",
    "        plt.plot(x, x2_path_function(x), label=\"X2 sample path\", color=\"purple\")\n",
    "        #plt.axvline(tmax, label=\"Burn-in time\", color=\"orange\")\n",
    "        plt.xlabel(\"Time\")\n",
    "        plt.ylabel(\"Counts\")\n",
    "        plt.legend()\n",
    "        plt.show()\n",
    "\n",
    "    return samples"
   ]
  },
  {
   "cell_type": "markdown",
   "metadata": {},
   "source": [
    "### Dataset simulation\n",
    "\n",
    "Produce a dataset of pairs of samples simulated by gillespie with no downsampling (!)\n",
    "\n",
    "Interaction strength decreases over dataset for testing"
   ]
  },
  {
   "cell_type": "code",
   "execution_count": 22,
   "metadata": {},
   "outputs": [],
   "source": [
    "def simulate_dataset(cells, interaction_values):\n",
    "    '''\n",
    "    Produce a dataset of pairs of samples simulated with interaction strengths\n",
    "    given by 'interaction_values' and sample size = cells\n",
    "\n",
    "    Return count and parameter dataframes\n",
    "    '''\n",
    "\n",
    "    # number of pairs\n",
    "    gene_pairs = len(interaction_values)\n",
    "\n",
    "    # dataframes\n",
    "    params_df = pd.DataFrame(index=[f\"Gene-pair-{i}\" for i in range(gene_pairs)], columns=['k_tx_1', 'k_tx_2', 'k_deg_1', 'k_deg_2', 'k_reg'])\n",
    "    counts_df = pd.DataFrame(index=[f\"Gene-pair-{i}\" for i in range(gene_pairs)], columns=[f\"Cell-{j}\" for j in range(cells)])\n",
    "\n",
    "    # for each gene\n",
    "    for i in tqdm.tqdm(range(gene_pairs)):\n",
    "\n",
    "        # Set reaction rate parameters\n",
    "        k_tx_1 = 1\n",
    "        k_tx_2 = 1\n",
    "        k_deg_1 = 1\n",
    "        k_deg_2 = 1\n",
    "        k_reg = interaction_values[i]\n",
    "\n",
    "        # store parameters\n",
    "        params_df.iloc[i] = [k_tx_1, k_tx_2, k_deg_1, k_deg_2, k_reg]\n",
    "\n",
    "        params = {\n",
    "            'k_tx_1': k_tx_1,\n",
    "            'k_tx_2': k_tx_2,\n",
    "            'k_deg_1': k_deg_1,\n",
    "            'k_deg_2': k_deg_2,\n",
    "            'k_reg': k_reg\n",
    "        }\n",
    "\n",
    "        # simulate sample from model\n",
    "        sample = gillespie(params, cells)\n",
    "\n",
    "        # store counts\n",
    "        counts_df.iloc[i] = sample\n",
    "\n",
    "    return {'params_df': params_df, 'counts_df': counts_df}"
   ]
  },
  {
   "cell_type": "markdown",
   "metadata": {},
   "source": [
    "### Downsampling simulation\n",
    "\n",
    "Apply binomial downsampling to a dataset of samples given a capture efficiency vector"
   ]
  },
  {
   "cell_type": "code",
   "execution_count": 23,
   "metadata": {},
   "outputs": [],
   "source": [
    "def simulate_downsampled_dataset(counts_df, beta):\n",
    "    '''\n",
    "    Apply capture efficiency vector 'beta' to produce downsampled dataset using\n",
    "    the given 'count_df'\n",
    "    '''\n",
    "\n",
    "    # get dataset size\n",
    "    gene_pairs, cells = counts_df.shape\n",
    "\n",
    "    # error if incomptible cell numbers\n",
    "    if not (cells == beta.shape[0]):\n",
    "        print(\"Incompatible cell numbers\")\n",
    "        return None\n",
    "    \n",
    "    # initialize random generator\n",
    "    rng = np.random.default_rng()\n",
    "\n",
    "    # setup downsampled dataset\n",
    "    downsampled_counts_df = pd.DataFrame(index=[f\"Gene-pair-{i}\" for i in range(gene_pairs)], columns=[f\"Cell-{j}\" for j in range(cells)])\n",
    "\n",
    "    for i in range(gene_pairs):\n",
    "\n",
    "        # extract counts\n",
    "        sample = counts_df.iloc[i]\n",
    "        x1_sample = [x[0] for x in sample]\n",
    "        x2_sample = [x[1] for x in sample]\n",
    "\n",
    "        # downsample\n",
    "        x1_sample_downsampled = rng.binomial(x1_sample, beta).tolist()\n",
    "        x2_sample_downsampled = rng.binomial(x2_sample, beta).tolist()\n",
    "        sample_downsampled = list(zip(x1_sample_downsampled, x2_sample_downsampled))\n",
    "        \n",
    "        # store counts\n",
    "        downsampled_counts_df.iloc[i] = sample_downsampled\n",
    "\n",
    "    return downsampled_counts_df"
   ]
  },
  {
   "cell_type": "markdown",
   "metadata": {},
   "source": [
    "## Running"
   ]
  },
  {
   "cell_type": "markdown",
   "metadata": {},
   "source": [
    "### Original dataset"
   ]
  },
  {
   "cell_type": "code",
   "execution_count": 24,
   "metadata": {},
   "outputs": [
    {
     "name": "stderr",
     "output_type": "stream",
     "text": [
      "100%|██████████| 9/9 [00:07<00:00,  1.27it/s]\n"
     ]
    }
   ],
   "source": [
    "# simulate original dataset\n",
    "datasets = simulate_dataset(\n",
    "    cells = 1000,\n",
    "    interaction_values = [10, 5, 2, 1, 0.75, 0.5, 0.25, 0.1, 0]\n",
    ")"
   ]
  },
  {
   "cell_type": "code",
   "execution_count": 25,
   "metadata": {},
   "outputs": [],
   "source": [
    "# store\n",
    "datasets['params_df'].to_csv(\"./Test-Info/Data/params.csv\")\n",
    "datasets['counts_df'].to_csv(\"./Test-Info/Data/counts.csv\")"
   ]
  },
  {
   "cell_type": "markdown",
   "metadata": {},
   "source": [
    "### High capture"
   ]
  },
  {
   "cell_type": "code",
   "execution_count": 23,
   "metadata": {},
   "outputs": [],
   "source": [
    "# sample a high capture\n",
    "beta_high = rng.uniform(0.8, 1.0, size=1000)"
   ]
  },
  {
   "cell_type": "code",
   "execution_count": 26,
   "metadata": {},
   "outputs": [],
   "source": [
    "# store\n",
    "np.savetxt(\"./Test-Info/Data/beta_unif_high.csv\", beta_high, delimiter=\",\")"
   ]
  },
  {
   "cell_type": "code",
   "execution_count": 27,
   "metadata": {},
   "outputs": [],
   "source": [
    "# downsample dataset\n",
    "counts_downsampled = simulate_downsampled_dataset(datasets['counts_df'], beta_high)"
   ]
  },
  {
   "cell_type": "code",
   "execution_count": 28,
   "metadata": {},
   "outputs": [],
   "source": [
    "# store\n",
    "counts_downsampled.to_csv(\"./Test-Info/Data/counts_unif_high.csv\")"
   ]
  },
  {
   "cell_type": "markdown",
   "metadata": {},
   "source": [
    "### Medium capture"
   ]
  },
  {
   "cell_type": "code",
   "execution_count": 121,
   "metadata": {},
   "outputs": [],
   "source": [
    "# sample a medium capture\n",
    "beta_medium = rng.uniform(0.4, 0.6, size=1000)"
   ]
  },
  {
   "cell_type": "code",
   "execution_count": 122,
   "metadata": {},
   "outputs": [],
   "source": [
    "# store\n",
    "np.savetxt(\"./Test-Info/Data/beta_unif_med.csv\", beta_medium, delimiter=\",\")"
   ]
  },
  {
   "cell_type": "code",
   "execution_count": 123,
   "metadata": {},
   "outputs": [],
   "source": [
    "# downsample dataset\n",
    "counts_downsampled = simulate_downsampled_dataset(datasets['counts_df'], beta_medium)"
   ]
  },
  {
   "cell_type": "code",
   "execution_count": 124,
   "metadata": {},
   "outputs": [],
   "source": [
    "# store\n",
    "counts_downsampled.to_csv(\"./Test-Info/Data/counts_unif_med.csv\")"
   ]
  },
  {
   "cell_type": "markdown",
   "metadata": {},
   "source": [
    "### Low capture"
   ]
  },
  {
   "cell_type": "code",
   "execution_count": 138,
   "metadata": {},
   "outputs": [],
   "source": [
    "# sample a low capture\n",
    "beta_low = rng.uniform(0.1, 0.3, size=1000)"
   ]
  },
  {
   "cell_type": "code",
   "execution_count": 139,
   "metadata": {},
   "outputs": [],
   "source": [
    "# store\n",
    "np.savetxt(\"./Test-Info/Data/beta_unif_low.csv\", beta_low, delimiter=\",\")"
   ]
  },
  {
   "cell_type": "code",
   "execution_count": 140,
   "metadata": {},
   "outputs": [],
   "source": [
    "# downsample dataset\n",
    "counts_downsampled = simulate_downsampled_dataset(datasets['counts_df'], beta_low)"
   ]
  },
  {
   "cell_type": "code",
   "execution_count": 141,
   "metadata": {},
   "outputs": [],
   "source": [
    "# store\n",
    "counts_downsampled.to_csv(\"./Test-Info/Data/counts_unif_low.csv\")"
   ]
  },
  {
   "cell_type": "markdown",
   "metadata": {},
   "source": [
    "### Alternate datasets"
   ]
  },
  {
   "cell_type": "code",
   "execution_count": 282,
   "metadata": {},
   "outputs": [
    {
     "name": "stderr",
     "output_type": "stream",
     "text": [
      "100%|██████████| 14/14 [00:25<00:00,  1.85s/it]\n"
     ]
    }
   ],
   "source": [
    "# simulate original dataset\n",
    "datasets = simulate_dataset(\n",
    "    cells = 1000,\n",
    "    interaction_values = [50, 20, 10, 8, 6, 4, 2, 1, 0.8, 0.6, 0.4, 0.2, 0.1, 0]\n",
    ")"
   ]
  },
  {
   "cell_type": "code",
   "execution_count": 283,
   "metadata": {},
   "outputs": [],
   "source": [
    "# store\n",
    "datasets['params_df'].to_csv(\"./Test-Info/Data/params_alt.csv\")\n",
    "datasets['counts_df'].to_csv(\"./Test-Info/Data/counts_alt.csv\")"
   ]
  },
  {
   "cell_type": "code",
   "execution_count": 307,
   "metadata": {},
   "outputs": [
    {
     "name": "stderr",
     "output_type": "stream",
     "text": [
      "100%|██████████| 10/10 [00:20<00:00,  2.07s/it]\n"
     ]
    }
   ],
   "source": [
    "# simulate original dataset\n",
    "datasets = simulate_dataset(\n",
    "    cells = 1000,\n",
    "    interaction_values = [2.6, 2.4, 2.2, 2, 1.8, 1.6, 1.4, 1.2, 1, 0.8]\n",
    ")"
   ]
  },
  {
   "cell_type": "code",
   "execution_count": 308,
   "metadata": {},
   "outputs": [],
   "source": [
    "# store\n",
    "datasets['params_df'].to_csv(\"./Test-Info/Data/params_focus.csv\")\n",
    "datasets['counts_df'].to_csv(\"./Test-Info/Data/counts_focus.csv\")"
   ]
  },
  {
   "cell_type": "markdown",
   "metadata": {},
   "source": [
    "### Low capture"
   ]
  },
  {
   "cell_type": "code",
   "execution_count": 294,
   "metadata": {},
   "outputs": [],
   "source": [
    "# sample a low capture\n",
    "beta_low = rng.beta(1, 20, size=1000)\n",
    "beta_low[beta_low < 0.01] = 0.01"
   ]
  },
  {
   "cell_type": "code",
   "execution_count": null,
   "metadata": {},
   "outputs": [],
   "source": [
    "# store\n",
    "np.savetxt(\"./Test-Info/Data/beta_low_alt.csv\", beta_low, delimiter=\",\")"
   ]
  },
  {
   "cell_type": "code",
   "execution_count": 296,
   "metadata": {},
   "outputs": [],
   "source": [
    "# downsample dataset\n",
    "counts_downsampled = simulate_downsampled_dataset(datasets['counts_df'], beta_low)"
   ]
  },
  {
   "cell_type": "code",
   "execution_count": null,
   "metadata": {},
   "outputs": [],
   "source": [
    "# store\n",
    "counts_downsampled.to_csv(\"./Test-Info/Data/counts_low_alt.csv\")"
   ]
  },
  {
   "cell_type": "markdown",
   "metadata": {},
   "source": [
    "### Low capture: focused on int strength [1, 2]"
   ]
  },
  {
   "cell_type": "code",
   "execution_count": 310,
   "metadata": {},
   "outputs": [],
   "source": [
    "# downsample dataset\n",
    "counts_downsampled = simulate_downsampled_dataset(datasets['counts_df'], beta_low)"
   ]
  },
  {
   "cell_type": "code",
   "execution_count": null,
   "metadata": {},
   "outputs": [],
   "source": [
    "# store\n",
    "counts_downsampled.to_csv(\"./Test-Info/Data/counts_low_focus.csv\")"
   ]
  },
  {
   "cell_type": "markdown",
   "metadata": {},
   "source": [
    "# Pre-processing"
   ]
  },
  {
   "cell_type": "markdown",
   "metadata": {},
   "source": [
    "## Code"
   ]
  },
  {
   "cell_type": "markdown",
   "metadata": {},
   "source": [
    "### Bootstrap: probabilities"
   ]
  },
  {
   "cell_type": "code",
   "execution_count": 24,
   "metadata": {},
   "outputs": [],
   "source": [
    "def bootstrap_probabilities(sample, resamples=None, splits=1, thresh_OB=10, threshM_OB=10, plot=False, printing=False):\n",
    "    '''\n",
    "    Compute confidence intervals on the distribution of a sample of count pairs.\n",
    "\n",
    "    Compute confidence intervals for the joint and marginal probabilities of the \n",
    "    sample using the percentile bootstrap and settings specified in the method\n",
    "    object. Compute a state space truncation using a given threshold on the\n",
    "    number of samples per interval, replacing intervals on probabilities of\n",
    "    states outside the truncation by [0, 1] to improve coverage.\n",
    "\n",
    "    Args:\n",
    "        sample: list of tuples (x1, x2) of integer counts per cell\n",
    "        method: instance of Hypothesis or Minimization class with settings\n",
    "                stored as attributes\n",
    "\n",
    "                .resamples: integer number of bootstrap resamples to use\n",
    "                .splits: integer number of times to 'split' resampling across\n",
    "                         multiple arrays to avoid memory issues\n",
    "                .thresh_OB: threshold on observation frequency of a state pair\n",
    "                            for state space truncation\n",
    "                .threshM_OB: threshold on observation frequency on a state for\n",
    "                             marginal state space truncation\n",
    "        \n",
    "        plot: toggle plotting of confidence intervals and estimates\n",
    "        print: toggle printing of observed state space truncation\n",
    "\n",
    "    Returns:\n",
    "        A dictionary containing results\n",
    "\n",
    "        Sample information:\n",
    "\n",
    "        'sample': original sample used\n",
    "        'sample_counts': occurances of each state pair in the original sample\n",
    "        'sample_counts_x1': occurances of each state in the original sample (gene 1)\n",
    "        'sample_counts_x2': occurances of each state in the original sample (gene 2)\n",
    "\n",
    "        Confidence intervals:\n",
    "    \n",
    "        'joint': (2, _, _) numpy array of CI bounds on joint distribution\n",
    "        'x1': (2, _) numpy array of CI bounds on marginal distribution (gene 1)\n",
    "        'x2': (2, _) numpy array of CI bounds on marginal distribution (gene 2)\n",
    "\n",
    "        Truncation information\n",
    "\n",
    "        'min_x1_OB', 'max_x1_OB', 'min_x2_OB', 'max_x2_OB': joint truncation\n",
    "        'minM_x1_OB', 'maxM_x1_OB': marginal truncation (gene 1)\n",
    "        'minM_x2_OB', 'maxM_x2_OB': marginal truncation (gene 2)\n",
    "        'thresh_flag': bool if joint state space was truncated\n",
    "        'thresh_flag_x1': bool if marginal state space was truncated (gene 1)\n",
    "        'thresh_flag_x2': bool if marginal state space was truncated (gene 2)\n",
    "    '''\n",
    "\n",
    "    # get sample size\n",
    "    n = len(sample)\n",
    "\n",
    "    # get bootstrap size: default to sample size\n",
    "    if resamples is None:\n",
    "        resamples = n\n",
    "\n",
    "    # initialize random generator\n",
    "    rng = np.random.default_rng()\n",
    "\n",
    "    # convert string to tuple if neccessary (pandas reading csv to string)\n",
    "    if type(sample[0]) == str:\n",
    "        sample = [literal_eval(count_pair) for count_pair in sample]\n",
    "\n",
    "    # compute maximum x1 and x2 values\n",
    "    M, N = np.max(sample, axis=0)\n",
    "    M, N = int(M), int(N)\n",
    "\n",
    "    # map (x1, x2) pairs to integers: x2 + (N + 1) * x1\n",
    "    integer_sample = np.array([x[1] + (N + 1)*x[0] for x in sample], dtype='uint32')\n",
    "\n",
    "    # maxiumum of integer sample\n",
    "    D = (M + 1)*(N + 1) - 1\n",
    "\n",
    "    # number of bootstrap samples per split (split to reduce memory usage)\n",
    "    resamples_split = resamples // splits\n",
    "\n",
    "    # setup count array\n",
    "    counts = np.empty((resamples, M + 1, N + 1), dtype='uint32')\n",
    "\n",
    "    # BS bootstrap samples: split into 'splits' number of BS_split x n arrays\n",
    "    for split in range(splits):\n",
    "\n",
    "        # BS_split bootstrap samples as BS_split x n array\n",
    "        bootstrap_split = rng.choice(integer_sample, size=(resamples_split, n))\n",
    "\n",
    "        # offset row i by (D + 1)i\n",
    "        bootstrap_split += np.arange(resamples_split, dtype='uint32')[:, None]*(D + 1)\n",
    "\n",
    "        # flatten, count occurances of each state and reshape, reversing map to give counts of each (x1, x2) pair\n",
    "        counts_split = np.bincount(bootstrap_split.ravel(), minlength=resamples_split*(D + 1)).reshape(-1, M + 1, N + 1)\n",
    "\n",
    "        # add to counts\n",
    "        counts[(split * resamples_split):((split + 1) * resamples_split), :, :] = counts_split\n",
    "\n",
    "    # sum over columns / rows to give counts (/n) of each x1 / x2 state\n",
    "    x1_counts = counts.sum(axis=2)\n",
    "    x2_counts = counts.sum(axis=1)\n",
    "\n",
    "    # compute 2.5% and 97.5% quantiles for each p(x1, x2), p(x1) and p(x2)\n",
    "    bounds = np.quantile(counts, [0.025, 0.975], axis=0)\n",
    "    x1_bounds = np.quantile(x1_counts, [0.025, 0.975], axis=0)\n",
    "    x2_bounds = np.quantile(x2_counts, [0.025, 0.975], axis=0)\n",
    "\n",
    "    # scale to probability\n",
    "    bounds = bounds / n\n",
    "    x1_bounds = x1_bounds / n\n",
    "    x2_bounds = x2_bounds / n\n",
    "\n",
    "    # count occurances per (x1, x2) in the in original sample\n",
    "    sample_counts = np.bincount(integer_sample, minlength=D + 1).reshape(M + 1, N + 1)\n",
    "\n",
    "    # sum over columns / rows to give counts per x1 / x2 state\n",
    "    x1_sample_counts = sample_counts.sum(axis=1)\n",
    "    x2_sample_counts = sample_counts.sum(axis=0)\n",
    "\n",
    "    # set truncation bounds\n",
    "    min_x1_OB, max_x1_OB, min_x2_OB, max_x2_OB = M, 0, N, 0\n",
    "    minM_x1_OB, maxM_x1_OB = M, 0\n",
    "    minM_x2_OB, maxM_x2_OB = N, 0\n",
    "\n",
    "    # set flag for changes\n",
    "    thresh_flag = False\n",
    "    thresh_flag_x1 = False\n",
    "    thresh_flag_x2 = False\n",
    "\n",
    "    # replace CI's for states below threshold occurances by [0, 1] bounds\n",
    "    for x1 in range(M + 1):\n",
    "        for x2 in range(N + 1):\n",
    "            # below: replace\n",
    "            if sample_counts[x1, x2] < thresh_OB:\n",
    "                bounds[:, x1, x2] = [0.0, 1.0]\n",
    "            # above: update truncation\n",
    "            else:\n",
    "                # check if smaller than current min\n",
    "                if x1 < min_x1_OB:\n",
    "                    min_x1_OB = x1\n",
    "                    thresh_flag = True\n",
    "                if x2 < min_x2_OB:\n",
    "                    min_x2_OB = x2\n",
    "                    thresh_flag = True\n",
    "                # check if larger than current max\n",
    "                if x1 > max_x1_OB:\n",
    "                    max_x1_OB = x1\n",
    "                    thresh_flag = True\n",
    "                if x2 > max_x2_OB:\n",
    "                    max_x2_OB = x2\n",
    "                    thresh_flag = True\n",
    "\n",
    "    for x1 in range(M + 1):\n",
    "        # below: replace\n",
    "        if x1_sample_counts[x1] < threshM_OB:\n",
    "            x1_bounds[:, x1] = [0.0, 1.0]\n",
    "        # above: update truncation\n",
    "        else:\n",
    "            # check if smaller than current min\n",
    "            if x1 < minM_x1_OB:\n",
    "                minM_x1_OB = x1\n",
    "                thresh_flag_x1 = True\n",
    "            # check if larger than current max\n",
    "            if x1 > maxM_x1_OB:\n",
    "                maxM_x1_OB = x1\n",
    "                thresh_flag_x1 = True\n",
    "\n",
    "    for x2 in range(N + 1):\n",
    "        # below: replace\n",
    "        if x2_sample_counts[x2] < threshM_OB:\n",
    "            x2_bounds[:, x2] = [0.0, 1.0]\n",
    "        # above: update truncation\n",
    "        else:\n",
    "            # check if smaller than current min\n",
    "            if x2 < minM_x2_OB:\n",
    "                minM_x2_OB = x2\n",
    "                thresh_flag_x2 = True\n",
    "            # check if larger than current max\n",
    "            if x2 > maxM_x2_OB:\n",
    "                maxM_x2_OB = x2\n",
    "                thresh_flag_x2 = True\n",
    "\n",
    "    # if no states were above threshold: default to max range, report\n",
    "    if not thresh_flag:\n",
    "        min_x1_OB, max_x1_OB, min_x2_OB, max_x2_OB = 0, M, 0, N\n",
    "    if not thresh_flag_x1:\n",
    "        minM_x1_OB, maxM_x1_OB = 0, M\n",
    "    if not thresh_flag_x2:\n",
    "        minM_x2_OB, maxM_x2_OB = 0, N\n",
    "\n",
    "    # plotting\n",
    "    if plot:\n",
    "        fig, axs = plt.subplots(M + 1, N + 1, figsize=(10, 10))\n",
    "        fig.tight_layout()\n",
    "        for x1 in range(M + 1):\n",
    "            for x2 in range(N + 1):\n",
    "                # within truncation: green CI lines\n",
    "                if (x1 >= min_x1_OB) and (x2 >= min_x2_OB) and (x1 <= max_x1_OB) and (x2 <= max_x2_OB):\n",
    "                    color = \"green\"\n",
    "                else:\n",
    "                    color = \"red\"\n",
    "                axs[x1, x2].hist(counts[:, x1, x2] / n)\n",
    "                axs[x1, x2].set_title(f\"p({x1}, {x2})\")\n",
    "                axs[x1, x2].axvline(bounds[0, x1, x2], color=color)\n",
    "                axs[x1, x2].axvline(bounds[1, x1, x2], color=color)\n",
    "\n",
    "        plt.suptitle(\"X1 X2 Confidence Intervals\")\n",
    "        plt.show()\n",
    "\n",
    "        fig, axs = plt.subplots(1, M + 1, figsize=(10, 3))\n",
    "        fig.tight_layout()\n",
    "        for x1 in range(M + 1):\n",
    "            # within truncation: green CI lines\n",
    "            if (x1 >= minM_x1_OB) and (x1 <= maxM_x1_OB):\n",
    "                color = \"green\"\n",
    "            else:\n",
    "                color = \"red\"\n",
    "            axs[x1].hist(x1_counts[:, x1] / n)\n",
    "            axs[x1].set_title(f\"p({x1})\")\n",
    "            axs[x1].axvline(x1_bounds[0, x1], color=color)\n",
    "            axs[x1].axvline(x1_bounds[1, x1], color=color)\n",
    "\n",
    "        plt.suptitle(\"X1 Confidence Intervals\")\n",
    "        plt.show()\n",
    "\n",
    "        fig, axs = plt.subplots(1, N + 1, figsize=(10, 3))\n",
    "        fig.tight_layout()\n",
    "        for x2 in range(N + 1):\n",
    "            # within truncation: green CI lines\n",
    "            if (x2 >= minM_x2_OB) and (x2 <= maxM_x2_OB):\n",
    "                color = \"green\"\n",
    "            else:\n",
    "                color = \"red\"\n",
    "            axs[x2].hist(x2_counts[:, x2] / n)\n",
    "            axs[x2].set_title(f\"p({x2})\")\n",
    "            axs[x2].axvline(x2_bounds[0, x2], color=color)\n",
    "            axs[x2].axvline(x2_bounds[1, x2], color=color)\n",
    "\n",
    "        plt.suptitle(\"X2 Confidence Intervals\")\n",
    "        plt.show()\n",
    "\n",
    "    # printing\n",
    "    if printing:\n",
    "        print(f\"Box truncation: [{min_x1_OB}, {max_x1_OB}] x [{min_x2_OB}, {max_x2_OB}]\")\n",
    "        print(f\"Marginal x1 truncation: [{minM_x1_OB}, {maxM_x1_OB}]\")\n",
    "        print(f\"Marginal x2 truncation: [{minM_x2_OB}, {maxM_x2_OB}]\")\n",
    "\n",
    "    # collect results\n",
    "    truncation_OB = {\n",
    "        'min_x1_OB': min_x1_OB,\n",
    "        'max_x1_OB': max_x1_OB,\n",
    "        'min_x2_OB': min_x2_OB,\n",
    "        'max_x2_OB': max_x2_OB\n",
    "    }\n",
    "    truncationM_OB = {\n",
    "        'minM_x1_OB': minM_x1_OB,\n",
    "        'maxM_x1_OB': maxM_x1_OB,\n",
    "        'minM_x2_OB': minM_x2_OB,\n",
    "        'maxM_x2_OB': maxM_x2_OB\n",
    "    }\n",
    "\n",
    "    result_dict = {\n",
    "        'bounds': bounds,\n",
    "        'x1_bounds': x1_bounds,\n",
    "        'x2_bounds': x2_bounds,\n",
    "        'truncation_OB': truncation_OB,\n",
    "        'truncationM_OB': truncationM_OB\n",
    "    }\n",
    "\n",
    "    '''\n",
    "    bounds_dict =  {\n",
    "        'sample': sample,\n",
    "        'sample_counts': sample_counts,\n",
    "        'sample_counts_x1': x1_sample_counts,\n",
    "        'sample_counts_x2': x2_sample_counts,\n",
    "        'joint': bounds,\n",
    "        'x1': x1_bounds,\n",
    "        'x2': x2_bounds,\n",
    "        'min_x1_OB': min_x1_OB,\n",
    "        'max_x1_OB': max_x1_OB,\n",
    "        'min_x2_OB': min_x2_OB,\n",
    "        'max_x2_OB': max_x2_OB,\n",
    "        'minM_x1_OB': minM_x1_OB,\n",
    "        'maxM_x1_OB': maxM_x1_OB,\n",
    "        'minM_x2_OB': minM_x2_OB,\n",
    "        'maxM_x2_OB': maxM_x2_OB,\n",
    "        'thresh_flag': thresh_flag,\n",
    "        'thresh_flag_x1': thresh_flag_x1,\n",
    "        'thresh_flag_x2': thresh_flag_x2\n",
    "    }\n",
    "    '''\n",
    "\n",
    "    return result_dict"
   ]
  },
  {
   "cell_type": "markdown",
   "metadata": {},
   "source": [
    "### Bootstrap: moments"
   ]
  },
  {
   "cell_type": "code",
   "execution_count": 25,
   "metadata": {},
   "outputs": [],
   "source": [
    "def bootstrap_moments(sample, resamples=None):\n",
    "    '''\n",
    "    Compute confidence intervals on the moments of a sample of count pairs.\n",
    "\n",
    "    Compute confidence intervals for the moments: mean, variance, cross moments,\n",
    "    etc of the sample using the percentile bootstrap.\n",
    "\n",
    "    Args:\n",
    "        sample: list of tuples (x1, x2) of integer counts per cell\n",
    "        resamples: integer number of bootstrap resamples to use\n",
    "\n",
    "    Returns:\n",
    "        A dictionary containing results\n",
    "\n",
    "        'E_x1': CI bounds on E[X1]\n",
    "        'E_x2': CI bounds on E[X2]\n",
    "        'E_x1_x2': CI ounds on E[X1X2]\n",
    "    '''\n",
    "\n",
    "    # get sample size\n",
    "    n = len(sample)\n",
    "\n",
    "    # get bootstrap size: default to sample size\n",
    "    if resamples is None:\n",
    "        resamples = n\n",
    "\n",
    "    # initialize random generator\n",
    "    rng = np.random.default_rng()\n",
    "\n",
    "    # convert string to tuple if neccessary (pandas reading csv to string)\n",
    "    if type(sample[0]) == str:\n",
    "        sample = [literal_eval(count_pair) for count_pair in sample]\n",
    "\n",
    "    # separate sample pairs\n",
    "    x1_sample = [x[0] for x in sample]\n",
    "    x2_sample = [x[1] for x in sample]\n",
    "\n",
    "    # convert sample to n x 2 array\n",
    "    sample = np.array([x1_sample, x2_sample]).T\n",
    "\n",
    "    # bootstrap to resamples x n x 2 array\n",
    "    boot = rng.choice(sample, size=(resamples, n))\n",
    "\n",
    "    # mean over axis 1 to get E[X1], E[X2] for each resample\n",
    "    means = np.mean(boot, axis=1)\n",
    "\n",
    "    # product over axis 2 to get x1x2 counts\n",
    "    prods = np.prod(boot, axis=2)\n",
    "\n",
    "    # mean over axis 1 to get E[X1X2] for each resample\n",
    "    prod_means = np.mean(prods, axis=1)\n",
    "    \n",
    "    # quantiles over resamples\n",
    "    mean_bounds = np.quantile(means, [0.025, 0.975], axis=0)\n",
    "    prod_mean_bounds = np.quantile(prod_means, [0.025, 0.975], axis=0)\n",
    "\n",
    "    # collect information\n",
    "    result_dict = {\n",
    "        'E_x1': mean_bounds[:, 0],\n",
    "        'E_x2': mean_bounds[:, 1],\n",
    "        'E_x1_x2': prod_mean_bounds\n",
    "    }\n",
    "\n",
    "    return result_dict"
   ]
  },
  {
   "cell_type": "markdown",
   "metadata": {},
   "source": [
    "### Bootstrap dataset\n",
    "\n",
    "Bootstrap probabilities and moments for each sample in the dataset, recording CIs and truncation information in files and dictionaries"
   ]
  },
  {
   "cell_type": "code",
   "execution_count": 394,
   "metadata": {},
   "outputs": [],
   "source": [
    "def bootstrap_dataset(dataset, thresh_OB=10, threshM_OB=10):\n",
    "\n",
    "    # size\n",
    "    gene_pairs, cells = dataset.shape\n",
    "\n",
    "    # collect OB truncations\n",
    "    truncation_dict = {}\n",
    "    truncationM_dict = {}\n",
    "\n",
    "    # collect moment bounds\n",
    "    moment_dict = {}\n",
    "\n",
    "    # loop over samples\n",
    "    for i in tqdm.tqdm(range(gene_pairs)):\n",
    "\n",
    "        # select sample\n",
    "        sample = list(dataset.loc[f'Gene-pair-{i}'])\n",
    "\n",
    "        # bootstrap\n",
    "        prob_results = bootstrap_probabilities(sample, thresh_OB=thresh_OB, threshM_OB=threshM_OB)\n",
    "        moment_results = bootstrap_moments(sample)\n",
    "\n",
    "        # store moments\n",
    "        moment_dict[f'sample-{i}'] = moment_results\n",
    "\n",
    "        # store OB truncation\n",
    "        truncation_dict[f'sample-{i}'] = prob_results['truncation_OB']\n",
    "        truncationM_dict[f'sample-{i}'] = prob_results['truncationM_OB']\n",
    "\n",
    "        # save CI bounds\n",
    "        np.save(\n",
    "            f\"./Test-Info/Bounds/Joint/sample-{i}.npy\",\n",
    "            prob_results['bounds']\n",
    "        )\n",
    "        np.save(\n",
    "            f\"./Test-Info/Bounds/x1_marginal/sample-{i}.npy\",\n",
    "            prob_results['x1_bounds']\n",
    "        )\n",
    "        np.save(\n",
    "            f\"./Test-Info/Bounds/x2_marginal/sample-{i}.npy\",\n",
    "            prob_results['x2_bounds']\n",
    "        )\n",
    "\n",
    "    return truncation_dict, truncationM_dict, moment_dict"
   ]
  },
  {
   "cell_type": "markdown",
   "metadata": {},
   "source": [
    "### Illustrate + summarise truncation\n",
    "\n",
    "Display observed truncations of samples and summarise the states and state pairs observed across the dataset"
   ]
  },
  {
   "cell_type": "code",
   "execution_count": 27,
   "metadata": {},
   "outputs": [],
   "source": [
    "def illustrate_truncation(truncation_OB, truncationM_OB):\n",
    "    rng = np.random.default_rng()\n",
    "    fig, axs = plt.subplots(1, 2, figsize=(6, 3))\n",
    "    for i, truncation in truncation_OB.items():\n",
    "        colour = list(rng.integers(0, 256, size=3))\n",
    "        axs[0].hlines([truncation['min_x1_OB'] - 0.5, truncation['max_x1_OB'] + 0.5], xmin=truncation['min_x2_OB'] - 0.5, xmax=truncation['max_x2_OB'] + 0.5, color=[colour, colour], linewidth=2)\n",
    "        axs[0].vlines([truncation['min_x2_OB'] - 0.5, truncation['max_x2_OB'] + 0.5], ymin=truncation['min_x1_OB'] - 0.5, ymax=truncation['max_x1_OB'] + 0.5, color=[colour, colour], linewidth=2)\n",
    "        axs[0].set_title(\"OB truncation\")\n",
    "    for i, truncation in truncationM_OB.items():\n",
    "        colour = list(rng.integers(0, 256, size=3))\n",
    "        axs[1].hlines([truncation['minM_x1_OB'] - 0.5, truncation['maxM_x1_OB'] + 0.5], xmin=truncation['minM_x2_OB'] - 0.5, xmax=truncation['maxM_x2_OB'] + 0.5, color=[colour, colour], linewidth=2)\n",
    "        axs[1].vlines([truncation['minM_x2_OB'] - 0.5, truncation['maxM_x2_OB'] + 0.5], ymin=truncation['minM_x1_OB'] - 0.5, ymax=truncation['maxM_x1_OB'] + 0.5, color=[colour, colour], linewidth=2)\n",
    "        axs[1].set_title(\"OB marginal truncation\")\n",
    "    plt.show()"
   ]
  },
  {
   "cell_type": "code",
   "execution_count": 28,
   "metadata": {},
   "outputs": [],
   "source": [
    "def summarise_truncation(truncation_OB, truncationM_OB):\n",
    "    '''\n",
    "    Summarise states included in collection of observed truncations\n",
    "    '''\n",
    "\n",
    "    # state set\n",
    "    state_pairs = set()\n",
    "    states = set()\n",
    "\n",
    "    # loop over each truncation\n",
    "    for i, trunc in truncation_OB.items():\n",
    "\n",
    "        # for each state pair in truncation\n",
    "        for x1_OB in range(trunc['min_x1_OB'], trunc['max_x1_OB'] + 1):\n",
    "            for x2_OB in range(trunc['min_x2_OB'], trunc['max_x2_OB'] + 1):\n",
    "\n",
    "                # add to set\n",
    "                state_pairs.add((x1_OB, x2_OB))\n",
    "                states.add(x1_OB)\n",
    "                states.add(x2_OB)\n",
    "\n",
    "    # also add any single states (not pairs) in marginal truncations that were missed\n",
    "    for i, trunc in truncationM_OB.items():\n",
    "        for x1_OB in range(trunc['minM_x1_OB'], trunc['maxM_x1_OB'] + 1):\n",
    "            states.add(x1_OB)\n",
    "        for x2_OB in range(trunc['minM_x2_OB'], trunc['maxM_x2_OB'] + 1):\n",
    "            states.add(x2_OB)\n",
    "\n",
    "    # collect info\n",
    "    info_dict = {\n",
    "        'state_pairs': state_pairs,\n",
    "        'states': states\n",
    "    }\n",
    "\n",
    "    return info_dict"
   ]
  },
  {
   "cell_type": "markdown",
   "metadata": {},
   "source": [
    "### Original Truncation\n",
    "\n",
    "For every observed state across the dataset compute (marginal approx of) original state space truncation interval"
   ]
  },
  {
   "cell_type": "code",
   "execution_count": 29,
   "metadata": {},
   "outputs": [],
   "source": [
    "def Bm_trunc(x_OB, x_OG, beta):\n",
    "    return np.mean(scipy.stats.binom.pmf(x_OB, x_OG, beta))"
   ]
  },
  {
   "cell_type": "code",
   "execution_count": 391,
   "metadata": {},
   "outputs": [],
   "source": [
    "def marginal_truncation(x_OB, beta, thresh_OG=10**-6):\n",
    "\n",
    "    # start at first non-zero coefficient\n",
    "    x_OG = x_OB\n",
    "    coeff = Bm_trunc(x_OB, x_OG, beta)\n",
    "\n",
    "    # if not above threshold: increment until above\n",
    "    while coeff < thresh_OG:\n",
    "\n",
    "        # increment\n",
    "        x_OG += 1\n",
    "\n",
    "        # compute coeff\n",
    "        coeff = Bm_trunc(x_OB, x_OG, beta)\n",
    "\n",
    "    # store first state coeff >= thresh\n",
    "    minM_OG = x_OG\n",
    "\n",
    "    # increment until below threshold\n",
    "    while coeff >= thresh_OG:\n",
    "\n",
    "        # increment\n",
    "        x_OG += 1\n",
    "\n",
    "        # compute coeff\n",
    "        coeff = Bm_trunc(x_OB, x_OG, beta)\n",
    "\n",
    "    # store last state with coeff >= thresh (INCLUSIVE BOUND)\n",
    "    maxM_OG = x_OG - 1\n",
    "\n",
    "    return minM_OG, maxM_OG"
   ]
  },
  {
   "cell_type": "code",
   "execution_count": 392,
   "metadata": {},
   "outputs": [],
   "source": [
    "def original_truncation(truncation_summary, beta, thresh_OG=10**-6):\n",
    "    \n",
    "    # collect OG truncations\n",
    "    truncation_dict = {}\n",
    "\n",
    "    # compute truncation for each observed count\n",
    "    for x_OB in tqdm.tqdm(truncation_summary['states']):\n",
    "        \n",
    "        minM_OG, maxM_OG = marginal_truncation(x_OB, beta, thresh_OG)\n",
    "\n",
    "        # store\n",
    "        truncation_dict[x_OB] = (minM_OG, maxM_OG)\n",
    "\n",
    "    return truncation_dict"
   ]
  },
  {
   "cell_type": "markdown",
   "metadata": {},
   "source": [
    "### Coefficients\n",
    "\n",
    "For every observed state compute grid of marginal (Bm) coefficients (OG truncation x capture efficiency) and for every pair of states observed use marginal grids to compute and store B coefficients (OG truncation x OG truncation)"
   ]
  },
  {
   "cell_type": "code",
   "execution_count": 32,
   "metadata": {},
   "outputs": [],
   "source": [
    "def Bm_matrix(x_OB, x_OG, beta):\n",
    "    return scipy.stats.binom.pmf(x_OB, x_OG, beta)"
   ]
  },
  {
   "cell_type": "code",
   "execution_count": 393,
   "metadata": {},
   "outputs": [],
   "source": [
    "def compute_coefficients(truncation_summary, truncation_OG, beta, thresh_OG=10**-6):\n",
    "\n",
    "    # store marginal grids\n",
    "    marginal_grids = {}\n",
    "\n",
    "    # loop over observed counts\n",
    "    for x_OB in tqdm.tqdm(truncation_summary['states']):\n",
    "        \n",
    "        # get truncation\n",
    "        minM_OG, maxM_OG = truncation_OG[x_OB]\n",
    "\n",
    "        # construct arrays for broadcasting\n",
    "        x_OB_arr = np.array([x_OB])[:, None]\n",
    "        x_OG_arr = np.arange(minM_OG, maxM_OG + 1)[:, None]\n",
    "        beta_arr = beta[None, :]\n",
    "          \n",
    "        # compute marginal grid\n",
    "        marginal_grid = Bm_matrix(x_OB_arr, x_OG_arr, beta_arr)\n",
    "\n",
    "        # store\n",
    "        marginal_grids[x_OB] = marginal_grid\n",
    "\n",
    "        # take mean over beta to get marginal coefficient array\n",
    "        marginal_array = np.mean(marginal_grid, axis=1)\n",
    "\n",
    "        # save\n",
    "        np.save(\n",
    "            f\"./Test-Info/Coefficients/state-{x_OB}.npy\",\n",
    "            marginal_array\n",
    "        )\n",
    "\n",
    "    # loop over oberved count pairs\n",
    "    for x1_OB, x2_OB in tqdm.tqdm(truncation_summary['state_pairs']):\n",
    "\n",
    "        # get marginal grids\n",
    "        grid_x1_OB = marginal_grids[x1_OB]\n",
    "        grid_x2_OB = marginal_grids[x2_OB]\n",
    "\n",
    "        # compute outer product\n",
    "        coeff_grid = grid_x1_OB @ grid_x2_OB.T\n",
    "\n",
    "        # threshold\n",
    "        coeff_grid[coeff_grid < thresh_OG] = 0.0\n",
    "\n",
    "        # divide by sample size\n",
    "        coeff_grid /= len(beta)\n",
    "\n",
    "        # save\n",
    "        np.save(\n",
    "            f\"./Test-Info/Coefficients/state-{x1_OB}-{x2_OB}.npy\",\n",
    "            coeff_grid\n",
    "        )"
   ]
  },
  {
   "cell_type": "markdown",
   "metadata": {},
   "source": [
    "### Original truncation extent per sample\n",
    "\n",
    "For each sample find extent of OG states included (combined OG truncations of counts observed in sample) to decided the size of variables and CME constraints"
   ]
  },
  {
   "cell_type": "code",
   "execution_count": 34,
   "metadata": {},
   "outputs": [],
   "source": [
    "def compute_original_extent(truncation_OB, truncationM_OB, truncation_OG):\n",
    "\n",
    "    # store per sample extent\n",
    "    extent_dict = {}\n",
    "\n",
    "    # for each sample\n",
    "    for sample in truncation_OB.keys():\n",
    "\n",
    "        # record min and max OG state extents\n",
    "        min_x1_OG_ext, max_x1_OG_ext = np.inf, 0\n",
    "        min_x2_OG_ext, max_x2_OG_ext = np.inf, 0\n",
    "\n",
    "        # get OB truncation\n",
    "        trunc_OB = truncation_OB[sample]\n",
    "\n",
    "        # loop over OG truncation to get OG states used and update extent\n",
    "        for x1_OB in range(trunc_OB['min_x1_OB'], trunc_OB['max_x1_OB'] + 1):\n",
    "            min_x1_OG, max_x1_OG = truncation_OG[x1_OB]\n",
    "            if min_x1_OG < min_x1_OG_ext:\n",
    "                min_x1_OG_ext = min_x1_OG\n",
    "            if max_x1_OG > max_x1_OG_ext:\n",
    "                max_x1_OG_ext = max_x1_OG\n",
    "\n",
    "        for x2_OB in range(trunc_OB['min_x2_OB'], trunc_OB['max_x2_OB'] + 1):\n",
    "            min_x2_OG, max_x2_OG = truncation_OG[x2_OB]\n",
    "            if min_x2_OG < min_x2_OG_ext:\n",
    "                min_x2_OG_ext = min_x2_OG\n",
    "            if max_x2_OG > max_x2_OG_ext:\n",
    "                max_x2_OG_ext = max_x2_OG\n",
    "\n",
    "        # get marginal OB truncation\n",
    "        truncM_OB = truncationM_OB[sample]\n",
    "\n",
    "        # repeat same process to update extent\n",
    "        for x1_OB in range(truncM_OB['minM_x1_OB'], truncM_OB['maxM_x1_OB'] + 1):\n",
    "            min_x1_OG, max_x1_OG = truncation_OG[x1_OB]\n",
    "            if min_x1_OG < min_x1_OG_ext:\n",
    "                min_x1_OG_ext = min_x1_OG\n",
    "            if max_x1_OG > max_x1_OG_ext:\n",
    "                max_x1_OG_ext = max_x1_OG\n",
    "\n",
    "        for x2_OB in range(truncM_OB['minM_x2_OB'], truncM_OB['maxM_x2_OB'] + 1):\n",
    "            min_x2_OG, max_x2_OG = truncation_OG[x2_OB]\n",
    "            if min_x2_OG < min_x2_OG_ext:\n",
    "                min_x2_OG_ext = min_x2_OG\n",
    "            if max_x2_OG > max_x2_OG_ext:\n",
    "                max_x2_OG_ext = max_x2_OG\n",
    "\n",
    "        # store extent for the sample\n",
    "        extent_dict[sample] = {\n",
    "            'min_x1_OG': min_x1_OG_ext,\n",
    "            'max_x1_OG': max_x1_OG_ext,\n",
    "            'min_x2_OG': min_x2_OG_ext,\n",
    "            'max_x2_OG': max_x2_OG_ext\n",
    "        }\n",
    "\n",
    "    return extent_dict"
   ]
  },
  {
   "cell_type": "markdown",
   "metadata": {},
   "source": [
    "### Dataset pre-processing\n",
    "\n",
    "Combine all functions to process dataset and get info for optimization"
   ]
  },
  {
   "cell_type": "code",
   "execution_count": 395,
   "metadata": {},
   "outputs": [],
   "source": [
    "def dataset_processing(dataset, beta, display=True, thresh_OB=10, threshM_OB=10, thresh_OG=10**-6):\n",
    "\n",
    "    # bootstrap dataset\n",
    "    truncation_OB, truncationM_OB, moments_OB = bootstrap_dataset(dataset, thresh_OB, threshM_OB)\n",
    "\n",
    "    # display OB truncations\n",
    "    if display:\n",
    "        illustrate_truncation(truncation_OB, truncationM_OB)\n",
    "\n",
    "    # summarise observed truncations\n",
    "    truncation_summary = summarise_truncation(truncation_OB, truncationM_OB)\n",
    "\n",
    "    # compute original truncation\n",
    "    truncation_OG = original_truncation(truncation_summary, beta, thresh_OG)\n",
    "\n",
    "    # compute and store B and Bm coefficients\n",
    "    compute_coefficients(truncation_summary, truncation_OG, beta, thresh_OG)\n",
    "\n",
    "    # compute original extent\n",
    "    extent_OG = compute_original_extent(truncation_OB, truncationM_OB, truncation_OG)\n",
    "\n",
    "    # return information\n",
    "    return truncation_OB, truncationM_OB, moments_OB, truncation_OG, extent_OG"
   ]
  },
  {
   "cell_type": "markdown",
   "metadata": {},
   "source": [
    "## Testing"
   ]
  },
  {
   "cell_type": "code",
   "execution_count": 144,
   "metadata": {},
   "outputs": [],
   "source": [
    "# load count dataset and capture efficiency\n",
    "count_dataset = pd.read_csv(\"./Test-Info/Data/counts_unif_med.csv\", index_col=0)\n",
    "beta = np.loadtxt(\"./Test-Info/Data/beta_unif_med.csv\")"
   ]
  },
  {
   "cell_type": "code",
   "execution_count": 152,
   "metadata": {},
   "outputs": [
    {
     "name": "stderr",
     "output_type": "stream",
     "text": [
      "100%|██████████| 9/9 [00:00<00:00, 10.31it/s]\n"
     ]
    },
    {
     "data": {
      "image/png": "[encoded data removed]",
      "text/plain": [
       "<Figure size 600x300 with 2 Axes>"
      ]
     },
     "metadata": {},
     "output_type": "display_data"
    },
    {
     "name": "stderr",
     "output_type": "stream",
     "text": [
      "100%|██████████| 4/4 [00:00<00:00, 94.30it/s]\n",
      "100%|██████████| 4/4 [00:00<00:00, 162.73it/s]\n",
      "100%|██████████| 15/15 [00:00<00:00, 394.58it/s]\n"
     ]
    }
   ],
   "source": [
    "# pre-process dataset\n",
    "truncation_OB, truncationM_OB, moments_OB, truncation_OG, extent_OG = dataset_processing(count_dataset, beta)"
   ]
  },
  {
   "cell_type": "markdown",
   "metadata": {},
   "source": [
    "# Optimization"
   ]
  },
  {
   "cell_type": "markdown",
   "metadata": {},
   "source": [
    "## Code"
   ]
  },
  {
   "cell_type": "markdown",
   "metadata": {},
   "source": [
    "### B constraints"
   ]
  },
  {
   "cell_type": "code",
   "execution_count": 36,
   "metadata": {},
   "outputs": [],
   "source": [
    "def add_B_constraints(model, variables, truncation_OB, truncation_OG, i):\n",
    "\n",
    "    # get OB truncation for sample\n",
    "    min_x1_OB = truncation_OB['min_x1_OB']\n",
    "    max_x1_OB = truncation_OB['max_x1_OB']\n",
    "    min_x2_OB = truncation_OB['min_x2_OB']\n",
    "    max_x2_OB = truncation_OB['max_x2_OB']\n",
    "\n",
    "    # load CI bounds for sample\n",
    "    bounds = np.load(f\"./Test-Info/Bounds/Joint/sample-{i}.npy\")\n",
    "            \n",
    "    # for each OB state pair in truncation\n",
    "    for x1_OB in range(min_x1_OB, max_x1_OB + 1):\n",
    "        for x2_OB in range(min_x2_OB, max_x2_OB + 1):\n",
    "\n",
    "            # get OG truncation for OB state pair\n",
    "            min_x1_OG, max_x1_OG = truncation_OG[x1_OB]\n",
    "            min_x2_OG, max_x2_OG = truncation_OG[x2_OB]\n",
    "            \n",
    "            # load coefficient grid for OB state pair\n",
    "            B_coeffs = np.load(f\"./Test-Info/Coefficients/state-{x1_OB}-{x2_OB}.npy\")\n",
    "\n",
    "            # slice variables to truncation\n",
    "            p1_slice = variables['p1'][min_x1_OG: max_x1_OG + 1]\n",
    "            p2_slice = variables['p2'][min_x2_OG: max_x2_OG + 1]\n",
    "\n",
    "            # bilinear form\n",
    "            sum_expr = p1_slice.T @ B_coeffs @ p2_slice\n",
    "        \n",
    "            # form constraints using CI bounds\n",
    "            model.addConstr(sum_expr >= bounds[0, x1_OB, x2_OB], name=f\"B_lb_{x1_OB}_{x2_OB}\")\n",
    "            model.addConstr(sum_expr <= bounds[1, x1_OB, x2_OB], name=f\"B_ub_{x1_OB}_{x2_OB}\")"
   ]
  },
  {
   "cell_type": "markdown",
   "metadata": {},
   "source": [
    "### Marginal B constraints"
   ]
  },
  {
   "cell_type": "code",
   "execution_count": 37,
   "metadata": {},
   "outputs": [],
   "source": [
    "def add_marginal_B_constraints(model, variables, truncationM_OB, truncation_OG, i):\n",
    "\n",
    "    # get marginal OB truncation for sample\n",
    "    minM_x1_OB = truncationM_OB['minM_x1_OB']\n",
    "    maxM_x1_OB = truncationM_OB['maxM_x1_OB']\n",
    "    minM_x2_OB = truncationM_OB['minM_x2_OB']\n",
    "    maxM_x2_OB = truncationM_OB['maxM_x2_OB']\n",
    "\n",
    "    # load CI bounds for sample\n",
    "    x1_bounds = np.load(f\"./Test-Info/Bounds/x1_marginal/sample-{i}.npy\")\n",
    "    x2_bounds = np.load(f\"./Test-Info/Bounds/x2_marginal/sample-{i}.npy\")\n",
    "\n",
    "    # for each OB state in truncation\n",
    "    for x1_OB in range(minM_x1_OB, maxM_x1_OB + 1):\n",
    "\n",
    "        # get OG truncation\n",
    "        min_x1_OG, max_x1_OG = truncation_OG[x1_OB]\n",
    "\n",
    "        # load marginal coefficient array for OB state\n",
    "        Bm_coeffs = np.load(f\"./Test-Info/Coefficients/state-{x1_OB}.npy\")\n",
    "\n",
    "        # slice variable to truncation\n",
    "        p1_slice = variables['p1'][min_x1_OG: max_x1_OG + 1]\n",
    "\n",
    "        # linear expression of sum\n",
    "        sum_expr = gp.quicksum(Bm_coeffs * p1_slice)\n",
    "\n",
    "        # form constraints using CI bounds\n",
    "        model.addConstr(sum_expr >= x1_bounds[0, x1_OB], name=f\"Bm_x1_lb_{x1_OB}\")\n",
    "        model.addConstr(sum_expr <= x1_bounds[1, x1_OB], name=f\"Bm_x1_ub_{x1_OB}\")\n",
    "\n",
    "    # repeat for x2\n",
    "    for x2_OB in range(minM_x2_OB, maxM_x2_OB + 1):\n",
    "\n",
    "        # get OG truncation\n",
    "        min_x2_OG, max_x2_OG = truncation_OG[x2_OB]\n",
    "\n",
    "        # load marginal coefficient array for OB state\n",
    "        Bm_coeffs = np.load(f\"./Test-Info/Coefficients/state-{x2_OB}.npy\")\n",
    "\n",
    "        # slice variable to truncation\n",
    "        p2_slice = variables['p2'][min_x2_OG: max_x2_OG + 1]\n",
    "\n",
    "        # linear expression of sum\n",
    "        sum_expr = gp.quicksum(Bm_coeffs * p2_slice)\n",
    "\n",
    "        # form constraints using CI bounds\n",
    "        model.addConstr(sum_expr >= x2_bounds[0, x2_OB], name=f\"Bm_x2_lb_{x2_OB}\")\n",
    "        model.addConstr(sum_expr <= x2_bounds[1, x2_OB], name=f\"Bm_x2_ub_{x2_OB}\")"
   ]
  },
  {
   "cell_type": "markdown",
   "metadata": {},
   "source": [
    "### Moment constraints"
   ]
  },
  {
   "cell_type": "code",
   "execution_count": 38,
   "metadata": {},
   "outputs": [],
   "source": [
    "def add_moment_constraint(model, variables, extent_OG, moments_OB, beta):\n",
    "\n",
    "    # get extent of OG states\n",
    "    max_x1_OG = extent_OG['max_x1_OG']\n",
    "    max_x2_OG = extent_OG['max_x2_OG']\n",
    "\n",
    "    # get variables\n",
    "    p1 = variables['p1']\n",
    "    p2 = variables['p2']\n",
    "    E_x1 = variables['E_x1']\n",
    "    E_x2 = variables['E_x2']\n",
    "\n",
    "    # get capture efficiency moments\n",
    "    E_beta = np.mean(beta)\n",
    "    E_beta_sq = np.mean(beta**2)\n",
    "\n",
    "    # expressions for moments\n",
    "    expr_E_x1 = gp.quicksum(p1 * np.arange(max_x1_OG + 1))\n",
    "    expr_E_x2 = gp.quicksum(p2 * np.arange(max_x2_OG + 1))\n",
    "\n",
    "    # equate expressions\n",
    "    model.addConstr(E_x1 == expr_E_x1, name=\"E_x1_equality\")\n",
    "    model.addConstr(E_x2 == expr_E_x2, name=\"E_x2_equality\")\n",
    "\n",
    "    # moment bounds\n",
    "    model.addConstr(E_x1 <= moments_OB['E_x1'][1] / E_beta, name=\"E_x1_UB\")\n",
    "    model.addConstr(E_x1 >= moments_OB['E_x1'][0] / E_beta, name=\"E_x1_LB\")\n",
    "    model.addConstr(E_x2 <= moments_OB['E_x2'][1] / E_beta, name=\"E_x2_UB\")\n",
    "    model.addConstr(E_x2 >= moments_OB['E_x2'][0] / E_beta, name=\"E_x2_LB\")\n",
    "\n",
    "    # moment independence constraint\n",
    "    model.addConstr(E_x1 * E_x2 <= moments_OB['E_x1_x2'][1] / E_beta_sq, name=\"Indep_UB\")\n",
    "    model.addConstr(E_x1 * E_x2 >= moments_OB['E_x1_x2'][0] / E_beta_sq, name=\"Indep_LB\")"
   ]
  },
  {
   "cell_type": "markdown",
   "metadata": {},
   "source": [
    "### CME constraints"
   ]
  },
  {
   "cell_type": "code",
   "execution_count": 39,
   "metadata": {},
   "outputs": [],
   "source": [
    "def add_CME_constraints(model, variables, extent_OG):\n",
    "\n",
    "    # get extent of OG states\n",
    "    max_x1_OG = extent_OG['max_x1_OG']\n",
    "    max_x2_OG = extent_OG['max_x2_OG']\n",
    "\n",
    "    # get variables\n",
    "    p = variables['p']\n",
    "    k_tx_1 = variables['k_tx_1']\n",
    "    k_tx_2 = variables['k_tx_2']\n",
    "    k_deg_1 = variables['k_deg_2']\n",
    "    k_deg_2 = variables['k_deg_1']\n",
    "    \n",
    "    # manually add x1_OG = x2_OG = 0 constraint (to avoid p(0) terms)\n",
    "    model.addConstr(\n",
    "        0 == k_deg_1 * p[1, 0] + \\\n",
    "        k_deg_2 * p[0, 1] - \\\n",
    "        (k_tx_1 + k_tx_2) * p[0, 0],\n",
    "        name=\"CME_0_0\"\n",
    "    )\n",
    "\n",
    "    # manually add x1_OG = 0 constraints (to avoid p1(-1) terms)\n",
    "    model.addConstrs(\n",
    "        (\n",
    "            0 == k_tx_2 * p[0, x2_OG - 1] + \\\n",
    "            k_deg_1 * p[1, x2_OG] + \\\n",
    "            k_deg_2 * (x2_OG + 1) * p[0, x2_OG + 1] - \\\n",
    "            (k_tx_1 + k_tx_2 + k_deg_2 * x2_OG) * p[0, x2_OG]\n",
    "            for x2_OG in range(1, max_x2_OG)\n",
    "        ),\n",
    "        name=\"CME_0_x2\"\n",
    "    )\n",
    "    # manually add x2_OG = 0 constraints (to avoid p2(-1) terms)\n",
    "    model.addConstrs(\n",
    "        (\n",
    "            0 == k_tx_1 * p[x1_OG - 1, 0] + \\\n",
    "            k_deg_1 * (x1_OG + 1) * p[x1_OG + 1, 0] + \\\n",
    "            k_deg_2 * p[x1_OG, 1] - \\\n",
    "            (k_tx_1 + k_tx_2 + k_deg_1 * x1_OG) * p[x1_OG, 0]\n",
    "            for x1_OG in range(1, max_x1_OG)\n",
    "        ),\n",
    "        name=\"CME_x1_0\"\n",
    "    )\n",
    "\n",
    "    # add CME constraints\n",
    "    model.addConstrs(\n",
    "        (\n",
    "            0 == k_tx_1 * p[x1_OG - 1, x2_OG] + \\\n",
    "            k_tx_2 * p[x1_OG, x2_OG - 1] + \\\n",
    "            k_deg_1 * (x1_OG + 1) * p[x1_OG + 1, x2_OG] + \\\n",
    "            k_deg_2 * (x2_OG + 1) * p[x1_OG, x2_OG + 1] - \\\n",
    "            (k_tx_1 + k_tx_2 + k_deg_1 * x1_OG + k_deg_2 * x2_OG) * p[x1_OG, x2_OG]\n",
    "            for x1_OG in range(1, max_x1_OG)\n",
    "            for x2_OG in range(1, max_x2_OG)\n",
    "        ),\n",
    "        name=\"CME_x1_x2\"\n",
    "    )"
   ]
  },
  {
   "cell_type": "code",
   "execution_count": 388,
   "metadata": {},
   "outputs": [],
   "source": [
    "def add_CME_constraints_factorized(model, variables, extent_OG):\n",
    "\n",
    "    # get extent of OG states\n",
    "    max_x1_OG = extent_OG['max_x1_OG']\n",
    "    max_x2_OG = extent_OG['max_x2_OG']\n",
    "\n",
    "    # get variables\n",
    "    p1 = variables['p1']\n",
    "    p2 = variables['p2']\n",
    "    k_tx_1 = variables['k_tx_1']\n",
    "    k_tx_2 = variables['k_tx_2']\n",
    "    k_deg_1 = variables['k_deg_2']\n",
    "    k_deg_2 = variables['k_deg_1']\n",
    "\n",
    "    z = model.addVar(vtype=GRB.CONTINUOUS, lb=0, ub=0, name='z')\n",
    "    \n",
    "    # manually add x1_OG = x2_OG = 0 constraint (to avoid p(0) terms)\n",
    "    model.addConstr(\n",
    "        z == k_deg_1 * p1[1] * p2[0] + \\\n",
    "        k_deg_2 * p1[0] * p2[1] - \\\n",
    "        (k_tx_1 + k_tx_2) * p1[0] * p2[0],\n",
    "        name=\"CME_0_0\"\n",
    "    )\n",
    "\n",
    "    # manually add x1_OG = 0 constraints (to avoid p1(-1) terms)\n",
    "    model.addConstrs(\n",
    "        (\n",
    "            z == k_tx_2 * p1[0] * p2[x2_OG - 1] + \\\n",
    "            k_deg_1 * p1[1] * p2[x2_OG] + \\\n",
    "            k_deg_2 * (x2_OG + 1) * p1[0] * p2[x2_OG + 1] - \\\n",
    "            (k_tx_1 + k_tx_2 + k_deg_2 * x2_OG) * p1[0] * p2[x2_OG]\n",
    "            for x2_OG in range(1, max_x2_OG)\n",
    "        ),\n",
    "        name=\"CME_0_x2\"\n",
    "    )\n",
    "    # manually add x2_OG = 0 constraints (to avoid p2(-1) terms)\n",
    "    model.addConstrs(\n",
    "        (\n",
    "            z == k_tx_1 * p1[x1_OG - 1] * p2[0] + \\\n",
    "            k_deg_1 * (x1_OG + 1) * p1[x1_OG + 1] * p2[0] + \\\n",
    "            k_deg_2 * p1[x1_OG] * p2[1] - \\\n",
    "            (k_tx_1 + k_tx_2 + k_deg_1 * x1_OG) * p1[x1_OG] * p2[0]\n",
    "            for x1_OG in range(1, max_x1_OG)\n",
    "        ),\n",
    "        name=\"CME_x1_0\"\n",
    "    )\n",
    "\n",
    "    # add CME constraints\n",
    "    model.addConstrs(\n",
    "        (\n",
    "            z == k_tx_1 * p1[x1_OG - 1] * p2[x2_OG] + \\\n",
    "            k_tx_2 * p1[x1_OG] * p2[x2_OG - 1] + \\\n",
    "            k_deg_1 * (x1_OG + 1) * p1[x1_OG + 1] * p2[x2_OG] + \\\n",
    "            k_deg_2 * (x2_OG + 1) * p1[x1_OG] * p2[x2_OG + 1] - \\\n",
    "            (k_tx_1 + k_tx_2 + k_deg_1 * x1_OG + k_deg_2 * x2_OG) * p1[x1_OG] * p2[x2_OG]\n",
    "            for x1_OG in range(1, max_x1_OG)\n",
    "            for x2_OG in range(1, max_x2_OG)\n",
    "        ),\n",
    "        name=\"CME_x1_x2\"\n",
    "    )"
   ]
  },
  {
   "cell_type": "markdown",
   "metadata": {},
   "source": [
    "### Marginal CME constraints"
   ]
  },
  {
   "cell_type": "code",
   "execution_count": 40,
   "metadata": {},
   "outputs": [],
   "source": [
    "def add_marginal_CME_constraints(model, variables, extent_OG):\n",
    "\n",
    "    # get extent of OG states\n",
    "    max_x1_OG = extent_OG['max_x1_OG']\n",
    "    max_x2_OG = extent_OG['max_x2_OG']\n",
    "\n",
    "    # get variables\n",
    "    p1 = variables['p1']\n",
    "    p2 = variables['p2']\n",
    "    k_tx_1 = variables['k_tx_1']\n",
    "    k_tx_2 = variables['k_tx_2']\n",
    "    k_deg_1 = variables['k_deg_2']\n",
    "    k_deg_2 = variables['k_deg_1']\n",
    "\n",
    "    # construct Q matrices: 1 more column than square to add upper diagonal to last row\n",
    "    Q_tx_1 = (np.diag([1 for x in range(1, max_x1_OG + 1)], -1) - np.diag([1 for x in range(max_x1_OG + 1)]))[:-1, :]\n",
    "    Q_tx_2 = (np.diag([1 for x in range(1, max_x2_OG + 1)], -1) - np.diag([1 for x in range(max_x2_OG + 1)]))[:-1, :]\n",
    "    Q_deg_1 = (np.diag([x for x in range(1, max_x1_OG + 1)], 1) - np.diag([x for x in range(max_x1_OG + 1)]))[:-1, :]\n",
    "    Q_deg_2 = (np.diag([x for x in range(1, max_x2_OG + 1)], 1) - np.diag([x for x in range(max_x2_OG + 1)]))[:-1, :]\n",
    "\n",
    "    # add matrix constraints\n",
    "    model.addConstr(\n",
    "        k_tx_1 * (Q_tx_1 @ p1) + k_deg_1 * (Q_deg_1 @ p1) == 0,\n",
    "        name=\"Marginal_CME_x1\"\n",
    "    )\n",
    "\n",
    "    model.addConstr(\n",
    "        k_tx_2 * (Q_tx_2 @ p2) + k_deg_2 * (Q_deg_2 @ p2) == 0,\n",
    "        name=\"Marginal_CME_x2\"\n",
    "    )"
   ]
  },
  {
   "cell_type": "markdown",
   "metadata": {},
   "source": [
    "### Basic constraints\n",
    "\n",
    "e.g. fixing rates, distribution, independence factorization"
   ]
  },
  {
   "cell_type": "code",
   "execution_count": 41,
   "metadata": {},
   "outputs": [],
   "source": [
    "def add_base_constraints(model, variables):\n",
    "\n",
    "    # fix k_deg_1 = 1, k_deg = 2 for identifiability\n",
    "    model.addConstr(variables['k_deg_1'] == 1, name=\"Fix_k_deg_1\")\n",
    "    model.addConstr(variables['k_deg_2'] == 1, name=\"Fix_k_deg_2\")\n",
    "\n",
    "    # distributional constraints\n",
    "    model.addConstr(variables['p1'].sum() <= 1, name=\"Dist_x1\")\n",
    "    model.addConstr(variables['p2'].sum() <= 1, name=\"Dist_x2\")"
   ]
  },
  {
   "cell_type": "code",
   "execution_count": 42,
   "metadata": {},
   "outputs": [],
   "source": [
    "def add_factorization_constraint(model, variables):\n",
    "\n",
    "    # get variables\n",
    "    p1 = variables['p1']\n",
    "    p2 = variables['p2']\n",
    "    p = variables['p']\n",
    "\n",
    "    # outer product marginals\n",
    "    outer = p1[:, None] @ p2[None, :]\n",
    "\n",
    "    # equate dummy joint variable to product of marginals: all original states\n",
    "    model.addConstr(p == outer, name=f\"Joint_factorize\")"
   ]
  },
  {
   "cell_type": "markdown",
   "metadata": {},
   "source": [
    "### Model constructions\n",
    "\n",
    "Construct models, add variables and constraints using functions before optimizing to test feasibility\n",
    "\n",
    "Models for probability and moment constraints"
   ]
  },
  {
   "cell_type": "code",
   "execution_count": 43,
   "metadata": {},
   "outputs": [],
   "source": [
    "def construct_model_probabilities(truncation_OB, truncationM_OB, truncation_OG, extent_OG, i, silent=True, time_limit=300):\n",
    "    \n",
    "    # WLS license\n",
    "    options = json.load(open(\"../../../WLS_credentials.json\"))\n",
    "\n",
    "    # silent\n",
    "    if silent:\n",
    "        options['OutputFlag'] = 0\n",
    "\n",
    "    # environment context\n",
    "    with gp.Env(params=options) as env:\n",
    "\n",
    "        # model context\n",
    "        with gp.Model('test-construction', env=env) as model:\n",
    "\n",
    "            # model settings\n",
    "            model.Params.TimeLimit = time_limit\n",
    "            K = 100\n",
    "\n",
    "            # variables\n",
    "\n",
    "            # marginal stationary distributions: original counts (size = largest original state used + 1)\n",
    "            p1 = model.addMVar(shape=(extent_OG['max_x1_OG'] + 1), vtype=GRB.CONTINUOUS, name=\"p1\", lb=0, ub=1)\n",
    "            p2 = model.addMVar(shape=(extent_OG['max_x2_OG'] + 1), vtype=GRB.CONTINUOUS, name=\"p2\", lb=0, ub=1)\n",
    "\n",
    "            # joint distribution\n",
    "            p = model.addMVar(shape=(extent_OG['max_x1_OG'] + 1, extent_OG['max_x2_OG'] + 1), vtype=GRB.CONTINUOUS, name=\"p\", lb=0, ub=1)\n",
    "\n",
    "            # reaction rate constants\n",
    "            rate_names = ['k_tx_1', 'k_tx_2', 'k_deg_1', 'k_deg_2']\n",
    "            rates = model.addVars(rate_names, vtype=GRB.CONTINUOUS, lb=0, ub=K, name=rate_names)\n",
    "\n",
    "            # collect variables\n",
    "            variables = {\n",
    "                'p': p,\n",
    "                'p1': p1,\n",
    "                'p2': p2,\n",
    "                'k_tx_1': rates['k_tx_1'],\n",
    "                'k_tx_2': rates['k_tx_2'],\n",
    "                'k_deg_1': rates['k_deg_1'],\n",
    "                'k_deg_2': rates['k_deg_2']\n",
    "            }\n",
    "\n",
    "            # constraints\n",
    "\n",
    "            # base constraints\n",
    "            add_base_constraints(model, variables)\n",
    "\n",
    "            # independence constraints\n",
    "            add_factorization_constraint(model, variables)\n",
    "\n",
    "            # B constraints\n",
    "            add_B_constraints(model, variables, truncation_OB, truncation_OG, i)\n",
    "\n",
    "            # marginal B constraints\n",
    "            # add_marginal_B_constraints(model, variables, truncationM_OB, truncation_OG)\n",
    "\n",
    "            # CME constraints\n",
    "            add_CME_constraints(model, variables, extent_OG)\n",
    "\n",
    "            # marginal CME constraints\n",
    "            # add_marginal_CME_constraints(model, variables, extent_OG)\n",
    "\n",
    "            # write to file\n",
    "            # model.write(\"./Test-Info/Models/constraint_test_new.lp\")\n",
    "\n",
    "            # optimize: testing feasibility\n",
    "            model.setObjective(0, GRB.MINIMIZE)\n",
    "            model.optimize()\n",
    "            \n",
    "            # get status\n",
    "            status = status_codes[model.status]\n",
    "\n",
    "            print(f\"Model is {status}\")\n",
    "\n",
    "            return status"
   ]
  },
  {
   "cell_type": "code",
   "execution_count": 44,
   "metadata": {},
   "outputs": [],
   "source": [
    "def construct_model_moments(moments_OB, beta, extent_OG, silent=True, time_limit=300):\n",
    "    \n",
    "    # WLS license\n",
    "    options = json.load(open(\"../../../WLS_credentials.json\"))\n",
    "\n",
    "    # silent\n",
    "    if silent:\n",
    "        options['OutputFlag'] = 0\n",
    "\n",
    "    # environment context\n",
    "    with gp.Env(params=options) as env:\n",
    "\n",
    "        # model context\n",
    "        with gp.Model('test-construction', env=env) as model:\n",
    "\n",
    "            # model settings\n",
    "            model.Params.TimeLimit = time_limit\n",
    "            K = 100\n",
    "\n",
    "            # variables\n",
    "\n",
    "            # marginal stationary distributions: original counts (size = largest original state used + 1)\n",
    "            p1 = model.addMVar(shape=(extent_OG['max_x1_OG'] + 1), vtype=GRB.CONTINUOUS, name=\"p1\", lb=0, ub=1)\n",
    "            p2 = model.addMVar(shape=(extent_OG['max_x2_OG'] + 1), vtype=GRB.CONTINUOUS, name=\"p2\", lb=0, ub=1)\n",
    "\n",
    "            # joint distribution\n",
    "            p = model.addMVar(shape=(extent_OG['max_x1_OG'] + 1, extent_OG['max_x2_OG'] + 1), vtype=GRB.CONTINUOUS, name=\"p\", lb=0, ub=1)\n",
    "\n",
    "            # reaction rate constants\n",
    "            rate_names = ['k_tx_1', 'k_tx_2', 'k_deg_1', 'k_deg_2']\n",
    "            rates = model.addVars(rate_names, vtype=GRB.CONTINUOUS, lb=0, ub=K, name=rate_names)\n",
    "\n",
    "            # moments\n",
    "            E_x1 = model.addVar(vtype=GRB.CONTINUOUS, name=\"E_x1\")\n",
    "            E_x2 = model.addVar(vtype=GRB.CONTINUOUS, name=\"E_x2\")\n",
    "\n",
    "            # collect variables\n",
    "            variables = {\n",
    "                'p': p,\n",
    "                'p1': p1,\n",
    "                'p2': p2,\n",
    "                'k_tx_1': rates['k_tx_1'],\n",
    "                'k_tx_2': rates['k_tx_2'],\n",
    "                'k_deg_1': rates['k_deg_1'],\n",
    "                'k_deg_2': rates['k_deg_2'],\n",
    "                'E_x1': E_x1,\n",
    "                'E_x2': E_x2\n",
    "            }\n",
    "\n",
    "            # constraints\n",
    "\n",
    "            # base constraints\n",
    "            add_base_constraints(model, variables)\n",
    "\n",
    "            # independence constraints\n",
    "            add_factorization_constraint(model, variables)\n",
    "\n",
    "            # moment constraint\n",
    "            add_moment_constraint(model, variables, extent_OG, moments_OB, beta)\n",
    "\n",
    "            # B constraints\n",
    "            # add_B_constraints(model, variables, truncation_OB, truncation_OG, i)\n",
    "\n",
    "            # marginal B constraints\n",
    "            # add_marginal_B_constraints(model, variables, truncationM_OB, truncation_OG)\n",
    "\n",
    "            # CME constraints\n",
    "            add_CME_constraints(model, variables, extent_OG)\n",
    "\n",
    "            # marginal CME constraints\n",
    "            # add_marginal_CME_constraints(model, variables, extent_OG)\n",
    "\n",
    "            # write to file\n",
    "            # model.write(\"./Test-Info/Models/constraint_test_new.lp\")\n",
    "\n",
    "            # optimize: testing feasibility\n",
    "            model.setObjective(0, GRB.MINIMIZE)\n",
    "            model.optimize()\n",
    "            \n",
    "            # get status\n",
    "            status = status_codes[model.status]\n",
    "\n",
    "            print(f\"Model is {status}\")\n",
    "\n",
    "            return status"
   ]
  },
  {
   "cell_type": "code",
   "execution_count": 45,
   "metadata": {},
   "outputs": [],
   "source": [
    "def construct_model_combined(truncation_OB, truncationM_OB, moments_OB, beta, truncation_OG, extent_OG, i, silent=True, time_limit=300):\n",
    "    \n",
    "    # WLS license\n",
    "    options = json.load(open(\"../../../WLS_credentials.json\"))\n",
    "\n",
    "    # silent\n",
    "    if silent:\n",
    "        options['OutputFlag'] = 0\n",
    "\n",
    "    # environment context\n",
    "    with gp.Env(params=options) as env:\n",
    "\n",
    "        # model context\n",
    "        with gp.Model('test-construction', env=env) as model:\n",
    "\n",
    "            # model settings\n",
    "            model.Params.TimeLimit = time_limit\n",
    "            K = 100\n",
    "\n",
    "            # variables\n",
    "\n",
    "            # marginal stationary distributions: original counts (size = largest original state used + 1)\n",
    "            p1 = model.addMVar(shape=(extent_OG['max_x1_OG'] + 1), vtype=GRB.CONTINUOUS, name=\"p1\", lb=0, ub=1)\n",
    "            p2 = model.addMVar(shape=(extent_OG['max_x2_OG'] + 1), vtype=GRB.CONTINUOUS, name=\"p2\", lb=0, ub=1)\n",
    "\n",
    "            # joint distribution\n",
    "            p = model.addMVar(shape=(extent_OG['max_x1_OG'] + 1, extent_OG['max_x2_OG'] + 1), vtype=GRB.CONTINUOUS, name=\"p\", lb=0, ub=1)\n",
    "\n",
    "            # reaction rate constants\n",
    "            rate_names = ['k_tx_1', 'k_tx_2', 'k_deg_1', 'k_deg_2']\n",
    "            rates = model.addVars(rate_names, vtype=GRB.CONTINUOUS, lb=0, ub=K, name=rate_names)\n",
    "\n",
    "            # moments\n",
    "            E_x1 = model.addVar(vtype=GRB.CONTINUOUS, name=\"E_x1\")\n",
    "            E_x2 = model.addVar(vtype=GRB.CONTINUOUS, name=\"E_x2\")\n",
    "\n",
    "            # collect variables\n",
    "            variables = {\n",
    "                'p': p,\n",
    "                'p1': p1,\n",
    "                'p2': p2,\n",
    "                'k_tx_1': rates['k_tx_1'],\n",
    "                'k_tx_2': rates['k_tx_2'],\n",
    "                'k_deg_1': rates['k_deg_1'],\n",
    "                'k_deg_2': rates['k_deg_2'],\n",
    "                'E_x1': E_x1,\n",
    "                'E_x2': E_x2\n",
    "            }\n",
    "\n",
    "            # constraints\n",
    "\n",
    "            # base constraints\n",
    "            add_base_constraints(model, variables)\n",
    "\n",
    "            # independence constraints\n",
    "            add_factorization_constraint(model, variables)\n",
    "\n",
    "            # moment constraint\n",
    "            add_moment_constraint(model, variables, extent_OG, moments_OB, beta)\n",
    "\n",
    "            # B constraints\n",
    "            add_B_constraints(model, variables, truncation_OB, truncation_OG, i)\n",
    "\n",
    "            # marginal B constraints\n",
    "            # add_marginal_B_constraints(model, variables, truncationM_OB, truncation_OG)\n",
    "\n",
    "            # CME constraints\n",
    "            add_CME_constraints(model, variables, extent_OG)\n",
    "\n",
    "            # marginal CME constraints\n",
    "            # add_marginal_CME_constraints(model, variables, extent_OG)\n",
    "\n",
    "            # write to file\n",
    "            # model.write(\"./Test-Info/Models/constraint_test_new.lp\")\n",
    "\n",
    "            # optimize: testing feasibility\n",
    "            model.setObjective(0, GRB.MINIMIZE)\n",
    "            model.optimize()\n",
    "            \n",
    "            # get status\n",
    "            status = status_codes[model.status]\n",
    "\n",
    "            print(f\"Model is {status}\")\n",
    "\n",
    "            return status"
   ]
  },
  {
   "cell_type": "code",
   "execution_count": 415,
   "metadata": {},
   "outputs": [],
   "source": [
    "def construct_model_testing(truncation_OB, truncationM_OB, moments_OB, beta, truncation_OG, extent_OG, i, silent=True, time_limit=300):\n",
    "    \n",
    "    # WLS license\n",
    "    options = json.load(open(\"../../../WLS_credentials.json\"))\n",
    "\n",
    "    # silent\n",
    "    if silent:\n",
    "        options['OutputFlag'] = 0\n",
    "\n",
    "    # environment context\n",
    "    with gp.Env(params=options) as env:\n",
    "\n",
    "        # model context\n",
    "        with gp.Model('test-construction', env=env) as model:\n",
    "\n",
    "            # model settings\n",
    "            model.Params.TimeLimit = time_limit\n",
    "            model.Params.MIPFocus = 1\n",
    "            K = 100\n",
    "\n",
    "            # variables\n",
    "\n",
    "            # marginal stationary distributions: original counts (size = largest original state used + 1)\n",
    "            p1 = model.addMVar(shape=(extent_OG['max_x1_OG'] + 1), vtype=GRB.CONTINUOUS, name=\"p1\", lb=0, ub=1)\n",
    "            p2 = model.addMVar(shape=(extent_OG['max_x2_OG'] + 1), vtype=GRB.CONTINUOUS, name=\"p2\", lb=0, ub=1)\n",
    "\n",
    "            # joint distribution\n",
    "            # p = model.addMVar(shape=(extent_OG['max_x1_OG'] + 1, extent_OG['max_x2_OG'] + 1), vtype=GRB.CONTINUOUS, name=\"p\", lb=0, ub=1)\n",
    "\n",
    "            # reaction rate constants\n",
    "            rate_names = ['k_tx_1', 'k_tx_2', 'k_deg_1', 'k_deg_2']\n",
    "            rates = model.addVars(rate_names, vtype=GRB.CONTINUOUS, lb=0, ub=K, name=rate_names)\n",
    "\n",
    "            # moments\n",
    "            E_x1 = model.addVar(vtype=GRB.CONTINUOUS, name=\"E_x1\")\n",
    "            E_x2 = model.addVar(vtype=GRB.CONTINUOUS, name=\"E_x2\")\n",
    "\n",
    "            # collect variables\n",
    "            variables = {\n",
    "                'p1': p1,\n",
    "                'p2': p2,\n",
    "                'k_tx_1': rates['k_tx_1'],\n",
    "                'k_tx_2': rates['k_tx_2'],\n",
    "                'k_deg_1': rates['k_deg_1'],\n",
    "                'k_deg_2': rates['k_deg_2'],\n",
    "                'E_x1': E_x1,\n",
    "                'E_x2': E_x2\n",
    "            }\n",
    "\n",
    "            # constraints\n",
    "\n",
    "            # base constraints\n",
    "            add_base_constraints(model, variables)\n",
    "\n",
    "            # independence constraints\n",
    "            # add_factorization_constraint(model, variables)\n",
    "\n",
    "            # moment constraint\n",
    "            # add_moment_constraint(model, variables, extent_OG, moments_OB, beta)\n",
    "\n",
    "            # B constraints\n",
    "            add_B_constraints(model, variables, truncation_OB, truncation_OG, i)\n",
    "\n",
    "            # marginal B constraints\n",
    "            # add_marginal_B_constraints(model, variables, truncationM_OB, truncation_OG, i)\n",
    "\n",
    "            # CME constraints\n",
    "            # add_CME_constraints(model, variables, extent_OG)\n",
    "            # add_CME_constraints_factorized(model, variables, extent_OG)\n",
    "\n",
    "            # marginal CME constraints\n",
    "            add_marginal_CME_constraints(model, variables, extent_OG)\n",
    "\n",
    "            # write to file\n",
    "            # model.write(\"./Test-Info/Models/constraint_test_new.lp\")\n",
    "\n",
    "            # optimize: testing feasibility\n",
    "            model.setObjective(0, GRB.MINIMIZE)\n",
    "            model.optimize()\n",
    "            \n",
    "            # get status\n",
    "            status = status_codes[model.status]\n",
    "\n",
    "            print(f\"Model is {status}\")\n",
    "\n",
    "            return status"
   ]
  },
  {
   "cell_type": "code",
   "execution_count": 417,
   "metadata": {},
   "outputs": [
    {
     "name": "stdout",
     "output_type": "stream",
     "text": [
      "Set parameter Username\n",
      "Set parameter LicenseID to value 2616229\n",
      "Set parameter WLSAccessID\n",
      "Set parameter WLSSecret\n",
      "Set parameter LicenseID to value 2587777\n",
      "Academic license 2587777 - for non-commercial use only - registered to wj___@ic.ac.uk\n",
      "Set parameter TimeLimit to value 3600\n",
      "Set parameter MIPFocus to value 1\n"
     ]
    },
    {
     "name": "stdout",
     "output_type": "stream",
     "text": [
      "Gurobi Optimizer version 12.0.1 build v12.0.1rc0 (win64 - Windows 11.0 (22631.2))\n",
      "\n",
      "CPU model: Intel(R) Core(TM) i5-1035G1 CPU @ 1.00GHz, instruction set [SSE2|AVX|AVX2|AVX512]\n",
      "Thread count: 4 physical cores, 8 logical processors, using up to 8 threads\n",
      "\n",
      "Non-default parameters:\n",
      "TimeLimit  3600\n",
      "MIPFocus  1\n",
      "\n",
      "Academic license 2587777 - for non-commercial use only - registered to wj___@ic.ac.uk\n",
      "Optimize a model with 4 rows, 1474 columns and 1470 nonzeros\n",
      "Model fingerprint: 0x35cf7689\n",
      "Model has 1474 quadratic constraints\n",
      "Coefficient statistics:\n",
      "  Matrix range     [1e+00, 1e+00]\n",
      "  QMatrix range    [4e-06, 7e+02]\n",
      "  Objective range  [0e+00, 0e+00]\n",
      "  Bounds range     [1e+00, 1e+02]\n",
      "  RHS range        [1e+00, 1e+00]\n",
      "  QRHS range       [1e-02, 1e+00]\n",
      "Presolve removed 2 rows and 4 columns\n",
      "\n",
      "Continuous model is non-convex -- solving as a MIP\n",
      "\n",
      "Presolve removed 2 rows and 4 columns\n",
      "Presolve time: 3.89s\n",
      "Presolved: 2083953 rows, 541691 columns, 6855713 nonzeros\n",
      "Presolved model has 540222 bilinear constraint(s)\n",
      "Variable types: 541691 continuous, 0 integer (0 binary)\n",
      "\n",
      "Deterministic concurrent LP optimizer: primal simplex, dual simplex, and barrier\n",
      "Showing barrier log only...\n",
      "\n",
      "Root barrier log...\n",
      "\n",
      "Ordering time: 5.09s\n",
      "\n",
      "Barrier statistics:\n",
      " Dense cols : 1470\n",
      " AA' NZ     : 5.677e+06\n",
      " Factor NZ  : 8.905e+06 (roughly 700 MB of memory)\n",
      " Factor Ops : 1.125e+09 (less than 1 second per iteration)\n",
      " Threads    : 2\n",
      "\n",
      "                  Objective                Residual\n",
      "Iter       Primal          Dual         Primal    Dual     Compl     Time\n",
      "   0   0.00000000e+00 -5.00590000e+00  2.77e+06 0.00e+00  6.83e+00    58s\n",
      "   1   0.00000000e+00 -1.93915366e+03  2.58e+06 6.17e-02  6.26e+00    61s\n",
      "   2   0.00000000e+00 -4.01167244e+03  2.01e+06 4.46e-02  4.68e+00    63s\n",
      "   3   0.00000000e+00 -1.13263523e+04  7.48e+05 1.35e-14  1.94e+00    67s\n",
      "   4   0.00000000e+00 -1.03816564e+04  4.70e+04 2.29e-12  1.26e-01    70s\n",
      "   5   0.00000000e+00 -7.05411750e+03  9.65e+03 6.69e-13  2.79e-02    72s\n",
      "   6   0.00000000e+00 -5.43366227e+03  3.69e+03 5.22e-13  1.19e-02    75s\n",
      "   7   0.00000000e+00 -2.48929011e+03  7.52e+02 1.78e-13  3.10e-03    79s\n",
      "   8   0.00000000e+00 -1.17644113e+03  1.23e+02 1.37e-13  8.80e-04    82s\n",
      "   9   0.00000000e+00 -8.25833656e+02  9.49e+01 1.01e-13  6.49e-04    86s\n",
      "  10   0.00000000e+00 -5.86517933e+02  7.03e+01 1.02e-13  4.72e-04    89s\n",
      "  11   0.00000000e+00 -2.97930747e+02  5.57e+01 1.46e-13  3.04e-04    93s\n",
      "  12   0.00000000e+00 -7.82199648e+01  3.75e+01 1.40e-11  1.58e-04    95s\n",
      "  13   0.00000000e+00 -3.40568373e+01  1.76e+01 9.29e-12  8.62e-05    98s\n",
      "  14   0.00000000e+00 -8.85484736e+00  9.66e+00 9.09e-12  5.42e-05   102s\n",
      "  15   0.00000000e+00 -4.31765949e+00  4.48e+00 8.08e-12  3.81e-05   105s\n",
      "  16   0.00000000e+00 -3.18103295e+00  1.31e+00 4.23e-12  2.83e-05   108s\n",
      "  17   0.00000000e+00 -2.63376778e+00  1.01e+00 4.01e-12  2.20e-05   110s\n",
      "  18   0.00000000e+00 -2.04561769e+00  8.71e-01 2.93e-12  1.87e-05   114s\n",
      "  19   0.00000000e+00 -1.61930243e+00  8.54e-01 1.19e-12  1.82e-05   117s\n",
      "  20   0.00000000e+00 -1.19398047e+00  7.21e-01 2.40e-12  1.52e-05   121s\n",
      "  21   0.00000000e+00 -1.14979387e+00  7.07e-01 1.90e-12  1.49e-05   125s\n",
      "  22   0.00000000e+00 -9.45259062e-01  6.13e-01 1.34e-12  1.29e-05   128s\n",
      "  23   0.00000000e+00 -7.34001661e-01  5.67e-01 1.51e-12  1.17e-05   132s\n",
      "  24   0.00000000e+00 -6.24571560e-01  4.39e-01 1.20e-12  9.12e-06   136s\n",
      "  25   0.00000000e+00 -5.80721414e-01  4.21e-01 1.07e-12  8.72e-06   140s\n",
      "  26   0.00000000e+00 -5.29499158e-01  3.52e-01 9.72e-13  7.28e-06   144s\n",
      "  27   0.00000000e+00 -4.02704502e-01  3.35e-01 7.84e-13  6.85e-06   147s\n",
      "  28   0.00000000e+00 -3.88498031e-01  2.21e-01 6.53e-13  4.57e-06   151s\n",
      "  29   0.00000000e+00 -3.20214267e-01  1.86e-01 4.54e-13  3.88e-06   154s\n",
      "  30   0.00000000e+00 -2.90159461e-01  1.44e-01 3.60e-13  3.04e-06   158s\n",
      "  31   0.00000000e+00 -1.91637531e-01  1.30e-01 6.03e-13  2.70e-06   162s\n",
      "  32   0.00000000e+00 -1.72786653e-01  1.24e-01 5.73e-13  2.58e-06   165s\n",
      "  33   0.00000000e+00 -1.58322775e-01  1.07e-01 6.82e-13  2.22e-06   169s\n",
      "  34   0.00000000e+00 -1.42509324e-01  6.20e-02 6.57e-13  1.31e-06   172s\n",
      "  35   0.00000000e+00 -1.28418069e-01  6.01e-02 5.71e-13  1.26e-06   175s\n",
      "  36   0.00000000e+00 -9.79635715e-02  4.74e-02 3.57e-13  9.99e-07   178s\n",
      "  37   0.00000000e+00 -9.13643570e-02  4.50e-02 3.37e-13  9.48e-07   181s\n",
      "  38   0.00000000e+00 -6.22821549e-02  3.94e-02 3.39e-13  8.04e-07   185s\n",
      "  39   0.00000000e+00 -5.06533548e-02  2.88e-02 3.15e-13  5.94e-07   187s\n",
      "  40   0.00000000e+00 -3.68131946e-02  2.61e-02 3.12e-13  5.27e-07   189s\n",
      "  41   0.00000000e+00 -2.63648786e-02  8.80e-03 4.25e-13  1.86e-07   191s\n",
      "  42   0.00000000e+00 -1.36385952e-02  3.93e-04 5.75e-13  1.43e-08   193s\n",
      "  43   0.00000000e+00 -2.05905424e-04  2.50e-05 5.58e-13  5.97e-10   195s\n",
      "  44   0.00000000e+00 -1.83777619e-05  1.41e-05 6.39e-13  2.91e-10   196s\n",
      "  45   0.00000000e+00 -4.64430042e-06  2.22e-06 4.46e-13  4.64e-11   197s\n",
      "  46   0.00000000e+00 -3.22236783e-06  1.66e-06 4.18e-13  3.48e-11   198s\n",
      "  47   0.00000000e+00 -2.19216080e-06  1.01e-07 4.13e-13  3.04e-12   200s\n",
      "  48   0.00000000e+00 -1.26734765e-07  1.01e-08 1.58e-13  2.41e-13   201s\n",
      "  49   0.00000000e+00 -1.34786830e-08  7.10e-09 3.07e-14  3.57e-14   203s\n",
      "  50   0.00000000e+00 -1.55558376e-09  1.67e-09 1.68e-14  2.37e-15   204s\n",
      "\n",
      "Barrier solved model in 50 iterations and 204.42 seconds (35.13 work units)\n",
      "Optimal objective 0.00000000e+00\n",
      "\n",
      "\n",
      "Root crossover log...\n",
      "\n",
      "  758660 DPushes remaining with DInf 0.0000000e+00               206s\n",
      "       0 DPushes remaining with DInf 0.0000000e+00               207s\n",
      "\n",
      "   21269 PPushes remaining with PInf 0.0000000e+00               207s\n",
      "       0 PPushes remaining with PInf 0.0000000e+00               209s\n",
      "\n",
      "  Push phase complete: Pinf 0.0000000e+00, Dinf 0.0000000e+00    209s\n",
      "\n",
      "\n",
      "Root simplex log...\n",
      "\n",
      "Iteration    Objective       Primal Inf.    Dual Inf.      Time\n",
      "   21332    0.0000000e+00   0.000000e+00   0.000000e+00    209s\n",
      "   21332    0.0000000e+00   0.000000e+00   0.000000e+00    211s\n",
      "Concurrent spin time: 27.03s (can be avoided by choosing Method=3)\n",
      "\n",
      "Solved with barrier\n",
      "\n",
      "Root relaxation: objective 0.000000e+00, 21332 iterations, 183.19 seconds (30.03 work units)\n",
      "\n",
      "    Nodes    |    Current Node    |     Objective Bounds      |     Work\n",
      " Expl Unexpl |  Obj  Depth IntInf | Incumbent    BestBd   Gap | It/Node Time\n",
      "\n",
      "     0     0    0.00000    0 6923          -    0.00000      -     -  212s\n",
      "     0     0    0.00000    0   33          -    0.00000      -     -  236s\n",
      "     0     0    0.00000    0   15          -    0.00000      -     -  248s\n",
      "     0     0    0.00000    0   15          -    0.00000      -     -  253s\n",
      "     0     0    0.00000    0   15          -    0.00000      -     -  258s\n",
      "     0     0    0.00000    0   15          -    0.00000      -     -  262s\n",
      "     0     0    0.00000    0   15          -    0.00000      -     -  267s\n",
      "     0     0    0.00000    0   15          -    0.00000      -     -  272s\n",
      "     0     0    0.00000    0   32          -    0.00000      -     -  321s\n",
      "     0     2    0.00000    0   32          -    0.00000      -     -  574s\n",
      "     1     1 infeasible    1               -    0.00000      -   268  591s\n",
      "     2     2    0.00000    1  163          -    0.00000      -   246  644s\n",
      "     3     1 infeasible    2               -    0.00000      -   675  978s\n",
      "     4     2    0.00000    2  294          -    0.00000      -  3873 1162s\n",
      "     5     3    0.00000    3  179          -    0.00000      -  3859 1739s\n",
      "\n",
      "Cutting planes:\n",
      "  RLT: 7\n",
      "\n",
      "Explored 6 nodes (41374 simplex iterations) in 2638.17 seconds (2283.57 work units)\n",
      "Thread count was 8 (of 8 available processors)\n",
      "\n",
      "Solution count 0\n",
      "\n",
      "Solve interrupted (error code 10001)\n",
      "Best objective -, best bound 0.000000000000e+00, gap -\n"
     ]
    },
    {
     "ename": "GurobiError",
     "evalue": "Out of memory",
     "output_type": "error",
     "traceback": [
      "\u001b[1;31m---------------------------------------------------------------------------\u001b[0m",
      "\u001b[1;31mGurobiError\u001b[0m                               Traceback (most recent call last)",
      "Cell \u001b[1;32mIn[417], line 3\u001b[0m\n\u001b[0;32m      1\u001b[0m i \u001b[38;5;241m=\u001b[39m \u001b[38;5;241m0\u001b[39m\n\u001b[0;32m      2\u001b[0m sample \u001b[38;5;241m=\u001b[39m \u001b[38;5;124mf\u001b[39m\u001b[38;5;124m\"\u001b[39m\u001b[38;5;124msample-\u001b[39m\u001b[38;5;132;01m{\u001b[39;00mi\u001b[38;5;132;01m}\u001b[39;00m\u001b[38;5;124m\"\u001b[39m\n\u001b[1;32m----> 3\u001b[0m \u001b[43mconstruct_model_testing\u001b[49m\u001b[43m(\u001b[49m\u001b[43mtruncation_OB\u001b[49m\u001b[43m[\u001b[49m\u001b[43msample\u001b[49m\u001b[43m]\u001b[49m\u001b[43m,\u001b[49m\u001b[43m \u001b[49m\u001b[43mtruncationM_OB\u001b[49m\u001b[43m[\u001b[49m\u001b[43msample\u001b[49m\u001b[43m]\u001b[49m\u001b[43m,\u001b[49m\u001b[43m \u001b[49m\u001b[43mmoments_OB\u001b[49m\u001b[43m[\u001b[49m\u001b[43msample\u001b[49m\u001b[43m]\u001b[49m\u001b[43m,\u001b[49m\u001b[43m \u001b[49m\u001b[43mbeta\u001b[49m\u001b[43m,\u001b[49m\u001b[43m \u001b[49m\u001b[43mtruncation_OG\u001b[49m\u001b[43m,\u001b[49m\u001b[43m \u001b[49m\u001b[43mextent_OG\u001b[49m\u001b[43m[\u001b[49m\u001b[43msample\u001b[49m\u001b[43m]\u001b[49m\u001b[43m,\u001b[49m\u001b[43m \u001b[49m\u001b[38;5;241;43m0\u001b[39;49m\u001b[43m,\u001b[49m\u001b[43m \u001b[49m\u001b[43msilent\u001b[49m\u001b[38;5;241;43m=\u001b[39;49m\u001b[38;5;28;43;01mFalse\u001b[39;49;00m\u001b[43m,\u001b[49m\u001b[43m \u001b[49m\u001b[43mtime_limit\u001b[49m\u001b[38;5;241;43m=\u001b[39;49m\u001b[38;5;241;43m3600\u001b[39;49m\u001b[43m)\u001b[49m\n",
      "Cell \u001b[1;32mIn[415], line 79\u001b[0m, in \u001b[0;36mconstruct_model_testing\u001b[1;34m(truncation_OB, truncationM_OB, moments_OB, beta, truncation_OG, extent_OG, i, silent, time_limit)\u001b[0m\n\u001b[0;32m     74\u001b[0m \u001b[38;5;66;03m# write to file\u001b[39;00m\n\u001b[0;32m     75\u001b[0m \u001b[38;5;66;03m# model.write(\"./Test-Info/Models/constraint_test_new.lp\")\u001b[39;00m\n\u001b[0;32m     76\u001b[0m \n\u001b[0;32m     77\u001b[0m \u001b[38;5;66;03m# optimize: testing feasibility\u001b[39;00m\n\u001b[0;32m     78\u001b[0m model\u001b[38;5;241m.\u001b[39msetObjective(\u001b[38;5;241m0\u001b[39m, GRB\u001b[38;5;241m.\u001b[39mMINIMIZE)\n\u001b[1;32m---> 79\u001b[0m \u001b[43mmodel\u001b[49m\u001b[38;5;241;43m.\u001b[39;49m\u001b[43moptimize\u001b[49m\u001b[43m(\u001b[49m\u001b[43m)\u001b[49m\n\u001b[0;32m     81\u001b[0m \u001b[38;5;66;03m# get status\u001b[39;00m\n\u001b[0;32m     82\u001b[0m status \u001b[38;5;241m=\u001b[39m status_codes[model\u001b[38;5;241m.\u001b[39mstatus]\n",
      "File \u001b[1;32msrc\\\\gurobipy\\\\_model.pyx:903\u001b[0m, in \u001b[0;36mgurobipy._model.Model.optimize\u001b[1;34m()\u001b[0m\n",
      "\u001b[1;31mGurobiError\u001b[0m: Out of memory"
     ]
    }
   ],
   "source": [
    "i = 0\n",
    "sample = f\"sample-{i}\"\n",
    "construct_model_testing(truncation_OB[sample], truncationM_OB[sample], moments_OB[sample], beta, truncation_OG, extent_OG[sample], 0, silent=False, time_limit=3600)"
   ]
  },
  {
   "cell_type": "code",
   "execution_count": 401,
   "metadata": {},
   "outputs": [
    {
     "name": "stderr",
     "output_type": "stream",
     "text": [
      "100%|██████████| 14/14 [00:01<00:00, 11.33it/s]\n"
     ]
    },
    {
     "data": {
      "image/png": "[encoded data removed]",
      "text/plain": [
       "<Figure size 600x300 with 2 Axes>"
      ]
     },
     "metadata": {},
     "output_type": "display_data"
    },
    {
     "name": "stderr",
     "output_type": "stream",
     "text": [
      "100%|██████████| 2/2 [00:00<00:00,  6.67it/s]\n",
      "100%|██████████| 2/2 [00:00<00:00,  8.42it/s]\n",
      "100%|██████████| 4/4 [00:00<00:00, 45.46it/s]\n"
     ]
    }
   ],
   "source": [
    "# load\n",
    "dataset = pd.read_csv(\"./Test-Info/Data/counts_low_alt.csv\", index_col=0)\n",
    "beta = np.loadtxt(\"./Test-Info/Data/beta_low_alt.csv\")\n",
    "\n",
    "# process\n",
    "truncation_OB, truncationM_OB, moments_OB, truncation_OG, extent_OG = dataset_processing(dataset, beta, thresh_OG=10**-3)"
   ]
  },
  {
   "cell_type": "markdown",
   "metadata": {},
   "source": [
    "### Dataset optimization"
   ]
  },
  {
   "cell_type": "code",
   "execution_count": 46,
   "metadata": {},
   "outputs": [],
   "source": [
    "def dataset_analysis_probabilities(truncation_OB, truncationM_OB, truncation_OG, extent_OG, time_limit=300):\n",
    "\n",
    "    # store results\n",
    "    result_dict = {}\n",
    "\n",
    "    # loop over samples in dataset\n",
    "    for i, sample in enumerate(truncation_OB.keys()):\n",
    "\n",
    "        # test feasibility\n",
    "        status = construct_model_probabilities(\n",
    "            truncation_OB[sample],\n",
    "            truncationM_OB[sample],\n",
    "            truncation_OG,\n",
    "            extent_OG[sample],\n",
    "            i,\n",
    "            time_limit=time_limit\n",
    "        )\n",
    "\n",
    "        # record status\n",
    "        result_dict[i] = status\n",
    "\n",
    "    return result_dict"
   ]
  },
  {
   "cell_type": "code",
   "execution_count": 47,
   "metadata": {},
   "outputs": [],
   "source": [
    "def dataset_analysis_moments(beta, moments_OB, extent_OG, time_limit=300):\n",
    "\n",
    "    # store results\n",
    "    result_dict = {}\n",
    "\n",
    "    # loop over samples in dataset\n",
    "    for i, sample in enumerate(truncation_OB.keys()):\n",
    "\n",
    "        # test feasibility\n",
    "        status = construct_model_moments(\n",
    "            moments_OB[sample],\n",
    "            beta,\n",
    "            extent_OG[sample],\n",
    "            time_limit=time_limit\n",
    "        )\n",
    "\n",
    "        # record status\n",
    "        result_dict[i] = status\n",
    "\n",
    "    return result_dict"
   ]
  },
  {
   "cell_type": "code",
   "execution_count": 48,
   "metadata": {},
   "outputs": [],
   "source": [
    "def dataset_analysis_combined(truncation_OB, truncationM_OB, moments_OB, beta, truncation_OG, extent_OG, time_limit=300):\n",
    "\n",
    "    # store results\n",
    "    result_dict = {}\n",
    "\n",
    "    # loop over samples in dataset\n",
    "    for i, sample in enumerate(truncation_OB.keys()):\n",
    "\n",
    "        # test feasibility\n",
    "        status = construct_model_combined(\n",
    "            truncation_OB[sample],\n",
    "            truncationM_OB[sample],\n",
    "            moments_OB[sample],\n",
    "            beta,\n",
    "            truncation_OG,\n",
    "            extent_OG[sample],\n",
    "            i,\n",
    "            time_limit=time_limit\n",
    "        )\n",
    "\n",
    "        # record status\n",
    "        result_dict[i] = status\n",
    "\n",
    "    return result_dict"
   ]
  },
  {
   "cell_type": "markdown",
   "metadata": {},
   "source": [
    "## Testing"
   ]
  },
  {
   "cell_type": "code",
   "execution_count": 158,
   "metadata": {},
   "outputs": [
    {
     "name": "stdout",
     "output_type": "stream",
     "text": [
      "Model is OPTIMAL\n",
      "Model is INFEASIBLE\n",
      "Model is INFEASIBLE\n",
      "Model is OPTIMAL\n",
      "Model is OPTIMAL\n",
      "Model is OPTIMAL\n",
      "Model is OPTIMAL\n",
      "Model is OPTIMAL\n",
      "Model is OPTIMAL\n"
     ]
    }
   ],
   "source": [
    "prob_results = dataset_analysis_probabilities(truncation_OB, truncationM_OB, truncation_OG, extent_OG)"
   ]
  },
  {
   "cell_type": "code",
   "execution_count": null,
   "metadata": {},
   "outputs": [
    {
     "name": "stdout",
     "output_type": "stream",
     "text": [
      "Model is INFEASIBLE\n",
      "Model is INFEASIBLE\n",
      "Model is INFEASIBLE\n",
      "Model is TIME_LIMIT\n",
      "Model is TIME_LIMIT\n",
      "Model is TIME_LIMIT\n",
      "Model is OPTIMAL\n",
      "Model is TIME_LIMIT\n",
      "Model is TIME_LIMIT\n"
     ]
    }
   ],
   "source": [
    "moment_results = dataset_analysis_moments(beta, moments_OB, extent_OG)"
   ]
  },
  {
   "cell_type": "markdown",
   "metadata": {},
   "source": [
    "# Correlation tests"
   ]
  },
  {
   "cell_type": "markdown",
   "metadata": {},
   "source": [
    "## Code"
   ]
  },
  {
   "cell_type": "code",
   "execution_count": 79,
   "metadata": {},
   "outputs": [],
   "source": [
    "def dataset_analysis_correlation(dataset, printing=True):\n",
    "                \n",
    "    # get dataset shape\n",
    "    gene_pairs, cells = dataset.shape\n",
    "\n",
    "    # store results\n",
    "    corr_result = {}\n",
    "\n",
    "    # loop over dataset\n",
    "    for i in range(gene_pairs):\n",
    "\n",
    "        # select sample\n",
    "        sample = list(dataset.loc[f'Gene-pair-{i}'])\n",
    "\n",
    "        # convert string to tuple if neccessary (pandas reading csv to string)\n",
    "        if type(sample[0]) == str:\n",
    "            sample = [literal_eval(count_pair) for count_pair in sample]\n",
    "\n",
    "        # separate pairs into individual samples\n",
    "        x1_sample = [x[0] for x in sample]\n",
    "        x2_sample = [x[1] for x in sample]\n",
    "\n",
    "        # test\n",
    "        pearson = scipy.stats.pearsonr(x1_sample, x2_sample, alternative='less')\n",
    "\n",
    "        # store result\n",
    "        corr_result[i] = {'pvalue': float(pearson.pvalue), 'statistic': float(pearson.statistic)}\n",
    "\n",
    "        if printing:\n",
    "            print(f\"sample {i} p-value: {pearson.pvalue}\")\n",
    "\n",
    "    return corr_result"
   ]
  },
  {
   "cell_type": "markdown",
   "metadata": {},
   "source": [
    "## Testing"
   ]
  },
  {
   "cell_type": "code",
   "execution_count": 166,
   "metadata": {},
   "outputs": [
    {
     "name": "stdout",
     "output_type": "stream",
     "text": [
      "sample 0 p-value: 4.721723003002662e-08\n",
      "sample 1 p-value: 1.6687679797083203e-05\n",
      "sample 2 p-value: 7.870966779883357e-06\n",
      "sample 3 p-value: 0.1165844749669706\n",
      "sample 4 p-value: 0.0022143298818704774\n",
      "sample 5 p-value: 0.006908330376833126\n",
      "sample 6 p-value: 0.15576746097762842\n",
      "sample 7 p-value: 0.3011104179337129\n",
      "sample 8 p-value: 0.9703279324620564\n"
     ]
    }
   ],
   "source": [
    "corr_results = dataset_analysis_correlation(count_dataset)"
   ]
  },
  {
   "cell_type": "markdown",
   "metadata": {},
   "source": [
    "# Analysis\n",
    "\n",
    "Run analyis on simulated dataset using the different methods constructed"
   ]
  },
  {
   "cell_type": "markdown",
   "metadata": {},
   "source": [
    "## Running"
   ]
  },
  {
   "cell_type": "markdown",
   "metadata": {},
   "source": [
    "### High capture"
   ]
  },
  {
   "cell_type": "code",
   "execution_count": 33,
   "metadata": {},
   "outputs": [],
   "source": [
    "# load\n",
    "dataset = pd.read_csv(\"./Test-Info/Data/counts_unif_high.csv\", index_col=0)\n",
    "beta = np.loadtxt(\"./Test-Info/Data/beta_unif_high.csv\")"
   ]
  },
  {
   "cell_type": "code",
   "execution_count": 34,
   "metadata": {},
   "outputs": [
    {
     "name": "stderr",
     "output_type": "stream",
     "text": [
      "100%|██████████| 9/9 [00:00<00:00, 11.90it/s]\n"
     ]
    },
    {
     "data": {
      "image/png": "[encoded data removed]",
      "text/plain": [
       "<Figure size 600x300 with 2 Axes>"
      ]
     },
     "metadata": {},
     "output_type": "display_data"
    },
    {
     "name": "stderr",
     "output_type": "stream",
     "text": [
      "100%|██████████| 5/5 [00:06<00:00,  1.23s/it]\n",
      "100%|██████████| 5/5 [00:00<00:00, 113.59it/s]\n",
      "100%|██████████| 16/16 [00:00<00:00, 346.20it/s]\n"
     ]
    }
   ],
   "source": [
    "# process\n",
    "truncation_OB, truncationM_OB, moments_OB, truncation_OG, extent_OG = dataset_processing(dataset, beta)"
   ]
  },
  {
   "cell_type": "code",
   "execution_count": 35,
   "metadata": {},
   "outputs": [
    {
     "name": "stdout",
     "output_type": "stream",
     "text": [
      "Model is INFEASIBLE\n",
      "Model is INFEASIBLE\n",
      "Model is INFEASIBLE\n",
      "Model is INFEASIBLE\n",
      "Model is INFEASIBLE\n",
      "Model is INFEASIBLE\n",
      "Model is OPTIMAL\n",
      "Model is OPTIMAL\n",
      "Model is OPTIMAL\n"
     ]
    }
   ],
   "source": [
    "# probability\n",
    "prob_results = dataset_analysis_probabilities(truncation_OB, truncationM_OB, truncation_OG, extent_OG)"
   ]
  },
  {
   "cell_type": "code",
   "execution_count": 36,
   "metadata": {},
   "outputs": [
    {
     "name": "stdout",
     "output_type": "stream",
     "text": [
      "Model is INFEASIBLE\n",
      "Model is INFEASIBLE\n",
      "Model is INFEASIBLE\n",
      "Model is INFEASIBLE\n",
      "Model is OPTIMAL\n",
      "Model is OPTIMAL\n",
      "Model is OPTIMAL\n",
      "Model is OPTIMAL\n",
      "Model is OPTIMAL\n"
     ]
    }
   ],
   "source": [
    "# moment\n",
    "moment_results = dataset_analysis_moments(beta, moments_OB, extent_OG)"
   ]
  },
  {
   "cell_type": "code",
   "execution_count": 37,
   "metadata": {},
   "outputs": [
    {
     "name": "stdout",
     "output_type": "stream",
     "text": [
      "Model is INFEASIBLE\n",
      "Model is INFEASIBLE\n",
      "Model is INFEASIBLE\n",
      "Model is INFEASIBLE\n",
      "Model is INFEASIBLE\n",
      "Model is INFEASIBLE\n",
      "Model is OPTIMAL\n",
      "Model is OPTIMAL\n",
      "Model is OPTIMAL\n"
     ]
    }
   ],
   "source": [
    "# combined\n",
    "combined_results = dataset_analysis_combined(truncation_OB, truncationM_OB, moments_OB, beta, truncation_OG, extent_OG)"
   ]
  },
  {
   "cell_type": "code",
   "execution_count": 38,
   "metadata": {},
   "outputs": [
    {
     "name": "stdout",
     "output_type": "stream",
     "text": [
      "sample 0 p-value: 3.2729801590552267e-18\n",
      "sample 1 p-value: 1.1818801223547127e-13\n",
      "sample 2 p-value: 5.042067307960625e-13\n",
      "sample 3 p-value: 9.008611059098091e-08\n",
      "sample 4 p-value: 5.486440537490913e-07\n",
      "sample 5 p-value: 0.0002883880888745021\n",
      "sample 6 p-value: 0.00876643676789739\n",
      "sample 7 p-value: 0.02335663554498452\n",
      "sample 8 p-value: 0.8278621750972538\n"
     ]
    }
   ],
   "source": [
    "# correlation\n",
    "corr_results = dataset_analysis_correlation(dataset)"
   ]
  },
  {
   "cell_type": "markdown",
   "metadata": {},
   "source": [
    "### Medium capture"
   ]
  },
  {
   "cell_type": "code",
   "execution_count": 189,
   "metadata": {},
   "outputs": [],
   "source": [
    "# load\n",
    "dataset = pd.read_csv(\"./Test-Info/Data/counts_unif_med.csv\", index_col=0)\n",
    "beta = np.loadtxt(\"./Test-Info/Data/beta_unif_med.csv\")"
   ]
  },
  {
   "cell_type": "code",
   "execution_count": 190,
   "metadata": {},
   "outputs": [
    {
     "name": "stderr",
     "output_type": "stream",
     "text": [
      "100%|██████████| 9/9 [00:01<00:00,  6.27it/s]\n"
     ]
    },
    {
     "data": {
      "image/png": "[encoded data removed]",
      "text/plain": [
       "<Figure size 600x300 with 2 Axes>"
      ]
     },
     "metadata": {},
     "output_type": "display_data"
    },
    {
     "name": "stderr",
     "output_type": "stream",
     "text": [
      "100%|██████████| 4/4 [00:00<00:00, 47.56it/s]\n",
      "100%|██████████| 4/4 [00:00<00:00, 71.74it/s]\n",
      "100%|██████████| 15/15 [00:00<00:00, 311.33it/s]\n"
     ]
    }
   ],
   "source": [
    "# process\n",
    "truncation_OB, truncationM_OB, moments_OB, truncation_OG, extent_OG = dataset_processing(dataset, beta)"
   ]
  },
  {
   "cell_type": "code",
   "execution_count": 173,
   "metadata": {},
   "outputs": [
    {
     "name": "stdout",
     "output_type": "stream",
     "text": [
      "Model is OPTIMAL\n",
      "Model is INFEASIBLE\n",
      "Model is INFEASIBLE\n",
      "Model is OPTIMAL\n",
      "Model is OPTIMAL\n",
      "Model is OPTIMAL\n",
      "Model is OPTIMAL\n",
      "Model is OPTIMAL\n",
      "Model is OPTIMAL\n"
     ]
    }
   ],
   "source": [
    "# probability\n",
    "prob_results = dataset_analysis_probabilities(truncation_OB, truncationM_OB, truncation_OG, extent_OG)"
   ]
  },
  {
   "cell_type": "code",
   "execution_count": 174,
   "metadata": {},
   "outputs": [
    {
     "name": "stdout",
     "output_type": "stream",
     "text": [
      "Model is INFEASIBLE\n",
      "Model is INFEASIBLE\n",
      "Model is INFEASIBLE\n",
      "Model is TIME_LIMIT\n",
      "Model is TIME_LIMIT\n",
      "Model is TIME_LIMIT\n",
      "Model is OPTIMAL\n",
      "Model is TIME_LIMIT\n",
      "Model is TIME_LIMIT\n"
     ]
    }
   ],
   "source": [
    "# moment\n",
    "moment_results = dataset_analysis_moments(beta, moments_OB, extent_OG)"
   ]
  },
  {
   "cell_type": "code",
   "execution_count": 191,
   "metadata": {},
   "outputs": [
    {
     "name": "stdout",
     "output_type": "stream",
     "text": [
      "Model is INFEASIBLE\n",
      "Model is INFEASIBLE\n",
      "Model is INFEASIBLE\n",
      "Model is OPTIMAL\n",
      "Model is OPTIMAL\n",
      "Model is OPTIMAL\n",
      "Model is OPTIMAL\n",
      "Model is OPTIMAL\n",
      "Model is OPTIMAL\n"
     ]
    }
   ],
   "source": [
    "# combined\n",
    "combined_results = dataset_analysis_combined(truncation_OB, truncationM_OB, moments_OB, beta, truncation_OG, extent_OG)"
   ]
  },
  {
   "cell_type": "code",
   "execution_count": 175,
   "metadata": {},
   "outputs": [
    {
     "name": "stdout",
     "output_type": "stream",
     "text": [
      "sample 0 p-value: 4.721723003002662e-08\n",
      "sample 1 p-value: 1.6687679797083203e-05\n",
      "sample 2 p-value: 7.870966779883357e-06\n",
      "sample 3 p-value: 0.1165844749669706\n",
      "sample 4 p-value: 0.0022143298818704774\n",
      "sample 5 p-value: 0.006908330376833126\n",
      "sample 6 p-value: 0.15576746097762842\n",
      "sample 7 p-value: 0.3011104179337129\n",
      "sample 8 p-value: 0.9703279324620564\n"
     ]
    }
   ],
   "source": [
    "# correlation\n",
    "corr_results = dataset_analysis_correlation(dataset)"
   ]
  },
  {
   "cell_type": "markdown",
   "metadata": {},
   "source": [
    "### Low capture"
   ]
  },
  {
   "cell_type": "code",
   "execution_count": 192,
   "metadata": {},
   "outputs": [],
   "source": [
    "# load\n",
    "dataset = pd.read_csv(\"./Test-Info/Data/counts_unif_low.csv\", index_col=0)\n",
    "beta = np.loadtxt(\"./Test-Info/Data/beta_unif_low.csv\")"
   ]
  },
  {
   "cell_type": "code",
   "execution_count": 193,
   "metadata": {},
   "outputs": [
    {
     "name": "stderr",
     "output_type": "stream",
     "text": [
      "100%|██████████| 9/9 [00:01<00:00,  5.75it/s]\n"
     ]
    },
    {
     "data": {
      "image/png": "[encoded data removed]",
      "text/plain": [
       "<Figure size 600x300 with 2 Axes>"
      ]
     },
     "metadata": {},
     "output_type": "display_data"
    },
    {
     "name": "stderr",
     "output_type": "stream",
     "text": [
      "100%|██████████| 3/3 [00:00<00:00, 14.01it/s]\n",
      "100%|██████████| 3/3 [00:00<00:00, 30.01it/s]\n",
      "100%|██████████| 9/9 [00:00<00:00, 146.46it/s]\n"
     ]
    }
   ],
   "source": [
    "# process\n",
    "truncation_OB, truncationM_OB, moments_OB, truncation_OG, extent_OG = dataset_processing(dataset, beta)"
   ]
  },
  {
   "cell_type": "code",
   "execution_count": 181,
   "metadata": {},
   "outputs": [
    {
     "name": "stdout",
     "output_type": "stream",
     "text": [
      "Model is TIME_LIMIT\n",
      "Model is TIME_LIMIT\n",
      "Model is TIME_LIMIT\n",
      "Model is TIME_LIMIT\n",
      "Model is TIME_LIMIT\n",
      "Model is TIME_LIMIT\n",
      "Model is TIME_LIMIT\n",
      "Model is TIME_LIMIT\n",
      "Model is TIME_LIMIT\n"
     ]
    }
   ],
   "source": [
    "# probability\n",
    "prob_results = dataset_analysis_probabilities(truncation_OB, truncationM_OB, truncation_OG, extent_OG, time_limit=600)"
   ]
  },
  {
   "cell_type": "code",
   "execution_count": 195,
   "metadata": {},
   "outputs": [
    {
     "name": "stdout",
     "output_type": "stream",
     "text": [
      "Model is TIME_LIMIT\n",
      "Model is TIME_LIMIT\n",
      "Model is TIME_LIMIT\n",
      "Model is TIME_LIMIT\n",
      "Model is OPTIMAL\n",
      "Model is TIME_LIMIT\n",
      "Model is TIME_LIMIT\n",
      "Model is TIME_LIMIT\n",
      "Model is TIME_LIMIT\n"
     ]
    }
   ],
   "source": [
    "# moment\n",
    "moment_results = dataset_analysis_moments(beta, moments_OB, extent_OG, time_limit=600)"
   ]
  },
  {
   "cell_type": "code",
   "execution_count": 196,
   "metadata": {},
   "outputs": [
    {
     "name": "stdout",
     "output_type": "stream",
     "text": [
      "Model is TIME_LIMIT\n",
      "Model is TIME_LIMIT\n",
      "Model is TIME_LIMIT\n",
      "Model is TIME_LIMIT\n",
      "Model is TIME_LIMIT\n",
      "Model is TIME_LIMIT\n",
      "Model is TIME_LIMIT\n",
      "Model is TIME_LIMIT\n",
      "Model is TIME_LIMIT\n"
     ]
    }
   ],
   "source": [
    "# combined\n",
    "combined_results = dataset_analysis_combined(truncation_OB, truncationM_OB, moments_OB, beta, truncation_OG, extent_OG, time_limit=600)"
   ]
  },
  {
   "cell_type": "code",
   "execution_count": 179,
   "metadata": {},
   "outputs": [
    {
     "name": "stdout",
     "output_type": "stream",
     "text": [
      "sample 0 p-value: 0.0328698614367237\n",
      "sample 1 p-value: 0.05603504874622022\n",
      "sample 2 p-value: 0.04448852321781229\n",
      "sample 3 p-value: 0.28645736537300476\n",
      "sample 4 p-value: 0.6427315819539003\n",
      "sample 5 p-value: 0.6221576922831449\n",
      "sample 6 p-value: 0.2789604023995482\n",
      "sample 7 p-value: 0.024040301556419723\n",
      "sample 8 p-value: 0.4944234423041009\n"
     ]
    }
   ],
   "source": [
    "# correlation\n",
    "corr_results = dataset_analysis_correlation(dataset)"
   ]
  },
  {
   "cell_type": "markdown",
   "metadata": {},
   "source": [
    "# Marginal Analysis"
   ]
  },
  {
   "cell_type": "markdown",
   "metadata": {},
   "source": [
    "## Code"
   ]
  },
  {
   "cell_type": "markdown",
   "metadata": {},
   "source": [
    "### Marginal model constructions"
   ]
  },
  {
   "cell_type": "code",
   "execution_count": 69,
   "metadata": {},
   "outputs": [],
   "source": [
    "def construct_model_probabilities_marginal(truncation_OB, truncationM_OB, truncation_OG, extent_OG, i, silent=True, time_limit=300, printing=True):\n",
    "    \n",
    "    # WLS license\n",
    "    options = json.load(open(\"../../../WLS_credentials.json\"))\n",
    "\n",
    "    # silent\n",
    "    if silent:\n",
    "        options['OutputFlag'] = 0\n",
    "\n",
    "    # environment context\n",
    "    with gp.Env(params=options) as env:\n",
    "\n",
    "        # model context\n",
    "        with gp.Model('test-construction', env=env) as model:\n",
    "\n",
    "            # model settings\n",
    "            model.Params.TimeLimit = time_limit\n",
    "            K = 100\n",
    "\n",
    "            # variables\n",
    "\n",
    "            # marginal stationary distributions: original counts (size = largest original state used + 1)\n",
    "            p1 = model.addMVar(shape=(extent_OG['max_x1_OG'] + 1), vtype=GRB.CONTINUOUS, name=\"p1\", lb=0, ub=1)\n",
    "            p2 = model.addMVar(shape=(extent_OG['max_x2_OG'] + 1), vtype=GRB.CONTINUOUS, name=\"p2\", lb=0, ub=1)\n",
    "\n",
    "            # reaction rate constants\n",
    "            rate_names = ['k_tx_1', 'k_tx_2', 'k_deg_1', 'k_deg_2']\n",
    "            rates = model.addVars(rate_names, vtype=GRB.CONTINUOUS, lb=0, ub=K, name=rate_names)\n",
    "\n",
    "            # collect variables\n",
    "            variables = {\n",
    "                'p1': p1,\n",
    "                'p2': p2,\n",
    "                'k_tx_1': rates['k_tx_1'],\n",
    "                'k_tx_2': rates['k_tx_2'],\n",
    "                'k_deg_1': rates['k_deg_1'],\n",
    "                'k_deg_2': rates['k_deg_2']\n",
    "            }\n",
    "\n",
    "            # constraints\n",
    "\n",
    "            # base constraints\n",
    "            add_base_constraints(model, variables)\n",
    "\n",
    "            # marginal B constraints\n",
    "            add_marginal_B_constraints(model, variables, truncationM_OB, truncation_OG, i)\n",
    "\n",
    "            # marginal CME constraints\n",
    "            add_marginal_CME_constraints(model, variables, extent_OG)\n",
    "\n",
    "            # write to file\n",
    "            # model.write(\"./Test-Info/Models/constraint_test_new.lp\")\n",
    "\n",
    "            # optimize: testing feasibility\n",
    "            model.setObjective(0, GRB.MINIMIZE)\n",
    "            model.optimize()\n",
    "            \n",
    "            # get status\n",
    "            status = status_codes[model.status]\n",
    "\n",
    "            if printing:\n",
    "                print(f\"Model is {status}\")\n",
    "\n",
    "            return status"
   ]
  },
  {
   "cell_type": "code",
   "execution_count": 68,
   "metadata": {},
   "outputs": [],
   "source": [
    "def construct_model_moments_marginal(moments_OB, beta, extent_OG, silent=True, time_limit=300, printing=True):\n",
    "    \n",
    "    # WLS license\n",
    "    options = json.load(open(\"../../../WLS_credentials.json\"))\n",
    "\n",
    "    # silent\n",
    "    if silent:\n",
    "        options['OutputFlag'] = 0\n",
    "\n",
    "    # environment context\n",
    "    with gp.Env(params=options) as env:\n",
    "\n",
    "        # model context\n",
    "        with gp.Model('test-construction', env=env) as model:\n",
    "\n",
    "            # model settings\n",
    "            model.Params.TimeLimit = time_limit\n",
    "            K = 100\n",
    "\n",
    "            # variables\n",
    "\n",
    "            # marginal stationary distributions: original counts (size = largest original state used + 1)\n",
    "            p1 = model.addMVar(shape=(extent_OG['max_x1_OG'] + 1), vtype=GRB.CONTINUOUS, name=\"p1\", lb=0, ub=1)\n",
    "            p2 = model.addMVar(shape=(extent_OG['max_x2_OG'] + 1), vtype=GRB.CONTINUOUS, name=\"p2\", lb=0, ub=1)\n",
    "\n",
    "            # reaction rate constants\n",
    "            rate_names = ['k_tx_1', 'k_tx_2', 'k_deg_1', 'k_deg_2']\n",
    "            rates = model.addVars(rate_names, vtype=GRB.CONTINUOUS, lb=0, ub=K, name=rate_names)\n",
    "\n",
    "            # moments\n",
    "            E_x1 = model.addVar(vtype=GRB.CONTINUOUS, name=\"E_x1\")\n",
    "            E_x2 = model.addVar(vtype=GRB.CONTINUOUS, name=\"E_x2\")\n",
    "\n",
    "            # collect variables\n",
    "            variables = {\n",
    "                'p1': p1,\n",
    "                'p2': p2,\n",
    "                'k_tx_1': rates['k_tx_1'],\n",
    "                'k_tx_2': rates['k_tx_2'],\n",
    "                'k_deg_1': rates['k_deg_1'],\n",
    "                'k_deg_2': rates['k_deg_2'],\n",
    "                'E_x1': E_x1,\n",
    "                'E_x2': E_x2\n",
    "            }\n",
    "\n",
    "            # constraints\n",
    "\n",
    "            # base constraints\n",
    "            add_base_constraints(model, variables)\n",
    "\n",
    "            # moment constraint\n",
    "            add_moment_constraint(model, variables, extent_OG, moments_OB, beta)\n",
    "\n",
    "            # marginal CME constraints\n",
    "            add_marginal_CME_constraints(model, variables, extent_OG)\n",
    "\n",
    "            # write to file\n",
    "            # model.write(\"./Test-Info/Models/constraint_test_new.lp\")\n",
    "\n",
    "            # optimize: testing feasibility\n",
    "            model.setObjective(0, GRB.MINIMIZE)\n",
    "            model.optimize()\n",
    "            \n",
    "            # get status\n",
    "            status = status_codes[model.status]\n",
    "\n",
    "            if printing:\n",
    "                print(f\"Model is {status}\")\n",
    "\n",
    "            return status"
   ]
  },
  {
   "cell_type": "code",
   "execution_count": 67,
   "metadata": {},
   "outputs": [],
   "source": [
    "def construct_model_combined_marginal(truncation_OB, truncationM_OB, moments_OB, beta, truncation_OG, extent_OG, i, silent=True, time_limit=300, printing=True):\n",
    "    \n",
    "    # WLS license\n",
    "    options = json.load(open(\"../../../WLS_credentials.json\"))\n",
    "\n",
    "    # silent\n",
    "    if silent:\n",
    "        options['OutputFlag'] = 0\n",
    "\n",
    "    # environment context\n",
    "    with gp.Env(params=options) as env:\n",
    "\n",
    "        # model context\n",
    "        with gp.Model('test-construction', env=env) as model:\n",
    "\n",
    "            # model settings\n",
    "            model.Params.TimeLimit = time_limit\n",
    "            K = 100\n",
    "\n",
    "            # variables\n",
    "\n",
    "            # marginal stationary distributions: original counts (size = largest original state used + 1)\n",
    "            p1 = model.addMVar(shape=(extent_OG['max_x1_OG'] + 1), vtype=GRB.CONTINUOUS, name=\"p1\", lb=0, ub=1)\n",
    "            p2 = model.addMVar(shape=(extent_OG['max_x2_OG'] + 1), vtype=GRB.CONTINUOUS, name=\"p2\", lb=0, ub=1)\n",
    "\n",
    "            # reaction rate constants\n",
    "            rate_names = ['k_tx_1', 'k_tx_2', 'k_deg_1', 'k_deg_2']\n",
    "            rates = model.addVars(rate_names, vtype=GRB.CONTINUOUS, lb=0, ub=K, name=rate_names)\n",
    "\n",
    "            # moments\n",
    "            E_x1 = model.addVar(vtype=GRB.CONTINUOUS, name=\"E_x1\")\n",
    "            E_x2 = model.addVar(vtype=GRB.CONTINUOUS, name=\"E_x2\")\n",
    "\n",
    "            # collect variables\n",
    "            variables = {\n",
    "                'p1': p1,\n",
    "                'p2': p2,\n",
    "                'k_tx_1': rates['k_tx_1'],\n",
    "                'k_tx_2': rates['k_tx_2'],\n",
    "                'k_deg_1': rates['k_deg_1'],\n",
    "                'k_deg_2': rates['k_deg_2'],\n",
    "                'E_x1': E_x1,\n",
    "                'E_x2': E_x2\n",
    "            }\n",
    "\n",
    "            # constraints\n",
    "\n",
    "            # base constraints\n",
    "            add_base_constraints(model, variables)\n",
    "\n",
    "            # moment constraint\n",
    "            add_moment_constraint(model, variables, extent_OG, moments_OB, beta)\n",
    "\n",
    "            # marginal B constraints\n",
    "            add_marginal_B_constraints(model, variables, truncationM_OB, truncation_OG, i)\n",
    "\n",
    "            # marginal CME constraints\n",
    "            add_marginal_CME_constraints(model, variables, extent_OG)\n",
    "\n",
    "            # write to file\n",
    "            # model.write(\"./Test-Info/Models/constraint_test_new.lp\")\n",
    "\n",
    "            # optimize: testing feasibility\n",
    "            model.setObjective(0, GRB.MINIMIZE)\n",
    "            model.optimize()\n",
    "            \n",
    "            # get status\n",
    "            status = status_codes[model.status]\n",
    "\n",
    "            if printing:\n",
    "                print(f\"Model is {status}\")\n",
    "\n",
    "            return status"
   ]
  },
  {
   "cell_type": "markdown",
   "metadata": {},
   "source": [
    "### Marginal dataset optimization"
   ]
  },
  {
   "cell_type": "code",
   "execution_count": 75,
   "metadata": {},
   "outputs": [],
   "source": [
    "def dataset_analysis_probabilities_marginal(truncation_OB, truncationM_OB, truncation_OG, extent_OG, time_limit=300, printing=True):\n",
    "\n",
    "    # store results\n",
    "    result_dict = {}\n",
    "\n",
    "    # loop over samples in dataset\n",
    "    for i, sample in enumerate(truncation_OB.keys()):\n",
    "\n",
    "        # test feasibility\n",
    "        status = construct_model_probabilities_marginal(\n",
    "            truncation_OB[sample],\n",
    "            truncationM_OB[sample],\n",
    "            truncation_OG,\n",
    "            extent_OG[sample],\n",
    "            i,\n",
    "            time_limit=time_limit,\n",
    "            printing=printing\n",
    "        )\n",
    "\n",
    "        # record status\n",
    "        result_dict[i] = status\n",
    "\n",
    "    return result_dict"
   ]
  },
  {
   "cell_type": "code",
   "execution_count": 77,
   "metadata": {},
   "outputs": [],
   "source": [
    "def dataset_analysis_moments_marginal(beta, moments_OB, extent_OG, time_limit=300, printing=True):\n",
    "\n",
    "    # store results\n",
    "    result_dict = {}\n",
    "\n",
    "    # loop over samples in dataset\n",
    "    for i, sample in enumerate(truncation_OB.keys()):\n",
    "\n",
    "        # test feasibility\n",
    "        status = construct_model_moments_marginal(\n",
    "            moments_OB[sample],\n",
    "            beta,\n",
    "            extent_OG[sample],\n",
    "            time_limit=time_limit,\n",
    "            printing=printing\n",
    "        )\n",
    "\n",
    "        # record status\n",
    "        result_dict[i] = status\n",
    "\n",
    "    return result_dict"
   ]
  },
  {
   "cell_type": "code",
   "execution_count": 78,
   "metadata": {},
   "outputs": [],
   "source": [
    "def dataset_analysis_combined_marginal(truncation_OB, truncationM_OB, moments_OB, beta, truncation_OG, extent_OG, time_limit=300, printing=True):\n",
    "\n",
    "    # store results\n",
    "    result_dict = {}\n",
    "\n",
    "    # loop over samples in dataset\n",
    "    for i, sample in enumerate(truncation_OB.keys()):\n",
    "\n",
    "        # test feasibility\n",
    "        status = construct_model_combined_marginal(\n",
    "            truncation_OB[sample],\n",
    "            truncationM_OB[sample],\n",
    "            moments_OB[sample],\n",
    "            beta,\n",
    "            truncation_OG,\n",
    "            extent_OG[sample],\n",
    "            i,\n",
    "            time_limit=time_limit,\n",
    "            printing=printing\n",
    "        )\n",
    "\n",
    "        # record status\n",
    "        result_dict[i] = status\n",
    "\n",
    "    return result_dict"
   ]
  },
  {
   "cell_type": "markdown",
   "metadata": {},
   "source": [
    "## Running"
   ]
  },
  {
   "cell_type": "markdown",
   "metadata": {},
   "source": [
    "### High capture"
   ]
  },
  {
   "cell_type": "code",
   "execution_count": 45,
   "metadata": {},
   "outputs": [],
   "source": [
    "# load\n",
    "dataset = pd.read_csv(\"./Test-Info/Data/counts_unif_high.csv\", index_col=0)\n",
    "beta = np.loadtxt(\"./Test-Info/Data/beta_unif_high.csv\")"
   ]
  },
  {
   "cell_type": "code",
   "execution_count": 54,
   "metadata": {},
   "outputs": [
    {
     "name": "stderr",
     "output_type": "stream",
     "text": [
      "  0%|          | 0/9 [00:00<?, ?it/s]"
     ]
    },
    {
     "name": "stderr",
     "output_type": "stream",
     "text": [
      "100%|██████████| 9/9 [00:00<00:00, 13.94it/s]\n"
     ]
    },
    {
     "data": {
      "image/png": "[encoded data removed]",
      "text/plain": [
       "<Figure size 600x300 with 2 Axes>"
      ]
     },
     "metadata": {},
     "output_type": "display_data"
    },
    {
     "name": "stderr",
     "output_type": "stream",
     "text": [
      "100%|██████████| 5/5 [00:00<00:00, 455.67it/s]\n",
      "100%|██████████| 5/5 [00:00<00:00, 500.02it/s]\n",
      "100%|██████████| 16/16 [00:00<00:00, 2291.42it/s]\n"
     ]
    }
   ],
   "source": [
    "# process\n",
    "truncation_OB, truncationM_OB, moments_OB, truncation_OG, extent_OG = dataset_processing(dataset, beta)"
   ]
  },
  {
   "cell_type": "code",
   "execution_count": 55,
   "metadata": {},
   "outputs": [
    {
     "name": "stdout",
     "output_type": "stream",
     "text": [
      "Model is INFEASIBLE\n",
      "Model is INFEASIBLE\n",
      "Model is OPTIMAL\n",
      "Model is OPTIMAL\n",
      "Model is OPTIMAL\n",
      "Model is OPTIMAL\n",
      "Model is OPTIMAL\n",
      "Model is OPTIMAL\n",
      "Model is INFEASIBLE\n"
     ]
    }
   ],
   "source": [
    "# probability (marginal)\n",
    "prob_results = dataset_analysis_probabilities_marginal(truncation_OB, truncationM_OB, truncation_OG, extent_OG)"
   ]
  },
  {
   "cell_type": "code",
   "execution_count": 56,
   "metadata": {},
   "outputs": [
    {
     "name": "stdout",
     "output_type": "stream",
     "text": [
      "Model is INFEASIBLE\n",
      "Model is INFEASIBLE\n",
      "Model is INFEASIBLE\n",
      "Model is INFEASIBLE\n",
      "Model is OPTIMAL\n",
      "Model is OPTIMAL\n",
      "Model is OPTIMAL\n",
      "Model is OPTIMAL\n",
      "Model is OPTIMAL\n"
     ]
    }
   ],
   "source": [
    "# moment (marginal)\n",
    "moment_results = dataset_analysis_moments_marginal(beta, moments_OB, extent_OG)"
   ]
  },
  {
   "cell_type": "code",
   "execution_count": 57,
   "metadata": {},
   "outputs": [
    {
     "name": "stdout",
     "output_type": "stream",
     "text": [
      "Model is INFEASIBLE\n",
      "Model is INFEASIBLE\n",
      "Model is INFEASIBLE\n",
      "Model is INFEASIBLE\n",
      "Model is OPTIMAL\n",
      "Model is OPTIMAL\n",
      "Model is OPTIMAL\n",
      "Model is OPTIMAL\n",
      "Model is INFEASIBLE\n"
     ]
    }
   ],
   "source": [
    "# combined (marginal)\n",
    "combined_results = dataset_analysis_combined_marginal(truncation_OB, truncationM_OB, moments_OB, beta, truncation_OG, extent_OG)"
   ]
  },
  {
   "cell_type": "code",
   "execution_count": 58,
   "metadata": {},
   "outputs": [
    {
     "name": "stdout",
     "output_type": "stream",
     "text": [
      "sample 0 p-value: 3.2729801590552267e-18\n",
      "sample 1 p-value: 1.1818801223547127e-13\n",
      "sample 2 p-value: 5.042067307960625e-13\n",
      "sample 3 p-value: 9.008611059098091e-08\n",
      "sample 4 p-value: 5.486440537490913e-07\n",
      "sample 5 p-value: 0.0002883880888745021\n",
      "sample 6 p-value: 0.00876643676789739\n",
      "sample 7 p-value: 0.02335663554498452\n",
      "sample 8 p-value: 0.8278621750972538\n"
     ]
    }
   ],
   "source": [
    "# correlation (reference)\n",
    "corr_results = dataset_analysis_correlation(dataset)"
   ]
  },
  {
   "cell_type": "markdown",
   "metadata": {},
   "source": [
    "### Medium capture"
   ]
  },
  {
   "cell_type": "code",
   "execution_count": 59,
   "metadata": {},
   "outputs": [],
   "source": [
    "# load\n",
    "dataset = pd.read_csv(\"./Test-Info/Data/counts_unif_med.csv\", index_col=0)\n",
    "beta = np.loadtxt(\"./Test-Info/Data/beta_unif_med.csv\")"
   ]
  },
  {
   "cell_type": "code",
   "execution_count": 60,
   "metadata": {},
   "outputs": [
    {
     "name": "stderr",
     "output_type": "stream",
     "text": [
      "100%|██████████| 9/9 [00:00<00:00, 14.43it/s]\n"
     ]
    },
    {
     "data": {
      "image/png": "[encoded data removed]",
      "text/plain": [
       "<Figure size 600x300 with 2 Axes>"
      ]
     },
     "metadata": {},
     "output_type": "display_data"
    },
    {
     "name": "stderr",
     "output_type": "stream",
     "text": [
      "100%|██████████| 4/4 [00:00<00:00, 134.03it/s]\n",
      "100%|██████████| 4/4 [00:00<00:00, 211.06it/s]\n",
      "100%|██████████| 15/15 [00:00<00:00, 544.68it/s]\n"
     ]
    }
   ],
   "source": [
    "# process\n",
    "truncation_OB, truncationM_OB, moments_OB, truncation_OG, extent_OG = dataset_processing(dataset, beta)"
   ]
  },
  {
   "cell_type": "code",
   "execution_count": 61,
   "metadata": {},
   "outputs": [
    {
     "name": "stdout",
     "output_type": "stream",
     "text": [
      "Model is OPTIMAL\n",
      "Model is OPTIMAL\n",
      "Model is OPTIMAL\n",
      "Model is OPTIMAL\n",
      "Model is OPTIMAL\n",
      "Model is OPTIMAL\n",
      "Model is OPTIMAL\n",
      "Model is OPTIMAL\n",
      "Model is OPTIMAL\n"
     ]
    }
   ],
   "source": [
    "# probability (marginal)\n",
    "prob_results = dataset_analysis_probabilities_marginal(truncation_OB, truncationM_OB, truncation_OG, extent_OG)"
   ]
  },
  {
   "cell_type": "code",
   "execution_count": 62,
   "metadata": {},
   "outputs": [
    {
     "name": "stdout",
     "output_type": "stream",
     "text": [
      "Model is INFEASIBLE\n",
      "Model is INFEASIBLE\n",
      "Model is INFEASIBLE\n",
      "Model is OPTIMAL\n",
      "Model is OPTIMAL\n",
      "Model is OPTIMAL\n",
      "Model is OPTIMAL\n",
      "Model is OPTIMAL\n",
      "Model is OPTIMAL\n"
     ]
    }
   ],
   "source": [
    "# moment (marginal)\n",
    "moment_results = dataset_analysis_moments_marginal(beta, moments_OB, extent_OG)"
   ]
  },
  {
   "cell_type": "code",
   "execution_count": 63,
   "metadata": {},
   "outputs": [
    {
     "name": "stdout",
     "output_type": "stream",
     "text": [
      "Model is INFEASIBLE\n",
      "Model is INFEASIBLE\n",
      "Model is INFEASIBLE\n",
      "Model is OPTIMAL\n",
      "Model is OPTIMAL\n",
      "Model is OPTIMAL\n",
      "Model is OPTIMAL\n",
      "Model is OPTIMAL\n",
      "Model is OPTIMAL\n"
     ]
    }
   ],
   "source": [
    "# combined (marginal)\n",
    "combined_results = dataset_analysis_combined_marginal(truncation_OB, truncationM_OB, moments_OB, beta, truncation_OG, extent_OG)"
   ]
  },
  {
   "cell_type": "code",
   "execution_count": 64,
   "metadata": {},
   "outputs": [
    {
     "name": "stdout",
     "output_type": "stream",
     "text": [
      "sample 0 p-value: 4.721723003002662e-08\n",
      "sample 1 p-value: 1.6687679797083203e-05\n",
      "sample 2 p-value: 7.870966779883357e-06\n",
      "sample 3 p-value: 0.1165844749669706\n",
      "sample 4 p-value: 0.0022143298818704774\n",
      "sample 5 p-value: 0.006908330376833126\n",
      "sample 6 p-value: 0.15576746097762842\n",
      "sample 7 p-value: 0.3011104179337129\n",
      "sample 8 p-value: 0.9703279324620564\n"
     ]
    }
   ],
   "source": [
    "# correlation (reference)\n",
    "corr_results = dataset_analysis_correlation(dataset)"
   ]
  },
  {
   "cell_type": "markdown",
   "metadata": {},
   "source": [
    "### Low capture"
   ]
  },
  {
   "cell_type": "code",
   "execution_count": 336,
   "metadata": {},
   "outputs": [],
   "source": [
    "# load\n",
    "dataset = pd.read_csv(\"./Test-Info/Data/counts_unif_low.csv\", index_col=0)\n",
    "beta = np.loadtxt(\"./Test-Info/Data/beta_unif_low.csv\")"
   ]
  },
  {
   "cell_type": "code",
   "execution_count": 337,
   "metadata": {},
   "outputs": [
    {
     "name": "stderr",
     "output_type": "stream",
     "text": [
      "  0%|          | 0/9 [00:00<?, ?it/s]"
     ]
    },
    {
     "name": "stderr",
     "output_type": "stream",
     "text": [
      "100%|██████████| 9/9 [00:00<00:00,  9.16it/s]\n"
     ]
    },
    {
     "data": {
      "image/png": "[encoded data removed]",
      "text/plain": [
       "<Figure size 600x300 with 2 Axes>"
      ]
     },
     "metadata": {},
     "output_type": "display_data"
    },
    {
     "name": "stderr",
     "output_type": "stream",
     "text": [
      "100%|██████████| 3/3 [00:00<00:00, 11.46it/s]\n",
      "100%|██████████| 3/3 [00:00<00:00, 36.55it/s]\n",
      "100%|██████████| 9/9 [00:00<00:00, 240.17it/s]\n"
     ]
    }
   ],
   "source": [
    "# process\n",
    "truncation_OB, truncationM_OB, moments_OB, truncation_OG, extent_OG = dataset_processing(dataset, beta)"
   ]
  },
  {
   "cell_type": "code",
   "execution_count": 338,
   "metadata": {},
   "outputs": [
    {
     "name": "stdout",
     "output_type": "stream",
     "text": [
      "Model is OPTIMAL\n",
      "Model is OPTIMAL\n",
      "Model is OPTIMAL\n",
      "Model is OPTIMAL\n",
      "Model is OPTIMAL\n",
      "Model is OPTIMAL\n",
      "Model is OPTIMAL\n",
      "Model is OPTIMAL\n",
      "Model is OPTIMAL\n"
     ]
    }
   ],
   "source": [
    "# probability (marginal)\n",
    "prob_results = dataset_analysis_probabilities_marginal(truncation_OB, truncationM_OB, truncation_OG, extent_OG)"
   ]
  },
  {
   "cell_type": "code",
   "execution_count": 339,
   "metadata": {},
   "outputs": [
    {
     "name": "stdout",
     "output_type": "stream",
     "text": [
      "Model is OPTIMAL\n",
      "Model is OPTIMAL\n",
      "Model is OPTIMAL\n",
      "Model is OPTIMAL\n",
      "Model is OPTIMAL\n",
      "Model is OPTIMAL\n",
      "Model is OPTIMAL\n",
      "Model is OPTIMAL\n",
      "Model is OPTIMAL\n"
     ]
    }
   ],
   "source": [
    "# moment (marginal)\n",
    "moment_results = dataset_analysis_moments_marginal(beta, moments_OB, extent_OG)"
   ]
  },
  {
   "cell_type": "code",
   "execution_count": 69,
   "metadata": {},
   "outputs": [
    {
     "name": "stdout",
     "output_type": "stream",
     "text": [
      "Model is OPTIMAL\n",
      "Model is OPTIMAL\n",
      "Model is OPTIMAL\n",
      "Model is OPTIMAL\n",
      "Model is OPTIMAL\n",
      "Model is OPTIMAL\n",
      "Model is OPTIMAL\n",
      "Model is OPTIMAL\n",
      "Model is OPTIMAL\n"
     ]
    }
   ],
   "source": [
    "# combined (marginal)\n",
    "combined_results = dataset_analysis_combined_marginal(truncation_OB, truncationM_OB, moments_OB, beta, truncation_OG, extent_OG)"
   ]
  },
  {
   "cell_type": "code",
   "execution_count": 340,
   "metadata": {},
   "outputs": [
    {
     "name": "stdout",
     "output_type": "stream",
     "text": [
      "sample 0 p-value: 0.0328698614367237\n",
      "sample 1 p-value: 0.05603504874622022\n",
      "sample 2 p-value: 0.04448852321781229\n",
      "sample 3 p-value: 0.28645736537300476\n",
      "sample 4 p-value: 0.6427315819539003\n",
      "sample 5 p-value: 0.6221576922831449\n",
      "sample 6 p-value: 0.2789604023995482\n",
      "sample 7 p-value: 0.024040301556419723\n",
      "sample 8 p-value: 0.4944234423041009\n"
     ]
    }
   ],
   "source": [
    "# correlation (reference)\n",
    "corr_results = dataset_analysis_correlation(dataset)"
   ]
  },
  {
   "cell_type": "markdown",
   "metadata": {},
   "source": [
    "### Alternate dataset low capture"
   ]
  },
  {
   "cell_type": "code",
   "execution_count": 298,
   "metadata": {},
   "outputs": [],
   "source": [
    "# load\n",
    "dataset = pd.read_csv(\"./Test-Info/Data/counts_unif_low_alt.csv\", index_col=0)\n",
    "beta = np.loadtxt(\"./Test-Info/Data/beta_unif_low_alt.csv\")"
   ]
  },
  {
   "cell_type": "code",
   "execution_count": 299,
   "metadata": {},
   "outputs": [
    {
     "name": "stderr",
     "output_type": "stream",
     "text": [
      "100%|██████████| 14/14 [00:02<00:00,  5.08it/s]\n"
     ]
    },
    {
     "data": {
      "image/png": "[encoded data removed]",
      "text/plain": [
       "<Figure size 600x300 with 2 Axes>"
      ]
     },
     "metadata": {},
     "output_type": "display_data"
    },
    {
     "name": "stderr",
     "output_type": "stream",
     "text": [
      "100%|██████████| 2/2 [00:02<00:00,  1.01s/it]\n",
      "100%|██████████| 2/2 [00:00<00:00,  2.83it/s]\n",
      "100%|██████████| 4/4 [00:00<00:00, 13.80it/s]\n"
     ]
    }
   ],
   "source": [
    "# process\n",
    "truncation_OB, truncationM_OB, moments_OB, truncation_OG, extent_OG = dataset_processing(dataset, beta)"
   ]
  },
  {
   "cell_type": "code",
   "execution_count": 300,
   "metadata": {},
   "outputs": [
    {
     "name": "stdout",
     "output_type": "stream",
     "text": [
      "Model is OPTIMAL\n",
      "Model is OPTIMAL\n",
      "Model is OPTIMAL\n",
      "Model is OPTIMAL\n",
      "Model is OPTIMAL\n",
      "Model is OPTIMAL\n",
      "Model is OPTIMAL\n",
      "Model is OPTIMAL\n",
      "Model is OPTIMAL\n",
      "Model is OPTIMAL\n",
      "Model is OPTIMAL\n",
      "Model is OPTIMAL\n",
      "Model is OPTIMAL\n",
      "Model is OPTIMAL\n"
     ]
    }
   ],
   "source": [
    "# probability (marginal)\n",
    "prob_results = dataset_analysis_probabilities_marginal(truncation_OB, truncationM_OB, truncation_OG, extent_OG)"
   ]
  },
  {
   "cell_type": "code",
   "execution_count": 301,
   "metadata": {},
   "outputs": [
    {
     "name": "stdout",
     "output_type": "stream",
     "text": [
      "Model is INFEASIBLE\n",
      "Model is INFEASIBLE\n",
      "Model is INFEASIBLE\n",
      "Model is INFEASIBLE\n",
      "Model is INFEASIBLE\n",
      "Model is INFEASIBLE\n",
      "Model is INFEASIBLE\n",
      "Model is OPTIMAL\n",
      "Model is OPTIMAL\n",
      "Model is OPTIMAL\n",
      "Model is OPTIMAL\n",
      "Model is OPTIMAL\n",
      "Model is OPTIMAL\n",
      "Model is OPTIMAL\n"
     ]
    }
   ],
   "source": [
    "# moment (marginal)\n",
    "moment_results = dataset_analysis_moments_marginal(beta, moments_OB, extent_OG)"
   ]
  },
  {
   "cell_type": "code",
   "execution_count": 302,
   "metadata": {},
   "outputs": [
    {
     "name": "stdout",
     "output_type": "stream",
     "text": [
      "Model is INFEASIBLE\n",
      "Model is INFEASIBLE\n",
      "Model is INFEASIBLE\n",
      "Model is INFEASIBLE\n",
      "Model is INFEASIBLE\n",
      "Model is INFEASIBLE\n",
      "Model is INFEASIBLE\n",
      "Model is OPTIMAL\n",
      "Model is OPTIMAL\n",
      "Model is OPTIMAL\n",
      "Model is OPTIMAL\n",
      "Model is OPTIMAL\n",
      "Model is OPTIMAL\n",
      "Model is OPTIMAL\n"
     ]
    }
   ],
   "source": [
    "# combined (marginal)\n",
    "combined_results = dataset_analysis_combined_marginal(truncation_OB, truncationM_OB, moments_OB, beta, truncation_OG, extent_OG)"
   ]
  },
  {
   "cell_type": "code",
   "execution_count": 303,
   "metadata": {},
   "outputs": [
    {
     "name": "stdout",
     "output_type": "stream",
     "text": [
      "sample 0 p-value: 0.26449888093586177\n",
      "sample 1 p-value: 0.26762285392254664\n",
      "sample 2 p-value: 0.21247935322211925\n",
      "sample 3 p-value: 0.23799174379775423\n",
      "sample 4 p-value: 0.3037514044261847\n",
      "sample 5 p-value: 0.2001234579374933\n",
      "sample 6 p-value: 0.17897669033309943\n",
      "sample 7 p-value: 0.8041967685422511\n",
      "sample 8 p-value: 0.5831429730450568\n",
      "sample 9 p-value: 0.46375481320585066\n",
      "sample 10 p-value: 0.6765949446518016\n",
      "sample 11 p-value: 0.7060183272528844\n",
      "sample 12 p-value: 0.9882742023003069\n",
      "sample 13 p-value: 0.9679805868189557\n"
     ]
    }
   ],
   "source": [
    "# correlation (reference)\n",
    "corr_results = dataset_analysis_correlation(dataset)"
   ]
  },
  {
   "cell_type": "code",
   "execution_count": 306,
   "metadata": {},
   "outputs": [
    {
     "data": {
      "text/plain": [
       "Gene-pair-0     50.0\n",
       "Gene-pair-1     20.0\n",
       "Gene-pair-2     10.0\n",
       "Gene-pair-3      8.0\n",
       "Gene-pair-4      6.0\n",
       "Gene-pair-5      4.0\n",
       "Gene-pair-6      2.0\n",
       "Gene-pair-7      1.0\n",
       "Gene-pair-8      0.8\n",
       "Gene-pair-9      0.6\n",
       "Gene-pair-10     0.4\n",
       "Gene-pair-11     0.2\n",
       "Gene-pair-12     0.1\n",
       "Gene-pair-13     0.0\n",
       "Name: k_reg, dtype: float64"
      ]
     },
     "execution_count": 306,
     "metadata": {},
     "output_type": "execute_result"
    }
   ],
   "source": [
    "pd.read_csv(\"./Test-Info/Data/params_alt.csv\", index_col=\"Unnamed: 0\")['k_reg']"
   ]
  },
  {
   "cell_type": "markdown",
   "metadata": {},
   "source": [
    "### Focused on [1, 2] int str range"
   ]
  },
  {
   "cell_type": "code",
   "execution_count": 319,
   "metadata": {},
   "outputs": [],
   "source": [
    "# load\n",
    "dataset = pd.read_csv(\"./Test-Info/Data/counts_low_focus.csv\", index_col=0)\n",
    "beta = np.loadtxt(\"./Test-Info/Data/beta_low_focus.csv\")"
   ]
  },
  {
   "cell_type": "code",
   "execution_count": 320,
   "metadata": {},
   "outputs": [
    {
     "name": "stderr",
     "output_type": "stream",
     "text": [
      "  0%|          | 0/10 [00:00<?, ?it/s]"
     ]
    },
    {
     "name": "stderr",
     "output_type": "stream",
     "text": [
      "100%|██████████| 10/10 [00:01<00:00,  5.75it/s]\n"
     ]
    },
    {
     "data": {
      "image/png": "[encoded data removed]",
      "text/plain": [
       "<Figure size 600x300 with 2 Axes>"
      ]
     },
     "metadata": {},
     "output_type": "display_data"
    },
    {
     "name": "stderr",
     "output_type": "stream",
     "text": [
      "100%|██████████| 2/2 [00:01<00:00,  1.03it/s]\n",
      "100%|██████████| 2/2 [00:00<00:00,  2.77it/s]\n",
      "100%|██████████| 4/4 [00:00<00:00, 12.85it/s]\n"
     ]
    }
   ],
   "source": [
    "# process\n",
    "truncation_OB, truncationM_OB, moments_OB, truncation_OG, extent_OG = dataset_processing(dataset, beta)"
   ]
  },
  {
   "cell_type": "code",
   "execution_count": 323,
   "metadata": {},
   "outputs": [
    {
     "name": "stdout",
     "output_type": "stream",
     "text": [
      "Model is OPTIMAL\n",
      "Model is OPTIMAL\n",
      "Model is OPTIMAL\n",
      "Model is OPTIMAL\n",
      "Model is OPTIMAL\n",
      "Model is OPTIMAL\n",
      "Model is OPTIMAL\n",
      "Model is OPTIMAL\n",
      "Model is OPTIMAL\n",
      "Model is OPTIMAL\n"
     ]
    }
   ],
   "source": [
    "# probability (marginal)\n",
    "prob_results = dataset_analysis_probabilities_marginal(truncation_OB, truncationM_OB, truncation_OG, extent_OG)"
   ]
  },
  {
   "cell_type": "code",
   "execution_count": 324,
   "metadata": {},
   "outputs": [
    {
     "name": "stdout",
     "output_type": "stream",
     "text": [
      "Model is OPTIMAL\n",
      "Model is OPTIMAL\n",
      "Model is INFEASIBLE\n",
      "Model is OPTIMAL\n",
      "Model is INFEASIBLE\n",
      "Model is OPTIMAL\n",
      "Model is OPTIMAL\n",
      "Model is OPTIMAL\n",
      "Model is OPTIMAL\n",
      "Model is INFEASIBLE\n"
     ]
    }
   ],
   "source": [
    "# moment (marginal)\n",
    "moment_results = dataset_analysis_moments_marginal(beta, moments_OB, extent_OG)"
   ]
  },
  {
   "cell_type": "code",
   "execution_count": null,
   "metadata": {},
   "outputs": [],
   "source": [
    "# combined (marginal)\n",
    "combined_results = dataset_analysis_combined_marginal(truncation_OB, truncationM_OB, moments_OB, beta, truncation_OG, extent_OG)"
   ]
  },
  {
   "cell_type": "code",
   "execution_count": 316,
   "metadata": {},
   "outputs": [
    {
     "name": "stdout",
     "output_type": "stream",
     "text": [
      "sample 0 p-value: 0.26449888093586177\n",
      "sample 1 p-value: 0.26762285392254664\n",
      "sample 2 p-value: 0.21247935322211925\n",
      "sample 3 p-value: 0.23799174379775423\n",
      "sample 4 p-value: 0.3037514044261847\n",
      "sample 5 p-value: 0.2001234579374933\n",
      "sample 6 p-value: 0.17897669033309943\n",
      "sample 7 p-value: 0.8041967685422511\n",
      "sample 8 p-value: 0.5831429730450568\n",
      "sample 9 p-value: 0.46375481320585066\n",
      "sample 10 p-value: 0.6765949446518016\n",
      "sample 11 p-value: 0.7060183272528844\n",
      "sample 12 p-value: 0.9882742023003069\n",
      "sample 13 p-value: 0.9679805868189557\n"
     ]
    }
   ],
   "source": [
    "# correlation (reference)\n",
    "corr_results = dataset_analysis_correlation(dataset)"
   ]
  },
  {
   "cell_type": "code",
   "execution_count": 321,
   "metadata": {},
   "outputs": [
    {
     "data": {
      "text/plain": [
       "Gene-pair-0    2.6\n",
       "Gene-pair-1    2.4\n",
       "Gene-pair-2    2.2\n",
       "Gene-pair-3    2.0\n",
       "Gene-pair-4    1.8\n",
       "Gene-pair-5    1.6\n",
       "Gene-pair-6    1.4\n",
       "Gene-pair-7    1.2\n",
       "Gene-pair-8    1.0\n",
       "Gene-pair-9    0.8\n",
       "Name: k_reg, dtype: float64"
      ]
     },
     "execution_count": 321,
     "metadata": {},
     "output_type": "execute_result"
    }
   ],
   "source": [
    "pd.read_csv(\"./Test-Info/Data/params_focus.csv\", index_col=\"Unnamed: 0\")['k_reg']"
   ]
  },
  {
   "cell_type": "markdown",
   "metadata": {},
   "source": [
    "# Gridtest\n",
    "\n",
    "Following the investigation in \"Realistic-Data/Sampled-Capture-Data/capture_correlation_gridtest\" want to investigate how the performance of optimization methods is affected by the mean and spread of the per cell capture efficiency distribution.\n",
    "\n",
    "To investigate:\n",
    "\n",
    "- Simulate a dataset of samples with a range of interaction strengths\n",
    "- produce capture efficincy vectors over a grid of mean x spread\n",
    "- downsample dataset using each capture efficiency\n",
    "- analyse each dataset using optimizations\n",
    "- display results"
   ]
  },
  {
   "cell_type": "markdown",
   "metadata": {},
   "source": [
    "## Test: Normal capture distribution"
   ]
  },
  {
   "cell_type": "code",
   "execution_count": 202,
   "metadata": {},
   "outputs": [],
   "source": [
    "# gridtest ranges\n",
    "interaction_values = [50, 20, 10, 8, 6, 4, 2, 1, 0.8, 0.6, 0.4, 0.2, 0]\n",
    "mean_values = [1.0, 0.8, 0.6, 0.4, 0.2, 0.1, 0.0]\n",
    "width_values = [0.0, 0.2, 0.4, 0.6, 0.8, 1.0]"
   ]
  },
  {
   "cell_type": "code",
   "execution_count": 127,
   "metadata": {},
   "outputs": [
    {
     "name": "stderr",
     "output_type": "stream",
     "text": [
      "100%|██████████| 13/13 [00:17<00:00,  1.38s/it]\n"
     ]
    }
   ],
   "source": [
    "# simulate original dataset\n",
    "datasets = simulate_dataset(\n",
    "    cells = 1000,\n",
    "    interaction_values = interaction_values\n",
    ")"
   ]
  },
  {
   "cell_type": "code",
   "execution_count": 128,
   "metadata": {},
   "outputs": [],
   "source": [
    "# store data\n",
    "data_dict = {}\n",
    "\n",
    "# grid of capture efficiencies\n",
    "for mean in mean_values:\n",
    "    for width in width_values:\n",
    "\n",
    "        # store\n",
    "        info_dict = {}\n",
    "\n",
    "        # sample\n",
    "        # beta = rng.uniform(mean - width, mean + width, size=1000)\n",
    "        beta = rng.normal(mean, width, size=1000)\n",
    "\n",
    "        # clamp to [0, 1]\n",
    "        beta[beta > 1.0] = 1.0\n",
    "        beta[beta < 0.1] = 0.1\n",
    "        '''thresholding above 10%'''\n",
    "\n",
    "        # store\n",
    "        info_dict['beta'] = beta\n",
    "\n",
    "        # downsample dataset\n",
    "        counts_downsampled = simulate_downsampled_dataset(datasets['counts_df'], beta)\n",
    "\n",
    "        # store\n",
    "        info_dict['counts_df'] = counts_downsampled\n",
    "\n",
    "        # store\n",
    "        data_dict[(mean, width)] = info_dict"
   ]
  },
  {
   "cell_type": "code",
   "execution_count": null,
   "metadata": {},
   "outputs": [
    {
     "name": "stdout",
     "output_type": "stream",
     "text": [
      "1 / 42\n"
     ]
    },
    {
     "name": "stderr",
     "output_type": "stream",
     "text": [
      "100%|██████████| 13/13 [00:01<00:00,  7.48it/s]\n",
      "100%|██████████| 5/5 [00:00<?, ?it/s]\n",
      "100%|██████████| 5/5 [00:00<00:00, 321.30it/s]\n",
      "100%|██████████| 20/20 [00:00<00:00, 339.69it/s]\n"
     ]
    },
    {
     "name": "stdout",
     "output_type": "stream",
     "text": [
      "2 / 42\n"
     ]
    },
    {
     "name": "stderr",
     "output_type": "stream",
     "text": [
      "100%|██████████| 13/13 [00:01<00:00,  8.06it/s]\n",
      "100%|██████████| 5/5 [00:00<00:00, 101.33it/s]\n",
      "100%|██████████| 5/5 [00:00<00:00, 116.33it/s]\n",
      "100%|██████████| 16/16 [00:00<00:00, 412.82it/s]\n"
     ]
    },
    {
     "name": "stdout",
     "output_type": "stream",
     "text": [
      "3 / 42\n"
     ]
    },
    {
     "name": "stderr",
     "output_type": "stream",
     "text": [
      "100%|██████████| 13/13 [00:01<00:00,  8.55it/s]\n",
      "100%|██████████| 5/5 [00:00<00:00, 22.29it/s]\n",
      "100%|██████████| 5/5 [00:00<00:00, 36.05it/s]\n",
      "100%|██████████| 16/16 [00:00<00:00, 181.16it/s]\n"
     ]
    },
    {
     "name": "stdout",
     "output_type": "stream",
     "text": [
      "4 / 42\n"
     ]
    },
    {
     "name": "stderr",
     "output_type": "stream",
     "text": [
      "100%|██████████| 13/13 [00:01<00:00,  8.37it/s]\n",
      "100%|██████████| 5/5 [00:00<00:00, 17.52it/s]\n",
      "100%|██████████| 5/5 [00:00<00:00, 30.02it/s]\n",
      "100%|██████████| 16/16 [00:00<00:00, 173.26it/s]\n"
     ]
    },
    {
     "name": "stdout",
     "output_type": "stream",
     "text": [
      "5 / 42\n"
     ]
    },
    {
     "name": "stderr",
     "output_type": "stream",
     "text": [
      "100%|██████████| 13/13 [00:01<00:00,  7.78it/s]\n",
      "100%|██████████| 5/5 [00:00<00:00, 16.67it/s]\n",
      "100%|██████████| 5/5 [00:00<00:00, 29.20it/s]\n",
      "100%|██████████| 16/16 [00:00<00:00, 170.15it/s]\n"
     ]
    },
    {
     "name": "stdout",
     "output_type": "stream",
     "text": [
      "6 / 42\n"
     ]
    },
    {
     "name": "stderr",
     "output_type": "stream",
     "text": [
      "100%|██████████| 13/13 [00:01<00:00,  8.30it/s]\n",
      "100%|██████████| 4/4 [00:00<00:00, 16.36it/s]\n",
      "100%|██████████| 4/4 [00:00<00:00, 34.32it/s]\n",
      "100%|██████████| 16/16 [00:00<00:00, 126.83it/s]\n"
     ]
    },
    {
     "name": "stdout",
     "output_type": "stream",
     "text": [
      "7 / 42\n"
     ]
    },
    {
     "name": "stderr",
     "output_type": "stream",
     "text": [
      "100%|██████████| 13/13 [00:01<00:00,  8.24it/s]\n",
      "100%|██████████| 4/4 [00:00<00:00, 95.62it/s]\n",
      "100%|██████████| 4/4 [00:00<00:00, 180.49it/s]\n",
      "100%|██████████| 16/16 [00:00<00:00, 412.71it/s]\n"
     ]
    },
    {
     "name": "stdout",
     "output_type": "stream",
     "text": [
      "8 / 42\n"
     ]
    },
    {
     "name": "stderr",
     "output_type": "stream",
     "text": [
      "100%|██████████| 13/13 [00:01<00:00,  8.51it/s]\n",
      "100%|██████████| 4/4 [00:00<00:00, 35.14it/s]\n",
      "100%|██████████| 4/4 [00:00<00:00, 57.14it/s]\n",
      "100%|██████████| 16/16 [00:00<00:00, 266.25it/s]\n"
     ]
    },
    {
     "name": "stdout",
     "output_type": "stream",
     "text": [
      "9 / 42\n"
     ]
    },
    {
     "name": "stderr",
     "output_type": "stream",
     "text": [
      "100%|██████████| 13/13 [00:01<00:00,  8.51it/s]\n",
      "100%|██████████| 4/4 [00:00<00:00, 18.16it/s]\n",
      "100%|██████████| 4/4 [00:00<00:00, 27.89it/s]\n",
      "100%|██████████| 16/16 [00:00<00:00, 215.65it/s]\n"
     ]
    },
    {
     "name": "stdout",
     "output_type": "stream",
     "text": [
      "10 / 42\n"
     ]
    },
    {
     "name": "stderr",
     "output_type": "stream",
     "text": [
      "100%|██████████| 13/13 [00:01<00:00,  8.04it/s]\n",
      "100%|██████████| 4/4 [00:00<00:00, 15.97it/s]\n",
      "100%|██████████| 4/4 [00:00<00:00, 28.00it/s]\n",
      "100%|██████████| 16/16 [00:00<00:00, 174.82it/s]\n"
     ]
    },
    {
     "name": "stdout",
     "output_type": "stream",
     "text": [
      "11 / 42\n"
     ]
    },
    {
     "name": "stderr",
     "output_type": "stream",
     "text": [
      "100%|██████████| 13/13 [00:01<00:00,  8.24it/s]\n",
      "100%|██████████| 4/4 [00:00<00:00, 15.75it/s]\n",
      "100%|██████████| 4/4 [00:00<00:00, 27.38it/s]\n",
      "100%|██████████| 16/16 [00:00<00:00, 185.62it/s]\n"
     ]
    },
    {
     "name": "stdout",
     "output_type": "stream",
     "text": [
      "12 / 42\n"
     ]
    },
    {
     "name": "stderr",
     "output_type": "stream",
     "text": [
      "100%|██████████| 13/13 [00:01<00:00,  7.58it/s]\n",
      "100%|██████████| 4/4 [00:00<00:00, 17.00it/s]\n",
      "100%|██████████| 4/4 [00:00<00:00, 25.77it/s]\n",
      "100%|██████████| 16/16 [00:00<00:00, 164.48it/s]\n"
     ]
    },
    {
     "name": "stdout",
     "output_type": "stream",
     "text": [
      "13 / 42\n"
     ]
    },
    {
     "name": "stderr",
     "output_type": "stream",
     "text": [
      "100%|██████████| 13/13 [00:01<00:00,  8.06it/s]\n",
      "100%|██████████| 4/4 [00:00<00:00, 107.04it/s]\n",
      "100%|██████████| 4/4 [00:00<00:00, 94.08it/s]\n",
      "100%|██████████| 15/15 [00:00<00:00, 380.50it/s]\n"
     ]
    },
    {
     "name": "stdout",
     "output_type": "stream",
     "text": [
      "14 / 42\n"
     ]
    },
    {
     "name": "stderr",
     "output_type": "stream",
     "text": [
      "100%|██████████| 13/13 [00:01<00:00,  8.04it/s]\n",
      "100%|██████████| 4/4 [00:00<00:00, 17.80it/s]\n",
      "100%|██████████| 4/4 [00:00<00:00, 27.93it/s]\n",
      "100%|██████████| 16/16 [00:00<00:00, 242.66it/s]\n"
     ]
    },
    {
     "name": "stdout",
     "output_type": "stream",
     "text": [
      "15 / 42\n"
     ]
    },
    {
     "name": "stderr",
     "output_type": "stream",
     "text": [
      "100%|██████████| 13/13 [00:01<00:00,  8.46it/s]\n",
      "100%|██████████| 4/4 [00:00<00:00, 13.85it/s]\n",
      "100%|██████████| 4/4 [00:00<00:00, 24.95it/s]\n",
      "100%|██████████| 16/16 [00:00<00:00, 179.89it/s]\n"
     ]
    },
    {
     "name": "stdout",
     "output_type": "stream",
     "text": [
      "16 / 42\n"
     ]
    },
    {
     "name": "stderr",
     "output_type": "stream",
     "text": [
      "100%|██████████| 13/13 [00:01<00:00,  8.10it/s]\n",
      "100%|██████████| 4/4 [00:00<00:00, 15.07it/s]\n",
      "100%|██████████| 4/4 [00:00<00:00, 25.68it/s]\n",
      "100%|██████████| 16/16 [00:00<00:00, 153.56it/s]\n"
     ]
    },
    {
     "name": "stdout",
     "output_type": "stream",
     "text": [
      "17 / 42\n"
     ]
    },
    {
     "name": "stderr",
     "output_type": "stream",
     "text": [
      "100%|██████████| 13/13 [00:01<00:00,  8.91it/s]\n",
      "100%|██████████| 4/4 [00:00<00:00, 17.34it/s]\n",
      "100%|██████████| 4/4 [00:00<00:00, 22.37it/s]\n",
      "100%|██████████| 16/16 [00:00<00:00, 150.21it/s]\n"
     ]
    },
    {
     "name": "stdout",
     "output_type": "stream",
     "text": [
      "18 / 42\n"
     ]
    },
    {
     "name": "stderr",
     "output_type": "stream",
     "text": [
      "100%|██████████| 13/13 [00:01<00:00,  8.85it/s]\n",
      "100%|██████████| 4/4 [00:00<00:00, 16.67it/s]\n",
      "100%|██████████| 4/4 [00:00<00:00, 26.35it/s]\n",
      "100%|██████████| 16/16 [00:00<00:00, 191.31it/s]\n"
     ]
    },
    {
     "name": "stdout",
     "output_type": "stream",
     "text": [
      "19 / 42\n"
     ]
    },
    {
     "name": "stderr",
     "output_type": "stream",
     "text": [
      "100%|██████████| 13/13 [00:01<00:00,  8.64it/s]\n",
      "100%|██████████| 3/3 [00:00<00:00, 61.63it/s]\n",
      "100%|██████████| 3/3 [00:00<00:00, 86.73it/s]\n",
      "100%|██████████| 9/9 [00:00<00:00, 425.31it/s]\n"
     ]
    },
    {
     "name": "stdout",
     "output_type": "stream",
     "text": [
      "20 / 42\n"
     ]
    },
    {
     "name": "stderr",
     "output_type": "stream",
     "text": [
      "100%|██████████| 13/13 [00:01<00:00,  8.92it/s]\n",
      "100%|██████████| 3/3 [00:00<00:00, 17.81it/s]\n",
      "100%|██████████| 3/3 [00:00<00:00, 23.78it/s]\n",
      "100%|██████████| 9/9 [00:00<00:00, 201.67it/s]\n"
     ]
    },
    {
     "name": "stdout",
     "output_type": "stream",
     "text": [
      "21 / 42\n"
     ]
    },
    {
     "name": "stderr",
     "output_type": "stream",
     "text": [
      "100%|██████████| 13/13 [00:01<00:00,  9.02it/s]\n",
      "100%|██████████| 4/4 [00:00<00:00, 13.96it/s]\n",
      "100%|██████████| 4/4 [00:00<00:00, 20.07it/s]\n",
      "100%|██████████| 9/9 [00:00<00:00, 180.98it/s]\n"
     ]
    },
    {
     "name": "stdout",
     "output_type": "stream",
     "text": [
      "22 / 42\n"
     ]
    },
    {
     "name": "stderr",
     "output_type": "stream",
     "text": [
      "100%|██████████| 13/13 [00:01<00:00,  8.64it/s]\n",
      "100%|██████████| 4/4 [00:00<00:00, 13.39it/s]\n",
      "100%|██████████| 4/4 [00:00<00:00, 21.66it/s]\n",
      "100%|██████████| 12/12 [00:00<00:00, 161.89it/s]\n"
     ]
    },
    {
     "name": "stdout",
     "output_type": "stream",
     "text": [
      "23 / 42\n"
     ]
    },
    {
     "name": "stderr",
     "output_type": "stream",
     "text": [
      "100%|██████████| 13/13 [00:01<00:00,  8.52it/s]\n",
      "100%|██████████| 4/4 [00:00<00:00, 14.62it/s]\n",
      "100%|██████████| 4/4 [00:00<00:00, 23.76it/s]\n",
      "100%|██████████| 16/16 [00:00<00:00, 173.36it/s]\n"
     ]
    },
    {
     "name": "stdout",
     "output_type": "stream",
     "text": [
      "24 / 42\n"
     ]
    },
    {
     "name": "stderr",
     "output_type": "stream",
     "text": [
      "100%|██████████| 13/13 [00:01<00:00,  7.74it/s]\n",
      "100%|██████████| 4/4 [00:00<00:00, 15.49it/s]\n",
      "100%|██████████| 4/4 [00:00<00:00, 25.23it/s]\n",
      "100%|██████████| 16/16 [00:00<00:00, 136.21it/s]\n"
     ]
    },
    {
     "name": "stdout",
     "output_type": "stream",
     "text": [
      "25 / 42\n"
     ]
    },
    {
     "name": "stderr",
     "output_type": "stream",
     "text": [
      "100%|██████████| 13/13 [00:01<00:00,  8.43it/s]\n",
      "100%|██████████| 3/3 [00:00<00:00, 32.69it/s]\n",
      "100%|██████████| 3/3 [00:00<00:00, 42.02it/s]\n",
      "100%|██████████| 9/9 [00:00<00:00, 362.64it/s]\n"
     ]
    },
    {
     "name": "stdout",
     "output_type": "stream",
     "text": [
      "26 / 42\n"
     ]
    },
    {
     "name": "stderr",
     "output_type": "stream",
     "text": [
      "100%|██████████| 13/13 [00:01<00:00,  8.86it/s]\n",
      "100%|██████████| 3/3 [00:00<00:00, 14.65it/s]\n",
      "100%|██████████| 3/3 [00:00<00:00, 21.86it/s]\n",
      "100%|██████████| 9/9 [00:00<00:00, 192.22it/s]\n"
     ]
    },
    {
     "name": "stdout",
     "output_type": "stream",
     "text": [
      "27 / 42\n"
     ]
    },
    {
     "name": "stderr",
     "output_type": "stream",
     "text": [
      "100%|██████████| 13/13 [00:01<00:00,  8.41it/s]\n",
      "100%|██████████| 3/3 [00:00<00:00, 13.56it/s]\n",
      "100%|██████████| 3/3 [00:00<00:00, 22.24it/s]\n",
      "100%|██████████| 9/9 [00:00<00:00, 174.47it/s]\n"
     ]
    },
    {
     "name": "stdout",
     "output_type": "stream",
     "text": [
      "28 / 42\n"
     ]
    },
    {
     "name": "stderr",
     "output_type": "stream",
     "text": [
      "100%|██████████| 13/13 [00:01<00:00,  8.41it/s]\n",
      "100%|██████████| 4/4 [00:00<00:00, 13.49it/s]\n",
      "100%|██████████| 4/4 [00:00<00:00, 22.74it/s]\n",
      "100%|██████████| 9/9 [00:00<00:00, 179.81it/s]\n"
     ]
    },
    {
     "name": "stdout",
     "output_type": "stream",
     "text": [
      "29 / 42\n"
     ]
    },
    {
     "name": "stderr",
     "output_type": "stream",
     "text": [
      "100%|██████████| 13/13 [00:01<00:00,  8.85it/s]\n",
      "100%|██████████| 4/4 [00:00<00:00, 15.79it/s]\n",
      "100%|██████████| 4/4 [00:00<00:00, 24.63it/s]\n",
      "100%|██████████| 9/9 [00:00<00:00, 153.77it/s]\n"
     ]
    },
    {
     "name": "stdout",
     "output_type": "stream",
     "text": [
      "30 / 42\n"
     ]
    },
    {
     "name": "stderr",
     "output_type": "stream",
     "text": [
      "100%|██████████| 13/13 [00:01<00:00,  7.87it/s]\n",
      "100%|██████████| 4/4 [00:00<00:00, 15.85it/s]\n",
      "100%|██████████| 4/4 [00:00<00:00, 25.94it/s]\n",
      "100%|██████████| 15/15 [00:00<00:00, 167.50it/s]\n"
     ]
    },
    {
     "name": "stdout",
     "output_type": "stream",
     "text": [
      "31 / 42\n"
     ]
    },
    {
     "name": "stderr",
     "output_type": "stream",
     "text": [
      "100%|██████████| 13/13 [00:01<00:00,  7.89it/s]\n",
      "100%|██████████| 2/2 [00:00<00:00, 13.53it/s]\n",
      "100%|██████████| 2/2 [00:00<00:00, 21.13it/s]\n",
      "100%|██████████| 4/4 [00:00<00:00, 329.63it/s]\n"
     ]
    },
    {
     "name": "stdout",
     "output_type": "stream",
     "text": [
      "32 / 42\n"
     ]
    },
    {
     "name": "stderr",
     "output_type": "stream",
     "text": [
      "100%|██████████| 13/13 [00:01<00:00,  7.97it/s]\n",
      "100%|██████████| 3/3 [00:00<00:00, 14.12it/s]\n",
      "100%|██████████| 3/3 [00:00<00:00, 25.68it/s]\n",
      "100%|██████████| 9/9 [00:00<00:00, 212.56it/s]\n"
     ]
    },
    {
     "name": "stdout",
     "output_type": "stream",
     "text": [
      "33 / 42\n"
     ]
    },
    {
     "name": "stderr",
     "output_type": "stream",
     "text": [
      "100%|██████████| 13/13 [00:01<00:00,  8.36it/s]\n",
      "100%|██████████| 3/3 [00:00<00:00, 14.99it/s]\n",
      "100%|██████████| 3/3 [00:00<00:00, 22.14it/s]\n",
      "100%|██████████| 9/9 [00:00<00:00, 184.81it/s]\n"
     ]
    },
    {
     "name": "stdout",
     "output_type": "stream",
     "text": [
      "34 / 42\n"
     ]
    },
    {
     "name": "stderr",
     "output_type": "stream",
     "text": [
      "100%|██████████| 13/13 [00:01<00:00,  8.60it/s]\n",
      "100%|██████████| 4/4 [00:00<00:00, 12.63it/s]\n",
      "100%|██████████| 4/4 [00:00<00:00, 20.94it/s]\n",
      "100%|██████████| 9/9 [00:00<00:00, 174.13it/s]\n"
     ]
    },
    {
     "name": "stdout",
     "output_type": "stream",
     "text": [
      "35 / 42\n"
     ]
    },
    {
     "name": "stderr",
     "output_type": "stream",
     "text": [
      "100%|██████████| 13/13 [00:01<00:00,  9.03it/s]\n",
      "100%|██████████| 4/4 [00:00<00:00, 12.66it/s]\n",
      "100%|██████████| 4/4 [00:00<00:00, 19.94it/s]\n",
      "100%|██████████| 9/9 [00:00<00:00, 161.01it/s]\n"
     ]
    },
    {
     "name": "stdout",
     "output_type": "stream",
     "text": [
      "36 / 42\n"
     ]
    },
    {
     "name": "stderr",
     "output_type": "stream",
     "text": [
      "100%|██████████| 13/13 [00:01<00:00,  8.41it/s]\n",
      "100%|██████████| 4/4 [00:00<00:00, 13.67it/s]\n",
      "100%|██████████| 4/4 [00:00<00:00, 19.33it/s]\n",
      "100%|██████████| 9/9 [00:00<00:00, 168.66it/s]\n"
     ]
    },
    {
     "name": "stdout",
     "output_type": "stream",
     "text": [
      "37 / 42\n"
     ]
    },
    {
     "name": "stderr",
     "output_type": "stream",
     "text": [
      "100%|██████████| 13/13 [00:01<00:00,  9.10it/s]\n",
      "100%|██████████| 2/2 [00:00<00:00, 18.18it/s]\n",
      "100%|██████████| 2/2 [00:00<00:00, 22.93it/s]\n",
      "100%|██████████| 4/4 [00:00<00:00, 242.15it/s]\n"
     ]
    },
    {
     "name": "stdout",
     "output_type": "stream",
     "text": [
      "38 / 42\n"
     ]
    },
    {
     "name": "stderr",
     "output_type": "stream",
     "text": [
      "100%|██████████| 13/13 [00:01<00:00,  8.80it/s]\n",
      "100%|██████████| 3/3 [00:00<00:00, 12.49it/s]\n",
      "100%|██████████| 3/3 [00:00<00:00, 21.26it/s]\n",
      "100%|██████████| 6/6 [00:00<00:00, 191.49it/s]\n"
     ]
    },
    {
     "name": "stdout",
     "output_type": "stream",
     "text": [
      "39 / 42\n"
     ]
    },
    {
     "name": "stderr",
     "output_type": "stream",
     "text": [
      "100%|██████████| 13/13 [00:01<00:00,  8.39it/s]\n",
      "100%|██████████| 3/3 [00:00<00:00, 10.92it/s]\n",
      "100%|██████████| 3/3 [00:00<00:00, 22.46it/s]\n",
      "100%|██████████| 9/9 [00:00<00:00, 207.64it/s]\n"
     ]
    },
    {
     "name": "stdout",
     "output_type": "stream",
     "text": [
      "40 / 42\n"
     ]
    },
    {
     "name": "stderr",
     "output_type": "stream",
     "text": [
      "100%|██████████| 13/13 [00:01<00:00,  8.70it/s]\n",
      "100%|██████████| 3/3 [00:00<00:00, 14.29it/s]\n",
      "100%|██████████| 3/3 [00:00<00:00, 22.51it/s]\n",
      "100%|██████████| 9/9 [00:00<00:00, 153.80it/s]\n"
     ]
    },
    {
     "name": "stdout",
     "output_type": "stream",
     "text": [
      "41 / 42\n"
     ]
    },
    {
     "name": "stderr",
     "output_type": "stream",
     "text": [
      "100%|██████████| 13/13 [00:01<00:00,  8.55it/s]\n",
      "100%|██████████| 4/4 [00:00<00:00, 14.78it/s]\n",
      "100%|██████████| 4/4 [00:00<00:00, 20.48it/s]\n",
      "100%|██████████| 9/9 [00:00<00:00, 167.53it/s]\n"
     ]
    },
    {
     "name": "stdout",
     "output_type": "stream",
     "text": [
      "42 / 42\n"
     ]
    },
    {
     "name": "stderr",
     "output_type": "stream",
     "text": [
      "100%|██████████| 13/13 [00:01<00:00,  8.93it/s]\n",
      "100%|██████████| 4/4 [00:00<00:00, 12.98it/s]\n",
      "100%|██████████| 4/4 [00:00<00:00, 24.03it/s]\n",
      "100%|██████████| 12/12 [00:00<00:00, 180.98it/s]\n"
     ]
    }
   ],
   "source": [
    "# grid of capture efficiencies and datasets\n",
    "ct = 1\n",
    "for capture, data in data_dict.items():\n",
    "\n",
    "    # counter\n",
    "    print(f\"{ct} / {len(data_dict)}\")\n",
    "    ct += 1\n",
    "\n",
    "    # process dataset\n",
    "    truncation_OB, truncationM_OB, moments_OB, truncation_OG, extent_OG = dataset_processing(data['counts_df'], data['beta'], display=False)\n",
    "\n",
    "    # analyse dataset\n",
    "    corr_results = dataset_analysis_correlation(data['counts_df'], printing=False)\n",
    "    prob_results = dataset_analysis_probabilities_marginal(truncation_OB, truncationM_OB, truncation_OG, extent_OG, printing=False)\n",
    "    momt_results = dataset_analysis_moments_marginal(data['beta'], moments_OB, extent_OG, printing=False)\n",
    "    comb_results = dataset_analysis_combined_marginal(truncation_OB, truncationM_OB, moments_OB, data['beta'], truncation_OG, extent_OG, printing=False)\n",
    "\n",
    "    # store\n",
    "    data_dict[capture]['corr'] = corr_results\n",
    "    data_dict[capture]['prob'] = prob_results\n",
    "    data_dict[capture]['momt'] = momt_results\n",
    "    data_dict[capture]['comb'] = comb_results"
   ]
  },
  {
   "cell_type": "code",
   "execution_count": 274,
   "metadata": {},
   "outputs": [],
   "source": [
    "for capture, data in data_dict.items():\n",
    "\n",
    "    # get results\n",
    "    corr_results = data_dict[capture]['corr']\n",
    "    prob_results = data_dict[capture]['prob']\n",
    "    momt_results = data_dict[capture]['momt']\n",
    "    comb_results = data_dict[capture]['comb']\n",
    "\n",
    "    # smallest interaction strength detected\n",
    "    min_corr = interaction_values[0] + 1\n",
    "    min_prob = interaction_values[0] + 1\n",
    "    min_momt = interaction_values[0] + 1\n",
    "    min_comb = interaction_values[0] + 1\n",
    "    for i in corr_results.keys():\n",
    "        if corr_results[i]['pvalue'] < 0.05 and (interaction_values[i] < min_corr):\n",
    "            min_corr = interaction_values[i]\n",
    "        if prob_results[i] == \"INFEASIBLE\" and (interaction_values[i] < min_prob):\n",
    "            min_prob = interaction_values[i]\n",
    "        if momt_results[i] == \"INFEASIBLE\" and (interaction_values[i] < min_momt):\n",
    "            min_momt = interaction_values[i]\n",
    "        if comb_results[i] == \"INFEASIBLE\" and (interaction_values[i] < min_comb):\n",
    "            min_comb = interaction_values[i]\n",
    "\n",
    "    # if 0 (false positive): set to non-zero value for log\n",
    "    if min_corr == 0.0:\n",
    "        min_corr = interaction_values[-2] / 2\n",
    "    if min_prob == 0.0:\n",
    "        min_prob = interaction_values[-2] / 2\n",
    "    if min_momt == 0.0:\n",
    "        min_momt = interaction_values[-2] / 2\n",
    "    if min_comb == 0.0:\n",
    "        min_comb = interaction_values[-2] / 2\n",
    "\n",
    "    data_dict[capture]['min_corr'] = min_corr\n",
    "    data_dict[capture]['min_prob'] = min_prob\n",
    "    data_dict[capture]['min_momt'] = min_momt\n",
    "    data_dict[capture]['min_comb'] = min_comb\n",
    "\n",
    "    # largest iteraction strength not detected\n",
    "    max_corr = None\n",
    "    max_prob = None\n",
    "    max_momt = None\n",
    "    max_comb = None\n",
    "    for i in corr_results.keys():\n",
    "        if corr_results[i]['pvalue'] > 0.05 and (max_corr is None):\n",
    "            max_corr = interaction_values[i]\n",
    "        if prob_results[i] == \"OPTIMAL\" and (max_prob is None):\n",
    "            max_prob = interaction_values[i]\n",
    "        if momt_results[i] == \"OPTIMAL\" and (max_momt is None):\n",
    "            max_momt = interaction_values[i]\n",
    "        if comb_results[i] == \"OPTIMAL\" and (max_comb is None):\n",
    "            max_comb = interaction_values[i]\n",
    "\n",
    "    if max_corr is None:\n",
    "        max_corr = interaction_values[-2] / 2\n",
    "    if max_prob is None:\n",
    "        max_prob = interaction_values[-2] / 2\n",
    "    if max_momt is None:\n",
    "        max_momt = interaction_values[-2] / 2\n",
    "    if max_comb is None:\n",
    "        max_comb = interaction_values[-2] / 2\n",
    "\n",
    "    data_dict[capture]['max_corr'] = max_corr\n",
    "    data_dict[capture]['max_prob'] = max_prob\n",
    "    data_dict[capture]['max_momt'] = max_momt\n",
    "    data_dict[capture]['max_comb'] = max_comb"
   ]
  },
  {
   "cell_type": "code",
   "execution_count": 277,
   "metadata": {},
   "outputs": [],
   "source": [
    "# extract threshold info into plottable grid\n",
    "corr_array = np.zeros((len(mean_values), len(width_values)))\n",
    "prob_array = np.zeros((len(mean_values), len(width_values)))\n",
    "momt_array = np.zeros((len(mean_values), len(width_values)))\n",
    "comb_array = np.zeros((len(mean_values), len(width_values)))\n",
    "for i, mean in enumerate(mean_values):\n",
    "    for j, width in enumerate(width_values):\n",
    "        corr_array[i, j] = data_dict[(mean, width)]['min_corr']\n",
    "        prob_array[i, j] = data_dict[(mean, width)]['min_prob']\n",
    "        momt_array[i, j] = data_dict[(mean, width)]['min_momt']\n",
    "        comb_array[i, j] = data_dict[(mean, width)]['min_comb']\n",
    "\n",
    "vmin, vmax = interaction_values[-2], interaction_values[0]"
   ]
  },
  {
   "cell_type": "code",
   "execution_count": 279,
   "metadata": {},
   "outputs": [],
   "source": [
    "corr_array = np.log10(corr_array)\n",
    "prob_array = np.log10(prob_array)\n",
    "momt_array = np.log10(momt_array)\n",
    "comb_array = np.log10(comb_array)\n",
    "vmin, vmax = np.log10(interaction_values[-2]), np.log10(interaction_values[0])"
   ]
  },
  {
   "cell_type": "code",
   "execution_count": 280,
   "metadata": {},
   "outputs": [
    {
     "data": {
      "image/png": "[encoded data removed]",
      "text/plain": [
       "<Figure size 1200x1200 with 5 Axes>"
      ]
     },
     "metadata": {},
     "output_type": "display_data"
    }
   ],
   "source": [
    "fig, axs = plt.subplots(2, 2, figsize=(12, 12))\n",
    "\n",
    "# correlation\n",
    "img_corr = axs[0, 0].imshow(corr_array, cmap='Oranges', vmin=vmin, vmax=vmax)\n",
    "axs[0, 0].set_xlabel(\"CE range\")\n",
    "axs[0, 0].set_xticks(range(len(width_values)))\n",
    "axs[0, 0].set_xticklabels(width_values)\n",
    "axs[0, 0].set_ylabel(\"CE mean\")\n",
    "axs[0, 0].set_yticks(range(len(mean_values)))\n",
    "axs[0, 0].set_yticklabels(mean_values)\n",
    "axs[0, 0].set_title(\"Correlation test\")\n",
    "\n",
    "# probability\n",
    "img_prob = axs[0, 1].imshow(prob_array, cmap='Oranges', vmin=vmin, vmax=vmax)\n",
    "axs[0, 1].set_xlabel(\"CE range\")\n",
    "axs[0, 1].set_xticks(range(len(width_values)))\n",
    "axs[0, 1].set_xticklabels(width_values)\n",
    "axs[0, 1].set_ylabel(\"CE mean\")\n",
    "axs[0, 1].set_yticks(range(len(mean_values)))\n",
    "axs[0, 1].set_yticklabels(mean_values)\n",
    "axs[0, 1].set_title(\"Probability optimization\")\n",
    "\n",
    "# moments\n",
    "img_momt = axs[1, 0].imshow(momt_array, cmap='Oranges', vmin=vmin, vmax=vmax)\n",
    "axs[1, 0].set_xlabel(\"CE range\")\n",
    "axs[1, 0].set_xticks(range(len(width_values)))\n",
    "axs[1, 0].set_xticklabels(width_values)\n",
    "axs[1, 0].set_ylabel(\"CE mean\")\n",
    "axs[1, 0].set_yticks(range(len(mean_values)))\n",
    "axs[1, 0].set_yticklabels(mean_values)\n",
    "axs[1, 0].set_title(\"Moment optimization\")\n",
    "\n",
    "# combined\n",
    "img_comb = axs[1, 1].imshow(comb_array, cmap='Oranges', vmin=vmin, vmax=vmax)\n",
    "axs[1, 1].set_xlabel(\"CE range\")\n",
    "axs[1, 1].set_xticks(range(len(width_values)))\n",
    "axs[1, 1].set_xticklabels(width_values)\n",
    "axs[1, 1].set_ylabel(\"CE mean\")\n",
    "axs[1, 1].set_yticks(range(len(mean_values)))\n",
    "axs[1, 1].set_yticklabels(mean_values)\n",
    "axs[1, 1].set_title(\"Combined optimization\")\n",
    "\n",
    "fig.suptitle(\"Minimum interaction strength detectected by methods \\nacross a range of capture efficiencies (CE)\")\n",
    "\n",
    "cbar = plt.colorbar(img_corr, ax=axs[0, 0], extend=\"both\")\n",
    "cbar.cmap.set_over('black')\n",
    "cbar.cmap.set_under('red')\n",
    "cbar.remove()\n",
    "cbar = plt.colorbar(img_prob, ax=axs[0, 1], extend=\"both\")\n",
    "cbar.cmap.set_over('black')\n",
    "cbar.cmap.set_under('red')\n",
    "cbar.remove()\n",
    "cbar = plt.colorbar(img_momt, ax=axs[1, 0], extend=\"both\")\n",
    "cbar.cmap.set_over('black')\n",
    "cbar.cmap.set_under('red')\n",
    "cbar.remove()\n",
    "cbar = plt.colorbar(img_comb, ax=axs[1, 1], extend=\"both\")\n",
    "cbar.cmap.set_over('black')\n",
    "cbar.cmap.set_under('red')\n",
    "cbar.remove()\n",
    "\n",
    "cbar = plt.colorbar(img_prob, ax=axs, extend=\"both\", )\n",
    "cbar.cmap.set_over('black')\n",
    "cbar.cmap.set_under('red')\n",
    "cbar.set_label(\"(log) Interaction strength\")"
   ]
  },
  {
   "cell_type": "markdown",
   "metadata": {},
   "source": [
    "Moment optimiztion appears to perform very well, better than correlation test performance for lower mean capture"
   ]
  },
  {
   "cell_type": "markdown",
   "metadata": {},
   "source": [
    "## Test: Uniform capture distribution"
   ]
  },
  {
   "cell_type": "code",
   "execution_count": 325,
   "metadata": {},
   "outputs": [],
   "source": [
    "# gridtest ranges\n",
    "interaction_values = [50, 20, 10, 8, 6, 4, 2, 1, 0.8, 0.6, 0.4, 0.2, 0]\n",
    "mean_values = [1.0, 0.8, 0.6, 0.4, 0.2, 0.1, 0.0]\n",
    "width_values = [0.0, 0.2, 0.4, 0.6, 0.8, 1.0]"
   ]
  },
  {
   "cell_type": "code",
   "execution_count": 326,
   "metadata": {},
   "outputs": [
    {
     "name": "stderr",
     "output_type": "stream",
     "text": [
      "100%|██████████| 13/13 [00:09<00:00,  1.31it/s]\n"
     ]
    }
   ],
   "source": [
    "# simulate original dataset\n",
    "datasets = simulate_dataset(\n",
    "    cells = 1000,\n",
    "    interaction_values = interaction_values\n",
    ")"
   ]
  },
  {
   "cell_type": "code",
   "execution_count": 327,
   "metadata": {},
   "outputs": [],
   "source": [
    "# store data\n",
    "data_dict = {}\n",
    "\n",
    "# grid of capture efficiencies\n",
    "for mean in mean_values:\n",
    "    for width in width_values:\n",
    "\n",
    "        # store\n",
    "        info_dict = {}\n",
    "\n",
    "        # sample\n",
    "        beta = rng.uniform(mean - (width / 2), mean + (width / 2), size=1000)\n",
    "        # beta = rng.normal(mean, width, size=1000)\n",
    "\n",
    "        # clamp to [0, 1]\n",
    "        beta[beta > 1.0] = 1.0\n",
    "        beta[beta < 0.1] = 0.1\n",
    "        '''thresholding above 10%'''\n",
    "\n",
    "        # store\n",
    "        info_dict['beta'] = beta\n",
    "\n",
    "        # downsample dataset\n",
    "        counts_downsampled = simulate_downsampled_dataset(datasets['counts_df'], beta)\n",
    "\n",
    "        # store\n",
    "        info_dict['counts_df'] = counts_downsampled\n",
    "\n",
    "        # store\n",
    "        data_dict[(mean, width)] = info_dict"
   ]
  },
  {
   "cell_type": "code",
   "execution_count": 328,
   "metadata": {},
   "outputs": [
    {
     "name": "stdout",
     "output_type": "stream",
     "text": [
      "1 / 42\n"
     ]
    },
    {
     "name": "stderr",
     "output_type": "stream",
     "text": [
      "100%|██████████| 13/13 [00:01<00:00, 11.25it/s]\n",
      "100%|██████████| 5/5 [00:00<00:00, 499.51it/s]\n",
      "100%|██████████| 5/5 [00:00<00:00, 318.15it/s]\n",
      "100%|██████████| 16/16 [00:00<00:00, 360.09it/s]\n"
     ]
    },
    {
     "name": "stdout",
     "output_type": "stream",
     "text": [
      "2 / 42\n"
     ]
    },
    {
     "name": "stderr",
     "output_type": "stream",
     "text": [
      "100%|██████████| 13/13 [00:00<00:00, 13.94it/s]\n",
      "100%|██████████| 5/5 [00:00<00:00, 320.35it/s]\n",
      "100%|██████████| 5/5 [00:00<00:00, 204.43it/s]\n",
      "100%|██████████| 16/16 [00:00<00:00, 582.03it/s]\n"
     ]
    },
    {
     "name": "stdout",
     "output_type": "stream",
     "text": [
      "3 / 42\n"
     ]
    },
    {
     "name": "stderr",
     "output_type": "stream",
     "text": [
      "100%|██████████| 13/13 [00:00<00:00, 13.61it/s]\n",
      "100%|██████████| 5/5 [00:00<?, ?it/s]\n",
      "100%|██████████| 5/5 [00:00<00:00, 322.76it/s]\n",
      "100%|██████████| 16/16 [00:00<00:00, 558.19it/s]\n"
     ]
    },
    {
     "name": "stdout",
     "output_type": "stream",
     "text": [
      "4 / 42\n"
     ]
    },
    {
     "name": "stderr",
     "output_type": "stream",
     "text": [
      "100%|██████████| 13/13 [00:00<00:00, 13.77it/s]\n",
      "100%|██████████| 5/5 [00:00<00:00, 177.73it/s]\n",
      "100%|██████████| 5/5 [00:00<00:00, 258.56it/s]\n",
      "100%|██████████| 16/16 [00:00<00:00, 558.31it/s]\n"
     ]
    },
    {
     "name": "stdout",
     "output_type": "stream",
     "text": [
      "5 / 42\n"
     ]
    },
    {
     "name": "stderr",
     "output_type": "stream",
     "text": [
      "100%|██████████| 13/13 [00:01<00:00, 13.00it/s]\n",
      "100%|██████████| 4/4 [00:00<00:00, 200.10it/s]\n",
      "100%|██████████| 4/4 [00:00<00:00, 274.53it/s]\n",
      "100%|██████████| 16/16 [00:00<00:00, 802.46it/s]\n"
     ]
    },
    {
     "name": "stdout",
     "output_type": "stream",
     "text": [
      "6 / 42\n"
     ]
    },
    {
     "name": "stderr",
     "output_type": "stream",
     "text": [
      "100%|██████████| 13/13 [00:00<00:00, 14.18it/s]\n",
      "100%|██████████| 5/5 [00:00<00:00, 304.55it/s]\n",
      "100%|██████████| 5/5 [00:00<00:00, 145.10it/s]\n",
      "100%|██████████| 16/16 [00:00<00:00, 900.71it/s]\n"
     ]
    },
    {
     "name": "stdout",
     "output_type": "stream",
     "text": [
      "7 / 42\n"
     ]
    },
    {
     "name": "stderr",
     "output_type": "stream",
     "text": [
      "100%|██████████| 13/13 [00:00<00:00, 13.93it/s]\n",
      "100%|██████████| 4/4 [00:00<00:00, 214.41it/s]\n",
      "100%|██████████| 4/4 [00:00<00:00, 228.48it/s]\n",
      "100%|██████████| 16/16 [00:00<00:00, 665.91it/s]\n"
     ]
    },
    {
     "name": "stdout",
     "output_type": "stream",
     "text": [
      "8 / 42\n"
     ]
    },
    {
     "name": "stderr",
     "output_type": "stream",
     "text": [
      "100%|██████████| 13/13 [00:01<00:00, 12.76it/s]\n",
      "100%|██████████| 4/4 [00:00<00:00, 261.39it/s]\n",
      "100%|██████████| 4/4 [00:00<00:00, 309.59it/s]\n",
      "100%|██████████| 16/16 [00:00<00:00, 909.74it/s]\n"
     ]
    },
    {
     "name": "stdout",
     "output_type": "stream",
     "text": [
      "9 / 42\n"
     ]
    },
    {
     "name": "stderr",
     "output_type": "stream",
     "text": [
      "100%|██████████| 13/13 [00:00<00:00, 14.20it/s]\n",
      "100%|██████████| 4/4 [00:00<00:00, 232.27it/s]\n",
      "100%|██████████| 4/4 [00:00<00:00, 488.82it/s]\n",
      "100%|██████████| 16/16 [00:00<00:00, 521.15it/s]\n"
     ]
    },
    {
     "name": "stdout",
     "output_type": "stream",
     "text": [
      "10 / 42\n"
     ]
    },
    {
     "name": "stderr",
     "output_type": "stream",
     "text": [
      "100%|██████████| 13/13 [00:00<00:00, 13.93it/s]\n",
      "100%|██████████| 4/4 [00:00<00:00, 180.95it/s]\n",
      "100%|██████████| 4/4 [00:00<00:00, 172.57it/s]\n",
      "100%|██████████| 16/16 [00:00<00:00, 516.52it/s]\n"
     ]
    },
    {
     "name": "stdout",
     "output_type": "stream",
     "text": [
      "11 / 42\n"
     ]
    },
    {
     "name": "stderr",
     "output_type": "stream",
     "text": [
      "100%|██████████| 13/13 [00:01<00:00, 12.78it/s]\n",
      "100%|██████████| 5/5 [00:00<00:00, 141.65it/s]\n",
      "100%|██████████| 5/5 [00:00<00:00, 137.21it/s]\n",
      "100%|██████████| 16/16 [00:00<00:00, 505.63it/s]\n"
     ]
    },
    {
     "name": "stdout",
     "output_type": "stream",
     "text": [
      "12 / 42\n"
     ]
    },
    {
     "name": "stderr",
     "output_type": "stream",
     "text": [
      "100%|██████████| 13/13 [00:00<00:00, 14.11it/s]\n",
      "100%|██████████| 4/4 [00:00<00:00, 85.95it/s]\n",
      "100%|██████████| 4/4 [00:00<00:00, 116.14it/s]\n",
      "100%|██████████| 16/16 [00:00<00:00, 390.33it/s]\n"
     ]
    },
    {
     "name": "stdout",
     "output_type": "stream",
     "text": [
      "13 / 42\n"
     ]
    },
    {
     "name": "stderr",
     "output_type": "stream",
     "text": [
      "100%|██████████| 13/13 [00:00<00:00, 13.69it/s]\n",
      "100%|██████████| 4/4 [00:00<00:00, 240.98it/s]\n",
      "100%|██████████| 4/4 [00:00<00:00, 111.14it/s]\n",
      "100%|██████████| 16/16 [00:00<00:00, 657.44it/s]\n"
     ]
    },
    {
     "name": "stdout",
     "output_type": "stream",
     "text": [
      "14 / 42\n"
     ]
    },
    {
     "name": "stderr",
     "output_type": "stream",
     "text": [
      "100%|██████████| 13/13 [00:00<00:00, 13.94it/s]\n",
      "100%|██████████| 4/4 [00:00<00:00, 239.84it/s]\n",
      "100%|██████████| 4/4 [00:00<00:00, 179.54it/s]\n",
      "100%|██████████| 16/16 [00:00<00:00, 554.67it/s]\n"
     ]
    },
    {
     "name": "stdout",
     "output_type": "stream",
     "text": [
      "15 / 42\n"
     ]
    },
    {
     "name": "stderr",
     "output_type": "stream",
     "text": [
      "100%|██████████| 13/13 [00:00<00:00, 13.21it/s]\n",
      "100%|██████████| 4/4 [00:00<00:00, 106.29it/s]\n",
      "100%|██████████| 4/4 [00:00<00:00, 110.47it/s]\n",
      "100%|██████████| 16/16 [00:00<00:00, 582.59it/s]\n"
     ]
    },
    {
     "name": "stdout",
     "output_type": "stream",
     "text": [
      "16 / 42\n"
     ]
    },
    {
     "name": "stderr",
     "output_type": "stream",
     "text": [
      "100%|██████████| 13/13 [00:00<00:00, 13.48it/s]\n",
      "100%|██████████| 4/4 [00:00<00:00, 92.27it/s]\n",
      "100%|██████████| 4/4 [00:00<00:00, 100.10it/s]\n",
      "100%|██████████| 16/16 [00:00<00:00, 539.66it/s]\n"
     ]
    },
    {
     "name": "stdout",
     "output_type": "stream",
     "text": [
      "17 / 42\n"
     ]
    },
    {
     "name": "stderr",
     "output_type": "stream",
     "text": [
      "100%|██████████| 13/13 [00:01<00:00, 12.79it/s]\n",
      "100%|██████████| 4/4 [00:00<00:00, 53.12it/s]\n",
      "100%|██████████| 4/4 [00:00<00:00, 77.98it/s]\n",
      "100%|██████████| 16/16 [00:00<00:00, 318.97it/s]\n"
     ]
    },
    {
     "name": "stdout",
     "output_type": "stream",
     "text": [
      "18 / 42\n"
     ]
    },
    {
     "name": "stderr",
     "output_type": "stream",
     "text": [
      "100%|██████████| 13/13 [00:01<00:00, 11.42it/s]\n",
      "100%|██████████| 4/4 [00:00<00:00, 37.40it/s]\n",
      "100%|██████████| 4/4 [00:00<00:00, 41.03it/s]\n",
      "100%|██████████| 16/16 [00:00<00:00, 329.61it/s]\n"
     ]
    },
    {
     "name": "stdout",
     "output_type": "stream",
     "text": [
      "19 / 42\n"
     ]
    },
    {
     "name": "stderr",
     "output_type": "stream",
     "text": [
      "100%|██████████| 13/13 [00:00<00:00, 13.45it/s]\n",
      "100%|██████████| 3/3 [00:00<00:00, 87.10it/s]\n",
      "100%|██████████| 3/3 [00:00<00:00, 130.72it/s]\n",
      "100%|██████████| 9/9 [00:00<00:00, 548.05it/s]\n"
     ]
    },
    {
     "name": "stdout",
     "output_type": "stream",
     "text": [
      "20 / 42\n"
     ]
    },
    {
     "name": "stderr",
     "output_type": "stream",
     "text": [
      "100%|██████████| 13/13 [00:01<00:00, 12.58it/s]\n",
      "100%|██████████| 3/3 [00:00<00:00, 74.12it/s]\n",
      "100%|██████████| 3/3 [00:00<00:00, 77.12it/s]\n",
      "100%|██████████| 9/9 [00:00<00:00, 529.85it/s]\n"
     ]
    },
    {
     "name": "stdout",
     "output_type": "stream",
     "text": [
      "21 / 42\n"
     ]
    },
    {
     "name": "stderr",
     "output_type": "stream",
     "text": [
      "100%|██████████| 13/13 [00:00<00:00, 13.21it/s]\n",
      "100%|██████████| 4/4 [00:00<00:00, 53.31it/s]\n",
      "100%|██████████| 4/4 [00:00<00:00, 74.76it/s]\n",
      "100%|██████████| 9/9 [00:00<00:00, 396.47it/s]\n"
     ]
    },
    {
     "name": "stdout",
     "output_type": "stream",
     "text": [
      "22 / 42\n"
     ]
    },
    {
     "name": "stderr",
     "output_type": "stream",
     "text": [
      "100%|██████████| 13/13 [00:00<00:00, 13.24it/s]\n",
      "100%|██████████| 4/4 [00:00<00:00, 29.19it/s]\n",
      "100%|██████████| 4/4 [00:00<00:00, 39.56it/s]\n",
      "100%|██████████| 12/12 [00:00<00:00, 370.31it/s]\n"
     ]
    },
    {
     "name": "stdout",
     "output_type": "stream",
     "text": [
      "23 / 42\n"
     ]
    },
    {
     "name": "stderr",
     "output_type": "stream",
     "text": [
      "100%|██████████| 13/13 [00:00<00:00, 13.04it/s]\n",
      "100%|██████████| 4/4 [00:00<00:00, 22.79it/s]\n",
      "100%|██████████| 4/4 [00:00<00:00, 35.76it/s]\n",
      "100%|██████████| 12/12 [00:00<00:00, 250.13it/s]\n"
     ]
    },
    {
     "name": "stdout",
     "output_type": "stream",
     "text": [
      "24 / 42\n"
     ]
    },
    {
     "name": "stderr",
     "output_type": "stream",
     "text": [
      "100%|██████████| 13/13 [00:00<00:00, 13.06it/s]\n",
      "100%|██████████| 4/4 [00:00<00:00, 23.49it/s]\n",
      "100%|██████████| 4/4 [00:00<00:00, 34.90it/s]\n",
      "100%|██████████| 9/9 [00:00<00:00, 348.99it/s]\n"
     ]
    },
    {
     "name": "stdout",
     "output_type": "stream",
     "text": [
      "25 / 42\n"
     ]
    },
    {
     "name": "stderr",
     "output_type": "stream",
     "text": [
      "100%|██████████| 13/13 [00:01<00:00, 11.94it/s]\n",
      "100%|██████████| 3/3 [00:00<00:00, 44.51it/s]\n",
      "100%|██████████| 3/3 [00:00<00:00, 57.40it/s]\n",
      "100%|██████████| 9/9 [00:00<00:00, 357.53it/s]\n"
     ]
    },
    {
     "name": "stdout",
     "output_type": "stream",
     "text": [
      "26 / 42\n"
     ]
    },
    {
     "name": "stderr",
     "output_type": "stream",
     "text": [
      "100%|██████████| 13/13 [00:01<00:00, 12.82it/s]\n",
      "100%|██████████| 3/3 [00:00<00:00, 29.85it/s]\n",
      "100%|██████████| 3/3 [00:00<00:00, 35.08it/s]\n",
      "100%|██████████| 8/8 [00:00<00:00, 374.66it/s]\n"
     ]
    },
    {
     "name": "stdout",
     "output_type": "stream",
     "text": [
      "27 / 42\n"
     ]
    },
    {
     "name": "stderr",
     "output_type": "stream",
     "text": [
      "100%|██████████| 13/13 [00:01<00:00,  9.11it/s]\n",
      "100%|██████████| 3/3 [00:00<00:00, 18.88it/s]\n",
      "100%|██████████| 3/3 [00:00<00:00, 31.12it/s]\n",
      "100%|██████████| 9/9 [00:00<00:00, 358.78it/s]\n"
     ]
    },
    {
     "name": "stdout",
     "output_type": "stream",
     "text": [
      "28 / 42\n"
     ]
    },
    {
     "name": "stderr",
     "output_type": "stream",
     "text": [
      "100%|██████████| 13/13 [00:01<00:00, 12.83it/s]\n",
      "100%|██████████| 3/3 [00:00<00:00, 21.40it/s]\n",
      "100%|██████████| 3/3 [00:00<00:00, 30.44it/s]\n",
      "100%|██████████| 9/9 [00:00<00:00, 349.27it/s]\n"
     ]
    },
    {
     "name": "stdout",
     "output_type": "stream",
     "text": [
      "29 / 42\n"
     ]
    },
    {
     "name": "stderr",
     "output_type": "stream",
     "text": [
      "100%|██████████| 13/13 [00:01<00:00, 12.60it/s]\n",
      "100%|██████████| 3/3 [00:00<00:00, 24.48it/s]\n",
      "100%|██████████| 3/3 [00:00<00:00, 29.45it/s]\n",
      "100%|██████████| 9/9 [00:00<00:00, 341.67it/s]\n"
     ]
    },
    {
     "name": "stdout",
     "output_type": "stream",
     "text": [
      "30 / 42\n"
     ]
    },
    {
     "name": "stderr",
     "output_type": "stream",
     "text": [
      "100%|██████████| 13/13 [00:01<00:00, 12.30it/s]\n",
      "100%|██████████| 3/3 [00:00<00:00, 25.55it/s]\n",
      "100%|██████████| 3/3 [00:00<00:00, 34.22it/s]\n",
      "100%|██████████| 9/9 [00:00<00:00, 332.20it/s]\n"
     ]
    },
    {
     "name": "stdout",
     "output_type": "stream",
     "text": [
      "31 / 42\n"
     ]
    },
    {
     "name": "stderr",
     "output_type": "stream",
     "text": [
      "100%|██████████| 13/13 [00:01<00:00, 12.84it/s]\n",
      "100%|██████████| 2/2 [00:00<00:00, 24.06it/s]\n",
      "100%|██████████| 2/2 [00:00<00:00, 37.86it/s]\n",
      "100%|██████████| 4/4 [00:00<00:00, 199.85it/s]\n"
     ]
    },
    {
     "name": "stdout",
     "output_type": "stream",
     "text": [
      "32 / 42\n"
     ]
    },
    {
     "name": "stderr",
     "output_type": "stream",
     "text": [
      "100%|██████████| 13/13 [00:01<00:00, 12.24it/s]\n",
      "100%|██████████| 3/3 [00:00<00:00, 20.11it/s]\n",
      "100%|██████████| 3/3 [00:00<00:00, 29.73it/s]\n",
      "100%|██████████| 6/6 [00:00<00:00, 225.94it/s]\n"
     ]
    },
    {
     "name": "stdout",
     "output_type": "stream",
     "text": [
      "33 / 42\n"
     ]
    },
    {
     "name": "stderr",
     "output_type": "stream",
     "text": [
      "100%|██████████| 13/13 [00:01<00:00, 12.76it/s]\n",
      "100%|██████████| 3/3 [00:00<00:00, 22.99it/s]\n",
      "100%|██████████| 3/3 [00:00<00:00, 30.21it/s]\n",
      "100%|██████████| 9/9 [00:00<00:00, 374.02it/s]\n"
     ]
    },
    {
     "name": "stdout",
     "output_type": "stream",
     "text": [
      "34 / 42\n"
     ]
    },
    {
     "name": "stderr",
     "output_type": "stream",
     "text": [
      "100%|██████████| 13/13 [00:01<00:00, 12.83it/s]\n",
      "100%|██████████| 3/3 [00:00<00:00, 21.94it/s]\n",
      "100%|██████████| 3/3 [00:00<00:00, 34.10it/s]\n",
      "100%|██████████| 9/9 [00:00<00:00, 375.91it/s]\n"
     ]
    },
    {
     "name": "stdout",
     "output_type": "stream",
     "text": [
      "35 / 42\n"
     ]
    },
    {
     "name": "stderr",
     "output_type": "stream",
     "text": [
      "100%|██████████| 13/13 [00:01<00:00, 12.82it/s]\n",
      "100%|██████████| 3/3 [00:00<00:00, 24.61it/s]\n",
      "100%|██████████| 3/3 [00:00<00:00, 28.57it/s]\n",
      "100%|██████████| 9/9 [00:00<00:00, 342.42it/s]\n"
     ]
    },
    {
     "name": "stdout",
     "output_type": "stream",
     "text": [
      "36 / 42\n"
     ]
    },
    {
     "name": "stderr",
     "output_type": "stream",
     "text": [
      "100%|██████████| 13/13 [00:01<00:00, 12.83it/s]\n",
      "100%|██████████| 3/3 [00:00<00:00, 23.41it/s]\n",
      "100%|██████████| 3/3 [00:00<00:00, 30.22it/s]\n",
      "100%|██████████| 9/9 [00:00<00:00, 347.05it/s]\n"
     ]
    },
    {
     "name": "stdout",
     "output_type": "stream",
     "text": [
      "37 / 42\n"
     ]
    },
    {
     "name": "stderr",
     "output_type": "stream",
     "text": [
      "100%|██████████| 13/13 [00:00<00:00, 13.02it/s]\n",
      "100%|██████████| 2/2 [00:00<00:00, 20.16it/s]\n",
      "100%|██████████| 2/2 [00:00<00:00, 34.05it/s]\n",
      "100%|██████████| 4/4 [00:00<00:00, 306.25it/s]\n"
     ]
    },
    {
     "name": "stdout",
     "output_type": "stream",
     "text": [
      "38 / 42\n"
     ]
    },
    {
     "name": "stderr",
     "output_type": "stream",
     "text": [
      "100%|██████████| 13/13 [00:01<00:00, 12.97it/s]\n",
      "100%|██████████| 2/2 [00:00<00:00, 22.04it/s]\n",
      "100%|██████████| 2/2 [00:00<00:00, 32.48it/s]\n",
      "100%|██████████| 4/4 [00:00<00:00, 404.62it/s]\n"
     ]
    },
    {
     "name": "stdout",
     "output_type": "stream",
     "text": [
      "39 / 42\n"
     ]
    },
    {
     "name": "stderr",
     "output_type": "stream",
     "text": [
      "100%|██████████| 13/13 [00:01<00:00, 12.37it/s]\n",
      "100%|██████████| 3/3 [00:00<00:00, 26.26it/s]\n",
      "100%|██████████| 3/3 [00:00<00:00, 33.93it/s]\n",
      "100%|██████████| 4/4 [00:00<00:00, 414.38it/s]\n"
     ]
    },
    {
     "name": "stdout",
     "output_type": "stream",
     "text": [
      "40 / 42\n"
     ]
    },
    {
     "name": "stderr",
     "output_type": "stream",
     "text": [
      "100%|██████████| 13/13 [00:01<00:00, 12.72it/s]\n",
      "100%|██████████| 3/3 [00:00<00:00, 24.49it/s]\n",
      "100%|██████████| 3/3 [00:00<00:00, 29.66it/s]\n",
      "100%|██████████| 6/6 [00:00<00:00, 263.77it/s]\n"
     ]
    },
    {
     "name": "stdout",
     "output_type": "stream",
     "text": [
      "41 / 42\n"
     ]
    },
    {
     "name": "stderr",
     "output_type": "stream",
     "text": [
      "100%|██████████| 13/13 [00:01<00:00, 12.85it/s]\n",
      "100%|██████████| 3/3 [00:00<00:00, 25.46it/s]\n",
      "100%|██████████| 3/3 [00:00<00:00, 28.46it/s]\n",
      "100%|██████████| 9/9 [00:00<00:00, 540.97it/s]\n"
     ]
    },
    {
     "name": "stdout",
     "output_type": "stream",
     "text": [
      "42 / 42\n"
     ]
    },
    {
     "name": "stderr",
     "output_type": "stream",
     "text": [
      "100%|██████████| 13/13 [00:01<00:00, 12.62it/s]\n",
      "100%|██████████| 3/3 [00:00<00:00, 24.44it/s]\n",
      "100%|██████████| 3/3 [00:00<00:00, 31.69it/s]\n",
      "100%|██████████| 9/9 [00:00<00:00, 346.94it/s]\n"
     ]
    }
   ],
   "source": [
    "# grid of capture efficiencies and datasets\n",
    "ct = 1\n",
    "for capture, data in data_dict.items():\n",
    "\n",
    "    # counter\n",
    "    print(f\"{ct} / {len(data_dict)}\")\n",
    "    ct += 1\n",
    "\n",
    "    # process dataset\n",
    "    truncation_OB, truncationM_OB, moments_OB, truncation_OG, extent_OG = dataset_processing(data['counts_df'], data['beta'], display=False)\n",
    "\n",
    "    # analyse dataset\n",
    "    corr_results = dataset_analysis_correlation(data['counts_df'], printing=False)\n",
    "    prob_results = dataset_analysis_probabilities_marginal(truncation_OB, truncationM_OB, truncation_OG, extent_OG, printing=False)\n",
    "    momt_results = dataset_analysis_moments_marginal(data['beta'], moments_OB, extent_OG, printing=False)\n",
    "    comb_results = dataset_analysis_combined_marginal(truncation_OB, truncationM_OB, moments_OB, data['beta'], truncation_OG, extent_OG, printing=False)\n",
    "\n",
    "    # store\n",
    "    data_dict[capture]['corr'] = corr_results\n",
    "    data_dict[capture]['prob'] = prob_results\n",
    "    data_dict[capture]['momt'] = momt_results\n",
    "    data_dict[capture]['comb'] = comb_results"
   ]
  },
  {
   "cell_type": "code",
   "execution_count": 329,
   "metadata": {},
   "outputs": [],
   "source": [
    "for capture, data in data_dict.items():\n",
    "\n",
    "    # get results\n",
    "    corr_results = data_dict[capture]['corr']\n",
    "    prob_results = data_dict[capture]['prob']\n",
    "    momt_results = data_dict[capture]['momt']\n",
    "    comb_results = data_dict[capture]['comb']\n",
    "\n",
    "    # smallest interaction strength detected\n",
    "    min_corr = interaction_values[0] + 1\n",
    "    min_prob = interaction_values[0] + 1\n",
    "    min_momt = interaction_values[0] + 1\n",
    "    min_comb = interaction_values[0] + 1\n",
    "    for i in corr_results.keys():\n",
    "        if corr_results[i]['pvalue'] < 0.05 and (interaction_values[i] < min_corr):\n",
    "            min_corr = interaction_values[i]\n",
    "        if prob_results[i] == \"INFEASIBLE\" and (interaction_values[i] < min_prob):\n",
    "            min_prob = interaction_values[i]\n",
    "        if momt_results[i] == \"INFEASIBLE\" and (interaction_values[i] < min_momt):\n",
    "            min_momt = interaction_values[i]\n",
    "        if comb_results[i] == \"INFEASIBLE\" and (interaction_values[i] < min_comb):\n",
    "            min_comb = interaction_values[i]\n",
    "\n",
    "    # if 0 (false positive): set to non-zero value for log\n",
    "    if min_corr == 0.0:\n",
    "        min_corr = interaction_values[-2] / 2\n",
    "    if min_prob == 0.0:\n",
    "        min_prob = interaction_values[-2] / 2\n",
    "    if min_momt == 0.0:\n",
    "        min_momt = interaction_values[-2] / 2\n",
    "    if min_comb == 0.0:\n",
    "        min_comb = interaction_values[-2] / 2\n",
    "\n",
    "    data_dict[capture]['min_corr'] = min_corr\n",
    "    data_dict[capture]['min_prob'] = min_prob\n",
    "    data_dict[capture]['min_momt'] = min_momt\n",
    "    data_dict[capture]['min_comb'] = min_comb\n",
    "\n",
    "    # largest iteraction strength not detected\n",
    "    max_corr = None\n",
    "    max_prob = None\n",
    "    max_momt = None\n",
    "    max_comb = None\n",
    "    for i in corr_results.keys():\n",
    "        if corr_results[i]['pvalue'] > 0.05 and (max_corr is None):\n",
    "            max_corr = interaction_values[i]\n",
    "        if prob_results[i] == \"OPTIMAL\" and (max_prob is None):\n",
    "            max_prob = interaction_values[i]\n",
    "        if momt_results[i] == \"OPTIMAL\" and (max_momt is None):\n",
    "            max_momt = interaction_values[i]\n",
    "        if comb_results[i] == \"OPTIMAL\" and (max_comb is None):\n",
    "            max_comb = interaction_values[i]\n",
    "\n",
    "    if max_corr is None:\n",
    "        max_corr = interaction_values[-2] / 2\n",
    "    if max_prob is None:\n",
    "        max_prob = interaction_values[-2] / 2\n",
    "    if max_momt is None:\n",
    "        max_momt = interaction_values[-2] / 2\n",
    "    if max_comb is None:\n",
    "        max_comb = interaction_values[-2] / 2\n",
    "\n",
    "    data_dict[capture]['max_corr'] = max_corr\n",
    "    data_dict[capture]['max_prob'] = max_prob\n",
    "    data_dict[capture]['max_momt'] = max_momt\n",
    "    data_dict[capture]['max_comb'] = max_comb"
   ]
  },
  {
   "cell_type": "code",
   "execution_count": 334,
   "metadata": {},
   "outputs": [],
   "source": [
    "# extract threshold info into plottable grid\n",
    "corr_array = np.zeros((len(mean_values), len(width_values)))\n",
    "prob_array = np.zeros((len(mean_values), len(width_values)))\n",
    "momt_array = np.zeros((len(mean_values), len(width_values)))\n",
    "comb_array = np.zeros((len(mean_values), len(width_values)))\n",
    "for i, mean in enumerate(mean_values):\n",
    "    for j, width in enumerate(width_values):\n",
    "        corr_array[i, j] = data_dict[(mean, width)]['min_corr']\n",
    "        prob_array[i, j] = data_dict[(mean, width)]['min_prob']\n",
    "        momt_array[i, j] = data_dict[(mean, width)]['min_momt']\n",
    "        comb_array[i, j] = data_dict[(mean, width)]['min_comb']\n",
    "\n",
    "vmin, vmax = interaction_values[-2], interaction_values[0]"
   ]
  },
  {
   "cell_type": "code",
   "execution_count": 332,
   "metadata": {},
   "outputs": [],
   "source": [
    "corr_array = np.log10(corr_array)\n",
    "prob_array = np.log10(prob_array)\n",
    "momt_array = np.log10(momt_array)\n",
    "comb_array = np.log10(comb_array)\n",
    "vmin, vmax = np.log10(interaction_values[-2]), np.log10(interaction_values[0])"
   ]
  },
  {
   "cell_type": "code",
   "execution_count": 333,
   "metadata": {},
   "outputs": [
    {
     "data": {
      "image/png": "[encoded data removed]",
      "text/plain": [
       "<Figure size 1200x1200 with 5 Axes>"
      ]
     },
     "metadata": {},
     "output_type": "display_data"
    }
   ],
   "source": [
    "fig, axs = plt.subplots(2, 2, figsize=(12, 12))\n",
    "\n",
    "# correlation\n",
    "img_corr = axs[0, 0].imshow(corr_array, cmap='Oranges', vmin=vmin, vmax=vmax)\n",
    "axs[0, 0].set_xlabel(\"CE range\")\n",
    "axs[0, 0].set_xticks(range(len(width_values)))\n",
    "axs[0, 0].set_xticklabels(width_values)\n",
    "axs[0, 0].set_ylabel(\"CE mean\")\n",
    "axs[0, 0].set_yticks(range(len(mean_values)))\n",
    "axs[0, 0].set_yticklabels(mean_values)\n",
    "axs[0, 0].set_title(\"Correlation test\")\n",
    "\n",
    "# probability\n",
    "img_prob = axs[0, 1].imshow(prob_array, cmap='Oranges', vmin=vmin, vmax=vmax)\n",
    "axs[0, 1].set_xlabel(\"CE range\")\n",
    "axs[0, 1].set_xticks(range(len(width_values)))\n",
    "axs[0, 1].set_xticklabels(width_values)\n",
    "axs[0, 1].set_ylabel(\"CE mean\")\n",
    "axs[0, 1].set_yticks(range(len(mean_values)))\n",
    "axs[0, 1].set_yticklabels(mean_values)\n",
    "axs[0, 1].set_title(\"Probability optimization\")\n",
    "\n",
    "# moments\n",
    "img_momt = axs[1, 0].imshow(momt_array, cmap='Oranges', vmin=vmin, vmax=vmax)\n",
    "axs[1, 0].set_xlabel(\"CE range\")\n",
    "axs[1, 0].set_xticks(range(len(width_values)))\n",
    "axs[1, 0].set_xticklabels(width_values)\n",
    "axs[1, 0].set_ylabel(\"CE mean\")\n",
    "axs[1, 0].set_yticks(range(len(mean_values)))\n",
    "axs[1, 0].set_yticklabels(mean_values)\n",
    "axs[1, 0].set_title(\"Moment optimization\")\n",
    "\n",
    "# combined\n",
    "img_comb = axs[1, 1].imshow(comb_array, cmap='Oranges', vmin=vmin, vmax=vmax)\n",
    "axs[1, 1].set_xlabel(\"CE range\")\n",
    "axs[1, 1].set_xticks(range(len(width_values)))\n",
    "axs[1, 1].set_xticklabels(width_values)\n",
    "axs[1, 1].set_ylabel(\"CE mean\")\n",
    "axs[1, 1].set_yticks(range(len(mean_values)))\n",
    "axs[1, 1].set_yticklabels(mean_values)\n",
    "axs[1, 1].set_title(\"Combined optimization\")\n",
    "\n",
    "fig.suptitle(\"Minimum interaction strength detectected by methods \\nacross a range of capture efficiencies (CE)\")\n",
    "\n",
    "cbar = plt.colorbar(img_corr, ax=axs[0, 0], extend=\"both\")\n",
    "cbar.cmap.set_over('black')\n",
    "cbar.cmap.set_under('red')\n",
    "cbar.remove()\n",
    "cbar = plt.colorbar(img_prob, ax=axs[0, 1], extend=\"both\")\n",
    "cbar.cmap.set_over('black')\n",
    "cbar.cmap.set_under('red')\n",
    "cbar.remove()\n",
    "cbar = plt.colorbar(img_momt, ax=axs[1, 0], extend=\"both\")\n",
    "cbar.cmap.set_over('black')\n",
    "cbar.cmap.set_under('red')\n",
    "cbar.remove()\n",
    "cbar = plt.colorbar(img_comb, ax=axs[1, 1], extend=\"both\")\n",
    "cbar.cmap.set_over('black')\n",
    "cbar.cmap.set_under('red')\n",
    "cbar.remove()\n",
    "\n",
    "cbar = plt.colorbar(img_prob, ax=axs, extend=\"both\", )\n",
    "cbar.cmap.set_over('black')\n",
    "cbar.cmap.set_under('red')\n",
    "cbar.set_label(\"(log) Interaction strength\")"
   ]
  },
  {
   "cell_type": "markdown",
   "metadata": {},
   "source": [
    "Performance appears worse than normal distributed capture, but not bad overall"
   ]
  }
 ],
 "metadata": {
  "kernelspec": {
   "display_name": "M5R_venv",
   "language": "python",
   "name": "python3"
  },
  "language_info": {
   "codemirror_mode": {
    "name": "ipython",
    "version": 3
   },
   "file_extension": ".py",
   "mimetype": "text/x-python",
   "name": "python",
   "nbconvert_exporter": "python",
   "pygments_lexer": "ipython3",
   "version": "3.12.2"
  }
 },
 "nbformat": 4,
 "nbformat_minor": 2
}
