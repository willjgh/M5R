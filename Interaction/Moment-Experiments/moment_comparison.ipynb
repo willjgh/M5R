{
 "cells": [
  {
   "cell_type": "code",
   "execution_count": 1,
   "metadata": {},
   "outputs": [],
   "source": [
    "import numpy as np\n",
    "import matplotlib.pyplot as plt\n",
    "import pandas as pd\n",
    "import time\n",
    "import gurobipy as gp\n",
    "from gurobipy import GRB\n",
    "import scipy\n",
    "import tqdm\n",
    "from ast import literal_eval\n",
    "import json\n",
    "from time import time"
   ]
  },
  {
   "cell_type": "code",
   "execution_count": 2,
   "metadata": {},
   "outputs": [],
   "source": [
    "status_codes = {\n",
    "    1: 'LOADED',\n",
    "    2: 'OPTIMAL',\n",
    "    3: 'INFEASIBLE',\n",
    "    4: 'INF_OR_UNBD',\n",
    "    5: 'UNBOUNDED',\n",
    "    6: 'CUTOFF',\n",
    "    7: 'ITERATION_LIMIT',\n",
    "    8: 'NODE_LIMIT',\n",
    "    9: 'TIME_LIMIT',\n",
    "    10: 'SOLUTION_LIMIT',\n",
    "    11: 'INTERRUPTED',\n",
    "    12: 'NUMERIC',\n",
    "    13: 'SUBOPTIMAL',\n",
    "    14: 'INPROGRESS',\n",
    "    15: 'USER_OBJ_LIMIT'\n",
    "}"
   ]
  },
  {
   "cell_type": "code",
   "execution_count": 3,
   "metadata": {},
   "outputs": [],
   "source": [
    "rng = np.random.default_rng()"
   ]
  },
  {
   "cell_type": "markdown",
   "metadata": {},
   "source": [
    "# Comparison\n",
    "\n",
    "Setup moment and probability optimizations and compare results\n",
    "\n",
    "Looking now at per cell capture efficiency values, also compare to correlation tests which are then affected by positive correlation introduced by downsampling\n",
    "\n",
    "## Contents\n",
    "\n",
    "- simulation of basic datasets e.g. varied interaction strength for different capture efficiencies (constant per dataset)\n",
    "- pre-processing (bootstrap) and optimization setup for probabilities and moments\n",
    "- correlation test analyis\n",
    "- result comparison"
   ]
  },
  {
   "cell_type": "markdown",
   "metadata": {},
   "source": [
    "# Simulation"
   ]
  },
  {
   "cell_type": "markdown",
   "metadata": {},
   "source": [
    "## Code"
   ]
  },
  {
   "cell_type": "markdown",
   "metadata": {},
   "source": [
    "### Sample simulation\n",
    "\n",
    "Use gillespie algorithm to simulate a sample path of reaction network with given parameters, taking n samples from the stationary distribution"
   ]
  },
  {
   "cell_type": "code",
   "execution_count": 4,
   "metadata": {},
   "outputs": [],
   "source": [
    "def gillespie(params, n, tmax=100, ts=10, plot=False, initial_state=(0, 0)):\n",
    "    '''\n",
    "    Simulate a sample path of the birth death regulation model\n",
    "    Sample n values at intervals of ts after a burn-in time of tmax\n",
    "\n",
    "    params: dict of reaction rate constants\n",
    "    n: number of samples\n",
    "    tmax: burn in time\n",
    "    ts: time between samples\n",
    "    '''\n",
    "\n",
    "    # initialize random generator\n",
    "    rng = np.random.default_rng()\n",
    "\n",
    "    # initialise time and state\n",
    "    t = 0\n",
    "    path = [initial_state]\n",
    "    jump_times = [0]\n",
    "\n",
    "    # simulate for burn-in time and time between n samples\n",
    "    while t < tmax + (n - 1) * ts:\n",
    "\n",
    "        # current state\n",
    "        x1, x2 = path[-1][0], path[-1][1]\n",
    "\n",
    "        # transition rates\n",
    "        q_tx_1 = params['k_tx_1']\n",
    "        q_tx_2 = params['k_tx_2']\n",
    "        q_deg_1 = x1 * params['k_deg_1']\n",
    "        q_deg_2 = x2 * params['k_deg_2']\n",
    "        q_reg = x1 * x2 * params['k_reg']\n",
    "        q_hold = q_tx_1 + q_tx_2 + q_deg_1 + q_deg_2 + q_reg\n",
    "\n",
    "        # holding time in current state\n",
    "        t_hold = -np.log(rng.uniform()) / q_hold\n",
    "        t += t_hold\n",
    "        jump_times.append(t)\n",
    "\n",
    "        # jump probability\n",
    "        outcome = [1, 2, 3, 4, 5]\n",
    "        prob = [\n",
    "            q_tx_1 / q_hold,\n",
    "            q_tx_2 / q_hold,\n",
    "            q_deg_1 / q_hold,\n",
    "            q_deg_2 / q_hold,\n",
    "            q_reg / q_hold\n",
    "        ]\n",
    "        jump = rng.choice(outcome, p=prob)\n",
    "        match jump:\n",
    "            case 1:\n",
    "                path.append((x1 + 1, x2))\n",
    "            case 2:\n",
    "                path.append((x1, x2 + 1))\n",
    "            case 3:\n",
    "                path.append((x1 - 1, x2))\n",
    "            case 4:\n",
    "                path.append((x1, x2 - 1))\n",
    "            case 5:\n",
    "                path.append((x1 - 1, x2 - 1))\n",
    "\n",
    "    # take the transcript states\n",
    "    x1_path = [state[0] for state in path]\n",
    "    x2_path = [state[1] for state in path]\n",
    "\n",
    "    # create step function of sample path from jump times and jump values\n",
    "    x1_path_function = scipy.interpolate.interp1d(jump_times, x1_path, kind='previous')\n",
    "    x2_path_function = scipy.interpolate.interp1d(jump_times, x2_path, kind='previous')\n",
    "\n",
    "    # take values at sampling times as samples from stationary dist\n",
    "    sample_times = [tmax + i * ts for i in range(n)]\n",
    "    x1_samples = x1_path_function(sample_times)\n",
    "    x2_samples = x2_path_function(sample_times)\n",
    "\n",
    "    # convert to integers\n",
    "    x1_samples = [int(x1) for x1 in x1_samples]\n",
    "    x2_samples = [int(x2) for x2 in x2_samples]\n",
    "\n",
    "    # re-combine to pairs of samples\n",
    "    samples = list(zip(x1_samples, x2_samples))\n",
    "\n",
    "    # plot sample paths\n",
    "    if plot:\n",
    "        x = np.linspace(0, tmax + (n - 1) * ts, 10000)\n",
    "        plt.plot(x, x1_path_function(x), label=\"X1 sample path\", color=\"blue\")\n",
    "        plt.plot(x, x2_path_function(x), label=\"X2 sample path\", color=\"purple\")\n",
    "        #plt.axvline(tmax, label=\"Burn-in time\", color=\"orange\")\n",
    "        plt.xlabel(\"Time\")\n",
    "        plt.ylabel(\"Counts\")\n",
    "        plt.legend()\n",
    "        plt.show()\n",
    "\n",
    "    return samples"
   ]
  },
  {
   "cell_type": "markdown",
   "metadata": {},
   "source": [
    "### Dataset simulation\n",
    "\n",
    "Produce a dataset of pairs of samples simulated by gillespie with no downsampling (!)\n",
    "\n",
    "Interaction strength decreases over dataset for testing"
   ]
  },
  {
   "cell_type": "code",
   "execution_count": 5,
   "metadata": {},
   "outputs": [],
   "source": [
    "def simulate_dataset(cells, interaction_values):\n",
    "    '''\n",
    "    Produce a dataset of pairs of samples simulated with interaction strengths\n",
    "    given by 'interaction_values' and sample size = cells\n",
    "\n",
    "    Return count and parameter dataframes\n",
    "    '''\n",
    "\n",
    "    # number of pairs\n",
    "    gene_pairs = len(interaction_values)\n",
    "\n",
    "    # dataframes\n",
    "    params_df = pd.DataFrame(index=[f\"Gene-pair-{i}\" for i in range(gene_pairs)], columns=['k_tx_1', 'k_tx_2', 'k_deg_1', 'k_deg_2', 'k_reg'])\n",
    "    counts_df = pd.DataFrame(index=[f\"Gene-pair-{i}\" for i in range(gene_pairs)], columns=[f\"Cell-{j}\" for j in range(cells)])\n",
    "\n",
    "    # for each gene\n",
    "    for i in tqdm.tqdm(range(gene_pairs)):\n",
    "\n",
    "        # Set reaction rate parameters\n",
    "        k_tx_1 = 1\n",
    "        k_tx_2 = 1\n",
    "        k_deg_1 = 1\n",
    "        k_deg_2 = 1\n",
    "        k_reg = interaction_values[i]\n",
    "\n",
    "        # store parameters\n",
    "        params_df.iloc[i] = [k_tx_1, k_tx_2, k_deg_1, k_deg_2, k_reg]\n",
    "\n",
    "        params = {\n",
    "            'k_tx_1': k_tx_1,\n",
    "            'k_tx_2': k_tx_2,\n",
    "            'k_deg_1': k_deg_1,\n",
    "            'k_deg_2': k_deg_2,\n",
    "            'k_reg': k_reg\n",
    "        }\n",
    "\n",
    "        # simulate sample from model\n",
    "        sample = gillespie(params, cells)\n",
    "\n",
    "        # store counts\n",
    "        counts_df.iloc[i] = sample\n",
    "\n",
    "    return {'params_df': params_df, 'counts_df': counts_df}"
   ]
  },
  {
   "cell_type": "markdown",
   "metadata": {},
   "source": [
    "### Downsampling simulation\n",
    "\n",
    "Apply binomial downsampling to a dataset of samples given a capture efficiency vector"
   ]
  },
  {
   "cell_type": "code",
   "execution_count": 6,
   "metadata": {},
   "outputs": [],
   "source": [
    "def simulate_downsampled_dataset(counts_df, beta):\n",
    "    '''\n",
    "    Apply capture efficiency vector 'beta' to produce downsampled dataset using\n",
    "    the given 'count_df'\n",
    "    '''\n",
    "\n",
    "    # get dataset size\n",
    "    gene_pairs, cells = counts_df.shape\n",
    "\n",
    "    # error if incomptible cell numbers\n",
    "    if not (cells == beta.shape[0]):\n",
    "        print(\"Incompatible cell numbers\")\n",
    "        return None\n",
    "    \n",
    "    # initialize random generator\n",
    "    rng = np.random.default_rng()\n",
    "\n",
    "    # setup downsampled dataset\n",
    "    downsampled_counts_df = pd.DataFrame(index=[f\"Gene-pair-{i}\" for i in range(gene_pairs)], columns=[f\"Cell-{j}\" for j in range(cells)])\n",
    "\n",
    "    for i in range(gene_pairs):\n",
    "\n",
    "        # extract counts\n",
    "        sample = counts_df.iloc[i]\n",
    "        x1_sample = [x[0] for x in sample]\n",
    "        x2_sample = [x[1] for x in sample]\n",
    "\n",
    "        # downsample\n",
    "        x1_sample_downsampled = rng.binomial(x1_sample, beta).tolist()\n",
    "        x2_sample_downsampled = rng.binomial(x2_sample, beta).tolist()\n",
    "        sample_downsampled = list(zip(x1_sample_downsampled, x2_sample_downsampled))\n",
    "        \n",
    "        # store counts\n",
    "        downsampled_counts_df.iloc[i] = sample_downsampled\n",
    "\n",
    "    return downsampled_counts_df"
   ]
  },
  {
   "cell_type": "markdown",
   "metadata": {},
   "source": [
    "## Running"
   ]
  },
  {
   "cell_type": "markdown",
   "metadata": {},
   "source": [
    "### Original dataset"
   ]
  },
  {
   "cell_type": "code",
   "execution_count": 24,
   "metadata": {},
   "outputs": [
    {
     "name": "stderr",
     "output_type": "stream",
     "text": [
      "100%|██████████| 9/9 [00:07<00:00,  1.27it/s]\n"
     ]
    }
   ],
   "source": [
    "# simulate original dataset\n",
    "datasets = simulate_dataset(\n",
    "    cells = 1000,\n",
    "    interaction_values = [10, 5, 2, 1, 0.75, 0.5, 0.25, 0.1, 0]\n",
    ")"
   ]
  },
  {
   "cell_type": "code",
   "execution_count": 25,
   "metadata": {},
   "outputs": [],
   "source": [
    "# store\n",
    "datasets['params_df'].to_csv(\"./Test-Info/Data/params.csv\")\n",
    "datasets['counts_df'].to_csv(\"./Test-Info/Data/counts.csv\")"
   ]
  },
  {
   "cell_type": "markdown",
   "metadata": {},
   "source": [
    "### High capture"
   ]
  },
  {
   "cell_type": "code",
   "execution_count": 23,
   "metadata": {},
   "outputs": [],
   "source": [
    "# sample a high capture\n",
    "beta_high = rng.uniform(0.8, 1.0, size=1000)"
   ]
  },
  {
   "cell_type": "code",
   "execution_count": 26,
   "metadata": {},
   "outputs": [],
   "source": [
    "# store\n",
    "np.savetxt(\"./Test-Info/Data/beta_unif_high.csv\", beta_high, delimiter=\",\")"
   ]
  },
  {
   "cell_type": "code",
   "execution_count": 27,
   "metadata": {},
   "outputs": [],
   "source": [
    "# downsample dataset\n",
    "counts_downsampled = simulate_downsampled_dataset(datasets['counts_df'], beta_high)"
   ]
  },
  {
   "cell_type": "code",
   "execution_count": 28,
   "metadata": {},
   "outputs": [],
   "source": [
    "# store\n",
    "counts_downsampled.to_csv(\"./Test-Info/Data/counts_unif_high.csv\")"
   ]
  },
  {
   "cell_type": "markdown",
   "metadata": {},
   "source": [
    "### Medium capture"
   ]
  },
  {
   "cell_type": "code",
   "execution_count": 121,
   "metadata": {},
   "outputs": [],
   "source": [
    "# sample a medium capture\n",
    "beta_medium = rng.uniform(0.4, 0.6, size=1000)"
   ]
  },
  {
   "cell_type": "code",
   "execution_count": 122,
   "metadata": {},
   "outputs": [],
   "source": [
    "# store\n",
    "np.savetxt(\"./Test-Info/Data/beta_unif_med.csv\", beta_medium, delimiter=\",\")"
   ]
  },
  {
   "cell_type": "code",
   "execution_count": 123,
   "metadata": {},
   "outputs": [],
   "source": [
    "# downsample dataset\n",
    "counts_downsampled = simulate_downsampled_dataset(datasets['counts_df'], beta_medium)"
   ]
  },
  {
   "cell_type": "code",
   "execution_count": 124,
   "metadata": {},
   "outputs": [],
   "source": [
    "# store\n",
    "counts_downsampled.to_csv(\"./Test-Info/Data/counts_unif_med.csv\")"
   ]
  },
  {
   "cell_type": "markdown",
   "metadata": {},
   "source": [
    "### Low capture"
   ]
  },
  {
   "cell_type": "code",
   "execution_count": 138,
   "metadata": {},
   "outputs": [],
   "source": [
    "# sample a low capture\n",
    "beta_low = rng.uniform(0.1, 0.3, size=1000)"
   ]
  },
  {
   "cell_type": "code",
   "execution_count": 139,
   "metadata": {},
   "outputs": [],
   "source": [
    "# store\n",
    "np.savetxt(\"./Test-Info/Data/beta_unif_low.csv\", beta_low, delimiter=\",\")"
   ]
  },
  {
   "cell_type": "code",
   "execution_count": 140,
   "metadata": {},
   "outputs": [],
   "source": [
    "# downsample dataset\n",
    "counts_downsampled = simulate_downsampled_dataset(datasets['counts_df'], beta_low)"
   ]
  },
  {
   "cell_type": "code",
   "execution_count": 141,
   "metadata": {},
   "outputs": [],
   "source": [
    "# store\n",
    "counts_downsampled.to_csv(\"./Test-Info/Data/counts_unif_low.csv\")"
   ]
  },
  {
   "cell_type": "markdown",
   "metadata": {},
   "source": [
    "# Pre-processing"
   ]
  },
  {
   "cell_type": "markdown",
   "metadata": {},
   "source": [
    "## Code"
   ]
  },
  {
   "cell_type": "markdown",
   "metadata": {},
   "source": [
    "### Bootstrap: probabilities"
   ]
  },
  {
   "cell_type": "code",
   "execution_count": 7,
   "metadata": {},
   "outputs": [],
   "source": [
    "def bootstrap_probabilities(sample, resamples=None, splits=1, thresh_OB=10, threshM_OB=10, plot=False, printing=False):\n",
    "    '''\n",
    "    Compute confidence intervals on the distribution of a sample of count pairs.\n",
    "\n",
    "    Compute confidence intervals for the joint and marginal probabilities of the \n",
    "    sample using the percentile bootstrap and settings specified in the method\n",
    "    object. Compute a state space truncation using a given threshold on the\n",
    "    number of samples per interval, replacing intervals on probabilities of\n",
    "    states outside the truncation by [0, 1] to improve coverage.\n",
    "\n",
    "    Args:\n",
    "        sample: list of tuples (x1, x2) of integer counts per cell\n",
    "        method: instance of Hypothesis or Minimization class with settings\n",
    "                stored as attributes\n",
    "\n",
    "                .resamples: integer number of bootstrap resamples to use\n",
    "                .splits: integer number of times to 'split' resampling across\n",
    "                         multiple arrays to avoid memory issues\n",
    "                .thresh_OB: threshold on observation frequency of a state pair\n",
    "                            for state space truncation\n",
    "                .threshM_OB: threshold on observation frequency on a state for\n",
    "                             marginal state space truncation\n",
    "        \n",
    "        plot: toggle plotting of confidence intervals and estimates\n",
    "        print: toggle printing of observed state space truncation\n",
    "\n",
    "    Returns:\n",
    "        A dictionary containing results\n",
    "\n",
    "        Sample information:\n",
    "\n",
    "        'sample': original sample used\n",
    "        'sample_counts': occurances of each state pair in the original sample\n",
    "        'sample_counts_x1': occurances of each state in the original sample (gene 1)\n",
    "        'sample_counts_x2': occurances of each state in the original sample (gene 2)\n",
    "\n",
    "        Confidence intervals:\n",
    "    \n",
    "        'joint': (2, _, _) numpy array of CI bounds on joint distribution\n",
    "        'x1': (2, _) numpy array of CI bounds on marginal distribution (gene 1)\n",
    "        'x2': (2, _) numpy array of CI bounds on marginal distribution (gene 2)\n",
    "\n",
    "        Truncation information\n",
    "\n",
    "        'min_x1_OB', 'max_x1_OB', 'min_x2_OB', 'max_x2_OB': joint truncation\n",
    "        'minM_x1_OB', 'maxM_x1_OB': marginal truncation (gene 1)\n",
    "        'minM_x2_OB', 'maxM_x2_OB': marginal truncation (gene 2)\n",
    "        'thresh_flag': bool if joint state space was truncated\n",
    "        'thresh_flag_x1': bool if marginal state space was truncated (gene 1)\n",
    "        'thresh_flag_x2': bool if marginal state space was truncated (gene 2)\n",
    "    '''\n",
    "\n",
    "    # get sample size\n",
    "    n = len(sample)\n",
    "\n",
    "    # get bootstrap size: default to sample size\n",
    "    if resamples is None:\n",
    "        resamples = n\n",
    "\n",
    "    # initialize random generator\n",
    "    rng = np.random.default_rng()\n",
    "\n",
    "    # convert string to tuple if neccessary (pandas reading csv to string)\n",
    "    if type(sample[0]) == str:\n",
    "        sample = [literal_eval(count_pair) for count_pair in sample]\n",
    "\n",
    "    # compute maximum x1 and x2 values\n",
    "    M, N = np.max(sample, axis=0)\n",
    "    M, N = int(M), int(N)\n",
    "\n",
    "    # map (x1, x2) pairs to integers: x2 + (N + 1) * x1\n",
    "    integer_sample = np.array([x[1] + (N + 1)*x[0] for x in sample], dtype='uint32')\n",
    "\n",
    "    # maxiumum of integer sample\n",
    "    D = (M + 1)*(N + 1) - 1\n",
    "\n",
    "    # number of bootstrap samples per split (split to reduce memory usage)\n",
    "    resamples_split = resamples // splits\n",
    "\n",
    "    # setup count array\n",
    "    counts = np.empty((resamples, M + 1, N + 1), dtype='uint32')\n",
    "\n",
    "    # BS bootstrap samples: split into 'splits' number of BS_split x n arrays\n",
    "    for split in range(splits):\n",
    "\n",
    "        # BS_split bootstrap samples as BS_split x n array\n",
    "        bootstrap_split = rng.choice(integer_sample, size=(resamples_split, n))\n",
    "\n",
    "        # offset row i by (D + 1)i\n",
    "        bootstrap_split += np.arange(resamples_split, dtype='uint32')[:, None]*(D + 1)\n",
    "\n",
    "        # flatten, count occurances of each state and reshape, reversing map to give counts of each (x1, x2) pair\n",
    "        counts_split = np.bincount(bootstrap_split.ravel(), minlength=resamples_split*(D + 1)).reshape(-1, M + 1, N + 1)\n",
    "\n",
    "        # add to counts\n",
    "        counts[(split * resamples_split):((split + 1) * resamples_split), :, :] = counts_split\n",
    "\n",
    "    # sum over columns / rows to give counts (/n) of each x1 / x2 state\n",
    "    x1_counts = counts.sum(axis=2)\n",
    "    x2_counts = counts.sum(axis=1)\n",
    "\n",
    "    # compute 2.5% and 97.5% quantiles for each p(x1, x2), p(x1) and p(x2)\n",
    "    bounds = np.quantile(counts, [0.025, 0.975], axis=0)\n",
    "    x1_bounds = np.quantile(x1_counts, [0.025, 0.975], axis=0)\n",
    "    x2_bounds = np.quantile(x2_counts, [0.025, 0.975], axis=0)\n",
    "\n",
    "    # scale to probability\n",
    "    bounds = bounds / n\n",
    "    x1_bounds = x1_bounds / n\n",
    "    x2_bounds = x2_bounds / n\n",
    "\n",
    "    # count occurances per (x1, x2) in the in original sample\n",
    "    sample_counts = np.bincount(integer_sample, minlength=D + 1).reshape(M + 1, N + 1)\n",
    "\n",
    "    # sum over columns / rows to give counts per x1 / x2 state\n",
    "    x1_sample_counts = sample_counts.sum(axis=1)\n",
    "    x2_sample_counts = sample_counts.sum(axis=0)\n",
    "\n",
    "    # set truncation bounds\n",
    "    min_x1_OB, max_x1_OB, min_x2_OB, max_x2_OB = M, 0, N, 0\n",
    "    minM_x1_OB, maxM_x1_OB = M, 0\n",
    "    minM_x2_OB, maxM_x2_OB = N, 0\n",
    "\n",
    "    # set flag for changes\n",
    "    thresh_flag = False\n",
    "    thresh_flag_x1 = False\n",
    "    thresh_flag_x2 = False\n",
    "\n",
    "    # replace CI's for states below threshold occurances by [0, 1] bounds\n",
    "    for x1 in range(M + 1):\n",
    "        for x2 in range(N + 1):\n",
    "            # below: replace\n",
    "            if sample_counts[x1, x2] < thresh_OB:\n",
    "                bounds[:, x1, x2] = [0.0, 1.0]\n",
    "            # above: update truncation\n",
    "            else:\n",
    "                # check if smaller than current min\n",
    "                if x1 < min_x1_OB:\n",
    "                    min_x1_OB = x1\n",
    "                    thresh_flag = True\n",
    "                if x2 < min_x2_OB:\n",
    "                    min_x2_OB = x2\n",
    "                    thresh_flag = True\n",
    "                # check if larger than current max\n",
    "                if x1 > max_x1_OB:\n",
    "                    max_x1_OB = x1\n",
    "                    thresh_flag = True\n",
    "                if x2 > max_x2_OB:\n",
    "                    max_x2_OB = x2\n",
    "                    thresh_flag = True\n",
    "\n",
    "    for x1 in range(M + 1):\n",
    "        # below: replace\n",
    "        if x1_sample_counts[x1] < threshM_OB:\n",
    "            x1_bounds[:, x1] = [0.0, 1.0]\n",
    "        # above: update truncation\n",
    "        else:\n",
    "            # check if smaller than current min\n",
    "            if x1 < minM_x1_OB:\n",
    "                minM_x1_OB = x1\n",
    "                thresh_flag_x1 = True\n",
    "            # check if larger than current max\n",
    "            if x1 > maxM_x1_OB:\n",
    "                maxM_x1_OB = x1\n",
    "                thresh_flag_x1 = True\n",
    "\n",
    "    for x2 in range(N + 1):\n",
    "        # below: replace\n",
    "        if x2_sample_counts[x2] < threshM_OB:\n",
    "            x2_bounds[:, x2] = [0.0, 1.0]\n",
    "        # above: update truncation\n",
    "        else:\n",
    "            # check if smaller than current min\n",
    "            if x2 < minM_x2_OB:\n",
    "                minM_x2_OB = x2\n",
    "                thresh_flag_x2 = True\n",
    "            # check if larger than current max\n",
    "            if x2 > maxM_x2_OB:\n",
    "                maxM_x2_OB = x2\n",
    "                thresh_flag_x2 = True\n",
    "\n",
    "    # if no states were above threshold: default to max range, report\n",
    "    if not thresh_flag:\n",
    "        min_x1_OB, max_x1_OB, min_x2_OB, max_x2_OB = 0, M, 0, N\n",
    "    if not thresh_flag_x1:\n",
    "        minM_x1_OB, maxM_x1_OB = 0, M\n",
    "    if not thresh_flag_x2:\n",
    "        minM_x2_OB, maxM_x2_OB = 0, N\n",
    "\n",
    "    # plotting\n",
    "    if plot:\n",
    "        fig, axs = plt.subplots(M + 1, N + 1, figsize=(10, 10))\n",
    "        fig.tight_layout()\n",
    "        for x1 in range(M + 1):\n",
    "            for x2 in range(N + 1):\n",
    "                # within truncation: green CI lines\n",
    "                if (x1 >= min_x1_OB) and (x2 >= min_x2_OB) and (x1 <= max_x1_OB) and (x2 <= max_x2_OB):\n",
    "                    color = \"green\"\n",
    "                else:\n",
    "                    color = \"red\"\n",
    "                axs[x1, x2].hist(counts[:, x1, x2] / n)\n",
    "                axs[x1, x2].set_title(f\"p({x1}, {x2})\")\n",
    "                axs[x1, x2].axvline(bounds[0, x1, x2], color=color)\n",
    "                axs[x1, x2].axvline(bounds[1, x1, x2], color=color)\n",
    "\n",
    "        plt.suptitle(\"X1 X2 Confidence Intervals\")\n",
    "        plt.show()\n",
    "\n",
    "        fig, axs = plt.subplots(1, M + 1, figsize=(10, 3))\n",
    "        fig.tight_layout()\n",
    "        for x1 in range(M + 1):\n",
    "            # within truncation: green CI lines\n",
    "            if (x1 >= minM_x1_OB) and (x1 <= maxM_x1_OB):\n",
    "                color = \"green\"\n",
    "            else:\n",
    "                color = \"red\"\n",
    "            axs[x1].hist(x1_counts[:, x1] / n)\n",
    "            axs[x1].set_title(f\"p({x1})\")\n",
    "            axs[x1].axvline(x1_bounds[0, x1], color=color)\n",
    "            axs[x1].axvline(x1_bounds[1, x1], color=color)\n",
    "\n",
    "        plt.suptitle(\"X1 Confidence Intervals\")\n",
    "        plt.show()\n",
    "\n",
    "        fig, axs = plt.subplots(1, N + 1, figsize=(10, 3))\n",
    "        fig.tight_layout()\n",
    "        for x2 in range(N + 1):\n",
    "            # within truncation: green CI lines\n",
    "            if (x2 >= minM_x2_OB) and (x2 <= maxM_x2_OB):\n",
    "                color = \"green\"\n",
    "            else:\n",
    "                color = \"red\"\n",
    "            axs[x2].hist(x2_counts[:, x2] / n)\n",
    "            axs[x2].set_title(f\"p({x2})\")\n",
    "            axs[x2].axvline(x2_bounds[0, x2], color=color)\n",
    "            axs[x2].axvline(x2_bounds[1, x2], color=color)\n",
    "\n",
    "        plt.suptitle(\"X2 Confidence Intervals\")\n",
    "        plt.show()\n",
    "\n",
    "    # printing\n",
    "    if printing:\n",
    "        print(f\"Box truncation: [{min_x1_OB}, {max_x1_OB}] x [{min_x2_OB}, {max_x2_OB}]\")\n",
    "        print(f\"Marginal x1 truncation: [{minM_x1_OB}, {maxM_x1_OB}]\")\n",
    "        print(f\"Marginal x2 truncation: [{minM_x2_OB}, {maxM_x2_OB}]\")\n",
    "\n",
    "    # collect results\n",
    "    truncation_OB = {\n",
    "        'min_x1_OB': min_x1_OB,\n",
    "        'max_x1_OB': max_x1_OB,\n",
    "        'min_x2_OB': min_x2_OB,\n",
    "        'max_x2_OB': max_x2_OB\n",
    "    }\n",
    "    truncationM_OB = {\n",
    "        'minM_x1_OB': minM_x1_OB,\n",
    "        'maxM_x1_OB': maxM_x1_OB,\n",
    "        'minM_x2_OB': minM_x2_OB,\n",
    "        'maxM_x2_OB': maxM_x2_OB\n",
    "    }\n",
    "\n",
    "    result_dict = {\n",
    "        'bounds': bounds,\n",
    "        'x1_bounds': x1_bounds,\n",
    "        'x2_bounds': x2_bounds,\n",
    "        'truncation_OB': truncation_OB,\n",
    "        'truncationM_OB': truncationM_OB\n",
    "    }\n",
    "\n",
    "    '''\n",
    "    bounds_dict =  {\n",
    "        'sample': sample,\n",
    "        'sample_counts': sample_counts,\n",
    "        'sample_counts_x1': x1_sample_counts,\n",
    "        'sample_counts_x2': x2_sample_counts,\n",
    "        'joint': bounds,\n",
    "        'x1': x1_bounds,\n",
    "        'x2': x2_bounds,\n",
    "        'min_x1_OB': min_x1_OB,\n",
    "        'max_x1_OB': max_x1_OB,\n",
    "        'min_x2_OB': min_x2_OB,\n",
    "        'max_x2_OB': max_x2_OB,\n",
    "        'minM_x1_OB': minM_x1_OB,\n",
    "        'maxM_x1_OB': maxM_x1_OB,\n",
    "        'minM_x2_OB': minM_x2_OB,\n",
    "        'maxM_x2_OB': maxM_x2_OB,\n",
    "        'thresh_flag': thresh_flag,\n",
    "        'thresh_flag_x1': thresh_flag_x1,\n",
    "        'thresh_flag_x2': thresh_flag_x2\n",
    "    }\n",
    "    '''\n",
    "\n",
    "    return result_dict"
   ]
  },
  {
   "cell_type": "markdown",
   "metadata": {},
   "source": [
    "### Bootstrap: moments"
   ]
  },
  {
   "cell_type": "code",
   "execution_count": 8,
   "metadata": {},
   "outputs": [],
   "source": [
    "def bootstrap_moments(sample, resamples=None):\n",
    "    '''\n",
    "    Compute confidence intervals on the moments of a sample of count pairs.\n",
    "\n",
    "    Compute confidence intervals for the moments: mean, variance, cross moments,\n",
    "    etc of the sample using the percentile bootstrap.\n",
    "\n",
    "    Args:\n",
    "        sample: list of tuples (x1, x2) of integer counts per cell\n",
    "        resamples: integer number of bootstrap resamples to use\n",
    "\n",
    "    Returns:\n",
    "        A dictionary containing results\n",
    "\n",
    "        'E_x1': CI bounds on E[X1]\n",
    "        'E_x2': CI bounds on E[X2]\n",
    "        'E_x1_x2': CI ounds on E[X1X2]\n",
    "    '''\n",
    "\n",
    "    # get sample size\n",
    "    n = len(sample)\n",
    "\n",
    "    # get bootstrap size: default to sample size\n",
    "    if resamples is None:\n",
    "        resamples = n\n",
    "\n",
    "    # initialize random generator\n",
    "    rng = np.random.default_rng()\n",
    "\n",
    "    # convert string to tuple if neccessary (pandas reading csv to string)\n",
    "    if type(sample[0]) == str:\n",
    "        sample = [literal_eval(count_pair) for count_pair in sample]\n",
    "\n",
    "    # separate sample pairs\n",
    "    x1_sample = [x[0] for x in sample]\n",
    "    x2_sample = [x[1] for x in sample]\n",
    "\n",
    "    # convert sample to n x 2 array\n",
    "    sample = np.array([x1_sample, x2_sample]).T\n",
    "\n",
    "    # bootstrap to resamples x n x 2 array\n",
    "    boot = rng.choice(sample, size=(resamples, n))\n",
    "\n",
    "    # mean over axis 1 to get E[X1], E[X2] for each resample\n",
    "    means = np.mean(boot, axis=1)\n",
    "\n",
    "    # product over axis 2 to get x1x2 counts\n",
    "    prods = np.prod(boot, axis=2)\n",
    "\n",
    "    # mean over axis 1 to get E[X1X2] for each resample\n",
    "    prod_means = np.mean(prods, axis=1)\n",
    "    \n",
    "    # quantiles over resamples\n",
    "    mean_bounds = np.quantile(means, [0.025, 0.975], axis=0)\n",
    "    prod_mean_bounds = np.quantile(prod_means, [0.025, 0.975], axis=0)\n",
    "\n",
    "    # collect information\n",
    "    result_dict = {\n",
    "        'E_x1': mean_bounds[:, 0],\n",
    "        'E_x2': mean_bounds[:, 1],\n",
    "        'E_x1_x2': prod_mean_bounds\n",
    "    }\n",
    "\n",
    "    return result_dict"
   ]
  },
  {
   "cell_type": "markdown",
   "metadata": {},
   "source": [
    "### Bootstrap dataset\n",
    "\n",
    "Bootstrap probabilities and moments for each sample in the dataset, recording CIs and truncation information in files and dictionaries"
   ]
  },
  {
   "cell_type": "code",
   "execution_count": 9,
   "metadata": {},
   "outputs": [],
   "source": [
    "def bootstrap_dataset(dataset):\n",
    "\n",
    "    # size\n",
    "    gene_pairs, cells = dataset.shape\n",
    "\n",
    "    # collect OB truncations\n",
    "    truncation_dict = {}\n",
    "    truncationM_dict = {}\n",
    "\n",
    "    # collect moment bounds\n",
    "    moment_dict = {}\n",
    "\n",
    "    # loop over samples\n",
    "    for i in tqdm.tqdm(range(gene_pairs)):\n",
    "\n",
    "        # select sample\n",
    "        sample = list(dataset.loc[f'Gene-pair-{i}'])\n",
    "\n",
    "        # bootstrap\n",
    "        prob_results = bootstrap_probabilities(sample)\n",
    "        moment_results = bootstrap_moments(sample)\n",
    "\n",
    "        # store moments\n",
    "        moment_dict[f'sample-{i}'] = moment_results\n",
    "\n",
    "        # store OB truncation\n",
    "        truncation_dict[f'sample-{i}'] = prob_results['truncation_OB']\n",
    "        truncationM_dict[f'sample-{i}'] = prob_results['truncationM_OB']\n",
    "\n",
    "        # save CI bounds\n",
    "        np.save(\n",
    "            f\"./Test-Info/Bounds/Joint/sample-{i}.npy\",\n",
    "            prob_results['bounds']\n",
    "        )\n",
    "        np.save(\n",
    "            f\"./Test-Info/Bounds/x1_marginal/sample-{i}.npy\",\n",
    "            prob_results['x1_bounds']\n",
    "        )\n",
    "        np.save(\n",
    "            f\"./Test-Info/Bounds/x2_marginal/sample-{i}.npy\",\n",
    "            prob_results['x2_bounds']\n",
    "        )\n",
    "\n",
    "    return truncation_dict, truncationM_dict, moment_dict"
   ]
  },
  {
   "cell_type": "markdown",
   "metadata": {},
   "source": [
    "### Illustrate + summarise truncation\n",
    "\n",
    "Display observed truncations of samples and summarise the states and state pairs observed across the dataset"
   ]
  },
  {
   "cell_type": "code",
   "execution_count": 10,
   "metadata": {},
   "outputs": [],
   "source": [
    "def illustrate_truncation(truncation_OB, truncationM_OB):\n",
    "    rng = np.random.default_rng()\n",
    "    fig, axs = plt.subplots(1, 2, figsize=(6, 3))\n",
    "    for i, truncation in truncation_OB.items():\n",
    "        colour = list(rng.integers(0, 256, size=3))\n",
    "        axs[0].hlines([truncation['min_x1_OB'] - 0.5, truncation['max_x1_OB'] + 0.5], xmin=truncation['min_x2_OB'] - 0.5, xmax=truncation['max_x2_OB'] + 0.5, color=[colour, colour], linewidth=2)\n",
    "        axs[0].vlines([truncation['min_x2_OB'] - 0.5, truncation['max_x2_OB'] + 0.5], ymin=truncation['min_x1_OB'] - 0.5, ymax=truncation['max_x1_OB'] + 0.5, color=[colour, colour], linewidth=2)\n",
    "        axs[0].set_title(\"OB truncation\")\n",
    "    for i, truncation in truncationM_OB.items():\n",
    "        colour = list(rng.integers(0, 256, size=3))\n",
    "        axs[1].hlines([truncation['minM_x1_OB'] - 0.5, truncation['maxM_x1_OB'] + 0.5], xmin=truncation['minM_x2_OB'] - 0.5, xmax=truncation['maxM_x2_OB'] + 0.5, color=[colour, colour], linewidth=2)\n",
    "        axs[1].vlines([truncation['minM_x2_OB'] - 0.5, truncation['maxM_x2_OB'] + 0.5], ymin=truncation['minM_x1_OB'] - 0.5, ymax=truncation['maxM_x1_OB'] + 0.5, color=[colour, colour], linewidth=2)\n",
    "        axs[1].set_title(\"OB marginal truncation\")\n",
    "    plt.show()"
   ]
  },
  {
   "cell_type": "code",
   "execution_count": 11,
   "metadata": {},
   "outputs": [],
   "source": [
    "def summarise_truncation(truncation_OB, truncationM_OB):\n",
    "    '''\n",
    "    Summarise states included in collection of observed truncations\n",
    "    '''\n",
    "\n",
    "    # state set\n",
    "    state_pairs = set()\n",
    "    states = set()\n",
    "\n",
    "    # loop over each truncation\n",
    "    for i, trunc in truncation_OB.items():\n",
    "\n",
    "        # for each state pair in truncation\n",
    "        for x1_OB in range(trunc['min_x1_OB'], trunc['max_x1_OB'] + 1):\n",
    "            for x2_OB in range(trunc['min_x2_OB'], trunc['max_x2_OB'] + 1):\n",
    "\n",
    "                # add to set\n",
    "                state_pairs.add((x1_OB, x2_OB))\n",
    "                states.add(x1_OB)\n",
    "                states.add(x2_OB)\n",
    "\n",
    "    # also add any single states (not pairs) in marginal truncations that were missed\n",
    "    for i, trunc in truncationM_OB.items():\n",
    "        for x1_OB in range(trunc['minM_x1_OB'], trunc['maxM_x1_OB'] + 1):\n",
    "            states.add(x1_OB)\n",
    "        for x2_OB in range(trunc['minM_x2_OB'], trunc['maxM_x2_OB'] + 1):\n",
    "            states.add(x2_OB)\n",
    "\n",
    "    # collect info\n",
    "    info_dict = {\n",
    "        'state_pairs': state_pairs,\n",
    "        'states': states\n",
    "    }\n",
    "\n",
    "    return info_dict"
   ]
  },
  {
   "cell_type": "markdown",
   "metadata": {},
   "source": [
    "### Original Truncation\n",
    "\n",
    "For every observed state across the dataset compute (marginal approx of) original state space truncation interval"
   ]
  },
  {
   "cell_type": "code",
   "execution_count": 12,
   "metadata": {},
   "outputs": [],
   "source": [
    "def Bm_trunc(x_OB, x_OG, beta):\n",
    "    return np.mean(scipy.stats.binom.pmf(x_OB, x_OG, beta))"
   ]
  },
  {
   "cell_type": "code",
   "execution_count": 13,
   "metadata": {},
   "outputs": [],
   "source": [
    "def marginal_truncation(x_OB, beta, threshM_OG=10**-6):\n",
    "\n",
    "    # start at first non-zero coefficient\n",
    "    x_OG = x_OB\n",
    "    coeff = Bm_trunc(x_OB, x_OG, beta)\n",
    "\n",
    "    # if not above threshold: increment until above\n",
    "    while coeff < threshM_OG:\n",
    "\n",
    "        # increment\n",
    "        x_OG += 1\n",
    "\n",
    "        # compute coeff\n",
    "        coeff = Bm_trunc(x_OB, x_OG, beta)\n",
    "\n",
    "    # store first state coeff >= thresh\n",
    "    minM_OG = x_OG\n",
    "\n",
    "    # increment until below threshold\n",
    "    while coeff >= threshM_OG:\n",
    "\n",
    "        # increment\n",
    "        x_OG += 1\n",
    "\n",
    "        # compute coeff\n",
    "        coeff = Bm_trunc(x_OB, x_OG, beta)\n",
    "\n",
    "    # store last state with coeff >= thresh (INCLUSIVE BOUND)\n",
    "    maxM_OG = x_OG - 1\n",
    "\n",
    "    return minM_OG, maxM_OG"
   ]
  },
  {
   "cell_type": "code",
   "execution_count": 14,
   "metadata": {},
   "outputs": [],
   "source": [
    "def original_truncation(truncation_summary, beta):\n",
    "    \n",
    "    # collect OG truncations\n",
    "    truncation_dict = {}\n",
    "\n",
    "    # compute truncation for each observed count\n",
    "    for x_OB in tqdm.tqdm(truncation_summary['states']):\n",
    "        \n",
    "        minM_OG, maxM_OG = marginal_truncation(x_OB, beta)\n",
    "\n",
    "        # store\n",
    "        truncation_dict[x_OB] = (minM_OG, maxM_OG)\n",
    "\n",
    "    return truncation_dict"
   ]
  },
  {
   "cell_type": "markdown",
   "metadata": {},
   "source": [
    "### Coefficients\n",
    "\n",
    "For every observed state compute grid of marginal (Bm) coefficients (OG truncation x capture efficiency) and for every pair of states observed use marginal grids to compute and store B coefficients (OG truncation x OG truncation)"
   ]
  },
  {
   "cell_type": "code",
   "execution_count": 15,
   "metadata": {},
   "outputs": [],
   "source": [
    "def Bm_matrix(x_OB, x_OG, beta):\n",
    "    return scipy.stats.binom.pmf(x_OB, x_OG, beta)"
   ]
  },
  {
   "cell_type": "code",
   "execution_count": 16,
   "metadata": {},
   "outputs": [],
   "source": [
    "def compute_coefficients(truncation_summary, truncation_OG, beta, thresh_OG=10**-6):\n",
    "\n",
    "    # store marginal grids\n",
    "    marginal_grids = {}\n",
    "\n",
    "    # loop over observed counts\n",
    "    for x_OB in tqdm.tqdm(truncation_summary['states']):\n",
    "        \n",
    "        # get truncation\n",
    "        minM_OG, maxM_OG = truncation_OG[x_OB]\n",
    "\n",
    "        # construct arrays for broadcasting\n",
    "        x_OB_arr = np.array([x_OB])[:, None]\n",
    "        x_OG_arr = np.arange(minM_OG, maxM_OG + 1)[:, None]\n",
    "        beta_arr = beta[None, :]\n",
    "          \n",
    "        # compute marginal grid\n",
    "        marginal_grid = Bm_matrix(x_OB_arr, x_OG_arr, beta_arr)\n",
    "\n",
    "        # store\n",
    "        marginal_grids[x_OB] = marginal_grid\n",
    "\n",
    "        # take mean over beta to get marginal coefficient array\n",
    "        marginal_array = np.mean(marginal_grid, axis=1)\n",
    "\n",
    "        # save\n",
    "        np.save(\n",
    "            f\"./Test-Info/Coefficients/state-{x_OB}.npy\",\n",
    "            marginal_array\n",
    "        )\n",
    "\n",
    "    # loop over oberved count pairs\n",
    "    for x1_OB, x2_OB in tqdm.tqdm(truncation_summary['state_pairs']):\n",
    "\n",
    "        # get marginal grids\n",
    "        grid_x1_OB = marginal_grids[x1_OB]\n",
    "        grid_x2_OB = marginal_grids[x2_OB]\n",
    "\n",
    "        # compute outer product\n",
    "        coeff_grid = grid_x1_OB @ grid_x2_OB.T\n",
    "\n",
    "        # threshold\n",
    "        coeff_grid[coeff_grid < thresh_OG] = 0.0\n",
    "\n",
    "        # divide by sample size\n",
    "        coeff_grid /= len(beta)\n",
    "\n",
    "        # save\n",
    "        np.save(\n",
    "            f\"./Test-Info/Coefficients/state-{x1_OB}-{x2_OB}.npy\",\n",
    "            coeff_grid\n",
    "        )"
   ]
  },
  {
   "cell_type": "markdown",
   "metadata": {},
   "source": [
    "### Original truncation extent per sample\n",
    "\n",
    "For each sample find extent of OG states included (combined OG truncations of counts observed in sample) to decided the size of variables and CME constraints"
   ]
  },
  {
   "cell_type": "code",
   "execution_count": 17,
   "metadata": {},
   "outputs": [],
   "source": [
    "def compute_original_extent(truncation_OB, truncationM_OB, truncation_OG):\n",
    "\n",
    "    # store per sample extent\n",
    "    extent_dict = {}\n",
    "\n",
    "    # for each sample\n",
    "    for sample in truncation_OB.keys():\n",
    "\n",
    "        # record min and max OG state extents\n",
    "        min_x1_OG_ext, max_x1_OG_ext = np.inf, 0\n",
    "        min_x2_OG_ext, max_x2_OG_ext = np.inf, 0\n",
    "\n",
    "        # get OB truncation\n",
    "        trunc_OB = truncation_OB[sample]\n",
    "\n",
    "        # loop over OG truncation to get OG states used and update extent\n",
    "        for x1_OB in range(trunc_OB['min_x1_OB'], trunc_OB['max_x1_OB'] + 1):\n",
    "            min_x1_OG, max_x1_OG = truncation_OG[x1_OB]\n",
    "            if min_x1_OG < min_x1_OG_ext:\n",
    "                min_x1_OG_ext = min_x1_OG\n",
    "            if max_x1_OG > max_x1_OG_ext:\n",
    "                max_x1_OG_ext = max_x1_OG\n",
    "\n",
    "        for x2_OB in range(trunc_OB['min_x2_OB'], trunc_OB['max_x2_OB'] + 1):\n",
    "            min_x2_OG, max_x2_OG = truncation_OG[x2_OB]\n",
    "            if min_x2_OG < min_x2_OG_ext:\n",
    "                min_x2_OG_ext = min_x2_OG\n",
    "            if max_x2_OG > max_x2_OG_ext:\n",
    "                max_x2_OG_ext = max_x2_OG\n",
    "\n",
    "        # get marginal OB truncation\n",
    "        truncM_OB = truncationM_OB[sample]\n",
    "\n",
    "        # repeat same process to update extent\n",
    "        for x1_OB in range(truncM_OB['minM_x1_OB'], truncM_OB['maxM_x1_OB'] + 1):\n",
    "            min_x1_OG, max_x1_OG = truncation_OG[x1_OB]\n",
    "            if min_x1_OG < min_x1_OG_ext:\n",
    "                min_x1_OG_ext = min_x1_OG\n",
    "            if max_x1_OG > max_x1_OG_ext:\n",
    "                max_x1_OG_ext = max_x1_OG\n",
    "\n",
    "        for x2_OB in range(truncM_OB['minM_x2_OB'], truncM_OB['maxM_x2_OB'] + 1):\n",
    "            min_x2_OG, max_x2_OG = truncation_OG[x2_OB]\n",
    "            if min_x2_OG < min_x2_OG_ext:\n",
    "                min_x2_OG_ext = min_x2_OG\n",
    "            if max_x2_OG > max_x2_OG_ext:\n",
    "                max_x2_OG_ext = max_x2_OG\n",
    "\n",
    "        # store extent for the sample\n",
    "        extent_dict[sample] = {\n",
    "            'min_x1_OG': min_x1_OG_ext,\n",
    "            'max_x1_OG': max_x1_OG_ext,\n",
    "            'min_x2_OG': min_x2_OG_ext,\n",
    "            'max_x2_OG': max_x2_OG_ext\n",
    "        }\n",
    "\n",
    "    return extent_dict"
   ]
  },
  {
   "cell_type": "markdown",
   "metadata": {},
   "source": [
    "### Dataset pre-processing\n",
    "\n",
    "Combine all functions to process dataset and get info for optimization"
   ]
  },
  {
   "cell_type": "code",
   "execution_count": 18,
   "metadata": {},
   "outputs": [],
   "source": [
    "def dataset_processing(dataset, beta):\n",
    "\n",
    "    # bootstrap dataset\n",
    "    truncation_OB, truncationM_OB, moments_OB = bootstrap_dataset(dataset)\n",
    "\n",
    "    # display OB truncations\n",
    "    illustrate_truncation(truncation_OB, truncationM_OB)\n",
    "\n",
    "    # summarise observed truncations\n",
    "    truncation_summary = summarise_truncation(truncation_OB, truncationM_OB)\n",
    "\n",
    "    # compute original truncation\n",
    "    truncation_OG = original_truncation(truncation_summary, beta)\n",
    "\n",
    "    # compute and store B and Bm coefficients\n",
    "    compute_coefficients(truncation_summary, truncation_OG, beta)\n",
    "\n",
    "    # compute original extent\n",
    "    extent_OG = compute_original_extent(truncation_OB, truncationM_OB, truncation_OG)\n",
    "\n",
    "    # return information\n",
    "    return truncation_OB, truncationM_OB, moments_OB, truncation_OG, extent_OG"
   ]
  },
  {
   "cell_type": "markdown",
   "metadata": {},
   "source": [
    "## Testing"
   ]
  },
  {
   "cell_type": "code",
   "execution_count": 144,
   "metadata": {},
   "outputs": [],
   "source": [
    "# load count dataset and capture efficiency\n",
    "count_dataset = pd.read_csv(\"./Test-Info/Data/counts_unif_med.csv\", index_col=0)\n",
    "beta = np.loadtxt(\"./Test-Info/Data/beta_unif_med.csv\")"
   ]
  },
  {
   "cell_type": "code",
   "execution_count": 152,
   "metadata": {},
   "outputs": [
    {
     "name": "stderr",
     "output_type": "stream",
     "text": [
      "100%|██████████| 9/9 [00:00<00:00, 10.31it/s]\n"
     ]
    },
    {
     "data": {
      "image/png": "[encoded data removed]",
      "text/plain": [
       "<Figure size 600x300 with 2 Axes>"
      ]
     },
     "metadata": {},
     "output_type": "display_data"
    },
    {
     "name": "stderr",
     "output_type": "stream",
     "text": [
      "100%|██████████| 4/4 [00:00<00:00, 94.30it/s]\n",
      "100%|██████████| 4/4 [00:00<00:00, 162.73it/s]\n",
      "100%|██████████| 15/15 [00:00<00:00, 394.58it/s]\n"
     ]
    }
   ],
   "source": [
    "# pre-process dataset\n",
    "truncation_OB, truncationM_OB, moments_OB, truncation_OG, extent_OG = dataset_processing(count_dataset, beta)"
   ]
  },
  {
   "cell_type": "markdown",
   "metadata": {},
   "source": [
    "# Optimization"
   ]
  },
  {
   "cell_type": "markdown",
   "metadata": {},
   "source": [
    "## Code"
   ]
  },
  {
   "cell_type": "markdown",
   "metadata": {},
   "source": [
    "### B constraints"
   ]
  },
  {
   "cell_type": "code",
   "execution_count": 19,
   "metadata": {},
   "outputs": [],
   "source": [
    "def add_B_constraints(model, variables, truncation_OB, truncation_OG, i):\n",
    "\n",
    "    # get OB truncation for sample\n",
    "    min_x1_OB = truncation_OB['min_x1_OB']\n",
    "    max_x1_OB = truncation_OB['max_x1_OB']\n",
    "    min_x2_OB = truncation_OB['min_x2_OB']\n",
    "    max_x2_OB = truncation_OB['max_x2_OB']\n",
    "\n",
    "    # load CI bounds for sample\n",
    "    bounds = np.load(f\"./Test-Info/Bounds/Joint/sample-{i}.npy\")\n",
    "            \n",
    "    # for each OB state pair in truncation\n",
    "    for x1_OB in range(min_x1_OB, max_x1_OB + 1):\n",
    "        for x2_OB in range(min_x2_OB, max_x2_OB + 1):\n",
    "\n",
    "            # get OG truncation for OB state pair\n",
    "            min_x1_OG, max_x1_OG = truncation_OG[x1_OB]\n",
    "            min_x2_OG, max_x2_OG = truncation_OG[x2_OB]\n",
    "            \n",
    "            # load coefficient grid for OB state pair\n",
    "            B_coeffs = np.load(f\"./Test-Info/Coefficients/state-{x1_OB}-{x2_OB}.npy\")\n",
    "\n",
    "            # slice variables to truncation\n",
    "            p1_slice = variables['p1'][min_x1_OG: max_x1_OG + 1]\n",
    "            p2_slice = variables['p2'][min_x2_OG: max_x2_OG + 1]\n",
    "\n",
    "            # bilinear form\n",
    "            sum_expr = p1_slice.T @ B_coeffs @ p2_slice\n",
    "        \n",
    "            # form constraints using CI bounds\n",
    "            model.addConstr(sum_expr >= bounds[0, x1_OB, x2_OB], name=f\"B_lb_{x1_OB}_{x2_OB}\")\n",
    "            model.addConstr(sum_expr <= bounds[1, x1_OB, x2_OB], name=f\"B_ub_{x1_OB}_{x2_OB}\")"
   ]
  },
  {
   "cell_type": "markdown",
   "metadata": {},
   "source": [
    "### Marginal B constraints"
   ]
  },
  {
   "cell_type": "code",
   "execution_count": 20,
   "metadata": {},
   "outputs": [],
   "source": [
    "def add_marginal_B_constraints(model, variables, truncationM_OB, truncation_OG, i):\n",
    "\n",
    "    # get marginal OB truncation for sample\n",
    "    minM_x1_OB = truncationM_OB['minM_x1_OB']\n",
    "    maxM_x1_OB = truncationM_OB['maxM_x1_OB']\n",
    "    minM_x2_OB = truncationM_OB['minM_x2_OB']\n",
    "    maxM_x2_OB = truncationM_OB['maxM_x2_OB']\n",
    "\n",
    "    # load CI bounds for sample\n",
    "    x1_bounds = np.load(f\"./Test-Info/Bounds/x1_marginal/sample-{i}.npy\")\n",
    "    x2_bounds = np.load(f\"./Test-Info/Bounds/x2_marginal/sample-{i}.npy\")\n",
    "\n",
    "    # for each OB state in truncation\n",
    "    for x1_OB in range(minM_x1_OB, maxM_x1_OB + 1):\n",
    "\n",
    "        # get OG truncation\n",
    "        min_x1_OG, max_x1_OG = truncation_OG[x1_OB]\n",
    "\n",
    "        # load marginal coefficient array for OB state\n",
    "        Bm_coeffs = np.load(f\"./Test-Info/Coefficients/state-{x1_OB}.npy\")\n",
    "\n",
    "        # slice variable to truncation\n",
    "        p1_slice = variables['p1'][min_x1_OG: max_x1_OG + 1]\n",
    "\n",
    "        # linear expression of sum\n",
    "        sum_expr = gp.quicksum(Bm_coeffs * p1_slice)\n",
    "\n",
    "        # form constraints using CI bounds\n",
    "        model.addConstr(sum_expr >= x1_bounds[0, x1_OB], name=f\"Bm_x1_lb_{x1_OB}\")\n",
    "        model.addConstr(sum_expr <= x1_bounds[1, x1_OB], name=f\"Bm_x1_ub_{x1_OB}\")\n",
    "\n",
    "    # repeat for x2\n",
    "    for x2_OB in range(minM_x2_OB, maxM_x2_OB + 1):\n",
    "\n",
    "        # get OG truncation\n",
    "        min_x2_OG, max_x2_OG = truncation_OG[x2_OB]\n",
    "\n",
    "        # load marginal coefficient array for OB state\n",
    "        Bm_coeffs = np.load(f\"./Test-Info/Coefficients/state-{x2_OB}.npy\")\n",
    "\n",
    "        # slice variable to truncation\n",
    "        p2_slice = variables['p2'][min_x2_OG: max_x2_OG + 1]\n",
    "\n",
    "        # linear expression of sum\n",
    "        sum_expr = gp.quicksum(Bm_coeffs * p2_slice)\n",
    "\n",
    "        # form constraints using CI bounds\n",
    "        model.addConstr(sum_expr >= x2_bounds[0, x2_OB], name=f\"Bm_x2_lb_{x2_OB}\")\n",
    "        model.addConstr(sum_expr <= x2_bounds[1, x2_OB], name=f\"Bm_x2_ub_{x2_OB}\")"
   ]
  },
  {
   "cell_type": "markdown",
   "metadata": {},
   "source": [
    "### Moment constraints"
   ]
  },
  {
   "cell_type": "code",
   "execution_count": 21,
   "metadata": {},
   "outputs": [],
   "source": [
    "def add_moment_constraint(model, variables, extent_OG, moments_OB, beta):\n",
    "\n",
    "    # get extent of OG states\n",
    "    max_x1_OG = extent_OG['max_x1_OG']\n",
    "    max_x2_OG = extent_OG['max_x2_OG']\n",
    "\n",
    "    # get variables\n",
    "    p1 = variables['p1']\n",
    "    p2 = variables['p2']\n",
    "    E_x1 = variables['E_x1']\n",
    "    E_x2 = variables['E_x2']\n",
    "\n",
    "    # get capture efficiency moments\n",
    "    E_beta = np.mean(beta)\n",
    "    E_beta_sq = np.mean(beta**2)\n",
    "\n",
    "    # expressions for moments\n",
    "    expr_E_x1 = gp.quicksum(p1 * np.arange(max_x1_OG + 1))\n",
    "    expr_E_x2 = gp.quicksum(p2 * np.arange(max_x2_OG + 1))\n",
    "\n",
    "    # equate expressions\n",
    "    model.addConstr(E_x1 == expr_E_x1, name=\"E_x1_equality\")\n",
    "    model.addConstr(E_x2 == expr_E_x2, name=\"E_x2_equality\")\n",
    "\n",
    "    # moment bounds\n",
    "    model.addConstr(E_x1 <= moments_OB['E_x1'][1] / E_beta, name=\"E_x1_UB\")\n",
    "    model.addConstr(E_x1 >= moments_OB['E_x1'][0] / E_beta, name=\"E_x1_LB\")\n",
    "    model.addConstr(E_x2 <= moments_OB['E_x2'][1] / E_beta, name=\"E_x2_UB\")\n",
    "    model.addConstr(E_x2 >= moments_OB['E_x2'][0] / E_beta, name=\"E_x2_LB\")\n",
    "\n",
    "    # moment independence constraint\n",
    "    model.addConstr(E_x1 * E_x2 <= moments_OB['E_x1_x2'][1] / E_beta_sq, name=\"Indep_UB\")\n",
    "    model.addConstr(E_x1 * E_x2 >= moments_OB['E_x1_x2'][0] / E_beta_sq, name=\"Indep_LB\")"
   ]
  },
  {
   "cell_type": "markdown",
   "metadata": {},
   "source": [
    "### CME constraints"
   ]
  },
  {
   "cell_type": "code",
   "execution_count": 22,
   "metadata": {},
   "outputs": [],
   "source": [
    "def add_CME_constraints(model, variables, extent_OG):\n",
    "\n",
    "    # get extent of OG states\n",
    "    max_x1_OG = extent_OG['max_x1_OG']\n",
    "    max_x2_OG = extent_OG['max_x2_OG']\n",
    "\n",
    "    # get variables\n",
    "    p = variables['p']\n",
    "    k_tx_1 = variables['k_tx_1']\n",
    "    k_tx_2 = variables['k_tx_2']\n",
    "    k_deg_1 = variables['k_deg_2']\n",
    "    k_deg_2 = variables['k_deg_1']\n",
    "    \n",
    "    # manually add x1_OG = x2_OG = 0 constraint (to avoid p(0) terms)\n",
    "    model.addConstr(\n",
    "        0 == k_deg_1 * p[1, 0] + \\\n",
    "        k_deg_2 * p[0, 1] - \\\n",
    "        (k_tx_1 + k_tx_2) * p[0, 0],\n",
    "        name=\"CME_0_0\"\n",
    "    )\n",
    "\n",
    "    # manually add x1_OG = 0 constraints (to avoid p1(-1) terms)\n",
    "    model.addConstrs(\n",
    "        (\n",
    "            0 == k_tx_2 * p[0, x2_OG - 1] + \\\n",
    "            k_deg_1 * p[1, x2_OG] + \\\n",
    "            k_deg_2 * (x2_OG + 1) * p[0, x2_OG + 1] - \\\n",
    "            (k_tx_1 + k_tx_2 + k_deg_2 * x2_OG) * p[0, x2_OG]\n",
    "            for x2_OG in range(1, max_x2_OG)\n",
    "        ),\n",
    "        name=\"CME_0_x2\"\n",
    "    )\n",
    "    # manually add x2_OG = 0 constraints (to avoid p2(-1) terms)\n",
    "    model.addConstrs(\n",
    "        (\n",
    "            0 == k_tx_1 * p[x1_OG - 1, 0] + \\\n",
    "            k_deg_1 * (x1_OG + 1) * p[x1_OG + 1, 0] + \\\n",
    "            k_deg_2 * p[x1_OG, 1] - \\\n",
    "            (k_tx_1 + k_tx_2 + k_deg_1 * x1_OG) * p[x1_OG, 0]\n",
    "            for x1_OG in range(1, max_x1_OG)\n",
    "        ),\n",
    "        name=\"CME_x1_0\"\n",
    "    )\n",
    "\n",
    "    # add CME constraints\n",
    "    model.addConstrs(\n",
    "        (\n",
    "            0 == k_tx_1 * p[x1_OG - 1, x2_OG] + \\\n",
    "            k_tx_2 * p[x1_OG, x2_OG - 1] + \\\n",
    "            k_deg_1 * (x1_OG + 1) * p[x1_OG + 1, x2_OG] + \\\n",
    "            k_deg_2 * (x2_OG + 1) * p[x1_OG, x2_OG + 1] - \\\n",
    "            (k_tx_1 + k_tx_2 + k_deg_1 * x1_OG + k_deg_2 * x2_OG) * p[x1_OG, x2_OG]\n",
    "            for x1_OG in range(1, max_x1_OG)\n",
    "            for x2_OG in range(1, max_x2_OG)\n",
    "        ),\n",
    "        name=\"CME_x1_x2\"\n",
    "    )"
   ]
  },
  {
   "cell_type": "markdown",
   "metadata": {},
   "source": [
    "### Marginal CME constraints"
   ]
  },
  {
   "cell_type": "code",
   "execution_count": 23,
   "metadata": {},
   "outputs": [],
   "source": [
    "def add_marginal_CME_constraints(model, variables, extent_OG):\n",
    "\n",
    "    # get extent of OG states\n",
    "    max_x1_OG = extent_OG['max_x1_OG']\n",
    "    max_x2_OG = extent_OG['max_x2_OG']\n",
    "\n",
    "    # get variables\n",
    "    p1 = variables['p1']\n",
    "    p2 = variables['p2']\n",
    "    k_tx_1 = variables['k_tx_1']\n",
    "    k_tx_2 = variables['k_tx_2']\n",
    "    k_deg_1 = variables['k_deg_2']\n",
    "    k_deg_2 = variables['k_deg_1']\n",
    "\n",
    "    # construct Q matrices: 1 more column than square to add upper diagonal to last row\n",
    "    Q_tx_1 = (np.diag([1 for x in range(1, max_x1_OG + 1)], -1) - np.diag([1 for x in range(max_x1_OG + 1)]))[:-1, :]\n",
    "    Q_tx_2 = (np.diag([1 for x in range(1, max_x2_OG + 1)], -1) - np.diag([1 for x in range(max_x2_OG + 1)]))[:-1, :]\n",
    "    Q_deg_1 = (np.diag([x for x in range(1, max_x1_OG + 1)], 1) - np.diag([x for x in range(max_x1_OG + 1)]))[:-1, :]\n",
    "    Q_deg_2 = (np.diag([x for x in range(1, max_x2_OG + 1)], 1) - np.diag([x for x in range(max_x2_OG + 1)]))[:-1, :]\n",
    "\n",
    "    # add matrix constraints\n",
    "    model.addConstr(\n",
    "        k_tx_1 * (Q_tx_1 @ p1) + k_deg_1 * (Q_deg_1 @ p1) == 0,\n",
    "        name=\"Marginal_CME_x1\"\n",
    "    )\n",
    "\n",
    "    model.addConstr(\n",
    "        k_tx_2 * (Q_tx_2 @ p2) + k_deg_2 * (Q_deg_2 @ p2) == 0,\n",
    "        name=\"Marginal_CME_x2\"\n",
    "    )"
   ]
  },
  {
   "cell_type": "markdown",
   "metadata": {},
   "source": [
    "### Basic constraints\n",
    "\n",
    "e.g. fixing rates, distribution, independence factorization"
   ]
  },
  {
   "cell_type": "code",
   "execution_count": 24,
   "metadata": {},
   "outputs": [],
   "source": [
    "def add_base_constraints(model, variables):\n",
    "\n",
    "    # fix k_deg_1 = 1, k_deg = 2 for identifiability\n",
    "    model.addConstr(variables['k_deg_1'] == 1, name=\"Fix_k_deg_1\")\n",
    "    model.addConstr(variables['k_deg_2'] == 1, name=\"Fix_k_deg_2\")\n",
    "\n",
    "    # distributional constraints\n",
    "    model.addConstr(variables['p1'].sum() <= 1, name=\"Dist_x1\")\n",
    "    model.addConstr(variables['p2'].sum() <= 1, name=\"Dist_x2\")"
   ]
  },
  {
   "cell_type": "code",
   "execution_count": 25,
   "metadata": {},
   "outputs": [],
   "source": [
    "def add_factorization_constraint(model, variables):\n",
    "\n",
    "    # get variables\n",
    "    p1 = variables['p1']\n",
    "    p2 = variables['p2']\n",
    "    p = variables['p']\n",
    "\n",
    "    # outer product marginals\n",
    "    outer = p1[:, None] @ p2[None, :]\n",
    "\n",
    "    # equate dummy joint variable to product of marginals: all original states\n",
    "    model.addConstr(p == outer, name=f\"Joint_factorize\")"
   ]
  },
  {
   "cell_type": "markdown",
   "metadata": {},
   "source": [
    "### Model constructions\n",
    "\n",
    "Construct models, add variables and constraints using functions before optimizing to test feasibility\n",
    "\n",
    "Models for probability and moment constraints"
   ]
  },
  {
   "cell_type": "code",
   "execution_count": 26,
   "metadata": {},
   "outputs": [],
   "source": [
    "def construct_model_probabilities(truncation_OB, truncationM_OB, truncation_OG, extent_OG, i, silent=True, time_limit=300):\n",
    "    \n",
    "    # WLS license\n",
    "    options = json.load(open(\"../../../WLS_credentials.json\"))\n",
    "\n",
    "    # silent\n",
    "    if silent:\n",
    "        options['OutputFlag'] = 0\n",
    "\n",
    "    # environment context\n",
    "    with gp.Env(params=options) as env:\n",
    "\n",
    "        # model context\n",
    "        with gp.Model('test-construction', env=env) as model:\n",
    "\n",
    "            # model settings\n",
    "            model.Params.TimeLimit = time_limit\n",
    "            K = 100\n",
    "\n",
    "            # variables\n",
    "\n",
    "            # marginal stationary distributions: original counts (size = largest original state used + 1)\n",
    "            p1 = model.addMVar(shape=(extent_OG['max_x1_OG'] + 1), vtype=GRB.CONTINUOUS, name=\"p1\", lb=0, ub=1)\n",
    "            p2 = model.addMVar(shape=(extent_OG['max_x2_OG'] + 1), vtype=GRB.CONTINUOUS, name=\"p2\", lb=0, ub=1)\n",
    "\n",
    "            # joint distribution\n",
    "            p = model.addMVar(shape=(extent_OG['max_x1_OG'] + 1, extent_OG['max_x2_OG'] + 1), vtype=GRB.CONTINUOUS, name=\"p\", lb=0, ub=1)\n",
    "\n",
    "            # reaction rate constants\n",
    "            rate_names = ['k_tx_1', 'k_tx_2', 'k_deg_1', 'k_deg_2']\n",
    "            rates = model.addVars(rate_names, vtype=GRB.CONTINUOUS, lb=0, ub=K, name=rate_names)\n",
    "\n",
    "            # collect variables\n",
    "            variables = {\n",
    "                'p': p,\n",
    "                'p1': p1,\n",
    "                'p2': p2,\n",
    "                'k_tx_1': rates['k_tx_1'],\n",
    "                'k_tx_2': rates['k_tx_2'],\n",
    "                'k_deg_1': rates['k_deg_1'],\n",
    "                'k_deg_2': rates['k_deg_2']\n",
    "            }\n",
    "\n",
    "            # constraints\n",
    "\n",
    "            # base constraints\n",
    "            add_base_constraints(model, variables)\n",
    "\n",
    "            # independence constraints\n",
    "            add_factorization_constraint(model, variables)\n",
    "\n",
    "            # B constraints\n",
    "            add_B_constraints(model, variables, truncation_OB, truncation_OG, i)\n",
    "\n",
    "            # marginal B constraints\n",
    "            # add_marginal_B_constraints(model, variables, truncationM_OB, truncation_OG)\n",
    "\n",
    "            # CME constraints\n",
    "            add_CME_constraints(model, variables, extent_OG)\n",
    "\n",
    "            # marginal CME constraints\n",
    "            # add_marginal_CME_constraints(model, variables, extent_OG)\n",
    "\n",
    "            # write to file\n",
    "            # model.write(\"./Test-Info/Models/constraint_test_new.lp\")\n",
    "\n",
    "            # optimize: testing feasibility\n",
    "            model.setObjective(0, GRB.MINIMIZE)\n",
    "            model.optimize()\n",
    "            \n",
    "            # get status\n",
    "            status = status_codes[model.status]\n",
    "\n",
    "            print(f\"Model is {status}\")\n",
    "\n",
    "            return status"
   ]
  },
  {
   "cell_type": "code",
   "execution_count": 27,
   "metadata": {},
   "outputs": [],
   "source": [
    "def construct_model_moments(moments_OB, beta, extent_OG, silent=True, time_limit=300):\n",
    "    \n",
    "    # WLS license\n",
    "    options = json.load(open(\"../../../WLS_credentials.json\"))\n",
    "\n",
    "    # silent\n",
    "    if silent:\n",
    "        options['OutputFlag'] = 0\n",
    "\n",
    "    # environment context\n",
    "    with gp.Env(params=options) as env:\n",
    "\n",
    "        # model context\n",
    "        with gp.Model('test-construction', env=env) as model:\n",
    "\n",
    "            # model settings\n",
    "            model.Params.TimeLimit = time_limit\n",
    "            K = 100\n",
    "\n",
    "            # variables\n",
    "\n",
    "            # marginal stationary distributions: original counts (size = largest original state used + 1)\n",
    "            p1 = model.addMVar(shape=(extent_OG['max_x1_OG'] + 1), vtype=GRB.CONTINUOUS, name=\"p1\", lb=0, ub=1)\n",
    "            p2 = model.addMVar(shape=(extent_OG['max_x2_OG'] + 1), vtype=GRB.CONTINUOUS, name=\"p2\", lb=0, ub=1)\n",
    "\n",
    "            # joint distribution\n",
    "            p = model.addMVar(shape=(extent_OG['max_x1_OG'] + 1, extent_OG['max_x2_OG'] + 1), vtype=GRB.CONTINUOUS, name=\"p\", lb=0, ub=1)\n",
    "\n",
    "            # reaction rate constants\n",
    "            rate_names = ['k_tx_1', 'k_tx_2', 'k_deg_1', 'k_deg_2']\n",
    "            rates = model.addVars(rate_names, vtype=GRB.CONTINUOUS, lb=0, ub=K, name=rate_names)\n",
    "\n",
    "            # moments\n",
    "            E_x1 = model.addVar(vtype=GRB.CONTINUOUS, name=\"E_x1\")\n",
    "            E_x2 = model.addVar(vtype=GRB.CONTINUOUS, name=\"E_x2\")\n",
    "\n",
    "            # collect variables\n",
    "            variables = {\n",
    "                'p': p,\n",
    "                'p1': p1,\n",
    "                'p2': p2,\n",
    "                'k_tx_1': rates['k_tx_1'],\n",
    "                'k_tx_2': rates['k_tx_2'],\n",
    "                'k_deg_1': rates['k_deg_1'],\n",
    "                'k_deg_2': rates['k_deg_2'],\n",
    "                'E_x1': E_x1,\n",
    "                'E_x2': E_x2\n",
    "            }\n",
    "\n",
    "            # constraints\n",
    "\n",
    "            # base constraints\n",
    "            add_base_constraints(model, variables)\n",
    "\n",
    "            # independence constraints\n",
    "            add_factorization_constraint(model, variables)\n",
    "\n",
    "            # moment constraint\n",
    "            add_moment_constraint(model, variables, extent_OG, moments_OB, beta)\n",
    "\n",
    "            # B constraints\n",
    "            # add_B_constraints(model, variables, truncation_OB, truncation_OG, i)\n",
    "\n",
    "            # marginal B constraints\n",
    "            # add_marginal_B_constraints(model, variables, truncationM_OB, truncation_OG)\n",
    "\n",
    "            # CME constraints\n",
    "            add_CME_constraints(model, variables, extent_OG)\n",
    "\n",
    "            # marginal CME constraints\n",
    "            # add_marginal_CME_constraints(model, variables, extent_OG)\n",
    "\n",
    "            # write to file\n",
    "            # model.write(\"./Test-Info/Models/constraint_test_new.lp\")\n",
    "\n",
    "            # optimize: testing feasibility\n",
    "            model.setObjective(0, GRB.MINIMIZE)\n",
    "            model.optimize()\n",
    "            \n",
    "            # get status\n",
    "            status = status_codes[model.status]\n",
    "\n",
    "            print(f\"Model is {status}\")\n",
    "\n",
    "            return status"
   ]
  },
  {
   "cell_type": "code",
   "execution_count": 28,
   "metadata": {},
   "outputs": [],
   "source": [
    "def construct_model_combined(truncation_OB, truncationM_OB, moments_OB, beta, truncation_OG, extent_OG, i, silent=True, time_limit=300):\n",
    "    \n",
    "    # WLS license\n",
    "    options = json.load(open(\"../../../WLS_credentials.json\"))\n",
    "\n",
    "    # silent\n",
    "    if silent:\n",
    "        options['OutputFlag'] = 0\n",
    "\n",
    "    # environment context\n",
    "    with gp.Env(params=options) as env:\n",
    "\n",
    "        # model context\n",
    "        with gp.Model('test-construction', env=env) as model:\n",
    "\n",
    "            # model settings\n",
    "            model.Params.TimeLimit = time_limit\n",
    "            K = 100\n",
    "\n",
    "            # variables\n",
    "\n",
    "            # marginal stationary distributions: original counts (size = largest original state used + 1)\n",
    "            p1 = model.addMVar(shape=(extent_OG['max_x1_OG'] + 1), vtype=GRB.CONTINUOUS, name=\"p1\", lb=0, ub=1)\n",
    "            p2 = model.addMVar(shape=(extent_OG['max_x2_OG'] + 1), vtype=GRB.CONTINUOUS, name=\"p2\", lb=0, ub=1)\n",
    "\n",
    "            # joint distribution\n",
    "            p = model.addMVar(shape=(extent_OG['max_x1_OG'] + 1, extent_OG['max_x2_OG'] + 1), vtype=GRB.CONTINUOUS, name=\"p\", lb=0, ub=1)\n",
    "\n",
    "            # reaction rate constants\n",
    "            rate_names = ['k_tx_1', 'k_tx_2', 'k_deg_1', 'k_deg_2']\n",
    "            rates = model.addVars(rate_names, vtype=GRB.CONTINUOUS, lb=0, ub=K, name=rate_names)\n",
    "\n",
    "            # moments\n",
    "            E_x1 = model.addVar(vtype=GRB.CONTINUOUS, name=\"E_x1\")\n",
    "            E_x2 = model.addVar(vtype=GRB.CONTINUOUS, name=\"E_x2\")\n",
    "\n",
    "            # collect variables\n",
    "            variables = {\n",
    "                'p': p,\n",
    "                'p1': p1,\n",
    "                'p2': p2,\n",
    "                'k_tx_1': rates['k_tx_1'],\n",
    "                'k_tx_2': rates['k_tx_2'],\n",
    "                'k_deg_1': rates['k_deg_1'],\n",
    "                'k_deg_2': rates['k_deg_2'],\n",
    "                'E_x1': E_x1,\n",
    "                'E_x2': E_x2\n",
    "            }\n",
    "\n",
    "            # constraints\n",
    "\n",
    "            # base constraints\n",
    "            add_base_constraints(model, variables)\n",
    "\n",
    "            # independence constraints\n",
    "            add_factorization_constraint(model, variables)\n",
    "\n",
    "            # moment constraint\n",
    "            add_moment_constraint(model, variables, extent_OG, moments_OB, beta)\n",
    "\n",
    "            # B constraints\n",
    "            add_B_constraints(model, variables, truncation_OB, truncation_OG, i)\n",
    "\n",
    "            # marginal B constraints\n",
    "            # add_marginal_B_constraints(model, variables, truncationM_OB, truncation_OG)\n",
    "\n",
    "            # CME constraints\n",
    "            add_CME_constraints(model, variables, extent_OG)\n",
    "\n",
    "            # marginal CME constraints\n",
    "            # add_marginal_CME_constraints(model, variables, extent_OG)\n",
    "\n",
    "            # write to file\n",
    "            # model.write(\"./Test-Info/Models/constraint_test_new.lp\")\n",
    "\n",
    "            # optimize: testing feasibility\n",
    "            model.setObjective(0, GRB.MINIMIZE)\n",
    "            model.optimize()\n",
    "            \n",
    "            # get status\n",
    "            status = status_codes[model.status]\n",
    "\n",
    "            print(f\"Model is {status}\")\n",
    "\n",
    "            return status"
   ]
  },
  {
   "cell_type": "markdown",
   "metadata": {},
   "source": [
    "### Dataset optimization"
   ]
  },
  {
   "cell_type": "code",
   "execution_count": 29,
   "metadata": {},
   "outputs": [],
   "source": [
    "def dataset_analysis_probabilities(truncation_OB, truncationM_OB, truncation_OG, extent_OG, time_limit=300):\n",
    "\n",
    "    # store results\n",
    "    result_dict = {}\n",
    "\n",
    "    # loop over samples in dataset\n",
    "    for i, sample in enumerate(truncation_OB.keys()):\n",
    "\n",
    "        # test feasibility\n",
    "        status = construct_model_probabilities(\n",
    "            truncation_OB[sample],\n",
    "            truncationM_OB[sample],\n",
    "            truncation_OG,\n",
    "            extent_OG[sample],\n",
    "            i,\n",
    "            time_limit=time_limit\n",
    "        )\n",
    "\n",
    "        # record status\n",
    "        result_dict[i] = status\n",
    "\n",
    "    return result_dict"
   ]
  },
  {
   "cell_type": "code",
   "execution_count": 30,
   "metadata": {},
   "outputs": [],
   "source": [
    "def dataset_analysis_moments(beta, moments_OB, extent_OG, time_limit=300):\n",
    "\n",
    "    # store results\n",
    "    result_dict = {}\n",
    "\n",
    "    # loop over samples in dataset\n",
    "    for i, sample in enumerate(truncation_OB.keys()):\n",
    "\n",
    "        # test feasibility\n",
    "        status = construct_model_moments(\n",
    "            moments_OB[sample],\n",
    "            beta,\n",
    "            extent_OG[sample],\n",
    "            time_limit=time_limit\n",
    "        )\n",
    "\n",
    "        # record status\n",
    "        result_dict[i] = status\n",
    "\n",
    "    return result_dict"
   ]
  },
  {
   "cell_type": "code",
   "execution_count": 31,
   "metadata": {},
   "outputs": [],
   "source": [
    "def dataset_analysis_combined(truncation_OB, truncationM_OB, moments_OB, beta, truncation_OG, extent_OG, time_limit=300):\n",
    "\n",
    "    # store results\n",
    "    result_dict = {}\n",
    "\n",
    "    # loop over samples in dataset\n",
    "    for i, sample in enumerate(truncation_OB.keys()):\n",
    "\n",
    "        # test feasibility\n",
    "        status = construct_model_combined(\n",
    "            truncation_OB[sample],\n",
    "            truncationM_OB[sample],\n",
    "            moments_OB[sample],\n",
    "            beta,\n",
    "            truncation_OG,\n",
    "            extent_OG[sample],\n",
    "            i,\n",
    "            time_limit=time_limit\n",
    "        )\n",
    "\n",
    "        # record status\n",
    "        result_dict[i] = status\n",
    "\n",
    "    return result_dict"
   ]
  },
  {
   "cell_type": "markdown",
   "metadata": {},
   "source": [
    "## Testing"
   ]
  },
  {
   "cell_type": "code",
   "execution_count": 158,
   "metadata": {},
   "outputs": [
    {
     "name": "stdout",
     "output_type": "stream",
     "text": [
      "Model is OPTIMAL\n",
      "Model is INFEASIBLE\n",
      "Model is INFEASIBLE\n",
      "Model is OPTIMAL\n",
      "Model is OPTIMAL\n",
      "Model is OPTIMAL\n",
      "Model is OPTIMAL\n",
      "Model is OPTIMAL\n",
      "Model is OPTIMAL\n"
     ]
    }
   ],
   "source": [
    "prob_results = dataset_analysis_probabilities(truncation_OB, truncationM_OB, truncation_OG, extent_OG)"
   ]
  },
  {
   "cell_type": "code",
   "execution_count": null,
   "metadata": {},
   "outputs": [
    {
     "name": "stdout",
     "output_type": "stream",
     "text": [
      "Model is INFEASIBLE\n",
      "Model is INFEASIBLE\n",
      "Model is INFEASIBLE\n",
      "Model is TIME_LIMIT\n",
      "Model is TIME_LIMIT\n",
      "Model is TIME_LIMIT\n",
      "Model is OPTIMAL\n",
      "Model is TIME_LIMIT\n",
      "Model is TIME_LIMIT\n"
     ]
    }
   ],
   "source": [
    "moment_results = dataset_analysis_moments(beta, moments_OB, extent_OG)"
   ]
  },
  {
   "cell_type": "markdown",
   "metadata": {},
   "source": [
    "# Correlation tests"
   ]
  },
  {
   "cell_type": "markdown",
   "metadata": {},
   "source": [
    "## Code"
   ]
  },
  {
   "cell_type": "code",
   "execution_count": 32,
   "metadata": {},
   "outputs": [],
   "source": [
    "def dataset_analysis_correlation(dataset):\n",
    "                \n",
    "    # get dataset shape\n",
    "    gene_pairs, cells = dataset.shape\n",
    "\n",
    "    # store results\n",
    "    corr_result = {}\n",
    "\n",
    "    # loop over dataset\n",
    "    for i in range(gene_pairs):\n",
    "\n",
    "        # select sample\n",
    "        sample = list(dataset.loc[f'Gene-pair-{i}'])\n",
    "\n",
    "        # convert string to tuple if neccessary (pandas reading csv to string)\n",
    "        if type(sample[0]) == str:\n",
    "            sample = [literal_eval(count_pair) for count_pair in sample]\n",
    "\n",
    "        # separate pairs into individual samples\n",
    "        x1_sample = [x[0] for x in sample]\n",
    "        x2_sample = [x[1] for x in sample]\n",
    "\n",
    "        # test\n",
    "        pearson = scipy.stats.pearsonr(x1_sample, x2_sample, alternative='less')\n",
    "\n",
    "        # store result\n",
    "        corr_result[i] = {'pvalue': float(pearson.pvalue), 'statistic': float(pearson.statistic)}\n",
    "\n",
    "        print(f\"sample {i} p-value: {pearson.pvalue}\")\n",
    "\n",
    "    return corr_result"
   ]
  },
  {
   "cell_type": "markdown",
   "metadata": {},
   "source": [
    "## Testing"
   ]
  },
  {
   "cell_type": "code",
   "execution_count": 166,
   "metadata": {},
   "outputs": [
    {
     "name": "stdout",
     "output_type": "stream",
     "text": [
      "sample 0 p-value: 4.721723003002662e-08\n",
      "sample 1 p-value: 1.6687679797083203e-05\n",
      "sample 2 p-value: 7.870966779883357e-06\n",
      "sample 3 p-value: 0.1165844749669706\n",
      "sample 4 p-value: 0.0022143298818704774\n",
      "sample 5 p-value: 0.006908330376833126\n",
      "sample 6 p-value: 0.15576746097762842\n",
      "sample 7 p-value: 0.3011104179337129\n",
      "sample 8 p-value: 0.9703279324620564\n"
     ]
    }
   ],
   "source": [
    "corr_results = dataset_analysis_correlation(count_dataset)"
   ]
  },
  {
   "cell_type": "markdown",
   "metadata": {},
   "source": [
    "# Analysis\n",
    "\n",
    "Run analyis on simulated dataset using the different methods constructed"
   ]
  },
  {
   "cell_type": "markdown",
   "metadata": {},
   "source": [
    "## Running"
   ]
  },
  {
   "cell_type": "markdown",
   "metadata": {},
   "source": [
    "### High capture"
   ]
  },
  {
   "cell_type": "code",
   "execution_count": 33,
   "metadata": {},
   "outputs": [],
   "source": [
    "# load\n",
    "dataset = pd.read_csv(\"./Test-Info/Data/counts_unif_high.csv\", index_col=0)\n",
    "beta = np.loadtxt(\"./Test-Info/Data/beta_unif_high.csv\")"
   ]
  },
  {
   "cell_type": "code",
   "execution_count": 34,
   "metadata": {},
   "outputs": [
    {
     "name": "stderr",
     "output_type": "stream",
     "text": [
      "100%|██████████| 9/9 [00:00<00:00, 11.90it/s]\n"
     ]
    },
    {
     "data": {
      "image/png": "[encoded data removed]",
      "text/plain": [
       "<Figure size 600x300 with 2 Axes>"
      ]
     },
     "metadata": {},
     "output_type": "display_data"
    },
    {
     "name": "stderr",
     "output_type": "stream",
     "text": [
      "100%|██████████| 5/5 [00:06<00:00,  1.23s/it]\n",
      "100%|██████████| 5/5 [00:00<00:00, 113.59it/s]\n",
      "100%|██████████| 16/16 [00:00<00:00, 346.20it/s]\n"
     ]
    }
   ],
   "source": [
    "# process\n",
    "truncation_OB, truncationM_OB, moments_OB, truncation_OG, extent_OG = dataset_processing(dataset, beta)"
   ]
  },
  {
   "cell_type": "code",
   "execution_count": 35,
   "metadata": {},
   "outputs": [
    {
     "name": "stdout",
     "output_type": "stream",
     "text": [
      "Model is INFEASIBLE\n",
      "Model is INFEASIBLE\n",
      "Model is INFEASIBLE\n",
      "Model is INFEASIBLE\n",
      "Model is INFEASIBLE\n",
      "Model is INFEASIBLE\n",
      "Model is OPTIMAL\n",
      "Model is OPTIMAL\n",
      "Model is OPTIMAL\n"
     ]
    }
   ],
   "source": [
    "# probability\n",
    "prob_results = dataset_analysis_probabilities(truncation_OB, truncationM_OB, truncation_OG, extent_OG)"
   ]
  },
  {
   "cell_type": "code",
   "execution_count": 36,
   "metadata": {},
   "outputs": [
    {
     "name": "stdout",
     "output_type": "stream",
     "text": [
      "Model is INFEASIBLE\n",
      "Model is INFEASIBLE\n",
      "Model is INFEASIBLE\n",
      "Model is INFEASIBLE\n",
      "Model is OPTIMAL\n",
      "Model is OPTIMAL\n",
      "Model is OPTIMAL\n",
      "Model is OPTIMAL\n",
      "Model is OPTIMAL\n"
     ]
    }
   ],
   "source": [
    "# moment\n",
    "moment_results = dataset_analysis_moments(beta, moments_OB, extent_OG)"
   ]
  },
  {
   "cell_type": "code",
   "execution_count": 37,
   "metadata": {},
   "outputs": [
    {
     "name": "stdout",
     "output_type": "stream",
     "text": [
      "Model is INFEASIBLE\n",
      "Model is INFEASIBLE\n",
      "Model is INFEASIBLE\n",
      "Model is INFEASIBLE\n",
      "Model is INFEASIBLE\n",
      "Model is INFEASIBLE\n",
      "Model is OPTIMAL\n",
      "Model is OPTIMAL\n",
      "Model is OPTIMAL\n"
     ]
    }
   ],
   "source": [
    "# combined\n",
    "combined_results = dataset_analysis_combined(truncation_OB, truncationM_OB, moments_OB, beta, truncation_OG, extent_OG)"
   ]
  },
  {
   "cell_type": "code",
   "execution_count": 38,
   "metadata": {},
   "outputs": [
    {
     "name": "stdout",
     "output_type": "stream",
     "text": [
      "sample 0 p-value: 3.2729801590552267e-18\n",
      "sample 1 p-value: 1.1818801223547127e-13\n",
      "sample 2 p-value: 5.042067307960625e-13\n",
      "sample 3 p-value: 9.008611059098091e-08\n",
      "sample 4 p-value: 5.486440537490913e-07\n",
      "sample 5 p-value: 0.0002883880888745021\n",
      "sample 6 p-value: 0.00876643676789739\n",
      "sample 7 p-value: 0.02335663554498452\n",
      "sample 8 p-value: 0.8278621750972538\n"
     ]
    }
   ],
   "source": [
    "# correlation\n",
    "corr_results = dataset_analysis_correlation(dataset)"
   ]
  },
  {
   "cell_type": "markdown",
   "metadata": {},
   "source": [
    "### Medium capture"
   ]
  },
  {
   "cell_type": "code",
   "execution_count": 189,
   "metadata": {},
   "outputs": [],
   "source": [
    "# load\n",
    "dataset = pd.read_csv(\"./Test-Info/Data/counts_unif_med.csv\", index_col=0)\n",
    "beta = np.loadtxt(\"./Test-Info/Data/beta_unif_med.csv\")"
   ]
  },
  {
   "cell_type": "code",
   "execution_count": 190,
   "metadata": {},
   "outputs": [
    {
     "name": "stderr",
     "output_type": "stream",
     "text": [
      "100%|██████████| 9/9 [00:01<00:00,  6.27it/s]\n"
     ]
    },
    {
     "data": {
      "image/png": "[encoded data removed]",
      "text/plain": [
       "<Figure size 600x300 with 2 Axes>"
      ]
     },
     "metadata": {},
     "output_type": "display_data"
    },
    {
     "name": "stderr",
     "output_type": "stream",
     "text": [
      "100%|██████████| 4/4 [00:00<00:00, 47.56it/s]\n",
      "100%|██████████| 4/4 [00:00<00:00, 71.74it/s]\n",
      "100%|██████████| 15/15 [00:00<00:00, 311.33it/s]\n"
     ]
    }
   ],
   "source": [
    "# process\n",
    "truncation_OB, truncationM_OB, moments_OB, truncation_OG, extent_OG = dataset_processing(dataset, beta)"
   ]
  },
  {
   "cell_type": "code",
   "execution_count": 173,
   "metadata": {},
   "outputs": [
    {
     "name": "stdout",
     "output_type": "stream",
     "text": [
      "Model is OPTIMAL\n",
      "Model is INFEASIBLE\n",
      "Model is INFEASIBLE\n",
      "Model is OPTIMAL\n",
      "Model is OPTIMAL\n",
      "Model is OPTIMAL\n",
      "Model is OPTIMAL\n",
      "Model is OPTIMAL\n",
      "Model is OPTIMAL\n"
     ]
    }
   ],
   "source": [
    "# probability\n",
    "prob_results = dataset_analysis_probabilities(truncation_OB, truncationM_OB, truncation_OG, extent_OG)"
   ]
  },
  {
   "cell_type": "code",
   "execution_count": 174,
   "metadata": {},
   "outputs": [
    {
     "name": "stdout",
     "output_type": "stream",
     "text": [
      "Model is INFEASIBLE\n",
      "Model is INFEASIBLE\n",
      "Model is INFEASIBLE\n",
      "Model is TIME_LIMIT\n",
      "Model is TIME_LIMIT\n",
      "Model is TIME_LIMIT\n",
      "Model is OPTIMAL\n",
      "Model is TIME_LIMIT\n",
      "Model is TIME_LIMIT\n"
     ]
    }
   ],
   "source": [
    "# moment\n",
    "moment_results = dataset_analysis_moments(beta, moments_OB, extent_OG)"
   ]
  },
  {
   "cell_type": "code",
   "execution_count": 191,
   "metadata": {},
   "outputs": [
    {
     "name": "stdout",
     "output_type": "stream",
     "text": [
      "Model is INFEASIBLE\n",
      "Model is INFEASIBLE\n",
      "Model is INFEASIBLE\n",
      "Model is OPTIMAL\n",
      "Model is OPTIMAL\n",
      "Model is OPTIMAL\n",
      "Model is OPTIMAL\n",
      "Model is OPTIMAL\n",
      "Model is OPTIMAL\n"
     ]
    }
   ],
   "source": [
    "# combined\n",
    "combined_results = dataset_analysis_combined(truncation_OB, truncationM_OB, moments_OB, beta, truncation_OG, extent_OG)"
   ]
  },
  {
   "cell_type": "code",
   "execution_count": 175,
   "metadata": {},
   "outputs": [
    {
     "name": "stdout",
     "output_type": "stream",
     "text": [
      "sample 0 p-value: 4.721723003002662e-08\n",
      "sample 1 p-value: 1.6687679797083203e-05\n",
      "sample 2 p-value: 7.870966779883357e-06\n",
      "sample 3 p-value: 0.1165844749669706\n",
      "sample 4 p-value: 0.0022143298818704774\n",
      "sample 5 p-value: 0.006908330376833126\n",
      "sample 6 p-value: 0.15576746097762842\n",
      "sample 7 p-value: 0.3011104179337129\n",
      "sample 8 p-value: 0.9703279324620564\n"
     ]
    }
   ],
   "source": [
    "# correlation\n",
    "corr_results = dataset_analysis_correlation(dataset)"
   ]
  },
  {
   "cell_type": "markdown",
   "metadata": {},
   "source": [
    "### Low capture"
   ]
  },
  {
   "cell_type": "code",
   "execution_count": 192,
   "metadata": {},
   "outputs": [],
   "source": [
    "# load\n",
    "dataset = pd.read_csv(\"./Test-Info/Data/counts_unif_low.csv\", index_col=0)\n",
    "beta = np.loadtxt(\"./Test-Info/Data/beta_unif_low.csv\")"
   ]
  },
  {
   "cell_type": "code",
   "execution_count": 193,
   "metadata": {},
   "outputs": [
    {
     "name": "stderr",
     "output_type": "stream",
     "text": [
      "100%|██████████| 9/9 [00:01<00:00,  5.75it/s]\n"
     ]
    },
    {
     "data": {
      "image/png": "[encoded data removed]",
      "text/plain": [
       "<Figure size 600x300 with 2 Axes>"
      ]
     },
     "metadata": {},
     "output_type": "display_data"
    },
    {
     "name": "stderr",
     "output_type": "stream",
     "text": [
      "100%|██████████| 3/3 [00:00<00:00, 14.01it/s]\n",
      "100%|██████████| 3/3 [00:00<00:00, 30.01it/s]\n",
      "100%|██████████| 9/9 [00:00<00:00, 146.46it/s]\n"
     ]
    }
   ],
   "source": [
    "# process\n",
    "truncation_OB, truncationM_OB, moments_OB, truncation_OG, extent_OG = dataset_processing(dataset, beta)"
   ]
  },
  {
   "cell_type": "code",
   "execution_count": 181,
   "metadata": {},
   "outputs": [
    {
     "name": "stdout",
     "output_type": "stream",
     "text": [
      "Model is TIME_LIMIT\n",
      "Model is TIME_LIMIT\n",
      "Model is TIME_LIMIT\n",
      "Model is TIME_LIMIT\n",
      "Model is TIME_LIMIT\n",
      "Model is TIME_LIMIT\n",
      "Model is TIME_LIMIT\n",
      "Model is TIME_LIMIT\n",
      "Model is TIME_LIMIT\n"
     ]
    }
   ],
   "source": [
    "# probability\n",
    "prob_results = dataset_analysis_probabilities(truncation_OB, truncationM_OB, truncation_OG, extent_OG, time_limit=600)"
   ]
  },
  {
   "cell_type": "code",
   "execution_count": 195,
   "metadata": {},
   "outputs": [
    {
     "name": "stdout",
     "output_type": "stream",
     "text": [
      "Model is TIME_LIMIT\n",
      "Model is TIME_LIMIT\n",
      "Model is TIME_LIMIT\n",
      "Model is TIME_LIMIT\n",
      "Model is OPTIMAL\n",
      "Model is TIME_LIMIT\n",
      "Model is TIME_LIMIT\n",
      "Model is TIME_LIMIT\n",
      "Model is TIME_LIMIT\n"
     ]
    }
   ],
   "source": [
    "# moment\n",
    "moment_results = dataset_analysis_moments(beta, moments_OB, extent_OG, time_limit=600)"
   ]
  },
  {
   "cell_type": "code",
   "execution_count": 196,
   "metadata": {},
   "outputs": [
    {
     "name": "stdout",
     "output_type": "stream",
     "text": [
      "Model is TIME_LIMIT\n",
      "Model is TIME_LIMIT\n",
      "Model is TIME_LIMIT\n",
      "Model is TIME_LIMIT\n",
      "Model is TIME_LIMIT\n",
      "Model is TIME_LIMIT\n",
      "Model is TIME_LIMIT\n",
      "Model is TIME_LIMIT\n",
      "Model is TIME_LIMIT\n"
     ]
    }
   ],
   "source": [
    "# combined\n",
    "combined_results = dataset_analysis_combined(truncation_OB, truncationM_OB, moments_OB, beta, truncation_OG, extent_OG, time_limit=600)"
   ]
  },
  {
   "cell_type": "code",
   "execution_count": 179,
   "metadata": {},
   "outputs": [
    {
     "name": "stdout",
     "output_type": "stream",
     "text": [
      "sample 0 p-value: 0.0328698614367237\n",
      "sample 1 p-value: 0.05603504874622022\n",
      "sample 2 p-value: 0.04448852321781229\n",
      "sample 3 p-value: 0.28645736537300476\n",
      "sample 4 p-value: 0.6427315819539003\n",
      "sample 5 p-value: 0.6221576922831449\n",
      "sample 6 p-value: 0.2789604023995482\n",
      "sample 7 p-value: 0.024040301556419723\n",
      "sample 8 p-value: 0.4944234423041009\n"
     ]
    }
   ],
   "source": [
    "# correlation\n",
    "corr_results = dataset_analysis_correlation(dataset)"
   ]
  },
  {
   "cell_type": "markdown",
   "metadata": {},
   "source": [
    "# Marginal Analysis"
   ]
  },
  {
   "cell_type": "markdown",
   "metadata": {},
   "source": [
    "## Code"
   ]
  },
  {
   "cell_type": "markdown",
   "metadata": {},
   "source": [
    "### Marginal model constructions"
   ]
  },
  {
   "cell_type": "code",
   "execution_count": 48,
   "metadata": {},
   "outputs": [],
   "source": [
    "def construct_model_probabilities_marginal(truncation_OB, truncationM_OB, truncation_OG, extent_OG, i, silent=True, time_limit=300):\n",
    "    \n",
    "    # WLS license\n",
    "    options = json.load(open(\"../../../WLS_credentials.json\"))\n",
    "\n",
    "    # silent\n",
    "    if silent:\n",
    "        options['OutputFlag'] = 0\n",
    "\n",
    "    # environment context\n",
    "    with gp.Env(params=options) as env:\n",
    "\n",
    "        # model context\n",
    "        with gp.Model('test-construction', env=env) as model:\n",
    "\n",
    "            # model settings\n",
    "            model.Params.TimeLimit = time_limit\n",
    "            K = 100\n",
    "\n",
    "            # variables\n",
    "\n",
    "            # marginal stationary distributions: original counts (size = largest original state used + 1)\n",
    "            p1 = model.addMVar(shape=(extent_OG['max_x1_OG'] + 1), vtype=GRB.CONTINUOUS, name=\"p1\", lb=0, ub=1)\n",
    "            p2 = model.addMVar(shape=(extent_OG['max_x2_OG'] + 1), vtype=GRB.CONTINUOUS, name=\"p2\", lb=0, ub=1)\n",
    "\n",
    "            # reaction rate constants\n",
    "            rate_names = ['k_tx_1', 'k_tx_2', 'k_deg_1', 'k_deg_2']\n",
    "            rates = model.addVars(rate_names, vtype=GRB.CONTINUOUS, lb=0, ub=K, name=rate_names)\n",
    "\n",
    "            # collect variables\n",
    "            variables = {\n",
    "                'p1': p1,\n",
    "                'p2': p2,\n",
    "                'k_tx_1': rates['k_tx_1'],\n",
    "                'k_tx_2': rates['k_tx_2'],\n",
    "                'k_deg_1': rates['k_deg_1'],\n",
    "                'k_deg_2': rates['k_deg_2']\n",
    "            }\n",
    "\n",
    "            # constraints\n",
    "\n",
    "            # base constraints\n",
    "            add_base_constraints(model, variables)\n",
    "\n",
    "            # marginal B constraints\n",
    "            add_marginal_B_constraints(model, variables, truncationM_OB, truncation_OG, i)\n",
    "\n",
    "            # marginal CME constraints\n",
    "            add_marginal_CME_constraints(model, variables, extent_OG)\n",
    "\n",
    "            # write to file\n",
    "            # model.write(\"./Test-Info/Models/constraint_test_new.lp\")\n",
    "\n",
    "            # optimize: testing feasibility\n",
    "            model.setObjective(0, GRB.MINIMIZE)\n",
    "            model.optimize()\n",
    "            \n",
    "            # get status\n",
    "            status = status_codes[model.status]\n",
    "\n",
    "            print(f\"Model is {status}\")\n",
    "\n",
    "            return status"
   ]
  },
  {
   "cell_type": "code",
   "execution_count": 40,
   "metadata": {},
   "outputs": [],
   "source": [
    "def construct_model_moments_marginal(moments_OB, beta, extent_OG, silent=True, time_limit=300):\n",
    "    \n",
    "    # WLS license\n",
    "    options = json.load(open(\"../../../WLS_credentials.json\"))\n",
    "\n",
    "    # silent\n",
    "    if silent:\n",
    "        options['OutputFlag'] = 0\n",
    "\n",
    "    # environment context\n",
    "    with gp.Env(params=options) as env:\n",
    "\n",
    "        # model context\n",
    "        with gp.Model('test-construction', env=env) as model:\n",
    "\n",
    "            # model settings\n",
    "            model.Params.TimeLimit = time_limit\n",
    "            K = 100\n",
    "\n",
    "            # variables\n",
    "\n",
    "            # marginal stationary distributions: original counts (size = largest original state used + 1)\n",
    "            p1 = model.addMVar(shape=(extent_OG['max_x1_OG'] + 1), vtype=GRB.CONTINUOUS, name=\"p1\", lb=0, ub=1)\n",
    "            p2 = model.addMVar(shape=(extent_OG['max_x2_OG'] + 1), vtype=GRB.CONTINUOUS, name=\"p2\", lb=0, ub=1)\n",
    "\n",
    "            # reaction rate constants\n",
    "            rate_names = ['k_tx_1', 'k_tx_2', 'k_deg_1', 'k_deg_2']\n",
    "            rates = model.addVars(rate_names, vtype=GRB.CONTINUOUS, lb=0, ub=K, name=rate_names)\n",
    "\n",
    "            # moments\n",
    "            E_x1 = model.addVar(vtype=GRB.CONTINUOUS, name=\"E_x1\")\n",
    "            E_x2 = model.addVar(vtype=GRB.CONTINUOUS, name=\"E_x2\")\n",
    "\n",
    "            # collect variables\n",
    "            variables = {\n",
    "                'p1': p1,\n",
    "                'p2': p2,\n",
    "                'k_tx_1': rates['k_tx_1'],\n",
    "                'k_tx_2': rates['k_tx_2'],\n",
    "                'k_deg_1': rates['k_deg_1'],\n",
    "                'k_deg_2': rates['k_deg_2'],\n",
    "                'E_x1': E_x1,\n",
    "                'E_x2': E_x2\n",
    "            }\n",
    "\n",
    "            # constraints\n",
    "\n",
    "            # base constraints\n",
    "            add_base_constraints(model, variables)\n",
    "\n",
    "            # moment constraint\n",
    "            add_moment_constraint(model, variables, extent_OG, moments_OB, beta)\n",
    "\n",
    "            # marginal CME constraints\n",
    "            add_marginal_CME_constraints(model, variables, extent_OG)\n",
    "\n",
    "            # write to file\n",
    "            # model.write(\"./Test-Info/Models/constraint_test_new.lp\")\n",
    "\n",
    "            # optimize: testing feasibility\n",
    "            model.setObjective(0, GRB.MINIMIZE)\n",
    "            model.optimize()\n",
    "            \n",
    "            # get status\n",
    "            status = status_codes[model.status]\n",
    "\n",
    "            print(f\"Model is {status}\")\n",
    "\n",
    "            return status"
   ]
  },
  {
   "cell_type": "code",
   "execution_count": 49,
   "metadata": {},
   "outputs": [],
   "source": [
    "def construct_model_combined_marginal(truncation_OB, truncationM_OB, moments_OB, beta, truncation_OG, extent_OG, i, silent=True, time_limit=300):\n",
    "    \n",
    "    # WLS license\n",
    "    options = json.load(open(\"../../../WLS_credentials.json\"))\n",
    "\n",
    "    # silent\n",
    "    if silent:\n",
    "        options['OutputFlag'] = 0\n",
    "\n",
    "    # environment context\n",
    "    with gp.Env(params=options) as env:\n",
    "\n",
    "        # model context\n",
    "        with gp.Model('test-construction', env=env) as model:\n",
    "\n",
    "            # model settings\n",
    "            model.Params.TimeLimit = time_limit\n",
    "            K = 100\n",
    "\n",
    "            # variables\n",
    "\n",
    "            # marginal stationary distributions: original counts (size = largest original state used + 1)\n",
    "            p1 = model.addMVar(shape=(extent_OG['max_x1_OG'] + 1), vtype=GRB.CONTINUOUS, name=\"p1\", lb=0, ub=1)\n",
    "            p2 = model.addMVar(shape=(extent_OG['max_x2_OG'] + 1), vtype=GRB.CONTINUOUS, name=\"p2\", lb=0, ub=1)\n",
    "\n",
    "            # reaction rate constants\n",
    "            rate_names = ['k_tx_1', 'k_tx_2', 'k_deg_1', 'k_deg_2']\n",
    "            rates = model.addVars(rate_names, vtype=GRB.CONTINUOUS, lb=0, ub=K, name=rate_names)\n",
    "\n",
    "            # moments\n",
    "            E_x1 = model.addVar(vtype=GRB.CONTINUOUS, name=\"E_x1\")\n",
    "            E_x2 = model.addVar(vtype=GRB.CONTINUOUS, name=\"E_x2\")\n",
    "\n",
    "            # collect variables\n",
    "            variables = {\n",
    "                'p1': p1,\n",
    "                'p2': p2,\n",
    "                'k_tx_1': rates['k_tx_1'],\n",
    "                'k_tx_2': rates['k_tx_2'],\n",
    "                'k_deg_1': rates['k_deg_1'],\n",
    "                'k_deg_2': rates['k_deg_2'],\n",
    "                'E_x1': E_x1,\n",
    "                'E_x2': E_x2\n",
    "            }\n",
    "\n",
    "            # constraints\n",
    "\n",
    "            # base constraints\n",
    "            add_base_constraints(model, variables)\n",
    "\n",
    "            # moment constraint\n",
    "            add_moment_constraint(model, variables, extent_OG, moments_OB, beta)\n",
    "\n",
    "            # marginal B constraints\n",
    "            add_marginal_B_constraints(model, variables, truncationM_OB, truncation_OG, i)\n",
    "\n",
    "            # marginal CME constraints\n",
    "            add_marginal_CME_constraints(model, variables, extent_OG)\n",
    "\n",
    "            # write to file\n",
    "            # model.write(\"./Test-Info/Models/constraint_test_new.lp\")\n",
    "\n",
    "            # optimize: testing feasibility\n",
    "            model.setObjective(0, GRB.MINIMIZE)\n",
    "            model.optimize()\n",
    "            \n",
    "            # get status\n",
    "            status = status_codes[model.status]\n",
    "\n",
    "            print(f\"Model is {status}\")\n",
    "\n",
    "            return status"
   ]
  },
  {
   "cell_type": "markdown",
   "metadata": {},
   "source": [
    "### Marginal dataset optimization"
   ]
  },
  {
   "cell_type": "code",
   "execution_count": 42,
   "metadata": {},
   "outputs": [],
   "source": [
    "def dataset_analysis_probabilities_marginal(truncation_OB, truncationM_OB, truncation_OG, extent_OG, time_limit=300):\n",
    "\n",
    "    # store results\n",
    "    result_dict = {}\n",
    "\n",
    "    # loop over samples in dataset\n",
    "    for i, sample in enumerate(truncation_OB.keys()):\n",
    "\n",
    "        # test feasibility\n",
    "        status = construct_model_probabilities_marginal(\n",
    "            truncation_OB[sample],\n",
    "            truncationM_OB[sample],\n",
    "            truncation_OG,\n",
    "            extent_OG[sample],\n",
    "            i,\n",
    "            time_limit=time_limit\n",
    "        )\n",
    "\n",
    "        # record status\n",
    "        result_dict[i] = status\n",
    "\n",
    "    return result_dict"
   ]
  },
  {
   "cell_type": "code",
   "execution_count": 43,
   "metadata": {},
   "outputs": [],
   "source": [
    "def dataset_analysis_moments_marginal(beta, moments_OB, extent_OG, time_limit=300):\n",
    "\n",
    "    # store results\n",
    "    result_dict = {}\n",
    "\n",
    "    # loop over samples in dataset\n",
    "    for i, sample in enumerate(truncation_OB.keys()):\n",
    "\n",
    "        # test feasibility\n",
    "        status = construct_model_moments_marginal(\n",
    "            moments_OB[sample],\n",
    "            beta,\n",
    "            extent_OG[sample],\n",
    "            time_limit=time_limit\n",
    "        )\n",
    "\n",
    "        # record status\n",
    "        result_dict[i] = status\n",
    "\n",
    "    return result_dict"
   ]
  },
  {
   "cell_type": "code",
   "execution_count": 44,
   "metadata": {},
   "outputs": [],
   "source": [
    "def dataset_analysis_combined_marginal(truncation_OB, truncationM_OB, moments_OB, beta, truncation_OG, extent_OG, time_limit=300):\n",
    "\n",
    "    # store results\n",
    "    result_dict = {}\n",
    "\n",
    "    # loop over samples in dataset\n",
    "    for i, sample in enumerate(truncation_OB.keys()):\n",
    "\n",
    "        # test feasibility\n",
    "        status = construct_model_combined_marginal(\n",
    "            truncation_OB[sample],\n",
    "            truncationM_OB[sample],\n",
    "            moments_OB[sample],\n",
    "            beta,\n",
    "            truncation_OG,\n",
    "            extent_OG[sample],\n",
    "            i,\n",
    "            time_limit=time_limit\n",
    "        )\n",
    "\n",
    "        # record status\n",
    "        result_dict[i] = status\n",
    "\n",
    "    return result_dict"
   ]
  },
  {
   "cell_type": "markdown",
   "metadata": {},
   "source": [
    "## Running"
   ]
  },
  {
   "cell_type": "markdown",
   "metadata": {},
   "source": [
    "### High capture"
   ]
  },
  {
   "cell_type": "code",
   "execution_count": 45,
   "metadata": {},
   "outputs": [],
   "source": [
    "# load\n",
    "dataset = pd.read_csv(\"./Test-Info/Data/counts_unif_high.csv\", index_col=0)\n",
    "beta = np.loadtxt(\"./Test-Info/Data/beta_unif_high.csv\")"
   ]
  },
  {
   "cell_type": "code",
   "execution_count": 54,
   "metadata": {},
   "outputs": [
    {
     "name": "stderr",
     "output_type": "stream",
     "text": [
      "  0%|          | 0/9 [00:00<?, ?it/s]"
     ]
    },
    {
     "name": "stderr",
     "output_type": "stream",
     "text": [
      "100%|██████████| 9/9 [00:00<00:00, 13.94it/s]\n"
     ]
    },
    {
     "data": {
      "image/png": "[encoded data removed]",
      "text/plain": [
       "<Figure size 600x300 with 2 Axes>"
      ]
     },
     "metadata": {},
     "output_type": "display_data"
    },
    {
     "name": "stderr",
     "output_type": "stream",
     "text": [
      "100%|██████████| 5/5 [00:00<00:00, 455.67it/s]\n",
      "100%|██████████| 5/5 [00:00<00:00, 500.02it/s]\n",
      "100%|██████████| 16/16 [00:00<00:00, 2291.42it/s]\n"
     ]
    }
   ],
   "source": [
    "# process\n",
    "truncation_OB, truncationM_OB, moments_OB, truncation_OG, extent_OG = dataset_processing(dataset, beta)"
   ]
  },
  {
   "cell_type": "code",
   "execution_count": 55,
   "metadata": {},
   "outputs": [
    {
     "name": "stdout",
     "output_type": "stream",
     "text": [
      "Model is INFEASIBLE\n",
      "Model is INFEASIBLE\n",
      "Model is OPTIMAL\n",
      "Model is OPTIMAL\n",
      "Model is OPTIMAL\n",
      "Model is OPTIMAL\n",
      "Model is OPTIMAL\n",
      "Model is OPTIMAL\n",
      "Model is INFEASIBLE\n"
     ]
    }
   ],
   "source": [
    "# probability (marginal)\n",
    "prob_results = dataset_analysis_probabilities_marginal(truncation_OB, truncationM_OB, truncation_OG, extent_OG)"
   ]
  },
  {
   "cell_type": "code",
   "execution_count": 56,
   "metadata": {},
   "outputs": [
    {
     "name": "stdout",
     "output_type": "stream",
     "text": [
      "Model is INFEASIBLE\n",
      "Model is INFEASIBLE\n",
      "Model is INFEASIBLE\n",
      "Model is INFEASIBLE\n",
      "Model is OPTIMAL\n",
      "Model is OPTIMAL\n",
      "Model is OPTIMAL\n",
      "Model is OPTIMAL\n",
      "Model is OPTIMAL\n"
     ]
    }
   ],
   "source": [
    "# moment (marginal)\n",
    "moment_results = dataset_analysis_moments_marginal(beta, moments_OB, extent_OG)"
   ]
  },
  {
   "cell_type": "code",
   "execution_count": 57,
   "metadata": {},
   "outputs": [
    {
     "name": "stdout",
     "output_type": "stream",
     "text": [
      "Model is INFEASIBLE\n",
      "Model is INFEASIBLE\n",
      "Model is INFEASIBLE\n",
      "Model is INFEASIBLE\n",
      "Model is OPTIMAL\n",
      "Model is OPTIMAL\n",
      "Model is OPTIMAL\n",
      "Model is OPTIMAL\n",
      "Model is INFEASIBLE\n"
     ]
    }
   ],
   "source": [
    "# combined (marginal)\n",
    "combined_results = dataset_analysis_combined_marginal(truncation_OB, truncationM_OB, moments_OB, beta, truncation_OG, extent_OG)"
   ]
  },
  {
   "cell_type": "code",
   "execution_count": 58,
   "metadata": {},
   "outputs": [
    {
     "name": "stdout",
     "output_type": "stream",
     "text": [
      "sample 0 p-value: 3.2729801590552267e-18\n",
      "sample 1 p-value: 1.1818801223547127e-13\n",
      "sample 2 p-value: 5.042067307960625e-13\n",
      "sample 3 p-value: 9.008611059098091e-08\n",
      "sample 4 p-value: 5.486440537490913e-07\n",
      "sample 5 p-value: 0.0002883880888745021\n",
      "sample 6 p-value: 0.00876643676789739\n",
      "sample 7 p-value: 0.02335663554498452\n",
      "sample 8 p-value: 0.8278621750972538\n"
     ]
    }
   ],
   "source": [
    "# correlation (reference)\n",
    "corr_results = dataset_analysis_correlation(dataset)"
   ]
  },
  {
   "cell_type": "markdown",
   "metadata": {},
   "source": [
    "### Medium capture"
   ]
  },
  {
   "cell_type": "code",
   "execution_count": 59,
   "metadata": {},
   "outputs": [],
   "source": [
    "# load\n",
    "dataset = pd.read_csv(\"./Test-Info/Data/counts_unif_med.csv\", index_col=0)\n",
    "beta = np.loadtxt(\"./Test-Info/Data/beta_unif_med.csv\")"
   ]
  },
  {
   "cell_type": "code",
   "execution_count": 60,
   "metadata": {},
   "outputs": [
    {
     "name": "stderr",
     "output_type": "stream",
     "text": [
      "100%|██████████| 9/9 [00:00<00:00, 14.43it/s]\n"
     ]
    },
    {
     "data": {
      "image/png": "[encoded data removed]",
      "text/plain": [
       "<Figure size 600x300 with 2 Axes>"
      ]
     },
     "metadata": {},
     "output_type": "display_data"
    },
    {
     "name": "stderr",
     "output_type": "stream",
     "text": [
      "100%|██████████| 4/4 [00:00<00:00, 134.03it/s]\n",
      "100%|██████████| 4/4 [00:00<00:00, 211.06it/s]\n",
      "100%|██████████| 15/15 [00:00<00:00, 544.68it/s]\n"
     ]
    }
   ],
   "source": [
    "# process\n",
    "truncation_OB, truncationM_OB, moments_OB, truncation_OG, extent_OG = dataset_processing(dataset, beta)"
   ]
  },
  {
   "cell_type": "code",
   "execution_count": 61,
   "metadata": {},
   "outputs": [
    {
     "name": "stdout",
     "output_type": "stream",
     "text": [
      "Model is OPTIMAL\n",
      "Model is OPTIMAL\n",
      "Model is OPTIMAL\n",
      "Model is OPTIMAL\n",
      "Model is OPTIMAL\n",
      "Model is OPTIMAL\n",
      "Model is OPTIMAL\n",
      "Model is OPTIMAL\n",
      "Model is OPTIMAL\n"
     ]
    }
   ],
   "source": [
    "# probability (marginal)\n",
    "prob_results = dataset_analysis_probabilities_marginal(truncation_OB, truncationM_OB, truncation_OG, extent_OG)"
   ]
  },
  {
   "cell_type": "code",
   "execution_count": 62,
   "metadata": {},
   "outputs": [
    {
     "name": "stdout",
     "output_type": "stream",
     "text": [
      "Model is INFEASIBLE\n",
      "Model is INFEASIBLE\n",
      "Model is INFEASIBLE\n",
      "Model is OPTIMAL\n",
      "Model is OPTIMAL\n",
      "Model is OPTIMAL\n",
      "Model is OPTIMAL\n",
      "Model is OPTIMAL\n",
      "Model is OPTIMAL\n"
     ]
    }
   ],
   "source": [
    "# moment (marginal)\n",
    "moment_results = dataset_analysis_moments_marginal(beta, moments_OB, extent_OG)"
   ]
  },
  {
   "cell_type": "code",
   "execution_count": 63,
   "metadata": {},
   "outputs": [
    {
     "name": "stdout",
     "output_type": "stream",
     "text": [
      "Model is INFEASIBLE\n",
      "Model is INFEASIBLE\n",
      "Model is INFEASIBLE\n",
      "Model is OPTIMAL\n",
      "Model is OPTIMAL\n",
      "Model is OPTIMAL\n",
      "Model is OPTIMAL\n",
      "Model is OPTIMAL\n",
      "Model is OPTIMAL\n"
     ]
    }
   ],
   "source": [
    "# combined (marginal)\n",
    "combined_results = dataset_analysis_combined_marginal(truncation_OB, truncationM_OB, moments_OB, beta, truncation_OG, extent_OG)"
   ]
  },
  {
   "cell_type": "code",
   "execution_count": 64,
   "metadata": {},
   "outputs": [
    {
     "name": "stdout",
     "output_type": "stream",
     "text": [
      "sample 0 p-value: 4.721723003002662e-08\n",
      "sample 1 p-value: 1.6687679797083203e-05\n",
      "sample 2 p-value: 7.870966779883357e-06\n",
      "sample 3 p-value: 0.1165844749669706\n",
      "sample 4 p-value: 0.0022143298818704774\n",
      "sample 5 p-value: 0.006908330376833126\n",
      "sample 6 p-value: 0.15576746097762842\n",
      "sample 7 p-value: 0.3011104179337129\n",
      "sample 8 p-value: 0.9703279324620564\n"
     ]
    }
   ],
   "source": [
    "# correlation (reference)\n",
    "corr_results = dataset_analysis_correlation(dataset)"
   ]
  },
  {
   "cell_type": "markdown",
   "metadata": {},
   "source": [
    "### Low capture"
   ]
  },
  {
   "cell_type": "code",
   "execution_count": 65,
   "metadata": {},
   "outputs": [],
   "source": [
    "# load\n",
    "dataset = pd.read_csv(\"./Test-Info/Data/counts_unif_low.csv\", index_col=0)\n",
    "beta = np.loadtxt(\"./Test-Info/Data/beta_unif_low.csv\")"
   ]
  },
  {
   "cell_type": "code",
   "execution_count": 66,
   "metadata": {},
   "outputs": [
    {
     "name": "stderr",
     "output_type": "stream",
     "text": [
      "100%|██████████| 9/9 [00:00<00:00, 14.82it/s]\n"
     ]
    },
    {
     "data": {
      "image/png": "[encoded data removed]",
      "text/plain": [
       "<Figure size 600x300 with 2 Axes>"
      ]
     },
     "metadata": {},
     "output_type": "display_data"
    },
    {
     "name": "stderr",
     "output_type": "stream",
     "text": [
      "100%|██████████| 3/3 [00:00<00:00, 34.56it/s]\n",
      "100%|██████████| 3/3 [00:00<00:00, 51.82it/s]\n",
      "100%|██████████| 9/9 [00:00<00:00, 83.07it/s]\n"
     ]
    }
   ],
   "source": [
    "# process\n",
    "truncation_OB, truncationM_OB, moments_OB, truncation_OG, extent_OG = dataset_processing(dataset, beta)"
   ]
  },
  {
   "cell_type": "code",
   "execution_count": 67,
   "metadata": {},
   "outputs": [
    {
     "name": "stdout",
     "output_type": "stream",
     "text": [
      "Model is OPTIMAL\n",
      "Model is OPTIMAL\n",
      "Model is OPTIMAL\n",
      "Model is OPTIMAL\n",
      "Model is OPTIMAL\n",
      "Model is OPTIMAL\n",
      "Model is OPTIMAL\n",
      "Model is OPTIMAL\n",
      "Model is OPTIMAL\n"
     ]
    }
   ],
   "source": [
    "# probability (marginal)\n",
    "prob_results = dataset_analysis_probabilities_marginal(truncation_OB, truncationM_OB, truncation_OG, extent_OG)"
   ]
  },
  {
   "cell_type": "code",
   "execution_count": 68,
   "metadata": {},
   "outputs": [
    {
     "name": "stdout",
     "output_type": "stream",
     "text": [
      "Model is OPTIMAL\n",
      "Model is OPTIMAL\n",
      "Model is OPTIMAL\n",
      "Model is OPTIMAL\n",
      "Model is OPTIMAL\n",
      "Model is OPTIMAL\n",
      "Model is OPTIMAL\n",
      "Model is OPTIMAL\n",
      "Model is OPTIMAL\n"
     ]
    }
   ],
   "source": [
    "# moment (marginal)\n",
    "moment_results = dataset_analysis_moments_marginal(beta, moments_OB, extent_OG)"
   ]
  },
  {
   "cell_type": "code",
   "execution_count": 69,
   "metadata": {},
   "outputs": [
    {
     "name": "stdout",
     "output_type": "stream",
     "text": [
      "Model is OPTIMAL\n",
      "Model is OPTIMAL\n",
      "Model is OPTIMAL\n",
      "Model is OPTIMAL\n",
      "Model is OPTIMAL\n",
      "Model is OPTIMAL\n",
      "Model is OPTIMAL\n",
      "Model is OPTIMAL\n",
      "Model is OPTIMAL\n"
     ]
    }
   ],
   "source": [
    "# combined (marginal)\n",
    "combined_results = dataset_analysis_combined_marginal(truncation_OB, truncationM_OB, moments_OB, beta, truncation_OG, extent_OG)"
   ]
  },
  {
   "cell_type": "code",
   "execution_count": 70,
   "metadata": {},
   "outputs": [
    {
     "name": "stdout",
     "output_type": "stream",
     "text": [
      "sample 0 p-value: 0.0328698614367237\n",
      "sample 1 p-value: 0.05603504874622022\n",
      "sample 2 p-value: 0.04448852321781229\n",
      "sample 3 p-value: 0.28645736537300476\n",
      "sample 4 p-value: 0.6427315819539003\n",
      "sample 5 p-value: 0.6221576922831449\n",
      "sample 6 p-value: 0.2789604023995482\n",
      "sample 7 p-value: 0.024040301556419723\n",
      "sample 8 p-value: 0.4944234423041009\n"
     ]
    }
   ],
   "source": [
    "# correlation (reference)\n",
    "corr_results = dataset_analysis_correlation(dataset)"
   ]
  }
 ],
 "metadata": {
  "kernelspec": {
   "display_name": "M5R_venv",
   "language": "python",
   "name": "python3"
  },
  "language_info": {
   "codemirror_mode": {
    "name": "ipython",
    "version": 3
   },
   "file_extension": ".py",
   "mimetype": "text/x-python",
   "name": "python",
   "nbconvert_exporter": "python",
   "pygments_lexer": "ipython3",
   "version": "3.12.2"
  }
 },
 "nbformat": 4,
 "nbformat_minor": 2
}
