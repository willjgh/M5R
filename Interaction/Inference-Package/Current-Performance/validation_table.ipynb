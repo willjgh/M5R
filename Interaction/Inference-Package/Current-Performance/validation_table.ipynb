{
 "cells": [
  {
   "cell_type": "code",
   "execution_count": 3,
   "id": "33830c91",
   "metadata": {},
   "outputs": [],
   "source": [
    "from interaction_inference.simulation import gillespie_birth_death, gillespie_telegraph\n",
    "from interaction_inference.optimization import Optimization\n",
    "from interaction_inference.constraints import Constraint\n",
    "from interaction_inference.dataset import Dataset\n",
    "import numpy as np\n",
    "import pandas as pd"
   ]
  },
  {
   "cell_type": "code",
   "execution_count": 4,
   "id": "c00557d6",
   "metadata": {},
   "outputs": [],
   "source": [
    "rng = np.random.default_rng(7)"
   ]
  },
  {
   "cell_type": "code",
   "execution_count": 5,
   "id": "685508a3",
   "metadata": {},
   "outputs": [],
   "source": [
    "def simulate_dataset(on_rate=0.5, off_rate=0.5, tx_rate=5, int_str=10, cells=1000, mean_capture=1):\n",
    "\n",
    "    # independent birth-death model\n",
    "    ind_BD_params = {\n",
    "        'k_tx_1': tx_rate,\n",
    "        'k_tx_2': tx_rate,\n",
    "        'k_deg_1': 1,\n",
    "        'k_deg_2': 1,\n",
    "        'k_reg': 0\n",
    "    }\n",
    "\n",
    "    # interacting birth-death model\n",
    "    int_BD_params = {\n",
    "        'k_tx_1': tx_rate,\n",
    "        'k_tx_2': tx_rate,\n",
    "        'k_deg_1': 1,\n",
    "        'k_deg_2': 1,\n",
    "        'k_reg': int_str\n",
    "    }\n",
    "\n",
    "    # independent telegraph model\n",
    "    ind_TE_params = {\n",
    "        'k_on_1': on_rate,\n",
    "        'k_on_2': on_rate,\n",
    "        'k_off_1': off_rate,\n",
    "        'k_off_2': off_rate,\n",
    "        'k_tx_1': tx_rate,\n",
    "        'k_tx_2': tx_rate,\n",
    "        'k_deg_1': 1,\n",
    "        'k_deg_2': 1,\n",
    "        'k_reg': 0\n",
    "    }\n",
    "\n",
    "    # interacting telegraph model\n",
    "    int_TE_params = {\n",
    "        'k_on_1': on_rate,\n",
    "        'k_on_2': on_rate,\n",
    "        'k_off_1': off_rate,\n",
    "        'k_off_2': off_rate,\n",
    "        'k_tx_1': tx_rate,\n",
    "        'k_tx_2': tx_rate,\n",
    "        'k_deg_1': 1,\n",
    "        'k_deg_2': 1,\n",
    "        'k_reg': int_str\n",
    "    }\n",
    "\n",
    "    # dataframe\n",
    "    counts_df = pd.DataFrame(index=[f\"Gene-pair-{i}\" for i in range(4)], columns=[f\"Cell-{j}\" for j in range(cells)])\n",
    "\n",
    "    # simulate\n",
    "    counts_df.iloc[0] = gillespie_birth_death(ind_BD_params, cells)\n",
    "    counts_df.iloc[1] = gillespie_birth_death(int_BD_params, cells)\n",
    "    counts_df.iloc[2] = gillespie_telegraph(ind_TE_params, cells)\n",
    "    counts_df.iloc[3] = gillespie_telegraph(int_TE_params, cells)\n",
    "\n",
    "    # construct dataset object\n",
    "    data = Dataset(\"table\")\n",
    "\n",
    "    # store information\n",
    "    data.count_dataset = counts_df\n",
    "    data.cells = cells\n",
    "    data.gene_pairs = 4\n",
    "    data.beta = np.array([1.0 for j in range(cells)])\n",
    "\n",
    "    #downsample\n",
    "\n",
    "    # beta parameter\n",
    "    b = (1 / mean_capture) - 1\n",
    "\n",
    "    # capture vector\n",
    "    if b == 0:\n",
    "        beta = np.ones(cells)\n",
    "    else:\n",
    "        beta = rng.beta(1, b, size=cells)\n",
    "\n",
    "    # downsample\n",
    "    data = data.downsample(\"table\", beta)\n",
    "\n",
    "    # bootstrap\n",
    "    data.bootstrap_marginal_fm(tqdm_disable=False)\n",
    "    data.bootstrap_joint_fm(tqdm_disable=False)\n",
    "    data.bootstrap_marginal_probabilities(tqdm_disable=False)\n",
    "    data.bootstrap_joint_probabilities(tqdm_disable=False)\n",
    "\n",
    "    return data"
   ]
  },
  {
   "cell_type": "code",
   "execution_count": 6,
   "id": "4923955c",
   "metadata": {},
   "outputs": [],
   "source": [
    "def result_format(opt):\n",
    "    result = []\n",
    "    for res in opt.result_dict.values():\n",
    "        if res['status'] == \"OPTIMAL\":\n",
    "            result.append(\"FEASIBLE\")\n",
    "        elif res['status'] == \"INFEASIBLE\":\n",
    "            result.append(\"INFEASIBLE\")\n",
    "        else:\n",
    "            result.append(\"ERROR\")\n",
    "    return result"
   ]
  },
  {
   "cell_type": "code",
   "execution_count": 7,
   "id": "25081e69",
   "metadata": {},
   "outputs": [],
   "source": [
    "def _color_red_or_green(val):\n",
    "    if val == \"FEASIBLE\":\n",
    "        color = 'green'\n",
    "    elif val == \"INFEASIBLE\":\n",
    "        color = 'red'\n",
    "    else:\n",
    "        color = 'white'\n",
    "    return 'color: %s' % color"
   ]
  },
  {
   "cell_type": "code",
   "execution_count": 8,
   "id": "5b20238e",
   "metadata": {},
   "outputs": [],
   "source": [
    "def optimize_dataset_downsampled(data, T=300):\n",
    "\n",
    "    ind_BD_constraints = Constraint(\n",
    "        downsampled_probability=True,\n",
    "        downsampled_CME=True,\n",
    "        k_reg=True,\n",
    "        k_deg_1=True\n",
    "    )\n",
    "\n",
    "    ind_BD_optimization = Optimization(data, ind_BD_constraints, tqdm_disable=False, print_solution=False, time_limit=T)\n",
    "\n",
    "    int_BD_constraints = Constraint(\n",
    "        downsampled_probability=True,\n",
    "        downsampled_CME=True,\n",
    "        k_deg_1=True\n",
    "    )\n",
    "\n",
    "    int_BD_optimization = Optimization(data, int_BD_constraints, tqdm_disable=False, print_solution=False, time_limit=T)\n",
    "\n",
    "    ind_TE_constraints = Constraint(\n",
    "        downsampled_probability=True,\n",
    "        downsampled_CME_TE=True,\n",
    "        downsampled_TE_link=True,\n",
    "        k_reg=True,\n",
    "        k_deg_1=True\n",
    "    )\n",
    "\n",
    "    ind_TE_optimization = Optimization(data, ind_TE_constraints, tqdm_disable=False, print_solution=False, time_limit=T)\n",
    "\n",
    "    int_TE_constraints = Constraint(\n",
    "        downsampled_probability=True,\n",
    "        downsampled_CME_TE=True,\n",
    "        downsampled_TE_link=True,\n",
    "        k_deg_1=True\n",
    "    )\n",
    "\n",
    "    int_TE_optimization = Optimization(data, int_TE_constraints, tqdm_disable=False, print_solution=False, time_limit=T)\n",
    "\n",
    "    # result dataframe\n",
    "    col_names = [\"Ind. BD model\", \"Int. BD model\", \"Ind. TE model\", \"Int. TE model\"]\n",
    "    row_names = [\"Ind. BD data\", \"Int. BD data\", \"Ind. TE data\", \"Int. TE data\"]\n",
    "    result_df = pd.DataFrame(index=row_names, columns=col_names)\n",
    "\n",
    "    # fill\n",
    "    result_df[\"Ind. BD model\"] = result_format(ind_BD_optimization)\n",
    "    result_df[\"Int. BD model\"] = result_format(int_BD_optimization)\n",
    "    result_df[\"Ind. TE model\"] = result_format(ind_TE_optimization)\n",
    "    result_df[\"Int. TE model\"] = result_format(int_TE_optimization)\n",
    "\n",
    "    return result_df.style.map(_color_red_or_green)"
   ]
  },
  {
   "cell_type": "code",
   "execution_count": 9,
   "id": "370beb6b",
   "metadata": {},
   "outputs": [],
   "source": [
    "def optimize_dataset_B(data, joint=False, T=300, joint_models=True):\n",
    "    '''\n",
    "    joint: toggle factorized joint probabilities for independent models\n",
    "    '''\n",
    "\n",
    "    data.compute_probabilities(display=True, tqdm_disable=False)\n",
    "\n",
    "    ind_BD_constraints = Constraint(\n",
    "        joint_probability=joint,\n",
    "        factorization=joint,\n",
    "        marginal_probability_1=True,\n",
    "        marginal_probability_2=True,\n",
    "        marginal_CME_1=True,\n",
    "        marginal_CME_2=True,\n",
    "        k_deg_1=True,\n",
    "        k_deg_2=True\n",
    "    )\n",
    "\n",
    "    ind_BD_optimization = Optimization(data, ind_BD_constraints, tqdm_disable=False, print_solution=False, time_limit=T)\n",
    "\n",
    "    if joint_models:\n",
    "        int_BD_constraints = Constraint(\n",
    "            joint_probability=True,\n",
    "            CME=True,\n",
    "            k_deg_1=True\n",
    "        )\n",
    "        \n",
    "        int_BD_optimization = Optimization(data, int_BD_constraints, tqdm_disable=False, print_solution=False, time_limit=T)\n",
    "\n",
    "    ind_TE_constraints = Constraint(\n",
    "        joint_probability=joint,\n",
    "        factorization=joint,\n",
    "        marginal_probability_1=True,\n",
    "        marginal_probability_2=True,\n",
    "        marginal_TE_equality=True,\n",
    "        marginal_CME_TE=True,\n",
    "        k_deg_1=True,\n",
    "        k_deg_2=True\n",
    "    ) \n",
    "\n",
    "    ind_TE_optimization = Optimization(data, ind_TE_constraints, tqdm_disable=False, print_solution=False, time_limit=T)\n",
    "\n",
    "    if joint_models:\n",
    "        int_TE_constraints = Constraint(\n",
    "            joint_probability=True,\n",
    "            TE_equality=True,\n",
    "            CME_TE=True,\n",
    "            k_deg_1=True\n",
    "\n",
    "        )\n",
    "\n",
    "        int_TE_optimization = Optimization(data, int_TE_constraints, tqdm_disable=False, print_solution=False, time_limit=T)\n",
    "\n",
    "    # result dataframe\n",
    "    col_names = [\"Ind. BD model\", \"Int. BD model\", \"Ind. TE model\", \"Int. TE model\"]\n",
    "    row_names = [\"Ind. BD data\", \"Int. BD data\", \"Ind. TE data\", \"Int. TE data\"]\n",
    "    result_df = pd.DataFrame(index=row_names, columns=col_names)\n",
    "\n",
    "    # fill\n",
    "    result_df[\"Ind. BD model\"] = result_format(ind_BD_optimization)\n",
    "    if joint_models:\n",
    "        result_df[\"Int. BD model\"] = result_format(int_BD_optimization)\n",
    "    else:\n",
    "        result_df[\"Int. BD model\"] = \"N/A\"\n",
    "    result_df[\"Ind. TE model\"] = result_format(ind_TE_optimization)\n",
    "    if joint_models:\n",
    "        result_df[\"Int. TE model\"] = result_format(int_TE_optimization)\n",
    "    else:\n",
    "        result_df[\"Int. TE model\"] = \"N/A\"\n",
    "\n",
    "    return result_df.style.map(_color_red_or_green)"
   ]
  },
  {
   "cell_type": "markdown",
   "id": "bdf6d460",
   "metadata": {},
   "source": [
    "# 100% capture"
   ]
  },
  {
   "cell_type": "code",
   "execution_count": 8,
   "id": "f4a77d9d",
   "metadata": {},
   "outputs": [
    {
     "name": "stderr",
     "output_type": "stream",
     "text": [
      "100%|██████████| 4/4 [00:00<00:00, 47.01it/s]\n",
      "100%|██████████| 4/4 [00:00<00:00, 39.82it/s]\n",
      "100%|██████████| 4/4 [00:00<00:00, 39.93it/s]\n",
      "100%|██████████| 4/4 [00:00<00:00, 58.64it/s]\n"
     ]
    }
   ],
   "source": [
    "data = simulate_dataset(\n",
    "    on_rate=0.5,\n",
    "    off_rate=0.5,\n",
    "    tx_rate=5,\n",
    "    int_str=10,\n",
    "    cells=1000,\n",
    "    mean_capture=1\n",
    ")"
   ]
  },
  {
   "cell_type": "code",
   "execution_count": 9,
   "id": "2ed19567",
   "metadata": {},
   "outputs": [
    {
     "name": "stderr",
     "output_type": "stream",
     "text": [
      "100%|██████████| 4/4 [00:00<00:00,  6.77it/s]\n",
      "100%|██████████| 4/4 [00:02<00:00,  1.48it/s]\n",
      "100%|██████████| 4/4 [03:24<00:00, 51.14s/it] \n",
      "100%|██████████| 4/4 [00:03<00:00,  1.17it/s]\n"
     ]
    }
   ],
   "source": [
    "result_downsampled = optimize_dataset_downsampled(data)"
   ]
  },
  {
   "cell_type": "code",
   "execution_count": 11,
   "id": "264b481e",
   "metadata": {},
   "outputs": [
    {
     "name": "stderr",
     "output_type": "stream",
     "text": [
      "100%|██████████| 4/4 [00:00<00:00, 53.01it/s]\n"
     ]
    },
    {
     "data": {
      "image/png": "[encoded data removed]",
      "text/plain": [
       "<Figure size 600x300 with 2 Axes>"
      ]
     },
     "metadata": {},
     "output_type": "display_data"
    },
    {
     "name": "stderr",
     "output_type": "stream",
     "text": [
      "100%|██████████| 12/12 [00:00<00:00, 40.71it/s]\n",
      "100%|██████████| 12/12 [00:00<?, ?it/s]\n",
      "100%|██████████| 82/82 [00:00<00:00, 1445.83it/s]\n",
      "100%|██████████| 4/4 [00:00<00:00, 38.19it/s]\n",
      "100%|██████████| 4/4 [00:02<00:00,  1.49it/s]\n",
      "100%|██████████| 4/4 [00:00<00:00, 34.31it/s]\n",
      "100%|██████████| 4/4 [00:20<00:00,  5.09s/it]\n"
     ]
    }
   ],
   "source": [
    "result_B = optimize_dataset_B(data)"
   ]
  },
  {
   "cell_type": "code",
   "execution_count": 14,
   "id": "f160e16a",
   "metadata": {},
   "outputs": [
    {
     "name": "stderr",
     "output_type": "stream",
     "text": [
      "100%|██████████| 4/4 [00:00<00:00, 49.42it/s]\n"
     ]
    },
    {
     "data": {
      "image/png": "[encoded data removed]",
      "text/plain": [
       "<Figure size 600x300 with 2 Axes>"
      ]
     },
     "metadata": {},
     "output_type": "display_data"
    },
    {
     "name": "stderr",
     "output_type": "stream",
     "text": [
      "100%|██████████| 12/12 [00:00<00:00, 2449.47it/s]\n",
      "100%|██████████| 12/12 [00:00<00:00, 834.01it/s]\n",
      "100%|██████████| 82/82 [00:00<00:00, 903.84it/s]\n",
      "100%|██████████| 4/4 [00:00<00:00,  8.73it/s]\n",
      "100%|██████████| 4/4 [00:02<00:00,  1.51it/s]\n",
      "100%|██████████| 4/4 [00:00<00:00, 11.55it/s]\n",
      "100%|██████████| 4/4 [00:21<00:00,  5.50s/it]\n"
     ]
    }
   ],
   "source": [
    "result_B_joint = optimize_dataset_B(data, joint=True)"
   ]
  },
  {
   "cell_type": "markdown",
   "id": "7ca62867",
   "metadata": {},
   "source": [
    "## Results"
   ]
  },
  {
   "cell_type": "code",
   "execution_count": 10,
   "id": "f0b77bf1",
   "metadata": {},
   "outputs": [
    {
     "data": {
      "text/html": [
       "<style type=\"text/css\">\n",
       "#T_aff9c_row0_col0, #T_aff9c_row0_col1, #T_aff9c_row0_col2, #T_aff9c_row0_col3, #T_aff9c_row1_col1, #T_aff9c_row1_col2, #T_aff9c_row1_col3, #T_aff9c_row2_col2, #T_aff9c_row2_col3, #T_aff9c_row3_col2, #T_aff9c_row3_col3 {\n",
       "  color: green;\n",
       "}\n",
       "#T_aff9c_row1_col0, #T_aff9c_row2_col0, #T_aff9c_row2_col1, #T_aff9c_row3_col0, #T_aff9c_row3_col1 {\n",
       "  color: red;\n",
       "}\n",
       "</style>\n",
       "<table id=\"T_aff9c\">\n",
       "  <thead>\n",
       "    <tr>\n",
       "      <th class=\"blank level0\" >&nbsp;</th>\n",
       "      <th id=\"T_aff9c_level0_col0\" class=\"col_heading level0 col0\" >Ind. BD model</th>\n",
       "      <th id=\"T_aff9c_level0_col1\" class=\"col_heading level0 col1\" >Int. BD model</th>\n",
       "      <th id=\"T_aff9c_level0_col2\" class=\"col_heading level0 col2\" >Ind. TE model</th>\n",
       "      <th id=\"T_aff9c_level0_col3\" class=\"col_heading level0 col3\" >Int. TE model</th>\n",
       "    </tr>\n",
       "  </thead>\n",
       "  <tbody>\n",
       "    <tr>\n",
       "      <th id=\"T_aff9c_level0_row0\" class=\"row_heading level0 row0\" >Ind. BD data</th>\n",
       "      <td id=\"T_aff9c_row0_col0\" class=\"data row0 col0\" >FEASIBLE</td>\n",
       "      <td id=\"T_aff9c_row0_col1\" class=\"data row0 col1\" >FEASIBLE</td>\n",
       "      <td id=\"T_aff9c_row0_col2\" class=\"data row0 col2\" >FEASIBLE</td>\n",
       "      <td id=\"T_aff9c_row0_col3\" class=\"data row0 col3\" >FEASIBLE</td>\n",
       "    </tr>\n",
       "    <tr>\n",
       "      <th id=\"T_aff9c_level0_row1\" class=\"row_heading level0 row1\" >Int. BD data</th>\n",
       "      <td id=\"T_aff9c_row1_col0\" class=\"data row1 col0\" >INFEASIBLE</td>\n",
       "      <td id=\"T_aff9c_row1_col1\" class=\"data row1 col1\" >FEASIBLE</td>\n",
       "      <td id=\"T_aff9c_row1_col2\" class=\"data row1 col2\" >FEASIBLE</td>\n",
       "      <td id=\"T_aff9c_row1_col3\" class=\"data row1 col3\" >FEASIBLE</td>\n",
       "    </tr>\n",
       "    <tr>\n",
       "      <th id=\"T_aff9c_level0_row2\" class=\"row_heading level0 row2\" >Ind. TE data</th>\n",
       "      <td id=\"T_aff9c_row2_col0\" class=\"data row2 col0\" >INFEASIBLE</td>\n",
       "      <td id=\"T_aff9c_row2_col1\" class=\"data row2 col1\" >INFEASIBLE</td>\n",
       "      <td id=\"T_aff9c_row2_col2\" class=\"data row2 col2\" >FEASIBLE</td>\n",
       "      <td id=\"T_aff9c_row2_col3\" class=\"data row2 col3\" >FEASIBLE</td>\n",
       "    </tr>\n",
       "    <tr>\n",
       "      <th id=\"T_aff9c_level0_row3\" class=\"row_heading level0 row3\" >Int. TE data</th>\n",
       "      <td id=\"T_aff9c_row3_col0\" class=\"data row3 col0\" >INFEASIBLE</td>\n",
       "      <td id=\"T_aff9c_row3_col1\" class=\"data row3 col1\" >INFEASIBLE</td>\n",
       "      <td id=\"T_aff9c_row3_col2\" class=\"data row3 col2\" >FEASIBLE</td>\n",
       "      <td id=\"T_aff9c_row3_col3\" class=\"data row3 col3\" >FEASIBLE</td>\n",
       "    </tr>\n",
       "  </tbody>\n",
       "</table>\n"
      ],
      "text/plain": [
       "<pandas.io.formats.style.Styler at 0x27425e944f0>"
      ]
     },
     "execution_count": 10,
     "metadata": {},
     "output_type": "execute_result"
    }
   ],
   "source": [
    "result_downsampled"
   ]
  },
  {
   "cell_type": "code",
   "execution_count": 15,
   "id": "68e93f61",
   "metadata": {},
   "outputs": [
    {
     "data": {
      "text/html": [
       "<style type=\"text/css\">\n",
       "#T_f0705_row0_col0, #T_f0705_row0_col1, #T_f0705_row0_col2, #T_f0705_row0_col3, #T_f0705_row1_col1, #T_f0705_row1_col3, #T_f0705_row2_col2, #T_f0705_row2_col3, #T_f0705_row3_col3 {\n",
       "  color: green;\n",
       "}\n",
       "#T_f0705_row1_col0, #T_f0705_row1_col2, #T_f0705_row2_col0, #T_f0705_row2_col1, #T_f0705_row3_col0, #T_f0705_row3_col1, #T_f0705_row3_col2 {\n",
       "  color: red;\n",
       "}\n",
       "</style>\n",
       "<table id=\"T_f0705\">\n",
       "  <thead>\n",
       "    <tr>\n",
       "      <th class=\"blank level0\" >&nbsp;</th>\n",
       "      <th id=\"T_f0705_level0_col0\" class=\"col_heading level0 col0\" >Ind. BD model</th>\n",
       "      <th id=\"T_f0705_level0_col1\" class=\"col_heading level0 col1\" >Int. BD model</th>\n",
       "      <th id=\"T_f0705_level0_col2\" class=\"col_heading level0 col2\" >Ind. TE model</th>\n",
       "      <th id=\"T_f0705_level0_col3\" class=\"col_heading level0 col3\" >Int. TE model</th>\n",
       "    </tr>\n",
       "  </thead>\n",
       "  <tbody>\n",
       "    <tr>\n",
       "      <th id=\"T_f0705_level0_row0\" class=\"row_heading level0 row0\" >Ind. BD data</th>\n",
       "      <td id=\"T_f0705_row0_col0\" class=\"data row0 col0\" >FEASIBLE</td>\n",
       "      <td id=\"T_f0705_row0_col1\" class=\"data row0 col1\" >FEASIBLE</td>\n",
       "      <td id=\"T_f0705_row0_col2\" class=\"data row0 col2\" >FEASIBLE</td>\n",
       "      <td id=\"T_f0705_row0_col3\" class=\"data row0 col3\" >FEASIBLE</td>\n",
       "    </tr>\n",
       "    <tr>\n",
       "      <th id=\"T_f0705_level0_row1\" class=\"row_heading level0 row1\" >Int. BD data</th>\n",
       "      <td id=\"T_f0705_row1_col0\" class=\"data row1 col0\" >INFEASIBLE</td>\n",
       "      <td id=\"T_f0705_row1_col1\" class=\"data row1 col1\" >FEASIBLE</td>\n",
       "      <td id=\"T_f0705_row1_col2\" class=\"data row1 col2\" >INFEASIBLE</td>\n",
       "      <td id=\"T_f0705_row1_col3\" class=\"data row1 col3\" >FEASIBLE</td>\n",
       "    </tr>\n",
       "    <tr>\n",
       "      <th id=\"T_f0705_level0_row2\" class=\"row_heading level0 row2\" >Ind. TE data</th>\n",
       "      <td id=\"T_f0705_row2_col0\" class=\"data row2 col0\" >INFEASIBLE</td>\n",
       "      <td id=\"T_f0705_row2_col1\" class=\"data row2 col1\" >INFEASIBLE</td>\n",
       "      <td id=\"T_f0705_row2_col2\" class=\"data row2 col2\" >FEASIBLE</td>\n",
       "      <td id=\"T_f0705_row2_col3\" class=\"data row2 col3\" >FEASIBLE</td>\n",
       "    </tr>\n",
       "    <tr>\n",
       "      <th id=\"T_f0705_level0_row3\" class=\"row_heading level0 row3\" >Int. TE data</th>\n",
       "      <td id=\"T_f0705_row3_col0\" class=\"data row3 col0\" >INFEASIBLE</td>\n",
       "      <td id=\"T_f0705_row3_col1\" class=\"data row3 col1\" >INFEASIBLE</td>\n",
       "      <td id=\"T_f0705_row3_col2\" class=\"data row3 col2\" >INFEASIBLE</td>\n",
       "      <td id=\"T_f0705_row3_col3\" class=\"data row3 col3\" >FEASIBLE</td>\n",
       "    </tr>\n",
       "  </tbody>\n",
       "</table>\n"
      ],
      "text/plain": [
       "<pandas.io.formats.style.Styler at 0x274389fcf40>"
      ]
     },
     "execution_count": 15,
     "metadata": {},
     "output_type": "execute_result"
    }
   ],
   "source": [
    "result_B_joint"
   ]
  },
  {
   "cell_type": "markdown",
   "id": "51c8192f",
   "metadata": {},
   "source": [
    "Without using joint probabilities & factorization in independent models:"
   ]
  },
  {
   "cell_type": "code",
   "execution_count": 16,
   "id": "8612b81a",
   "metadata": {},
   "outputs": [
    {
     "data": {
      "text/html": [
       "<style type=\"text/css\">\n",
       "#T_b38b2_row0_col0, #T_b38b2_row0_col1, #T_b38b2_row0_col2, #T_b38b2_row0_col3, #T_b38b2_row1_col1, #T_b38b2_row1_col2, #T_b38b2_row1_col3, #T_b38b2_row2_col2, #T_b38b2_row2_col3, #T_b38b2_row3_col2, #T_b38b2_row3_col3 {\n",
       "  color: green;\n",
       "}\n",
       "#T_b38b2_row1_col0, #T_b38b2_row2_col0, #T_b38b2_row2_col1, #T_b38b2_row3_col0, #T_b38b2_row3_col1 {\n",
       "  color: red;\n",
       "}\n",
       "</style>\n",
       "<table id=\"T_b38b2\">\n",
       "  <thead>\n",
       "    <tr>\n",
       "      <th class=\"blank level0\" >&nbsp;</th>\n",
       "      <th id=\"T_b38b2_level0_col0\" class=\"col_heading level0 col0\" >Ind. BD model</th>\n",
       "      <th id=\"T_b38b2_level0_col1\" class=\"col_heading level0 col1\" >Int. BD model</th>\n",
       "      <th id=\"T_b38b2_level0_col2\" class=\"col_heading level0 col2\" >Ind. TE model</th>\n",
       "      <th id=\"T_b38b2_level0_col3\" class=\"col_heading level0 col3\" >Int. TE model</th>\n",
       "    </tr>\n",
       "  </thead>\n",
       "  <tbody>\n",
       "    <tr>\n",
       "      <th id=\"T_b38b2_level0_row0\" class=\"row_heading level0 row0\" >Ind. BD data</th>\n",
       "      <td id=\"T_b38b2_row0_col0\" class=\"data row0 col0\" >FEASIBLE</td>\n",
       "      <td id=\"T_b38b2_row0_col1\" class=\"data row0 col1\" >FEASIBLE</td>\n",
       "      <td id=\"T_b38b2_row0_col2\" class=\"data row0 col2\" >FEASIBLE</td>\n",
       "      <td id=\"T_b38b2_row0_col3\" class=\"data row0 col3\" >FEASIBLE</td>\n",
       "    </tr>\n",
       "    <tr>\n",
       "      <th id=\"T_b38b2_level0_row1\" class=\"row_heading level0 row1\" >Int. BD data</th>\n",
       "      <td id=\"T_b38b2_row1_col0\" class=\"data row1 col0\" >INFEASIBLE</td>\n",
       "      <td id=\"T_b38b2_row1_col1\" class=\"data row1 col1\" >FEASIBLE</td>\n",
       "      <td id=\"T_b38b2_row1_col2\" class=\"data row1 col2\" >FEASIBLE</td>\n",
       "      <td id=\"T_b38b2_row1_col3\" class=\"data row1 col3\" >FEASIBLE</td>\n",
       "    </tr>\n",
       "    <tr>\n",
       "      <th id=\"T_b38b2_level0_row2\" class=\"row_heading level0 row2\" >Ind. TE data</th>\n",
       "      <td id=\"T_b38b2_row2_col0\" class=\"data row2 col0\" >INFEASIBLE</td>\n",
       "      <td id=\"T_b38b2_row2_col1\" class=\"data row2 col1\" >INFEASIBLE</td>\n",
       "      <td id=\"T_b38b2_row2_col2\" class=\"data row2 col2\" >FEASIBLE</td>\n",
       "      <td id=\"T_b38b2_row2_col3\" class=\"data row2 col3\" >FEASIBLE</td>\n",
       "    </tr>\n",
       "    <tr>\n",
       "      <th id=\"T_b38b2_level0_row3\" class=\"row_heading level0 row3\" >Int. TE data</th>\n",
       "      <td id=\"T_b38b2_row3_col0\" class=\"data row3 col0\" >INFEASIBLE</td>\n",
       "      <td id=\"T_b38b2_row3_col1\" class=\"data row3 col1\" >INFEASIBLE</td>\n",
       "      <td id=\"T_b38b2_row3_col2\" class=\"data row3 col2\" >FEASIBLE</td>\n",
       "      <td id=\"T_b38b2_row3_col3\" class=\"data row3 col3\" >FEASIBLE</td>\n",
       "    </tr>\n",
       "  </tbody>\n",
       "</table>\n"
      ],
      "text/plain": [
       "<pandas.io.formats.style.Styler at 0x274383963e0>"
      ]
     },
     "execution_count": 16,
     "metadata": {},
     "output_type": "execute_result"
    }
   ],
   "source": [
    "result_B"
   ]
  },
  {
   "cell_type": "markdown",
   "id": "feb12ce1",
   "metadata": {},
   "source": [
    "# 95% capture"
   ]
  },
  {
   "cell_type": "code",
   "execution_count": 34,
   "id": "237d2cec",
   "metadata": {},
   "outputs": [
    {
     "name": "stderr",
     "output_type": "stream",
     "text": [
      "100%|██████████| 4/4 [00:00<00:00, 60.44it/s]\n",
      "100%|██████████| 4/4 [00:00<00:00, 32.35it/s]\n",
      "100%|██████████| 4/4 [00:00<00:00, 34.37it/s]\n",
      "100%|██████████| 4/4 [00:00<00:00, 60.14it/s]\n"
     ]
    }
   ],
   "source": [
    "data_90 = simulate_dataset(\n",
    "    on_rate=0.5,\n",
    "    off_rate=0.5,\n",
    "    tx_rate=5,\n",
    "    int_str=10,\n",
    "    cells=1000,\n",
    "    mean_capture=0.95\n",
    ")"
   ]
  },
  {
   "cell_type": "code",
   "execution_count": 35,
   "id": "f60595c2",
   "metadata": {},
   "outputs": [
    {
     "name": "stderr",
     "output_type": "stream",
     "text": [
      "100%|██████████| 4/4 [00:01<00:00,  2.08it/s]\n",
      "100%|██████████| 4/4 [00:07<00:00,  1.75s/it]\n",
      "100%|██████████| 4/4 [05:02<00:00, 75.74s/it] \n",
      "100%|██████████| 4/4 [00:03<00:00,  1.28it/s]\n"
     ]
    }
   ],
   "source": [
    "result_downsampled_90 = optimize_dataset_downsampled(data_90)"
   ]
  },
  {
   "cell_type": "code",
   "execution_count": 37,
   "id": "47579bc0",
   "metadata": {},
   "outputs": [
    {
     "name": "stderr",
     "output_type": "stream",
     "text": [
      "100%|██████████| 4/4 [00:00<00:00, 55.91it/s]\n"
     ]
    },
    {
     "data": {
      "image/png": "[encoded data removed]",
      "text/plain": [
       "<Figure size 600x300 with 2 Axes>"
      ]
     },
     "metadata": {},
     "output_type": "display_data"
    },
    {
     "name": "stderr",
     "output_type": "stream",
     "text": [
      "100%|██████████| 11/11 [00:01<00:00,  9.08it/s]\n",
      "100%|██████████| 11/11 [00:00<00:00, 13.83it/s]\n",
      "100%|██████████| 77/77 [00:00<00:00, 164.92it/s]\n",
      "100%|██████████| 4/4 [00:02<00:00,  1.87it/s]\n",
      "100%|██████████| 4/4 [03:33<00:00, 53.47s/it]\n"
     ]
    }
   ],
   "source": [
    "result_B_90 = optimize_dataset_B(data_90, joint_models=False)"
   ]
  },
  {
   "cell_type": "code",
   "execution_count": 29,
   "id": "b61d08bc",
   "metadata": {},
   "outputs": [
    {
     "data": {
      "text/html": [
       "<style type=\"text/css\">\n",
       "#T_412e0_row0_col0, #T_412e0_row0_col1, #T_412e0_row0_col2, #T_412e0_row0_col3, #T_412e0_row1_col1, #T_412e0_row1_col2, #T_412e0_row1_col3, #T_412e0_row2_col2, #T_412e0_row2_col3, #T_412e0_row3_col2, #T_412e0_row3_col3 {\n",
       "  color: green;\n",
       "}\n",
       "#T_412e0_row1_col0, #T_412e0_row2_col0, #T_412e0_row2_col1, #T_412e0_row3_col0, #T_412e0_row3_col1 {\n",
       "  color: red;\n",
       "}\n",
       "</style>\n",
       "<table id=\"T_412e0\">\n",
       "  <thead>\n",
       "    <tr>\n",
       "      <th class=\"blank level0\" >&nbsp;</th>\n",
       "      <th id=\"T_412e0_level0_col0\" class=\"col_heading level0 col0\" >Ind. BD model</th>\n",
       "      <th id=\"T_412e0_level0_col1\" class=\"col_heading level0 col1\" >Int. BD model</th>\n",
       "      <th id=\"T_412e0_level0_col2\" class=\"col_heading level0 col2\" >Ind. TE model</th>\n",
       "      <th id=\"T_412e0_level0_col3\" class=\"col_heading level0 col3\" >Int. TE model</th>\n",
       "    </tr>\n",
       "  </thead>\n",
       "  <tbody>\n",
       "    <tr>\n",
       "      <th id=\"T_412e0_level0_row0\" class=\"row_heading level0 row0\" >Ind. BD data</th>\n",
       "      <td id=\"T_412e0_row0_col0\" class=\"data row0 col0\" >FEASIBLE</td>\n",
       "      <td id=\"T_412e0_row0_col1\" class=\"data row0 col1\" >FEASIBLE</td>\n",
       "      <td id=\"T_412e0_row0_col2\" class=\"data row0 col2\" >FEASIBLE</td>\n",
       "      <td id=\"T_412e0_row0_col3\" class=\"data row0 col3\" >FEASIBLE</td>\n",
       "    </tr>\n",
       "    <tr>\n",
       "      <th id=\"T_412e0_level0_row1\" class=\"row_heading level0 row1\" >Int. BD data</th>\n",
       "      <td id=\"T_412e0_row1_col0\" class=\"data row1 col0\" >INFEASIBLE</td>\n",
       "      <td id=\"T_412e0_row1_col1\" class=\"data row1 col1\" >FEASIBLE</td>\n",
       "      <td id=\"T_412e0_row1_col2\" class=\"data row1 col2\" >FEASIBLE</td>\n",
       "      <td id=\"T_412e0_row1_col3\" class=\"data row1 col3\" >FEASIBLE</td>\n",
       "    </tr>\n",
       "    <tr>\n",
       "      <th id=\"T_412e0_level0_row2\" class=\"row_heading level0 row2\" >Ind. TE data</th>\n",
       "      <td id=\"T_412e0_row2_col0\" class=\"data row2 col0\" >INFEASIBLE</td>\n",
       "      <td id=\"T_412e0_row2_col1\" class=\"data row2 col1\" >INFEASIBLE</td>\n",
       "      <td id=\"T_412e0_row2_col2\" class=\"data row2 col2\" >FEASIBLE</td>\n",
       "      <td id=\"T_412e0_row2_col3\" class=\"data row2 col3\" >FEASIBLE</td>\n",
       "    </tr>\n",
       "    <tr>\n",
       "      <th id=\"T_412e0_level0_row3\" class=\"row_heading level0 row3\" >Int. TE data</th>\n",
       "      <td id=\"T_412e0_row3_col0\" class=\"data row3 col0\" >INFEASIBLE</td>\n",
       "      <td id=\"T_412e0_row3_col1\" class=\"data row3 col1\" >INFEASIBLE</td>\n",
       "      <td id=\"T_412e0_row3_col2\" class=\"data row3 col2\" >FEASIBLE</td>\n",
       "      <td id=\"T_412e0_row3_col3\" class=\"data row3 col3\" >FEASIBLE</td>\n",
       "    </tr>\n",
       "  </tbody>\n",
       "</table>\n"
      ],
      "text/plain": [
       "<pandas.io.formats.style.Styler at 0x218948b8940>"
      ]
     },
     "execution_count": 29,
     "metadata": {},
     "output_type": "execute_result"
    }
   ],
   "source": [
    "result_downsampled_90"
   ]
  },
  {
   "cell_type": "code",
   "execution_count": 26,
   "id": "85752dd7",
   "metadata": {},
   "outputs": [
    {
     "data": {
      "text/html": [
       "<style type=\"text/css\">\n",
       "#T_0a9f5_row0_col0, #T_0a9f5_row0_col2, #T_0a9f5_row1_col2, #T_0a9f5_row3_col2 {\n",
       "  color: green;\n",
       "}\n",
       "#T_0a9f5_row0_col1, #T_0a9f5_row0_col3, #T_0a9f5_row1_col1, #T_0a9f5_row1_col3, #T_0a9f5_row2_col1, #T_0a9f5_row2_col2, #T_0a9f5_row2_col3, #T_0a9f5_row3_col1, #T_0a9f5_row3_col3 {\n",
       "  color: white;\n",
       "}\n",
       "#T_0a9f5_row1_col0, #T_0a9f5_row2_col0, #T_0a9f5_row3_col0 {\n",
       "  color: red;\n",
       "}\n",
       "</style>\n",
       "<table id=\"T_0a9f5\">\n",
       "  <thead>\n",
       "    <tr>\n",
       "      <th class=\"blank level0\" >&nbsp;</th>\n",
       "      <th id=\"T_0a9f5_level0_col0\" class=\"col_heading level0 col0\" >Ind. BD model</th>\n",
       "      <th id=\"T_0a9f5_level0_col1\" class=\"col_heading level0 col1\" >Int. BD model</th>\n",
       "      <th id=\"T_0a9f5_level0_col2\" class=\"col_heading level0 col2\" >Ind. TE model</th>\n",
       "      <th id=\"T_0a9f5_level0_col3\" class=\"col_heading level0 col3\" >Int. TE model</th>\n",
       "    </tr>\n",
       "  </thead>\n",
       "  <tbody>\n",
       "    <tr>\n",
       "      <th id=\"T_0a9f5_level0_row0\" class=\"row_heading level0 row0\" >Ind. BD data</th>\n",
       "      <td id=\"T_0a9f5_row0_col0\" class=\"data row0 col0\" >FEASIBLE</td>\n",
       "      <td id=\"T_0a9f5_row0_col1\" class=\"data row0 col1\" >N/A</td>\n",
       "      <td id=\"T_0a9f5_row0_col2\" class=\"data row0 col2\" >FEASIBLE</td>\n",
       "      <td id=\"T_0a9f5_row0_col3\" class=\"data row0 col3\" >N/A</td>\n",
       "    </tr>\n",
       "    <tr>\n",
       "      <th id=\"T_0a9f5_level0_row1\" class=\"row_heading level0 row1\" >Int. BD data</th>\n",
       "      <td id=\"T_0a9f5_row1_col0\" class=\"data row1 col0\" >INFEASIBLE</td>\n",
       "      <td id=\"T_0a9f5_row1_col1\" class=\"data row1 col1\" >N/A</td>\n",
       "      <td id=\"T_0a9f5_row1_col2\" class=\"data row1 col2\" >FEASIBLE</td>\n",
       "      <td id=\"T_0a9f5_row1_col3\" class=\"data row1 col3\" >N/A</td>\n",
       "    </tr>\n",
       "    <tr>\n",
       "      <th id=\"T_0a9f5_level0_row2\" class=\"row_heading level0 row2\" >Ind. TE data</th>\n",
       "      <td id=\"T_0a9f5_row2_col0\" class=\"data row2 col0\" >INFEASIBLE</td>\n",
       "      <td id=\"T_0a9f5_row2_col1\" class=\"data row2 col1\" >N/A</td>\n",
       "      <td id=\"T_0a9f5_row2_col2\" class=\"data row2 col2\" >ERROR</td>\n",
       "      <td id=\"T_0a9f5_row2_col3\" class=\"data row2 col3\" >N/A</td>\n",
       "    </tr>\n",
       "    <tr>\n",
       "      <th id=\"T_0a9f5_level0_row3\" class=\"row_heading level0 row3\" >Int. TE data</th>\n",
       "      <td id=\"T_0a9f5_row3_col0\" class=\"data row3 col0\" >INFEASIBLE</td>\n",
       "      <td id=\"T_0a9f5_row3_col1\" class=\"data row3 col1\" >N/A</td>\n",
       "      <td id=\"T_0a9f5_row3_col2\" class=\"data row3 col2\" >FEASIBLE</td>\n",
       "      <td id=\"T_0a9f5_row3_col3\" class=\"data row3 col3\" >N/A</td>\n",
       "    </tr>\n",
       "  </tbody>\n",
       "</table>\n"
      ],
      "text/plain": [
       "<pandas.io.formats.style.Styler at 0x218aa49bac0>"
      ]
     },
     "execution_count": 26,
     "metadata": {},
     "output_type": "execute_result"
    }
   ],
   "source": [
    "result_B_90"
   ]
  },
  {
   "cell_type": "markdown",
   "id": "8c8f0f61",
   "metadata": {},
   "source": [
    "# 50% capture"
   ]
  },
  {
   "cell_type": "code",
   "execution_count": 48,
   "id": "bc152405",
   "metadata": {},
   "outputs": [
    {
     "name": "stderr",
     "output_type": "stream",
     "text": [
      "100%|██████████| 4/4 [00:00<00:00, 49.93it/s]\n",
      "100%|██████████| 4/4 [00:00<00:00, 45.21it/s]\n",
      "100%|██████████| 4/4 [00:00<00:00, 34.48it/s]\n",
      "100%|██████████| 4/4 [00:00<00:00, 68.06it/s]\n"
     ]
    }
   ],
   "source": [
    "data_50 = simulate_dataset(\n",
    "    on_rate=0.5,\n",
    "    off_rate=0.5,\n",
    "    tx_rate=5,\n",
    "    int_str=10,\n",
    "    cells=1000,\n",
    "    mean_capture=0.5\n",
    ")"
   ]
  },
  {
   "cell_type": "code",
   "execution_count": 49,
   "id": "fe296494",
   "metadata": {},
   "outputs": [
    {
     "name": "stderr",
     "output_type": "stream",
     "text": [
      "100%|██████████| 4/4 [00:01<00:00,  2.84it/s]\n",
      "100%|██████████| 4/4 [00:02<00:00,  1.67it/s]\n",
      "100%|██████████| 4/4 [00:01<00:00,  2.51it/s]\n",
      "100%|██████████| 4/4 [00:01<00:00,  2.35it/s]\n"
     ]
    }
   ],
   "source": [
    "result_downsampled_50 = optimize_dataset_downsampled(data_50)"
   ]
  },
  {
   "cell_type": "code",
   "execution_count": 50,
   "id": "9ca8d201",
   "metadata": {},
   "outputs": [
    {
     "data": {
      "text/html": [
       "<style type=\"text/css\">\n",
       "#T_bea7b_row0_col0, #T_bea7b_row0_col1, #T_bea7b_row0_col2, #T_bea7b_row0_col3, #T_bea7b_row1_col1, #T_bea7b_row1_col2, #T_bea7b_row1_col3, #T_bea7b_row2_col2, #T_bea7b_row2_col3, #T_bea7b_row3_col2, #T_bea7b_row3_col3 {\n",
       "  color: green;\n",
       "}\n",
       "#T_bea7b_row1_col0, #T_bea7b_row2_col0, #T_bea7b_row2_col1, #T_bea7b_row3_col0, #T_bea7b_row3_col1 {\n",
       "  color: red;\n",
       "}\n",
       "</style>\n",
       "<table id=\"T_bea7b\">\n",
       "  <thead>\n",
       "    <tr>\n",
       "      <th class=\"blank level0\" >&nbsp;</th>\n",
       "      <th id=\"T_bea7b_level0_col0\" class=\"col_heading level0 col0\" >Ind. BD model</th>\n",
       "      <th id=\"T_bea7b_level0_col1\" class=\"col_heading level0 col1\" >Int. BD model</th>\n",
       "      <th id=\"T_bea7b_level0_col2\" class=\"col_heading level0 col2\" >Ind. TE model</th>\n",
       "      <th id=\"T_bea7b_level0_col3\" class=\"col_heading level0 col3\" >Int. TE model</th>\n",
       "    </tr>\n",
       "  </thead>\n",
       "  <tbody>\n",
       "    <tr>\n",
       "      <th id=\"T_bea7b_level0_row0\" class=\"row_heading level0 row0\" >Ind. BD data</th>\n",
       "      <td id=\"T_bea7b_row0_col0\" class=\"data row0 col0\" >FEASIBLE</td>\n",
       "      <td id=\"T_bea7b_row0_col1\" class=\"data row0 col1\" >FEASIBLE</td>\n",
       "      <td id=\"T_bea7b_row0_col2\" class=\"data row0 col2\" >FEASIBLE</td>\n",
       "      <td id=\"T_bea7b_row0_col3\" class=\"data row0 col3\" >FEASIBLE</td>\n",
       "    </tr>\n",
       "    <tr>\n",
       "      <th id=\"T_bea7b_level0_row1\" class=\"row_heading level0 row1\" >Int. BD data</th>\n",
       "      <td id=\"T_bea7b_row1_col0\" class=\"data row1 col0\" >INFEASIBLE</td>\n",
       "      <td id=\"T_bea7b_row1_col1\" class=\"data row1 col1\" >FEASIBLE</td>\n",
       "      <td id=\"T_bea7b_row1_col2\" class=\"data row1 col2\" >FEASIBLE</td>\n",
       "      <td id=\"T_bea7b_row1_col3\" class=\"data row1 col3\" >FEASIBLE</td>\n",
       "    </tr>\n",
       "    <tr>\n",
       "      <th id=\"T_bea7b_level0_row2\" class=\"row_heading level0 row2\" >Ind. TE data</th>\n",
       "      <td id=\"T_bea7b_row2_col0\" class=\"data row2 col0\" >INFEASIBLE</td>\n",
       "      <td id=\"T_bea7b_row2_col1\" class=\"data row2 col1\" >INFEASIBLE</td>\n",
       "      <td id=\"T_bea7b_row2_col2\" class=\"data row2 col2\" >FEASIBLE</td>\n",
       "      <td id=\"T_bea7b_row2_col3\" class=\"data row2 col3\" >FEASIBLE</td>\n",
       "    </tr>\n",
       "    <tr>\n",
       "      <th id=\"T_bea7b_level0_row3\" class=\"row_heading level0 row3\" >Int. TE data</th>\n",
       "      <td id=\"T_bea7b_row3_col0\" class=\"data row3 col0\" >INFEASIBLE</td>\n",
       "      <td id=\"T_bea7b_row3_col1\" class=\"data row3 col1\" >INFEASIBLE</td>\n",
       "      <td id=\"T_bea7b_row3_col2\" class=\"data row3 col2\" >FEASIBLE</td>\n",
       "      <td id=\"T_bea7b_row3_col3\" class=\"data row3 col3\" >FEASIBLE</td>\n",
       "    </tr>\n",
       "  </tbody>\n",
       "</table>\n"
      ],
      "text/plain": [
       "<pandas.io.formats.style.Styler at 0x21894947400>"
      ]
     },
     "execution_count": 50,
     "metadata": {},
     "output_type": "execute_result"
    }
   ],
   "source": [
    "result_downsampled_50"
   ]
  }
 ],
 "metadata": {
  "kernelspec": {
   "display_name": "M5R_venv",
   "language": "python",
   "name": "python3"
  },
  "language_info": {
   "codemirror_mode": {
    "name": "ipython",
    "version": 3
   },
   "file_extension": ".py",
   "mimetype": "text/x-python",
   "name": "python",
   "nbconvert_exporter": "python",
   "pygments_lexer": "ipython3",
   "version": "3.10.11"
  }
 },
 "nbformat": 4,
 "nbformat_minor": 5
}
