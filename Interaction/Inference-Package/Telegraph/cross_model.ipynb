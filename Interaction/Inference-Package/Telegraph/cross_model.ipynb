{
 "cells": [
  {
   "cell_type": "code",
   "execution_count": 7,
   "metadata": {},
   "outputs": [],
   "source": [
    "from interaction_inference import simulation\n",
    "from interaction_inference import correlation\n",
    "from interaction_inference import optimization\n",
    "from interaction_inference import dataset\n",
    "import numpy as np\n",
    "import matplotlib.pyplot as plt\n",
    "from matplotlib.colors import LinearSegmentedColormap\n",
    "import pandas as pd\n",
    "import tqdm"
   ]
  },
  {
   "cell_type": "code",
   "execution_count": 8,
   "metadata": {},
   "outputs": [],
   "source": [
    "rng = np.random.default_rng()"
   ]
  },
  {
   "cell_type": "code",
   "execution_count": 15,
   "metadata": {},
   "outputs": [],
   "source": [
    "def simulate_dataset_custom(name, gene_values, cells=1000, rate=1, runs=1, tqdm_disable=True):\n",
    "\n",
    "    # number of pairs\n",
    "    gene_pairs = len(gene_values) * runs\n",
    "\n",
    "    # dataframes\n",
    "    params_df = pd.DataFrame(index=[f\"Gene-pair-{i}\" for i in range(gene_pairs)], columns=['k_on_1', 'k_on_2', 'k_off_1', 'k_off_2', 'k_tx_1', 'k_tx_2', 'k_deg_1', 'k_deg_2', 'k_reg'])\n",
    "    counts_df = pd.DataFrame(index=[f\"Gene-pair-{i}\" for i in range(gene_pairs)], columns=[f\"Cell-{j}\" for j in range(cells)])\n",
    "\n",
    "    # count\n",
    "    i = 0\n",
    "\n",
    "    # for each sample\n",
    "    for gene in tqdm.tqdm(gene_values, disable=tqdm_disable):\n",
    "        for k in range(runs):\n",
    "\n",
    "            # Set reaction rate parameters\n",
    "            k_on_1 = gene\n",
    "            k_on_2 = gene\n",
    "            k_off_1 = 1 - gene\n",
    "            k_off_2 = 1 - gene\n",
    "            k_tx_1 = rate\n",
    "            k_tx_2 = rate\n",
    "            k_deg_1 = 1\n",
    "            k_deg_2 = 1\n",
    "            k_reg = 0\n",
    "\n",
    "            # store parameters\n",
    "            params_df.iloc[i] = [k_on_1, k_on_2, k_off_1, k_off_2, k_tx_1, k_tx_2, k_deg_1, k_deg_2, k_reg]\n",
    "\n",
    "            params = {\n",
    "                'k_on_1': k_on_1,\n",
    "                'k_on_2': k_on_2,\n",
    "                'k_off_1': k_off_1,\n",
    "                'k_off_2': k_off_2,\n",
    "                'k_tx_1': k_tx_1,\n",
    "                'k_tx_2': k_tx_2,\n",
    "                'k_deg_1': k_deg_1,\n",
    "                'k_deg_2': k_deg_2,\n",
    "                'k_reg': k_reg\n",
    "            }\n",
    "\n",
    "            # simulate sample from model\n",
    "            sample = simulation.gillespie_telegraph(params, cells)\n",
    "\n",
    "            # store counts\n",
    "            counts_df.iloc[i] = sample\n",
    "\n",
    "            # increment\n",
    "            i += 1\n",
    "\n",
    "    # construct dataset object\n",
    "    data = dataset.Dataset(name)\n",
    "\n",
    "    # store information\n",
    "    data.count_dataset = counts_df\n",
    "    data.param_dataset = params_df\n",
    "    data.cells = cells\n",
    "    data.gene_pairs = gene_pairs\n",
    "    data.beta = np.array([1.0 for j in range(cells)])\n",
    "\n",
    "    return data"
   ]
  },
  {
   "cell_type": "code",
   "execution_count": 16,
   "metadata": {},
   "outputs": [],
   "source": [
    "# settings\n",
    "gene_values = [1.0, 0.9, 0.8, 0.7, 0.6, 0.5, 0.4, 0.3, 0.2, 0.1]\n",
    "runs = 5\n",
    "rate = 5"
   ]
  },
  {
   "cell_type": "code",
   "execution_count": 17,
   "metadata": {},
   "outputs": [
    {
     "name": "stderr",
     "output_type": "stream",
     "text": [
      "100%|██████████| 10/10 [02:20<00:00, 14.02s/it]\n"
     ]
    }
   ],
   "source": [
    "data = simulate_dataset_custom(\"data-indep\", gene_values, runs=runs, rate=rate, tqdm_disable=False)"
   ]
  },
  {
   "cell_type": "code",
   "execution_count": 18,
   "metadata": {},
   "outputs": [
    {
     "name": "stderr",
     "output_type": "stream",
     "text": [
      "100%|██████████| 50/50 [00:02<00:00, 18.04it/s]\n",
      "100%|██████████| 50/50 [00:01<00:00, 43.10it/s]\n"
     ]
    },
    {
     "data": {
      "image/png": "[encoded data removed]",
      "text/plain": [
       "<Figure size 600x300 with 2 Axes>"
      ]
     },
     "metadata": {},
     "output_type": "display_data"
    },
    {
     "name": "stderr",
     "output_type": "stream",
     "text": [
      "100%|██████████| 12/12 [00:00<00:00, 12.80it/s]\n",
      "100%|██████████| 12/12 [00:00<00:00, 1500.24it/s]\n",
      "100%|██████████| 88/88 [00:00<00:00, 3398.26it/s]\n"
     ]
    }
   ],
   "source": [
    "# pre-process\n",
    "data.compute_moments(tqdm_disable=False)\n",
    "data.compute_probabilities(tqdm_disable=False, display=True)"
   ]
  },
  {
   "cell_type": "code",
   "execution_count": 19,
   "metadata": {},
   "outputs": [
    {
     "name": "stderr",
     "output_type": "stream",
     "text": [
      "100%|██████████| 50/50 [00:02<00:00, 21.08it/s]\n",
      "100%|██████████| 50/50 [00:00<00:00, 65.31it/s]\n"
     ]
    }
   ],
   "source": [
    "# BD prob\n",
    "prob_BD = optimization.Optimization(\n",
    "    data,\n",
    "    [\"marginal_probability\", \"marginal_CME\", \"base\"],\n",
    "    license_file=\"D:/WLS_credentials.json\",\n",
    "    tqdm_disable=False,\n",
    "    print_solution=False\n",
    ")\n",
    "\n",
    "# BD moment\n",
    "momt_BD = optimization.Optimization(\n",
    "    data,\n",
    "    [\"moment\", \"marginal_CME\", \"base\"],\n",
    "    license_file=\"D:/WLS_credentials.json\",\n",
    "    tqdm_disable=False,\n",
    "    print_solution=False\n",
    ")"
   ]
  },
  {
   "cell_type": "code",
   "execution_count": 20,
   "metadata": {},
   "outputs": [],
   "source": [
    "# size\n",
    "size = len(gene_values)\n",
    "\n",
    "# result arrays\n",
    "prob_BD_array = np.zeros(size)\n",
    "momt_BD_array = np.zeros(size)\n",
    "\n",
    "# sample counter\n",
    "i = 0\n",
    "\n",
    "# for each sample\n",
    "for j, _ in enumerate(gene_values):\n",
    "    for k in range(runs):\n",
    "\n",
    "        # get result\n",
    "        if prob_BD.result_dict[i]['status'] == \"INFEASIBLE\":\n",
    "            prob_BD_array[j] += 1 / runs\n",
    "        if momt_BD.result_dict[i]['status'] == \"INFEASIBLE\":\n",
    "            momt_BD_array[j] += 1 / runs\n",
    "\n",
    "        # increment counter\n",
    "        i += 1"
   ]
  },
  {
   "cell_type": "code",
   "execution_count": 41,
   "metadata": {},
   "outputs": [
    {
     "data": {
      "image/png": "[encoded data removed]",
      "text/plain": [
       "<Figure size 640x480 with 1 Axes>"
      ]
     },
     "metadata": {},
     "output_type": "display_data"
    },
    {
     "data": {
      "image/png": "[encoded data removed]",
      "text/plain": [
       "<Figure size 640x480 with 1 Axes>"
      ]
     },
     "metadata": {},
     "output_type": "display_data"
    }
   ],
   "source": [
    "cmap = LinearSegmentedColormap.from_list('br', [\"b\", \"w\", \"r\"], N=256)\n",
    "img_prob_BD = plt.imshow(prob_BD_array.reshape(1, -1), cmap=cmap)\n",
    "plt.axis('off')\n",
    "plt.show()\n",
    "img_momt_BD = plt.imshow(momt_BD_array.reshape(1, -1), cmap=cmap)\n",
    "plt.axis('off')\n",
    "plt.show()"
   ]
  }
 ],
 "metadata": {
  "kernelspec": {
   "display_name": "M5R_venv",
   "language": "python",
   "name": "python3"
  },
  "language_info": {
   "codemirror_mode": {
    "name": "ipython",
    "version": 3
   },
   "file_extension": ".py",
   "mimetype": "text/x-python",
   "name": "python",
   "nbconvert_exporter": "python",
   "pygments_lexer": "ipython3",
   "version": "3.12.2"
  }
 },
 "nbformat": 4,
 "nbformat_minor": 2
}
