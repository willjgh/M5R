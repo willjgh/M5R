{
 "cells": [
  {
   "cell_type": "code",
   "execution_count": 1,
   "metadata": {},
   "outputs": [],
   "source": [
    "from interaction_inference import simulation\n",
    "from interaction_inference import correlation\n",
    "from interaction_inference import optimization\n",
    "from interaction_inference import dataset\n",
    "import numpy as np\n",
    "import matplotlib.pyplot as plt\n",
    "from matplotlib.colors import LinearSegmentedColormap\n",
    "import pandas as pd\n",
    "import tqdm"
   ]
  },
  {
   "cell_type": "code",
   "execution_count": 2,
   "metadata": {},
   "outputs": [],
   "source": [
    "rng = np.random.default_rng()"
   ]
  },
  {
   "cell_type": "code",
   "execution_count": 16,
   "metadata": {},
   "outputs": [],
   "source": [
    "g = 0.5\n",
    "r = 5\n",
    "params = {\n",
    "    'k_on_1': g,\n",
    "    'k_on_2': g,\n",
    "    'k_off_1': 1 - g,\n",
    "    'k_off_2': 1 - g,\n",
    "    'k_tx_1': r,\n",
    "    'k_tx_2': r,\n",
    "    'k_deg_1': 1,\n",
    "    'k_deg_2': 1,\n",
    "    'k_reg': 0\n",
    "}\n",
    "sample = simulation.gillespie_telegraph(params, 10000)"
   ]
  },
  {
   "cell_type": "code",
   "execution_count": 17,
   "metadata": {},
   "outputs": [
    {
     "name": "stdout",
     "output_type": "stream",
     "text": [
      "x1 mean: 2.4592, x1 var: 5.452135359999999\n",
      "x2 mean: 2.5061, x2 var: 5.644162789999998\n"
     ]
    }
   ],
   "source": [
    "x1_sample = [x[0] for x in sample]\n",
    "x2_sample = [x[1] for x in sample]\n",
    "print(f\"x1 mean: {np.mean(x1_sample)}, x1 var: {np.std(x1_sample)**2}\")\n",
    "print(f\"x2 mean: {np.mean(x2_sample)}, x2 var: {np.std(x2_sample)**2}\")"
   ]
  },
  {
   "cell_type": "code",
   "execution_count": 19,
   "metadata": {},
   "outputs": [],
   "source": [
    "# create dataset\n",
    "params_df = pd.DataFrame(index=[f\"Gene-pair-{0}\"], columns=['k_on_1', 'k_on_2', 'k_off_1', 'k_off_2', 'k_tx_1', 'k_tx_2', 'k_deg_1', 'k_deg_2', 'k_reg'])\n",
    "params_df.iloc[0] = [params['k_on_1'], params['k_on_2'], params['k_off_1'], params['k_off_2'], params['k_tx_1'], params['k_tx_2'], params['k_deg_1'], params['k_deg_2'], params['k_reg']]\n",
    "counts_df = pd.DataFrame(index=[f\"Gene-pair-{0}\"], columns=[f\"Cell-{j}\" for j in range(10000)])\n",
    "counts_df.iloc[0] = sample\n",
    "\n",
    "data = dataset.Dataset(\"data\")\n",
    "data.count_dataset = counts_df\n",
    "data.param_dataset = params_df\n",
    "data.cells = 10000\n",
    "data.gene_pairs = 1\n",
    "data.beta = np.array([1.0 for j in range(10000)])"
   ]
  },
  {
   "cell_type": "code",
   "execution_count": 20,
   "metadata": {},
   "outputs": [],
   "source": [
    "data.compute_moments()"
   ]
  },
  {
   "cell_type": "code",
   "execution_count": 30,
   "metadata": {},
   "outputs": [
    {
     "data": {
      "image/png": "[encoded data removed]",
      "text/plain": [
       "<Figure size 600x300 with 2 Axes>"
      ]
     },
     "metadata": {},
     "output_type": "display_data"
    }
   ],
   "source": [
    "data.compute_probabilities(display=True)"
   ]
  },
  {
   "cell_type": "code",
   "execution_count": 41,
   "metadata": {},
   "outputs": [
    {
     "name": "stderr",
     "output_type": "stream",
     "text": [
      "100%|██████████| 1/1 [00:00<00:00,  3.94it/s]"
     ]
    },
    {
     "name": "stdout",
     "output_type": "stream",
     "text": [
      "Optimization status: INFEASIBLE\n",
      "Runtime: 0.07200002670288086\n"
     ]
    },
    {
     "name": "stderr",
     "output_type": "stream",
     "text": [
      "\n"
     ]
    }
   ],
   "source": [
    "momt_BD = optimization.Optimization(\n",
    "    data,\n",
    "    [\"probability\", \"marginal_CME\", \"base\"],\n",
    "    license_file=\"C:/WLS_credentials.json\",\n",
    "    tqdm_disable=False,\n",
    "    print_solution=True\n",
    ")"
   ]
  }
 ],
 "metadata": {
  "kernelspec": {
   "display_name": "M5R_venv",
   "language": "python",
   "name": "python3"
  },
  "language_info": {
   "codemirror_mode": {
    "name": "ipython",
    "version": 3
   },
   "file_extension": ".py",
   "mimetype": "text/x-python",
   "name": "python",
   "nbconvert_exporter": "python",
   "pygments_lexer": "ipython3",
   "version": "3.10.11"
  }
 },
 "nbformat": 4,
 "nbformat_minor": 2
}
