{
 "cells": [
  {
   "cell_type": "code",
   "execution_count": 1,
   "id": "fae10a87",
   "metadata": {},
   "outputs": [],
   "source": [
    "import json\n",
    "import gurobipy as gp\n",
    "from gurobipy import GRB\n",
    "import numpy as np\n",
    "import matplotlib.pyplot as plt\n",
    "from interaction_inference import simulation\n",
    "from interaction_inference.constraints import Constraint\n",
    "from interaction_inference.optimization import Optimization"
   ]
  },
  {
   "cell_type": "code",
   "execution_count": 3,
   "id": "89379979",
   "metadata": {},
   "outputs": [],
   "source": [
    "rng = np.random.default_rng(1)"
   ]
  },
  {
   "cell_type": "code",
   "execution_count": 18,
   "id": "a5e25018",
   "metadata": {},
   "outputs": [
    {
     "name": "stderr",
     "output_type": "stream",
     "text": [
      "100%|██████████| 10/10 [00:07<00:00,  1.33it/s]\n"
     ]
    }
   ],
   "source": [
    "# simulate sample\n",
    "data = simulation.simulate_dataset_range_BD(\n",
    "    name = \"test\",\n",
    "    interaction_values = [50, 20, 10, 8, 6, 4, 2, 1, 0.5, 0], #[5, 4.5, 4, 3.5, 3, 2.5, 2, 1.5, 1, 0.5, 0],\n",
    "    cells = 1000,\n",
    "    rate = 1,\n",
    "    tqdm_disable = False\n",
    ")"
   ]
  },
  {
   "cell_type": "code",
   "execution_count": 24,
   "id": "6f910e3c",
   "metadata": {},
   "outputs": [],
   "source": [
    "# downsample\n",
    "m = 0.75\n",
    "b = (1 / m) - 1\n",
    "beta = rng.beta(1, b, size=1000)\n",
    "data_downsampled = data.downsample(\"test\", beta)"
   ]
  },
  {
   "cell_type": "code",
   "execution_count": 25,
   "id": "6ad4e0d6",
   "metadata": {},
   "outputs": [
    {
     "name": "stderr",
     "output_type": "stream",
     "text": [
      "100%|██████████| 10/10 [00:00<00:00, 12.07it/s]\n",
      "100%|██████████| 10/10 [00:00<00:00, 73.36it/s]\n",
      "100%|██████████| 10/10 [00:00<00:00, 23.64it/s]\n"
     ]
    }
   ],
   "source": [
    "# bootstrap\n",
    "data_downsampled.compute_moments(tqdm_disable=False)\n",
    "data_downsampled.bootstrap_probabilities(tqdm_disable=False)\n",
    "data_downsampled.compute_fm(tqdm_disable=False)"
   ]
  },
  {
   "cell_type": "code",
   "execution_count": 26,
   "id": "e86e3071",
   "metadata": {},
   "outputs": [],
   "source": [
    "# construct constraints\n",
    "constraints = Constraint(\n",
    "    downsampled_probability = True,\n",
    "    downsampled_CME         = True,\n",
    "    k_deg_1                 = True,\n",
    "    k_reg                   = True\n",
    ")\n",
    "\n",
    "# optimize\n",
    "opt = Optimization(data_downsampled, constraints, tqdm_disable=True, print_solution=False)"
   ]
  },
  {
   "cell_type": "code",
   "execution_count": 27,
   "id": "519b2482",
   "metadata": {},
   "outputs": [],
   "source": [
    "# construct constraints\n",
    "constraints_eq = Constraint(\n",
    "    downsampled_probability = True,\n",
    "    downsampled_CME         = True,\n",
    "    k_deg_1                 = True,\n",
    "    k_reg                   = True,\n",
    "    equality                = True\n",
    ")\n",
    "\n",
    "# optimize\n",
    "opt_eq = Optimization(data_downsampled, constraints_eq, tqdm_disable=True, print_solution=False)"
   ]
  },
  {
   "cell_type": "code",
   "execution_count": 28,
   "id": "278d1b29",
   "metadata": {},
   "outputs": [
    {
     "name": "stdout",
     "output_type": "stream",
     "text": [
      "OPTIMAL, OPTIMAL\n",
      "INFEASIBLE, INFEASIBLE\n",
      "OPTIMAL, OPTIMAL\n",
      "INFEASIBLE, INFEASIBLE\n",
      "INFEASIBLE, INFEASIBLE\n",
      "INFEASIBLE, INFEASIBLE\n",
      "OPTIMAL, OPTIMAL\n",
      "OPTIMAL, OPTIMAL\n",
      "OPTIMAL, OPTIMAL\n",
      "OPTIMAL, OPTIMAL\n"
     ]
    }
   ],
   "source": [
    "for i in opt.result_dict.keys():\n",
    "    print(f\"{opt.result_dict[i]['status']}, {opt_eq.result_dict[i]['status']}\")"
   ]
  }
 ],
 "metadata": {
  "kernelspec": {
   "display_name": "M5R_venv",
   "language": "python",
   "name": "python3"
  },
  "language_info": {
   "codemirror_mode": {
    "name": "ipython",
    "version": 3
   },
   "file_extension": ".py",
   "mimetype": "text/x-python",
   "name": "python",
   "nbconvert_exporter": "python",
   "pygments_lexer": "ipython3",
   "version": "3.10.11"
  }
 },
 "nbformat": 4,
 "nbformat_minor": 5
}
