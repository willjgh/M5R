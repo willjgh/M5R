{
 "cells": [
  {
   "cell_type": "code",
   "execution_count": 4,
   "id": "f51d4b2f",
   "metadata": {},
   "outputs": [],
   "source": [
    "import json\n",
    "import gurobipy as gp\n",
    "from gurobipy import GRB\n",
    "import numpy as np\n",
    "import matplotlib.pyplot as plt\n",
    "from interaction_inference import simulation\n",
    "from interaction_inference.constraints import Constraint\n",
    "from interaction_inference.optimization import Optimization"
   ]
  },
  {
   "cell_type": "code",
   "execution_count": 5,
   "id": "b612a7b3",
   "metadata": {},
   "outputs": [],
   "source": [
    "rng = np.random.default_rng(1)"
   ]
  },
  {
   "cell_type": "code",
   "execution_count": 6,
   "id": "abd1a505",
   "metadata": {},
   "outputs": [
    {
     "name": "stderr",
     "output_type": "stream",
     "text": [
      "100%|██████████| 10/10 [00:09<00:00,  1.06it/s]\n"
     ]
    }
   ],
   "source": [
    "# simulate sample\n",
    "data = simulation.simulate_dataset_range_BD(\n",
    "    name = \"test\",\n",
    "    interaction_values = [50, 20, 10, 8, 6, 4, 2, 1, 0.5, 0], #[5, 4.5, 4, 3.5, 3, 2.5, 2, 1.5, 1, 0.5, 0],\n",
    "    cells = 1000,\n",
    "    rate = 1,\n",
    "    tqdm_disable = False\n",
    ")"
   ]
  },
  {
   "cell_type": "code",
   "execution_count": null,
   "id": "46a215ed",
   "metadata": {},
   "outputs": [],
   "source": [
    "# downsample\n",
    "m = 0.9\n",
    "b = (1 / m) - 1\n",
    "beta = rng.beta(1, b, size=1000)\n",
    "data_downsampled = data.downsample(\"test\", beta)"
   ]
  },
  {
   "cell_type": "code",
   "execution_count": 14,
   "id": "ddb341f7",
   "metadata": {},
   "outputs": [],
   "source": [
    "data_downsampled.thresh_OG = 10 ** -3\n",
    "data_downsampled.thresh_OB = 10"
   ]
  },
  {
   "cell_type": "code",
   "execution_count": 15,
   "id": "fd772550",
   "metadata": {},
   "outputs": [
    {
     "name": "stderr",
     "output_type": "stream",
     "text": [
      "100%|██████████| 10/10 [00:00<00:00, 50.08it/s]\n"
     ]
    },
    {
     "data": {
      "image/png": "[encoded data removed]",
      "text/plain": [
       "<Figure size 600x300 with 2 Axes>"
      ]
     },
     "metadata": {},
     "output_type": "display_data"
    },
    {
     "name": "stderr",
     "output_type": "stream",
     "text": [
      "100%|██████████| 5/5 [00:00<00:00, 42.04it/s]\n",
      "100%|██████████| 5/5 [00:00<00:00, 85.30it/s]\n",
      "100%|██████████| 20/20 [00:00<00:00, 362.61it/s]\n"
     ]
    }
   ],
   "source": [
    "# bootstrap\n",
    "data_downsampled.compute_probabilities(display=True, tqdm_disable=False)"
   ]
  },
  {
   "cell_type": "code",
   "execution_count": 16,
   "id": "ac78e94c",
   "metadata": {},
   "outputs": [
    {
     "data": {
      "text/plain": [
       "{0: (0, 63), 1: (1, 63), 2: (2, 50), 3: (3, 54), 4: (4, 60)}"
      ]
     },
     "execution_count": 16,
     "metadata": {},
     "output_type": "execute_result"
    }
   ],
   "source": [
    "data_downsampled.truncation_OG"
   ]
  },
  {
   "cell_type": "code",
   "execution_count": 17,
   "id": "b7f8b3bb",
   "metadata": {},
   "outputs": [
    {
     "name": "stdout",
     "output_type": "stream",
     "text": [
      "Optimization status: INFEASIBLE\n",
      "Runtime: 0.0009999275207519531\n",
      "Optimization status: INFEASIBLE\n",
      "Runtime: 0.016000032424926758\n",
      "Optimization status: INFEASIBLE\n",
      "Runtime: 0.0\n",
      "Optimization status: INFEASIBLE\n",
      "Runtime: 0.06699991226196289\n",
      "Optimization status: INFEASIBLE\n",
      "Runtime: 0.037999868392944336\n",
      "Optimization status: INFEASIBLE\n",
      "Runtime: 0.0\n",
      "Optimization status: OPTIMAL\n",
      "Runtime: 0.05500006675720215\n",
      "Optimization status: INFEASIBLE\n",
      "Runtime: 0.06299996376037598\n",
      "Optimization status: INFEASIBLE\n",
      "Runtime: 0.03099989891052246\n",
      "Optimization status: OPTIMAL\n",
      "Runtime: 0.16699981689453125\n"
     ]
    }
   ],
   "source": [
    "# construct constraints\n",
    "constraints = Constraint(\n",
    "    marginal_probability_1 = True,\n",
    "    marginal_probability_2 = True,\n",
    "    marginal_CME_1 = True,\n",
    "    marginal_CME_2 = True,\n",
    "    k_deg_1 = True,\n",
    "    k_deg_2 = True\n",
    ")\n",
    "\n",
    "# optimize\n",
    "opt = Optimization(data_downsampled, constraints, tqdm_disable=True, print_solution=True)"
   ]
  },
  {
   "cell_type": "code",
   "execution_count": 18,
   "id": "88d86dfc",
   "metadata": {},
   "outputs": [
    {
     "name": "stdout",
     "output_type": "stream",
     "text": [
      "Optimization status: TIME_LIMIT\n",
      "Runtime: 300.0860002040863\n"
     ]
    },
    {
     "ename": "KeyboardInterrupt",
     "evalue": "",
     "output_type": "error",
     "traceback": [
      "\u001b[1;31m---------------------------------------------------------------------------\u001b[0m",
      "\u001b[1;31mKeyboardInterrupt\u001b[0m                         Traceback (most recent call last)",
      "Cell \u001b[1;32mIn[18], line 9\u001b[0m\n\u001b[0;32m      2\u001b[0m constraints \u001b[38;5;241m=\u001b[39m Constraint(\n\u001b[0;32m      3\u001b[0m     joint_probability \u001b[38;5;241m=\u001b[39m \u001b[38;5;28;01mTrue\u001b[39;00m,\n\u001b[0;32m      4\u001b[0m     CME \u001b[38;5;241m=\u001b[39m \u001b[38;5;28;01mTrue\u001b[39;00m,\n\u001b[0;32m      5\u001b[0m     k_deg_1 \u001b[38;5;241m=\u001b[39m \u001b[38;5;28;01mTrue\u001b[39;00m\n\u001b[0;32m      6\u001b[0m )\n\u001b[0;32m      8\u001b[0m \u001b[38;5;66;03m# optimize\u001b[39;00m\n\u001b[1;32m----> 9\u001b[0m opt \u001b[38;5;241m=\u001b[39m \u001b[43mOptimization\u001b[49m\u001b[43m(\u001b[49m\u001b[43mdata_downsampled\u001b[49m\u001b[43m,\u001b[49m\u001b[43m \u001b[49m\u001b[43mconstraints\u001b[49m\u001b[43m,\u001b[49m\u001b[43m \u001b[49m\u001b[43mtqdm_disable\u001b[49m\u001b[38;5;241;43m=\u001b[39;49m\u001b[38;5;28;43;01mTrue\u001b[39;49;00m\u001b[43m,\u001b[49m\u001b[43m \u001b[49m\u001b[43mprint_solution\u001b[49m\u001b[38;5;241;43m=\u001b[39;49m\u001b[38;5;28;43;01mTrue\u001b[39;49;00m\u001b[43m,\u001b[49m\u001b[43m \u001b[49m\u001b[43mcompute_IIS\u001b[49m\u001b[38;5;241;43m=\u001b[39;49m\u001b[38;5;28;43;01mTrue\u001b[39;49;00m\u001b[43m)\u001b[49m\n",
      "File \u001b[1;32mc:\\Users\\willi\\Documents\\ProjectPaper\\M5R_venv\\lib\\site-packages\\interaction_inference\\optimization.py:66\u001b[0m, in \u001b[0;36mOptimization.__init__\u001b[1;34m(self, dataset, constraints, license_file, time_limit, silent, K, tqdm_disable, print_solution, compute_IIS, write_model)\u001b[0m\n\u001b[0;32m     63\u001b[0m \u001b[38;5;28mself\u001b[39m\u001b[38;5;241m.\u001b[39mwrite_model \u001b[38;5;241m=\u001b[39m write_model\n\u001b[0;32m     65\u001b[0m \u001b[38;5;66;03m# analyse dataset\u001b[39;00m\n\u001b[1;32m---> 66\u001b[0m \u001b[38;5;28;43mself\u001b[39;49m\u001b[38;5;241;43m.\u001b[39;49m\u001b[43manalyse_dataset\u001b[49m\u001b[43m(\u001b[49m\u001b[43m)\u001b[49m\n",
      "File \u001b[1;32mc:\\Users\\willi\\Documents\\ProjectPaper\\M5R_venv\\lib\\site-packages\\interaction_inference\\optimization.py:87\u001b[0m, in \u001b[0;36mOptimization.analyse_dataset\u001b[1;34m(self)\u001b[0m\n\u001b[0;32m     83\u001b[0m \u001b[38;5;28;01mfor\u001b[39;00m i \u001b[38;5;129;01min\u001b[39;00m tqdm\u001b[38;5;241m.\u001b[39mtqdm(\u001b[38;5;28mrange\u001b[39m(\u001b[38;5;28mself\u001b[39m\u001b[38;5;241m.\u001b[39mdataset\u001b[38;5;241m.\u001b[39mgene_pairs), disable\u001b[38;5;241m=\u001b[39m\u001b[38;5;28mself\u001b[39m\u001b[38;5;241m.\u001b[39mtqdm_disable):\n\u001b[0;32m     84\u001b[0m \n\u001b[0;32m     85\u001b[0m     \u001b[38;5;66;03m# optimize sample i\u001b[39;00m\n\u001b[0;32m     86\u001b[0m     \u001b[38;5;28;01mtry\u001b[39;00m:\n\u001b[1;32m---> 87\u001b[0m         solution_dict[i] \u001b[38;5;241m=\u001b[39m \u001b[38;5;28;43mself\u001b[39;49m\u001b[38;5;241;43m.\u001b[39;49m\u001b[43moptimize\u001b[49m\u001b[43m(\u001b[49m\u001b[43mi\u001b[49m\u001b[43m)\u001b[49m\n\u001b[0;32m     89\u001b[0m     \u001b[38;5;66;03m# if exception\u001b[39;00m\n\u001b[0;32m     90\u001b[0m     \u001b[38;5;28;01mexcept\u001b[39;00m \u001b[38;5;167;01mException\u001b[39;00m \u001b[38;5;28;01mas\u001b[39;00m e:\n\u001b[0;32m     91\u001b[0m \n\u001b[0;32m     92\u001b[0m         \u001b[38;5;66;03m# display exception and traceback\u001b[39;00m\n",
      "File \u001b[1;32mc:\\Users\\willi\\Documents\\ProjectPaper\\M5R_venv\\lib\\site-packages\\interaction_inference\\optimization.py:135\u001b[0m, in \u001b[0;36mOptimization.optimize\u001b[1;34m(self, i)\u001b[0m\n\u001b[0;32m    132\u001b[0m variables \u001b[38;5;241m=\u001b[39m constraints\u001b[38;5;241m.\u001b[39madd_variables(\u001b[38;5;28mself\u001b[39m, model, i)\n\u001b[0;32m    134\u001b[0m \u001b[38;5;66;03m# add constraints\u001b[39;00m\n\u001b[1;32m--> 135\u001b[0m \u001b[43mconstraints\u001b[49m\u001b[38;5;241;43m.\u001b[39;49m\u001b[43madd_constraints\u001b[49m\u001b[43m(\u001b[49m\u001b[38;5;28;43mself\u001b[39;49m\u001b[43m,\u001b[49m\u001b[43m \u001b[49m\u001b[43mmodel\u001b[49m\u001b[43m,\u001b[49m\u001b[43m \u001b[49m\u001b[43mvariables\u001b[49m\u001b[43m,\u001b[49m\u001b[43m \u001b[49m\u001b[43mi\u001b[49m\u001b[43m)\u001b[49m\n\u001b[0;32m    137\u001b[0m \u001b[38;5;66;03m# write model if needed\u001b[39;00m\n\u001b[0;32m    138\u001b[0m \u001b[38;5;28;01mif\u001b[39;00m \u001b[38;5;28mself\u001b[39m\u001b[38;5;241m.\u001b[39mwrite_model:\n",
      "File \u001b[1;32mc:\\Users\\willi\\Documents\\ProjectPaper\\M5R_venv\\lib\\site-packages\\interaction_inference\\constraints.py:333\u001b[0m, in \u001b[0;36madd_constraints\u001b[1;34m(optimization, model, variables, i)\u001b[0m\n\u001b[0;32m    324\u001b[0m     add_marginal_probability_2_constraints(\n\u001b[0;32m    325\u001b[0m         model,\n\u001b[0;32m    326\u001b[0m         variables,\n\u001b[1;32m   (...)\u001b[0m\n\u001b[0;32m    330\u001b[0m         optimization\u001b[38;5;241m.\u001b[39mdataset\u001b[38;5;241m.\u001b[39mname\n\u001b[0;32m    331\u001b[0m     )\n\u001b[0;32m    332\u001b[0m \u001b[38;5;28;01mif\u001b[39;00m optimization\u001b[38;5;241m.\u001b[39mconstraints\u001b[38;5;241m.\u001b[39mCME:\n\u001b[1;32m--> 333\u001b[0m     \u001b[43madd_CME_constraints\u001b[49m\u001b[43m(\u001b[49m\n\u001b[0;32m    334\u001b[0m \u001b[43m        \u001b[49m\u001b[43mmodel\u001b[49m\u001b[43m,\u001b[49m\n\u001b[0;32m    335\u001b[0m \u001b[43m        \u001b[49m\u001b[43mvariables\u001b[49m\u001b[43m,\u001b[49m\n\u001b[0;32m    336\u001b[0m \u001b[43m        \u001b[49m\u001b[43moptimization\u001b[49m\u001b[38;5;241;43m.\u001b[39;49m\u001b[43moverall_extent_OG\u001b[49m\u001b[43m[\u001b[49m\u001b[38;5;124;43mf\u001b[39;49m\u001b[38;5;124;43m'\u001b[39;49m\u001b[38;5;124;43msample-\u001b[39;49m\u001b[38;5;132;43;01m{\u001b[39;49;00m\u001b[43mi\u001b[49m\u001b[38;5;132;43;01m}\u001b[39;49;00m\u001b[38;5;124;43m'\u001b[39;49m\u001b[43m]\u001b[49m\n\u001b[0;32m    337\u001b[0m \u001b[43m    \u001b[49m\u001b[43m)\u001b[49m\n\u001b[0;32m    338\u001b[0m \u001b[38;5;28;01mif\u001b[39;00m optimization\u001b[38;5;241m.\u001b[39mconstraints\u001b[38;5;241m.\u001b[39mmarginal_CME_1:\n\u001b[0;32m    339\u001b[0m     add_marginal_CME_1_constraints(\n\u001b[0;32m    340\u001b[0m         model,\n\u001b[0;32m    341\u001b[0m         variables,\n\u001b[0;32m    342\u001b[0m         optimization\u001b[38;5;241m.\u001b[39moverall_extent_OG[\u001b[38;5;124mf\u001b[39m\u001b[38;5;124m'\u001b[39m\u001b[38;5;124msample-\u001b[39m\u001b[38;5;132;01m{\u001b[39;00mi\u001b[38;5;132;01m}\u001b[39;00m\u001b[38;5;124m'\u001b[39m]\n\u001b[0;32m    343\u001b[0m     )\n",
      "File \u001b[1;32mc:\\Users\\willi\\Documents\\ProjectPaper\\M5R_venv\\lib\\site-packages\\interaction_inference\\constraints.py:692\u001b[0m, in \u001b[0;36madd_CME_constraints\u001b[1;34m(model, variables, overall_extent_OG)\u001b[0m\n\u001b[0;32m    679\u001b[0m model\u001b[38;5;241m.\u001b[39maddConstrs(\n\u001b[0;32m    680\u001b[0m     (\n\u001b[0;32m    681\u001b[0m         \u001b[38;5;241m0\u001b[39m \u001b[38;5;241m==\u001b[39m k_tx_1 \u001b[38;5;241m*\u001b[39m p[x1_OG \u001b[38;5;241m-\u001b[39m \u001b[38;5;241m1\u001b[39m, \u001b[38;5;241m0\u001b[39m] \u001b[38;5;241m+\u001b[39m \\\n\u001b[1;32m   (...)\u001b[0m\n\u001b[0;32m    688\u001b[0m     name\u001b[38;5;241m=\u001b[39m\u001b[38;5;124m\"\u001b[39m\u001b[38;5;124mCME_x1_0\u001b[39m\u001b[38;5;124m\"\u001b[39m\n\u001b[0;32m    689\u001b[0m )\n\u001b[0;32m    691\u001b[0m \u001b[38;5;66;03m# add CME constraints\u001b[39;00m\n\u001b[1;32m--> 692\u001b[0m \u001b[43mmodel\u001b[49m\u001b[38;5;241;43m.\u001b[39;49m\u001b[43maddConstrs\u001b[49m\u001b[43m(\u001b[49m\n\u001b[0;32m    693\u001b[0m \u001b[43m    \u001b[49m\u001b[43m(\u001b[49m\n\u001b[0;32m    694\u001b[0m \u001b[43m        \u001b[49m\u001b[38;5;241;43m0\u001b[39;49m\u001b[43m \u001b[49m\u001b[38;5;241;43m==\u001b[39;49m\u001b[43m \u001b[49m\u001b[43mk_tx_1\u001b[49m\u001b[43m \u001b[49m\u001b[38;5;241;43m*\u001b[39;49m\u001b[43m \u001b[49m\u001b[43mp\u001b[49m\u001b[43m[\u001b[49m\u001b[43mx1_OG\u001b[49m\u001b[43m \u001b[49m\u001b[38;5;241;43m-\u001b[39;49m\u001b[43m \u001b[49m\u001b[38;5;241;43m1\u001b[39;49m\u001b[43m,\u001b[49m\u001b[43m \u001b[49m\u001b[43mx2_OG\u001b[49m\u001b[43m]\u001b[49m\u001b[43m \u001b[49m\u001b[38;5;241;43m+\u001b[39;49m\u001b[43m \u001b[49m\u001b[43m\\\u001b[49m\n\u001b[0;32m    695\u001b[0m \u001b[43m        \u001b[49m\u001b[43mk_tx_2\u001b[49m\u001b[43m \u001b[49m\u001b[38;5;241;43m*\u001b[39;49m\u001b[43m \u001b[49m\u001b[43mp\u001b[49m\u001b[43m[\u001b[49m\u001b[43mx1_OG\u001b[49m\u001b[43m,\u001b[49m\u001b[43m \u001b[49m\u001b[43mx2_OG\u001b[49m\u001b[43m \u001b[49m\u001b[38;5;241;43m-\u001b[39;49m\u001b[43m \u001b[49m\u001b[38;5;241;43m1\u001b[39;49m\u001b[43m]\u001b[49m\u001b[43m \u001b[49m\u001b[38;5;241;43m+\u001b[39;49m\u001b[43m \u001b[49m\u001b[43m\\\u001b[49m\n\u001b[0;32m    696\u001b[0m \u001b[43m        \u001b[49m\u001b[43mk_deg_1\u001b[49m\u001b[43m \u001b[49m\u001b[38;5;241;43m*\u001b[39;49m\u001b[43m \u001b[49m\u001b[43m(\u001b[49m\u001b[43mx1_OG\u001b[49m\u001b[43m \u001b[49m\u001b[38;5;241;43m+\u001b[39;49m\u001b[43m \u001b[49m\u001b[38;5;241;43m1\u001b[39;49m\u001b[43m)\u001b[49m\u001b[43m \u001b[49m\u001b[38;5;241;43m*\u001b[39;49m\u001b[43m \u001b[49m\u001b[43mp\u001b[49m\u001b[43m[\u001b[49m\u001b[43mx1_OG\u001b[49m\u001b[43m \u001b[49m\u001b[38;5;241;43m+\u001b[39;49m\u001b[43m \u001b[49m\u001b[38;5;241;43m1\u001b[39;49m\u001b[43m,\u001b[49m\u001b[43m \u001b[49m\u001b[43mx2_OG\u001b[49m\u001b[43m]\u001b[49m\u001b[43m \u001b[49m\u001b[38;5;241;43m+\u001b[39;49m\u001b[43m \u001b[49m\u001b[43m\\\u001b[49m\n\u001b[0;32m    697\u001b[0m \u001b[43m        \u001b[49m\u001b[43mk_deg_2\u001b[49m\u001b[43m \u001b[49m\u001b[38;5;241;43m*\u001b[39;49m\u001b[43m \u001b[49m\u001b[43m(\u001b[49m\u001b[43mx2_OG\u001b[49m\u001b[43m \u001b[49m\u001b[38;5;241;43m+\u001b[39;49m\u001b[43m \u001b[49m\u001b[38;5;241;43m1\u001b[39;49m\u001b[43m)\u001b[49m\u001b[43m \u001b[49m\u001b[38;5;241;43m*\u001b[39;49m\u001b[43m \u001b[49m\u001b[43mp\u001b[49m\u001b[43m[\u001b[49m\u001b[43mx1_OG\u001b[49m\u001b[43m,\u001b[49m\u001b[43m \u001b[49m\u001b[43mx2_OG\u001b[49m\u001b[43m \u001b[49m\u001b[38;5;241;43m+\u001b[39;49m\u001b[43m \u001b[49m\u001b[38;5;241;43m1\u001b[39;49m\u001b[43m]\u001b[49m\u001b[43m \u001b[49m\u001b[38;5;241;43m+\u001b[39;49m\u001b[43m \u001b[49m\u001b[43m\\\u001b[49m\n\u001b[0;32m    698\u001b[0m \u001b[43m        \u001b[49m\u001b[43mk_reg\u001b[49m\u001b[43m \u001b[49m\u001b[38;5;241;43m*\u001b[39;49m\u001b[43m \u001b[49m\u001b[43m(\u001b[49m\u001b[43mx1_OG\u001b[49m\u001b[43m \u001b[49m\u001b[38;5;241;43m+\u001b[39;49m\u001b[43m \u001b[49m\u001b[38;5;241;43m1\u001b[39;49m\u001b[43m)\u001b[49m\u001b[43m \u001b[49m\u001b[38;5;241;43m*\u001b[39;49m\u001b[43m \u001b[49m\u001b[43m(\u001b[49m\u001b[43mx2_OG\u001b[49m\u001b[43m \u001b[49m\u001b[38;5;241;43m+\u001b[39;49m\u001b[43m \u001b[49m\u001b[38;5;241;43m1\u001b[39;49m\u001b[43m)\u001b[49m\u001b[43m \u001b[49m\u001b[38;5;241;43m*\u001b[39;49m\u001b[43m \u001b[49m\u001b[43mp\u001b[49m\u001b[43m[\u001b[49m\u001b[43mx1_OG\u001b[49m\u001b[43m \u001b[49m\u001b[38;5;241;43m+\u001b[39;49m\u001b[43m \u001b[49m\u001b[38;5;241;43m1\u001b[39;49m\u001b[43m,\u001b[49m\u001b[43m \u001b[49m\u001b[43mx2_OG\u001b[49m\u001b[43m \u001b[49m\u001b[38;5;241;43m+\u001b[39;49m\u001b[43m \u001b[49m\u001b[38;5;241;43m1\u001b[39;49m\u001b[43m]\u001b[49m\u001b[43m \u001b[49m\u001b[38;5;241;43m-\u001b[39;49m\u001b[43m \u001b[49m\u001b[43m\\\u001b[49m\n\u001b[0;32m    699\u001b[0m \u001b[43m        \u001b[49m\u001b[43m(\u001b[49m\u001b[43mk_tx_1\u001b[49m\u001b[43m \u001b[49m\u001b[38;5;241;43m+\u001b[39;49m\u001b[43m \u001b[49m\u001b[43mk_tx_2\u001b[49m\u001b[43m \u001b[49m\u001b[38;5;241;43m+\u001b[39;49m\u001b[43m \u001b[49m\u001b[43mk_deg_1\u001b[49m\u001b[43m \u001b[49m\u001b[38;5;241;43m*\u001b[39;49m\u001b[43m \u001b[49m\u001b[43mx1_OG\u001b[49m\u001b[43m \u001b[49m\u001b[38;5;241;43m+\u001b[39;49m\u001b[43m \u001b[49m\u001b[43mk_deg_2\u001b[49m\u001b[43m \u001b[49m\u001b[38;5;241;43m*\u001b[39;49m\u001b[43m \u001b[49m\u001b[43mx2_OG\u001b[49m\u001b[43m \u001b[49m\u001b[38;5;241;43m+\u001b[39;49m\u001b[43m \u001b[49m\u001b[43mk_reg\u001b[49m\u001b[43m \u001b[49m\u001b[38;5;241;43m*\u001b[39;49m\u001b[43m \u001b[49m\u001b[43mx1_OG\u001b[49m\u001b[43m \u001b[49m\u001b[38;5;241;43m*\u001b[39;49m\u001b[43m \u001b[49m\u001b[43mx2_OG\u001b[49m\u001b[43m)\u001b[49m\u001b[43m \u001b[49m\u001b[38;5;241;43m*\u001b[39;49m\u001b[43m \u001b[49m\u001b[43mp\u001b[49m\u001b[43m[\u001b[49m\u001b[43mx1_OG\u001b[49m\u001b[43m,\u001b[49m\u001b[43m \u001b[49m\u001b[43mx2_OG\u001b[49m\u001b[43m]\u001b[49m\n\u001b[0;32m    700\u001b[0m \u001b[43m        \u001b[49m\u001b[38;5;28;43;01mfor\u001b[39;49;00m\u001b[43m \u001b[49m\u001b[43mx1_OG\u001b[49m\u001b[43m \u001b[49m\u001b[38;5;129;43;01min\u001b[39;49;00m\u001b[43m \u001b[49m\u001b[38;5;28;43mrange\u001b[39;49m\u001b[43m(\u001b[49m\u001b[38;5;241;43m1\u001b[39;49m\u001b[43m,\u001b[49m\u001b[43m \u001b[49m\u001b[43mmax_x1_OG\u001b[49m\u001b[43m)\u001b[49m\n\u001b[0;32m    701\u001b[0m \u001b[43m        \u001b[49m\u001b[38;5;28;43;01mfor\u001b[39;49;00m\u001b[43m \u001b[49m\u001b[43mx2_OG\u001b[49m\u001b[43m \u001b[49m\u001b[38;5;129;43;01min\u001b[39;49;00m\u001b[43m \u001b[49m\u001b[38;5;28;43mrange\u001b[39;49m\u001b[43m(\u001b[49m\u001b[38;5;241;43m1\u001b[39;49m\u001b[43m,\u001b[49m\u001b[43m \u001b[49m\u001b[43mmax_x2_OG\u001b[49m\u001b[43m)\u001b[49m\n\u001b[0;32m    702\u001b[0m \u001b[43m    \u001b[49m\u001b[43m)\u001b[49m\u001b[43m,\u001b[49m\n\u001b[0;32m    703\u001b[0m \u001b[43m    \u001b[49m\u001b[43mname\u001b[49m\u001b[38;5;241;43m=\u001b[39;49m\u001b[38;5;124;43m\"\u001b[39;49m\u001b[38;5;124;43mCME_x1_x2\u001b[39;49m\u001b[38;5;124;43m\"\u001b[39;49m\n\u001b[0;32m    704\u001b[0m \u001b[43m\u001b[49m\u001b[43m)\u001b[49m\n",
      "File \u001b[1;32msrc\\\\gurobipy\\\\_model.pyx:4087\u001b[0m, in \u001b[0;36mgurobipy._model.Model.addConstrs\u001b[1;34m()\u001b[0m\n",
      "File \u001b[1;32mc:\\Users\\willi\\Documents\\ProjectPaper\\M5R_venv\\lib\\site-packages\\interaction_inference\\constraints.py:694\u001b[0m, in \u001b[0;36m<genexpr>\u001b[1;34m(.0)\u001b[0m\n\u001b[0;32m    679\u001b[0m model\u001b[38;5;241m.\u001b[39maddConstrs(\n\u001b[0;32m    680\u001b[0m     (\n\u001b[0;32m    681\u001b[0m         \u001b[38;5;241m0\u001b[39m \u001b[38;5;241m==\u001b[39m k_tx_1 \u001b[38;5;241m*\u001b[39m p[x1_OG \u001b[38;5;241m-\u001b[39m \u001b[38;5;241m1\u001b[39m, \u001b[38;5;241m0\u001b[39m] \u001b[38;5;241m+\u001b[39m \\\n\u001b[1;32m   (...)\u001b[0m\n\u001b[0;32m    688\u001b[0m     name\u001b[38;5;241m=\u001b[39m\u001b[38;5;124m\"\u001b[39m\u001b[38;5;124mCME_x1_0\u001b[39m\u001b[38;5;124m\"\u001b[39m\n\u001b[0;32m    689\u001b[0m )\n\u001b[0;32m    691\u001b[0m \u001b[38;5;66;03m# add CME constraints\u001b[39;00m\n\u001b[0;32m    692\u001b[0m model\u001b[38;5;241m.\u001b[39maddConstrs(\n\u001b[0;32m    693\u001b[0m     (\n\u001b[1;32m--> 694\u001b[0m         \u001b[38;5;241m0\u001b[39m \u001b[38;5;241m==\u001b[39m \u001b[43mk_tx_1\u001b[49m\u001b[43m \u001b[49m\u001b[38;5;241;43m*\u001b[39;49m\u001b[43m \u001b[49m\u001b[43mp\u001b[49m\u001b[43m[\u001b[49m\u001b[43mx1_OG\u001b[49m\u001b[43m \u001b[49m\u001b[38;5;241;43m-\u001b[39;49m\u001b[43m \u001b[49m\u001b[38;5;241;43m1\u001b[39;49m\u001b[43m,\u001b[49m\u001b[43m \u001b[49m\u001b[43mx2_OG\u001b[49m\u001b[43m]\u001b[49m\u001b[43m \u001b[49m\u001b[38;5;241;43m+\u001b[39;49m\u001b[43m \u001b[49m\u001b[43m\\\u001b[49m\n\u001b[0;32m    695\u001b[0m \u001b[43m        \u001b[49m\u001b[43mk_tx_2\u001b[49m\u001b[43m \u001b[49m\u001b[38;5;241;43m*\u001b[39;49m\u001b[43m \u001b[49m\u001b[43mp\u001b[49m\u001b[43m[\u001b[49m\u001b[43mx1_OG\u001b[49m\u001b[43m,\u001b[49m\u001b[43m \u001b[49m\u001b[43mx2_OG\u001b[49m\u001b[43m \u001b[49m\u001b[38;5;241;43m-\u001b[39;49m\u001b[43m \u001b[49m\u001b[38;5;241;43m1\u001b[39;49m\u001b[43m]\u001b[49m\u001b[43m \u001b[49m\u001b[38;5;241;43m+\u001b[39;49m\u001b[43m \u001b[49m\u001b[43m\\\u001b[49m\n\u001b[0;32m    696\u001b[0m \u001b[43m        \u001b[49m\u001b[43mk_deg_1\u001b[49m\u001b[43m \u001b[49m\u001b[38;5;241;43m*\u001b[39;49m\u001b[43m \u001b[49m\u001b[43m(\u001b[49m\u001b[43mx1_OG\u001b[49m\u001b[43m \u001b[49m\u001b[38;5;241;43m+\u001b[39;49m\u001b[43m \u001b[49m\u001b[38;5;241;43m1\u001b[39;49m\u001b[43m)\u001b[49m\u001b[43m \u001b[49m\u001b[38;5;241;43m*\u001b[39;49m\u001b[43m \u001b[49m\u001b[43mp\u001b[49m\u001b[43m[\u001b[49m\u001b[43mx1_OG\u001b[49m\u001b[43m \u001b[49m\u001b[38;5;241;43m+\u001b[39;49m\u001b[43m \u001b[49m\u001b[38;5;241;43m1\u001b[39;49m\u001b[43m,\u001b[49m\u001b[43m \u001b[49m\u001b[43mx2_OG\u001b[49m\u001b[43m]\u001b[49m\u001b[43m \u001b[49m\u001b[38;5;241;43m+\u001b[39;49m\u001b[43m \u001b[49m\u001b[43m\\\u001b[49m\n\u001b[0;32m    697\u001b[0m \u001b[43m        \u001b[49m\u001b[43mk_deg_2\u001b[49m\u001b[43m \u001b[49m\u001b[38;5;241;43m*\u001b[39;49m\u001b[43m \u001b[49m\u001b[43m(\u001b[49m\u001b[43mx2_OG\u001b[49m\u001b[43m \u001b[49m\u001b[38;5;241;43m+\u001b[39;49m\u001b[43m \u001b[49m\u001b[38;5;241;43m1\u001b[39;49m\u001b[43m)\u001b[49m\u001b[43m \u001b[49m\u001b[38;5;241;43m*\u001b[39;49m\u001b[43m \u001b[49m\u001b[43mp\u001b[49m\u001b[43m[\u001b[49m\u001b[43mx1_OG\u001b[49m\u001b[43m,\u001b[49m\u001b[43m \u001b[49m\u001b[43mx2_OG\u001b[49m\u001b[43m \u001b[49m\u001b[38;5;241;43m+\u001b[39;49m\u001b[43m \u001b[49m\u001b[38;5;241;43m1\u001b[39;49m\u001b[43m]\u001b[49m\u001b[43m \u001b[49m\u001b[38;5;241;43m+\u001b[39;49m\u001b[43m \u001b[49m\u001b[43m\\\u001b[49m\n\u001b[0;32m    698\u001b[0m \u001b[43m        \u001b[49m\u001b[43mk_reg\u001b[49m\u001b[43m \u001b[49m\u001b[38;5;241;43m*\u001b[39;49m\u001b[43m \u001b[49m\u001b[43m(\u001b[49m\u001b[43mx1_OG\u001b[49m\u001b[43m \u001b[49m\u001b[38;5;241;43m+\u001b[39;49m\u001b[43m \u001b[49m\u001b[38;5;241;43m1\u001b[39;49m\u001b[43m)\u001b[49m\u001b[43m \u001b[49m\u001b[38;5;241;43m*\u001b[39;49m\u001b[43m \u001b[49m\u001b[43m(\u001b[49m\u001b[43mx2_OG\u001b[49m\u001b[43m \u001b[49m\u001b[38;5;241;43m+\u001b[39;49m\u001b[43m \u001b[49m\u001b[38;5;241;43m1\u001b[39;49m\u001b[43m)\u001b[49m\u001b[43m \u001b[49m\u001b[38;5;241;43m*\u001b[39;49m\u001b[43m \u001b[49m\u001b[43mp\u001b[49m\u001b[43m[\u001b[49m\u001b[43mx1_OG\u001b[49m\u001b[43m \u001b[49m\u001b[38;5;241;43m+\u001b[39;49m\u001b[43m \u001b[49m\u001b[38;5;241;43m1\u001b[39;49m\u001b[43m,\u001b[49m\u001b[43m \u001b[49m\u001b[43mx2_OG\u001b[49m\u001b[43m \u001b[49m\u001b[38;5;241;43m+\u001b[39;49m\u001b[43m \u001b[49m\u001b[38;5;241;43m1\u001b[39;49m\u001b[43m]\u001b[49m \u001b[38;5;241m-\u001b[39m \\\n\u001b[0;32m    699\u001b[0m         (k_tx_1 \u001b[38;5;241m+\u001b[39m k_tx_2 \u001b[38;5;241m+\u001b[39m k_deg_1 \u001b[38;5;241m*\u001b[39m x1_OG \u001b[38;5;241m+\u001b[39m k_deg_2 \u001b[38;5;241m*\u001b[39m x2_OG \u001b[38;5;241m+\u001b[39m k_reg \u001b[38;5;241m*\u001b[39m x1_OG \u001b[38;5;241m*\u001b[39m x2_OG) \u001b[38;5;241m*\u001b[39m p[x1_OG, x2_OG]\n\u001b[0;32m    700\u001b[0m         \u001b[38;5;28;01mfor\u001b[39;00m x1_OG \u001b[38;5;129;01min\u001b[39;00m \u001b[38;5;28mrange\u001b[39m(\u001b[38;5;241m1\u001b[39m, max_x1_OG)\n\u001b[0;32m    701\u001b[0m         \u001b[38;5;28;01mfor\u001b[39;00m x2_OG \u001b[38;5;129;01min\u001b[39;00m \u001b[38;5;28mrange\u001b[39m(\u001b[38;5;241m1\u001b[39m, max_x2_OG)\n\u001b[0;32m    702\u001b[0m     ),\n\u001b[0;32m    703\u001b[0m     name\u001b[38;5;241m=\u001b[39m\u001b[38;5;124m\"\u001b[39m\u001b[38;5;124mCME_x1_x2\u001b[39m\u001b[38;5;124m\"\u001b[39m\n\u001b[0;32m    704\u001b[0m )\n",
      "File \u001b[1;32msrc\\\\gurobipy\\\\mquadexpr.pxi:890\u001b[0m, in \u001b[0;36mgurobipy._matrixapi.MQuadExpr.__add__\u001b[1;34m()\u001b[0m\n",
      "File \u001b[1;32mc:\\Users\\willi\\Documents\\ProjectPaper\\M5R_venv\\lib\\site-packages\\scipy\\sparse\\_base.py:1361\u001b[0m, in \u001b[0;36missparse\u001b[1;34m(x)\u001b[0m\n\u001b[0;32m   1335\u001b[0m \u001b[38;5;28;01mdef\u001b[39;00m \u001b[38;5;21missparse\u001b[39m(x):\n\u001b[0;32m   1336\u001b[0m \u001b[38;5;250m    \u001b[39m\u001b[38;5;124;03m\"\"\"Is `x` of a sparse array or sparse matrix type?\u001b[39;00m\n\u001b[0;32m   1337\u001b[0m \n\u001b[0;32m   1338\u001b[0m \u001b[38;5;124;03m    Parameters\u001b[39;00m\n\u001b[1;32m   (...)\u001b[0m\n\u001b[0;32m   1359\u001b[0m \u001b[38;5;124;03m    False\u001b[39;00m\n\u001b[0;32m   1360\u001b[0m \u001b[38;5;124;03m    \"\"\"\u001b[39;00m\n\u001b[1;32m-> 1361\u001b[0m     \u001b[38;5;28;01mreturn\u001b[39;00m \u001b[38;5;28;43misinstance\u001b[39;49m\u001b[43m(\u001b[49m\u001b[43mx\u001b[49m\u001b[43m,\u001b[49m\u001b[43m \u001b[49m\u001b[43m_spbase\u001b[49m\u001b[43m)\u001b[49m\n",
      "\u001b[1;31mKeyboardInterrupt\u001b[0m: "
     ]
    }
   ],
   "source": [
    "# construct constraints\n",
    "constraints = Constraint(\n",
    "    joint_probability = True,\n",
    "    CME = True,\n",
    "    k_deg_1 = True\n",
    ")\n",
    "\n",
    "# optimize\n",
    "opt = Optimization(data_downsampled, constraints, tqdm_disable=True, print_solution=True, compute_IIS=True)"
   ]
  },
  {
   "cell_type": "markdown",
   "id": "8798b024",
   "metadata": {},
   "source": [
    "## Notes\n",
    "\n",
    "Truncation significantly smaller for 10 ** -2 than 10 ** -6, even 10 ** -3 is much larger than 10 ** -2\n",
    "\n",
    "10 ** -2 to 10 ** -6 doesnt change independent BD feasibility results\n",
    "\n",
    "10 ** -3 truncation too large for interacting BD feasibility, very slow to construct and time limit of solve\n",
    "\n",
    "10 ** -2 viable, but seems risky to use as such a high threshold for coefficients: seems likely to cause infeasibility"
   ]
  }
 ],
 "metadata": {
  "kernelspec": {
   "display_name": "M5R_venv",
   "language": "python",
   "name": "python3"
  },
  "language_info": {
   "codemirror_mode": {
    "name": "ipython",
    "version": 3
   },
   "file_extension": ".py",
   "mimetype": "text/x-python",
   "name": "python",
   "nbconvert_exporter": "python",
   "pygments_lexer": "ipython3",
   "version": "3.10.11"
  }
 },
 "nbformat": 4,
 "nbformat_minor": 5
}
