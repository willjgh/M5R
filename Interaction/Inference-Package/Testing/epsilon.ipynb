{
 "cells": [
  {
   "cell_type": "code",
   "execution_count": 2,
   "id": "f51d4b2f",
   "metadata": {},
   "outputs": [],
   "source": [
    "import json\n",
    "import gurobipy as gp\n",
    "from gurobipy import GRB\n",
    "import numpy as np\n",
    "import matplotlib.pyplot as plt\n",
    "from interaction_inference import simulation\n",
    "from interaction_inference.constraints import Constraint\n",
    "from interaction_inference.optimization import Optimization"
   ]
  },
  {
   "cell_type": "code",
   "execution_count": 3,
   "id": "b612a7b3",
   "metadata": {},
   "outputs": [],
   "source": [
    "rng = np.random.default_rng(1)"
   ]
  },
  {
   "cell_type": "code",
   "execution_count": 28,
   "id": "abd1a505",
   "metadata": {},
   "outputs": [
    {
     "name": "stderr",
     "output_type": "stream",
     "text": [
      "100%|██████████| 10/10 [00:07<00:00,  1.32it/s]\n"
     ]
    }
   ],
   "source": [
    "# simulate sample\n",
    "data = simulation.simulate_dataset_range_BD(\n",
    "    name = \"test\",\n",
    "    interaction_values = [50, 20, 10, 8, 6, 4, 2, 1, 0.5, 0], #[5, 4.5, 4, 3.5, 3, 2.5, 2, 1.5, 1, 0.5, 0],\n",
    "    cells = 1000,\n",
    "    rate = 1,\n",
    "    tqdm_disable = False\n",
    ")"
   ]
  },
  {
   "cell_type": "code",
   "execution_count": 47,
   "id": "46a215ed",
   "metadata": {},
   "outputs": [],
   "source": [
    "# downsample\n",
    "m = 0.95\n",
    "b = (1 / m) - 1\n",
    "beta = rng.beta(1, b, size=1000)\n",
    "data_downsampled = data.downsample(\"test\", beta)"
   ]
  },
  {
   "cell_type": "code",
   "execution_count": 53,
   "id": "ddb341f7",
   "metadata": {},
   "outputs": [],
   "source": [
    "data_downsampled.thresh_OG = 10 ** -2"
   ]
  },
  {
   "cell_type": "code",
   "execution_count": 54,
   "id": "fd772550",
   "metadata": {},
   "outputs": [
    {
     "name": "stderr",
     "output_type": "stream",
     "text": [
      "  0%|          | 0/10 [00:00<?, ?it/s]"
     ]
    },
    {
     "name": "stderr",
     "output_type": "stream",
     "text": [
      "100%|██████████| 10/10 [00:00<00:00, 49.65it/s]\n"
     ]
    },
    {
     "data": {
      "image/png": "[encoded data removed]",
      "text/plain": [
       "<Figure size 600x300 with 2 Axes>"
      ]
     },
     "metadata": {},
     "output_type": "display_data"
    },
    {
     "name": "stderr",
     "output_type": "stream",
     "text": [
      "100%|██████████| 5/5 [00:00<00:00, 236.01it/s]\n",
      "100%|██████████| 5/5 [00:00<00:00, 317.88it/s]\n",
      "100%|██████████| 16/16 [00:00<00:00, 729.65it/s]\n"
     ]
    }
   ],
   "source": [
    "# bootstrap\n",
    "data_downsampled.compute_probabilities(display=True, tqdm_disable=False)"
   ]
  },
  {
   "cell_type": "code",
   "execution_count": 55,
   "id": "ac78e94c",
   "metadata": {},
   "outputs": [
    {
     "data": {
      "text/plain": [
       "{0: (0, 6), 1: (1, 6), 2: (2, 7), 3: (3, 8), 4: (4, 10)}"
      ]
     },
     "execution_count": 55,
     "metadata": {},
     "output_type": "execute_result"
    }
   ],
   "source": [
    "data_downsampled.truncation_OG"
   ]
  },
  {
   "cell_type": "code",
   "execution_count": 56,
   "id": "b7f8b3bb",
   "metadata": {},
   "outputs": [
    {
     "name": "stdout",
     "output_type": "stream",
     "text": [
      "Optimization status: INFEASIBLE\n",
      "Runtime: 0.010999917984008789\n",
      "Optimization status: INFEASIBLE\n",
      "Runtime: 0.03299999237060547\n",
      "Optimization status: INFEASIBLE\n",
      "Runtime: 0.0\n",
      "Optimization status: INFEASIBLE\n",
      "Runtime: 0.1940000057220459\n",
      "Optimization status: INFEASIBLE\n",
      "Runtime: 0.016000032424926758\n",
      "Optimization status: OPTIMAL\n",
      "Runtime: 0.017999887466430664\n",
      "Optimization status: OPTIMAL\n",
      "Runtime: 0.003999948501586914\n",
      "Optimization status: OPTIMAL\n",
      "Runtime: 0.037000179290771484\n",
      "Optimization status: OPTIMAL\n",
      "Runtime: 0.0\n",
      "Optimization status: OPTIMAL\n",
      "Runtime: 0.039999961853027344\n"
     ]
    }
   ],
   "source": [
    "# construct constraints\n",
    "constraints = Constraint(\n",
    "    marginal_probability_1 = True,\n",
    "    marginal_probability_2 = True,\n",
    "    marginal_CME_1 = True,\n",
    "    marginal_CME_2 = True,\n",
    "    k_deg_1 = True,\n",
    "    k_deg_2 = True\n",
    ")\n",
    "\n",
    "# optimize\n",
    "opt = Optimization(data_downsampled, constraints, tqdm_disable=True, print_solution=True)"
   ]
  },
  {
   "cell_type": "code",
   "execution_count": 57,
   "id": "88d86dfc",
   "metadata": {},
   "outputs": [
    {
     "name": "stdout",
     "output_type": "stream",
     "text": [
      "Optimization status: INFEASIBLE\n",
      "Runtime: 0.0\n",
      "Optimization status: INFEASIBLE\n",
      "Runtime: 0.009999990463256836\n",
      "Optimization status: INFEASIBLE\n",
      "Runtime: 0.0\n",
      "Optimization status: INFEASIBLE\n",
      "Runtime: 0.0\n",
      "Optimization status: INFEASIBLE\n",
      "Runtime: 0.0010001659393310547\n",
      "Optimization status: INFEASIBLE\n",
      "Runtime: 0.0\n",
      "Optimization status: INFEASIBLE\n",
      "Runtime: 0.0\n",
      "Optimization status: INFEASIBLE\n",
      "Runtime: 0.0\n",
      "Optimization status: INFEASIBLE\n",
      "Runtime: 0.0\n",
      "Optimization status: INFEASIBLE\n",
      "Runtime: 0.0\n"
     ]
    }
   ],
   "source": [
    "# construct constraints\n",
    "constraints = Constraint(\n",
    "    joint_probability = True,\n",
    "    CME = True,\n",
    "    k_deg_1 = True\n",
    ")\n",
    "\n",
    "# optimize\n",
    "opt = Optimization(data_downsampled, constraints, tqdm_disable=True, print_solution=True)"
   ]
  },
  {
   "cell_type": "markdown",
   "id": "8798b024",
   "metadata": {},
   "source": [
    "Truncation sig smaller for -2 than -6 (even -3 gets fiarly large)\n",
    "\n",
    "Epsilon doesnt change indep BD results\n",
    "\n",
    "Int BD infeasible for -2, -3, etc and still very slow"
   ]
  }
 ],
 "metadata": {
  "kernelspec": {
   "display_name": "M5R_venv",
   "language": "python",
   "name": "python3"
  },
  "language_info": {
   "codemirror_mode": {
    "name": "ipython",
    "version": 3
   },
   "file_extension": ".py",
   "mimetype": "text/x-python",
   "name": "python",
   "nbconvert_exporter": "python",
   "pygments_lexer": "ipython3",
   "version": "3.10.11"
  }
 },
 "nbformat": 4,
 "nbformat_minor": 5
}
