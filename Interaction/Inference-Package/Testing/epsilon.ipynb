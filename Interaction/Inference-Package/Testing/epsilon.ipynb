{
 "cells": [
  {
   "cell_type": "code",
   "execution_count": 1,
   "id": "f51d4b2f",
   "metadata": {},
   "outputs": [],
   "source": [
    "import json\n",
    "import gurobipy as gp\n",
    "from gurobipy import GRB\n",
    "import numpy as np\n",
    "import matplotlib.pyplot as plt\n",
    "from interaction_inference import simulation\n",
    "from interaction_inference.constraints import Constraint\n",
    "from interaction_inference.optimization import Optimization"
   ]
  },
  {
   "cell_type": "code",
   "execution_count": 2,
   "id": "b612a7b3",
   "metadata": {},
   "outputs": [],
   "source": [
    "rng = np.random.default_rng(1)"
   ]
  },
  {
   "cell_type": "code",
   "execution_count": 3,
   "id": "abd1a505",
   "metadata": {},
   "outputs": [
    {
     "name": "stderr",
     "output_type": "stream",
     "text": [
      "100%|██████████| 1/1 [00:03<00:00,  3.49s/it]\n"
     ]
    }
   ],
   "source": [
    "# simulate sample\n",
    "data = simulation.simulate_dataset_range_BD(\n",
    "    name = \"test\",\n",
    "    interaction_values = [0], # [50, 20, 10, 8, 6, 4, 2, 1, 0.5, 0], #[5, 4.5, 4, 3.5, 3, 2.5, 2, 1.5, 1, 0.5, 0],\n",
    "    cells = 1000,\n",
    "    rate = 1,\n",
    "    tqdm_disable = False\n",
    ")"
   ]
  },
  {
   "cell_type": "code",
   "execution_count": 17,
   "id": "46a215ed",
   "metadata": {},
   "outputs": [],
   "source": [
    "# downsample\n",
    "m = 0.99\n",
    "b = (1 / m) - 1\n",
    "beta = rng.beta(1, b, size=1000)\n",
    "data_downsampled = data.downsample(\"test\", beta)"
   ]
  },
  {
   "cell_type": "code",
   "execution_count": 25,
   "id": "ddb341f7",
   "metadata": {},
   "outputs": [],
   "source": [
    "data_downsampled.thresh_OG = 10 ** -6\n",
    "data_downsampled.thresh_OB = 20"
   ]
  },
  {
   "cell_type": "code",
   "execution_count": 26,
   "id": "fd772550",
   "metadata": {},
   "outputs": [
    {
     "name": "stderr",
     "output_type": "stream",
     "text": [
      "100%|██████████| 1/1 [00:00<00:00, 49.34it/s]\n"
     ]
    },
    {
     "data": {
      "image/png": "[encoded data removed]",
      "text/plain": [
       "<Figure size 600x300 with 2 Axes>"
      ]
     },
     "metadata": {},
     "output_type": "display_data"
    },
    {
     "name": "stderr",
     "output_type": "stream",
     "text": [
      "100%|██████████| 5/5 [00:00<00:00, 30.46it/s]\n",
      "100%|██████████| 5/5 [00:00<00:00, 68.93it/s]\n",
      "100%|██████████| 16/16 [00:00<00:00, 317.90it/s]\n"
     ]
    }
   ],
   "source": [
    "# bootstrap\n",
    "data_downsampled.compute_probabilities(display=True, tqdm_disable=False)"
   ]
  },
  {
   "cell_type": "code",
   "execution_count": 27,
   "id": "ac78e94c",
   "metadata": {},
   "outputs": [
    {
     "data": {
      "text/plain": [
       "{0: (0, 83), 1: (1, 110), 2: (2, 134), 3: (3, 156), 4: (4, 176)}"
      ]
     },
     "execution_count": 27,
     "metadata": {},
     "output_type": "execute_result"
    }
   ],
   "source": [
    "data_downsampled.truncation_OG"
   ]
  },
  {
   "cell_type": "code",
   "execution_count": 28,
   "id": "b7f8b3bb",
   "metadata": {},
   "outputs": [
    {
     "name": "stdout",
     "output_type": "stream",
     "text": [
      "Optimization status: OPTIMAL\n",
      "Runtime: 0.7170000076293945\n"
     ]
    }
   ],
   "source": [
    "# construct constraints\n",
    "constraints = Constraint(\n",
    "    marginal_probability_1 = True,\n",
    "    marginal_probability_2 = True,\n",
    "    marginal_CME_1 = True,\n",
    "    marginal_CME_2 = True,\n",
    "    k_deg_1 = True,\n",
    "    k_deg_2 = True\n",
    ")\n",
    "\n",
    "# optimize\n",
    "opt = Optimization(data_downsampled, constraints, tqdm_disable=True, print_solution=True)"
   ]
  },
  {
   "cell_type": "code",
   "execution_count": 29,
   "id": "88d86dfc",
   "metadata": {},
   "outputs": [
    {
     "name": "stdout",
     "output_type": "stream",
     "text": [
      "Set parameter Username\n",
      "Set parameter LicenseID to value 2616229\n",
      "Academic license - for non-commercial use only - expires 2026-01-29\n",
      "Set parameter TimeLimit to value 300\n",
      "Gurobi Optimizer version 12.0.1 build v12.0.1rc0 (win64 - Windows 11.0 (26100.2))\n",
      "\n",
      "CPU model: Intel(R) Core(TM) i5-1035G1 CPU @ 1.00GHz, instruction set [SSE2|AVX|AVX2|AVX512]\n",
      "Thread count: 4 physical cores, 8 logical processors, using up to 8 threads\n",
      "\n",
      "Non-default parameters:\n",
      "TimeLimit  300\n",
      "\n",
      "Optimize a model with 3849 rows, 31329 columns and 493901 nonzeros\n",
      "Model fingerprint: 0x51b20ee1\n",
      "Coefficient statistics:\n",
      "  Matrix range     [1e-09, 1e+00]\n",
      "  Objective range  [0e+00, 0e+00]\n",
      "  Bounds range     [1e+00, 1e+00]\n",
      "  RHS range        [1e-02, 1e+00]\n",
      "Presolve removed 2506 rows and 8814 columns\n",
      "Presolve time: 0.05s\n",
      "\n",
      "Solved in 0 iterations and 0.05 seconds (0.03 work units)\n",
      "Infeasible model\n",
      "Gurobi Optimizer version 12.0.1 build v12.0.1rc0 (win64 - Windows 11.0 (26100.2))\n",
      "\n",
      "CPU model: Intel(R) Core(TM) i5-1035G1 CPU @ 1.00GHz, instruction set [SSE2|AVX|AVX2|AVX512]\n",
      "Thread count: 4 physical cores, 8 logical processors, using up to 8 threads\n",
      "\n",
      "Non-default parameters:\n",
      "TimeLimit  300\n",
      "\n",
      "\n",
      "IIS computed: 1 constraints and 84 bounds\n",
      "IIS runtime: 0.00 seconds (0.00 work units)\n",
      "Optimization status: INFEASIBLE\n",
      "Runtime: 0.04999995231628418\n"
     ]
    }
   ],
   "source": [
    "# construct constraints\n",
    "constraints = Constraint(\n",
    "    joint_probability = True\n",
    ")\n",
    "\n",
    "# optimize\n",
    "opt = Optimization(data_downsampled, constraints, tqdm_disable=True, print_solution=True, silent=False, compute_IIS=True)"
   ]
  },
  {
   "cell_type": "code",
   "execution_count": 10,
   "id": "718ad249",
   "metadata": {},
   "outputs": [
    {
     "data": {
      "text/plain": [
       "array([[0.042025, 0.043025, 0.029   , 0.018   , 1.      , 1.      ],\n",
       "       [0.045025, 0.04105 , 0.032   , 0.016   , 1.      , 1.      ],\n",
       "       [0.029   , 0.03    , 0.026   , 1.      , 1.      , 1.      ],\n",
       "       [0.017   , 0.018   , 1.      , 1.      , 1.      , 1.      ],\n",
       "       [1.      , 1.      , 1.      , 1.      , 1.      , 1.      ],\n",
       "       [1.      , 1.      , 1.      , 1.      , 1.      , 1.      ]])"
      ]
     },
     "execution_count": 10,
     "metadata": {},
     "output_type": "execute_result"
    }
   ],
   "source": [
    "bounds = data_downsampled.probs_OB['sample-0']['bounds']\n",
    "bounds[1, :, :] - bounds[0, :, :]"
   ]
  },
  {
   "cell_type": "markdown",
   "id": "8798b024",
   "metadata": {},
   "source": [
    "Truncation sig smaller for -2 than -6 (even -3 gets fiarly large)\n",
    "\n",
    "Epsilon doesnt change indep BD results\n",
    "\n",
    "Int BD infeasible for -2, -3, etc and still very slow"
   ]
  }
 ],
 "metadata": {
  "kernelspec": {
   "display_name": "M5R_venv",
   "language": "python",
   "name": "python3"
  },
  "language_info": {
   "codemirror_mode": {
    "name": "ipython",
    "version": 3
   },
   "file_extension": ".py",
   "mimetype": "text/x-python",
   "name": "python",
   "nbconvert_exporter": "python",
   "pygments_lexer": "ipython3",
   "version": "3.10.11"
  }
 },
 "nbformat": 4,
 "nbformat_minor": 5
}
