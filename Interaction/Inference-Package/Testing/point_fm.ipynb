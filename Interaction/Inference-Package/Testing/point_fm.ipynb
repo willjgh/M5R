{
 "cells": [
  {
   "cell_type": "code",
   "execution_count": 22,
   "id": "a1ef5e2d",
   "metadata": {},
   "outputs": [],
   "source": [
    "import json\n",
    "import gurobipy as gp\n",
    "from gurobipy import GRB\n",
    "import numpy as np\n",
    "import matplotlib.pyplot as plt\n",
    "from interaction_inference import simulation\n",
    "from interaction_inference.constraints import Constraint\n",
    "from interaction_inference.optimization import Optimization\n",
    "from copy import deepcopy"
   ]
  },
  {
   "cell_type": "code",
   "execution_count": 2,
   "id": "9792cdc7",
   "metadata": {},
   "outputs": [],
   "source": [
    "rng = np.random.default_rng(1)"
   ]
  },
  {
   "cell_type": "code",
   "execution_count": 106,
   "id": "a96c7d3f",
   "metadata": {},
   "outputs": [
    {
     "name": "stderr",
     "output_type": "stream",
     "text": [
      "100%|██████████| 10/10 [00:07<00:00,  1.28it/s]\n"
     ]
    }
   ],
   "source": [
    "# simulate sample\n",
    "data = simulation.simulate_dataset_range_BD(\n",
    "    name = \"test\",\n",
    "    interaction_values = [50, 20, 10, 8, 6, 4, 2, 1, 0.5, 0], #[5, 4.5, 4, 3.5, 3, 2.5, 2, 1.5, 1, 0.5, 0],\n",
    "    cells = 1000,\n",
    "    rate = 1,\n",
    "    tqdm_disable = False\n",
    ")"
   ]
  },
  {
   "cell_type": "code",
   "execution_count": 107,
   "id": "b4291a01",
   "metadata": {},
   "outputs": [],
   "source": [
    "# downsample\n",
    "m = 0.75\n",
    "b = (1 / m) - 1\n",
    "if b == 0 :\n",
    "    beta = np.ones(1000)\n",
    "else:\n",
    "    beta = rng.beta(1, b, size=1000)\n",
    "data_downsampled = data.downsample(\"test\", beta)"
   ]
  },
  {
   "cell_type": "code",
   "execution_count": 108,
   "id": "5237675d",
   "metadata": {},
   "outputs": [
    {
     "name": "stderr",
     "output_type": "stream",
     "text": [
      "100%|██████████| 10/10 [00:00<00:00, 75.85it/s]\n",
      "100%|██████████| 10/10 [00:00<00:00, 26.55it/s]\n"
     ]
    }
   ],
   "source": [
    "# bootstrap\n",
    "data_downsampled.bootstrap_probabilities(tqdm_disable=False)\n",
    "data_downsampled.compute_fm(tqdm_disable=False)"
   ]
  },
  {
   "cell_type": "code",
   "execution_count": 109,
   "id": "bda3e179",
   "metadata": {},
   "outputs": [],
   "source": [
    "# copy data\n",
    "data_downsampled_point = deepcopy(data_downsampled)\n",
    "eps = 10 ** -6\n",
    "for sample, fms in data_downsampled_point.fm_OB.items():\n",
    "    # replace fm1m2 bounds by mean bound\n",
    "    fm1m2 = fms['fm1m2']\n",
    "    for m1 in range(fm1m2.shape[1]):\n",
    "        for m2 in range(fm1m2.shape[2]):\n",
    "            if not (fm1m2[0, m1, m2] == 0.0 and fm1m2[1, m1, m2] == 1.0):\n",
    "                mean = (fm1m2[0, m1, m2] + fm1m2[1, m1, m2]) / 2\n",
    "                fm1m2[0, m1, m2] = mean - eps\n",
    "                fm1m2[1, m1, m2] = mean + eps\n",
    "    data_downsampled_point.fm_OB[sample]['fm1m2'] = fm1m2\n",
    "    # replace fm1 bounds by mean bound\n",
    "    fm1 = fms['fm1']\n",
    "    for m1 in range(fm1.shape[1]):\n",
    "        if not (fm1[0, m1] == 0.0 and fm1[1, m1] == 1.0):\n",
    "            mean = (fm1[0, m1] + fm1[1, m1]) / 2\n",
    "            fm1[0, m1] = mean - eps\n",
    "            fm1[1, m1] = mean + eps\n",
    "    data_downsampled_point.fm_OB[sample]['fm1'] = fm1\n",
    "    # replace fm2 bounds by mean bound\n",
    "    fm2 = fms['fm2']\n",
    "    for m2 in range(fm2.shape[1]):\n",
    "        if not (fm2[0, m2] == 0.0 and fm2[1, m2] == 1.0):\n",
    "            mean = (fm2[0, m2] + fm1[1, m2]) / 2\n",
    "            fm2[0, m2] = mean - eps\n",
    "            fm2[1, m2] = mean + eps\n",
    "    data_downsampled_point.fm_OB[sample]['fm2'] = fm2"
   ]
  },
  {
   "cell_type": "code",
   "execution_count": 110,
   "id": "70465555",
   "metadata": {},
   "outputs": [],
   "source": [
    "# construct constraints\n",
    "constraints = Constraint(\n",
    "    downsampled_probability = True,\n",
    "    downsampled_CME         = True,\n",
    "    k_deg_1                 = True,\n",
    "    k_reg                   = True\n",
    ")\n",
    "\n",
    "# optimize\n",
    "opt = Optimization(data_downsampled, constraints, tqdm_disable=True, print_solution=False)"
   ]
  },
  {
   "cell_type": "code",
   "execution_count": 111,
   "id": "9d4ec5f1",
   "metadata": {},
   "outputs": [],
   "source": [
    "# construct constraints\n",
    "constraints = Constraint(\n",
    "    downsampled_probability = True,\n",
    "    downsampled_CME         = True,\n",
    "    k_deg_1                 = True,\n",
    "    k_reg                   = True\n",
    ")\n",
    "\n",
    "# optimize\n",
    "opt_point = Optimization(data_downsampled_point, constraints, tqdm_disable=True, print_solution=False)"
   ]
  },
  {
   "cell_type": "code",
   "execution_count": 112,
   "id": "ee6ef869",
   "metadata": {},
   "outputs": [
    {
     "name": "stdout",
     "output_type": "stream",
     "text": [
      "OPTIMAL, OPTIMAL\n",
      "INFEASIBLE, INFEASIBLE\n",
      "INFEASIBLE, INFEASIBLE\n",
      "OPTIMAL, OPTIMAL\n",
      "INFEASIBLE, INFEASIBLE\n",
      "INFEASIBLE, INFEASIBLE\n",
      "OPTIMAL, OPTIMAL\n",
      "OPTIMAL, OPTIMAL\n",
      "OPTIMAL, OPTIMAL\n",
      "OPTIMAL, OPTIMAL\n"
     ]
    }
   ],
   "source": [
    "for i in opt.result_dict.keys():\n",
    "    print(f\"{opt.result_dict[i]['status']}, {opt_point.result_dict[i]['status']}\")"
   ]
  }
 ],
 "metadata": {
  "kernelspec": {
   "display_name": "M5R_venv",
   "language": "python",
   "name": "python3"
  },
  "language_info": {
   "codemirror_mode": {
    "name": "ipython",
    "version": 3
   },
   "file_extension": ".py",
   "mimetype": "text/x-python",
   "name": "python",
   "nbconvert_exporter": "python",
   "pygments_lexer": "ipython3",
   "version": "3.10.11"
  }
 },
 "nbformat": 4,
 "nbformat_minor": 5
}
