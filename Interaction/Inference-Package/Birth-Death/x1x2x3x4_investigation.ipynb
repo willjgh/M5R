{
 "cells": [
  {
   "cell_type": "code",
   "execution_count": 1,
   "id": "68573b7b",
   "metadata": {},
   "outputs": [],
   "source": [
    "from interaction_inference import simulation\n",
    "from interaction_inference import correlation\n",
    "from interaction_inference import optimization\n",
    "from interaction_inference import dataset\n",
    "import numpy as np\n",
    "import matplotlib.pyplot as plt\n",
    "from matplotlib.colors import LinearSegmentedColormap\n",
    "import pandas as pd\n",
    "import tqdm"
   ]
  },
  {
   "cell_type": "code",
   "execution_count": 2,
   "id": "d8a7fc3c",
   "metadata": {},
   "outputs": [],
   "source": [
    "rng = np.random.default_rng()"
   ]
  },
  {
   "cell_type": "markdown",
   "id": "15eb2d0f",
   "metadata": {},
   "source": [
    "# $X_{1}$ $X_{2}$ $X_{3}$ $X_{4}$ Investigation"
   ]
  },
  {
   "cell_type": "markdown",
   "id": "4d23b0cc",
   "metadata": {},
   "source": [
    "## Simulation"
   ]
  },
  {
   "cell_type": "code",
   "execution_count": 9,
   "id": "4fef431a",
   "metadata": {},
   "outputs": [],
   "source": [
    "# settings\n",
    "rate_1 = 5\n",
    "rate_2 = 5\n",
    "int_str_1 = 10\n",
    "int_str_2 = 10\n",
    "cells = 1000\n",
    "\n",
    "# dataframes\n",
    "counts_df = pd.DataFrame(index=[f\"Gene-pair-{i}\" for i in range(4)], columns=[f\"Cell-{j}\" for j in range(cells)])\n",
    "\n",
    "# Set reaction rate parameters\n",
    "params_1 = {\n",
    "    'k_tx_1': rate_1,\n",
    "    'k_tx_2': rate_1,\n",
    "    'k_deg_1': 1,\n",
    "    'k_deg_2': 1,\n",
    "    'k_reg': int_str_1\n",
    "}\n",
    "\n",
    "# simulate (x1, x2) interacting samples from model\n",
    "x1_x2 = simulation.gillespie_birth_death(params_1, cells)\n",
    "\n",
    "# Set reaction rate parameters\n",
    "params_2 = {\n",
    "    'k_tx_1': rate_2,\n",
    "    'k_tx_2': rate_2,\n",
    "    'k_deg_1': 1,\n",
    "    'k_deg_2': 1,\n",
    "    'k_reg': int_str_2\n",
    "}\n",
    "\n",
    "# simulate (x3, x4) interacting samples from model\n",
    "x3_x4 = simulation.gillespie_birth_death(params_2, cells)\n",
    "\n",
    "# split into x1, x2, x3, x4\n",
    "x1 = [x[0] for x in x1_x2]\n",
    "x2 = [x[1] for x in x1_x2]\n",
    "x3 = [x[0] for x in x3_x4]\n",
    "x4 = [x[1] for x in x3_x4]\n",
    "\n",
    "# create (x1, x3), (x1, x4), (x2, x3) and (x2, x4) pairs\n",
    "x1_x3 = list(zip(x1, x3))\n",
    "x1_x4 = list(zip(x1, x4))\n",
    "x2_x3 = list(zip(x2, x3))\n",
    "x2_x4 = list(zip(x2, x4))\n",
    "\n",
    "# store counts\n",
    "counts_df.iloc[0] = x1_x3\n",
    "counts_df.iloc[1] = x1_x4\n",
    "counts_df.iloc[2] = x2_x3\n",
    "counts_df.iloc[3] = x2_x4\n",
    "\n",
    "# construct dataset object\n",
    "data = dataset.Dataset(\"X1X2X3X4\")\n",
    "\n",
    "# store information\n",
    "data.count_dataset = counts_df\n",
    "data.cells = cells\n",
    "data.gene_pairs = 4\n",
    "data.beta = np.array([1.0 for j in range(cells)])"
   ]
  },
  {
   "cell_type": "code",
   "execution_count": 10,
   "id": "ea73bc83",
   "metadata": {},
   "outputs": [
    {
     "name": "stderr",
     "output_type": "stream",
     "text": [
      "  0%|          | 0/4 [00:00<?, ?it/s]"
     ]
    },
    {
     "name": "stderr",
     "output_type": "stream",
     "text": [
      "100%|██████████| 4/4 [00:00<00:00,  9.31it/s]\n",
      "100%|██████████| 4/4 [00:00<00:00, 28.45it/s]\n"
     ]
    },
    {
     "data": {
      "image/png": "[encoded data removed]",
      "text/plain": [
       "<Figure size 600x300 with 2 Axes>"
      ]
     },
     "metadata": {},
     "output_type": "display_data"
    },
    {
     "name": "stderr",
     "output_type": "stream",
     "text": [
      "100%|██████████| 7/7 [00:00<00:00, 481.49it/s]\n",
      "100%|██████████| 7/7 [00:00<00:00, 250.84it/s]\n",
      "100%|██████████| 36/36 [00:00<00:00, 386.23it/s]\n",
      "100%|██████████| 4/4 [00:00<00:00,  8.07it/s]\n"
     ]
    }
   ],
   "source": [
    "data.compute_moments(tqdm_disable=False)\n",
    "data.compute_probabilities(display=True, tqdm_disable=False)\n",
    "data.compute_fm(tqdm_disable=False)"
   ]
  },
  {
   "cell_type": "markdown",
   "id": "49e09174",
   "metadata": {},
   "source": [
    "## Independent feasibility test"
   ]
  },
  {
   "cell_type": "code",
   "execution_count": 11,
   "id": "6e56dab0",
   "metadata": {},
   "outputs": [
    {
     "name": "stdout",
     "output_type": "stream",
     "text": [
      "X1, X1, X2, X2\n",
      "Optimization status: INFEASIBLE\n",
      "Runtime: 0.06299996376037598\n",
      "Optimization status: INFEASIBLE\n",
      "Runtime: 0.0009999275207519531\n",
      "Optimization status: INFEASIBLE\n",
      "Runtime: 0.0\n",
      "Optimization status: INFEASIBLE\n",
      "Runtime: 0.0009999275207519531\n",
      "X3, X4, X3, X4\n",
      "Optimization status: INFEASIBLE\n",
      "Runtime: 0.0\n",
      "Optimization status: INFEASIBLE\n",
      "Runtime: 0.0019998550415039062\n",
      "Optimization status: INFEASIBLE\n",
      "Runtime: 0.0\n",
      "Optimization status: INFEASIBLE\n",
      "Runtime: 0.0010001659393310547\n"
     ]
    }
   ],
   "source": [
    "constraints = [\n",
    "    \"downsampled_marginal_probability_1\",\n",
    "    \"downsampled_marginal_CME_1\",\n",
    "    \"k_deg_1\"\n",
    "]\n",
    "\n",
    "print(\"X1, X1, X2, X2\")\n",
    "\n",
    "single_sample = optimization.Optimization(data, constraints, tqdm_disable=True)\n",
    "\n",
    "constraints = [\n",
    "    \"downsampled_marginal_probability_2\",\n",
    "    \"downsampled_marginal_CME_2\",\n",
    "    \"k_deg_2\"\n",
    "]\n",
    "\n",
    "print(\"X3, X4, X3, X4\")\n",
    "\n",
    "single_sample = optimization.Optimization(data, constraints, tqdm_disable=True)"
   ]
  },
  {
   "cell_type": "markdown",
   "id": "7faa6096",
   "metadata": {},
   "source": [
    "## Interacting feasibility test"
   ]
  },
  {
   "cell_type": "code",
   "execution_count": 12,
   "id": "24e51adb",
   "metadata": {},
   "outputs": [
    {
     "name": "stdout",
     "output_type": "stream",
     "text": [
      "(X1, X3), (X1, X4), (X2, X3), (X2, X4)\n",
      "Optimization status: INFEASIBLE\n",
      "Runtime: 0.11700010299682617\n",
      "Optimization status: INFEASIBLE\n",
      "Runtime: 0.05099987983703613\n",
      "Optimization status: INFEASIBLE\n",
      "Runtime: 0.09399986267089844\n",
      "Optimization status: INFEASIBLE\n",
      "Runtime: 0.029999971389770508\n"
     ]
    }
   ],
   "source": [
    "constraints = [\n",
    "    \"joint_probability\",\n",
    "    \"CME\",\n",
    "    \"k_deg_1\"\n",
    "]\n",
    "\n",
    "print(\"(X1, X3), (X1, X4), (X2, X3), (X2, X4)\")\n",
    "\n",
    "pair_sample = optimization.Optimization(data, constraints, tqdm_disable=True)"
   ]
  },
  {
   "cell_type": "code",
   "execution_count": 13,
   "id": "19fd5a99",
   "metadata": {},
   "outputs": [
    {
     "name": "stdout",
     "output_type": "stream",
     "text": [
      "(X1, X3), (X1, X4), (X2, X3), (X2, X4)\n",
      "Optimization status: INFEASIBLE\n",
      "Runtime: 0.21299982070922852\n",
      "Optimization status: INFEASIBLE\n",
      "Runtime: 0.13300013542175293\n",
      "Optimization status: INFEASIBLE\n",
      "Runtime: 0.09099984169006348\n",
      "Optimization status: INFEASIBLE\n",
      "Runtime: 0.05500006675720215\n"
     ]
    }
   ],
   "source": [
    "constraints = [\n",
    "    \"downsampled_probability\",\n",
    "    \"downsampled_CME\",\n",
    "    \"k_deg_1\"\n",
    "]\n",
    "\n",
    "print(\"(X1, X3), (X1, X4), (X2, X3), (X2, X4)\")\n",
    "\n",
    "pair_sample = optimization.Optimization(data, constraints, tqdm_disable=True)"
   ]
  },
  {
   "cell_type": "markdown",
   "id": "cce486b9",
   "metadata": {},
   "source": [
    "## Moment test"
   ]
  },
  {
   "cell_type": "code",
   "execution_count": 14,
   "id": "ac57fa3d",
   "metadata": {},
   "outputs": [
    {
     "name": "stdout",
     "output_type": "stream",
     "text": [
      "(X1, X3), (X1, X4), (X2, X3), (X2, X4)\n",
      "Optimization status: OPTIMAL\n",
      "Runtime: 0.03800010681152344\n",
      "Optimization status: OPTIMAL\n",
      "Runtime: 0.01699995994567871\n",
      "Optimization status: OPTIMAL\n",
      "Runtime: 0.0070002079010009766\n",
      "Optimization status: OPTIMAL\n",
      "Runtime: 0.0010001659393310547\n"
     ]
    }
   ],
   "source": [
    "constraints = [\n",
    "    \"dummy_moment\"\n",
    "]\n",
    "\n",
    "print(\"(X1, X3), (X1, X4), (X2, X3), (X2, X4)\")\n",
    "\n",
    "pair_sample = optimization.Optimization(data, constraints, tqdm_disable=True)"
   ]
  }
 ],
 "metadata": {
  "kernelspec": {
   "display_name": "M5R_venv",
   "language": "python",
   "name": "python3"
  },
  "language_info": {
   "codemirror_mode": {
    "name": "ipython",
    "version": 3
   },
   "file_extension": ".py",
   "mimetype": "text/x-python",
   "name": "python",
   "nbconvert_exporter": "python",
   "pygments_lexer": "ipython3",
   "version": "3.10.11"
  }
 },
 "nbformat": 4,
 "nbformat_minor": 5
}
