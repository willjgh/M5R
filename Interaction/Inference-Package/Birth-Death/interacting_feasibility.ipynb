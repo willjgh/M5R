{
 "cells": [
  {
   "cell_type": "code",
   "execution_count": 1,
   "metadata": {},
   "outputs": [],
   "source": [
    "from interaction_inference import simulation\n",
    "from interaction_inference import correlation\n",
    "from interaction_inference import optimization\n",
    "from interaction_inference import dataset\n",
    "import numpy as np\n",
    "import matplotlib.pyplot as plt\n",
    "from matplotlib.colors import LinearSegmentedColormap\n",
    "import pandas as pd\n",
    "import tqdm"
   ]
  },
  {
   "cell_type": "code",
   "execution_count": 2,
   "metadata": {},
   "outputs": [],
   "source": [
    "rng = np.random.default_rng()"
   ]
  },
  {
   "cell_type": "markdown",
   "metadata": {},
   "source": [
    "# Interacting Birth-Death feasibility test\n",
    "\n",
    "Optimizing on the downsampled scale it is now possible to test the feasibility of an 'interacting birth-death' model using joint probability constraints at low capture efficiency without time and memory scaling issues faced by the original scale methods.\n",
    "\n",
    "We will use feasible data (sampled from the model) and infeasibile data (sampled from an interacting telegraph) to investigate the performance of the test"
   ]
  },
  {
   "cell_type": "code",
   "execution_count": 4,
   "metadata": {},
   "outputs": [
    {
     "name": "stderr",
     "output_type": "stream",
     "text": [
      "  0%|          | 0/6 [00:00<?, ?it/s]"
     ]
    },
    {
     "name": "stderr",
     "output_type": "stream",
     "text": [
      "100%|██████████| 6/6 [00:22<00:00,  3.77s/it]\n"
     ]
    }
   ],
   "source": [
    "data = simulation.simulate_dataset_range_BD(\"data\", [0, 1, 2, 3, 4, 5], rate=5, tqdm_disable=False)"
   ]
  },
  {
   "cell_type": "code",
   "execution_count": 5,
   "metadata": {},
   "outputs": [],
   "source": [
    "beta = rng.beta(1, 2, size=1000)"
   ]
  },
  {
   "cell_type": "code",
   "execution_count": 6,
   "metadata": {},
   "outputs": [],
   "source": [
    "data_downsampled = data.downsample(\"data_downsampled\", beta)"
   ]
  },
  {
   "cell_type": "code",
   "execution_count": 7,
   "metadata": {},
   "outputs": [
    {
     "name": "stderr",
     "output_type": "stream",
     "text": [
      "100%|██████████| 6/6 [00:00<00:00, 12.64it/s]\n",
      "100%|██████████| 6/6 [00:00<00:00, 13.02it/s]\n",
      "100%|██████████| 6/6 [00:00<00:00, 26.07it/s]\n"
     ]
    }
   ],
   "source": [
    "data_downsampled.compute_fm(tqdm_disable=False)\n",
    "data_downsampled.compute_moments(tqdm_disable=False)\n",
    "data_downsampled.bootstrap_probabilities(tqdm_disable=False)"
   ]
  },
  {
   "cell_type": "code",
   "execution_count": 9,
   "metadata": {},
   "outputs": [
    {
     "name": "stdout",
     "output_type": "stream",
     "text": [
      "Optimization status: OPTIMAL\n",
      "Runtime: 0.017000198364257812\n",
      "Optimization status: OPTIMAL\n",
      "Runtime: 0.015000104904174805\n",
      "Optimization status: OPTIMAL\n",
      "Runtime: 0.01399993896484375\n",
      "Optimization status: OPTIMAL\n",
      "Runtime: 0.01399993896484375\n",
      "Optimization status: OPTIMAL\n",
      "Runtime: 0.0019998550415039062\n",
      "Optimization status: OPTIMAL\n",
      "Runtime: 0.004999876022338867\n"
     ]
    }
   ],
   "source": [
    "constraints = [\n",
    "    \"downsampled_probability\",\n",
    "    \"downsampled_CME\",\n",
    "    \"k_deg_1\"\n",
    "]\n",
    "\n",
    "result = optimization.Optimization(data_downsampled, constraints, tqdm_disable=True)"
   ]
  },
  {
   "cell_type": "code",
   "execution_count": 23,
   "metadata": {},
   "outputs": [
    {
     "name": "stderr",
     "output_type": "stream",
     "text": [
      "  0%|          | 0/6 [00:00<?, ?it/s]"
     ]
    },
    {
     "name": "stderr",
     "output_type": "stream",
     "text": [
      "100%|██████████| 6/6 [00:19<00:00,  3.27s/it]\n",
      "100%|██████████| 6/6 [00:12<00:00,  2.05s/it]\n",
      "100%|██████████| 6/6 [00:02<00:00,  2.14it/s]\n"
     ]
    }
   ],
   "source": [
    "data_90 = simulation.simulate_dataset_range_TE(\"data_90\", [0, 1, 2, 3, 4, 5], gene=0.9, rate=5, tqdm_disable=False)\n",
    "data_50 = simulation.simulate_dataset_range_TE(\"data_50\", [0, 1, 2, 3, 4, 5], gene=0.5, rate=5, tqdm_disable=False)\n",
    "data_10 = simulation.simulate_dataset_range_TE(\"data_10\", [0, 1, 2, 3, 4, 5], gene=0.1, rate=5, tqdm_disable=False)"
   ]
  },
  {
   "cell_type": "code",
   "execution_count": 26,
   "metadata": {},
   "outputs": [],
   "source": [
    "beta = rng.beta(1, 2, size=1000)"
   ]
  },
  {
   "cell_type": "code",
   "execution_count": 27,
   "metadata": {},
   "outputs": [],
   "source": [
    "data_downsampled_90 = data_90.downsample(\"data_downsampled_90\", beta)\n",
    "data_downsampled_50 = data_50.downsample(\"data_downsampled_50\", beta)\n",
    "data_downsampled_10 = data_10.downsample(\"data_downsampled_10\", beta)"
   ]
  },
  {
   "cell_type": "code",
   "execution_count": 29,
   "metadata": {},
   "outputs": [
    {
     "name": "stderr",
     "output_type": "stream",
     "text": [
      "100%|██████████| 6/6 [00:00<00:00, 13.93it/s]\n",
      "100%|██████████| 6/6 [00:00<00:00, 12.42it/s]\n",
      "100%|██████████| 6/6 [00:00<00:00, 44.90it/s]\n",
      "100%|██████████| 6/6 [00:00<00:00, 14.40it/s]\n",
      "100%|██████████| 6/6 [00:00<00:00, 15.00it/s]\n",
      "100%|██████████| 6/6 [00:00<00:00, 42.97it/s]\n",
      "100%|██████████| 6/6 [00:00<00:00, 16.64it/s]\n",
      "100%|██████████| 6/6 [00:00<00:00, 12.42it/s]\n",
      "100%|██████████| 6/6 [00:00<00:00, 43.63it/s]\n"
     ]
    }
   ],
   "source": [
    "data_downsampled_90.compute_fm(tqdm_disable=False)\n",
    "data_downsampled_90.compute_moments(tqdm_disable=False)\n",
    "data_downsampled_90.bootstrap_probabilities(tqdm_disable=False)\n",
    "data_downsampled_50.compute_fm(tqdm_disable=False)\n",
    "data_downsampled_50.compute_moments(tqdm_disable=False)\n",
    "data_downsampled_50.bootstrap_probabilities(tqdm_disable=False)\n",
    "data_downsampled_10.compute_fm(tqdm_disable=False)\n",
    "data_downsampled_10.compute_moments(tqdm_disable=False)\n",
    "data_downsampled_10.bootstrap_probabilities(tqdm_disable=False)"
   ]
  },
  {
   "cell_type": "code",
   "execution_count": 30,
   "metadata": {},
   "outputs": [
    {
     "name": "stdout",
     "output_type": "stream",
     "text": [
      "$k_{on}$ = 90%\n",
      "Optimization status: OPTIMAL\n",
      "Runtime: 0.03600001335144043\n",
      "Optimization status: OPTIMAL\n",
      "Runtime: 0.015000104904174805\n",
      "Optimization status: OPTIMAL\n",
      "Runtime: 0.013000011444091797\n",
      "Optimization status: OPTIMAL\n",
      "Runtime: 0.009999990463256836\n",
      "Optimization status: OPTIMAL\n",
      "Runtime: 0.008999824523925781\n",
      "Optimization status: OPTIMAL\n",
      "Runtime: 0.0009999275207519531\n",
      "$k_{on}$ = 50%\n",
      "Optimization status: OPTIMAL\n",
      "Runtime: 0.24500012397766113\n",
      "Optimization status: OPTIMAL\n",
      "Runtime: 0.023999929428100586\n",
      "Optimization status: OPTIMAL\n",
      "Runtime: 0.017000198364257812\n",
      "Optimization status: OPTIMAL\n",
      "Runtime: 0.016000032424926758\n",
      "Optimization status: OPTIMAL\n",
      "Runtime: 0.016000032424926758\n",
      "Optimization status: OPTIMAL\n",
      "Runtime: 0.01399993896484375\n",
      "$k_{on}$ = 10%\n",
      "Optimization status: INFEASIBLE\n",
      "Runtime: 0.04699993133544922\n",
      "Optimization status: INFEASIBLE\n",
      "Runtime: 0.10800004005432129\n",
      "Optimization status: INFEASIBLE\n",
      "Runtime: 0.3840000629425049\n",
      "Optimization status: INFEASIBLE\n",
      "Runtime: 0.22899985313415527\n",
      "Optimization status: INFEASIBLE\n",
      "Runtime: 0.03600001335144043\n",
      "Optimization status: INFEASIBLE\n",
      "Runtime: 0.0709998607635498\n"
     ]
    }
   ],
   "source": [
    "constraints = [\n",
    "    \"downsampled_probability\",\n",
    "    \"downsampled_CME\",\n",
    "    \"k_deg_1\"\n",
    "]\n",
    "\n",
    "print(r\"$k_{on}$ = 90%\")\n",
    "\n",
    "result_90 = optimization.Optimization(data_downsampled_90, constraints, tqdm_disable=True)\n",
    "\n",
    "print(r\"$k_{on}$ = 50%\")\n",
    "\n",
    "result_50 = optimization.Optimization(data_downsampled_50, constraints, tqdm_disable=True)\n",
    "\n",
    "print(r\"$k_{on}$ = 10%\")\n",
    "\n",
    "result_10 = optimization.Optimization(data_downsampled_10, constraints, tqdm_disable=True)"
   ]
  },
  {
   "cell_type": "markdown",
   "metadata": {},
   "source": [
    "## Gridtest\n",
    "\n",
    "Look at a grid of capture efficiency and gene-on-rates to assess the performance of the feasibility test\n",
    "\n",
    "Also investigate if interaction strength has an effect on performance: testing feasibility of a model that allows interaction, but interation in telegraph model could lead to data more / less similar to birth death data."
   ]
  },
  {
   "cell_type": "code",
   "execution_count": 3,
   "metadata": {},
   "outputs": [],
   "source": [
    "def simulate_dataset(name, gene_values, int_val=0.0, cells=1000, rate=1, runs=1, tqdm_disable=False):\n",
    "    '''\n",
    "    Custom dataset simulation\n",
    "    '''\n",
    "\n",
    "    # number of pairs\n",
    "    gene_pairs = len(gene_values) * runs\n",
    "\n",
    "    # dataframes\n",
    "    params_df = pd.DataFrame(index=[f\"Gene-pair-{i}\" for i in range(gene_pairs)], columns=['k_on_1', 'k_on_2', 'k_off_1', 'k_off_2', 'k_tx_1', 'k_tx_2', 'k_deg_1', 'k_deg_2', 'k_reg'])\n",
    "    counts_df = pd.DataFrame(index=[f\"Gene-pair-{i}\" for i in range(gene_pairs)], columns=[f\"Cell-{j}\" for j in range(cells)])\n",
    "\n",
    "    # sample counter\n",
    "    i = 0\n",
    "\n",
    "    # for each sample\n",
    "    for gene_val in tqdm.tqdm(gene_values, disable=tqdm_disable):\n",
    "        for k in range(runs):\n",
    "\n",
    "            # Set reaction rate parameters\n",
    "            k_on_1 = gene_val\n",
    "            k_on_2 = gene_val\n",
    "            k_off_1 = 1 - gene_val\n",
    "            k_off_2 = 1 - gene_val\n",
    "            k_tx_1 = rate\n",
    "            k_tx_2 = rate\n",
    "            k_deg_1 = 1\n",
    "            k_deg_2 = 1\n",
    "            k_reg = int_val\n",
    "\n",
    "            # store parameters\n",
    "            params_df.iloc[i] = [k_on_1, k_on_2, k_off_1, k_off_2, k_tx_1, k_tx_2, k_deg_1, k_deg_2, k_reg]\n",
    "\n",
    "            params = {\n",
    "                'k_on_1': k_on_1,\n",
    "                'k_on_2': k_on_2,\n",
    "                'k_off_1': k_off_1,\n",
    "                'k_off_2': k_off_2,\n",
    "                'k_tx_1': k_tx_1,\n",
    "                'k_tx_2': k_tx_2,\n",
    "                'k_deg_1': k_deg_1,\n",
    "                'k_deg_2': k_deg_2,\n",
    "                'k_reg': k_reg\n",
    "            }\n",
    "\n",
    "            # simulate sample from model\n",
    "            sample = simulation.gillespie_telegraph(params, cells)\n",
    "\n",
    "            # store counts\n",
    "            counts_df.iloc[i] = sample\n",
    "\n",
    "            # increment sample\n",
    "            i += 1\n",
    "\n",
    "    # construct dataset object\n",
    "    data = dataset.Dataset(name)\n",
    "\n",
    "    # store information\n",
    "    data.count_dataset = counts_df\n",
    "    data.param_dataset = params_df\n",
    "    data.cells = cells\n",
    "    data.gene_pairs = gene_pairs\n",
    "    data.beta = np.array([1.0 for j in range(cells)])\n",
    "\n",
    "    return data"
   ]
  },
  {
   "cell_type": "code",
   "execution_count": 4,
   "metadata": {},
   "outputs": [],
   "source": [
    "def simulate_downsampled(dataset, capture_values):\n",
    "    '''\n",
    "    Produce array of downsampled 'dataset' by each capture\n",
    "    '''\n",
    "\n",
    "    # downsampled dataset\n",
    "    data_array = np.empty(len(capture_values), dtype=object)\n",
    "\n",
    "    # for each capture\n",
    "    for i, capture in enumerate(capture_values):\n",
    "\n",
    "        # sample beta\n",
    "        if capture == 0:\n",
    "            beta = np.ones(dataset.cells)\n",
    "        else:\n",
    "            beta = rng.beta(1, capture, size=dataset.cells)\n",
    "\n",
    "        # downsample dataset\n",
    "        downsampled_dataset = dataset.downsample(\n",
    "            f\"dataset-{i}\",\n",
    "            beta\n",
    "        )\n",
    "\n",
    "        # store\n",
    "        data_array[i] = downsampled_dataset\n",
    "\n",
    "    return data_array"
   ]
  },
  {
   "cell_type": "code",
   "execution_count": 5,
   "metadata": {},
   "outputs": [],
   "source": [
    "def test_array(data_array, capture_values, gene_values, runs):\n",
    "\n",
    "    # result shape\n",
    "    shape = (len(capture_values), len(gene_values))\n",
    "\n",
    "    # result array\n",
    "    results = np.zeros(shape)\n",
    "\n",
    "    # for each downsampled dataset\n",
    "    for j, data in enumerate(data_array):\n",
    "\n",
    "        # compute moments\n",
    "        data.compute_fm(tqdm_disable=True)\n",
    "        data.bootstrap_probabilities(tqdm_disable=True)\n",
    "\n",
    "        # run moment test\n",
    "        momt = optimization.Optimization(\n",
    "            data,\n",
    "            [\n",
    "                \"downsampled_probability\",\n",
    "                \"downsampled_CME\",\n",
    "                \"k_deg_1\"\n",
    "            ],\n",
    "            license_file=\"C:/WLS_credentials.json\",\n",
    "            tqdm_disable=False,\n",
    "            print_solution=False\n",
    "        )\n",
    "\n",
    "        # sample counter\n",
    "        i = 0\n",
    "\n",
    "        # for each result\n",
    "        for k, _ in enumerate(gene_values):\n",
    "            for l in range(runs):\n",
    "\n",
    "                # get result\n",
    "                if momt.result_dict[i]['status'] == \"INFEASIBLE\":\n",
    "                    results[j, k] += 1 / runs\n",
    "\n",
    "                # increment counter\n",
    "                i += 1\n",
    "\n",
    "    return results"
   ]
  },
  {
   "cell_type": "code",
   "execution_count": 6,
   "metadata": {},
   "outputs": [],
   "source": [
    "def indep_array(data_array, capture_values, gene_values, runs):\n",
    "\n",
    "    # result shape\n",
    "    shape = (len(capture_values), len(gene_values))\n",
    "\n",
    "    # result array\n",
    "    results = np.zeros(shape)\n",
    "\n",
    "    # for each downsampled dataset\n",
    "    for j, data in enumerate(data_array):\n",
    "\n",
    "        # compute moments\n",
    "        data.compute_fm(tqdm_disable=True)\n",
    "        data.bootstrap_probabilities(tqdm_disable=True)\n",
    "\n",
    "        # run moment test\n",
    "        momt = optimization.Optimization(\n",
    "            data,\n",
    "            [\n",
    "                \"downsampled_probability\",\n",
    "                \"downsampled_CME\",\n",
    "                \"k_deg_1\",\n",
    "                \"k_deg_2\",\n",
    "                \"k_reg\"\n",
    "            ],\n",
    "            license_file=\"C:/WLS_credentials.json\",\n",
    "            tqdm_disable=False,\n",
    "            print_solution=False\n",
    "        )\n",
    "\n",
    "        # sample counter\n",
    "        i = 0\n",
    "\n",
    "        # for each result\n",
    "        for k, _ in enumerate(gene_values):\n",
    "            for l in range(runs):\n",
    "\n",
    "                # get result\n",
    "                if momt.result_dict[i]['status'] == \"INFEASIBLE\":\n",
    "                    results[j, k] += 1 / runs\n",
    "\n",
    "                # increment counter\n",
    "                i += 1\n",
    "\n",
    "    return results"
   ]
  },
  {
   "cell_type": "code",
   "execution_count": null,
   "metadata": {},
   "outputs": [],
   "source": [
    "def marginal_array(data_array, capture_values, gene_values, runs):\n",
    "\n",
    "    # result shape\n",
    "    shape = (len(capture_values), len(gene_values))\n",
    "\n",
    "    # result array\n",
    "    results = np.zeros(shape)\n",
    "\n",
    "    # for each downsampled dataset\n",
    "    for j, data in enumerate(data_array):\n",
    "\n",
    "        # compute moments\n",
    "        data.compute_fm(tqdm_disable=True)\n",
    "        data.bootstrap_probabilities(tqdm_disable=True)\n",
    "\n",
    "        # run moment test\n",
    "        momt = optimization.Optimization(\n",
    "            data,\n",
    "            [\n",
    "                \"downsampled_marginal_probability_1\",\n",
    "                \"downsampled_marginal_probability_2\",\n",
    "                \"downsampled_marginal_CME_1\",\n",
    "                \"downsampled_marginal_CME_2\",\n",
    "                \"k_deg_1\",\n",
    "                \"k_deg_2\"\n",
    "            ],\n",
    "            license_file=\"C:/WLS_credentials.json\",\n",
    "            tqdm_disable=False,\n",
    "            print_solution=False\n",
    "        )\n",
    "\n",
    "        # sample counter\n",
    "        i = 0\n",
    "\n",
    "        # for each result\n",
    "        for k, _ in enumerate(gene_values):\n",
    "            for l in range(runs):\n",
    "\n",
    "                # get result\n",
    "                if momt.result_dict[i]['status'] == \"INFEASIBLE\":\n",
    "                    results[j, k] += 1 / runs\n",
    "\n",
    "                # increment counter\n",
    "                i += 1\n",
    "\n",
    "    return results"
   ]
  },
  {
   "cell_type": "code",
   "execution_count": 7,
   "metadata": {},
   "outputs": [],
   "source": [
    "# settings\n",
    "capture_values = [0, 1, 2, 3, 4, 5, 8, 10, 12, 14, 16, 18, 20]\n",
    "gene_values = [1.0, 0.9, 0.8, 0.7, 0.6, 0.5, 0.4, 0.3, 0.2, 0.1]\n",
    "runs = 10\n",
    "rate = 5"
   ]
  },
  {
   "cell_type": "code",
   "execution_count": null,
   "metadata": {},
   "outputs": [
    {
     "name": "stderr",
     "output_type": "stream",
     "text": [
      "100%|██████████| 10/10 [04:02<00:00, 24.20s/it]\n"
     ]
    }
   ],
   "source": [
    "data_0 = simulate_dataset(\"dataset-00\", gene_values, int_val=0.0, cells=1000, rate=rate, runs=runs)"
   ]
  },
  {
   "cell_type": "code",
   "execution_count": 8,
   "metadata": {},
   "outputs": [
    {
     "name": "stderr",
     "output_type": "stream",
     "text": [
      "100%|██████████| 10/10 [05:14<00:00, 31.49s/it]\n"
     ]
    }
   ],
   "source": [
    "data_5 = simulate_dataset(\"dataset-05\", gene_values, int_val=5.0, cells=1000, rate=rate, runs=runs)"
   ]
  },
  {
   "cell_type": "code",
   "execution_count": 8,
   "metadata": {},
   "outputs": [],
   "source": [
    "data_array_0 = simulate_downsampled(data_0, capture_values)"
   ]
  },
  {
   "cell_type": "code",
   "execution_count": 9,
   "metadata": {},
   "outputs": [],
   "source": [
    "data_array_5 = simulate_downsampled(data_5, capture_values)"
   ]
  },
  {
   "cell_type": "code",
   "execution_count": 9,
   "metadata": {},
   "outputs": [
    {
     "name": "stderr",
     "output_type": "stream",
     "text": [
      "100%|██████████| 100/100 [08:38<00:00,  5.19s/it] \n",
      "100%|██████████| 100/100 [10:59<00:00,  6.60s/it] \n",
      "100%|██████████| 100/100 [01:57<00:00,  1.17s/it]\n",
      "100%|██████████| 100/100 [04:52<00:00,  2.93s/it]\n",
      "100%|██████████| 100/100 [05:08<00:00,  3.09s/it]\n",
      "100%|██████████| 100/100 [00:04<00:00, 23.00it/s]\n",
      "100%|██████████| 100/100 [00:03<00:00, 26.78it/s]\n",
      "100%|██████████| 100/100 [00:03<00:00, 31.76it/s]\n",
      "100%|██████████| 100/100 [00:04<00:00, 20.83it/s]\n",
      "100%|██████████| 100/100 [00:02<00:00, 33.94it/s]\n",
      "100%|██████████| 100/100 [00:02<00:00, 33.52it/s]\n",
      "100%|██████████| 100/100 [00:02<00:00, 38.20it/s]\n",
      "100%|██████████| 100/100 [00:02<00:00, 40.02it/s]\n"
     ]
    }
   ],
   "source": [
    "test_0 = test_array(data_array_0, capture_values, gene_values, runs)"
   ]
  },
  {
   "cell_type": "code",
   "execution_count": 16,
   "metadata": {},
   "outputs": [
    {
     "name": "stderr",
     "output_type": "stream",
     "text": [
      "100%|██████████| 100/100 [07:01<00:00,  4.21s/it] \n",
      "100%|██████████| 100/100 [18:51<00:00, 11.31s/it]  \n",
      "100%|██████████| 100/100 [29:28<00:00, 17.68s/it]  \n",
      "100%|██████████| 100/100 [02:28<00:00,  1.49s/it]\n",
      "100%|██████████| 100/100 [00:08<00:00, 12.32it/s]\n",
      "100%|██████████| 100/100 [05:07<00:00,  3.07s/it]\n",
      "100%|██████████| 100/100 [00:03<00:00, 31.07it/s]\n",
      "100%|██████████| 100/100 [00:02<00:00, 33.73it/s]\n",
      "100%|██████████| 100/100 [00:02<00:00, 44.16it/s]\n",
      "100%|██████████| 100/100 [00:02<00:00, 40.85it/s]\n",
      "100%|██████████| 100/100 [00:01<00:00, 51.82it/s]\n",
      "100%|██████████| 100/100 [00:01<00:00, 52.64it/s]\n",
      "100%|██████████| 100/100 [00:01<00:00, 56.79it/s]\n"
     ]
    }
   ],
   "source": [
    "test_5 = test_array(data_array_5, capture_values, gene_values, runs)"
   ]
  },
  {
   "cell_type": "code",
   "execution_count": 10,
   "metadata": {},
   "outputs": [
    {
     "name": "stderr",
     "output_type": "stream",
     "text": [
      "100%|██████████| 100/100 [00:16<00:00,  5.94it/s]\n",
      "100%|██████████| 100/100 [00:19<00:00,  5.02it/s]\n",
      "100%|██████████| 100/100 [00:16<00:00,  6.18it/s]\n",
      "100%|██████████| 100/100 [00:17<00:00,  5.84it/s]\n",
      "100%|██████████| 100/100 [00:07<00:00, 12.79it/s]\n",
      "100%|██████████| 100/100 [00:05<00:00, 18.17it/s]\n",
      "100%|██████████| 100/100 [00:03<00:00, 30.08it/s]\n",
      "100%|██████████| 100/100 [00:03<00:00, 32.16it/s]\n",
      "100%|██████████| 100/100 [00:02<00:00, 35.22it/s]\n",
      "100%|██████████| 100/100 [00:02<00:00, 43.18it/s]\n",
      "100%|██████████| 100/100 [00:02<00:00, 45.82it/s]\n",
      "100%|██████████| 100/100 [00:02<00:00, 38.95it/s]\n",
      "100%|██████████| 100/100 [00:02<00:00, 47.73it/s]"
     ]
    },
    {
     "name": "stdout",
     "output_type": "stream",
     "text": [
      "Optimization failed\n"
     ]
    },
    {
     "name": "stderr",
     "output_type": "stream",
     "text": [
      "\n"
     ]
    }
   ],
   "source": [
    "indep_5 = indep_array(data_array_5, capture_values, gene_values, runs)"
   ]
  },
  {
   "cell_type": "code",
   "execution_count": 17,
   "metadata": {},
   "outputs": [
    {
     "name": "stderr",
     "output_type": "stream",
     "text": [
      " 11%|█         | 11/100 [00:00<00:01, 48.53it/s]"
     ]
    },
    {
     "name": "stdout",
     "output_type": "stream",
     "text": [
      "Optimization failed\n",
      "Optimization failed\n",
      "Optimization failed\n",
      "Optimization failed\n",
      "Optimization failed\n",
      "Optimization failed\n",
      "Optimization failed\n",
      "Optimization failed\n",
      "Optimization failed\n",
      "Optimization failed\n",
      "Optimization failed\n"
     ]
    },
    {
     "name": "stderr",
     "output_type": "stream",
     "text": [
      " 17%|█▋        | 17/100 [00:00<00:01, 51.40it/s]"
     ]
    },
    {
     "name": "stdout",
     "output_type": "stream",
     "text": [
      "Optimization failed\n",
      "Optimization failed\n",
      "Optimization failed\n",
      "Optimization failed\n",
      "Optimization failed\n",
      "Optimization failed\n",
      "Optimization failed\n",
      "Optimization failed\n",
      "Optimization failed\n",
      "Optimization failed\n",
      "Optimization failed\n"
     ]
    },
    {
     "name": "stderr",
     "output_type": "stream",
     "text": [
      " 23%|██▎       | 23/100 [00:00<00:01, 50.12it/s]"
     ]
    },
    {
     "name": "stdout",
     "output_type": "stream",
     "text": [
      "Optimization failed\n",
      "Optimization failed\n",
      "Optimization failed\n",
      "Optimization failed\n",
      "Optimization failed\n",
      "Optimization failed\n"
     ]
    },
    {
     "name": "stderr",
     "output_type": "stream",
     "text": [
      " 35%|███▌      | 35/100 [00:00<00:01, 43.60it/s]"
     ]
    },
    {
     "name": "stdout",
     "output_type": "stream",
     "text": [
      "Optimization failed\n",
      "Optimization failed\n",
      "Optimization failed\n",
      "Optimization failed\n",
      "Optimization failed\n",
      "Optimization failed\n",
      "Optimization failed\n",
      "Optimization failed\n",
      "Optimization failed\n",
      "Optimization failed\n",
      "Optimization failed\n",
      "Optimization failed\n"
     ]
    },
    {
     "name": "stderr",
     "output_type": "stream",
     "text": [
      " 47%|████▋     | 47/100 [00:00<00:01, 49.76it/s]"
     ]
    },
    {
     "name": "stdout",
     "output_type": "stream",
     "text": [
      "Optimization failed\n",
      "Optimization failed\n",
      "Optimization failed\n",
      "Optimization failed\n",
      "Optimization failed\n",
      "Optimization failed\n",
      "Optimization failed\n",
      "Optimization failed\n",
      "Optimization failed\n",
      "Optimization failed\n",
      "Optimization failed\n",
      "Optimization failed\n"
     ]
    },
    {
     "name": "stderr",
     "output_type": "stream",
     "text": [
      " 59%|█████▉    | 59/100 [00:01<00:00, 52.66it/s]"
     ]
    },
    {
     "name": "stdout",
     "output_type": "stream",
     "text": [
      "Optimization failed\n",
      "Optimization failed\n",
      "Optimization failed\n",
      "Optimization failed\n",
      "Optimization failed\n",
      "Optimization failed\n",
      "Optimization failed\n",
      "Optimization failed\n",
      "Optimization failed\n",
      "Optimization failed\n",
      "Optimization failed\n",
      "Optimization failed\n",
      "Optimization failed\n"
     ]
    },
    {
     "name": "stderr",
     "output_type": "stream",
     "text": [
      " 72%|███████▏  | 72/100 [00:01<00:00, 56.49it/s]"
     ]
    },
    {
     "name": "stdout",
     "output_type": "stream",
     "text": [
      "Optimization failed\n",
      "Optimization failed\n",
      "Optimization failed\n",
      "Optimization failed\n",
      "Optimization failed\n",
      "Optimization failed\n",
      "Optimization failed\n",
      "Optimization failed\n",
      "Optimization failed\n",
      "Optimization failed\n",
      "Optimization failed\n",
      "Optimization failed\n",
      "Optimization failed\n"
     ]
    },
    {
     "name": "stderr",
     "output_type": "stream",
     "text": [
      " 90%|█████████ | 90/100 [00:01<00:00, 55.24it/s]"
     ]
    },
    {
     "name": "stdout",
     "output_type": "stream",
     "text": [
      "Optimization failed\n",
      "Optimization failed\n",
      "Optimization failed\n",
      "Optimization failed\n",
      "Optimization failed\n",
      "Optimization failed\n",
      "Optimization failed\n",
      "Optimization failed\n",
      "Optimization failed\n",
      "Optimization failed\n",
      "Optimization failed\n",
      "Optimization failed\n"
     ]
    },
    {
     "name": "stderr",
     "output_type": "stream",
     "text": [
      "100%|██████████| 100/100 [00:01<00:00, 51.21it/s]"
     ]
    },
    {
     "name": "stdout",
     "output_type": "stream",
     "text": [
      "Optimization failed\n",
      "Optimization failed\n",
      "Optimization failed\n",
      "Optimization failed\n",
      "Optimization failed\n",
      "Optimization failed\n",
      "Optimization failed\n",
      "Optimization failed\n",
      "Optimization failed\n",
      "Optimization failed\n"
     ]
    },
    {
     "name": "stderr",
     "output_type": "stream",
     "text": [
      "\n",
      " 13%|█▎        | 13/100 [00:00<00:01, 61.86it/s]"
     ]
    },
    {
     "name": "stdout",
     "output_type": "stream",
     "text": [
      "Optimization failed\n",
      "Optimization failed\n",
      "Optimization failed\n",
      "Optimization failed\n",
      "Optimization failed\n",
      "Optimization failed\n",
      "Optimization failed\n",
      "Optimization failed\n",
      "Optimization failed\n",
      "Optimization failed\n",
      "Optimization failed\n",
      "Optimization failed\n",
      "Optimization failed\n"
     ]
    },
    {
     "name": "stderr",
     "output_type": "stream",
     "text": [
      " 20%|██        | 20/100 [00:00<00:01, 60.92it/s]"
     ]
    },
    {
     "name": "stdout",
     "output_type": "stream",
     "text": [
      "Optimization failed\n",
      "Optimization failed\n",
      "Optimization failed\n",
      "Optimization failed\n",
      "Optimization failed\n",
      "Optimization failed\n",
      "Optimization failed\n",
      "Optimization failed\n",
      "Optimization failed\n",
      "Optimization failed\n",
      "Optimization failed\n",
      "Optimization failed\n"
     ]
    },
    {
     "name": "stderr",
     "output_type": "stream",
     "text": [
      " 34%|███▍      | 34/100 [00:00<00:01, 60.30it/s]"
     ]
    },
    {
     "name": "stdout",
     "output_type": "stream",
     "text": [
      "Optimization failed\n",
      "Optimization failed\n",
      "Optimization failed\n",
      "Optimization failed\n",
      "Optimization failed\n",
      "Optimization failed\n",
      "Optimization failed\n",
      "Optimization failed\n",
      "Optimization failed\n",
      "Optimization failed\n",
      "Optimization failed\n",
      "Optimization failed\n",
      "Optimization failed\n"
     ]
    },
    {
     "name": "stderr",
     "output_type": "stream",
     "text": [
      " 48%|████▊     | 48/100 [00:00<00:00, 60.28it/s]"
     ]
    },
    {
     "name": "stdout",
     "output_type": "stream",
     "text": [
      "Optimization failed\n",
      "Optimization failed\n",
      "Optimization failed\n",
      "Optimization failed\n",
      "Optimization failed\n",
      "Optimization failed\n",
      "Optimization failed\n",
      "Optimization failed\n",
      "Optimization failed\n",
      "Optimization failed\n",
      "Optimization failed\n",
      "Optimization failed\n",
      "Optimization failed\n"
     ]
    },
    {
     "name": "stderr",
     "output_type": "stream",
     "text": [
      " 62%|██████▏   | 62/100 [00:01<00:00, 60.37it/s]"
     ]
    },
    {
     "name": "stdout",
     "output_type": "stream",
     "text": [
      "Optimization failed\n",
      "Optimization failed\n",
      "Optimization failed\n",
      "Optimization failed\n",
      "Optimization failed\n",
      "Optimization failed\n",
      "Optimization failed\n",
      "Optimization failed\n",
      "Optimization failed\n",
      "Optimization failed\n",
      "Optimization failed\n",
      "Optimization failed\n",
      "Optimization failed\n",
      "Optimization failed\n"
     ]
    },
    {
     "name": "stderr",
     "output_type": "stream",
     "text": [
      " 76%|███████▌  | 76/100 [00:01<00:00, 60.34it/s]"
     ]
    },
    {
     "name": "stdout",
     "output_type": "stream",
     "text": [
      "Optimization failed\n",
      "Optimization failed\n",
      "Optimization failed\n",
      "Optimization failed\n",
      "Optimization failed\n",
      "Optimization failed\n",
      "Optimization failed\n",
      "Optimization failed\n",
      "Optimization failed\n",
      "Optimization failed\n",
      "Optimization failed\n",
      "Optimization failed\n",
      "Optimization failed\n"
     ]
    },
    {
     "name": "stderr",
     "output_type": "stream",
     "text": [
      " 90%|█████████ | 90/100 [00:01<00:00, 60.35it/s]"
     ]
    },
    {
     "name": "stdout",
     "output_type": "stream",
     "text": [
      "Optimization failed\n",
      "Optimization failed\n",
      "Optimization failed\n",
      "Optimization failed\n",
      "Optimization failed\n",
      "Optimization failed\n",
      "Optimization failed\n",
      "Optimization failed\n",
      "Optimization failed\n",
      "Optimization failed\n",
      "Optimization failed\n",
      "Optimization failed\n"
     ]
    },
    {
     "name": "stderr",
     "output_type": "stream",
     "text": [
      "100%|██████████| 100/100 [00:01<00:00, 60.05it/s]\n"
     ]
    },
    {
     "name": "stdout",
     "output_type": "stream",
     "text": [
      "Optimization failed\n",
      "Optimization failed\n",
      "Optimization failed\n",
      "Optimization failed\n",
      "Optimization failed\n",
      "Optimization failed\n",
      "Optimization failed\n",
      "Optimization failed\n",
      "Optimization failed\n",
      "Optimization failed\n"
     ]
    },
    {
     "name": "stderr",
     "output_type": "stream",
     "text": [
      "  6%|▌         | 6/100 [00:00<00:01, 53.64it/s]"
     ]
    },
    {
     "name": "stdout",
     "output_type": "stream",
     "text": [
      "Optimization failed\n",
      "Optimization failed\n",
      "Optimization failed\n",
      "Optimization failed\n",
      "Optimization failed\n",
      "Optimization failed\n",
      "Optimization failed\n",
      "Optimization failed\n",
      "Optimization failed\n",
      "Optimization failed\n",
      "Optimization failed\n"
     ]
    },
    {
     "name": "stderr",
     "output_type": "stream",
     "text": [
      " 18%|█▊        | 18/100 [00:00<00:01, 50.27it/s]"
     ]
    },
    {
     "name": "stdout",
     "output_type": "stream",
     "text": [
      "Optimization failed\n",
      "Optimization failed\n",
      "Optimization failed\n",
      "Optimization failed\n",
      "Optimization failed\n",
      "Optimization failed\n",
      "Optimization failed\n",
      "Optimization failed\n",
      "Optimization failed\n",
      "Optimization failed\n",
      "Optimization failed\n"
     ]
    },
    {
     "name": "stderr",
     "output_type": "stream",
     "text": [
      " 30%|███       | 30/100 [00:00<00:01, 49.84it/s]"
     ]
    },
    {
     "name": "stdout",
     "output_type": "stream",
     "text": [
      "Optimization failed\n",
      "Optimization failed\n",
      "Optimization failed\n",
      "Optimization failed\n",
      "Optimization failed\n",
      "Optimization failed\n",
      "Optimization failed\n",
      "Optimization failed\n",
      "Optimization failed\n",
      "Optimization failed\n",
      "Optimization failed\n",
      "Optimization failed\n"
     ]
    },
    {
     "name": "stderr",
     "output_type": "stream",
     "text": [
      " 43%|████▎     | 43/100 [00:00<00:01, 55.77it/s]"
     ]
    },
    {
     "name": "stdout",
     "output_type": "stream",
     "text": [
      "Optimization failed\n",
      "Optimization failed\n",
      "Optimization failed\n",
      "Optimization failed\n",
      "Optimization failed\n",
      "Optimization failed\n",
      "Optimization failed\n",
      "Optimization failed\n",
      "Optimization failed\n",
      "Optimization failed\n",
      "Optimization failed\n",
      "Optimization failed\n",
      "Optimization failed\n",
      "Optimization failed\n"
     ]
    },
    {
     "name": "stderr",
     "output_type": "stream",
     "text": [
      " 50%|█████     | 50/100 [00:00<00:01, 49.80it/s]"
     ]
    },
    {
     "name": "stdout",
     "output_type": "stream",
     "text": [
      "Optimization failed\n",
      "Optimization failed\n",
      "Optimization failed\n",
      "Optimization failed\n",
      "Optimization failed\n",
      "Optimization failed\n",
      "Optimization failed\n",
      "Optimization failed\n"
     ]
    },
    {
     "name": "stderr",
     "output_type": "stream",
     "text": [
      " 63%|██████▎   | 63/100 [00:01<00:00, 53.31it/s]"
     ]
    },
    {
     "name": "stdout",
     "output_type": "stream",
     "text": [
      "Optimization failed\n",
      "Optimization failed\n",
      "Optimization failed\n",
      "Optimization failed\n",
      "Optimization failed\n",
      "Optimization failed\n",
      "Optimization failed\n",
      "Optimization failed\n",
      "Optimization failed\n",
      "Optimization failed\n",
      "Optimization failed\n",
      "Optimization failed\n",
      "Optimization failed\n"
     ]
    },
    {
     "name": "stderr",
     "output_type": "stream",
     "text": [
      " 76%|███████▌  | 76/100 [00:01<00:00, 56.17it/s]"
     ]
    },
    {
     "name": "stdout",
     "output_type": "stream",
     "text": [
      "Optimization failed\n",
      "Optimization failed\n",
      "Optimization failed\n",
      "Optimization failed\n",
      "Optimization failed\n",
      "Optimization failed\n",
      "Optimization failed\n",
      "Optimization failed\n",
      "Optimization failed\n",
      "Optimization failed\n",
      "Optimization failed\n",
      "Optimization failed\n",
      "Optimization failed\n"
     ]
    },
    {
     "name": "stderr",
     "output_type": "stream",
     "text": [
      " 89%|████████▉ | 89/100 [00:01<00:00, 57.75it/s]"
     ]
    },
    {
     "name": "stdout",
     "output_type": "stream",
     "text": [
      "Optimization failed\n",
      "Optimization failed\n",
      "Optimization failed\n",
      "Optimization failed\n",
      "Optimization failed\n",
      "Optimization failed\n",
      "Optimization failed\n",
      "Optimization failed\n",
      "Optimization failed\n",
      "Optimization failed\n",
      "Optimization failed\n",
      "Optimization failed\n",
      "Optimization failed\n"
     ]
    },
    {
     "name": "stderr",
     "output_type": "stream",
     "text": [
      "100%|██████████| 100/100 [00:01<00:00, 54.27it/s]"
     ]
    },
    {
     "name": "stdout",
     "output_type": "stream",
     "text": [
      "Optimization failed\n",
      "Optimization failed\n",
      "Optimization failed\n",
      "Optimization failed\n",
      "Optimization failed\n"
     ]
    },
    {
     "name": "stderr",
     "output_type": "stream",
     "text": [
      "\n",
      " 12%|█▏        | 12/100 [00:00<00:01, 55.82it/s]"
     ]
    },
    {
     "name": "stdout",
     "output_type": "stream",
     "text": [
      "Optimization failed\n",
      "Optimization failed\n",
      "Optimization failed\n",
      "Optimization failed\n",
      "Optimization failed\n",
      "Optimization failed\n",
      "Optimization failed\n",
      "Optimization failed\n",
      "Optimization failed\n",
      "Optimization failed\n",
      "Optimization failed\n",
      "Optimization failed\n"
     ]
    },
    {
     "name": "stderr",
     "output_type": "stream",
     "text": [
      " 25%|██▌       | 25/100 [00:00<00:01, 58.99it/s]"
     ]
    },
    {
     "name": "stdout",
     "output_type": "stream",
     "text": [
      "Optimization failed\n",
      "Optimization failed\n",
      "Optimization failed\n",
      "Optimization failed\n",
      "Optimization failed\n",
      "Optimization failed\n",
      "Optimization failed\n",
      "Optimization failed\n",
      "Optimization failed\n",
      "Optimization failed\n",
      "Optimization failed\n",
      "Optimization failed\n",
      "Optimization failed\n"
     ]
    },
    {
     "name": "stderr",
     "output_type": "stream",
     "text": [
      " 31%|███       | 31/100 [00:00<00:01, 49.49it/s]"
     ]
    },
    {
     "name": "stdout",
     "output_type": "stream",
     "text": [
      "Optimization failed\n",
      "Optimization failed\n",
      "Optimization failed\n",
      "Optimization failed\n",
      "Optimization failed\n",
      "Optimization failed\n",
      "Optimization failed\n"
     ]
    },
    {
     "name": "stderr",
     "output_type": "stream",
     "text": [
      " 43%|████▎     | 43/100 [00:00<00:01, 49.76it/s]"
     ]
    },
    {
     "name": "stdout",
     "output_type": "stream",
     "text": [
      "Optimization failed\n",
      "Optimization failed\n",
      "Optimization failed\n",
      "Optimization failed\n",
      "Optimization failed\n",
      "Optimization failed\n",
      "Optimization failed\n",
      "Optimization failed\n",
      "Optimization failed\n",
      "Optimization failed\n",
      "Optimization failed\n"
     ]
    },
    {
     "name": "stderr",
     "output_type": "stream",
     "text": [
      " 56%|█████▌    | 56/100 [00:01<00:00, 54.99it/s]"
     ]
    },
    {
     "name": "stdout",
     "output_type": "stream",
     "text": [
      "Optimization failed\n",
      "Optimization failed\n",
      "Optimization failed\n",
      "Optimization failed\n",
      "Optimization failed\n",
      "Optimization failed\n",
      "Optimization failed\n",
      "Optimization failed\n",
      "Optimization failed\n",
      "Optimization failed\n",
      "Optimization failed\n",
      "Optimization failed\n",
      "Optimization failed\n"
     ]
    },
    {
     "name": "stderr",
     "output_type": "stream",
     "text": [
      " 63%|██████▎   | 63/100 [00:01<00:00, 56.77it/s]"
     ]
    },
    {
     "name": "stdout",
     "output_type": "stream",
     "text": [
      "Optimization failed\n",
      "Optimization failed\n",
      "Optimization failed\n",
      "Optimization failed\n",
      "Optimization failed\n",
      "Optimization failed\n",
      "Optimization failed\n",
      "Optimization failed\n",
      "Optimization failed\n",
      "Optimization failed\n",
      "Optimization failed\n",
      "Optimization failed\n"
     ]
    },
    {
     "name": "stderr",
     "output_type": "stream",
     "text": [
      " 75%|███████▌  | 75/100 [00:01<00:00, 51.00it/s]"
     ]
    },
    {
     "name": "stdout",
     "output_type": "stream",
     "text": [
      "Optimization failed\n",
      "Optimization failed\n",
      "Optimization failed\n",
      "Optimization failed\n",
      "Optimization failed\n",
      "Optimization failed\n",
      "Optimization failed\n",
      "Optimization failed\n",
      "Optimization failed\n",
      "Optimization failed\n",
      "Optimization failed\n"
     ]
    },
    {
     "name": "stderr",
     "output_type": "stream",
     "text": [
      " 88%|████████▊ | 88/100 [00:01<00:00, 55.01it/s]"
     ]
    },
    {
     "name": "stdout",
     "output_type": "stream",
     "text": [
      "Optimization failed\n",
      "Optimization failed\n",
      "Optimization failed\n",
      "Optimization failed\n",
      "Optimization failed\n",
      "Optimization failed\n",
      "Optimization failed\n",
      "Optimization failed\n",
      "Optimization failed\n",
      "Optimization failed\n",
      "Optimization failed\n",
      "Optimization failed\n",
      "Optimization failed\n"
     ]
    },
    {
     "name": "stderr",
     "output_type": "stream",
     "text": [
      "100%|██████████| 100/100 [00:01<00:00, 53.02it/s]"
     ]
    },
    {
     "name": "stdout",
     "output_type": "stream",
     "text": [
      "Optimization failed\n",
      "Optimization failed\n",
      "Optimization failed\n",
      "Optimization failed\n",
      "Optimization failed\n",
      "Optimization failed\n",
      "Optimization failed\n",
      "Optimization failed\n"
     ]
    },
    {
     "name": "stderr",
     "output_type": "stream",
     "text": [
      "\n",
      "  2%|▏         | 2/100 [00:00<00:19,  5.13it/s]"
     ]
    },
    {
     "name": "stdout",
     "output_type": "stream",
     "text": [
      "Optimization failed\n",
      "Optimization failed\n",
      "Optimization failed\n",
      "Optimization failed\n",
      "Optimization failed\n"
     ]
    },
    {
     "name": "stderr",
     "output_type": "stream",
     "text": [
      " 16%|█▌        | 16/100 [00:00<00:02, 36.02it/s]"
     ]
    },
    {
     "name": "stdout",
     "output_type": "stream",
     "text": [
      "Optimization failed\n",
      "Optimization failed\n",
      "Optimization failed\n",
      "Optimization failed\n",
      "Optimization failed\n",
      "Optimization failed\n",
      "Optimization failed\n",
      "Optimization failed\n",
      "Optimization failed\n",
      "Optimization failed\n",
      "Optimization failed\n",
      "Optimization failed\n",
      "Optimization failed\n",
      "Optimization failed\n"
     ]
    },
    {
     "name": "stderr",
     "output_type": "stream",
     "text": [
      " 29%|██▉       | 29/100 [00:00<00:01, 48.53it/s]"
     ]
    },
    {
     "name": "stdout",
     "output_type": "stream",
     "text": [
      "Optimization failed\n",
      "Optimization failed\n",
      "Optimization failed\n",
      "Optimization failed\n",
      "Optimization failed\n",
      "Optimization failed\n",
      "Optimization failed\n",
      "Optimization failed\n",
      "Optimization failed\n",
      "Optimization failed\n",
      "Optimization failed\n",
      "Optimization failed\n",
      "Optimization failed\n"
     ]
    },
    {
     "name": "stderr",
     "output_type": "stream",
     "text": [
      " 42%|████▏     | 42/100 [00:01<00:01, 54.51it/s]"
     ]
    },
    {
     "name": "stdout",
     "output_type": "stream",
     "text": [
      "Optimization failed\n",
      "Optimization failed\n",
      "Optimization failed\n",
      "Optimization failed\n",
      "Optimization failed\n",
      "Optimization failed\n",
      "Optimization failed\n",
      "Optimization failed\n",
      "Optimization failed\n",
      "Optimization failed\n",
      "Optimization failed\n",
      "Optimization failed\n",
      "Optimization failed\n",
      "Optimization failed\n"
     ]
    },
    {
     "name": "stderr",
     "output_type": "stream",
     "text": [
      " 55%|█████▌    | 55/100 [00:01<00:00, 57.74it/s]"
     ]
    },
    {
     "name": "stdout",
     "output_type": "stream",
     "text": [
      "Optimization failed\n",
      "Optimization failed\n",
      "Optimization failed\n",
      "Optimization failed\n",
      "Optimization failed\n",
      "Optimization failed\n",
      "Optimization failed\n",
      "Optimization failed\n",
      "Optimization failed\n",
      "Optimization failed\n",
      "Optimization failed\n",
      "Optimization failed\n",
      "Optimization failed\n"
     ]
    },
    {
     "name": "stderr",
     "output_type": "stream",
     "text": [
      " 69%|██████▉   | 69/100 [00:01<00:00, 61.04it/s]"
     ]
    },
    {
     "name": "stdout",
     "output_type": "stream",
     "text": [
      "Optimization failed\n",
      "Optimization failed\n",
      "Optimization failed\n",
      "Optimization failed\n",
      "Optimization failed\n",
      "Optimization failed\n",
      "Optimization failed\n",
      "Optimization failed\n",
      "Optimization failed\n",
      "Optimization failed\n",
      "Optimization failed\n",
      "Optimization failed\n",
      "Optimization failed\n",
      "Optimization failed\n"
     ]
    },
    {
     "name": "stderr",
     "output_type": "stream",
     "text": [
      " 83%|████████▎ | 83/100 [00:01<00:00, 60.79it/s]"
     ]
    },
    {
     "name": "stdout",
     "output_type": "stream",
     "text": [
      "Optimization failed\n",
      "Optimization failed\n",
      "Optimization failed\n",
      "Optimization failed\n",
      "Optimization failed\n",
      "Optimization failed\n",
      "Optimization failed\n",
      "Optimization failed\n",
      "Optimization failed\n",
      "Optimization failed\n",
      "Optimization failed\n",
      "Optimization failed\n",
      "Optimization failed\n"
     ]
    },
    {
     "name": "stderr",
     "output_type": "stream",
     "text": [
      " 97%|█████████▋| 97/100 [00:01<00:00, 59.67it/s]"
     ]
    },
    {
     "name": "stdout",
     "output_type": "stream",
     "text": [
      "Optimization failed\n",
      "Optimization failed\n",
      "Optimization failed\n",
      "Optimization failed\n",
      "Optimization failed\n",
      "Optimization failed\n",
      "Optimization failed\n",
      "Optimization failed\n",
      "Optimization failed\n",
      "Optimization failed\n",
      "Optimization failed\n",
      "Optimization failed\n",
      "Optimization failed\n"
     ]
    },
    {
     "name": "stderr",
     "output_type": "stream",
     "text": [
      "100%|██████████| 100/100 [00:02<00:00, 49.55it/s]\n"
     ]
    },
    {
     "name": "stdout",
     "output_type": "stream",
     "text": [
      "Optimization failed\n"
     ]
    },
    {
     "name": "stderr",
     "output_type": "stream",
     "text": [
      "  4%|▍         | 4/100 [00:00<00:02, 33.00it/s]"
     ]
    },
    {
     "name": "stdout",
     "output_type": "stream",
     "text": [
      "Optimization failed\n",
      "Optimization failed\n",
      "Optimization failed\n",
      "Optimization failed\n",
      "Optimization failed\n",
      "Optimization failed\n",
      "Optimization failed\n",
      "Optimization failed\n",
      "Optimization failed\n",
      "Optimization failed\n",
      "Optimization failed\n"
     ]
    },
    {
     "name": "stderr",
     "output_type": "stream",
     "text": [
      " 17%|█▋        | 17/100 [00:00<00:01, 45.53it/s]"
     ]
    },
    {
     "name": "stdout",
     "output_type": "stream",
     "text": [
      "Optimization failed\n",
      "Optimization failed\n",
      "Optimization failed\n",
      "Optimization failed\n",
      "Optimization failed\n",
      "Optimization failed\n",
      "Optimization failed\n",
      "Optimization failed\n",
      "Optimization failed\n",
      "Optimization failed\n",
      "Optimization failed\n",
      "Optimization failed\n"
     ]
    },
    {
     "name": "stderr",
     "output_type": "stream",
     "text": [
      " 29%|██▉       | 29/100 [00:00<00:01, 50.49it/s]"
     ]
    },
    {
     "name": "stdout",
     "output_type": "stream",
     "text": [
      "Optimization failed\n",
      "Optimization failed\n",
      "Optimization failed\n",
      "Optimization failed\n",
      "Optimization failed\n",
      "Optimization failed\n",
      "Optimization failed\n",
      "Optimization failed\n",
      "Optimization failed\n",
      "Optimization failed\n",
      "Optimization failed\n"
     ]
    },
    {
     "name": "stderr",
     "output_type": "stream",
     "text": [
      " 41%|████      | 41/100 [00:00<00:01, 48.49it/s]"
     ]
    },
    {
     "name": "stdout",
     "output_type": "stream",
     "text": [
      "Optimization failed\n",
      "Optimization failed\n",
      "Optimization failed\n",
      "Optimization failed\n",
      "Optimization failed\n",
      "Optimization failed\n",
      "Optimization failed\n",
      "Optimization failed\n",
      "Optimization failed\n",
      "Optimization failed\n"
     ]
    },
    {
     "name": "stderr",
     "output_type": "stream",
     "text": [
      " 52%|█████▏    | 52/100 [00:01<00:00, 49.77it/s]"
     ]
    },
    {
     "name": "stdout",
     "output_type": "stream",
     "text": [
      "Optimization failed\n",
      "Optimization failed\n",
      "Optimization failed\n",
      "Optimization failed\n",
      "Optimization failed\n",
      "Optimization failed\n",
      "Optimization failed\n",
      "Optimization failed\n",
      "Optimization failed\n",
      "Optimization failed\n",
      "Optimization failed\n",
      "Optimization failed\n"
     ]
    },
    {
     "name": "stderr",
     "output_type": "stream",
     "text": [
      " 64%|██████▍   | 64/100 [00:01<00:00, 48.96it/s]"
     ]
    },
    {
     "name": "stdout",
     "output_type": "stream",
     "text": [
      "Optimization failed\n",
      "Optimization failed\n",
      "Optimization failed\n",
      "Optimization failed\n",
      "Optimization failed\n",
      "Optimization failed\n",
      "Optimization failed\n",
      "Optimization failed\n",
      "Optimization failed\n",
      "Optimization failed\n",
      "Optimization failed\n"
     ]
    },
    {
     "name": "stderr",
     "output_type": "stream",
     "text": [
      " 75%|███████▌  | 75/100 [00:01<00:00, 47.70it/s]"
     ]
    },
    {
     "name": "stdout",
     "output_type": "stream",
     "text": [
      "Optimization failed\n",
      "Optimization failed\n",
      "Optimization failed\n",
      "Optimization failed\n",
      "Optimization failed\n",
      "Optimization failed\n",
      "Optimization failed\n",
      "Optimization failed\n",
      "Optimization failed\n"
     ]
    },
    {
     "name": "stderr",
     "output_type": "stream",
     "text": [
      " 87%|████████▋ | 87/100 [00:01<00:00, 51.40it/s]"
     ]
    },
    {
     "name": "stdout",
     "output_type": "stream",
     "text": [
      "Optimization failed\n",
      "Optimization failed\n",
      "Optimization failed\n",
      "Optimization failed\n",
      "Optimization failed\n",
      "Optimization failed\n",
      "Optimization failed\n",
      "Optimization failed\n",
      "Optimization failed\n",
      "Optimization failed\n",
      "Optimization failed\n",
      "Optimization failed\n",
      "Optimization failed\n"
     ]
    },
    {
     "name": "stderr",
     "output_type": "stream",
     "text": [
      " 93%|█████████▎| 93/100 [00:01<00:00, 51.15it/s]"
     ]
    },
    {
     "name": "stdout",
     "output_type": "stream",
     "text": [
      "Optimization failed\n",
      "Optimization failed\n",
      "Optimization failed\n",
      "Optimization failed\n",
      "Optimization failed\n",
      "Optimization failed\n",
      "Optimization failed\n",
      "Optimization failed\n",
      "Optimization failed\n",
      "Optimization failed\n"
     ]
    },
    {
     "name": "stderr",
     "output_type": "stream",
     "text": [
      "100%|██████████| 100/100 [00:02<00:00, 49.39it/s]\n"
     ]
    },
    {
     "name": "stdout",
     "output_type": "stream",
     "text": [
      "Optimization failed\n"
     ]
    },
    {
     "name": "stderr",
     "output_type": "stream",
     "text": [
      "  6%|▌         | 6/100 [00:00<00:01, 52.31it/s]"
     ]
    },
    {
     "name": "stdout",
     "output_type": "stream",
     "text": [
      "Optimization failed\n",
      "Optimization failed\n",
      "Optimization failed\n",
      "Optimization failed\n",
      "Optimization failed\n",
      "Optimization failed\n",
      "Optimization failed\n",
      "Optimization failed\n",
      "Optimization failed\n",
      "Optimization failed\n"
     ]
    },
    {
     "name": "stderr",
     "output_type": "stream",
     "text": [
      " 18%|█▊        | 18/100 [00:00<00:01, 49.01it/s]"
     ]
    },
    {
     "name": "stdout",
     "output_type": "stream",
     "text": [
      "Optimization failed\n",
      "Optimization failed\n",
      "Optimization failed\n",
      "Optimization failed\n",
      "Optimization failed\n",
      "Optimization failed\n",
      "Optimization failed\n",
      "Optimization failed\n",
      "Optimization failed\n",
      "Optimization failed\n",
      "Optimization failed\n",
      "Optimization failed\n",
      "Optimization failed\n"
     ]
    },
    {
     "name": "stderr",
     "output_type": "stream",
     "text": [
      " 30%|███       | 30/100 [00:00<00:01, 53.20it/s]"
     ]
    },
    {
     "name": "stdout",
     "output_type": "stream",
     "text": [
      "Optimization failed\n",
      "Optimization failed\n",
      "Optimization failed\n",
      "Optimization failed\n",
      "Optimization failed\n",
      "Optimization failed\n",
      "Optimization failed\n",
      "Optimization failed\n",
      "Optimization failed\n",
      "Optimization failed\n"
     ]
    },
    {
     "name": "stderr",
     "output_type": "stream",
     "text": [
      " 43%|████▎     | 43/100 [00:00<00:01, 51.11it/s]"
     ]
    },
    {
     "name": "stdout",
     "output_type": "stream",
     "text": [
      "Optimization failed\n",
      "Optimization failed\n",
      "Optimization failed\n",
      "Optimization failed\n",
      "Optimization failed\n",
      "Optimization failed\n",
      "Optimization failed\n",
      "Optimization failed\n",
      "Optimization failed\n",
      "Optimization failed\n",
      "Optimization failed\n"
     ]
    },
    {
     "name": "stderr",
     "output_type": "stream",
     "text": [
      " 49%|████▉     | 49/100 [00:00<00:01, 49.44it/s]"
     ]
    },
    {
     "name": "stdout",
     "output_type": "stream",
     "text": [
      "Optimization failed\n",
      "Optimization failed\n",
      "Optimization failed\n",
      "Optimization failed\n",
      "Optimization failed\n",
      "Optimization failed\n",
      "Optimization failed\n",
      "Optimization failed\n",
      "Optimization failed\n",
      "Optimization failed\n",
      "Optimization failed\n"
     ]
    },
    {
     "name": "stderr",
     "output_type": "stream",
     "text": [
      " 60%|██████    | 60/100 [00:01<00:00, 46.52it/s]"
     ]
    },
    {
     "name": "stdout",
     "output_type": "stream",
     "text": [
      "Optimization failed\n",
      "Optimization failed\n",
      "Optimization failed\n",
      "Optimization failed\n",
      "Optimization failed\n",
      "Optimization failed\n",
      "Optimization failed\n",
      "Optimization failed\n",
      "Optimization failed\n",
      "Optimization failed\n"
     ]
    },
    {
     "name": "stderr",
     "output_type": "stream",
     "text": [
      " 75%|███████▌  | 75/100 [00:01<00:00, 47.40it/s]"
     ]
    },
    {
     "name": "stdout",
     "output_type": "stream",
     "text": [
      "Optimization failed\n",
      "Optimization failed\n",
      "Optimization failed\n",
      "Optimization failed\n",
      "Optimization failed\n",
      "Optimization failed\n",
      "Optimization failed\n",
      "Optimization failed\n",
      "Optimization failed\n",
      "Optimization failed\n",
      "Optimization failed\n"
     ]
    },
    {
     "name": "stderr",
     "output_type": "stream",
     "text": [
      " 85%|████████▌ | 85/100 [00:01<00:00, 45.27it/s]"
     ]
    },
    {
     "name": "stdout",
     "output_type": "stream",
     "text": [
      "Optimization failed\n",
      "Optimization failed\n",
      "Optimization failed\n",
      "Optimization failed\n",
      "Optimization failed\n",
      "Optimization failed\n",
      "Optimization failed\n",
      "Optimization failed\n",
      "Optimization failed\n",
      "Optimization failed\n"
     ]
    },
    {
     "name": "stderr",
     "output_type": "stream",
     "text": [
      " 95%|█████████▌| 95/100 [00:02<00:00, 42.71it/s]"
     ]
    },
    {
     "name": "stdout",
     "output_type": "stream",
     "text": [
      "Optimization failed\n",
      "Optimization failed\n",
      "Optimization failed\n",
      "Optimization failed\n",
      "Optimization failed\n",
      "Optimization failed\n",
      "Optimization failed\n",
      "Optimization failed\n",
      "Optimization failed\n"
     ]
    },
    {
     "name": "stderr",
     "output_type": "stream",
     "text": [
      "100%|██████████| 100/100 [00:02<00:00, 46.35it/s]\n"
     ]
    },
    {
     "name": "stdout",
     "output_type": "stream",
     "text": [
      "Optimization failed\n",
      "Optimization failed\n",
      "Optimization failed\n",
      "Optimization failed\n",
      "Optimization failed\n"
     ]
    },
    {
     "name": "stderr",
     "output_type": "stream",
     "text": [
      " 11%|█         | 11/100 [00:00<00:01, 53.10it/s]"
     ]
    },
    {
     "name": "stdout",
     "output_type": "stream",
     "text": [
      "Optimization failed\n",
      "Optimization failed\n",
      "Optimization failed\n",
      "Optimization failed\n",
      "Optimization failed\n",
      "Optimization failed\n",
      "Optimization failed\n",
      "Optimization failed\n",
      "Optimization failed\n",
      "Optimization failed\n",
      "Optimization failed\n",
      "Optimization failed\n",
      "Optimization failed\n"
     ]
    },
    {
     "name": "stderr",
     "output_type": "stream",
     "text": [
      " 23%|██▎       | 23/100 [00:00<00:01, 51.33it/s]"
     ]
    },
    {
     "name": "stdout",
     "output_type": "stream",
     "text": [
      "Optimization failed\n",
      "Optimization failed\n",
      "Optimization failed\n",
      "Optimization failed\n",
      "Optimization failed\n",
      "Optimization failed\n",
      "Optimization failed\n",
      "Optimization failed\n",
      "Optimization failed\n",
      "Optimization failed\n",
      "Optimization failed\n"
     ]
    },
    {
     "name": "stderr",
     "output_type": "stream",
     "text": [
      " 35%|███▌      | 35/100 [00:00<00:01, 51.65it/s]"
     ]
    },
    {
     "name": "stdout",
     "output_type": "stream",
     "text": [
      "Optimization failed\n",
      "Optimization failed\n",
      "Optimization failed\n",
      "Optimization failed\n",
      "Optimization failed\n",
      "Optimization failed\n",
      "Optimization failed\n",
      "Optimization failed\n",
      "Optimization failed\n",
      "Optimization failed\n",
      "Optimization failed\n"
     ]
    },
    {
     "name": "stderr",
     "output_type": "stream",
     "text": [
      " 41%|████      | 41/100 [00:00<00:01, 53.04it/s]"
     ]
    },
    {
     "name": "stdout",
     "output_type": "stream",
     "text": [
      "Optimization failed\n",
      "Optimization failed\n",
      "Optimization failed\n",
      "Optimization failed\n",
      "Optimization failed\n",
      "Optimization failed\n",
      "Optimization failed\n",
      "Optimization failed\n",
      "Optimization failed\n",
      "Optimization failed\n"
     ]
    },
    {
     "name": "stderr",
     "output_type": "stream",
     "text": [
      " 53%|█████▎    | 53/100 [00:01<00:00, 51.43it/s]"
     ]
    },
    {
     "name": "stdout",
     "output_type": "stream",
     "text": [
      "Optimization failed\n",
      "Optimization failed\n",
      "Optimization failed\n",
      "Optimization failed\n",
      "Optimization failed\n",
      "Optimization failed\n",
      "Optimization failed\n",
      "Optimization failed\n",
      "Optimization failed\n",
      "Optimization failed\n",
      "Optimization failed\n"
     ]
    },
    {
     "name": "stderr",
     "output_type": "stream",
     "text": [
      " 65%|██████▌   | 65/100 [00:01<00:00, 49.35it/s]"
     ]
    },
    {
     "name": "stdout",
     "output_type": "stream",
     "text": [
      "Optimization failed\n",
      "Optimization failed\n",
      "Optimization failed\n",
      "Optimization failed\n",
      "Optimization failed\n",
      "Optimization failed\n",
      "Optimization failed\n",
      "Optimization failed\n",
      "Optimization failed\n",
      "Optimization failed\n",
      "Optimization failed\n"
     ]
    },
    {
     "name": "stderr",
     "output_type": "stream",
     "text": [
      " 77%|███████▋  | 77/100 [00:01<00:00, 52.10it/s]"
     ]
    },
    {
     "name": "stdout",
     "output_type": "stream",
     "text": [
      "Optimization failed\n",
      "Optimization failed\n",
      "Optimization failed\n",
      "Optimization failed\n",
      "Optimization failed\n",
      "Optimization failed\n",
      "Optimization failed\n",
      "Optimization failed\n",
      "Optimization failed\n",
      "Optimization failed\n",
      "Optimization failed\n",
      "Optimization failed\n"
     ]
    },
    {
     "name": "stderr",
     "output_type": "stream",
     "text": [
      " 89%|████████▉ | 89/100 [00:01<00:00, 50.79it/s]"
     ]
    },
    {
     "name": "stdout",
     "output_type": "stream",
     "text": [
      "Optimization failed\n",
      "Optimization failed\n",
      "Optimization failed\n",
      "Optimization failed\n",
      "Optimization failed\n",
      "Optimization failed\n",
      "Optimization failed\n",
      "Optimization failed\n",
      "Optimization failed\n",
      "Optimization failed\n",
      "Optimization failed\n"
     ]
    },
    {
     "name": "stderr",
     "output_type": "stream",
     "text": [
      " 95%|█████████▌| 95/100 [00:01<00:00, 44.71it/s]"
     ]
    },
    {
     "name": "stdout",
     "output_type": "stream",
     "text": [
      "Optimization failed\n",
      "Optimization failed\n",
      "Optimization failed\n",
      "Optimization failed\n",
      "Optimization failed\n",
      "Optimization failed\n",
      "Optimization failed\n",
      "Optimization failed\n",
      "Optimization failed\n",
      "Optimization failed\n"
     ]
    },
    {
     "name": "stderr",
     "output_type": "stream",
     "text": [
      "100%|██████████| 100/100 [00:02<00:00, 49.88it/s]\n",
      "  6%|▌         | 6/100 [00:00<00:01, 55.48it/s]"
     ]
    },
    {
     "name": "stdout",
     "output_type": "stream",
     "text": [
      "Optimization failed\n",
      "Optimization failed\n",
      "Optimization failed\n",
      "Optimization failed\n",
      "Optimization failed\n",
      "Optimization failed\n",
      "Optimization failed\n",
      "Optimization failed\n",
      "Optimization failed\n",
      "Optimization failed\n",
      "Optimization failed\n"
     ]
    },
    {
     "name": "stderr",
     "output_type": "stream",
     "text": [
      " 18%|█▊        | 18/100 [00:00<00:01, 48.98it/s]"
     ]
    },
    {
     "name": "stdout",
     "output_type": "stream",
     "text": [
      "Optimization failed\n",
      "Optimization failed\n",
      "Optimization failed\n",
      "Optimization failed\n",
      "Optimization failed\n",
      "Optimization failed\n",
      "Optimization failed\n",
      "Optimization failed\n",
      "Optimization failed\n",
      "Optimization failed\n"
     ]
    },
    {
     "name": "stderr",
     "output_type": "stream",
     "text": [
      " 29%|██▉       | 29/100 [00:00<00:01, 48.25it/s]"
     ]
    },
    {
     "name": "stdout",
     "output_type": "stream",
     "text": [
      "Optimization failed\n",
      "Optimization failed\n",
      "Optimization failed\n",
      "Optimization failed\n",
      "Optimization failed\n",
      "Optimization failed\n",
      "Optimization failed\n",
      "Optimization failed\n",
      "Optimization failed\n",
      "Optimization failed\n",
      "Optimization failed\n"
     ]
    },
    {
     "name": "stderr",
     "output_type": "stream",
     "text": [
      " 41%|████      | 41/100 [00:00<00:01, 49.96it/s]"
     ]
    },
    {
     "name": "stdout",
     "output_type": "stream",
     "text": [
      "Optimization failed\n",
      "Optimization failed\n",
      "Optimization failed\n",
      "Optimization failed\n",
      "Optimization failed\n",
      "Optimization failed\n",
      "Optimization failed\n",
      "Optimization failed\n",
      "Optimization failed\n",
      "Optimization failed\n",
      "Optimization failed\n"
     ]
    },
    {
     "name": "stderr",
     "output_type": "stream",
     "text": [
      " 53%|█████▎    | 53/100 [00:01<00:00, 50.42it/s]"
     ]
    },
    {
     "name": "stdout",
     "output_type": "stream",
     "text": [
      "Optimization failed\n",
      "Optimization failed\n",
      "Optimization failed\n",
      "Optimization failed\n",
      "Optimization failed\n",
      "Optimization failed\n",
      "Optimization failed\n",
      "Optimization failed\n",
      "Optimization failed\n",
      "Optimization failed\n"
     ]
    },
    {
     "name": "stderr",
     "output_type": "stream",
     "text": [
      " 59%|█████▉    | 59/100 [00:01<00:00, 48.78it/s]"
     ]
    },
    {
     "name": "stdout",
     "output_type": "stream",
     "text": [
      "Optimization failed\n",
      "Optimization failed\n",
      "Optimization failed\n",
      "Optimization failed\n",
      "Optimization failed\n",
      "Optimization failed\n",
      "Optimization failed\n",
      "Optimization failed\n",
      "Optimization failed\n",
      "Optimization failed\n"
     ]
    },
    {
     "name": "stderr",
     "output_type": "stream",
     "text": [
      " 69%|██████▉   | 69/100 [00:01<00:00, 49.11it/s]"
     ]
    },
    {
     "name": "stdout",
     "output_type": "stream",
     "text": [
      "Optimization failed\n",
      "Optimization failed\n",
      "Optimization failed\n",
      "Optimization failed\n",
      "Optimization failed\n",
      "Optimization failed\n",
      "Optimization failed\n",
      "Optimization failed\n",
      "Optimization failed\n",
      "Optimization failed\n",
      "Optimization failed\n"
     ]
    },
    {
     "name": "stderr",
     "output_type": "stream",
     "text": [
      " 80%|████████  | 80/100 [00:01<00:00, 49.58it/s]"
     ]
    },
    {
     "name": "stdout",
     "output_type": "stream",
     "text": [
      "Optimization failed\n",
      "Optimization failed\n",
      "Optimization failed\n",
      "Optimization failed\n",
      "Optimization failed\n",
      "Optimization failed\n",
      "Optimization failed\n",
      "Optimization failed\n",
      "Optimization failed\n",
      "Optimization failed\n",
      "Optimization failed\n"
     ]
    },
    {
     "name": "stderr",
     "output_type": "stream",
     "text": [
      " 92%|█████████▏| 92/100 [00:01<00:00, 48.68it/s]"
     ]
    },
    {
     "name": "stdout",
     "output_type": "stream",
     "text": [
      "Optimization failed\n",
      "Optimization failed\n",
      "Optimization failed\n",
      "Optimization failed\n",
      "Optimization failed\n",
      "Optimization failed\n",
      "Optimization failed\n",
      "Optimization failed\n",
      "Optimization failed\n",
      "Optimization failed\n"
     ]
    },
    {
     "name": "stderr",
     "output_type": "stream",
     "text": [
      "100%|██████████| 100/100 [00:02<00:00, 48.69it/s]"
     ]
    },
    {
     "name": "stdout",
     "output_type": "stream",
     "text": [
      "Optimization failed\n",
      "Optimization failed\n",
      "Optimization failed\n",
      "Optimization failed\n",
      "Optimization failed\n"
     ]
    },
    {
     "name": "stderr",
     "output_type": "stream",
     "text": [
      "\n",
      " 10%|█         | 10/100 [00:00<00:01, 47.91it/s]"
     ]
    },
    {
     "name": "stdout",
     "output_type": "stream",
     "text": [
      "Optimization failed\n",
      "Optimization failed\n",
      "Optimization failed\n",
      "Optimization failed\n",
      "Optimization failed\n",
      "Optimization failed\n",
      "Optimization failed\n",
      "Optimization failed\n",
      "Optimization failed\n",
      "Optimization failed\n"
     ]
    },
    {
     "name": "stderr",
     "output_type": "stream",
     "text": [
      " 16%|█▌        | 16/100 [00:00<00:01, 49.64it/s]"
     ]
    },
    {
     "name": "stdout",
     "output_type": "stream",
     "text": [
      "Optimization failed\n",
      "Optimization failed\n",
      "Optimization failed\n",
      "Optimization failed\n",
      "Optimization failed\n",
      "Optimization failed\n",
      "Optimization failed\n",
      "Optimization failed\n",
      "Optimization failed\n",
      "Optimization failed\n"
     ]
    },
    {
     "name": "stderr",
     "output_type": "stream",
     "text": [
      " 26%|██▌       | 26/100 [00:00<00:01, 47.70it/s]"
     ]
    },
    {
     "name": "stdout",
     "output_type": "stream",
     "text": [
      "Optimization failed\n",
      "Optimization failed\n",
      "Optimization failed\n",
      "Optimization failed\n",
      "Optimization failed\n",
      "Optimization failed\n",
      "Optimization failed\n",
      "Optimization failed\n",
      "Optimization failed\n",
      "Optimization failed\n",
      "Optimization failed\n",
      "Optimization failed\n"
     ]
    },
    {
     "name": "stderr",
     "output_type": "stream",
     "text": [
      " 38%|███▊      | 38/100 [00:00<00:01, 51.61it/s]"
     ]
    },
    {
     "name": "stdout",
     "output_type": "stream",
     "text": [
      "Optimization failed\n",
      "Optimization failed\n",
      "Optimization failed\n",
      "Optimization failed\n",
      "Optimization failed\n",
      "Optimization failed\n",
      "Optimization failed\n",
      "Optimization failed\n",
      "Optimization failed\n",
      "Optimization failed\n",
      "Optimization failed\n"
     ]
    },
    {
     "name": "stderr",
     "output_type": "stream",
     "text": [
      " 50%|█████     | 50/100 [00:01<00:01, 49.73it/s]"
     ]
    },
    {
     "name": "stdout",
     "output_type": "stream",
     "text": [
      "Optimization failed\n",
      "Optimization failed\n",
      "Optimization failed\n",
      "Optimization failed\n",
      "Optimization failed\n",
      "Optimization failed\n",
      "Optimization failed\n",
      "Optimization failed\n",
      "Optimization failed\n",
      "Optimization failed\n",
      "Optimization failed\n",
      "Optimization failed\n"
     ]
    },
    {
     "name": "stderr",
     "output_type": "stream",
     "text": [
      " 57%|█████▋    | 57/100 [00:01<00:00, 47.90it/s]"
     ]
    },
    {
     "name": "stdout",
     "output_type": "stream",
     "text": [
      "Optimization failed\n",
      "Optimization failed\n",
      "Optimization failed\n",
      "Optimization failed\n",
      "Optimization failed\n",
      "Optimization failed\n"
     ]
    },
    {
     "name": "stderr",
     "output_type": "stream",
     "text": [
      " 67%|██████▋   | 67/100 [00:01<00:00, 42.17it/s]"
     ]
    },
    {
     "name": "stdout",
     "output_type": "stream",
     "text": [
      "Optimization failed\n",
      "Optimization failed\n",
      "Optimization failed\n",
      "Optimization failed\n",
      "Optimization failed\n",
      "Optimization failed\n",
      "Optimization failed\n",
      "Optimization failed\n",
      "Optimization failed\n",
      "Optimization failed\n",
      "Optimization failed\n"
     ]
    },
    {
     "name": "stderr",
     "output_type": "stream",
     "text": [
      " 78%|███████▊  | 78/100 [00:01<00:00, 45.85it/s]"
     ]
    },
    {
     "name": "stdout",
     "output_type": "stream",
     "text": [
      "Optimization failed\n",
      "Optimization failed\n",
      "Optimization failed\n",
      "Optimization failed\n",
      "Optimization failed\n",
      "Optimization failed\n",
      "Optimization failed\n",
      "Optimization failed\n",
      "Optimization failed\n",
      "Optimization failed\n",
      "Optimization failed\n",
      "Optimization failed\n"
     ]
    },
    {
     "name": "stderr",
     "output_type": "stream",
     "text": [
      " 91%|█████████ | 91/100 [00:01<00:00, 45.02it/s]"
     ]
    },
    {
     "name": "stdout",
     "output_type": "stream",
     "text": [
      "Optimization failed\n",
      "Optimization failed\n",
      "Optimization failed\n",
      "Optimization failed\n",
      "Optimization failed\n",
      "Optimization failed\n",
      "Optimization failed\n",
      "Optimization failed\n",
      "Optimization failed\n"
     ]
    },
    {
     "name": "stderr",
     "output_type": "stream",
     "text": [
      "100%|██████████| 100/100 [00:02<00:00, 47.41it/s]\n"
     ]
    },
    {
     "name": "stdout",
     "output_type": "stream",
     "text": [
      "Optimization failed\n",
      "Optimization failed\n",
      "Optimization failed\n",
      "Optimization failed\n",
      "Optimization failed\n",
      "Optimization failed\n",
      "Optimization failed\n"
     ]
    },
    {
     "name": "stderr",
     "output_type": "stream",
     "text": [
      " 11%|█         | 11/100 [00:00<00:01, 50.79it/s]"
     ]
    },
    {
     "name": "stdout",
     "output_type": "stream",
     "text": [
      "Optimization failed\n",
      "Optimization failed\n",
      "Optimization failed\n",
      "Optimization failed\n",
      "Optimization failed\n",
      "Optimization failed\n",
      "Optimization failed\n",
      "Optimization failed\n",
      "Optimization failed\n",
      "Optimization failed\n",
      "Optimization failed\n"
     ]
    },
    {
     "name": "stderr",
     "output_type": "stream",
     "text": [
      " 17%|█▋        | 17/100 [00:00<00:01, 51.05it/s]"
     ]
    },
    {
     "name": "stdout",
     "output_type": "stream",
     "text": [
      "Optimization failed\n",
      "Optimization failed\n",
      "Optimization failed\n",
      "Optimization failed\n",
      "Optimization failed\n",
      "Optimization failed\n",
      "Optimization failed\n",
      "Optimization failed\n",
      "Optimization failed\n",
      "Optimization failed\n",
      "Optimization failed\n",
      "Optimization failed\n"
     ]
    },
    {
     "name": "stderr",
     "output_type": "stream",
     "text": [
      " 29%|██▉       | 29/100 [00:00<00:01, 48.54it/s]"
     ]
    },
    {
     "name": "stdout",
     "output_type": "stream",
     "text": [
      "Optimization failed\n",
      "Optimization failed\n",
      "Optimization failed\n",
      "Optimization failed\n",
      "Optimization failed\n",
      "Optimization failed\n",
      "Optimization failed\n",
      "Optimization failed\n",
      "Optimization failed\n"
     ]
    },
    {
     "name": "stderr",
     "output_type": "stream",
     "text": [
      " 40%|████      | 40/100 [00:00<00:01, 49.77it/s]"
     ]
    },
    {
     "name": "stdout",
     "output_type": "stream",
     "text": [
      "Optimization failed\n",
      "Optimization failed\n",
      "Optimization failed\n",
      "Optimization failed\n",
      "Optimization failed\n",
      "Optimization failed\n",
      "Optimization failed\n",
      "Optimization failed\n",
      "Optimization failed\n",
      "Optimization failed\n",
      "Optimization failed\n"
     ]
    },
    {
     "name": "stderr",
     "output_type": "stream",
     "text": [
      " 50%|█████     | 50/100 [00:01<00:01, 46.09it/s]"
     ]
    },
    {
     "name": "stdout",
     "output_type": "stream",
     "text": [
      "Optimization failed\n",
      "Optimization failed\n",
      "Optimization failed\n",
      "Optimization failed\n",
      "Optimization failed\n",
      "Optimization failed\n",
      "Optimization failed\n",
      "Optimization failed\n",
      "Optimization failed\n",
      "Optimization failed\n"
     ]
    },
    {
     "name": "stderr",
     "output_type": "stream",
     "text": [
      " 63%|██████▎   | 63/100 [00:01<00:00, 51.20it/s]"
     ]
    },
    {
     "name": "stdout",
     "output_type": "stream",
     "text": [
      "Optimization failed\n",
      "Optimization failed\n",
      "Optimization failed\n",
      "Optimization failed\n",
      "Optimization failed\n",
      "Optimization failed\n",
      "Optimization failed\n",
      "Optimization failed\n",
      "Optimization failed\n",
      "Optimization failed\n",
      "Optimization failed\n",
      "Optimization failed\n",
      "Optimization failed\n"
     ]
    },
    {
     "name": "stderr",
     "output_type": "stream",
     "text": [
      " 75%|███████▌  | 75/100 [00:01<00:00, 51.24it/s]"
     ]
    },
    {
     "name": "stdout",
     "output_type": "stream",
     "text": [
      "Optimization failed\n",
      "Optimization failed\n",
      "Optimization failed\n",
      "Optimization failed\n",
      "Optimization failed\n",
      "Optimization failed\n",
      "Optimization failed\n",
      "Optimization failed\n",
      "Optimization failed\n",
      "Optimization failed\n"
     ]
    },
    {
     "name": "stderr",
     "output_type": "stream",
     "text": [
      " 81%|████████  | 81/100 [00:01<00:00, 50.01it/s]"
     ]
    },
    {
     "name": "stdout",
     "output_type": "stream",
     "text": [
      "Optimization failed\n",
      "Optimization failed\n",
      "Optimization failed\n",
      "Optimization failed\n",
      "Optimization failed\n",
      "Optimization failed\n",
      "Optimization failed\n",
      "Optimization failed\n",
      "Optimization failed\n",
      "Optimization failed\n"
     ]
    },
    {
     "name": "stderr",
     "output_type": "stream",
     "text": [
      " 92%|█████████▏| 92/100 [00:01<00:00, 46.36it/s]"
     ]
    },
    {
     "name": "stdout",
     "output_type": "stream",
     "text": [
      "Optimization failed\n",
      "Optimization failed\n",
      "Optimization failed\n",
      "Optimization failed\n",
      "Optimization failed\n",
      "Optimization failed\n",
      "Optimization failed\n",
      "Optimization failed\n",
      "Optimization failed\n",
      "Optimization failed\n",
      "Optimization failed\n"
     ]
    },
    {
     "name": "stderr",
     "output_type": "stream",
     "text": [
      "100%|██████████| 100/100 [00:02<00:00, 48.95it/s]\n"
     ]
    },
    {
     "name": "stdout",
     "output_type": "stream",
     "text": [
      "Optimization failed\n",
      "Optimization failed\n",
      "Optimization failed\n"
     ]
    },
    {
     "name": "stderr",
     "output_type": "stream",
     "text": [
      "  5%|▌         | 5/100 [00:00<00:02, 44.17it/s]"
     ]
    },
    {
     "name": "stdout",
     "output_type": "stream",
     "text": [
      "Optimization failed\n",
      "Optimization failed\n",
      "Optimization failed\n",
      "Optimization failed\n",
      "Optimization failed\n",
      "Optimization failed\n",
      "Optimization failed\n",
      "Optimization failed\n",
      "Optimization failed\n",
      "Optimization failed\n"
     ]
    },
    {
     "name": "stderr",
     "output_type": "stream",
     "text": [
      " 16%|█▌        | 16/100 [00:00<00:01, 48.42it/s]"
     ]
    },
    {
     "name": "stdout",
     "output_type": "stream",
     "text": [
      "Optimization failed\n",
      "Optimization failed\n",
      "Optimization failed\n",
      "Optimization failed\n",
      "Optimization failed\n",
      "Optimization failed\n",
      "Optimization failed\n",
      "Optimization failed\n",
      "Optimization failed\n",
      "Optimization failed\n",
      "Optimization failed\n",
      "Optimization failed\n"
     ]
    },
    {
     "name": "stderr",
     "output_type": "stream",
     "text": [
      " 28%|██▊       | 28/100 [00:00<00:01, 48.91it/s]"
     ]
    },
    {
     "name": "stdout",
     "output_type": "stream",
     "text": [
      "Optimization failed\n",
      "Optimization failed\n",
      "Optimization failed\n",
      "Optimization failed\n",
      "Optimization failed\n",
      "Optimization failed\n",
      "Optimization failed\n",
      "Optimization failed\n",
      "Optimization failed\n",
      "Optimization failed\n"
     ]
    },
    {
     "name": "stderr",
     "output_type": "stream",
     "text": [
      " 38%|███▊      | 38/100 [00:00<00:01, 46.79it/s]"
     ]
    },
    {
     "name": "stdout",
     "output_type": "stream",
     "text": [
      "Optimization failed\n",
      "Optimization failed\n",
      "Optimization failed\n",
      "Optimization failed\n",
      "Optimization failed\n",
      "Optimization failed\n",
      "Optimization failed\n",
      "Optimization failed\n",
      "Optimization failed\n",
      "Optimization failed\n",
      "Optimization failed\n",
      "Optimization failed\n"
     ]
    },
    {
     "name": "stderr",
     "output_type": "stream",
     "text": [
      " 51%|█████     | 51/100 [00:01<00:00, 49.34it/s]"
     ]
    },
    {
     "name": "stdout",
     "output_type": "stream",
     "text": [
      "Optimization failed\n",
      "Optimization failed\n",
      "Optimization failed\n",
      "Optimization failed\n",
      "Optimization failed\n",
      "Optimization failed\n",
      "Optimization failed\n",
      "Optimization failed\n",
      "Optimization failed\n",
      "Optimization failed\n"
     ]
    },
    {
     "name": "stderr",
     "output_type": "stream",
     "text": [
      " 61%|██████    | 61/100 [00:01<00:00, 43.99it/s]"
     ]
    },
    {
     "name": "stdout",
     "output_type": "stream",
     "text": [
      "Optimization failed\n",
      "Optimization failed\n",
      "Optimization failed\n",
      "Optimization failed\n",
      "Optimization failed\n",
      "Optimization failed\n",
      "Optimization failed\n",
      "Optimization failed\n",
      "Optimization failed\n"
     ]
    },
    {
     "name": "stderr",
     "output_type": "stream",
     "text": [
      " 72%|███████▏  | 72/100 [00:01<00:00, 46.48it/s]"
     ]
    },
    {
     "name": "stdout",
     "output_type": "stream",
     "text": [
      "Optimization failed\n",
      "Optimization failed\n",
      "Optimization failed\n",
      "Optimization failed\n",
      "Optimization failed\n",
      "Optimization failed\n",
      "Optimization failed\n",
      "Optimization failed\n",
      "Optimization failed\n",
      "Optimization failed\n",
      "Optimization failed\n"
     ]
    },
    {
     "name": "stderr",
     "output_type": "stream",
     "text": [
      " 78%|███████▊  | 78/100 [00:01<00:00, 49.36it/s]"
     ]
    },
    {
     "name": "stdout",
     "output_type": "stream",
     "text": [
      "Optimization failed\n",
      "Optimization failed\n",
      "Optimization failed\n",
      "Optimization failed\n",
      "Optimization failed\n",
      "Optimization failed\n",
      "Optimization failed\n",
      "Optimization failed\n",
      "Optimization failed\n",
      "Optimization failed\n"
     ]
    },
    {
     "name": "stderr",
     "output_type": "stream",
     "text": [
      " 89%|████████▉ | 89/100 [00:01<00:00, 45.49it/s]"
     ]
    },
    {
     "name": "stdout",
     "output_type": "stream",
     "text": [
      "Optimization failed\n",
      "Optimization failed\n",
      "Optimization failed\n",
      "Optimization failed\n",
      "Optimization failed\n",
      "Optimization failed\n",
      "Optimization failed\n",
      "Optimization failed\n",
      "Optimization failed\n",
      "Optimization failed\n"
     ]
    },
    {
     "name": "stderr",
     "output_type": "stream",
     "text": [
      "100%|██████████| 100/100 [00:02<00:00, 47.12it/s]"
     ]
    },
    {
     "name": "stdout",
     "output_type": "stream",
     "text": [
      "Optimization failed\n",
      "Optimization failed\n",
      "Optimization failed\n",
      "Optimization failed\n",
      "Optimization failed\n",
      "Optimization failed\n"
     ]
    },
    {
     "name": "stderr",
     "output_type": "stream",
     "text": [
      "\n",
      "  5%|▌         | 5/100 [00:00<00:02, 42.72it/s]"
     ]
    },
    {
     "name": "stdout",
     "output_type": "stream",
     "text": [
      "Optimization failed\n",
      "Optimization failed\n",
      "Optimization failed\n",
      "Optimization failed\n",
      "Optimization failed\n",
      "Optimization failed\n",
      "Optimization failed\n",
      "Optimization failed\n",
      "Optimization failed\n",
      "Optimization failed\n"
     ]
    },
    {
     "name": "stderr",
     "output_type": "stream",
     "text": [
      " 16%|█▌        | 16/100 [00:00<00:01, 45.82it/s]"
     ]
    },
    {
     "name": "stdout",
     "output_type": "stream",
     "text": [
      "Optimization failed\n",
      "Optimization failed\n",
      "Optimization failed\n",
      "Optimization failed\n",
      "Optimization failed\n",
      "Optimization failed\n",
      "Optimization failed\n",
      "Optimization failed\n",
      "Optimization failed\n",
      "Optimization failed\n"
     ]
    },
    {
     "name": "stderr",
     "output_type": "stream",
     "text": [
      " 26%|██▌       | 26/100 [00:00<00:01, 46.74it/s]"
     ]
    },
    {
     "name": "stdout",
     "output_type": "stream",
     "text": [
      "Optimization failed\n",
      "Optimization failed\n",
      "Optimization failed\n",
      "Optimization failed\n",
      "Optimization failed\n",
      "Optimization failed\n",
      "Optimization failed\n",
      "Optimization failed\n",
      "Optimization failed\n",
      "Optimization failed\n",
      "Optimization failed\n",
      "Optimization failed\n"
     ]
    },
    {
     "name": "stderr",
     "output_type": "stream",
     "text": [
      " 38%|███▊      | 38/100 [00:00<00:01, 48.17it/s]"
     ]
    },
    {
     "name": "stdout",
     "output_type": "stream",
     "text": [
      "Optimization failed\n",
      "Optimization failed\n",
      "Optimization failed\n",
      "Optimization failed\n",
      "Optimization failed\n",
      "Optimization failed\n",
      "Optimization failed\n",
      "Optimization failed\n",
      "Optimization failed\n"
     ]
    },
    {
     "name": "stderr",
     "output_type": "stream",
     "text": [
      " 43%|████▎     | 43/100 [00:00<00:01, 48.61it/s]"
     ]
    },
    {
     "name": "stdout",
     "output_type": "stream",
     "text": [
      "Optimization failed\n",
      "Optimization failed\n",
      "Optimization failed\n",
      "Optimization failed\n",
      "Optimization failed\n",
      "Optimization failed\n",
      "Optimization failed\n"
     ]
    },
    {
     "name": "stderr",
     "output_type": "stream",
     "text": [
      " 53%|█████▎    | 53/100 [00:01<00:01, 38.88it/s]"
     ]
    },
    {
     "name": "stdout",
     "output_type": "stream",
     "text": [
      "Optimization failed\n",
      "Optimization failed\n",
      "Optimization failed\n",
      "Optimization failed\n",
      "Optimization failed\n",
      "Optimization failed\n",
      "Optimization failed\n",
      "Optimization failed\n",
      "Optimization failed\n"
     ]
    },
    {
     "name": "stderr",
     "output_type": "stream",
     "text": [
      " 63%|██████▎   | 63/100 [00:01<00:00, 38.90it/s]"
     ]
    },
    {
     "name": "stdout",
     "output_type": "stream",
     "text": [
      "Optimization failed\n",
      "Optimization failed\n",
      "Optimization failed\n",
      "Optimization failed\n",
      "Optimization failed\n",
      "Optimization failed\n",
      "Optimization failed\n",
      "Optimization failed\n",
      "Optimization failed\n",
      "Optimization failed\n"
     ]
    },
    {
     "name": "stderr",
     "output_type": "stream",
     "text": [
      " 74%|███████▍  | 74/100 [00:01<00:00, 44.51it/s]"
     ]
    },
    {
     "name": "stdout",
     "output_type": "stream",
     "text": [
      "Optimization failed\n",
      "Optimization failed\n",
      "Optimization failed\n",
      "Optimization failed\n",
      "Optimization failed\n",
      "Optimization failed\n",
      "Optimization failed\n",
      "Optimization failed\n",
      "Optimization failed\n",
      "Optimization failed\n",
      "Optimization failed\n"
     ]
    },
    {
     "name": "stderr",
     "output_type": "stream",
     "text": [
      " 86%|████████▌ | 86/100 [00:01<00:00, 46.96it/s]"
     ]
    },
    {
     "name": "stdout",
     "output_type": "stream",
     "text": [
      "Optimization failed\n",
      "Optimization failed\n",
      "Optimization failed\n",
      "Optimization failed\n",
      "Optimization failed\n",
      "Optimization failed\n",
      "Optimization failed\n",
      "Optimization failed\n",
      "Optimization failed\n",
      "Optimization failed\n",
      "Optimization failed\n"
     ]
    },
    {
     "name": "stderr",
     "output_type": "stream",
     "text": [
      "100%|██████████| 100/100 [00:02<00:00, 45.11it/s]"
     ]
    },
    {
     "name": "stdout",
     "output_type": "stream",
     "text": [
      "Optimization failed\n",
      "Optimization failed\n",
      "Optimization failed\n",
      "Optimization failed\n",
      "Optimization failed\n",
      "Optimization failed\n",
      "Optimization failed\n",
      "Optimization failed\n",
      "Optimization failed\n",
      "Optimization failed\n",
      "Optimization failed\n"
     ]
    },
    {
     "name": "stderr",
     "output_type": "stream",
     "text": [
      "\n"
     ]
    }
   ],
   "source": [
    "marginal_5 = marginal_array(data_array_5, capture_values, gene_values, runs)"
   ]
  },
  {
   "cell_type": "code",
   "execution_count": 20,
   "metadata": {},
   "outputs": [],
   "source": [
    "def plot(array, title, caption, capture_values, gene_values, figsize=(6, 6)):\n",
    "\n",
    "    fig, axs = plt.subplots(figsize=figsize)\n",
    "\n",
    "    #fig.suptitle(\"Infeasibility %\")\n",
    "\n",
    "    #plt.tight_layout()\n",
    "\n",
    "    cmap = LinearSegmentedColormap.from_list('br', [\"b\", \"w\", \"r\"], N=256)\n",
    "\n",
    "    vmin, vmax = 0, 1\n",
    "\n",
    "    img = axs.imshow(array, cmap=cmap, vmin=vmin, vmax=vmax)\n",
    "    axs.set_xlabel(r\"Gene on rate $k_{on}$\")\n",
    "    axs.set_xticks(range(len(gene_values)))\n",
    "    axs.set_xticklabels(gene_values)\n",
    "    axs.set_ylabel(\"Capture b: Beta(1, b)\")\n",
    "    axs.set_yticks(range(len(capture_values)))\n",
    "    axs.set_yticklabels(capture_values)\n",
    "    axs.set_title(title)\n",
    "\n",
    "    cbar = plt.colorbar(img, ax=axs)\n",
    "    cbar.set_label(caption)"
   ]
  },
  {
   "cell_type": "code",
   "execution_count": 21,
   "metadata": {},
   "outputs": [
    {
     "data": {
      "image/png": "[encoded data removed]",
      "text/plain": [
       "<Figure size 600x600 with 2 Axes>"
      ]
     },
     "metadata": {},
     "output_type": "display_data"
    }
   ],
   "source": [
    "plot(test_0, r\"Interacting birth death feasibility test ($k_{reg}$ = 0)\", \"Infeasibility %\", capture_values, gene_values)"
   ]
  },
  {
   "cell_type": "code",
   "execution_count": 20,
   "metadata": {},
   "outputs": [
    {
     "data": {
      "image/png": "[encoded data removed]",
      "text/plain": [
       "<Figure size 600x600 with 2 Axes>"
      ]
     },
     "metadata": {},
     "output_type": "display_data"
    }
   ],
   "source": [
    "plot(test_5, r\"Interacting birth death feasibility test ($k_{reg}$ = 5)\", \"Infeasibility %\", capture_values, gene_values)"
   ]
  },
  {
   "cell_type": "markdown",
   "metadata": {},
   "source": [
    "## Independent model\n",
    "\n",
    "As an example, adding $k_{reg} = 0$ constraint easily turns the optimization into an independent birth-death model feasibility test, and we see that the performance is relatively consistent across telegraph data range but worsens as capture efficiency decreases."
   ]
  },
  {
   "cell_type": "code",
   "execution_count": 21,
   "metadata": {},
   "outputs": [
    {
     "data": {
      "image/png": "[encoded data removed]",
      "text/plain": [
       "<Figure size 600x600 with 2 Axes>"
      ]
     },
     "metadata": {},
     "output_type": "display_data"
    }
   ],
   "source": [
    "plot(indep_5, r\"Independent birth death feasibility test (data with $k_{reg}$ = 5)\", \"Infeasibility %\", capture_values, gene_values)"
   ]
  },
  {
   "cell_type": "markdown",
   "metadata": {},
   "source": [
    "### Extra information"
   ]
  },
  {
   "cell_type": "code",
   "execution_count": 23,
   "metadata": {},
   "outputs": [
    {
     "name": "stdout",
     "output_type": "stream",
     "text": [
      "b = 0 | mean capture = 100%\n",
      "b = 1 | mean capture = 50%\n",
      "b = 2 | mean capture = 33%\n",
      "b = 3 | mean capture = 25%\n",
      "b = 4 | mean capture = 20%\n",
      "b = 5 | mean capture = 17%\n",
      "b = 8 | mean capture = 11%\n",
      "b = 10 | mean capture = 9%\n",
      "b = 12 | mean capture = 8%\n",
      "b = 14 | mean capture = 7%\n",
      "b = 16 | mean capture = 6%\n",
      "b = 18 | mean capture = 5%\n",
      "b = 20 | mean capture = 5%\n"
     ]
    }
   ],
   "source": [
    "for b in capture_values:\n",
    "    print(f\"b = {b} | mean capture = {round(100 / (1 + b))}%\")"
   ]
  },
  {
   "cell_type": "code",
   "execution_count": 27,
   "metadata": {},
   "outputs": [
    {
     "data": {
      "image/png": "[encoded data removed]",
      "text/plain": [
       "<Figure size 640x480 with 1 Axes>"
      ]
     },
     "metadata": {},
     "output_type": "display_data"
    },
    {
     "data": {
      "image/png": "[encoded data removed]",
      "text/plain": [
       "<Figure size 640x480 with 1 Axes>"
      ]
     },
     "metadata": {},
     "output_type": "display_data"
    },
    {
     "data": {
      "image/png": "[encoded data removed]",
      "text/plain": [
       "<Figure size 640x480 with 1 Axes>"
      ]
     },
     "metadata": {},
     "output_type": "display_data"
    },
    {
     "data": {
      "image/png": "[encoded data removed]",
      "text/plain": [
       "<Figure size 640x480 with 1 Axes>"
      ]
     },
     "metadata": {},
     "output_type": "display_data"
    },
    {
     "data": {
      "image/png": "[encoded data removed]",
      "text/plain": [
       "<Figure size 640x480 with 1 Axes>"
      ]
     },
     "metadata": {},
     "output_type": "display_data"
    },
    {
     "data": {
      "image/png": "[encoded data removed]",
      "text/plain": [
       "<Figure size 640x480 with 1 Axes>"
      ]
     },
     "metadata": {},
     "output_type": "display_data"
    },
    {
     "data": {
      "image/png": "[encoded data removed]",
      "text/plain": [
       "<Figure size 640x480 with 1 Axes>"
      ]
     },
     "metadata": {},
     "output_type": "display_data"
    },
    {
     "data": {
      "image/png": "[encoded data removed]",
      "text/plain": [
       "<Figure size 640x480 with 1 Axes>"
      ]
     },
     "metadata": {},
     "output_type": "display_data"
    },
    {
     "data": {
      "image/png": "[encoded data removed]",
      "text/plain": [
       "<Figure size 640x480 with 1 Axes>"
      ]
     },
     "metadata": {},
     "output_type": "display_data"
    },
    {
     "data": {
      "image/png": "[encoded data removed]",
      "text/plain": [
       "<Figure size 640x480 with 1 Axes>"
      ]
     },
     "metadata": {},
     "output_type": "display_data"
    },
    {
     "data": {
      "image/png": "[encoded data removed]",
      "text/plain": [
       "<Figure size 640x480 with 1 Axes>"
      ]
     },
     "metadata": {},
     "output_type": "display_data"
    },
    {
     "data": {
      "image/png": "[encoded data removed]",
      "text/plain": [
       "<Figure size 640x480 with 1 Axes>"
      ]
     },
     "metadata": {},
     "output_type": "display_data"
    },
    {
     "data": {
      "image/png": "[encoded data removed]",
      "text/plain": [
       "<Figure size 640x480 with 1 Axes>"
      ]
     },
     "metadata": {},
     "output_type": "display_data"
    }
   ],
   "source": [
    "for j, b in enumerate(capture_values):\n",
    "    b_means = []\n",
    "    for i in range(100):\n",
    "        sample = data_array_5[j].count_dataset.loc[f'Gene-pair-{i}']\n",
    "        x1 = [x[0] for x in sample]\n",
    "        x2 = [x[1] for x in sample]\n",
    "        b_means += [float(np.mean(x1)), float(np.mean(x2))]\n",
    "    plt.hist(b_means)\n",
    "    plt.title(f\"Capture Beta(1, {b})\")\n",
    "    plt.show()"
   ]
  }
 ],
 "metadata": {
  "kernelspec": {
   "display_name": "M5R_venv",
   "language": "python",
   "name": "python3"
  },
  "language_info": {
   "codemirror_mode": {
    "name": "ipython",
    "version": 3
   },
   "file_extension": ".py",
   "mimetype": "text/x-python",
   "name": "python",
   "nbconvert_exporter": "python",
   "pygments_lexer": "ipython3",
   "version": "3.10.11"
  }
 },
 "nbformat": 4,
 "nbformat_minor": 2
}
