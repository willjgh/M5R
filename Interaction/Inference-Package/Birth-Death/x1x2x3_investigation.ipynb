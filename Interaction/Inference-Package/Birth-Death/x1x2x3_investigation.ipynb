{
 "cells": [
  {
   "cell_type": "code",
   "execution_count": 1,
   "metadata": {},
   "outputs": [],
   "source": [
    "from interaction_inference import simulation\n",
    "from interaction_inference import correlation\n",
    "from interaction_inference import optimization\n",
    "from interaction_inference import dataset\n",
    "import numpy as np\n",
    "import matplotlib.pyplot as plt\n",
    "from matplotlib.colors import LinearSegmentedColormap\n",
    "import pandas as pd\n",
    "import tqdm"
   ]
  },
  {
   "cell_type": "code",
   "execution_count": 2,
   "metadata": {},
   "outputs": [],
   "source": [
    "rng = np.random.default_rng()"
   ]
  },
  {
   "cell_type": "markdown",
   "metadata": {},
   "source": [
    "# $X_{1}$ $X_{2}$ $X_{3}$ Investigation"
   ]
  },
  {
   "cell_type": "markdown",
   "metadata": {},
   "source": [
    "## Simulation"
   ]
  },
  {
   "cell_type": "code",
   "execution_count": 3,
   "metadata": {},
   "outputs": [],
   "source": [
    "# settings\n",
    "rate = 5\n",
    "int_str = 10\n",
    "cells = 1000\n",
    "\n",
    "# dataframes\n",
    "counts_df = pd.DataFrame(index=[f\"Gene-pair-{i}\" for i in range(3)], columns=[f\"Cell-{j}\" for j in range(cells)])\n",
    "\n",
    "# Set reaction rate parameters\n",
    "params = {\n",
    "    'k_tx_1': rate,\n",
    "    'k_tx_2': rate,\n",
    "    'k_deg_1': 1,\n",
    "    'k_deg_2': 1,\n",
    "    'k_reg': int_str\n",
    "}\n",
    "\n",
    "# simulate (x1, x2) interacting sample from model\n",
    "x1_x2 = simulation.gillespie_birth_death(params, cells)\n",
    "\n",
    "# split into x1, x2\n",
    "x1 = [x[0] for x in x1_x2]\n",
    "x2 = [x[1] for x in x1_x2]\n",
    "\n",
    "# simulate x3 independent sample\n",
    "x3 = rng.poisson(params['k_tx_1'], size=cells)\n",
    "\n",
    "# create (x1, x3), (x2, x3) pairs\n",
    "x1_x3 = list(zip(x1, x3))\n",
    "x2_x3 = list(zip(x2, x3))\n",
    "\n",
    "# store counts\n",
    "counts_df.iloc[0] = x1_x2\n",
    "counts_df.iloc[1] = x1_x3\n",
    "counts_df.iloc[2] = x2_x3\n",
    "\n",
    "# construct dataset object\n",
    "data = dataset.Dataset(\"X1X2X3\")\n",
    "\n",
    "# store information\n",
    "data.count_dataset = counts_df\n",
    "data.cells = cells\n",
    "data.gene_pairs = 3\n",
    "data.beta = np.array([1.0 for j in range(cells)])"
   ]
  },
  {
   "cell_type": "code",
   "execution_count": 4,
   "metadata": {},
   "outputs": [
    {
     "name": "stderr",
     "output_type": "stream",
     "text": [
      "100%|██████████| 3/3 [00:00<00:00, 13.00it/s]\n",
      "100%|██████████| 3/3 [00:00<00:00, 43.21it/s]\n"
     ]
    },
    {
     "data": {
      "image/png": "[encoded data removed]",
      "text/plain": [
       "<Figure size 600x300 with 2 Axes>"
      ]
     },
     "metadata": {},
     "output_type": "display_data"
    },
    {
     "name": "stderr",
     "output_type": "stream",
     "text": [
      "100%|██████████| 11/11 [00:02<00:00,  4.24it/s]\n",
      "100%|██████████| 11/11 [00:00<00:00, 659.99it/s]\n",
      "100%|██████████| 64/64 [00:00<00:00, 777.73it/s]\n",
      "100%|██████████| 3/3 [00:00<00:00, 10.43it/s]\n"
     ]
    }
   ],
   "source": [
    "data.compute_moments(tqdm_disable=False)\n",
    "data.compute_probabilities(display=True, tqdm_disable=False)\n",
    "data.compute_fm(tqdm_disable=False)"
   ]
  },
  {
   "cell_type": "markdown",
   "metadata": {},
   "source": [
    "## Single sample feasibility\n",
    "\n",
    "For each sample $x_{1}$, $x_{2}$, $x_{3}$ use marginal probability and CME to test feasibility of birth-death model"
   ]
  },
  {
   "cell_type": "code",
   "execution_count": 5,
   "metadata": {},
   "outputs": [
    {
     "name": "stdout",
     "output_type": "stream",
     "text": [
      "X1, X1, X2\n",
      "Optimization status: INFEASIBLE\n",
      "Runtime: 0.009999990463256836\n",
      "Optimization status: INFEASIBLE\n",
      "Runtime: 0.0\n",
      "Optimization status: INFEASIBLE\n",
      "Runtime: 0.0010001659393310547\n",
      "X2, X3, X3\n",
      "Optimization status: INFEASIBLE\n",
      "Runtime: 0.0\n",
      "Optimization status: OPTIMAL\n",
      "Runtime: 0.0409998893737793\n",
      "Optimization status: OPTIMAL\n",
      "Runtime: 0.002000093460083008\n"
     ]
    }
   ],
   "source": [
    "constraints = [\n",
    "    \"marginal_probability_1\",\n",
    "    \"marginal_CME_1\",\n",
    "    \"k_deg_1\"\n",
    "]\n",
    "\n",
    "print(\"X1, X1, X2\")\n",
    "\n",
    "single_sample = optimization.Optimization(data, constraints, tqdm_disable=True)\n",
    "\n",
    "constraints = [\n",
    "    \"marginal_probability_2\",\n",
    "    \"marginal_CME_2\",\n",
    "    \"k_deg_2\"\n",
    "]\n",
    "\n",
    "print(\"X2, X3, X3\")\n",
    "\n",
    "single_sample = optimization.Optimization(data, constraints, tqdm_disable=True)"
   ]
  },
  {
   "cell_type": "markdown",
   "metadata": {},
   "source": [
    "Birth death feasibility tests correctly identify that $X_{1}$ and $X_{2}$ do not follow a birth-death model (INFEASIBLE) but $X_{3}$ does (OPTIMAL)"
   ]
  },
  {
   "cell_type": "code",
   "execution_count": 6,
   "metadata": {},
   "outputs": [
    {
     "name": "stdout",
     "output_type": "stream",
     "text": [
      "X1, X1, X2\n",
      "Optimization status: INFEASIBLE\n",
      "Runtime: 0.007999897003173828\n",
      "Optimization status: INFEASIBLE\n",
      "Runtime: 0.0009999275207519531\n",
      "Optimization status: INFEASIBLE\n",
      "Runtime: 0.0009999275207519531\n",
      "X2, X3, X3\n",
      "Optimization status: INFEASIBLE\n",
      "Runtime: 0.0\n",
      "Optimization status: OPTIMAL\n",
      "Runtime: 0.003000020980834961\n",
      "Optimization status: OPTIMAL\n",
      "Runtime: 0.003000020980834961\n"
     ]
    }
   ],
   "source": [
    "constraints = [\n",
    "    \"downsampled_marginal_probability_1\",\n",
    "    \"downsampled_marginal_CME_1\",\n",
    "    \"k_deg_1\"\n",
    "]\n",
    "\n",
    "print(\"X1, X1, X2\")\n",
    "\n",
    "single_sample = optimization.Optimization(data, constraints, tqdm_disable=True)\n",
    "\n",
    "constraints = [\n",
    "    \"downsampled_marginal_probability_2\",\n",
    "    \"downsampled_marginal_CME_2\",\n",
    "    \"k_deg_2\"\n",
    "]\n",
    "\n",
    "print(\"X2, X3, X3\")\n",
    "\n",
    "single_sample = optimization.Optimization(data, constraints, tqdm_disable=True)"
   ]
  },
  {
   "cell_type": "markdown",
   "metadata": {},
   "source": [
    "Downsampled birth death feasibility tests produce the same results (However, note we are working at 100% capture efficiency)"
   ]
  },
  {
   "cell_type": "markdown",
   "metadata": {},
   "source": [
    "## Independent pair feasibility"
   ]
  },
  {
   "cell_type": "code",
   "execution_count": 7,
   "metadata": {},
   "outputs": [
    {
     "name": "stdout",
     "output_type": "stream",
     "text": [
      "(X1, X2), (X1, X3), (X2, X3)\n",
      "Optimization status: INFEASIBLE\n",
      "Runtime: 0.0009999275207519531\n",
      "Optimization status: INFEASIBLE\n",
      "Runtime: 0.0010001659393310547\n",
      "Optimization status: INFEASIBLE\n",
      "Runtime: 0.0\n"
     ]
    }
   ],
   "source": [
    "constraints = [\n",
    "    \"marginal_probability_1\",\n",
    "    \"marginal_probability_2\",\n",
    "    \"marginal_CME_1\",\n",
    "    \"marginal_CME_2\",\n",
    "    \"k_deg_1\",\n",
    "    \"k_deg_2\"\n",
    "]\n",
    "\n",
    "\n",
    "print(\"(X1, X2), (X1, X3), (X2, X3)\")\n",
    "\n",
    "pair_sample = optimization.Optimization(data, constraints, tqdm_disable=True)"
   ]
  },
  {
   "cell_type": "markdown",
   "metadata": {},
   "source": [
    "Using marginal constraints produces identical results to AND operation on single sample tests (as this is what is happening in constraints)\n",
    "\n",
    "(Downsampled marginal constraints also produce the same result)"
   ]
  },
  {
   "cell_type": "code",
   "execution_count": 8,
   "metadata": {},
   "outputs": [
    {
     "name": "stdout",
     "output_type": "stream",
     "text": [
      "(X1, X2), (X1, X3), (X2, X3)\n",
      "Optimization status: INFEASIBLE\n",
      "Runtime: 0.0019998550415039062\n",
      "Optimization status: INFEASIBLE\n",
      "Runtime: 0.7119998931884766\n",
      "Optimization status: INFEASIBLE\n",
      "Runtime: 0.5959999561309814\n"
     ]
    }
   ],
   "source": [
    "constraints = [\n",
    "    \"probability\",\n",
    "    \"CME\",\n",
    "    \"factorization\",\n",
    "    \"k_reg\",\n",
    "    \"k_deg_1\",\n",
    "    \"k_deg_2\"\n",
    "]\n",
    "\n",
    "\n",
    "print(\"(X1, X2), (X1, X3), (X2, X3)\")\n",
    "\n",
    "pair_sample = optimization.Optimization(data, constraints, tqdm_disable=True)"
   ]
  },
  {
   "cell_type": "markdown",
   "metadata": {},
   "source": [
    "Using joint constraints (with independence assumed) **generally** produces the same results, But, not always and perhaps only for sufficiently high interaction strength as joint constraints are weaker than marginals e.g. in the results above it is not uncommon for a pair with a gene affected by interaction to be feasible\n",
    "\n",
    "(NOTE: original scale optimization with joint constraints is only possible for (near) 100% capture efficiency, due to poor time and memory scaling of the method)"
   ]
  },
  {
   "cell_type": "markdown",
   "metadata": {},
   "source": [
    "Overall the independent birth-death feasibility tests show that if **at least one** sample in the pair is affected by sufficiently high interaction then the model is infeasible. However, it is more efficient and reliable to use marginal constraints to test individual samples for feasiblity, rather than pairs of samples / using joint information."
   ]
  },
  {
   "cell_type": "markdown",
   "metadata": {},
   "source": [
    "## Interacting pair feasibility"
   ]
  },
  {
   "cell_type": "code",
   "execution_count": 9,
   "metadata": {},
   "outputs": [
    {
     "name": "stdout",
     "output_type": "stream",
     "text": [
      "(X1, X2), (X1, X3), (X2, X3)\n",
      "Optimization status: OPTIMAL\n",
      "Runtime: 0.009999990463256836\n",
      "Optimization status: OPTIMAL\n",
      "Runtime: 0.7890000343322754\n",
      "Optimization status: OPTIMAL\n",
      "Runtime: 0.807999849319458\n"
     ]
    }
   ],
   "source": [
    "constraints = [\n",
    "    \"joint_probability\",\n",
    "    \"CME\",\n",
    "    \"k_deg_1\"\n",
    "]\n",
    "\n",
    "print(\"(X1, X2), (X1, X3), (X2, X3)\")\n",
    "\n",
    "pair_sample = optimization.Optimization(data, constraints, tqdm_disable=True)"
   ]
  },
  {
   "cell_type": "markdown",
   "metadata": {},
   "source": [
    "Interacting birth-death feasibility test is feasible for all pairs.\n",
    "\n",
    "This is expected for $(X_{1}, X_{2})$ as these truly follow an interacting birth death model, but for the pairs $(X_{1}, X_{3})$ and $(X_{2}, X_{3})$ only one the samples is affected by interaction: either the constraints are too weak to identify this, or the model is simply general enough that these pairs are still consistent with it."
   ]
  },
  {
   "cell_type": "code",
   "execution_count": 10,
   "metadata": {},
   "outputs": [
    {
     "name": "stdout",
     "output_type": "stream",
     "text": [
      "(X1, X2), (X1, X3), (X2, X3)\n",
      "Optimization status: OPTIMAL\n",
      "Runtime: 0.01699995994567871\n",
      "Optimization status: OPTIMAL\n",
      "Runtime: 0.015000104904174805\n",
      "Optimization status: OPTIMAL\n",
      "Runtime: 0.020999908447265625\n"
     ]
    }
   ],
   "source": [
    "constraints = [\n",
    "    \"downsampled_probability\",\n",
    "    \"downsampled_CME\",\n",
    "    \"k_deg_1\"\n",
    "]\n",
    "\n",
    "print(\"(X1, X2), (X1, X3), (X2, X3)\")\n",
    "\n",
    "pair_sample = optimization.Optimization(data, constraints, tqdm_disable=True)"
   ]
  },
  {
   "cell_type": "markdown",
   "metadata": {},
   "source": [
    "Downsampled feasibility test of interacting birth death model also feasible for all pairs. However, need further tests to assess if the CME discrepancies identified (0 not in confidence interval of some equations) will cause higher false positive rates (or not) for this feasibility test."
   ]
  },
  {
   "cell_type": "markdown",
   "metadata": {},
   "source": [
    "## Moment test"
   ]
  },
  {
   "cell_type": "code",
   "execution_count": 11,
   "metadata": {},
   "outputs": [
    {
     "name": "stdout",
     "output_type": "stream",
     "text": [
      "(X1, X2), (X1, X3), (X2, X3)\n",
      "Optimization status: INFEASIBLE\n",
      "Runtime: 0.0010001659393310547\n",
      "Optimization status: OPTIMAL\n",
      "Runtime: 0.006999969482421875\n",
      "Optimization status: OPTIMAL\n",
      "Runtime: 0.002000093460083008\n"
     ]
    }
   ],
   "source": [
    "constraints = [\n",
    "    \"dummy_moment\"\n",
    "]\n",
    "\n",
    "print(\"(X1, X2), (X1, X3), (X2, X3)\")\n",
    "\n",
    "pair_sample = optimization.Optimization(data, constraints, tqdm_disable=True)"
   ]
  },
  {
   "cell_type": "markdown",
   "metadata": {},
   "source": [
    "Moments correctly identify the interaction present in the 1st pair and lack of in the 2nd and 3rd pairs, even though these pairs have one sample affected by strong interaction."
   ]
  },
  {
   "cell_type": "markdown",
   "metadata": {},
   "source": [
    "## Correlation test"
   ]
  },
  {
   "cell_type": "code",
   "execution_count": 12,
   "metadata": {},
   "outputs": [
    {
     "name": "stdout",
     "output_type": "stream",
     "text": [
      "sample 0 p-value: 9.157276019994559e-54\n",
      "sample 1 p-value: 0.32439763564556545\n",
      "sample 2 p-value: 0.5489004171576909\n"
     ]
    }
   ],
   "source": [
    "corr = correlation.Correlation(data, tqdm_disable=True)"
   ]
  },
  {
   "cell_type": "markdown",
   "metadata": {},
   "source": [
    "Correlation test performs the same as the moments, correctly classifying the pairs"
   ]
  }
 ],
 "metadata": {
  "kernelspec": {
   "display_name": "M5R_venv",
   "language": "python",
   "name": "python3"
  },
  "language_info": {
   "codemirror_mode": {
    "name": "ipython",
    "version": 3
   },
   "file_extension": ".py",
   "mimetype": "text/x-python",
   "name": "python",
   "nbconvert_exporter": "python",
   "pygments_lexer": "ipython3",
   "version": "3.10.11"
  }
 },
 "nbformat": 4,
 "nbformat_minor": 2
}
