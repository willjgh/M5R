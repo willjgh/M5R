{
 "cells": [
  {
   "cell_type": "code",
   "execution_count": 1,
   "id": "285aaf1d",
   "metadata": {},
   "outputs": [],
   "source": [
    "from interaction_inference import simulation, dataset, optimization\n",
    "import numpy as np\n",
    "import pandas as pd"
   ]
  },
  {
   "cell_type": "markdown",
   "id": "f6e9ccf0",
   "metadata": {},
   "source": [
    "# Validation table\n",
    "\n",
    "Validate the model feasiblity tests by simulating a sample from each model and testing the feasiblity under each set of constraints to build a table that should match expected results.\n",
    "\n",
    "Consider the models:\n",
    "\n",
    "- independent birth-death\n",
    "- interacting birth-death\n",
    "- independent telegraph\n",
    "- interacting telegraph\n",
    "\n",
    "And the situations where: telegraph data is identifiably different from birth-death data (i.e. gene is off sometimes), and also where it is not (i.e. gene almost always on)"
   ]
  },
  {
   "cell_type": "code",
   "execution_count": 2,
   "id": "699d7a8e",
   "metadata": {},
   "outputs": [],
   "source": [
    "def simulate_dataset(on_rate=0.5, off_rate=0.5, tx_rate=5, int_str=10, cells=1000):\n",
    "\n",
    "    # independent birth-death model\n",
    "    ind_BD_params = {\n",
    "        'k_tx_1': tx_rate,\n",
    "        'k_tx_2': tx_rate,\n",
    "        'k_deg_1': 1,\n",
    "        'k_deg_2': 1,\n",
    "        'k_reg': 0\n",
    "    }\n",
    "\n",
    "    # interacting birth-death model\n",
    "    int_BD_params = {\n",
    "        'k_tx_1': tx_rate,\n",
    "        'k_tx_2': tx_rate,\n",
    "        'k_deg_1': 1,\n",
    "        'k_deg_2': 1,\n",
    "        'k_reg': int_str\n",
    "    }\n",
    "\n",
    "    # independent telegraph model\n",
    "    ind_TE_params = {\n",
    "        'k_on_1': on_rate,\n",
    "        'k_on_2': on_rate,\n",
    "        'k_off_1': off_rate,\n",
    "        'k_off_2': off_rate,\n",
    "        'k_tx_1': tx_rate,\n",
    "        'k_tx_2': tx_rate,\n",
    "        'k_deg_1': 1,\n",
    "        'k_deg_2': 1,\n",
    "        'k_reg': 0\n",
    "    }\n",
    "\n",
    "    # interacting telegraph model\n",
    "    int_TE_params = {\n",
    "        'k_on_1': on_rate,\n",
    "        'k_on_2': on_rate,\n",
    "        'k_off_1': off_rate,\n",
    "        'k_off_2': off_rate,\n",
    "        'k_tx_1': tx_rate,\n",
    "        'k_tx_2': tx_rate,\n",
    "        'k_deg_1': 1,\n",
    "        'k_deg_2': 1,\n",
    "        'k_reg': int_str\n",
    "    }\n",
    "\n",
    "    # dataframe\n",
    "    counts_df = pd.DataFrame(index=[f\"Gene-pair-{i}\" for i in range(4)], columns=[f\"Cell-{j}\" for j in range(cells)])\n",
    "\n",
    "    # simulate\n",
    "    counts_df.iloc[0] = simulation.gillespie_birth_death(ind_BD_params, cells)\n",
    "    counts_df.iloc[1] = simulation.gillespie_birth_death(int_BD_params, cells)\n",
    "    counts_df.iloc[2] = simulation.gillespie_telegraph(ind_TE_params, cells)\n",
    "    counts_df.iloc[3] = simulation.gillespie_telegraph(int_TE_params, cells)\n",
    "\n",
    "    # construct dataset object\n",
    "    data = dataset.Dataset(\"table\")\n",
    "\n",
    "    # store information\n",
    "    data.count_dataset = counts_df\n",
    "    data.cells = cells\n",
    "    data.gene_pairs = 4\n",
    "    data.beta = np.array([1.0 for j in range(cells)])\n",
    "\n",
    "    # bootstrap\n",
    "    data.bootstrap_marginal_fm(tqdm_disable=False)\n",
    "    data.bootstrap_joint_fm(tqdm_disable=False)\n",
    "    data.bootstrap_marginal_probabilities(tqdm_disable=False)\n",
    "    data.bootstrap_joint_probabilities(tqdm_disable=False)\n",
    "\n",
    "    return data"
   ]
  },
  {
   "cell_type": "code",
   "execution_count": 3,
   "id": "058e02b2",
   "metadata": {},
   "outputs": [],
   "source": [
    "def result_format(opt):\n",
    "    result = []\n",
    "    for res in opt.result_dict.values():\n",
    "        if res['status'] == \"OPTIMAL\":\n",
    "            result.append(\"FEASIBLE\")\n",
    "        elif res['status'] == \"INFEASIBLE\":\n",
    "            result.append(\"INFEASIBLE\")\n",
    "        else:\n",
    "            result.append(\"ERROR\")\n",
    "    return result\n",
    "\n",
    "def _color_red_or_green(val):\n",
    "    if val == \"FEASIBLE\":\n",
    "        color = 'green'\n",
    "    elif val == \"INFEASIBLE\":\n",
    "        color = 'red'\n",
    "    else:\n",
    "        color = 'white'\n",
    "    return 'color: %s' % color"
   ]
  },
  {
   "cell_type": "code",
   "execution_count": 4,
   "id": "706b88e3",
   "metadata": {},
   "outputs": [],
   "source": [
    "def optimize_dataset_downsampled(data):\n",
    "\n",
    "    ind_BD_constraints = [\n",
    "        \"downsampled_marginal_probability_1\",\n",
    "        \"downsampled_marginal_probability_2\",\n",
    "        \"downsampled_marginal_CME_1\",\n",
    "        \"downsampled_marginal_CME_2\",\n",
    "        \"k_deg_1\",\n",
    "        \"k_deg_2\"\n",
    "    ]\n",
    "\n",
    "    ind_BD_optimization = optimization.Optimization(data, ind_BD_constraints, tqdm_disable=False, print_solution=False, license_file=\"C:/WLS_credentials.json\")\n",
    "\n",
    "    int_BD_constraints = [\n",
    "        \"downsampled_probability\",\n",
    "        \"downsampled_CME\",\n",
    "        \"k_deg_1\"\n",
    "    ]\n",
    "\n",
    "    int_BD_optimization = optimization.Optimization(data, int_BD_constraints, tqdm_disable=False, print_solution=False, license_file=\"C:/WLS_credentials.json\")\n",
    "\n",
    "    ind_TE_constraints = [\n",
    "        \"downsampled_marginal_probability_1\",\n",
    "        \"downsampled_marginal_probability_2\",\n",
    "        \"downsampled_marginal_CME_TE_1\",\n",
    "        \"downsampled_marginal_CME_TE_2\",\n",
    "        \"downsampled_marginal_TE_link_1\",\n",
    "        \"downsampled_marginal_TE_link_2\"\n",
    "        \"k_deg_1\",\n",
    "        \"k_deg_2\"\n",
    "    ]\n",
    "\n",
    "    ind_TE_optimization = optimization.Optimization(data, ind_TE_constraints, tqdm_disable=False, print_solution=False, license_file=\"C:/WLS_credentials.json\")\n",
    "\n",
    "    int_TE_constraints = [\n",
    "        \"downsampled_probability\",\n",
    "        \"downsampled_CME_TE\",\n",
    "        \"downsampled_TE_link\",\n",
    "        \"k_deg_1\"\n",
    "    ]\n",
    "\n",
    "    int_TE_optimization = optimization.Optimization(data, int_TE_constraints, tqdm_disable=False, print_solution=False, license_file=\"C:/WLS_credentials.json\")\n",
    "\n",
    "    # result dataframe\n",
    "    col_names = [\"Ind. BD model\", \"Int. BD model\", \"Ind. TE model\", \"Int. TE model\"]\n",
    "    row_names = [\"Ind. BD data\", \"Int. BD data\", \"Ind. TE data\", \"Int. TE data\"]\n",
    "    result_df = pd.DataFrame(index=row_names, columns=col_names)\n",
    "\n",
    "    # fill\n",
    "    result_df[\"Ind. BD model\"] = result_format(ind_BD_optimization)\n",
    "    result_df[\"Int. BD model\"] = result_format(int_BD_optimization)\n",
    "    result_df[\"Ind. TE model\"] = result_format(ind_TE_optimization)\n",
    "    result_df[\"Int. TE model\"] = result_format(int_TE_optimization)\n",
    "\n",
    "    return result_df.style.map(_color_red_or_green)"
   ]
  },
  {
   "cell_type": "markdown",
   "id": "4e3d018a",
   "metadata": {},
   "source": [
    "## BD $\\ne$ TE data"
   ]
  },
  {
   "cell_type": "code",
   "execution_count": 29,
   "id": "8b3539bc",
   "metadata": {},
   "outputs": [
    {
     "name": "stderr",
     "output_type": "stream",
     "text": [
      "100%|██████████| 4/4 [00:00<00:00, 23.31it/s]\n",
      "100%|██████████| 4/4 [00:00<00:00, 22.95it/s]\n",
      "100%|██████████| 4/4 [00:00<00:00, 16.07it/s]\n",
      "100%|██████████| 4/4 [00:00<00:00, 41.25it/s]\n"
     ]
    }
   ],
   "source": [
    "data = simulate_dataset()"
   ]
  },
  {
   "cell_type": "code",
   "execution_count": 30,
   "id": "c649b6fd",
   "metadata": {},
   "outputs": [
    {
     "name": "stderr",
     "output_type": "stream",
     "text": [
      "100%|██████████| 4/4 [00:00<00:00,  8.14it/s]\n",
      "100%|██████████| 4/4 [00:03<00:00,  1.09it/s]\n",
      "100%|██████████| 4/4 [00:00<00:00,  9.05it/s]\n",
      "100%|██████████| 4/4 [00:03<00:00,  1.01it/s]\n"
     ]
    }
   ],
   "source": [
    "result = optimize_dataset_downsampled(data)"
   ]
  },
  {
   "cell_type": "code",
   "execution_count": 31,
   "id": "aac60f7f",
   "metadata": {},
   "outputs": [
    {
     "data": {
      "text/html": [
       "<style type=\"text/css\">\n",
       "#T_bf846_row0_col0, #T_bf846_row0_col1, #T_bf846_row0_col2, #T_bf846_row0_col3, #T_bf846_row1_col1, #T_bf846_row1_col2, #T_bf846_row1_col3, #T_bf846_row2_col2, #T_bf846_row2_col3, #T_bf846_row3_col2, #T_bf846_row3_col3 {\n",
       "  color: green;\n",
       "}\n",
       "#T_bf846_row1_col0, #T_bf846_row2_col0, #T_bf846_row2_col1, #T_bf846_row3_col0, #T_bf846_row3_col1 {\n",
       "  color: red;\n",
       "}\n",
       "</style>\n",
       "<table id=\"T_bf846\">\n",
       "  <thead>\n",
       "    <tr>\n",
       "      <th class=\"blank level0\" >&nbsp;</th>\n",
       "      <th id=\"T_bf846_level0_col0\" class=\"col_heading level0 col0\" >Ind. BD model</th>\n",
       "      <th id=\"T_bf846_level0_col1\" class=\"col_heading level0 col1\" >Int. BD model</th>\n",
       "      <th id=\"T_bf846_level0_col2\" class=\"col_heading level0 col2\" >Ind. TE model</th>\n",
       "      <th id=\"T_bf846_level0_col3\" class=\"col_heading level0 col3\" >Int. TE model</th>\n",
       "    </tr>\n",
       "  </thead>\n",
       "  <tbody>\n",
       "    <tr>\n",
       "      <th id=\"T_bf846_level0_row0\" class=\"row_heading level0 row0\" >Ind. BD data</th>\n",
       "      <td id=\"T_bf846_row0_col0\" class=\"data row0 col0\" >FEASIBLE</td>\n",
       "      <td id=\"T_bf846_row0_col1\" class=\"data row0 col1\" >FEASIBLE</td>\n",
       "      <td id=\"T_bf846_row0_col2\" class=\"data row0 col2\" >FEASIBLE</td>\n",
       "      <td id=\"T_bf846_row0_col3\" class=\"data row0 col3\" >FEASIBLE</td>\n",
       "    </tr>\n",
       "    <tr>\n",
       "      <th id=\"T_bf846_level0_row1\" class=\"row_heading level0 row1\" >Int. BD data</th>\n",
       "      <td id=\"T_bf846_row1_col0\" class=\"data row1 col0\" >INFEASIBLE</td>\n",
       "      <td id=\"T_bf846_row1_col1\" class=\"data row1 col1\" >FEASIBLE</td>\n",
       "      <td id=\"T_bf846_row1_col2\" class=\"data row1 col2\" >FEASIBLE</td>\n",
       "      <td id=\"T_bf846_row1_col3\" class=\"data row1 col3\" >FEASIBLE</td>\n",
       "    </tr>\n",
       "    <tr>\n",
       "      <th id=\"T_bf846_level0_row2\" class=\"row_heading level0 row2\" >Ind. TE data</th>\n",
       "      <td id=\"T_bf846_row2_col0\" class=\"data row2 col0\" >INFEASIBLE</td>\n",
       "      <td id=\"T_bf846_row2_col1\" class=\"data row2 col1\" >INFEASIBLE</td>\n",
       "      <td id=\"T_bf846_row2_col2\" class=\"data row2 col2\" >FEASIBLE</td>\n",
       "      <td id=\"T_bf846_row2_col3\" class=\"data row2 col3\" >FEASIBLE</td>\n",
       "    </tr>\n",
       "    <tr>\n",
       "      <th id=\"T_bf846_level0_row3\" class=\"row_heading level0 row3\" >Int. TE data</th>\n",
       "      <td id=\"T_bf846_row3_col0\" class=\"data row3 col0\" >INFEASIBLE</td>\n",
       "      <td id=\"T_bf846_row3_col1\" class=\"data row3 col1\" >INFEASIBLE</td>\n",
       "      <td id=\"T_bf846_row3_col2\" class=\"data row3 col2\" >FEASIBLE</td>\n",
       "      <td id=\"T_bf846_row3_col3\" class=\"data row3 col3\" >FEASIBLE</td>\n",
       "    </tr>\n",
       "  </tbody>\n",
       "</table>\n"
      ],
      "text/plain": [
       "<pandas.io.formats.style.Styler at 0x1fb343ca980>"
      ]
     },
     "execution_count": 31,
     "metadata": {},
     "output_type": "execute_result"
    }
   ],
   "source": [
    "result"
   ]
  },
  {
   "cell_type": "markdown",
   "id": "e03709c9",
   "metadata": {},
   "source": [
    "## BD $\\approx$ TE data"
   ]
  },
  {
   "cell_type": "code",
   "execution_count": 35,
   "id": "737722e6",
   "metadata": {},
   "outputs": [
    {
     "name": "stderr",
     "output_type": "stream",
     "text": [
      "100%|██████████| 4/4 [00:00<00:00, 11.65it/s]\n",
      "100%|██████████| 4/4 [00:00<00:00, 11.50it/s]\n",
      "100%|██████████| 4/4 [00:00<00:00, 12.63it/s]\n",
      "100%|██████████| 4/4 [00:00<00:00, 18.77it/s]\n"
     ]
    }
   ],
   "source": [
    "data = simulate_dataset(on_rate=0.95, off_rate=0.05)"
   ]
  },
  {
   "cell_type": "code",
   "execution_count": 36,
   "id": "e36961f1",
   "metadata": {},
   "outputs": [
    {
     "name": "stderr",
     "output_type": "stream",
     "text": [
      "100%|██████████| 4/4 [00:00<00:00,  6.25it/s]\n",
      "100%|██████████| 4/4 [00:04<00:00,  1.23s/it]\n",
      "100%|██████████| 4/4 [00:00<00:00,  4.03it/s]\n",
      "100%|██████████| 4/4 [00:15<00:00,  3.80s/it]\n"
     ]
    }
   ],
   "source": [
    "result = optimize_dataset_downsampled(data)"
   ]
  },
  {
   "cell_type": "code",
   "execution_count": 37,
   "id": "62da618f",
   "metadata": {},
   "outputs": [
    {
     "data": {
      "text/html": [
       "<style type=\"text/css\">\n",
       "#T_14006_row0_col0, #T_14006_row0_col1, #T_14006_row0_col2, #T_14006_row0_col3, #T_14006_row1_col1, #T_14006_row1_col2, #T_14006_row1_col3, #T_14006_row2_col1, #T_14006_row2_col2, #T_14006_row2_col3, #T_14006_row3_col1, #T_14006_row3_col2, #T_14006_row3_col3 {\n",
       "  color: green;\n",
       "}\n",
       "#T_14006_row1_col0, #T_14006_row2_col0, #T_14006_row3_col0 {\n",
       "  color: red;\n",
       "}\n",
       "</style>\n",
       "<table id=\"T_14006\">\n",
       "  <thead>\n",
       "    <tr>\n",
       "      <th class=\"blank level0\" >&nbsp;</th>\n",
       "      <th id=\"T_14006_level0_col0\" class=\"col_heading level0 col0\" >Ind. BD model</th>\n",
       "      <th id=\"T_14006_level0_col1\" class=\"col_heading level0 col1\" >Int. BD model</th>\n",
       "      <th id=\"T_14006_level0_col2\" class=\"col_heading level0 col2\" >Ind. TE model</th>\n",
       "      <th id=\"T_14006_level0_col3\" class=\"col_heading level0 col3\" >Int. TE model</th>\n",
       "    </tr>\n",
       "  </thead>\n",
       "  <tbody>\n",
       "    <tr>\n",
       "      <th id=\"T_14006_level0_row0\" class=\"row_heading level0 row0\" >Ind. BD data</th>\n",
       "      <td id=\"T_14006_row0_col0\" class=\"data row0 col0\" >FEASIBLE</td>\n",
       "      <td id=\"T_14006_row0_col1\" class=\"data row0 col1\" >FEASIBLE</td>\n",
       "      <td id=\"T_14006_row0_col2\" class=\"data row0 col2\" >FEASIBLE</td>\n",
       "      <td id=\"T_14006_row0_col3\" class=\"data row0 col3\" >FEASIBLE</td>\n",
       "    </tr>\n",
       "    <tr>\n",
       "      <th id=\"T_14006_level0_row1\" class=\"row_heading level0 row1\" >Int. BD data</th>\n",
       "      <td id=\"T_14006_row1_col0\" class=\"data row1 col0\" >INFEASIBLE</td>\n",
       "      <td id=\"T_14006_row1_col1\" class=\"data row1 col1\" >FEASIBLE</td>\n",
       "      <td id=\"T_14006_row1_col2\" class=\"data row1 col2\" >FEASIBLE</td>\n",
       "      <td id=\"T_14006_row1_col3\" class=\"data row1 col3\" >FEASIBLE</td>\n",
       "    </tr>\n",
       "    <tr>\n",
       "      <th id=\"T_14006_level0_row2\" class=\"row_heading level0 row2\" >Ind. TE data</th>\n",
       "      <td id=\"T_14006_row2_col0\" class=\"data row2 col0\" >INFEASIBLE</td>\n",
       "      <td id=\"T_14006_row2_col1\" class=\"data row2 col1\" >FEASIBLE</td>\n",
       "      <td id=\"T_14006_row2_col2\" class=\"data row2 col2\" >FEASIBLE</td>\n",
       "      <td id=\"T_14006_row2_col3\" class=\"data row2 col3\" >FEASIBLE</td>\n",
       "    </tr>\n",
       "    <tr>\n",
       "      <th id=\"T_14006_level0_row3\" class=\"row_heading level0 row3\" >Int. TE data</th>\n",
       "      <td id=\"T_14006_row3_col0\" class=\"data row3 col0\" >INFEASIBLE</td>\n",
       "      <td id=\"T_14006_row3_col1\" class=\"data row3 col1\" >FEASIBLE</td>\n",
       "      <td id=\"T_14006_row3_col2\" class=\"data row3 col2\" >FEASIBLE</td>\n",
       "      <td id=\"T_14006_row3_col3\" class=\"data row3 col3\" >FEASIBLE</td>\n",
       "    </tr>\n",
       "  </tbody>\n",
       "</table>\n"
      ],
      "text/plain": [
       "<pandas.io.formats.style.Styler at 0x1fb34405060>"
      ]
     },
     "execution_count": 37,
     "metadata": {},
     "output_type": "execute_result"
    }
   ],
   "source": [
    "result"
   ]
  },
  {
   "cell_type": "markdown",
   "id": "3d04506d",
   "metadata": {},
   "source": [
    "Results not as expected:\n",
    "\n",
    "- BD models perform mostly as expected, although when BD $\\approx$ TE the Ind. BD model is very sensitive to non-poisson data, so independent telegraph data is still infeasible for off rate = 0.05\n",
    "- TE models always remain feasible, even for high interaction data + Ind. TE model"
   ]
  },
  {
   "cell_type": "markdown",
   "id": "86e0d993",
   "metadata": {},
   "source": [
    "# B-method"
   ]
  },
  {
   "cell_type": "code",
   "execution_count": 5,
   "id": "ce66efe8",
   "metadata": {},
   "outputs": [],
   "source": [
    "def optimize_dataset_B(data):\n",
    "\n",
    "    data.compute_probabilities(display=True, tqdm_disable=False)\n",
    "\n",
    "    ind_BD_constraints = [\n",
    "        \"marginal_probability_1\",\n",
    "        \"marginal_probability_2\",\n",
    "        \"marginal_CME_1\",\n",
    "        \"marginal_CME_2\",\n",
    "        \"k_deg_1\",\n",
    "        \"k_deg_2\"\n",
    "    ]\n",
    "\n",
    "    ind_BD_optimization = optimization.Optimization(data, ind_BD_constraints, tqdm_disable=False, print_solution=False, license_file=\"C:/WLS_credentials.json\")\n",
    "\n",
    "    int_BD_constraints = [\n",
    "        \"joint_probability\",\n",
    "        \"CME\",\n",
    "        \"k_deg_1\"\n",
    "    ]\n",
    "\n",
    "    int_BD_optimization = optimization.Optimization(data, int_BD_constraints, tqdm_disable=False, print_solution=False, license_file=\"C:/WLS_credentials.json\")\n",
    "\n",
    "    ind_TE_constraints = [\n",
    "        \"factorization\",\n",
    "        \"probability\",\n",
    "        \"marginal_probability_1\",\n",
    "        \"marginal_probability_2\",\n",
    "        \"marginal_CME_TE\",\n",
    "        \"marginal_TE_equality\",\n",
    "        \"k_deg_1\",\n",
    "        \"k_deg_2\"\n",
    "    ]\n",
    "\n",
    "    ind_TE_optimization = optimization.Optimization(data, ind_TE_constraints, tqdm_disable=False, print_solution=False, license_file=\"C:/WLS_credentials.json\")\n",
    "\n",
    "    int_TE_constraints = [\n",
    "        \"joint_probability\",\n",
    "        \"CME_TE\",\n",
    "        \"TE_equality\",\n",
    "        \"k_deg_1\"\n",
    "    ]\n",
    "\n",
    "    int_TE_optimization = optimization.Optimization(data, int_TE_constraints, tqdm_disable=False, print_solution=False, license_file=\"C:/WLS_credentials.json\")\n",
    "\n",
    "    # result dataframe\n",
    "    col_names = [\"Ind. BD model\", \"Int. BD model\", \"Ind. TE model\", \"Int. TE model\"]\n",
    "    row_names = [\"Ind. BD data\", \"Int. BD data\", \"Ind. TE data\", \"Int. TE data\"]\n",
    "    result_df = pd.DataFrame(index=row_names, columns=col_names)\n",
    "\n",
    "    # fill\n",
    "    result_df[\"Ind. BD model\"] = result_format(ind_BD_optimization)\n",
    "    result_df[\"Int. BD model\"] = result_format(int_BD_optimization)\n",
    "    result_df[\"Ind. TE model\"] = result_format(ind_TE_optimization)\n",
    "    result_df[\"Int. TE model\"] = result_format(int_TE_optimization)\n",
    "\n",
    "    return result_df.style.map(_color_red_or_green)"
   ]
  },
  {
   "cell_type": "code",
   "execution_count": 6,
   "id": "8ff6b92d",
   "metadata": {},
   "outputs": [
    {
     "name": "stderr",
     "output_type": "stream",
     "text": [
      "100%|██████████| 4/4 [00:00<00:00, 23.28it/s]\n",
      "100%|██████████| 4/4 [00:00<00:00, 28.55it/s]\n",
      "100%|██████████| 4/4 [00:00<00:00, 22.09it/s]\n",
      "100%|██████████| 4/4 [00:00<00:00, 40.45it/s]\n"
     ]
    }
   ],
   "source": [
    "data = simulate_dataset()"
   ]
  },
  {
   "cell_type": "code",
   "execution_count": 7,
   "id": "d29f1088",
   "metadata": {},
   "outputs": [
    {
     "name": "stderr",
     "output_type": "stream",
     "text": [
      "100%|██████████| 4/4 [00:00<00:00, 38.08it/s]\n"
     ]
    },
    {
     "data": {
      "image/png": "[encoded data removed]",
      "text/plain": [
       "<Figure size 600x300 with 2 Axes>"
      ]
     },
     "metadata": {},
     "output_type": "display_data"
    },
    {
     "name": "stderr",
     "output_type": "stream",
     "text": [
      "100%|██████████| 12/12 [00:00<00:00, 24.78it/s]\n",
      "100%|██████████| 12/12 [00:00<00:00, 376.91it/s]\n",
      "100%|██████████| 78/78 [00:00<00:00, 454.79it/s]\n",
      "100%|██████████| 4/4 [00:00<00:00, 11.88it/s]\n",
      "100%|██████████| 4/4 [00:03<00:00,  1.15it/s]\n",
      "100%|██████████| 4/4 [00:00<00:00,  8.91it/s]\n",
      "100%|██████████| 4/4 [00:22<00:00,  5.58s/it]\n"
     ]
    }
   ],
   "source": [
    "result = optimize_dataset_B(data)"
   ]
  },
  {
   "cell_type": "code",
   "execution_count": 8,
   "id": "d21453bd",
   "metadata": {},
   "outputs": [
    {
     "data": {
      "text/html": [
       "<style type=\"text/css\">\n",
       "#T_16a59_row0_col0, #T_16a59_row0_col1, #T_16a59_row0_col2, #T_16a59_row0_col3, #T_16a59_row1_col1, #T_16a59_row1_col3, #T_16a59_row2_col2, #T_16a59_row2_col3, #T_16a59_row3_col3 {\n",
       "  color: green;\n",
       "}\n",
       "#T_16a59_row1_col0, #T_16a59_row1_col2, #T_16a59_row2_col0, #T_16a59_row2_col1, #T_16a59_row3_col0, #T_16a59_row3_col1, #T_16a59_row3_col2 {\n",
       "  color: red;\n",
       "}\n",
       "</style>\n",
       "<table id=\"T_16a59\">\n",
       "  <thead>\n",
       "    <tr>\n",
       "      <th class=\"blank level0\" >&nbsp;</th>\n",
       "      <th id=\"T_16a59_level0_col0\" class=\"col_heading level0 col0\" >Ind. BD model</th>\n",
       "      <th id=\"T_16a59_level0_col1\" class=\"col_heading level0 col1\" >Int. BD model</th>\n",
       "      <th id=\"T_16a59_level0_col2\" class=\"col_heading level0 col2\" >Ind. TE model</th>\n",
       "      <th id=\"T_16a59_level0_col3\" class=\"col_heading level0 col3\" >Int. TE model</th>\n",
       "    </tr>\n",
       "  </thead>\n",
       "  <tbody>\n",
       "    <tr>\n",
       "      <th id=\"T_16a59_level0_row0\" class=\"row_heading level0 row0\" >Ind. BD data</th>\n",
       "      <td id=\"T_16a59_row0_col0\" class=\"data row0 col0\" >FEASIBLE</td>\n",
       "      <td id=\"T_16a59_row0_col1\" class=\"data row0 col1\" >FEASIBLE</td>\n",
       "      <td id=\"T_16a59_row0_col2\" class=\"data row0 col2\" >FEASIBLE</td>\n",
       "      <td id=\"T_16a59_row0_col3\" class=\"data row0 col3\" >FEASIBLE</td>\n",
       "    </tr>\n",
       "    <tr>\n",
       "      <th id=\"T_16a59_level0_row1\" class=\"row_heading level0 row1\" >Int. BD data</th>\n",
       "      <td id=\"T_16a59_row1_col0\" class=\"data row1 col0\" >INFEASIBLE</td>\n",
       "      <td id=\"T_16a59_row1_col1\" class=\"data row1 col1\" >FEASIBLE</td>\n",
       "      <td id=\"T_16a59_row1_col2\" class=\"data row1 col2\" >INFEASIBLE</td>\n",
       "      <td id=\"T_16a59_row1_col3\" class=\"data row1 col3\" >FEASIBLE</td>\n",
       "    </tr>\n",
       "    <tr>\n",
       "      <th id=\"T_16a59_level0_row2\" class=\"row_heading level0 row2\" >Ind. TE data</th>\n",
       "      <td id=\"T_16a59_row2_col0\" class=\"data row2 col0\" >INFEASIBLE</td>\n",
       "      <td id=\"T_16a59_row2_col1\" class=\"data row2 col1\" >INFEASIBLE</td>\n",
       "      <td id=\"T_16a59_row2_col2\" class=\"data row2 col2\" >FEASIBLE</td>\n",
       "      <td id=\"T_16a59_row2_col3\" class=\"data row2 col3\" >FEASIBLE</td>\n",
       "    </tr>\n",
       "    <tr>\n",
       "      <th id=\"T_16a59_level0_row3\" class=\"row_heading level0 row3\" >Int. TE data</th>\n",
       "      <td id=\"T_16a59_row3_col0\" class=\"data row3 col0\" >INFEASIBLE</td>\n",
       "      <td id=\"T_16a59_row3_col1\" class=\"data row3 col1\" >INFEASIBLE</td>\n",
       "      <td id=\"T_16a59_row3_col2\" class=\"data row3 col2\" >INFEASIBLE</td>\n",
       "      <td id=\"T_16a59_row3_col3\" class=\"data row3 col3\" >FEASIBLE</td>\n",
       "    </tr>\n",
       "  </tbody>\n",
       "</table>\n"
      ],
      "text/plain": [
       "<pandas.io.formats.style.Styler at 0x14f05ddbf70>"
      ]
     },
     "execution_count": 8,
     "metadata": {},
     "output_type": "execute_result"
    }
   ],
   "source": [
    "result"
   ]
  },
  {
   "cell_type": "code",
   "execution_count": 12,
   "id": "4e2b7353",
   "metadata": {},
   "outputs": [
    {
     "name": "stderr",
     "output_type": "stream",
     "text": [
      "100%|██████████| 4/4 [00:00<00:00, 34.29it/s]\n",
      "100%|██████████| 4/4 [00:00<00:00, 40.01it/s]\n",
      "100%|██████████| 4/4 [00:00<00:00, 30.00it/s]\n",
      "100%|██████████| 4/4 [00:00<00:00, 48.03it/s]\n"
     ]
    }
   ],
   "source": [
    "data = simulate_dataset(on_rate=0.9, off_rate=0.1)"
   ]
  },
  {
   "cell_type": "code",
   "execution_count": 13,
   "id": "46c03c4f",
   "metadata": {},
   "outputs": [
    {
     "name": "stderr",
     "output_type": "stream",
     "text": [
      "100%|██████████| 4/4 [00:00<00:00, 39.82it/s]\n"
     ]
    },
    {
     "data": {
      "image/png": "[encoded data removed]",
      "text/plain": [
       "<Figure size 600x300 with 2 Axes>"
      ]
     },
     "metadata": {},
     "output_type": "display_data"
    },
    {
     "name": "stderr",
     "output_type": "stream",
     "text": [
      "100%|██████████| 12/12 [00:00<?, ?it/s]\n",
      "100%|██████████| 12/12 [00:00<00:00, 328.65it/s]\n",
      "100%|██████████| 85/85 [00:00<00:00, 720.43it/s]\n",
      "100%|██████████| 4/4 [00:00<00:00,  9.09it/s]\n",
      "100%|██████████| 4/4 [00:02<00:00,  1.42it/s]\n",
      "100%|██████████| 4/4 [00:00<00:00,  7.93it/s]\n",
      "100%|██████████| 4/4 [00:17<00:00,  4.37s/it]\n"
     ]
    }
   ],
   "source": [
    "result = optimize_dataset_B(data)"
   ]
  },
  {
   "cell_type": "code",
   "execution_count": 14,
   "id": "7f307183",
   "metadata": {},
   "outputs": [
    {
     "data": {
      "text/html": [
       "<style type=\"text/css\">\n",
       "#T_6d867_row0_col0, #T_6d867_row0_col1, #T_6d867_row0_col2, #T_6d867_row0_col3, #T_6d867_row1_col1, #T_6d867_row1_col3, #T_6d867_row2_col1, #T_6d867_row2_col2, #T_6d867_row2_col3, #T_6d867_row3_col1, #T_6d867_row3_col3 {\n",
       "  color: green;\n",
       "}\n",
       "#T_6d867_row1_col0, #T_6d867_row1_col2, #T_6d867_row2_col0, #T_6d867_row3_col0, #T_6d867_row3_col2 {\n",
       "  color: red;\n",
       "}\n",
       "</style>\n",
       "<table id=\"T_6d867\">\n",
       "  <thead>\n",
       "    <tr>\n",
       "      <th class=\"blank level0\" >&nbsp;</th>\n",
       "      <th id=\"T_6d867_level0_col0\" class=\"col_heading level0 col0\" >Ind. BD model</th>\n",
       "      <th id=\"T_6d867_level0_col1\" class=\"col_heading level0 col1\" >Int. BD model</th>\n",
       "      <th id=\"T_6d867_level0_col2\" class=\"col_heading level0 col2\" >Ind. TE model</th>\n",
       "      <th id=\"T_6d867_level0_col3\" class=\"col_heading level0 col3\" >Int. TE model</th>\n",
       "    </tr>\n",
       "  </thead>\n",
       "  <tbody>\n",
       "    <tr>\n",
       "      <th id=\"T_6d867_level0_row0\" class=\"row_heading level0 row0\" >Ind. BD data</th>\n",
       "      <td id=\"T_6d867_row0_col0\" class=\"data row0 col0\" >FEASIBLE</td>\n",
       "      <td id=\"T_6d867_row0_col1\" class=\"data row0 col1\" >FEASIBLE</td>\n",
       "      <td id=\"T_6d867_row0_col2\" class=\"data row0 col2\" >FEASIBLE</td>\n",
       "      <td id=\"T_6d867_row0_col3\" class=\"data row0 col3\" >FEASIBLE</td>\n",
       "    </tr>\n",
       "    <tr>\n",
       "      <th id=\"T_6d867_level0_row1\" class=\"row_heading level0 row1\" >Int. BD data</th>\n",
       "      <td id=\"T_6d867_row1_col0\" class=\"data row1 col0\" >INFEASIBLE</td>\n",
       "      <td id=\"T_6d867_row1_col1\" class=\"data row1 col1\" >FEASIBLE</td>\n",
       "      <td id=\"T_6d867_row1_col2\" class=\"data row1 col2\" >INFEASIBLE</td>\n",
       "      <td id=\"T_6d867_row1_col3\" class=\"data row1 col3\" >FEASIBLE</td>\n",
       "    </tr>\n",
       "    <tr>\n",
       "      <th id=\"T_6d867_level0_row2\" class=\"row_heading level0 row2\" >Ind. TE data</th>\n",
       "      <td id=\"T_6d867_row2_col0\" class=\"data row2 col0\" >INFEASIBLE</td>\n",
       "      <td id=\"T_6d867_row2_col1\" class=\"data row2 col1\" >FEASIBLE</td>\n",
       "      <td id=\"T_6d867_row2_col2\" class=\"data row2 col2\" >FEASIBLE</td>\n",
       "      <td id=\"T_6d867_row2_col3\" class=\"data row2 col3\" >FEASIBLE</td>\n",
       "    </tr>\n",
       "    <tr>\n",
       "      <th id=\"T_6d867_level0_row3\" class=\"row_heading level0 row3\" >Int. TE data</th>\n",
       "      <td id=\"T_6d867_row3_col0\" class=\"data row3 col0\" >INFEASIBLE</td>\n",
       "      <td id=\"T_6d867_row3_col1\" class=\"data row3 col1\" >FEASIBLE</td>\n",
       "      <td id=\"T_6d867_row3_col2\" class=\"data row3 col2\" >INFEASIBLE</td>\n",
       "      <td id=\"T_6d867_row3_col3\" class=\"data row3 col3\" >FEASIBLE</td>\n",
       "    </tr>\n",
       "  </tbody>\n",
       "</table>\n"
      ],
      "text/plain": [
       "<pandas.io.formats.style.Styler at 0x14f056b53c0>"
      ]
     },
     "execution_count": 14,
     "metadata": {},
     "output_type": "execute_result"
    }
   ],
   "source": [
    "result"
   ]
  },
  {
   "cell_type": "markdown",
   "id": "e76ed4cf",
   "metadata": {},
   "source": [
    "Results almost as expected:\n",
    "\n",
    "- when BE $\\ne$ TE the models follow the expected results\n",
    "- when BE $\\approx$ TE the birth-death and telegraph models are almost identical, but the ind. BD model is very good a detecting non-poisson data and so is still infeasible for independent telegraph data even with off rate = 0.1"
   ]
  },
  {
   "cell_type": "markdown",
   "id": "49befced",
   "metadata": {},
   "source": [
    "# Future \n",
    "\n",
    "___\n",
    "\n",
    "Cannot use downsampled marginal CME for independent models, as correlation introduced by capture means they are not separable. Instead must use joint CME with $k_{reg} = 0$, and also cannot factorize downsampled joints due to this correlation.\n",
    "___"
   ]
  }
 ],
 "metadata": {
  "kernelspec": {
   "display_name": "M5R_venv",
   "language": "python",
   "name": "python3"
  },
  "language_info": {
   "codemirror_mode": {
    "name": "ipython",
    "version": 3
   },
   "file_extension": ".py",
   "mimetype": "text/x-python",
   "name": "python",
   "nbconvert_exporter": "python",
   "pygments_lexer": "ipython3",
   "version": "3.10.11"
  }
 },
 "nbformat": 4,
 "nbformat_minor": 5
}
