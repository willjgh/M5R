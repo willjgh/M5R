{
 "cells": [
  {
   "cell_type": "code",
   "execution_count": null,
   "id": "c83ca372",
   "metadata": {},
   "outputs": [],
   "source": [
    "from interaction_inference import simulation, dataset\n",
    "import matplotlib.pyplot as plt\n",
    "import scipy\n",
    "import pandas as pd\n",
    "import tqdm\n",
    "import numpy as np"
   ]
  },
  {
   "cell_type": "markdown",
   "id": "f28c5283",
   "metadata": {},
   "source": [
    "# Effect of interaction & telegraph on distribution\n",
    "\n",
    "Plot the distribution of counts as interaction / telegraph effects are applied to a birth-death / poisson model to illustrate changes. Try to understand why probabilities are so good at detecting telegraph and moments are so good at detecting interaction."
   ]
  },
  {
   "cell_type": "code",
   "execution_count": null,
   "id": "a85e9dd7",
   "metadata": {},
   "outputs": [],
   "source": []
  },
  {
   "cell_type": "code",
   "execution_count": null,
   "id": "0ddbc35c",
   "metadata": {},
   "outputs": [],
   "source": [
    "interaction_values = [1, 2, 3]\n",
    "\n",
    "# number of pairs\n",
    "gene_pairs = len(interaction_values)\n",
    "cells = 1000\n",
    "rate = 5\n",
    "gene = 1\n",
    "\n",
    "# dataframes\n",
    "params_df = pd.DataFrame(index=[f\"Gene-pair-{i}\" for i in range(gene_pairs)], columns=['k_on_1', 'k_on_2', 'k_off_1', 'k_off_2', 'k_tx_1', 'k_tx_2', 'k_deg_1', 'k_deg_2', 'k_reg'])\n",
    "counts_df = pd.DataFrame(index=[f\"Gene-pair-{i}\" for i in range(gene_pairs)], columns=[f\"Cell-{j}\" for j in range(cells)])\n",
    "\n",
    "# for each gene\n",
    "for i in tqdm.tqdm(range(gene_pairs)):\n",
    "\n",
    "    # Set reaction rate parameters\n",
    "    k_on_1 = gene\n",
    "    k_on_2 = gene\n",
    "    k_off_1 = 1 - gene\n",
    "    k_off_2 = 1 - gene\n",
    "    k_tx_1 = rate\n",
    "    k_tx_2 = rate\n",
    "    k_deg_1 = 1\n",
    "    k_deg_2 = 1\n",
    "    k_reg = interaction_values[i]\n",
    "\n",
    "    # store parameters\n",
    "    params_df.iloc[i] = [k_on_1, k_on_2, k_off_1, k_off_2, k_tx_1, k_tx_2, k_deg_1, k_deg_2, k_reg]\n",
    "\n",
    "    params = {\n",
    "        'k_on_1': k_on_1,\n",
    "        'k_on_2': k_on_2,\n",
    "        'k_off_1': k_off_1,\n",
    "        'k_off_2': k_off_2,\n",
    "        'k_tx_1': k_tx_1,\n",
    "        'k_tx_2': k_tx_2,\n",
    "        'k_deg_1': k_deg_1,\n",
    "        'k_deg_2': k_deg_2,\n",
    "        'k_reg': k_reg\n",
    "    }\n",
    "\n",
    "    # simulate sample from model\n",
    "    sample = simulation.gillespie_telegraph(params, cells)\n",
    "\n",
    "    # store counts\n",
    "    counts_df.iloc[i] = sample\n",
    "\n",
    "# construct dataset object\n",
    "data = dataset.Dataset(name)\n",
    "\n",
    "# store information\n",
    "data.count_dataset = counts_df\n",
    "data.param_dataset = params_df\n",
    "data.cells = cells\n",
    "data.gene_pairs = len(interaction_values)\n",
    "data.beta = np.array([1.0 for j in range(cells)])\n"
   ]
  }
 ],
 "metadata": {
  "kernelspec": {
   "display_name": "M5R_venv",
   "language": "python",
   "name": "python3"
  },
  "language_info": {
   "codemirror_mode": {
    "name": "ipython",
    "version": 3
   },
   "file_extension": ".py",
   "mimetype": "text/x-python",
   "name": "python",
   "nbconvert_exporter": "python",
   "pygments_lexer": "ipython3",
   "version": "3.10.11"
  }
 },
 "nbformat": 4,
 "nbformat_minor": 5
}
