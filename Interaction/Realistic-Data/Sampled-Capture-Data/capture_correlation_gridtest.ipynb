{
 "cells": [
  {
   "cell_type": "code",
   "execution_count": 1,
   "metadata": {},
   "outputs": [],
   "source": [
    "import numpy as np\n",
    "import matplotlib.pyplot as plt\n",
    "import pandas as pd\n",
    "import time\n",
    "import gurobipy as gp\n",
    "from gurobipy import GRB\n",
    "import scipy\n",
    "import tqdm\n",
    "from ast import literal_eval\n",
    "import json\n",
    "from time import time"
   ]
  },
  {
   "cell_type": "markdown",
   "metadata": {},
   "source": [
    "# Capture-Correlation\n",
    "\n",
    "Have seen in 'gaussian_downsampling_test' how both the mean and spread of the distribution of capture efficiency have a strong influence on the way correlations are affected by downsampling.\n",
    "\n",
    "Want to investigate how the correlation tests perform in these different settings\n",
    "\n",
    "- Simulate a dataset of samples with a range of interaction strengths\n",
    "- produce capture efficincy vectors over a grid of mean x spread\n",
    "- downsample dataset using each capture efficiency\n",
    "- analyse each dataset using correlation test\n",
    "- display results"
   ]
  },
  {
   "cell_type": "markdown",
   "metadata": {},
   "source": [
    "# Simulation"
   ]
  },
  {
   "cell_type": "code",
   "execution_count": 2,
   "metadata": {},
   "outputs": [],
   "source": [
    "rng = np.random.default_rng(734)"
   ]
  },
  {
   "cell_type": "markdown",
   "metadata": {},
   "source": [
    "## Code"
   ]
  },
  {
   "cell_type": "code",
   "execution_count": 3,
   "metadata": {},
   "outputs": [],
   "source": [
    "def gillespie(params, n, tmax=100, ts=10, plot=False, initial_state=(0, 0)):\n",
    "    '''\n",
    "    Simulate a sample path of the birth death regulation model\n",
    "    Sample n values at intervals of ts after a burn-in time of tmax\n",
    "\n",
    "    params: dict of reaction rate constants\n",
    "    n: number of samples\n",
    "    tmax: burn in time\n",
    "    ts: time between samples\n",
    "    '''\n",
    "\n",
    "    # initialize random generator\n",
    "    rng = np.random.default_rng()\n",
    "\n",
    "    # initialise time and state\n",
    "    t = 0\n",
    "    path = [initial_state]\n",
    "    jump_times = [0]\n",
    "\n",
    "    # simulate for burn-in time and time between n samples\n",
    "    while t < tmax + (n - 1) * ts:\n",
    "\n",
    "        # current state\n",
    "        x1, x2 = path[-1][0], path[-1][1]\n",
    "\n",
    "        # transition rates\n",
    "        q_tx_1 = params['k_tx_1']\n",
    "        q_tx_2 = params['k_tx_2']\n",
    "        q_deg_1 = x1 * params['k_deg_1']\n",
    "        q_deg_2 = x2 * params['k_deg_2']\n",
    "        q_reg = x1 * x2 * params['k_reg']\n",
    "        q_hold = q_tx_1 + q_tx_2 + q_deg_1 + q_deg_2 + q_reg\n",
    "\n",
    "        # holding time in current state\n",
    "        t_hold = -np.log(rng.uniform()) / q_hold\n",
    "        t += t_hold\n",
    "        jump_times.append(t)\n",
    "\n",
    "        # jump probability\n",
    "        outcome = [1, 2, 3, 4, 5]\n",
    "        prob = [\n",
    "            q_tx_1 / q_hold,\n",
    "            q_tx_2 / q_hold,\n",
    "            q_deg_1 / q_hold,\n",
    "            q_deg_2 / q_hold,\n",
    "            q_reg / q_hold\n",
    "        ]\n",
    "        jump = rng.choice(outcome, p=prob)\n",
    "        match jump:\n",
    "            case 1:\n",
    "                path.append((x1 + 1, x2))\n",
    "            case 2:\n",
    "                path.append((x1, x2 + 1))\n",
    "            case 3:\n",
    "                path.append((x1 - 1, x2))\n",
    "            case 4:\n",
    "                path.append((x1, x2 - 1))\n",
    "            case 5:\n",
    "                path.append((x1 - 1, x2 - 1))\n",
    "\n",
    "    # take the transcript states\n",
    "    x1_path = [state[0] for state in path]\n",
    "    x2_path = [state[1] for state in path]\n",
    "\n",
    "    # create step function of sample path from jump times and jump values\n",
    "    x1_path_function = scipy.interpolate.interp1d(jump_times, x1_path, kind='previous')\n",
    "    x2_path_function = scipy.interpolate.interp1d(jump_times, x2_path, kind='previous')\n",
    "\n",
    "    # take values at sampling times as samples from stationary dist\n",
    "    sample_times = [tmax + i * ts for i in range(n)]\n",
    "    x1_samples = x1_path_function(sample_times)\n",
    "    x2_samples = x2_path_function(sample_times)\n",
    "\n",
    "    # convert to integers\n",
    "    x1_samples = [int(x1) for x1 in x1_samples]\n",
    "    x2_samples = [int(x2) for x2 in x2_samples]\n",
    "\n",
    "    # re-combine to pairs of samples\n",
    "    samples = list(zip(x1_samples, x2_samples))\n",
    "\n",
    "    # plot sample paths\n",
    "    if plot:\n",
    "        x = np.linspace(0, tmax + (n - 1) * ts, 10000)\n",
    "        plt.plot(x, x1_path_function(x), label=\"X1 sample path\", color=\"blue\")\n",
    "        plt.plot(x, x2_path_function(x), label=\"X2 sample path\", color=\"purple\")\n",
    "        #plt.axvline(tmax, label=\"Burn-in time\", color=\"orange\")\n",
    "        plt.xlabel(\"Time\")\n",
    "        plt.ylabel(\"Counts\")\n",
    "        plt.legend()\n",
    "        plt.show()\n",
    "\n",
    "    return samples"
   ]
  },
  {
   "cell_type": "code",
   "execution_count": 4,
   "metadata": {},
   "outputs": [],
   "source": [
    "def simulate_dataset(cells, interaction_values):\n",
    "    '''\n",
    "    Produce a dataset of pairs of samples simulated with interaction strengths\n",
    "    given by 'interaction_values' and sample size = cells\n",
    "\n",
    "    Return count and parameter dataframes\n",
    "    '''\n",
    "\n",
    "    # number of pairs\n",
    "    gene_pairs = len(interaction_values)\n",
    "\n",
    "    # dataframes\n",
    "    params_df = pd.DataFrame(index=[f\"Gene-pair-{i}\" for i in range(gene_pairs)], columns=['k_tx_1', 'k_tx_2', 'k_deg_1', 'k_deg_2', 'k_reg'])\n",
    "    counts_df = pd.DataFrame(index=[f\"Gene-pair-{i}\" for i in range(gene_pairs)], columns=[f\"Cell-{j}\" for j in range(cells)])\n",
    "\n",
    "    # for each gene\n",
    "    for i in tqdm.tqdm(range(gene_pairs)):\n",
    "\n",
    "        # Set reaction rate parameters\n",
    "        k_tx_1 = 1\n",
    "        k_tx_2 = 1\n",
    "        k_deg_1 = 1\n",
    "        k_deg_2 = 1\n",
    "        k_reg = interaction_values[i]\n",
    "\n",
    "        # store parameters\n",
    "        params_df.iloc[i] = [k_tx_1, k_tx_2, k_deg_1, k_deg_2, k_reg]\n",
    "\n",
    "        params = {\n",
    "            'k_tx_1': k_tx_1,\n",
    "            'k_tx_2': k_tx_2,\n",
    "            'k_deg_1': k_deg_1,\n",
    "            'k_deg_2': k_deg_2,\n",
    "            'k_reg': k_reg\n",
    "        }\n",
    "\n",
    "        # simulate sample from model\n",
    "        sample = gillespie(params, cells)\n",
    "\n",
    "        # store counts\n",
    "        counts_df.iloc[i] = sample\n",
    "\n",
    "    return {'params_df': params_df, 'counts_df': counts_df}"
   ]
  },
  {
   "cell_type": "code",
   "execution_count": 5,
   "metadata": {},
   "outputs": [],
   "source": [
    "def simulate_downsampled_dataset(counts_df, beta):\n",
    "    '''\n",
    "    Apply capture efficiency vector 'beta' to produce downsampled dataset using\n",
    "    the given 'count_df'\n",
    "    '''\n",
    "\n",
    "    # get dataset size\n",
    "    gene_pairs, cells = counts_df.shape\n",
    "\n",
    "    # error if incomptible cell numbers\n",
    "    if not (cells == beta.shape[0]):\n",
    "        print(\"Incompatible cell numbers\")\n",
    "        return None\n",
    "    \n",
    "    # initialize random generator\n",
    "    rng = np.random.default_rng()\n",
    "\n",
    "    # setup downsampled dataset\n",
    "    downsampled_counts_df = pd.DataFrame(index=[f\"Gene-pair-{i}\" for i in range(gene_pairs)], columns=[f\"Cell-{j}\" for j in range(cells)])\n",
    "\n",
    "    for i in range(gene_pairs):\n",
    "\n",
    "        # extract counts\n",
    "        sample = counts_df.iloc[i]\n",
    "        x1_sample = [x[0] for x in sample]\n",
    "        x2_sample = [x[1] for x in sample]\n",
    "\n",
    "        # downsample\n",
    "        x1_sample_downsampled = rng.binomial(x1_sample, beta).tolist()\n",
    "        x2_sample_downsampled = rng.binomial(x2_sample, beta).tolist()\n",
    "        sample_downsampled = list(zip(x1_sample_downsampled, x2_sample_downsampled))\n",
    "        \n",
    "        # store counts\n",
    "        downsampled_counts_df.iloc[i] = sample_downsampled\n",
    "\n",
    "    return downsampled_counts_df"
   ]
  },
  {
   "cell_type": "markdown",
   "metadata": {},
   "source": [
    "## Running"
   ]
  },
  {
   "cell_type": "code",
   "execution_count": 6,
   "metadata": {},
   "outputs": [],
   "source": [
    "interaction_values = [50, 20, 10, 8, 6, 4, 2, 1, 0.9, 0.8, 0.7, 0.6, 0.5, 0.4, 0.3, 0.2, 0.1, 0]\n",
    "mean_values = [1.0, 0.9, 0.8, 0.7, 0.6, 0.5, 0.4, 0.3, 0.2, 0.1, 0.0]\n",
    "width_values = [0.0, 0.1, 0.2, 0.3, 0.4, 0.5, 0.6, 0.7, 0.8, 0.9, 1.0]"
   ]
  },
  {
   "cell_type": "code",
   "execution_count": 7,
   "metadata": {},
   "outputs": [
    {
     "name": "stderr",
     "output_type": "stream",
     "text": [
      "100%|██████████| 18/18 [00:43<00:00,  2.39s/it]\n"
     ]
    }
   ],
   "source": [
    "# simulate original dataset\n",
    "datasets = simulate_dataset(\n",
    "    cells = 1000,\n",
    "    interaction_values = interaction_values\n",
    ")"
   ]
  },
  {
   "cell_type": "code",
   "execution_count": 8,
   "metadata": {},
   "outputs": [],
   "source": [
    "# store data\n",
    "data_dict = {}\n",
    "\n",
    "# grid of capture efficiencies\n",
    "for mean in mean_values:\n",
    "    for width in width_values:\n",
    "\n",
    "        # store\n",
    "        info_dict = {}\n",
    "\n",
    "        # sample\n",
    "        # beta = rng.uniform(mean - width, mean + width, size=1000)\n",
    "        beta = rng.normal(mean, width, size=1000)\n",
    "\n",
    "        # clamp to [0, 1]\n",
    "        beta[beta > 1.0] = 1.0\n",
    "        beta[beta < 0.0] = 0.0\n",
    "\n",
    "        # store\n",
    "        info_dict['beta'] = beta\n",
    "\n",
    "        # downsample dataset\n",
    "        counts_downsampled = simulate_downsampled_dataset(datasets['counts_df'], beta)\n",
    "\n",
    "        # store\n",
    "        info_dict['counts_df'] = counts_downsampled\n",
    "\n",
    "        # store\n",
    "        data_dict[(mean, width)] = info_dict"
   ]
  },
  {
   "cell_type": "markdown",
   "metadata": {},
   "source": [
    "# Correlation tests"
   ]
  },
  {
   "cell_type": "markdown",
   "metadata": {},
   "source": [
    "## Code"
   ]
  },
  {
   "cell_type": "code",
   "execution_count": 9,
   "metadata": {},
   "outputs": [],
   "source": [
    "def dataset_analysis_correlation(dataset):\n",
    "                \n",
    "    # get dataset shape\n",
    "    gene_pairs, cells = dataset.shape\n",
    "\n",
    "    # store results\n",
    "    corr_result = {}\n",
    "\n",
    "    # loop over dataset\n",
    "    for i in range(gene_pairs):\n",
    "\n",
    "        # select sample\n",
    "        sample = list(dataset.loc[f'Gene-pair-{i}'])\n",
    "\n",
    "        # convert string to tuple if neccessary (pandas reading csv to string)\n",
    "        if type(sample[0]) == str:\n",
    "            sample = [literal_eval(count_pair) for count_pair in sample]\n",
    "\n",
    "        # separate pairs into individual samples\n",
    "        x1_sample = [x[0] for x in sample]\n",
    "        x2_sample = [x[1] for x in sample]\n",
    "\n",
    "        # test\n",
    "        pearson = scipy.stats.pearsonr(x1_sample, x2_sample, alternative='less')\n",
    "\n",
    "        # store result\n",
    "        corr_result[i] = {'pvalue': float(pearson.pvalue), 'statistic': float(pearson.statistic)}\n",
    "\n",
    "    return corr_result"
   ]
  },
  {
   "cell_type": "markdown",
   "metadata": {},
   "source": [
    "## Running"
   ]
  },
  {
   "cell_type": "code",
   "execution_count": 10,
   "metadata": {},
   "outputs": [
    {
     "name": "stderr",
     "output_type": "stream",
     "text": [
      "C:\\Users\\willi\\AppData\\Local\\Temp\\ipykernel_20276\\1269238967.py:24: ConstantInputWarning: An input array is constant; the correlation coefficient is not defined.\n",
      "  pearson = scipy.stats.pearsonr(x1_sample, x2_sample, alternative='less')\n"
     ]
    }
   ],
   "source": [
    "# grid of capture efficiencies and datasets\n",
    "for capture, data in data_dict.items():\n",
    "\n",
    "    # analyse dataset\n",
    "    correlation_results = dataset_analysis_correlation(data['counts_df'])\n",
    "\n",
    "    # store\n",
    "    data_dict[capture]['correlation'] = correlation_results\n",
    "\n",
    "    # compute detection threshold\n",
    "    thresh = None\n",
    "    for i, res in correlation_results.items():\n",
    "        if res['pvalue'] > 0.05:\n",
    "            thresh = interaction_values[i]\n",
    "            break\n",
    "\n",
    "    if thresh is None:\n",
    "        thresh = interaction_values[0]\n",
    "\n",
    "    data_dict[capture]['threshold'] = thresh"
   ]
  },
  {
   "cell_type": "markdown",
   "metadata": {},
   "source": [
    "# Display"
   ]
  },
  {
   "cell_type": "code",
   "execution_count": 11,
   "metadata": {},
   "outputs": [],
   "source": [
    "# extract threshold info into plottable grid\n",
    "threshold_array = np.zeros((len(mean_values), len(width_values)))\n",
    "for i, mean in enumerate(mean_values):\n",
    "    for j, width in enumerate(width_values):\n",
    "        threshold_array[i, j] = np.log10(data_dict[(mean, width)]['threshold'])"
   ]
  },
  {
   "cell_type": "code",
   "execution_count": 19,
   "metadata": {},
   "outputs": [
    {
     "data": {
      "image/png": "[encoded data removed]",
      "text/plain": [
       "<Figure size 800x800 with 2 Axes>"
      ]
     },
     "metadata": {},
     "output_type": "display_data"
    }
   ],
   "source": [
    "fig, axs = plt.subplots(figsize=(8, 8))\n",
    "image = axs.imshow(threshold_array, cmap='Blues')\n",
    "axs.set_xlabel(\"CE range\")\n",
    "axs.set_xticks(range(len(width_values)))\n",
    "axs.set_xticklabels(width_values)\n",
    "axs.set_ylabel(\"CE mean\")\n",
    "axs.set_yticks(range(len(mean_values)))\n",
    "axs.set_yticklabels(mean_values)\n",
    "axs.set_title(\"Minimum interaction strength detectected by correlation \\nacross a range of capture efficiencies (CE)\")\n",
    "cbar = plt.colorbar(image, ax=axs)\n",
    "cbar.set_label(\"(log) Interaction strength\")"
   ]
  }
 ],
 "metadata": {
  "kernelspec": {
   "display_name": "M5R_venv",
   "language": "python",
   "name": "python3"
  },
  "language_info": {
   "codemirror_mode": {
    "name": "ipython",
    "version": 3
   },
   "file_extension": ".py",
   "mimetype": "text/x-python",
   "name": "python",
   "nbconvert_exporter": "python",
   "pygments_lexer": "ipython3",
   "version": "3.10.11"
  }
 },
 "nbformat": 4,
 "nbformat_minor": 2
}
