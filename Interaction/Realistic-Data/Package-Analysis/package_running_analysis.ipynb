{
 "cells": [
  {
   "cell_type": "code",
   "execution_count": 1,
   "metadata": {},
   "outputs": [],
   "source": [
    "from interaction_inference import Dataset, Hypothesis, Minimization, Correlation\n",
    "from interaction_inference import results\n",
    "import numpy as np\n",
    "import matplotlib.pyplot as plt\n",
    "import json"
   ]
  },
  {
   "cell_type": "markdown",
   "metadata": {},
   "source": [
    "## Test consistency with script"
   ]
  },
  {
   "cell_type": "code",
   "execution_count": 2,
   "metadata": {},
   "outputs": [],
   "source": [
    "dataset_easy_high = Dataset()\n",
    "dataset_easy_high.load_dataset(\n",
    "    count_dataset_filename = \"../Datasets-Easy-Hard/counts_easy_high.csv\",\n",
    "    param_dataset_filename = \"../Datasets-Easy-Hard/params_easy_high.csv\",\n",
    "    beta = 1.0\n",
    ")"
   ]
  },
  {
   "cell_type": "code",
   "execution_count": 10,
   "metadata": {},
   "outputs": [
    {
     "name": "stderr",
     "output_type": "stream",
     "text": [
      "100%|██████████| 100/100 [01:22<00:00,  1.21it/s]\n"
     ]
    }
   ],
   "source": [
    "# create hyp object\n",
    "hyp_easy_high = Hypothesis()\n",
    "\n",
    "# set license\n",
    "hyp_easy_high.license_file = \"D:/Projects/ProjectPaper/WLS_credentials.json\"\n",
    "\n",
    "# analyse dataset\n",
    "hyp_easy_high.analyse_dataset(dataset_easy_high)\n",
    "\n",
    "# store results (package version)\n",
    "json.dump(hyp_easy_high.result_dict, open(\"../Results-Easy-Hard/hyp_easy_high_PKG.json\", 'w'))"
   ]
  },
  {
   "cell_type": "code",
   "execution_count": 11,
   "metadata": {},
   "outputs": [
    {
     "name": "stdout",
     "output_type": "stream",
     "text": [
      "\n",
      "conflict\n",
      "{'status': 'INFEASIBLE', 'time': 0.12899994850158691}\n",
      "{'status': 'OPTIMAL', 'time': 0.002000093460083008}\n",
      "\n",
      "conflict\n",
      "{'status': 'OPTIMAL', 'time': 0.2349998950958252}\n",
      "{'status': 'INFEASIBLE', 'time': 0.19099998474121094}\n",
      "\n",
      "conflict\n",
      "{'status': 'INFEASIBLE', 'time': 0.5140001773834229}\n",
      "{'status': 'OPTIMAL', 'time': 0.1940000057220459}\n",
      "\n",
      "conflict\n",
      "{'status': 'INFEASIBLE', 'time': 0.0820000171661377}\n",
      "{'status': 'OPTIMAL', 'time': 0.002000093460083008}\n",
      "\n",
      "conflict\n",
      "{'status': 'INFEASIBLE', 'time': 2.686000108718872}\n",
      "{'status': 'OPTIMAL', 'time': 0.8220000267028809}\n",
      "\n",
      "conflict\n",
      "{'status': 'INFEASIBLE', 'time': 1.0380001068115234}\n",
      "{'status': 'OPTIMAL', 'time': 0.3659999370574951}\n",
      "\n",
      "conflict\n",
      "{'status': 'INFEASIBLE', 'time': 0.6040000915527344}\n",
      "{'status': 'OPTIMAL', 'time': 0.0029997825622558594}\n",
      "\n",
      "conflict\n",
      "{'status': 'INFEASIBLE', 'time': 0.5500001907348633}\n",
      "{'status': 'OPTIMAL', 'time': 0.17300009727478027}\n",
      "\n",
      "conflict\n",
      "{'status': 'INFEASIBLE', 'time': 0.192000150680542}\n",
      "{'status': 'OPTIMAL', 'time': 0.0019998550415039062}\n",
      "\n",
      "conflict\n",
      "{'status': 'INFEASIBLE', 'time': 0.14299988746643066}\n",
      "{'status': 'OPTIMAL', 'time': 0.0019998550415039062}\n",
      "\n",
      "conflict\n",
      "{'status': 'INFEASIBLE', 'time': 0.002000093460083008}\n",
      "{'status': 'OPTIMAL', 'time': 0.003000020980834961}\n"
     ]
    }
   ],
   "source": [
    "result_dict_PKG = json.load(open(\"../Results-Easy-Hard/hyp_easy_high_PKG.json\"))\n",
    "result_dict = json.load(open(\"../Results-Easy-Hard/hyp_easy_high.json\"))\n",
    "\n",
    "for i in range(100):\n",
    "\n",
    "    if not (result_dict_PKG[str(i)]['status'] == result_dict[str(i)]['status']):\n",
    "        print(\"\\nconflict\")\n",
    "        print(result_dict_PKG[str(i)])\n",
    "        print(result_dict[str(i)])"
   ]
  },
  {
   "cell_type": "markdown",
   "metadata": {},
   "source": [
    "## Med analysis"
   ]
  },
  {
   "cell_type": "code",
   "execution_count": 2,
   "metadata": {},
   "outputs": [],
   "source": [
    "dataset_easy_med_noInt = Dataset()\n",
    "dataset_easy_med_noInt.load_dataset(\n",
    "    count_dataset_filename = \"../Datasets-Easy-Hard/counts_easy_med_noInt.csv\",\n",
    "    param_dataset_filename = \"../Datasets-Easy-Hard/params_easy_med_noInt.csv\",\n",
    "    beta = 0.5\n",
    ")"
   ]
  },
  {
   "cell_type": "code",
   "execution_count": 3,
   "metadata": {},
   "outputs": [
    {
     "name": "stderr",
     "output_type": "stream",
     "text": [
      " 27%|██▋       | 27/100 [3:27:19<9:20:31, 460.70s/it]\n"
     ]
    }
   ],
   "source": [
    "# create hyp object\n",
    "hyp_easy_med_noInt = Hypothesis()\n",
    "\n",
    "# set license\n",
    "hyp_easy_med_noInt.license_file = \"D:/Projects/ProjectPaper/WLS_credentials.json\"\n",
    "\n",
    "# analyse dataset\n",
    "hyp_easy_med_noInt.analyse_dataset(dataset_easy_med_noInt)\n",
    "\n",
    "# store results\n",
    "json.dump(hyp_easy_med_noInt.result_dict, open(\"../Results-Easy-Hard/hyp_easy_med_noInt_PKG\", 'w'))"
   ]
  },
  {
   "cell_type": "code",
   "execution_count": null,
   "metadata": {},
   "outputs": [],
   "source": [
    "dataset_easy_med = Dataset()\n",
    "dataset_easy_med.load_dataset(\n",
    "    count_dataset_filename = \"../Datasets-Easy-Hard/counts_easy_med.csv\",\n",
    "    param_dataset_filename = \"../Datasets-Easy-Hard/params_easy_med.csv\",\n",
    "    beta = 0.5\n",
    ")"
   ]
  },
  {
   "cell_type": "code",
   "execution_count": null,
   "metadata": {},
   "outputs": [],
   "source": [
    "hyp_easy_med = Hypothesis()\n",
    "hyp_easy_med.license_file = \"D:/Projects/ProjectPaper/WLS_credentials.json\"\n",
    "hyp_easy_med.analyse_dataset(dataset_easy_med)\n",
    "json.dump(hyp_easy_med.result_dict, open(\"../Results-Easy-Hard/hyp_easy_med\", 'w'))"
   ]
  }
 ],
 "metadata": {
  "kernelspec": {
   "display_name": "M5R_venv",
   "language": "python",
   "name": "python3"
  },
  "language_info": {
   "codemirror_mode": {
    "name": "ipython",
    "version": 3
   },
   "file_extension": ".py",
   "mimetype": "text/x-python",
   "name": "python",
   "nbconvert_exporter": "python",
   "pygments_lexer": "ipython3",
   "version": "3.12.2"
  }
 },
 "nbformat": 4,
 "nbformat_minor": 2
}
