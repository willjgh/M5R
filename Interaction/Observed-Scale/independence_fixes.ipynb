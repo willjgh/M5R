{
 "cells": [
  {
   "cell_type": "code",
   "execution_count": null,
   "id": "64c9f185",
   "metadata": {},
   "outputs": [],
   "source": []
  },
  {
   "cell_type": "code",
   "execution_count": null,
   "id": "7d9664eb",
   "metadata": {},
   "outputs": [],
   "source": []
  },
  {
   "cell_type": "markdown",
   "id": "975fdcb5",
   "metadata": {},
   "source": [
    "# Downsamled optimization: Independent models\n",
    "\n",
    "Due to binomial downsampling with the same capture efficiencies for each gene, the downsampled counts are positively correlated. So even if the original counts are sampled from a model with independent genes, the downsampled counts are not independent.\n",
    "\n",
    "This means that for an independent model e.g. independent birth-death, we cannot use the 'marginal downsampled CME' as this would be assuming the downsampled counts are also independent (but are in fact positively correlated) and must use the 'joint downsampled CME' with the joint downsampled distribution (i.e. interacting birth-death model constraints with $k_{reg} = 0$):\n",
    "\n",
    "$$\n",
    "\\begin{align}\n",
    "0 =& k_{tx_1} p_{D} (x_1 - 1, x_2) \\\\\n",
    "+& k_{tx_2} p_{D} (x_1, x_2 - 1) \\\\\n",
    "+& k_{deg_1} (x_1 + 1) p_{D} (x_1 + 1, x_2) \\\\\n",
    "+& k_{deg_2} (x_2 + 1) p_{D} (x_1, x_2 + 1) \\\\\n",
    "-& (k_{tx_1} + k_{tx_2} + k_{deg_1} x_1 + k_{deg_2} x_2) p_{D} (x_1, x_2)\n",
    "\\end{align}\n",
    "$$\n",
    "\n",
    "Had mistakenly used 'marginal downsampled CME' in optimization test, so now investigate changes when fixing.\n"
   ]
  }
 ],
 "metadata": {
  "kernelspec": {
   "display_name": "M5R_venv",
   "language": "python",
   "name": "python3"
  },
  "language_info": {
   "codemirror_mode": {
    "name": "ipython",
    "version": 3
   },
   "file_extension": ".py",
   "mimetype": "text/x-python",
   "name": "python",
   "nbconvert_exporter": "python",
   "pygments_lexer": "ipython3",
   "version": "3.10.11"
  }
 },
 "nbformat": 4,
 "nbformat_minor": 5
}
