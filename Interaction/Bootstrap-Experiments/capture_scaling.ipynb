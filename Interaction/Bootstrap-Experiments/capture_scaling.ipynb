{
 "cells": [
  {
   "cell_type": "code",
   "execution_count": 8,
   "id": "eda8ca5c",
   "metadata": {},
   "outputs": [],
   "source": [
    "import numpy as np\n",
    "import matplotlib.pyplot as plt\n",
    "import scipy\n",
    "import gurobipy as gp\n",
    "from gurobipy import GRB\n",
    "import json"
   ]
  },
  {
   "cell_type": "code",
   "execution_count": 9,
   "id": "e0ff6107",
   "metadata": {},
   "outputs": [],
   "source": [
    "status_codes = {\n",
    "    1: 'LOADED',\n",
    "    2: 'OPTIMAL',\n",
    "    3: 'INFEASIBLE',\n",
    "    4: 'INF_OR_UNBD',\n",
    "    5: 'UNBOUNDED',\n",
    "    6: 'CUTOFF',\n",
    "    7: 'ITERATION_LIMIT',\n",
    "    8: 'NODE_LIMIT',\n",
    "    9: 'TIME_LIMIT',\n",
    "    10: 'SOLUTION_LIMIT',\n",
    "    11: 'INTERRUPTED',\n",
    "    12: 'NUMERIC',\n",
    "    13: 'SUBOPTIMAL',\n",
    "    14: 'INPROGRESS',\n",
    "    15: 'USER_OBJ_LIMIT'\n",
    "}"
   ]
  },
  {
   "cell_type": "code",
   "execution_count": 10,
   "id": "01da1880",
   "metadata": {},
   "outputs": [],
   "source": [
    "rng = np.random.default_rng(43)"
   ]
  },
  {
   "cell_type": "markdown",
   "id": "53a3ef72",
   "metadata": {},
   "source": [
    "# Scaling bounds & Capture efficiency"
   ]
  },
  {
   "cell_type": "markdown",
   "id": "5c7616b7",
   "metadata": {},
   "source": [
    "## Code"
   ]
  },
  {
   "cell_type": "markdown",
   "id": "0cfb4aec",
   "metadata": {},
   "source": [
    "### Bootstrap"
   ]
  },
  {
   "cell_type": "code",
   "execution_count": 35,
   "id": "b98d73cc",
   "metadata": {},
   "outputs": [],
   "source": [
    "def bootstrap(sample, beta, N, tau, drop=False):\n",
    "    \"\"\"\n",
    "    Bootstrap estimate of probabilities of all states in the sample\n",
    "    Set bounds outside tau threshold truncation to [0, 1]\n",
    "\n",
    "    sample: integer sample\n",
    "    N: number of bootstrap resamples\n",
    "    tau: truncation threshold\n",
    "    drop: if true, values outside truncation are removed from the sample before bootstrap\n",
    "    \"\"\"\n",
    "\n",
    "    # OB truncation bounds\n",
    "    xmin, xmax = int(sample.min()), int(sample.max())\n",
    "    sample_counts = np.bincount(sample, minlength=(xmax + 1))\n",
    "    t_indices = np.where(sample_counts > tau)[0]\n",
    "    tmin, tmax = int(t_indices.min()), int(t_indices.max())\n",
    "\n",
    "    # if drop: remove values outside the truncation before bootstrapping\n",
    "    if drop:\n",
    "        # indices below\n",
    "        Itmin = (sample >= tmin)\n",
    "        # drop\n",
    "        sample = sample[Itmin]\n",
    "        beta = beta[Itmin]\n",
    "\n",
    "        # indices above\n",
    "        Itmax = (sample <= tmax)\n",
    "        # drop\n",
    "        sample = sample[Itmax]\n",
    "        beta = beta[Itmax]\n",
    "\n",
    "    # bootstrap\n",
    "    prob_intervals = np.empty((2, xmax + 1))\n",
    "    prob_intervals[0, :] = 0\n",
    "    prob_intervals[1, :] = 1\n",
    "    fm_intervals = np.empty((2, xmax + 1))\n",
    "    fm_intervals[0, :] = 0\n",
    "    fm_intervals[1, :] = 1\n",
    "\n",
    "    # resample\n",
    "    prob_resamples = rng.choice(sample, size=(N, len(sample)))\n",
    "\n",
    "    # estimate over truncation\n",
    "    for x in range(tmin, tmax + 1):\n",
    "\n",
    "        '''probs'''\n",
    "        # proportion of x per resample\n",
    "        prob_estimates = (prob_resamples == x).mean(axis=1)\n",
    "        # interval\n",
    "        prob_intervals[:, x] = np.quantile(prob_estimates, [0.025, 0.975])\n",
    "\n",
    "        '''fms'''\n",
    "        # capture for cells with x observed counts\n",
    "        beta_x = beta[sample == x]\n",
    "        # resample\n",
    "        beta_resamples = rng.choice(beta_x, size=(N, len(beta_x)))\n",
    "        # estimate E[beta|m]\n",
    "        fm_estimate = beta_resamples.mean(axis=1)\n",
    "        # quantile for confidence intervals\n",
    "        fm_intervals[:, x] = np.quantile(fm_estimate, [0.025, 0.975], axis=0)\n",
    "\n",
    "    return tmin, tmax, prob_intervals, fm_intervals"
   ]
  },
  {
   "cell_type": "markdown",
   "id": "50a4a111",
   "metadata": {},
   "source": [
    "### Standard Optimization (Downsampled)\n",
    "\n",
    "Treat bootstrap intervals as bounds on (downsampled) probabilities\n",
    "\n",
    "\\begin{align*}\n",
    "    & \\hat{p_{L}} \\le p(x) \\le \\hat{p_{U}} \\quad , \\quad \\forall x \\in \\{0, \\ldots m\\} \\\\\n",
    "    & \\sum \\limits_{x=0}^{m} p(x) \\le 1 \\\\\n",
    "    & Q(f)p = 0\n",
    "\\end{align*}"
   ]
  },
  {
   "cell_type": "code",
   "execution_count": 46,
   "id": "742ec5ce",
   "metadata": {},
   "outputs": [],
   "source": [
    "def optimize_standard(xmax, tmin, tmax, prob_intervals, fm_intervals, CME=True, silent=True, printing=True, time_limit=300, dist_opt=True):\n",
    "    \n",
    "    # WLS license\n",
    "    options = json.load(open(\"../../../WLS_credentials.json\"))\n",
    "\n",
    "    # silent\n",
    "    if silent:\n",
    "        options['OutputFlag'] = 0\n",
    "\n",
    "    # environment context\n",
    "    with gp.Env(params=options) as env:\n",
    "\n",
    "        # model context\n",
    "        with gp.Model('test-construction', env=env) as model:\n",
    "\n",
    "            # model settings\n",
    "            model.Params.TimeLimit = time_limit\n",
    "            K = 100\n",
    "\n",
    "            # variables\n",
    "            p = model.addMVar(shape=(xmax + 1), vtype=GRB.CONTINUOUS, name=\"p\", lb=0, ub=1)\n",
    "            f = model.addMVar(shape=(xmax + 1), vtype=GRB.CONTINUOUS, name=\"f\", lb=0, ub=1)\n",
    "            k_tx = model.addVar(vtype=GRB.CONTINUOUS, name=\"k_tx\", lb=0, ub=K)\n",
    "\n",
    "            # distributional constraint\n",
    "            model.addConstr(p.sum() <= 1, name=\"Distribution\")\n",
    "\n",
    "            # probability bounds\n",
    "            model.addConstr(p[:(tmax+1)] <= prob_intervals[1, :(tmax+1)], name=\"prob_UB\")\n",
    "            model.addConstr(p[:(tmax+1)] >= prob_intervals[0, :(tmax+1)], name=\"prob_LB\")\n",
    "\n",
    "            # f rate bounds\n",
    "            model.addConstr(f[:(tmax+1)] <= fm_intervals[1, :(tmax+1)], name=\"f_UB\")\n",
    "            model.addConstr(f[:(tmax+1)] >= fm_intervals[0, :(tmax+1)], name=\"f_LB\")\n",
    "\n",
    "            # dummy zero variable for non-linear constraints\n",
    "            z = model.addVar()\n",
    "            model.addConstr(z == 0)\n",
    "\n",
    "            # CME\n",
    "            if CME:\n",
    "                model.addConstr(\n",
    "                    z == p[1] - k_tx * f[0] * p[0],\n",
    "                    name=\"CME_0\"\n",
    "                )\n",
    "\n",
    "                model.addConstrs(\n",
    "                    (\n",
    "                        z == k_tx * f[x - 1] * p[x - 1] + (x + 1) * p[x + 1] - (k_tx * f[x] + x) * p[x] for x in range(1, xmax)\n",
    "                    ),\n",
    "                    name=\"CME_x\"\n",
    "                )\n",
    "\n",
    "            # optimize\n",
    "            solution = {}\n",
    "            model.setObjective(k_tx, GRB.MINIMIZE)\n",
    "            model.optimize()\n",
    "            try:\n",
    "                solution['min'] = model.ObjVal\n",
    "            except:\n",
    "                solution['min'] = None\n",
    "            solution['min_status'] = status_codes[model.status]\n",
    "\n",
    "            if solution['min_status'] == \"INFEASIBLE\":\n",
    "                model.computeIIS()\n",
    "                model.write('iis-mmt.ilp')\n",
    "\n",
    "            model.setObjective(k_tx, GRB.MAXIMIZE)\n",
    "            model.optimize()\n",
    "            try:\n",
    "                solution['max'] = model.ObjVal\n",
    "            except:\n",
    "                solution['max'] = None\n",
    "            solution['max_status'] = status_codes[model.status]\n",
    "\n",
    "            # display\n",
    "            if printing:\n",
    "                print(f\"k_tx in ({solution['min']}, {solution['max']}), status {solution['min_status']}, {solution['max_status']}\")\n",
    "\n",
    "            # optimize p\n",
    "            if dist_opt:\n",
    "                p_bounds = np.zeros((xmax + 1, 2))\n",
    "                for x in range(xmax + 1):\n",
    "                    model.setObjective(p[x], GRB.MAXIMIZE)\n",
    "                    model.optimize()\n",
    "                    try:\n",
    "                        p_bounds[x, 1] = model.ObjVal\n",
    "                    except:\n",
    "                        p_bounds[x, 1] = -1\n",
    "\n",
    "                    model.setObjective(p[x], GRB.MINIMIZE)\n",
    "                    model.optimize()\n",
    "                    try:\n",
    "                        p_bounds[x, 0] = model.ObjVal\n",
    "                    except:\n",
    "                        p_bounds[x, 0] = -1\n",
    "\n",
    "                # store\n",
    "                solution['p'] = p_bounds\n",
    "\n",
    "    return solution"
   ]
  },
  {
   "cell_type": "markdown",
   "id": "e5bafb6c",
   "metadata": {},
   "source": [
    "### Scaling Optimization (Downsampled)\n",
    "\n",
    "Treat bootstrap intervals as bounds on (downsampled) probabilities **relative** to the observed mass of the sample, bounding the unobserved mass from above (assume relatively small):\n",
    "\n",
    "\\begin{align*}\n",
    "    & \\hat{p_{L}} \\le \\frac{p(x)}{p(obs)} \\le \\hat{p_{U}} \\quad , \\quad \\forall x \\in \\{0, \\ldots m\\} \\\\\n",
    "    & p(obs) = \\sum \\limits_{x=0}^{m} p(x) \\quad , \\quad p(unobs) = \\sum \\limits_{x=m+1}^{M} p(x) \\\\\n",
    "    & p(obs) + p(unobs) = 1 \\\\\n",
    "    & p(unobs) \\le UB \\\\\n",
    "    & Q(f)p = 0\n",
    "\\end{align*}"
   ]
  },
  {
   "cell_type": "code",
   "execution_count": 47,
   "id": "68e389e6",
   "metadata": {},
   "outputs": [],
   "source": [
    "def optimize_scaling(xmax, tmin, tmax, prob_intervals, fm_intervals, silent=True, printing=True, time_limit=300,\n",
    "                  CME=True, dist_opt=True, UB=1):\n",
    "    \n",
    "    # WLS license\n",
    "    options = json.load(open(\"../../../WLS_credentials.json\"))\n",
    "\n",
    "    # silent\n",
    "    if silent:\n",
    "        options['OutputFlag'] = 0\n",
    "\n",
    "    # environment context\n",
    "    with gp.Env(params=options) as env:\n",
    "\n",
    "        # model context\n",
    "        with gp.Model('test-construction', env=env) as model:\n",
    "\n",
    "            # model settings\n",
    "            model.Params.TimeLimit = time_limit\n",
    "            K = 100\n",
    "\n",
    "            # variables\n",
    "            p = model.addMVar(shape=(xmax + 1), vtype=GRB.CONTINUOUS, name=\"p\", lb=0, ub=1)\n",
    "            f = model.addMVar(shape=(xmax + 1), vtype=GRB.CONTINUOUS, name=\"f\", lb=0, ub=1)\n",
    "            k_tx = model.addVar(vtype=GRB.CONTINUOUS, name=\"k_tx\", lb=0, ub=K)\n",
    "\n",
    "            # distributional constraint\n",
    "            model.addConstr(p.sum() == 1, name=\"Distribution\")\n",
    "\n",
    "            # bounds on the unobserved mass\n",
    "            model.addConstr(p[(tmax+1):] <= UB, name=\"Unobserved_ub\")\n",
    "\n",
    "            # probability bounds\n",
    "            p_obs = p[:(tmax+1)].sum()\n",
    "            model.addConstr(p[:(tmax+1)] <= prob_intervals[1, :(tmax+1)] * p_obs, name=\"prob_UB\")\n",
    "            model.addConstr(p[:(tmax+1)] >= prob_intervals[0, :(tmax+1)] * p_obs, name=\"prob_LB\")\n",
    "\n",
    "            # f rate bounds\n",
    "            model.addConstr(f[:(tmax+1)] <= fm_intervals[1, :(tmax+1)], name=\"f_UB\")\n",
    "            model.addConstr(f[:(tmax+1)] >= fm_intervals[0, :(tmax+1)], name=\"f_LB\")\n",
    "\n",
    "            # dummy zero variable for non-linear constraints\n",
    "            z = model.addVar()\n",
    "            model.addConstr(z == 0)\n",
    "\n",
    "            # CME\n",
    "            if CME:\n",
    "                model.addConstr(\n",
    "                    z == p[1] - k_tx * f[0] * p[0],\n",
    "                    name=\"CME_0\"\n",
    "                )\n",
    "\n",
    "                model.addConstrs(\n",
    "                    (\n",
    "                        z == k_tx * f[x - 1] * p[x - 1] + (x + 1) * p[x + 1] - (k_tx * f[x] + x) * p[x] for x in range(1, xmax)\n",
    "                    ),\n",
    "                    name=\"CME_x\"\n",
    "            )\n",
    "\n",
    "            # optimize\n",
    "            solution = {}\n",
    "            model.setObjective(k_tx, GRB.MINIMIZE)\n",
    "            model.optimize()\n",
    "            try:\n",
    "                solution['min'] = model.ObjVal\n",
    "            except:\n",
    "                solution['min'] = None\n",
    "            solution['min_status'] = status_codes[model.status]\n",
    "\n",
    "            if solution['min_status'] == \"INFEASIBLE\":\n",
    "                model.computeIIS()\n",
    "                model.write('iis-mmt.ilp')\n",
    "\n",
    "            model.setObjective(k_tx, GRB.MAXIMIZE)\n",
    "            model.optimize()\n",
    "            try:\n",
    "                solution['max'] = model.ObjVal\n",
    "            except:\n",
    "                solution['max'] = None\n",
    "            solution['max_status'] = status_codes[model.status]\n",
    "\n",
    "            # display\n",
    "            if printing:\n",
    "                print(f\"k_tx in ({solution['min']}, {solution['max']}), status {solution['min_status']}, {solution['max_status']}\")\n",
    "\n",
    "            # optimize p\n",
    "            if dist_opt:\n",
    "                p_bounds = np.zeros((xmax + 1, 2))\n",
    "                for x in range(xmax + 1):\n",
    "                    model.setObjective(p[x], GRB.MAXIMIZE)\n",
    "                    model.optimize()\n",
    "                    try:\n",
    "                        p_bounds[x, 1] = model.ObjVal\n",
    "                    except:\n",
    "                        p_bounds[x, 1] = -1\n",
    "\n",
    "                    model.setObjective(p[x], GRB.MINIMIZE)\n",
    "                    model.optimize()\n",
    "                    try:\n",
    "                        p_bounds[x, 0] = model.ObjVal\n",
    "                    except:\n",
    "                        p_bounds[x, 0] = -1\n",
    "\n",
    "                # store\n",
    "                solution['p'] = p_bounds\n",
    "\n",
    "    return solution"
   ]
  },
  {
   "cell_type": "markdown",
   "id": "e96bdf9c",
   "metadata": {},
   "source": [
    "## Testing"
   ]
  },
  {
   "cell_type": "markdown",
   "id": "87136da2",
   "metadata": {},
   "source": [
    "### Poisson data"
   ]
  },
  {
   "cell_type": "code",
   "execution_count": 113,
   "id": "e2229079",
   "metadata": {},
   "outputs": [],
   "source": [
    "k = 2\n",
    "tau = 5\n",
    "N = 1000\n",
    "n = 1000\n",
    "xmax = 30\n",
    "\n",
    "sample = rng.poisson(k, size=n)\n",
    "beta = rng.beta(1, 20, size=n)\n",
    "sample_downsampled = rng.binomial(sample, beta)\n",
    "tmin, tmax, prob_intervals, fm_intervals = bootstrap(sample_downsampled, beta, N, tau, drop=True)"
   ]
  },
  {
   "cell_type": "code",
   "execution_count": null,
   "id": "a4caa4fb",
   "metadata": {},
   "outputs": [
    {
     "name": "stdout",
     "output_type": "stream",
     "text": [
      "k_tx in (1.734683896380789, 3.020347681070055), status OPTIMAL, OPTIMAL\n"
     ]
    }
   ],
   "source": [
    "# Standard\n",
    "solution = optimize_standard(xmax, tmin, tmax, prob_intervals, fm_intervals, dist_opt=False)"
   ]
  },
  {
   "cell_type": "code",
   "execution_count": null,
   "id": "a8eb2bbb",
   "metadata": {},
   "outputs": [
    {
     "name": "stdout",
     "output_type": "stream",
     "text": [
      "k_tx in (1.7913122646998674, 99.99998569731527), status OPTIMAL, OPTIMAL\n"
     ]
    }
   ],
   "source": [
    "# Scaling\n",
    "solution = optimize_scaling(xmax, tmin, tmax, prob_intervals, fm_intervals, dist_opt=False, UB=0.1)"
   ]
  },
  {
   "cell_type": "markdown",
   "id": "1d292177",
   "metadata": {},
   "source": [
    "### Non-poisson data"
   ]
  },
  {
   "cell_type": "code",
   "execution_count": 117,
   "id": "20b9560e",
   "metadata": {},
   "outputs": [],
   "source": [
    "from interaction_inference import simulation"
   ]
  },
  {
   "cell_type": "code",
   "execution_count": 132,
   "id": "cc8eb631",
   "metadata": {},
   "outputs": [],
   "source": [
    "params = {\n",
    "    'k_on_1': 1,\n",
    "    'k_on_2': 1,\n",
    "    'k_off_1': 1,\n",
    "    'k_off_2': 1,\n",
    "    'k_tx_1': 1,\n",
    "    'k_tx_2': 1,\n",
    "    'k_deg_1': 1,\n",
    "    'k_deg_2': 1,\n",
    "    'k_reg': 2\n",
    "}\n",
    "\n",
    "sample = simulation.gillespie_telegraph(params, 1000)\n",
    "x1_sample = np.array([x[0] for x in sample])"
   ]
  },
  {
   "cell_type": "code",
   "execution_count": 133,
   "id": "3fa1d9fa",
   "metadata": {},
   "outputs": [],
   "source": [
    "beta = rng.beta(1, 2, size=n)\n",
    "sample_downsampled = rng.binomial(x1_sample, beta)\n",
    "tmin, tmax, prob_intervals, fm_intervals = bootstrap(sample_downsampled, beta, N, tau, drop=True)"
   ]
  },
  {
   "cell_type": "code",
   "execution_count": 134,
   "id": "78c7c345",
   "metadata": {},
   "outputs": [
    {
     "name": "stdout",
     "output_type": "stream",
     "text": [
      "k_tx in (0.3297851812244912, 0.4605224023490482), status OPTIMAL, OPTIMAL\n"
     ]
    }
   ],
   "source": [
    "# Standard\n",
    "solution = optimize_standard(xmax, tmin, tmax, prob_intervals, fm_intervals, dist_opt=False)"
   ]
  },
  {
   "cell_type": "code",
   "execution_count": 135,
   "id": "84651c59",
   "metadata": {},
   "outputs": [
    {
     "name": "stdout",
     "output_type": "stream",
     "text": [
      "k_tx in (0.32972013160906655, 99.99999999930894), status OPTIMAL, OPTIMAL\n"
     ]
    }
   ],
   "source": [
    "# Scaling\n",
    "solution = optimize_scaling(xmax, tmin, tmax, prob_intervals, fm_intervals, dist_opt=False, UB=0.1)"
   ]
  }
 ],
 "metadata": {
  "kernelspec": {
   "display_name": "M5R_venv",
   "language": "python",
   "name": "python3"
  },
  "language_info": {
   "codemirror_mode": {
    "name": "ipython",
    "version": 3
   },
   "file_extension": ".py",
   "mimetype": "text/x-python",
   "name": "python",
   "nbconvert_exporter": "python",
   "pygments_lexer": "ipython3",
   "version": "3.10.11"
  }
 },
 "nbformat": 4,
 "nbformat_minor": 5
}
