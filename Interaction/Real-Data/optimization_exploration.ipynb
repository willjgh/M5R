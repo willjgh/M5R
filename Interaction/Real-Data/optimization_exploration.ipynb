{
 "cells": [
  {
   "cell_type": "code",
   "execution_count": 1,
   "metadata": {},
   "outputs": [],
   "source": [
    "import pandas as pd\n",
    "import matplotlib.pyplot as plt\n",
    "from matplotlib.colors import LinearSegmentedColormap\n",
    "import numpy as np\n",
    "from interaction_inference import dataset, optimization"
   ]
  },
  {
   "cell_type": "markdown",
   "metadata": {},
   "source": [
    "## Dataset (PNAS Smart-seq-total paper)\n",
    "\n",
    "Load dataset of single genes"
   ]
  },
  {
   "cell_type": "code",
   "execution_count": 2,
   "metadata": {},
   "outputs": [],
   "source": [
    "data_FIB = pd.read_csv(\"./Datasets/GSE151334_FIB_counts_thresh.csv\", index_col=0)"
   ]
  },
  {
   "cell_type": "markdown",
   "metadata": {},
   "source": [
    "## Capture efficiency\n",
    "\n",
    "Estimate capture efficiency per cell from the full dataset of genes:\n",
    "- set a mean value <$\\beta$>\n",
    "- compute the total counts per cell / total counts across all cells\n",
    "- renormalize to have mean <$\\beta$>, giving capture efficiency $\\beta_{j}$ per cell"
   ]
  },
  {
   "cell_type": "code",
   "execution_count": 32,
   "metadata": {},
   "outputs": [],
   "source": [
    "# mean beta\n",
    "beta_mean = 0.1\n",
    "\n",
    "# total counts per cell\n",
    "total_per_cell = data_FIB.sum(axis='rows')\n",
    "\n",
    "# total counts across all cells\n",
    "total_overall = total_per_cell.sum()\n",
    "\n",
    "# count proportions per cell (sum = 1)\n",
    "count_proportion = (total_per_cell / total_overall).to_numpy()\n",
    "\n",
    "# number of cells\n",
    "n = count_proportion.size\n",
    "\n",
    "# re-normalize\n",
    "beta = count_proportion * beta_mean * n"
   ]
  },
  {
   "cell_type": "code",
   "execution_count": 198,
   "metadata": {},
   "outputs": [],
   "source": [
    "# set mean beta\n",
    "MeanBETA = 0.1\n",
    "\n",
    "#xx<-Matrix::colSums(Data)\n",
    "xx = data_FIB.sum(axis='rows')\n",
    "\n",
    "#Normcount <- t_sp(t_sp(Data)/xx) * mean(xx)\n",
    "# Normcount <- Matrix::t(Matrix::t(Data)/xx) * mean(xx)\n",
    "Normcount = (data_FIB / xx) * np.mean(xx) # sum = mean(xx) per column\n",
    "\n",
    "#means <- Matrix::rowMeans(Normcount)\n",
    "means = Normcount.mean(axis='columns')\n",
    "\n",
    "#lmeans <- log(means)\n",
    "lmean = np.log(means)\n",
    "\n",
    "#med <- apply(log(Normcount + 1), 1, function(x) {\n",
    "#    median(x)\n",
    "#})\n",
    "med = np.log(Normcount + 1).median(axis=1)\n",
    "\n",
    "#mad <- apply(log(Normcount + 1), 1, function(x) {\n",
    "#    mad(x)\n",
    "#})\n",
    "mad = np.log(Normcount + 1).apply(lambda row: (row - row.median()).abs().median(), axis=1)\n",
    "\n",
    "#bound <- med + 3 * mad\n",
    "bound = med + 3*mad\n",
    "\n",
    "#maxlogGene <- apply(log(Normcount + 1), 1, max)\n",
    "maxlogGene = np.log(Normcount + 1).max(axis=1)\n",
    "\n",
    "#ind <- which(maxlogGene < bound)\n",
    "ind = maxlogGene < bound\n",
    "\n",
    "#dropout = apply(Data, 1, function(x) {\n",
    "#    length(which(x == 0))/length(x)\n",
    "#})\n",
    "dropout = data_FIB.apply(lambda row: (row == 0).sum() / row.size, axis=1)\n",
    "\n",
    "\n",
    "#Select_ind <- intersect(ind, which(dropout < 0.35))\n",
    "Select_ind = ind & (dropout < 0.35)\n",
    "\n",
    "# Selected_genes <- rownames(Data)[Select_ind]\n",
    "Selected_genes = list(Select_ind.index)\n",
    "\n",
    "#temppp <- Matrix::colSums(Data[Select_ind, ])\n",
    "temppp = data_FIB[Select_ind].sum(axis=0)\n",
    "\n",
    "#BETA <- temppp/mean(temppp) * MeanBETA\n",
    "BETA = (temppp / temppp.mean()) * MeanBETA\n",
    "\n",
    "#if (length(which(BETA >= 1)) > 0) {\n",
    "#    BETA[BETA >= 1] = max(BETA[BETA < 1])\n",
    "#}\n",
    "#if (length(which(BETA <= 0)) > 0) {\n",
    "#    BETA[BETA <= 0] = min(BETA[BETA > 0])\n",
    "#}\n",
    "if (BETA >= 1).size > 0:\n",
    "    BETA[BETA >= 1] = BETA[BETA < 1].max()\n",
    "if (BETA <= 0).size > 0:\n",
    "    BETA[BETA <= 0] = BETA[BETA > 0].min()\n",
    "\n",
    "#names(BETA) <- colnames(Data)\n",
    "\n",
    "#return(list(BETA = BETA, Selected_genes = Selected_genes))\n",
    "BETA = BETA.to_numpy()"
   ]
  },
  {
   "cell_type": "code",
   "execution_count": 199,
   "metadata": {},
   "outputs": [
    {
     "data": {
      "image/png": "[encoded data removed]",
      "text/plain": [
       "<Figure size 640x480 with 1 Axes>"
      ]
     },
     "metadata": {},
     "output_type": "display_data"
    }
   ],
   "source": [
    "plt.hist(BETA, bins=20);"
   ]
  },
  {
   "cell_type": "markdown",
   "metadata": {},
   "source": [
    "### Construct dataset of pairs\n",
    "\n",
    "Avoid repeating pairs as symmetric"
   ]
  },
  {
   "cell_type": "code",
   "execution_count": 245,
   "metadata": {},
   "outputs": [],
   "source": [
    "# size\n",
    "genes = 100\n",
    "gene_pairs = (genes * (genes - 1) // 2) + genes\n",
    "cells = data_FIB.shape[1]\n",
    "\n",
    "# construct paired count dataframe\n",
    "counts_df = pd.DataFrame(\n",
    "    index = [f\"Gene-pair-{i}\" for i in range(gene_pairs)],\n",
    "    columns = [f\"Cell-{j}\" for j in range(cells)]\n",
    ")\n",
    "\n",
    "# fill with pairs\n",
    "k = 0\n",
    "for i in range(genes):\n",
    "    gene_i = data_FIB.iloc[i]\n",
    "    for j in range(genes):\n",
    "        if j > i:\n",
    "            break\n",
    "        gene_j = data_FIB.iloc[j]\n",
    "        gene_pair_ij = list(zip(gene_i, gene_j))\n",
    "        counts_df.iloc[k] = gene_pair_ij\n",
    "        k += 1\n",
    "\n",
    "# construct object\n",
    "dataset_FIB = dataset.Dataset(\"dataset_FIB\")\n",
    "dataset_FIB.count_dataset = counts_df\n",
    "dataset_FIB.cells = cells\n",
    "dataset_FIB.gene_pairs = gene_pairs\n",
    "\n",
    "# settings\n",
    "dataset_FIB.thresh_OB = 3\n",
    "dataset_FIB.threshM_OB = 3\n",
    "\n",
    "# set capture\n",
    "dataset_FIB.beta = BETA"
   ]
  },
  {
   "cell_type": "markdown",
   "metadata": {},
   "source": [
    "### Moment optimization"
   ]
  },
  {
   "cell_type": "code",
   "execution_count": 246,
   "metadata": {},
   "outputs": [],
   "source": [
    "# memory settings\n",
    "dataset_FIB.resamples = 1000"
   ]
  },
  {
   "cell_type": "code",
   "execution_count": 247,
   "metadata": {},
   "outputs": [
    {
     "name": "stderr",
     "output_type": "stream",
     "text": [
      "100%|██████████| 5050/5050 [01:18<00:00, 64.66it/s]\n"
     ]
    }
   ],
   "source": [
    "dataset_FIB.compute_moments(tqdm_disable=False)"
   ]
  },
  {
   "cell_type": "code",
   "execution_count": 248,
   "metadata": {},
   "outputs": [
    {
     "name": "stderr",
     "output_type": "stream",
     "text": [
      "100%|██████████| 5050/5050 [00:08<00:00, 608.50it/s]\n"
     ]
    }
   ],
   "source": [
    "# optimization analysis\n",
    "moment_FIB = optimization.Optimization(\n",
    "    dataset_FIB,\n",
    "    [\n",
    "        \"dummy_moment\"\n",
    "    ],\n",
    "    tqdm_disable=False,\n",
    "    print_solution=False\n",
    ")"
   ]
  },
  {
   "cell_type": "code",
   "execution_count": 249,
   "metadata": {},
   "outputs": [],
   "source": [
    "result_array = np.zeros((genes, genes))\n",
    "k = 0\n",
    "for i in range(genes):\n",
    "    for j in range(genes):\n",
    "        # ignore above diagonal\n",
    "        if j > i:\n",
    "            pass\n",
    "        else:\n",
    "            if moment_FIB.result_dict[k]['status'] == \"INFEASIBLE\":\n",
    "                result_array[i, j] = 1\n",
    "            k += 1\n",
    "\n",
    "# fill above diagonal by symmetry\n",
    "for i in range(genes):\n",
    "    for j in range(genes):\n",
    "        if j > i:\n",
    "            result_array[i, j] = result_array[j, i]"
   ]
  },
  {
   "cell_type": "code",
   "execution_count": 250,
   "metadata": {},
   "outputs": [
    {
     "data": {
      "text/plain": [
       "(np.float64(-0.5), np.float64(99.5), np.float64(99.5), np.float64(-0.5))"
      ]
     },
     "execution_count": 250,
     "metadata": {},
     "output_type": "execute_result"
    },
    {
     "data": {
      "image/png": "[encoded data removed]",
      "text/plain": [
       "<Figure size 500x600 with 1 Axes>"
      ]
     },
     "metadata": {},
     "output_type": "display_data"
    }
   ],
   "source": [
    "fig, axs = plt.subplots(figsize=(5, 6))\n",
    "cmap = LinearSegmentedColormap.from_list('br', [(0, \"b\"), (1, \"r\")], N=256)\n",
    "vmin, vmax = 0, 1\n",
    "img = axs.imshow(result_array, cmap=cmap, vmin=vmin, vmax=vmax)\n",
    "axs.set_title(\"Pairwise moment test\")\n",
    "plt.axis('off')\n",
    "#cbar = plt.colorbar(img, ax=axs)\n",
    "#cbar.set_label(\"p-value\")"
   ]
  },
  {
   "cell_type": "markdown",
   "metadata": {},
   "source": [
    "### Construct dataset single genes (paired to save space)\n",
    "\n",
    "i.e. (X1, X2), (X3, X4), ... \n",
    "\n",
    "for marginal optimization"
   ]
  },
  {
   "cell_type": "code",
   "execution_count": 262,
   "metadata": {},
   "outputs": [],
   "source": [
    "# size\n",
    "genes = 50\n",
    "gene_pairs = genes // 2\n",
    "cells = data_FIB.shape[1]\n",
    "\n",
    "# construct paired count dataframe\n",
    "counts_df = pd.DataFrame(\n",
    "    index = [f\"Gene-pair-{i}\" for i in range(gene_pairs)],\n",
    "    columns = [f\"Cell-{j}\" for j in range(cells)]\n",
    ")\n",
    "\n",
    "# fill with pairs\n",
    "i = 0\n",
    "for k in range(gene_pairs):\n",
    "    gene_i = data_FIB.iloc[i]\n",
    "    gene_j = data_FIB.iloc[i + 1]\n",
    "    gene_pair_ij = list(zip(gene_i, gene_j))\n",
    "    counts_df.iloc[k] = gene_pair_ij\n",
    "    i += 2\n",
    "\n",
    "# construct object\n",
    "dataset_single_FIB = dataset.Dataset(\"dataset_single_FIB\")\n",
    "dataset_single_FIB.count_dataset = counts_df\n",
    "dataset_single_FIB.cells = cells\n",
    "dataset_single_FIB.gene_pairs = gene_pairs\n",
    "\n",
    "# settings\n",
    "dataset_FIB.thresh_OB = 3\n",
    "dataset_FIB.threshM_OB = 3\n",
    "\n",
    "# set capture\n",
    "dataset_single_FIB.beta = BETA"
   ]
  },
  {
   "cell_type": "markdown",
   "metadata": {},
   "source": [
    "### Marginal optimization"
   ]
  },
  {
   "cell_type": "code",
   "execution_count": 282,
   "metadata": {},
   "outputs": [],
   "source": [
    "# memory details\n",
    "dataset_single_FIB.splits = 100\n",
    "dataset_single_FIB.resamples = 1000"
   ]
  },
  {
   "cell_type": "code",
   "execution_count": 283,
   "metadata": {},
   "outputs": [
    {
     "name": "stderr",
     "output_type": "stream",
     "text": [
      " 68%|██████▊   | 17/25 [00:54<00:25,  3.22s/it]\n"
     ]
    },
    {
     "ename": "MemoryError",
     "evalue": "Unable to allocate 7.83 GiB for an array with shape (1000, 1554, 1352) and data type uint32",
     "output_type": "error",
     "traceback": [
      "\u001b[1;31m---------------------------------------------------------------------------\u001b[0m",
      "\u001b[1;31mMemoryError\u001b[0m                               Traceback (most recent call last)",
      "Cell \u001b[1;32mIn[283], line 1\u001b[0m\n\u001b[1;32m----> 1\u001b[0m \u001b[43mdataset_single_FIB\u001b[49m\u001b[38;5;241;43m.\u001b[39;49m\u001b[43mbootstrap_probabilities\u001b[49m\u001b[43m(\u001b[49m\u001b[43mtqdm_disable\u001b[49m\u001b[38;5;241;43m=\u001b[39;49m\u001b[38;5;28;43;01mFalse\u001b[39;49;00m\u001b[43m)\u001b[49m\n",
      "File \u001b[1;32md:\\Projects\\ProjectPaper\\M5R_venv\\Lib\\site-packages\\interaction_inference\\dataset.py:241\u001b[0m, in \u001b[0;36mDataset.bootstrap_probabilities\u001b[1;34m(self, tqdm_disable)\u001b[0m\n\u001b[0;32m    238\u001b[0m sample \u001b[38;5;241m=\u001b[39m \u001b[38;5;28mlist\u001b[39m(\u001b[38;5;28mself\u001b[39m\u001b[38;5;241m.\u001b[39mcount_dataset\u001b[38;5;241m.\u001b[39mloc[\u001b[38;5;124mf\u001b[39m\u001b[38;5;124m'\u001b[39m\u001b[38;5;124mGene-pair-\u001b[39m\u001b[38;5;132;01m{\u001b[39;00mi\u001b[38;5;132;01m}\u001b[39;00m\u001b[38;5;124m'\u001b[39m])\n\u001b[0;32m    240\u001b[0m \u001b[38;5;66;03m# bootstrap probabilities\u001b[39;00m\n\u001b[1;32m--> 241\u001b[0m prob_results \u001b[38;5;241m=\u001b[39m \u001b[43mbootstrap\u001b[49m\u001b[38;5;241;43m.\u001b[39;49m\u001b[43mbootstrap_probabilities\u001b[49m\u001b[43m(\u001b[49m\n\u001b[0;32m    242\u001b[0m \u001b[43m    \u001b[49m\u001b[43msample\u001b[49m\u001b[43m,\u001b[49m\n\u001b[0;32m    243\u001b[0m \u001b[43m    \u001b[49m\u001b[38;5;28;43mself\u001b[39;49m\u001b[38;5;241;43m.\u001b[39;49m\u001b[43mresamples\u001b[49m\u001b[43m,\u001b[49m\n\u001b[0;32m    244\u001b[0m \u001b[43m    \u001b[49m\u001b[38;5;28;43mself\u001b[39;49m\u001b[38;5;241;43m.\u001b[39;49m\u001b[43msplits\u001b[49m\u001b[43m,\u001b[49m\n\u001b[0;32m    245\u001b[0m \u001b[43m    \u001b[49m\u001b[38;5;28;43mself\u001b[39;49m\u001b[38;5;241;43m.\u001b[39;49m\u001b[43mthresh_OB\u001b[49m\u001b[43m,\u001b[49m\n\u001b[0;32m    246\u001b[0m \u001b[43m    \u001b[49m\u001b[38;5;28;43mself\u001b[39;49m\u001b[38;5;241;43m.\u001b[39;49m\u001b[43mthreshM_OB\u001b[49m\n\u001b[0;32m    247\u001b[0m \u001b[43m\u001b[49m\u001b[43m)\u001b[49m\n\u001b[0;32m    249\u001b[0m \u001b[38;5;66;03m# store OB truncation\u001b[39;00m\n\u001b[0;32m    250\u001b[0m truncation_dict[\u001b[38;5;124mf\u001b[39m\u001b[38;5;124m'\u001b[39m\u001b[38;5;124msample-\u001b[39m\u001b[38;5;132;01m{\u001b[39;00mi\u001b[38;5;132;01m}\u001b[39;00m\u001b[38;5;124m'\u001b[39m] \u001b[38;5;241m=\u001b[39m prob_results[\u001b[38;5;124m'\u001b[39m\u001b[38;5;124mtruncation_OB\u001b[39m\u001b[38;5;124m'\u001b[39m]\n",
      "File \u001b[1;32md:\\Projects\\ProjectPaper\\M5R_venv\\Lib\\site-packages\\interaction_inference\\bootstrap.py:462\u001b[0m, in \u001b[0;36mbootstrap_probabilities\u001b[1;34m(sample, resamples, splits, thresh_OB, threshM_OB, plot, printing)\u001b[0m\n\u001b[0;32m    459\u001b[0m x2_counts \u001b[38;5;241m=\u001b[39m counts\u001b[38;5;241m.\u001b[39msum(axis\u001b[38;5;241m=\u001b[39m\u001b[38;5;241m1\u001b[39m)\n\u001b[0;32m    461\u001b[0m \u001b[38;5;66;03m# compute 2.5% and 97.5% quantiles for each p(x1, x2), p(x1) and p(x2)\u001b[39;00m\n\u001b[1;32m--> 462\u001b[0m bounds \u001b[38;5;241m=\u001b[39m \u001b[43mnp\u001b[49m\u001b[38;5;241;43m.\u001b[39;49m\u001b[43mquantile\u001b[49m\u001b[43m(\u001b[49m\u001b[43mcounts\u001b[49m\u001b[43m,\u001b[49m\u001b[43m \u001b[49m\u001b[43m[\u001b[49m\u001b[38;5;241;43m0.025\u001b[39;49m\u001b[43m,\u001b[49m\u001b[43m \u001b[49m\u001b[38;5;241;43m0.975\u001b[39;49m\u001b[43m]\u001b[49m\u001b[43m,\u001b[49m\u001b[43m \u001b[49m\u001b[43maxis\u001b[49m\u001b[38;5;241;43m=\u001b[39;49m\u001b[38;5;241;43m0\u001b[39;49m\u001b[43m)\u001b[49m\n\u001b[0;32m    463\u001b[0m x1_bounds \u001b[38;5;241m=\u001b[39m np\u001b[38;5;241m.\u001b[39mquantile(x1_counts, [\u001b[38;5;241m0.025\u001b[39m, \u001b[38;5;241m0.975\u001b[39m], axis\u001b[38;5;241m=\u001b[39m\u001b[38;5;241m0\u001b[39m)\n\u001b[0;32m    464\u001b[0m x2_bounds \u001b[38;5;241m=\u001b[39m np\u001b[38;5;241m.\u001b[39mquantile(x2_counts, [\u001b[38;5;241m0.025\u001b[39m, \u001b[38;5;241m0.975\u001b[39m], axis\u001b[38;5;241m=\u001b[39m\u001b[38;5;241m0\u001b[39m)\n",
      "File \u001b[1;32md:\\Projects\\ProjectPaper\\M5R_venv\\Lib\\site-packages\\numpy\\lib\\_function_base_impl.py:4537\u001b[0m, in \u001b[0;36mquantile\u001b[1;34m(a, q, axis, out, overwrite_input, method, keepdims, weights, interpolation)\u001b[0m\n\u001b[0;32m   4534\u001b[0m     \u001b[38;5;28;01mif\u001b[39;00m np\u001b[38;5;241m.\u001b[39many(weights \u001b[38;5;241m<\u001b[39m \u001b[38;5;241m0\u001b[39m):\n\u001b[0;32m   4535\u001b[0m         \u001b[38;5;28;01mraise\u001b[39;00m \u001b[38;5;167;01mValueError\u001b[39;00m(\u001b[38;5;124m\"\u001b[39m\u001b[38;5;124mWeights must be non-negative.\u001b[39m\u001b[38;5;124m\"\u001b[39m)\n\u001b[1;32m-> 4537\u001b[0m \u001b[38;5;28;01mreturn\u001b[39;00m \u001b[43m_quantile_unchecked\u001b[49m\u001b[43m(\u001b[49m\n\u001b[0;32m   4538\u001b[0m \u001b[43m    \u001b[49m\u001b[43ma\u001b[49m\u001b[43m,\u001b[49m\u001b[43m \u001b[49m\u001b[43mq\u001b[49m\u001b[43m,\u001b[49m\u001b[43m \u001b[49m\u001b[43maxis\u001b[49m\u001b[43m,\u001b[49m\u001b[43m \u001b[49m\u001b[43mout\u001b[49m\u001b[43m,\u001b[49m\u001b[43m \u001b[49m\u001b[43moverwrite_input\u001b[49m\u001b[43m,\u001b[49m\u001b[43m \u001b[49m\u001b[43mmethod\u001b[49m\u001b[43m,\u001b[49m\u001b[43m \u001b[49m\u001b[43mkeepdims\u001b[49m\u001b[43m,\u001b[49m\u001b[43m \u001b[49m\u001b[43mweights\u001b[49m\u001b[43m)\u001b[49m\n",
      "File \u001b[1;32md:\\Projects\\ProjectPaper\\M5R_venv\\Lib\\site-packages\\numpy\\lib\\_function_base_impl.py:4550\u001b[0m, in \u001b[0;36m_quantile_unchecked\u001b[1;34m(a, q, axis, out, overwrite_input, method, keepdims, weights)\u001b[0m\n\u001b[0;32m   4541\u001b[0m \u001b[38;5;28;01mdef\u001b[39;00m \u001b[38;5;21m_quantile_unchecked\u001b[39m(a,\n\u001b[0;32m   4542\u001b[0m                         q,\n\u001b[0;32m   4543\u001b[0m                         axis\u001b[38;5;241m=\u001b[39m\u001b[38;5;28;01mNone\u001b[39;00m,\n\u001b[1;32m   (...)\u001b[0m\n\u001b[0;32m   4547\u001b[0m                         keepdims\u001b[38;5;241m=\u001b[39m\u001b[38;5;28;01mFalse\u001b[39;00m,\n\u001b[0;32m   4548\u001b[0m                         weights\u001b[38;5;241m=\u001b[39m\u001b[38;5;28;01mNone\u001b[39;00m):\n\u001b[0;32m   4549\u001b[0m \u001b[38;5;250m    \u001b[39m\u001b[38;5;124;03m\"\"\"Assumes that q is in [0, 1], and is an ndarray\"\"\"\u001b[39;00m\n\u001b[1;32m-> 4550\u001b[0m     \u001b[38;5;28;01mreturn\u001b[39;00m \u001b[43m_ureduce\u001b[49m\u001b[43m(\u001b[49m\u001b[43ma\u001b[49m\u001b[43m,\u001b[49m\n\u001b[0;32m   4551\u001b[0m \u001b[43m                    \u001b[49m\u001b[43mfunc\u001b[49m\u001b[38;5;241;43m=\u001b[39;49m\u001b[43m_quantile_ureduce_func\u001b[49m\u001b[43m,\u001b[49m\n\u001b[0;32m   4552\u001b[0m \u001b[43m                    \u001b[49m\u001b[43mq\u001b[49m\u001b[38;5;241;43m=\u001b[39;49m\u001b[43mq\u001b[49m\u001b[43m,\u001b[49m\n\u001b[0;32m   4553\u001b[0m \u001b[43m                    \u001b[49m\u001b[43mweights\u001b[49m\u001b[38;5;241;43m=\u001b[39;49m\u001b[43mweights\u001b[49m\u001b[43m,\u001b[49m\n\u001b[0;32m   4554\u001b[0m \u001b[43m                    \u001b[49m\u001b[43mkeepdims\u001b[49m\u001b[38;5;241;43m=\u001b[39;49m\u001b[43mkeepdims\u001b[49m\u001b[43m,\u001b[49m\n\u001b[0;32m   4555\u001b[0m \u001b[43m                    \u001b[49m\u001b[43maxis\u001b[49m\u001b[38;5;241;43m=\u001b[39;49m\u001b[43maxis\u001b[49m\u001b[43m,\u001b[49m\n\u001b[0;32m   4556\u001b[0m \u001b[43m                    \u001b[49m\u001b[43mout\u001b[49m\u001b[38;5;241;43m=\u001b[39;49m\u001b[43mout\u001b[49m\u001b[43m,\u001b[49m\n\u001b[0;32m   4557\u001b[0m \u001b[43m                    \u001b[49m\u001b[43moverwrite_input\u001b[49m\u001b[38;5;241;43m=\u001b[39;49m\u001b[43moverwrite_input\u001b[49m\u001b[43m,\u001b[49m\n\u001b[0;32m   4558\u001b[0m \u001b[43m                    \u001b[49m\u001b[43mmethod\u001b[49m\u001b[38;5;241;43m=\u001b[39;49m\u001b[43mmethod\u001b[49m\u001b[43m)\u001b[49m\n",
      "File \u001b[1;32md:\\Projects\\ProjectPaper\\M5R_venv\\Lib\\site-packages\\numpy\\lib\\_function_base_impl.py:3894\u001b[0m, in \u001b[0;36m_ureduce\u001b[1;34m(a, func, keepdims, **kwargs)\u001b[0m\n\u001b[0;32m   3891\u001b[0m             index_out \u001b[38;5;241m=\u001b[39m (\u001b[38;5;241m0\u001b[39m, ) \u001b[38;5;241m*\u001b[39m nd\n\u001b[0;32m   3892\u001b[0m             kwargs[\u001b[38;5;124m'\u001b[39m\u001b[38;5;124mout\u001b[39m\u001b[38;5;124m'\u001b[39m] \u001b[38;5;241m=\u001b[39m out[(\u001b[38;5;28mEllipsis\u001b[39m, ) \u001b[38;5;241m+\u001b[39m index_out]\n\u001b[1;32m-> 3894\u001b[0m r \u001b[38;5;241m=\u001b[39m \u001b[43mfunc\u001b[49m\u001b[43m(\u001b[49m\u001b[43ma\u001b[49m\u001b[43m,\u001b[49m\u001b[43m \u001b[49m\u001b[38;5;241;43m*\u001b[39;49m\u001b[38;5;241;43m*\u001b[39;49m\u001b[43mkwargs\u001b[49m\u001b[43m)\u001b[49m\n\u001b[0;32m   3896\u001b[0m \u001b[38;5;28;01mif\u001b[39;00m out \u001b[38;5;129;01mis\u001b[39;00m \u001b[38;5;129;01mnot\u001b[39;00m \u001b[38;5;28;01mNone\u001b[39;00m:\n\u001b[0;32m   3897\u001b[0m     \u001b[38;5;28;01mreturn\u001b[39;00m out\n",
      "File \u001b[1;32md:\\Projects\\ProjectPaper\\M5R_venv\\Lib\\site-packages\\numpy\\lib\\_function_base_impl.py:4725\u001b[0m, in \u001b[0;36m_quantile_ureduce_func\u001b[1;34m(a, q, weights, axis, out, overwrite_input, method)\u001b[0m\n\u001b[0;32m   4723\u001b[0m         wgt \u001b[38;5;241m=\u001b[39m \u001b[38;5;28;01mNone\u001b[39;00m \u001b[38;5;28;01mif\u001b[39;00m weights \u001b[38;5;129;01mis\u001b[39;00m \u001b[38;5;28;01mNone\u001b[39;00m \u001b[38;5;28;01melse\u001b[39;00m weights\u001b[38;5;241m.\u001b[39mflatten()\n\u001b[0;32m   4724\u001b[0m     \u001b[38;5;28;01melse\u001b[39;00m:\n\u001b[1;32m-> 4725\u001b[0m         arr \u001b[38;5;241m=\u001b[39m \u001b[43ma\u001b[49m\u001b[38;5;241;43m.\u001b[39;49m\u001b[43mcopy\u001b[49m\u001b[43m(\u001b[49m\u001b[43m)\u001b[49m\n\u001b[0;32m   4726\u001b[0m         wgt \u001b[38;5;241m=\u001b[39m weights\n\u001b[0;32m   4727\u001b[0m result \u001b[38;5;241m=\u001b[39m _quantile(arr,\n\u001b[0;32m   4728\u001b[0m                    quantiles\u001b[38;5;241m=\u001b[39mq,\n\u001b[0;32m   4729\u001b[0m                    axis\u001b[38;5;241m=\u001b[39maxis,\n\u001b[0;32m   4730\u001b[0m                    method\u001b[38;5;241m=\u001b[39mmethod,\n\u001b[0;32m   4731\u001b[0m                    out\u001b[38;5;241m=\u001b[39mout,\n\u001b[0;32m   4732\u001b[0m                    weights\u001b[38;5;241m=\u001b[39mwgt)\n",
      "\u001b[1;31mMemoryError\u001b[0m: Unable to allocate 7.83 GiB for an array with shape (1000, 1554, 1352) and data type uint32"
     ]
    }
   ],
   "source": [
    "dataset_single_FIB.bootstrap_probabilities(tqdm_disable=False)"
   ]
  },
  {
   "cell_type": "code",
   "execution_count": 255,
   "metadata": {},
   "outputs": [
    {
     "name": "stderr",
     "output_type": "stream",
     "text": [
      "100%|██████████| 5/5 [00:40<00:00,  8.01s/it]\n"
     ]
    }
   ],
   "source": [
    "dataset_single_FIB.compute_fm(tqdm_disable=False)"
   ]
  },
  {
   "cell_type": "code",
   "execution_count": 256,
   "metadata": {},
   "outputs": [
    {
     "name": "stderr",
     "output_type": "stream",
     "text": [
      "  0%|          | 0/5 [00:00<?, ?it/s]"
     ]
    },
    {
     "name": "stderr",
     "output_type": "stream",
     "text": [
      "100%|██████████| 5/5 [00:00<00:00, 84.56it/s]"
     ]
    },
    {
     "name": "stdout",
     "output_type": "stream",
     "text": [
      "Optimization failed\n",
      "Optimization failed\n",
      "Optimization failed\n"
     ]
    },
    {
     "name": "stderr",
     "output_type": "stream",
     "text": [
      "\n"
     ]
    }
   ],
   "source": [
    "# optimization analysis\n",
    "odd_results = optimization.Optimization(\n",
    "    dataset_single_FIB,\n",
    "    [\n",
    "        \"downsampled_marginal_probability_1\",\n",
    "        \"downsampled_marginal_CME_1\",\n",
    "        \"k_deg_1\"\n",
    "    ],\n",
    "    tqdm_disable=False,\n",
    "    print_solution=False\n",
    ")"
   ]
  },
  {
   "cell_type": "code",
   "execution_count": 257,
   "metadata": {},
   "outputs": [
    {
     "name": "stderr",
     "output_type": "stream",
     "text": [
      "100%|██████████| 5/5 [00:00<00:00, 131.79it/s]"
     ]
    },
    {
     "name": "stdout",
     "output_type": "stream",
     "text": [
      "Optimization failed\n"
     ]
    },
    {
     "name": "stderr",
     "output_type": "stream",
     "text": [
      "\n"
     ]
    }
   ],
   "source": [
    "# optimization analysis\n",
    "even_results = optimization.Optimization(\n",
    "    dataset_single_FIB,\n",
    "    [\n",
    "        \"downsampled_marginal_probability_2\",\n",
    "        \"downsampled_marginal_CME_2\",\n",
    "        \"k_deg_2\"\n",
    "    ],\n",
    "    tqdm_disable=False,\n",
    "    print_solution=False\n",
    ")"
   ]
  },
  {
   "cell_type": "code",
   "execution_count": 260,
   "metadata": {},
   "outputs": [
    {
     "data": {
      "text/plain": [
       "{0: {'status': 'OPTIMAL', 'time': 0.010999917984008789},\n",
       " 1: {'status': None, 'time': 0.0},\n",
       " 2: {'status': None, 'time': 0.0},\n",
       " 3: {'status': 'OPTIMAL', 'time': 0.003000020980834961},\n",
       " 4: {'status': None, 'time': 0.0}}"
      ]
     },
     "execution_count": 260,
     "metadata": {},
     "output_type": "execute_result"
    }
   ],
   "source": [
    "odd_results.result_dict"
   ]
  },
  {
   "cell_type": "code",
   "execution_count": 261,
   "metadata": {},
   "outputs": [
    {
     "data": {
      "text/plain": [
       "{0: {'status': None, 'time': 0.0},\n",
       " 1: {'status': 'OPTIMAL', 'time': 0.0019998550415039062},\n",
       " 2: {'status': 'OPTIMAL', 'time': 0.003000020980834961},\n",
       " 3: {'status': 'OPTIMAL', 'time': 0.002000093460083008},\n",
       " 4: {'status': 'INFEASIBLE', 'time': 0.0010001659393310547}}"
      ]
     },
     "execution_count": 261,
     "metadata": {},
     "output_type": "execute_result"
    }
   ],
   "source": [
    "even_results.result_dict"
   ]
  }
 ],
 "metadata": {
  "kernelspec": {
   "display_name": "M5R_venv",
   "language": "python",
   "name": "python3"
  },
  "language_info": {
   "codemirror_mode": {
    "name": "ipython",
    "version": 3
   },
   "file_extension": ".py",
   "mimetype": "text/x-python",
   "name": "python",
   "nbconvert_exporter": "python",
   "pygments_lexer": "ipython3",
   "version": "3.12.2"
  }
 },
 "nbformat": 4,
 "nbformat_minor": 2
}
