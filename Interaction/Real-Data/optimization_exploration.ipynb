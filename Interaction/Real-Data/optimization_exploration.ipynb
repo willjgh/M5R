{
 "cells": [
  {
   "cell_type": "code",
   "execution_count": 96,
   "metadata": {},
   "outputs": [],
   "source": [
    "import pandas as pd\n",
    "import matplotlib.pyplot as plt\n",
    "from matplotlib.colors import LinearSegmentedColormap\n",
    "import numpy as np\n",
    "from interaction_inference import dataset, optimization"
   ]
  },
  {
   "cell_type": "markdown",
   "metadata": {},
   "source": [
    "## Dataset (PNAS Smart-seq-total paper)\n",
    "\n",
    "Load dataset of single genes"
   ]
  },
  {
   "cell_type": "code",
   "execution_count": 97,
   "metadata": {},
   "outputs": [],
   "source": [
    "data_FIB = pd.read_csv(\"./Datasets/GSE151334_FIB_counts_thresh.csv\", index_col=0)"
   ]
  },
  {
   "cell_type": "markdown",
   "metadata": {},
   "source": [
    "## Capture efficiency\n",
    "\n",
    "Estimate capture efficiency per cell from the full dataset of genes:\n",
    "- set a mean value <$\\beta$>\n",
    "- compute the total counts per cell / total counts across all cells\n",
    "- renormalize to have mean <$\\beta$>, giving capture efficiency $\\beta_{j}$ per cell"
   ]
  },
  {
   "cell_type": "code",
   "execution_count": 98,
   "metadata": {},
   "outputs": [],
   "source": [
    "# mean beta\n",
    "beta_mean = 0.1\n",
    "\n",
    "# total counts per cell\n",
    "total_per_cell = data_FIB.sum(axis='rows')\n",
    "\n",
    "# total counts across all cells\n",
    "total_overall = total_per_cell.sum()\n",
    "\n",
    "# count proportions per cell (sum = 1)\n",
    "count_proportion = (total_per_cell / total_overall).to_numpy()\n",
    "\n",
    "# number of cells\n",
    "n = count_proportion.size\n",
    "\n",
    "# re-normalize\n",
    "beta = count_proportion * beta_mean * n\n",
    "\n",
    "# clamp values outside [0, 1]\n",
    "if (beta >= 1).size > 0:\n",
    "    beta[beta >= 1] = beta[beta < 1].max()\n",
    "if (beta <= 0).size > 0:\n",
    "    beta[beta <= 0] = beta[beta > 0].min()"
   ]
  },
  {
   "cell_type": "code",
   "execution_count": 99,
   "metadata": {},
   "outputs": [],
   "source": [
    "# set mean beta\n",
    "MeanBETA = 0.1\n",
    "\n",
    "#xx<-Matrix::colSums(Data)\n",
    "xx = data_FIB.sum(axis='rows')\n",
    "\n",
    "#Normcount <- t_sp(t_sp(Data)/xx) * mean(xx)\n",
    "# Normcount <- Matrix::t(Matrix::t(Data)/xx) * mean(xx)\n",
    "Normcount = (data_FIB / xx) * np.mean(xx) # sum = mean(xx) per column\n",
    "\n",
    "#means <- Matrix::rowMeans(Normcount)\n",
    "means = Normcount.mean(axis='columns')\n",
    "\n",
    "#lmeans <- log(means)\n",
    "lmean = np.log(means)\n",
    "\n",
    "#med <- apply(log(Normcount + 1), 1, function(x) {\n",
    "#    median(x)\n",
    "#})\n",
    "med = np.log(Normcount + 1).median(axis=1)\n",
    "\n",
    "#mad <- apply(log(Normcount + 1), 1, function(x) {\n",
    "#    mad(x)\n",
    "#})\n",
    "mad = np.log(Normcount + 1).apply(lambda row: (row - row.median()).abs().median(), axis=1)\n",
    "\n",
    "#bound <- med + 3 * mad\n",
    "bound = med + 3*mad\n",
    "\n",
    "#maxlogGene <- apply(log(Normcount + 1), 1, max)\n",
    "maxlogGene = np.log(Normcount + 1).max(axis=1)\n",
    "\n",
    "#ind <- which(maxlogGene < bound)\n",
    "ind = maxlogGene < bound\n",
    "\n",
    "#dropout = apply(Data, 1, function(x) {\n",
    "#    length(which(x == 0))/length(x)\n",
    "#})\n",
    "dropout = data_FIB.apply(lambda row: (row == 0).sum() / row.size, axis=1)\n",
    "\n",
    "\n",
    "#Select_ind <- intersect(ind, which(dropout < 0.35))\n",
    "Select_ind = ind & (dropout < 0.35)\n",
    "\n",
    "# Selected_genes <- rownames(Data)[Select_ind]\n",
    "Selected_genes = list(Select_ind.index)\n",
    "\n",
    "#temppp <- Matrix::colSums(Data[Select_ind, ])\n",
    "temppp = data_FIB[Select_ind].sum(axis=0)\n",
    "\n",
    "#BETA <- temppp/mean(temppp) * MeanBETA\n",
    "BETA = (temppp / temppp.mean()) * MeanBETA\n",
    "\n",
    "#if (length(which(BETA >= 1)) > 0) {\n",
    "#    BETA[BETA >= 1] = max(BETA[BETA < 1])\n",
    "#}\n",
    "#if (length(which(BETA <= 0)) > 0) {\n",
    "#    BETA[BETA <= 0] = min(BETA[BETA > 0])\n",
    "#}\n",
    "if (BETA >= 1).size > 0:\n",
    "    BETA[BETA >= 1] = BETA[BETA < 1].max()\n",
    "if (BETA <= 0).size > 0:\n",
    "    BETA[BETA <= 0] = BETA[BETA > 0].min()\n",
    "\n",
    "#names(BETA) <- colnames(Data)\n",
    "\n",
    "#return(list(BETA = BETA, Selected_genes = Selected_genes))\n",
    "BETA = BETA.to_numpy()"
   ]
  },
  {
   "cell_type": "code",
   "execution_count": 100,
   "metadata": {},
   "outputs": [
    {
     "data": {
      "text/plain": [
       "<matplotlib.legend.Legend at 0x191eafb1ea0>"
      ]
     },
     "execution_count": 100,
     "metadata": {},
     "output_type": "execute_result"
    },
    {
     "data": {
      "image/png": "[encoded data removed]",
      "text/plain": [
       "<Figure size 640x480 with 1 Axes>"
      ]
     },
     "metadata": {},
     "output_type": "display_data"
    }
   ],
   "source": [
    "plt.hist(BETA, bins=20, alpha=0.75, label=\"Baynorm\");\n",
    "plt.hist(beta, bins=20, alpha=0.75, label=\"Default\");\n",
    "plt.legend()"
   ]
  },
  {
   "cell_type": "markdown",
   "metadata": {},
   "source": [
    "## Construct dataset of pairs\n",
    "\n",
    "Avoid repeating pairs as symmetric"
   ]
  },
  {
   "cell_type": "code",
   "execution_count": 133,
   "metadata": {},
   "outputs": [],
   "source": [
    "# size\n",
    "genes = 100\n",
    "gene_pairs = (genes * (genes - 1) // 2) + genes\n",
    "cells = data_FIB.shape[1]\n",
    "\n",
    "# construct paired count dataframe\n",
    "counts_df = pd.DataFrame(\n",
    "    index = [f\"Gene-pair-{i}\" for i in range(gene_pairs)],\n",
    "    columns = [f\"Cell-{j}\" for j in range(cells)]\n",
    ")\n",
    "\n",
    "# fill with pairs\n",
    "k = 0\n",
    "for i in range(genes):\n",
    "    gene_i = data_FIB.iloc[i]\n",
    "    for j in range(genes):\n",
    "        if j > i:\n",
    "            break\n",
    "        gene_j = data_FIB.iloc[j]\n",
    "        gene_pair_ij = list(zip(gene_i, gene_j))\n",
    "        counts_df.iloc[k] = gene_pair_ij\n",
    "        k += 1\n",
    "\n",
    "# construct object\n",
    "dataset_FIB = dataset.Dataset(\"dataset_FIB\")\n",
    "dataset_FIB.count_dataset = counts_df\n",
    "dataset_FIB.cells = cells\n",
    "dataset_FIB.gene_pairs = gene_pairs\n",
    "\n",
    "# settings\n",
    "dataset_FIB.thresh_OB = 3\n",
    "dataset_FIB.threshM_OB = 3\n",
    "\n",
    "# set capture\n",
    "dataset_FIB.beta = BETA"
   ]
  },
  {
   "cell_type": "markdown",
   "metadata": {},
   "source": [
    "### Moment optimization"
   ]
  },
  {
   "cell_type": "code",
   "execution_count": 134,
   "metadata": {},
   "outputs": [],
   "source": [
    "# memory settings\n",
    "dataset_FIB.resamples = 1000"
   ]
  },
  {
   "cell_type": "code",
   "execution_count": 135,
   "metadata": {},
   "outputs": [
    {
     "name": "stderr",
     "output_type": "stream",
     "text": [
      "  0%|          | 0/5050 [00:00<?, ?it/s]"
     ]
    },
    {
     "name": "stderr",
     "output_type": "stream",
     "text": [
      "100%|██████████| 5050/5050 [02:04<00:00, 40.53it/s]\n"
     ]
    }
   ],
   "source": [
    "dataset_FIB.compute_moments(tqdm_disable=False)"
   ]
  },
  {
   "cell_type": "code",
   "execution_count": 136,
   "metadata": {},
   "outputs": [
    {
     "name": "stderr",
     "output_type": "stream",
     "text": [
      "100%|██████████| 5050/5050 [01:35<00:00, 52.74it/s]\n"
     ]
    }
   ],
   "source": [
    "# optimization analysis\n",
    "moment_FIB = optimization.Optimization(\n",
    "    dataset_FIB,\n",
    "    [\n",
    "        \"dummy_moment\"\n",
    "    ],\n",
    "    tqdm_disable=False,\n",
    "    print_solution=False,\n",
    "    license_file=\"C:/WLS_credentials.json\"\n",
    ")"
   ]
  },
  {
   "cell_type": "code",
   "execution_count": 137,
   "metadata": {},
   "outputs": [],
   "source": [
    "moment_array = np.zeros((genes, genes))\n",
    "k = 0\n",
    "for i in range(genes):\n",
    "    for j in range(genes):\n",
    "        # ignore above diagonal\n",
    "        if j > i:\n",
    "            break\n",
    "        else:\n",
    "            if moment_FIB.result_dict[k]['status'] == \"INFEASIBLE\":\n",
    "                moment_array[i, j] = 1\n",
    "            k += 1\n",
    "\n",
    "# fill above diagonal by symmetry\n",
    "for i in range(genes):\n",
    "    for j in range(genes):\n",
    "        if j > i:\n",
    "            moment_array[i, j] = moment_array[j, i]\n",
    "\n",
    "# optional remove lower triangle + diagonal (as symmetric + irrelevant diag)\n",
    "#for i in range(genes):\n",
    "#    for j in range(genes):\n",
    "#        if j <= i:\n",
    "#            moment_array[i, j] = 0.5"
   ]
  },
  {
   "cell_type": "code",
   "execution_count": 138,
   "metadata": {},
   "outputs": [
    {
     "data": {
      "text/plain": [
       "Text(0.0, 110.0, 'Optimization using moment CIs to test independence         \\nBlue: feasible, independent pair          \\nRed: infeasible, interacting pair')"
      ]
     },
     "execution_count": 138,
     "metadata": {},
     "output_type": "execute_result"
    },
    {
     "data": {
      "image/png": "[encoded data removed]",
      "text/plain": [
       "<Figure size 600x600 with 1 Axes>"
      ]
     },
     "metadata": {},
     "output_type": "display_data"
    }
   ],
   "source": [
    "fig, axs = plt.subplots(figsize=(6, 6))\n",
    "cmap = LinearSegmentedColormap.from_list('br', [(0, \"b\"), (0.5, \"w\"), (1, \"r\")], N=256)\n",
    "vmin, vmax = 0, 1\n",
    "img = axs.imshow(moment_array, cmap=cmap, vmin=vmin, vmax=vmax)\n",
    "axs.set_title(\"Pairwise moment test\")\n",
    "plt.axis('off')\n",
    "plt.text(0.0, 110.0, \"Optimization using moment CIs to test independence\\\n",
    "         \\nBlue: feasible, independent pair \\\n",
    "         \\nRed: infeasible, interacting pair\")\n",
    "#cbar = plt.colorbar(img, ax=axs)\n",
    "#cbar.set_label(\"p-value\")"
   ]
  },
  {
   "cell_type": "markdown",
   "metadata": {},
   "source": [
    "#### Correlations of moment-infeasible pairs"
   ]
  },
  {
   "cell_type": "code",
   "execution_count": 228,
   "metadata": {},
   "outputs": [],
   "source": [
    "import scipy\n",
    "\n",
    "moment_blackout_array = np.zeros((genes, genes))\n",
    "k = 0\n",
    "for i in range(genes):\n",
    "    for j in range(genes):\n",
    "        if j > i:\n",
    "            pass\n",
    "        else:\n",
    "            if moment_array[i, j] == 1:\n",
    "                # change infeasible pairs value to correlation\n",
    "\n",
    "                # get sample\n",
    "                sample = moment_FIB.dataset.count_dataset.loc[f'Gene-pair-{k}']\n",
    "                x1_sample = [x[0] for x in sample]\n",
    "                x2_sample = [x[1] for x in sample]\n",
    "\n",
    "                # correlation test\n",
    "                pearson = scipy.stats.pearsonr(x1_sample, x2_sample, alternative='less')\n",
    "\n",
    "                # store statistic\n",
    "                moment_blackout_array[i, j] = float(pearson.statistic)\n",
    "\n",
    "            else:\n",
    "                # set feasible pairs to 0\n",
    "                moment_blackout_array[i, j] = None\n",
    "            k += 1\n",
    "\n",
    "# fill above diagonal by symmetry\n",
    "for i in range(genes):\n",
    "    for j in range(genes):\n",
    "        if j > i:\n",
    "            moment_blackout_array[i, j] = moment_blackout_array[j, i]\n",
    "\n",
    "# optional delete diagonal\n",
    "for k in range(genes):\n",
    "    moment_blackout_array[k, k] = None"
   ]
  },
  {
   "cell_type": "code",
   "execution_count": 229,
   "metadata": {},
   "outputs": [
    {
     "data": {
      "image/png": "[encoded data removed]",
      "text/plain": [
       "<Figure size 1000x1000 with 2 Axes>"
      ]
     },
     "metadata": {},
     "output_type": "display_data"
    }
   ],
   "source": [
    "fig, axs = plt.subplots(figsize=(10, 10))\n",
    "vmin = -0.11555257182978498 #np.nanmin(moment_blackout_array)\n",
    "vmax = 1 #np.nanmax(moment_blackout_array)\n",
    "cmap = LinearSegmentedColormap.from_list('br', [(0, \"r\"), (-vmin / (vmax - vmin), \"w\"), (1, \"b\")], N=256)\n",
    "img = axs.imshow(moment_blackout_array, cmap=cmap, vmin=vmin, vmax=vmax)\n",
    "axs.set_title(\"Correlations for moment detected interaction\")\n",
    "plt.axis('off')\n",
    "plt.text(0.0, 120.0, \n",
    "         \"Correlations for gene pairs that are infeasible \\n under moment optimization\\\n",
    "         \\nWhite: feasible under moments \\\n",
    "         \\nBlue-Black-Red: infeasible under moments, correlation value\",\n",
    "         size=15)\n",
    "cbar = plt.colorbar(img, ax=axs)\n",
    "cbar.set_label(\"Statistic\")"
   ]
  },
  {
   "cell_type": "markdown",
   "metadata": {},
   "source": [
    "#### Correlation of moment-feasible pairs"
   ]
  },
  {
   "cell_type": "code",
   "execution_count": 235,
   "metadata": {},
   "outputs": [],
   "source": [
    "import scipy\n",
    "\n",
    "moment_whiteout_array = np.zeros((genes, genes))\n",
    "k = 0\n",
    "for i in range(genes):\n",
    "    for j in range(genes):\n",
    "        if j > i:\n",
    "            pass\n",
    "        else:\n",
    "            if moment_array[i, j] == 0:\n",
    "                # change feasible pairs value to correlation\n",
    "\n",
    "                # get sample\n",
    "                sample = moment_FIB.dataset.count_dataset.loc[f'Gene-pair-{k}']\n",
    "                x1_sample = [x[0] for x in sample]\n",
    "                x2_sample = [x[1] for x in sample]\n",
    "\n",
    "                # correlation test\n",
    "                pearson = scipy.stats.pearsonr(x1_sample, x2_sample, alternative='less')\n",
    "\n",
    "                # store statistic\n",
    "                moment_whiteout_array[i, j] = float(pearson.statistic)\n",
    "\n",
    "            else:\n",
    "                # set infeasible pairs to 0\n",
    "                moment_whiteout_array[i, j] = None\n",
    "            k += 1\n",
    "\n",
    "# fill above diagonal by symmetry\n",
    "for i in range(genes):\n",
    "    for j in range(genes):\n",
    "        if j > i:\n",
    "            moment_whiteout_array[i, j] = moment_whiteout_array[j, i]\n",
    "\n",
    "# optional delete diagonal\n",
    "for k in range(genes):\n",
    "    moment_whiteout_array[k, k] = None"
   ]
  },
  {
   "cell_type": "code",
   "execution_count": 236,
   "metadata": {},
   "outputs": [
    {
     "data": {
      "image/png": "[encoded data removed]",
      "text/plain": [
       "<Figure size 1000x1000 with 2 Axes>"
      ]
     },
     "metadata": {},
     "output_type": "display_data"
    }
   ],
   "source": [
    "fig, axs = plt.subplots(figsize=(10, 10))\n",
    "vmin = -0.11555257182978498 #np.nanmin(moment_blackout_array)\n",
    "vmax = 1 #np.nanmax(moment_blackout_array)\n",
    "cmap = LinearSegmentedColormap.from_list('br', [(0, \"r\"), (-vmin / (vmax - vmin), \"w\"), (1, \"b\")], N=256)\n",
    "img = axs.imshow(moment_whiteout_array, cmap=cmap, vmin=vmin, vmax=vmax)\n",
    "axs.set_title(\"Correlations for moment feasible pairs\")\n",
    "plt.axis('off')\n",
    "plt.text(0.0, 120.0, \n",
    "         \"Correlations for gene pairs that are feasible \\n under moment optimization\\\n",
    "         \\nWhite: infeasible under moments \\\n",
    "         \\nBlue-Black-Red: feasible under moments, correlation value\",\n",
    "         size=15)\n",
    "cbar = plt.colorbar(img, ax=axs)\n",
    "cbar.set_label(\"Statistic\")"
   ]
  },
  {
   "cell_type": "markdown",
   "metadata": {},
   "source": [
    "### Independent Birth-Death optimization"
   ]
  },
  {
   "cell_type": "code",
   "execution_count": 139,
   "metadata": {},
   "outputs": [
    {
     "name": "stderr",
     "output_type": "stream",
     "text": [
      "100%|██████████| 5050/5050 [01:03<00:00, 79.51it/s] \n"
     ]
    }
   ],
   "source": [
    "dataset_FIB.bootstrap_marginal_fm(tqdm_disable=False)"
   ]
  },
  {
   "cell_type": "code",
   "execution_count": 140,
   "metadata": {},
   "outputs": [
    {
     "name": "stderr",
     "output_type": "stream",
     "text": [
      "100%|██████████| 5050/5050 [01:11<00:00, 70.63it/s] \n"
     ]
    }
   ],
   "source": [
    "dataset_FIB.bootstrap_marginal_probabilities(tqdm_disable=False)"
   ]
  },
  {
   "cell_type": "code",
   "execution_count": 141,
   "metadata": {},
   "outputs": [
    {
     "name": "stderr",
     "output_type": "stream",
     "text": [
      " 41%|████      | 2065/5050 [45:42<190:50:27, 230.16s/it]Traceback (most recent call last):\n",
      "  File \"c:\\Users\\willi\\Documents\\ProjectPaper\\M5R_venv\\lib\\site-packages\\interaction_inference\\optimization.py\", line 85, in analyse_dataset\n",
      "    solution_dict[i] = self.optimize(i)\n",
      "  File \"c:\\Users\\willi\\Documents\\ProjectPaper\\M5R_venv\\lib\\site-packages\\interaction_inference\\optimization.py\", line 121, in optimize\n",
      "    with gp.Env(params=environment_parameters) as env:\n",
      "  File \"src\\\\gurobipy\\\\env.pxi\", line 88, in gurobipy._core.Env.__init__\n",
      "gurobipy._exception.GurobiError: Could not resolve host: token.gurobi.com (code 6, command POST https://token.gurobi.com/api/v1/tokens)\n",
      " 41%|████      | 2066/5050 [45:42<133:35:00, 161.16s/it]"
     ]
    },
    {
     "name": "stdout",
     "output_type": "stream",
     "text": [
      "Optimization failed: Could not resolve host: token.gurobi.com (code 6, command POST https://token.gurobi.com/api/v1/tokens)\n"
     ]
    },
    {
     "name": "stderr",
     "output_type": "stream",
     "text": [
      "Traceback (most recent call last):\n",
      "  File \"c:\\Users\\willi\\Documents\\ProjectPaper\\M5R_venv\\lib\\site-packages\\interaction_inference\\optimization.py\", line 85, in analyse_dataset\n",
      "    solution_dict[i] = self.optimize(i)\n",
      "  File \"c:\\Users\\willi\\Documents\\ProjectPaper\\M5R_venv\\lib\\site-packages\\interaction_inference\\optimization.py\", line 121, in optimize\n",
      "    with gp.Env(params=environment_parameters) as env:\n",
      "  File \"src\\\\gurobipy\\\\env.pxi\", line 88, in gurobipy._core.Env.__init__\n",
      "gurobipy._exception.GurobiError: Could not resolve host: token.gurobi.com (code 6, command POST https://token.gurobi.com/api/v1/tokens)\n",
      " 41%|████      | 2067/5050 [45:43<93:39:03, 113.02s/it] "
     ]
    },
    {
     "name": "stdout",
     "output_type": "stream",
     "text": [
      "Optimization failed: Could not resolve host: token.gurobi.com (code 6, command POST https://token.gurobi.com/api/v1/tokens)\n"
     ]
    },
    {
     "name": "stderr",
     "output_type": "stream",
     "text": [
      "Traceback (most recent call last):\n",
      "  File \"c:\\Users\\willi\\Documents\\ProjectPaper\\M5R_venv\\lib\\site-packages\\interaction_inference\\optimization.py\", line 85, in analyse_dataset\n",
      "    solution_dict[i] = self.optimize(i)\n",
      "  File \"c:\\Users\\willi\\Documents\\ProjectPaper\\M5R_venv\\lib\\site-packages\\interaction_inference\\optimization.py\", line 121, in optimize\n",
      "    with gp.Env(params=environment_parameters) as env:\n",
      "  File \"src\\\\gurobipy\\\\env.pxi\", line 88, in gurobipy._core.Env.__init__\n",
      "gurobipy._exception.GurobiError: Could not resolve host: token.gurobi.com (code 6, command POST https://token.gurobi.com/api/v1/tokens)\n",
      " 41%|████      | 2068/5050 [45:43<65:35:43, 79.19s/it] Traceback (most recent call last):\n",
      "  File \"c:\\Users\\willi\\Documents\\ProjectPaper\\M5R_venv\\lib\\site-packages\\interaction_inference\\optimization.py\", line 85, in analyse_dataset\n",
      "    solution_dict[i] = self.optimize(i)\n",
      "  File \"c:\\Users\\willi\\Documents\\ProjectPaper\\M5R_venv\\lib\\site-packages\\interaction_inference\\optimization.py\", line 121, in optimize\n",
      "    with gp.Env(params=environment_parameters) as env:\n",
      "  File \"src\\\\gurobipy\\\\env.pxi\", line 88, in gurobipy._core.Env.__init__\n",
      "gurobipy._exception.GurobiError: Could not resolve host: token.gurobi.com (code 6, command POST https://token.gurobi.com/api/v1/tokens)\n",
      "Traceback (most recent call last):\n",
      "  File \"c:\\Users\\willi\\Documents\\ProjectPaper\\M5R_venv\\lib\\site-packages\\interaction_inference\\optimization.py\", line 85, in analyse_dataset\n",
      "    solution_dict[i] = self.optimize(i)\n",
      "  File \"c:\\Users\\willi\\Documents\\ProjectPaper\\M5R_venv\\lib\\site-packages\\interaction_inference\\optimization.py\", line 121, in optimize\n",
      "    with gp.Env(params=environment_parameters) as env:\n",
      "  File \"src\\\\gurobipy\\\\env.pxi\", line 88, in gurobipy._core.Env.__init__\n",
      "gurobipy._exception.GurobiError: Could not resolve host: token.gurobi.com (code 6, command POST https://token.gurobi.com/api/v1/tokens)\n",
      " 41%|████      | 2070/5050 [45:43<35:19:44, 42.68s/it]"
     ]
    },
    {
     "name": "stdout",
     "output_type": "stream",
     "text": [
      "Optimization failed: Could not resolve host: token.gurobi.com (code 6, command POST https://token.gurobi.com/api/v1/tokens)\n",
      "Optimization failed: Could not resolve host: token.gurobi.com (code 6, command POST https://token.gurobi.com/api/v1/tokens)\n",
      "Optimization failed: Could not resolve host: token.gurobi.com (code 6, command POST https://token.gurobi.com/api/v1/tokens)\n"
     ]
    },
    {
     "name": "stderr",
     "output_type": "stream",
     "text": [
      "Traceback (most recent call last):\n",
      "  File \"c:\\Users\\willi\\Documents\\ProjectPaper\\M5R_venv\\lib\\site-packages\\interaction_inference\\optimization.py\", line 85, in analyse_dataset\n",
      "    solution_dict[i] = self.optimize(i)\n",
      "  File \"c:\\Users\\willi\\Documents\\ProjectPaper\\M5R_venv\\lib\\site-packages\\interaction_inference\\optimization.py\", line 121, in optimize\n",
      "    with gp.Env(params=environment_parameters) as env:\n",
      "  File \"src\\\\gurobipy\\\\env.pxi\", line 88, in gurobipy._core.Env.__init__\n",
      "gurobipy._exception.GurobiError: Could not resolve host: token.gurobi.com (code 6, command POST https://token.gurobi.com/api/v1/tokens)\n",
      "Traceback (most recent call last):\n",
      "  File \"c:\\Users\\willi\\Documents\\ProjectPaper\\M5R_venv\\lib\\site-packages\\interaction_inference\\optimization.py\", line 85, in analyse_dataset\n",
      "    solution_dict[i] = self.optimize(i)\n",
      "  File \"c:\\Users\\willi\\Documents\\ProjectPaper\\M5R_venv\\lib\\site-packages\\interaction_inference\\optimization.py\", line 121, in optimize\n",
      "    with gp.Env(params=environment_parameters) as env:\n",
      "  File \"src\\\\gurobipy\\\\env.pxi\", line 88, in gurobipy._core.Env.__init__\n",
      "gurobipy._exception.GurobiError: Could not resolve host: token.gurobi.com (code 6, command POST https://token.gurobi.com/api/v1/tokens)\n",
      " 41%|████      | 2072/5050 [45:44<21:18:14, 25.75s/it]Traceback (most recent call last):\n",
      "  File \"c:\\Users\\willi\\Documents\\ProjectPaper\\M5R_venv\\lib\\site-packages\\interaction_inference\\optimization.py\", line 85, in analyse_dataset\n",
      "    solution_dict[i] = self.optimize(i)\n",
      "  File \"c:\\Users\\willi\\Documents\\ProjectPaper\\M5R_venv\\lib\\site-packages\\interaction_inference\\optimization.py\", line 121, in optimize\n",
      "    with gp.Env(params=environment_parameters) as env:\n",
      "  File \"src\\\\gurobipy\\\\env.pxi\", line 88, in gurobipy._core.Env.__init__\n",
      "gurobipy._exception.GurobiError: Could not resolve host: token.gurobi.com (code 6, command POST https://token.gurobi.com/api/v1/tokens)\n",
      "Traceback (most recent call last):\n",
      "  File \"c:\\Users\\willi\\Documents\\ProjectPaper\\M5R_venv\\lib\\site-packages\\interaction_inference\\optimization.py\", line 85, in analyse_dataset\n",
      "    solution_dict[i] = self.optimize(i)\n",
      "  File \"c:\\Users\\willi\\Documents\\ProjectPaper\\M5R_venv\\lib\\site-packages\\interaction_inference\\optimization.py\", line 121, in optimize\n",
      "    with gp.Env(params=environment_parameters) as env:\n",
      "  File \"src\\\\gurobipy\\\\env.pxi\", line 88, in gurobipy._core.Env.__init__\n",
      "gurobipy._exception.GurobiError: Could not resolve host: token.gurobi.com (code 6, command POST https://token.gurobi.com/api/v1/tokens)\n",
      " 41%|████      | 2074/5050 [45:44<13:36:02, 16.45s/it]"
     ]
    },
    {
     "name": "stdout",
     "output_type": "stream",
     "text": [
      "Optimization failed: Could not resolve host: token.gurobi.com (code 6, command POST https://token.gurobi.com/api/v1/tokens)\n",
      "Optimization failed: Could not resolve host: token.gurobi.com (code 6, command POST https://token.gurobi.com/api/v1/tokens)\n",
      "Optimization failed: Could not resolve host: token.gurobi.com (code 6, command POST https://token.gurobi.com/api/v1/tokens)\n",
      "Optimization failed: Could not resolve host: token.gurobi.com (code 6, command POST https://token.gurobi.com/api/v1/tokens)\n",
      "Optimization failed: Could not resolve host: token.gurobi.com (code 6, command POST https://token.gurobi.com/api/v1/tokens)\n"
     ]
    },
    {
     "name": "stderr",
     "output_type": "stream",
     "text": [
      "Traceback (most recent call last):\n",
      "  File \"c:\\Users\\willi\\Documents\\ProjectPaper\\M5R_venv\\lib\\site-packages\\interaction_inference\\optimization.py\", line 85, in analyse_dataset\n",
      "    solution_dict[i] = self.optimize(i)\n",
      "  File \"c:\\Users\\willi\\Documents\\ProjectPaper\\M5R_venv\\lib\\site-packages\\interaction_inference\\optimization.py\", line 121, in optimize\n",
      "    with gp.Env(params=environment_parameters) as env:\n",
      "  File \"src\\\\gurobipy\\\\env.pxi\", line 88, in gurobipy._core.Env.__init__\n",
      "gurobipy._exception.GurobiError: Could not resolve host: token.gurobi.com (code 6, command POST https://token.gurobi.com/api/v1/tokens)\n",
      "Traceback (most recent call last):\n",
      "  File \"c:\\Users\\willi\\Documents\\ProjectPaper\\M5R_venv\\lib\\site-packages\\interaction_inference\\optimization.py\", line 85, in analyse_dataset\n",
      "    solution_dict[i] = self.optimize(i)\n",
      "  File \"c:\\Users\\willi\\Documents\\ProjectPaper\\M5R_venv\\lib\\site-packages\\interaction_inference\\optimization.py\", line 121, in optimize\n",
      "    with gp.Env(params=environment_parameters) as env:\n",
      "  File \"src\\\\gurobipy\\\\env.pxi\", line 88, in gurobipy._core.Env.__init__\n",
      "gurobipy._exception.GurobiError: Could not resolve host: token.gurobi.com (code 6, command POST https://token.gurobi.com/api/v1/tokens)\n",
      " 41%|████      | 2076/5050 [45:44<8:58:28, 10.86s/it] Traceback (most recent call last):\n",
      "  File \"c:\\Users\\willi\\Documents\\ProjectPaper\\M5R_venv\\lib\\site-packages\\interaction_inference\\optimization.py\", line 85, in analyse_dataset\n",
      "    solution_dict[i] = self.optimize(i)\n",
      "  File \"c:\\Users\\willi\\Documents\\ProjectPaper\\M5R_venv\\lib\\site-packages\\interaction_inference\\optimization.py\", line 121, in optimize\n",
      "    with gp.Env(params=environment_parameters) as env:\n",
      "  File \"src\\\\gurobipy\\\\env.pxi\", line 88, in gurobipy._core.Env.__init__\n",
      "gurobipy._exception.GurobiError: Could not resolve host: token.gurobi.com (code 6, command POST https://token.gurobi.com/api/v1/tokens)\n",
      "Traceback (most recent call last):\n",
      "  File \"c:\\Users\\willi\\Documents\\ProjectPaper\\M5R_venv\\lib\\site-packages\\interaction_inference\\optimization.py\", line 85, in analyse_dataset\n",
      "    solution_dict[i] = self.optimize(i)\n",
      "  File \"c:\\Users\\willi\\Documents\\ProjectPaper\\M5R_venv\\lib\\site-packages\\interaction_inference\\optimization.py\", line 121, in optimize\n",
      "    with gp.Env(params=environment_parameters) as env:\n",
      "  File \"src\\\\gurobipy\\\\env.pxi\", line 88, in gurobipy._core.Env.__init__\n",
      "gurobipy._exception.GurobiError: Could not resolve host: token.gurobi.com (code 6, command POST https://token.gurobi.com/api/v1/tokens)\n",
      " 41%|████      | 2078/5050 [45:44<6:02:54,  7.33s/it]"
     ]
    },
    {
     "name": "stdout",
     "output_type": "stream",
     "text": [
      "Optimization failed: Could not resolve host: token.gurobi.com (code 6, command POST https://token.gurobi.com/api/v1/tokens)\n",
      "Optimization failed: Could not resolve host: token.gurobi.com (code 6, command POST https://token.gurobi.com/api/v1/tokens)\n",
      "Optimization failed: Could not resolve host: token.gurobi.com (code 6, command POST https://token.gurobi.com/api/v1/tokens)\n",
      "Optimization failed: Could not resolve host: token.gurobi.com (code 6, command POST https://token.gurobi.com/api/v1/tokens)\n"
     ]
    },
    {
     "name": "stderr",
     "output_type": "stream",
     "text": [
      "Traceback (most recent call last):\n",
      "  File \"c:\\Users\\willi\\Documents\\ProjectPaper\\M5R_venv\\lib\\site-packages\\interaction_inference\\optimization.py\", line 85, in analyse_dataset\n",
      "    solution_dict[i] = self.optimize(i)\n",
      "  File \"c:\\Users\\willi\\Documents\\ProjectPaper\\M5R_venv\\lib\\site-packages\\interaction_inference\\optimization.py\", line 121, in optimize\n",
      "    with gp.Env(params=environment_parameters) as env:\n",
      "  File \"src\\\\gurobipy\\\\env.pxi\", line 88, in gurobipy._core.Env.__init__\n",
      "gurobipy._exception.GurobiError: Could not resolve host: token.gurobi.com (code 6, command POST https://token.gurobi.com/api/v1/tokens)\n",
      "Traceback (most recent call last):\n",
      "  File \"c:\\Users\\willi\\Documents\\ProjectPaper\\M5R_venv\\lib\\site-packages\\interaction_inference\\optimization.py\", line 85, in analyse_dataset\n",
      "    solution_dict[i] = self.optimize(i)\n",
      "  File \"c:\\Users\\willi\\Documents\\ProjectPaper\\M5R_venv\\lib\\site-packages\\interaction_inference\\optimization.py\", line 121, in optimize\n",
      "    with gp.Env(params=environment_parameters) as env:\n",
      "  File \"src\\\\gurobipy\\\\env.pxi\", line 88, in gurobipy._core.Env.__init__\n",
      "gurobipy._exception.GurobiError: Could not resolve host: token.gurobi.com (code 6, command POST https://token.gurobi.com/api/v1/tokens)\n",
      " 41%|████      | 2080/5050 [45:44<4:08:08,  5.01s/it]Traceback (most recent call last):\n",
      "  File \"c:\\Users\\willi\\Documents\\ProjectPaper\\M5R_venv\\lib\\site-packages\\interaction_inference\\optimization.py\", line 85, in analyse_dataset\n",
      "    solution_dict[i] = self.optimize(i)\n",
      "  File \"c:\\Users\\willi\\Documents\\ProjectPaper\\M5R_venv\\lib\\site-packages\\interaction_inference\\optimization.py\", line 121, in optimize\n",
      "    with gp.Env(params=environment_parameters) as env:\n",
      "  File \"src\\\\gurobipy\\\\env.pxi\", line 88, in gurobipy._core.Env.__init__\n",
      "gurobipy._exception.GurobiError: Could not resolve host: token.gurobi.com (code 6, command POST https://token.gurobi.com/api/v1/tokens)\n",
      "Traceback (most recent call last):\n",
      "  File \"c:\\Users\\willi\\Documents\\ProjectPaper\\M5R_venv\\lib\\site-packages\\interaction_inference\\optimization.py\", line 85, in analyse_dataset\n",
      "    solution_dict[i] = self.optimize(i)\n",
      "  File \"c:\\Users\\willi\\Documents\\ProjectPaper\\M5R_venv\\lib\\site-packages\\interaction_inference\\optimization.py\", line 121, in optimize\n",
      "    with gp.Env(params=environment_parameters) as env:\n",
      "  File \"src\\\\gurobipy\\\\env.pxi\", line 88, in gurobipy._core.Env.__init__\n",
      "gurobipy._exception.GurobiError: Could not resolve host: token.gurobi.com (code 6, command POST https://token.gurobi.com/api/v1/tokens)\n",
      " 41%|████      | 2082/5050 [45:44<2:51:24,  3.47s/it]"
     ]
    },
    {
     "name": "stdout",
     "output_type": "stream",
     "text": [
      "Optimization failed: Could not resolve host: token.gurobi.com (code 6, command POST https://token.gurobi.com/api/v1/tokens)\n",
      "Optimization failed: Could not resolve host: token.gurobi.com (code 6, command POST https://token.gurobi.com/api/v1/tokens)\n",
      "Optimization failed: Could not resolve host: token.gurobi.com (code 6, command POST https://token.gurobi.com/api/v1/tokens)\n",
      "Optimization failed: Could not resolve host: token.gurobi.com (code 6, command POST https://token.gurobi.com/api/v1/tokens)\n"
     ]
    },
    {
     "name": "stderr",
     "output_type": "stream",
     "text": [
      "Traceback (most recent call last):\n",
      "  File \"c:\\Users\\willi\\Documents\\ProjectPaper\\M5R_venv\\lib\\site-packages\\interaction_inference\\optimization.py\", line 85, in analyse_dataset\n",
      "    solution_dict[i] = self.optimize(i)\n",
      "  File \"c:\\Users\\willi\\Documents\\ProjectPaper\\M5R_venv\\lib\\site-packages\\interaction_inference\\optimization.py\", line 121, in optimize\n",
      "    with gp.Env(params=environment_parameters) as env:\n",
      "  File \"src\\\\gurobipy\\\\env.pxi\", line 88, in gurobipy._core.Env.__init__\n",
      "gurobipy._exception.GurobiError: Could not resolve host: token.gurobi.com (code 6, command POST https://token.gurobi.com/api/v1/tokens)\n",
      "Traceback (most recent call last):\n",
      "  File \"c:\\Users\\willi\\Documents\\ProjectPaper\\M5R_venv\\lib\\site-packages\\interaction_inference\\optimization.py\", line 85, in analyse_dataset\n",
      "    solution_dict[i] = self.optimize(i)\n",
      "  File \"c:\\Users\\willi\\Documents\\ProjectPaper\\M5R_venv\\lib\\site-packages\\interaction_inference\\optimization.py\", line 121, in optimize\n",
      "    with gp.Env(params=environment_parameters) as env:\n",
      "  File \"src\\\\gurobipy\\\\env.pxi\", line 88, in gurobipy._core.Env.__init__\n",
      "gurobipy._exception.GurobiError: Could not resolve host: token.gurobi.com (code 6, command POST https://token.gurobi.com/api/v1/tokens)\n",
      " 41%|████▏     | 2084/5050 [45:44<1:59:24,  2.42s/it]Traceback (most recent call last):\n",
      "  File \"c:\\Users\\willi\\Documents\\ProjectPaper\\M5R_venv\\lib\\site-packages\\interaction_inference\\optimization.py\", line 85, in analyse_dataset\n",
      "    solution_dict[i] = self.optimize(i)\n",
      "  File \"c:\\Users\\willi\\Documents\\ProjectPaper\\M5R_venv\\lib\\site-packages\\interaction_inference\\optimization.py\", line 121, in optimize\n",
      "    with gp.Env(params=environment_parameters) as env:\n",
      "  File \"src\\\\gurobipy\\\\env.pxi\", line 88, in gurobipy._core.Env.__init__\n",
      "gurobipy._exception.GurobiError: Could not resolve host: token.gurobi.com (code 6, command POST https://token.gurobi.com/api/v1/tokens)\n",
      "Traceback (most recent call last):\n",
      "  File \"c:\\Users\\willi\\Documents\\ProjectPaper\\M5R_venv\\lib\\site-packages\\interaction_inference\\optimization.py\", line 85, in analyse_dataset\n",
      "    solution_dict[i] = self.optimize(i)\n",
      "  File \"c:\\Users\\willi\\Documents\\ProjectPaper\\M5R_venv\\lib\\site-packages\\interaction_inference\\optimization.py\", line 121, in optimize\n",
      "    with gp.Env(params=environment_parameters) as env:\n",
      "  File \"src\\\\gurobipy\\\\env.pxi\", line 88, in gurobipy._core.Env.__init__\n",
      "gurobipy._exception.GurobiError: Could not resolve host: token.gurobi.com (code 6, command POST https://token.gurobi.com/api/v1/tokens)\n",
      " 41%|████▏     | 2086/5050 [45:44<1:23:48,  1.70s/it]"
     ]
    },
    {
     "name": "stdout",
     "output_type": "stream",
     "text": [
      "Optimization failed: Could not resolve host: token.gurobi.com (code 6, command POST https://token.gurobi.com/api/v1/tokens)\n",
      "Optimization failed: Could not resolve host: token.gurobi.com (code 6, command POST https://token.gurobi.com/api/v1/tokens)\n",
      "Optimization failed: Could not resolve host: token.gurobi.com (code 6, command POST https://token.gurobi.com/api/v1/tokens)\n",
      "Optimization failed: Could not resolve host: token.gurobi.com (code 6, command POST https://token.gurobi.com/api/v1/tokens)\n"
     ]
    },
    {
     "name": "stderr",
     "output_type": "stream",
     "text": [
      "Traceback (most recent call last):\n",
      "  File \"c:\\Users\\willi\\Documents\\ProjectPaper\\M5R_venv\\lib\\site-packages\\interaction_inference\\optimization.py\", line 85, in analyse_dataset\n",
      "    solution_dict[i] = self.optimize(i)\n",
      "  File \"c:\\Users\\willi\\Documents\\ProjectPaper\\M5R_venv\\lib\\site-packages\\interaction_inference\\optimization.py\", line 121, in optimize\n",
      "    with gp.Env(params=environment_parameters) as env:\n",
      "  File \"src\\\\gurobipy\\\\env.pxi\", line 88, in gurobipy._core.Env.__init__\n",
      "gurobipy._exception.GurobiError: Could not resolve host: token.gurobi.com (code 6, command POST https://token.gurobi.com/api/v1/tokens)\n",
      "Traceback (most recent call last):\n",
      "  File \"c:\\Users\\willi\\Documents\\ProjectPaper\\M5R_venv\\lib\\site-packages\\interaction_inference\\optimization.py\", line 85, in analyse_dataset\n",
      "    solution_dict[i] = self.optimize(i)\n",
      "  File \"c:\\Users\\willi\\Documents\\ProjectPaper\\M5R_venv\\lib\\site-packages\\interaction_inference\\optimization.py\", line 121, in optimize\n",
      "    with gp.Env(params=environment_parameters) as env:\n",
      "  File \"src\\\\gurobipy\\\\env.pxi\", line 88, in gurobipy._core.Env.__init__\n",
      "gurobipy._exception.GurobiError: Could not resolve host: token.gurobi.com (code 6, command POST https://token.gurobi.com/api/v1/tokens)\n",
      " 41%|████▏     | 2088/5050 [45:45<59:07,  1.20s/it]  "
     ]
    },
    {
     "name": "stdout",
     "output_type": "stream",
     "text": [
      "Optimization failed: Could not resolve host: token.gurobi.com (code 6, command POST https://token.gurobi.com/api/v1/tokens)\n"
     ]
    },
    {
     "name": "stderr",
     "output_type": "stream",
     "text": [
      " 67%|██████▋   | 3400/5050 [8:43:55<1031:10:38, 2249.84s/it]Traceback (most recent call last):\n",
      "  File \"c:\\Users\\willi\\Documents\\ProjectPaper\\M5R_venv\\lib\\site-packages\\interaction_inference\\optimization.py\", line 85, in analyse_dataset\n",
      "    solution_dict[i] = self.optimize(i)\n",
      "  File \"c:\\Users\\willi\\Documents\\ProjectPaper\\M5R_venv\\lib\\site-packages\\interaction_inference\\optimization.py\", line 121, in optimize\n",
      "    with gp.Env(params=environment_parameters) as env:\n",
      "  File \"src\\\\gurobipy\\\\env.pxi\", line 88, in gurobipy._core.Env.__init__\n",
      "gurobipy._exception.GurobiError: Could not resolve host: token.gurobi.com (code 6, command POST https://token.gurobi.com/api/v1/tokens)\n",
      " 67%|██████▋   | 3401/5050 [8:43:55<869:11:49, 1897.58s/it] "
     ]
    },
    {
     "name": "stdout",
     "output_type": "stream",
     "text": [
      "GurobiError\n",
      "Optimization failed: Could not resolve host: token.gurobi.com (code 6, command POST https://token.gurobi.com/api/v1/tokens)\n"
     ]
    },
    {
     "name": "stderr",
     "output_type": "stream",
     "text": [
      "Traceback (most recent call last):\n"
     ]
    },
    {
     "name": "stdout",
     "output_type": "stream",
     "text": [
      "Optimization failed: Could not resolve host: token.gurobi.com (code 6, command POST https://token.gurobi.com/api/v1/tokens)\n"
     ]
    },
    {
     "name": "stderr",
     "output_type": "stream",
     "text": [
      "  File \"c:\\Users\\willi\\Documents\\ProjectPaper\\M5R_venv\\lib\\site-packages\\interaction_inference\\optimization.py\", line 85, in analyse_dataset\n",
      "    solution_dict[i] = self.optimize(i)\n",
      "  File \"c:\\Users\\willi\\Documents\\ProjectPaper\\M5R_venv\\lib\\site-packages\\interaction_inference\\optimization.py\", line 121, in optimize\n",
      "    with gp.Env(params=environment_parameters) as env:\n",
      "  File \"src\\\\gurobipy\\\\env.pxi\", line 88, in gurobipy._core.Env.__init__\n",
      "gurobipy._exception.GurobiError: Could not resolve host: token.gurobi.com (code 6, command POST https://token.gurobi.com/api/v1/tokens)\n",
      "Traceback (most recent call last):\n",
      "  File \"c:\\Users\\willi\\Documents\\ProjectPaper\\M5R_venv\\lib\\site-packages\\interaction_inference\\optimization.py\", line 85, in analyse_dataset\n",
      "    solution_dict[i] = self.optimize(i)\n",
      "  File \"c:\\Users\\willi\\Documents\\ProjectPaper\\M5R_venv\\lib\\site-packages\\interaction_inference\\optimization.py\", line 121, in optimize\n",
      "    with gp.Env(params=environment_parameters) as env:\n",
      "  File \"src\\\\gurobipy\\\\env.pxi\", line 88, in gurobipy._core.Env.__init__\n",
      "gurobipy._exception.GurobiError: Could not resolve host: token.gurobi.com (code 6, command POST https://token.gurobi.com/api/v1/tokens)\n",
      " 67%|██████▋   | 3403/5050 [8:43:56<599:50:55, 1311.15s/it]"
     ]
    },
    {
     "name": "stdout",
     "output_type": "stream",
     "text": [
      "Optimization failed: Could not resolve host: token.gurobi.com (code 6, command POST https://token.gurobi.com/api/v1/tokens)\n",
      "Optimization failed: Could not resolve host: token.gurobi.com (code 6, command POST https://token.gurobi.com/api/v1/tokens)\n"
     ]
    },
    {
     "name": "stderr",
     "output_type": "stream",
     "text": [
      "Traceback (most recent call last):\n",
      "  File \"c:\\Users\\willi\\Documents\\ProjectPaper\\M5R_venv\\lib\\site-packages\\interaction_inference\\optimization.py\", line 85, in analyse_dataset\n",
      "    solution_dict[i] = self.optimize(i)\n",
      "  File \"c:\\Users\\willi\\Documents\\ProjectPaper\\M5R_venv\\lib\\site-packages\\interaction_inference\\optimization.py\", line 121, in optimize\n",
      "    with gp.Env(params=environment_parameters) as env:\n",
      "  File \"src\\\\gurobipy\\\\env.pxi\", line 88, in gurobipy._core.Env.__init__\n",
      "gurobipy._exception.GurobiError: Could not resolve host: token.gurobi.com (code 6, command POST https://token.gurobi.com/api/v1/tokens)\n",
      "Traceback (most recent call last):\n",
      "  File \"c:\\Users\\willi\\Documents\\ProjectPaper\\M5R_venv\\lib\\site-packages\\interaction_inference\\optimization.py\", line 85, in analyse_dataset\n",
      "    solution_dict[i] = self.optimize(i)\n",
      "  File \"c:\\Users\\willi\\Documents\\ProjectPaper\\M5R_venv\\lib\\site-packages\\interaction_inference\\optimization.py\", line 121, in optimize\n",
      "    with gp.Env(params=environment_parameters) as env:\n",
      "  File \"src\\\\gurobipy\\\\env.pxi\", line 88, in gurobipy._core.Env.__init__\n",
      "gurobipy._exception.GurobiError: Could not resolve host: token.gurobi.com (code 6, command POST https://token.gurobi.com/api/v1/tokens)\n",
      " 67%|██████▋   | 3405/5050 [8:43:56<415:37:30, 909.57s/it] "
     ]
    },
    {
     "name": "stdout",
     "output_type": "stream",
     "text": [
      "Optimization failed: Could not resolve host: token.gurobi.com (code 6, command POST https://token.gurobi.com/api/v1/tokens)\n"
     ]
    },
    {
     "name": "stderr",
     "output_type": "stream",
     "text": [
      "Traceback (most recent call last):\n",
      "  File \"c:\\Users\\willi\\Documents\\ProjectPaper\\M5R_venv\\lib\\site-packages\\interaction_inference\\optimization.py\", line 85, in analyse_dataset\n",
      "    solution_dict[i] = self.optimize(i)\n",
      "  File \"c:\\Users\\willi\\Documents\\ProjectPaper\\M5R_venv\\lib\\site-packages\\interaction_inference\\optimization.py\", line 121, in optimize\n",
      "    with gp.Env(params=environment_parameters) as env:\n",
      "  File \"src\\\\gurobipy\\\\env.pxi\", line 88, in gurobipy._core.Env.__init__\n",
      "gurobipy._exception.GurobiError: Could not resolve host: token.gurobi.com (code 6, command POST https://token.gurobi.com/api/v1/tokens)\n",
      " 67%|██████▋   | 3406/5050 [8:43:56<340:49:26, 746.33s/it]"
     ]
    },
    {
     "name": "stdout",
     "output_type": "stream",
     "text": [
      "Optimization failed: Could not resolve host: token.gurobi.com (code 6, command POST https://token.gurobi.com/api/v1/tokens)\n"
     ]
    },
    {
     "name": "stderr",
     "output_type": "stream",
     "text": [
      " 77%|███████▋  | 3891/5050 [9:00:22<2:40:57,  8.33s/it]   \n"
     ]
    },
    {
     "ename": "KeyboardInterrupt",
     "evalue": "",
     "output_type": "error",
     "traceback": [
      "\u001b[1;31m---------------------------------------------------------------------------\u001b[0m",
      "\u001b[1;31mKeyboardInterrupt\u001b[0m                         Traceback (most recent call last)",
      "Cell \u001b[1;32mIn[141], line 2\u001b[0m\n\u001b[0;32m      1\u001b[0m \u001b[38;5;66;03m# optimization analysis\u001b[39;00m\n\u001b[1;32m----> 2\u001b[0m indep_BD_FIB \u001b[38;5;241m=\u001b[39m \u001b[43moptimization\u001b[49m\u001b[38;5;241;43m.\u001b[39;49m\u001b[43mOptimization\u001b[49m\u001b[43m(\u001b[49m\n\u001b[0;32m      3\u001b[0m \u001b[43m    \u001b[49m\u001b[43mdataset_FIB\u001b[49m\u001b[43m,\u001b[49m\n\u001b[0;32m      4\u001b[0m \u001b[43m    \u001b[49m\u001b[43m[\u001b[49m\n\u001b[0;32m      5\u001b[0m \u001b[43m        \u001b[49m\u001b[38;5;124;43m\"\u001b[39;49m\u001b[38;5;124;43mdownsampled_marginal_probability_1\u001b[39;49m\u001b[38;5;124;43m\"\u001b[39;49m\u001b[43m,\u001b[49m\n\u001b[0;32m      6\u001b[0m \u001b[43m        \u001b[49m\u001b[38;5;124;43m\"\u001b[39;49m\u001b[38;5;124;43mdownsampled_marginal_probability_2\u001b[39;49m\u001b[38;5;124;43m\"\u001b[39;49m\u001b[43m,\u001b[49m\n\u001b[0;32m      7\u001b[0m \u001b[43m        \u001b[49m\u001b[38;5;124;43m\"\u001b[39;49m\u001b[38;5;124;43mdownsampled_marginal_CME_1\u001b[39;49m\u001b[38;5;124;43m\"\u001b[39;49m\u001b[43m,\u001b[49m\n\u001b[0;32m      8\u001b[0m \u001b[43m        \u001b[49m\u001b[38;5;124;43m\"\u001b[39;49m\u001b[38;5;124;43mdownsampled_marginal_CME_2\u001b[39;49m\u001b[38;5;124;43m\"\u001b[39;49m\u001b[43m,\u001b[49m\n\u001b[0;32m      9\u001b[0m \u001b[43m        \u001b[49m\u001b[38;5;124;43m\"\u001b[39;49m\u001b[38;5;124;43mk_deg_1\u001b[39;49m\u001b[38;5;124;43m\"\u001b[39;49m\u001b[43m,\u001b[49m\n\u001b[0;32m     10\u001b[0m \u001b[43m        \u001b[49m\u001b[38;5;124;43m\"\u001b[39;49m\u001b[38;5;124;43mk_deg_2\u001b[39;49m\u001b[38;5;124;43m\"\u001b[39;49m\n\u001b[0;32m     11\u001b[0m \u001b[43m    \u001b[49m\u001b[43m]\u001b[49m\u001b[43m,\u001b[49m\n\u001b[0;32m     12\u001b[0m \u001b[43m    \u001b[49m\u001b[43mtqdm_disable\u001b[49m\u001b[38;5;241;43m=\u001b[39;49m\u001b[38;5;28;43;01mFalse\u001b[39;49;00m\u001b[43m,\u001b[49m\n\u001b[0;32m     13\u001b[0m \u001b[43m    \u001b[49m\u001b[43mprint_solution\u001b[49m\u001b[38;5;241;43m=\u001b[39;49m\u001b[38;5;28;43;01mFalse\u001b[39;49;00m\u001b[43m,\u001b[49m\n\u001b[0;32m     14\u001b[0m \u001b[43m    \u001b[49m\u001b[43mlicense_file\u001b[49m\u001b[38;5;241;43m=\u001b[39;49m\u001b[38;5;124;43m\"\u001b[39;49m\u001b[38;5;124;43mC:/WLS_credentials.json\u001b[39;49m\u001b[38;5;124;43m\"\u001b[39;49m\n\u001b[0;32m     15\u001b[0m \u001b[43m)\u001b[49m\n",
      "File \u001b[1;32mc:\\Users\\willi\\Documents\\ProjectPaper\\M5R_venv\\lib\\site-packages\\interaction_inference\\optimization.py:64\u001b[0m, in \u001b[0;36mOptimization.__init__\u001b[1;34m(self, dataset, constraints, license_file, time_limit, silent, K, tqdm_disable, print_solution)\u001b[0m\n\u001b[0;32m     61\u001b[0m \u001b[38;5;28mself\u001b[39m\u001b[38;5;241m.\u001b[39mprint_solution \u001b[38;5;241m=\u001b[39m print_solution\n\u001b[0;32m     63\u001b[0m \u001b[38;5;66;03m# analyse dataset\u001b[39;00m\n\u001b[1;32m---> 64\u001b[0m \u001b[38;5;28;43mself\u001b[39;49m\u001b[38;5;241;43m.\u001b[39;49m\u001b[43manalyse_dataset\u001b[49m\u001b[43m(\u001b[49m\u001b[43m)\u001b[49m\n",
      "File \u001b[1;32mc:\\Users\\willi\\Documents\\ProjectPaper\\M5R_venv\\lib\\site-packages\\interaction_inference\\optimization.py:85\u001b[0m, in \u001b[0;36mOptimization.analyse_dataset\u001b[1;34m(self)\u001b[0m\n\u001b[0;32m     81\u001b[0m \u001b[38;5;28;01mfor\u001b[39;00m i \u001b[38;5;129;01min\u001b[39;00m tqdm\u001b[38;5;241m.\u001b[39mtqdm(\u001b[38;5;28mrange\u001b[39m(\u001b[38;5;28mself\u001b[39m\u001b[38;5;241m.\u001b[39mdataset\u001b[38;5;241m.\u001b[39mgene_pairs), disable\u001b[38;5;241m=\u001b[39m\u001b[38;5;28mself\u001b[39m\u001b[38;5;241m.\u001b[39mtqdm_disable):\n\u001b[0;32m     82\u001b[0m \n\u001b[0;32m     83\u001b[0m     \u001b[38;5;66;03m# optimize sample i\u001b[39;00m\n\u001b[0;32m     84\u001b[0m     \u001b[38;5;28;01mtry\u001b[39;00m:\n\u001b[1;32m---> 85\u001b[0m         solution_dict[i] \u001b[38;5;241m=\u001b[39m \u001b[38;5;28;43mself\u001b[39;49m\u001b[38;5;241;43m.\u001b[39;49m\u001b[43moptimize\u001b[49m\u001b[43m(\u001b[49m\u001b[43mi\u001b[49m\u001b[43m)\u001b[49m\n\u001b[0;32m     87\u001b[0m     \u001b[38;5;66;03m# if exception\u001b[39;00m\n\u001b[0;32m     88\u001b[0m     \u001b[38;5;28;01mexcept\u001b[39;00m \u001b[38;5;167;01mException\u001b[39;00m \u001b[38;5;28;01mas\u001b[39;00m e:\n\u001b[0;32m     89\u001b[0m \n\u001b[0;32m     90\u001b[0m         \u001b[38;5;66;03m# display exception and traceback\u001b[39;00m\n",
      "File \u001b[1;32mc:\\Users\\willi\\Documents\\ProjectPaper\\M5R_venv\\lib\\site-packages\\interaction_inference\\optimization.py:138\u001b[0m, in \u001b[0;36mOptimization.optimize\u001b[1;34m(self, i)\u001b[0m\n\u001b[0;32m    136\u001b[0m model\u001b[38;5;241m.\u001b[39msetObjective(\u001b[38;5;241m0\u001b[39m, GRB\u001b[38;5;241m.\u001b[39mMINIMIZE)\n\u001b[0;32m    137\u001b[0m \u001b[38;5;28;01mtry\u001b[39;00m:\n\u001b[1;32m--> 138\u001b[0m     \u001b[43mmodel\u001b[49m\u001b[38;5;241;43m.\u001b[39;49m\u001b[43moptimize\u001b[49m\u001b[43m(\u001b[49m\u001b[43m)\u001b[49m\n\u001b[0;32m    139\u001b[0m \u001b[38;5;28;01mexcept\u001b[39;00m gp\u001b[38;5;241m.\u001b[39mGurobiError:\n\u001b[0;32m    140\u001b[0m     \u001b[38;5;28mprint\u001b[39m(\u001b[38;5;124m\"\u001b[39m\u001b[38;5;124mGurobiError\u001b[39m\u001b[38;5;124m\"\u001b[39m)\n",
      "\u001b[1;31mKeyboardInterrupt\u001b[0m: "
     ]
    }
   ],
   "source": [
    "# optimization analysis\n",
    "indep_BD_FIB = optimization.Optimization(\n",
    "    dataset_FIB,\n",
    "    [\n",
    "        \"downsampled_marginal_probability_1\",\n",
    "        \"downsampled_marginal_probability_2\",\n",
    "        \"downsampled_marginal_CME_1\",\n",
    "        \"downsampled_marginal_CME_2\",\n",
    "        \"k_deg_1\",\n",
    "        \"k_deg_2\"\n",
    "    ],\n",
    "    tqdm_disable=False,\n",
    "    print_solution=False,\n",
    "    license_file=\"C:/WLS_credentials.json\"\n",
    ")"
   ]
  },
  {
   "cell_type": "code",
   "execution_count": null,
   "metadata": {},
   "outputs": [],
   "source": [
    "indep_BD_array = np.zeros((genes, genes))\n",
    "k = 0\n",
    "for i in range(genes):\n",
    "    for j in range(genes):\n",
    "        # ignore above diagonal\n",
    "        if j > i:\n",
    "            pass\n",
    "        else:\n",
    "            if indep_BD_FIB.result_dict[k]['status'] == \"INFEASIBLE\":\n",
    "                indep_BD_array[i, j] = 1\n",
    "            elif indep_BD_FIB.result_dict[k]['status'] == \"OPTIMAL\":\n",
    "                indep_BD_array[i, j] = 0\n",
    "            else:\n",
    "                indep_BD_array[i, j] = 0.5\n",
    "            k += 1\n",
    "\n",
    "# fill above diagonal by symmetry\n",
    "for i in range(genes):\n",
    "    for j in range(genes):\n",
    "        if j > i:\n",
    "            indep_BD_array[i, j] = indep_BD_array[j, i]\n",
    "\n",
    "# optional remove lower triangle + diagonal (as symmetric + irrelevant diag)\n",
    "#for i in range(genes):\n",
    "#    for j in range(genes):\n",
    "#        if j <= i:\n",
    "#            moment_array[i, j] = 0.5"
   ]
  },
  {
   "cell_type": "code",
   "execution_count": null,
   "metadata": {},
   "outputs": [
    {
     "data": {
      "text/plain": [
       "Text(0.0, 110.0, 'Optimization using marginal prob. CIs         \\nBlue: feasible, independent birth-death pair          \\nRed: infeasible          \\nWhite: optimization failure')"
      ]
     },
     "execution_count": 153,
     "metadata": {},
     "output_type": "execute_result"
    },
    {
     "data": {
      "image/png": "[encoded data removed]",
      "text/plain": [
       "<Figure size 600x600 with 1 Axes>"
      ]
     },
     "metadata": {},
     "output_type": "display_data"
    }
   ],
   "source": [
    "fig, axs = plt.subplots(figsize=(6, 6))\n",
    "cmap = LinearSegmentedColormap.from_list('br', [(0, \"b\"), (0.5, \"k\"), (1, \"r\")], N=256)\n",
    "vmin, vmax = 0, 1\n",
    "img = axs.imshow(indep_BD_array, cmap=cmap, vmin=vmin, vmax=vmax)\n",
    "axs.set_title(\"Independent Birth-Death feasibility test\")\n",
    "plt.axis('off')\n",
    "plt.text(0.0, 110.0, \"Optimization using marginal prob. CIs\\\n",
    "         \\nBlue: feasible, independent birth-death pair \\\n",
    "         \\nRed: infeasible \\\n",
    "         \\nWhite: optimization failure\")"
   ]
  },
  {
   "cell_type": "markdown",
   "metadata": {},
   "source": [
    "#### Why does this not agree with individual sample birth death feasibility tests?"
   ]
  },
  {
   "cell_type": "markdown",
   "metadata": {},
   "source": [
    "## Interacting BD feasibility tests"
   ]
  },
  {
   "cell_type": "code",
   "execution_count": null,
   "metadata": {},
   "outputs": [],
   "source": [
    "# optimization analysis\n",
    "int_BD_FIB = optimization.Optimization(\n",
    "    dataset_FIB,\n",
    "    [\n",
    "        \"downsampled_probability\",\n",
    "        \"downsampled_CME\",\n",
    "        \"k_deg_1\"\n",
    "    ],\n",
    "    tqdm_disable=False,\n",
    "    print_solution=False,\n",
    "    license_file=\"C:/WLS_credentials.json\"\n",
    ")"
   ]
  },
  {
   "cell_type": "code",
   "execution_count": null,
   "metadata": {},
   "outputs": [],
   "source": []
  },
  {
   "cell_type": "markdown",
   "metadata": {},
   "source": [
    "## Indep TE feasibility tests"
   ]
  },
  {
   "cell_type": "code",
   "execution_count": null,
   "metadata": {},
   "outputs": [],
   "source": [
    "# optimization analysis\n",
    "indep_TE_FIB = optimization.Optimization(\n",
    "    dataset_FIB,\n",
    "    [\n",
    "        \"downsampled_marginal_probability_1\",\n",
    "        \"downsampled_marginal_probability_2\",\n",
    "        \"downsampled_marginal_CME_TE_1\",\n",
    "        \"downsampled_marginal_CME_TE_2\",\n",
    "        \"downsampled_marginal_TE_link_1\",\n",
    "        \"downsampled_marginal_TE_link_2\",\n",
    "        \"k_deg_1\",\n",
    "        \"k_deg_2\"\n",
    "    ],\n",
    "    tqdm_disable=False,\n",
    "    print_solution=False,\n",
    "    license_file=\"C:/WLS_credentials.json\"\n",
    ")"
   ]
  },
  {
   "cell_type": "code",
   "execution_count": null,
   "metadata": {},
   "outputs": [],
   "source": []
  },
  {
   "cell_type": "code",
   "execution_count": null,
   "metadata": {},
   "outputs": [],
   "source": []
  },
  {
   "cell_type": "markdown",
   "metadata": {},
   "source": [
    "## Construct dataset single genes (paired to save space)\n",
    "\n",
    "i.e. (X1, X2), (X3, X4), ... \n",
    "\n",
    "for marginal optimization"
   ]
  },
  {
   "cell_type": "code",
   "execution_count": 118,
   "metadata": {},
   "outputs": [],
   "source": [
    "# size\n",
    "genes = 100\n",
    "gene_pairs = genes // 2\n",
    "cells = data_FIB.shape[1]\n",
    "\n",
    "# construct paired count dataframe\n",
    "counts_df = pd.DataFrame(\n",
    "    index = [f\"Gene-pair-{i}\" for i in range(gene_pairs)],\n",
    "    columns = [f\"Cell-{j}\" for j in range(cells)]\n",
    ")\n",
    "\n",
    "# fill with pairs\n",
    "i = 0\n",
    "for k in range(gene_pairs):\n",
    "    gene_i = data_FIB.iloc[i]\n",
    "    gene_j = data_FIB.iloc[i + 1]\n",
    "    gene_pair_ij = list(zip(gene_i, gene_j))\n",
    "    counts_df.iloc[k] = gene_pair_ij\n",
    "    i += 2\n",
    "\n",
    "# construct object\n",
    "dataset_single_FIB = dataset.Dataset(\"dataset_single_FIB\")\n",
    "dataset_single_FIB.count_dataset = counts_df\n",
    "dataset_single_FIB.cells = cells\n",
    "dataset_single_FIB.gene_pairs = gene_pairs\n",
    "\n",
    "# settings\n",
    "dataset_single_FIB.thresh_OB = 3\n",
    "dataset_single_FIB.threshM_OB = 3\n",
    "\n",
    "# set capture\n",
    "dataset_single_FIB.beta = BETA"
   ]
  },
  {
   "cell_type": "markdown",
   "metadata": {},
   "source": [
    "### Marginal optimization"
   ]
  },
  {
   "cell_type": "code",
   "execution_count": 119,
   "metadata": {},
   "outputs": [],
   "source": [
    "# memory details\n",
    "dataset_single_FIB.resamples = 1000"
   ]
  },
  {
   "cell_type": "code",
   "execution_count": 120,
   "metadata": {},
   "outputs": [
    {
     "name": "stderr",
     "output_type": "stream",
     "text": [
      "100%|██████████| 50/50 [00:00<00:00, 57.52it/s]\n"
     ]
    }
   ],
   "source": [
    "dataset_single_FIB.bootstrap_marginal_probabilities(tqdm_disable=False)"
   ]
  },
  {
   "cell_type": "code",
   "execution_count": 121,
   "metadata": {},
   "outputs": [
    {
     "name": "stderr",
     "output_type": "stream",
     "text": [
      "100%|██████████| 50/50 [00:00<00:00, 70.71it/s]\n"
     ]
    }
   ],
   "source": [
    "dataset_single_FIB.bootstrap_marginal_fm(tqdm_disable=False)"
   ]
  },
  {
   "cell_type": "markdown",
   "metadata": {},
   "source": [
    "### Birth-Death"
   ]
  },
  {
   "cell_type": "code",
   "execution_count": 107,
   "metadata": {},
   "outputs": [
    {
     "name": "stderr",
     "output_type": "stream",
     "text": [
      "100%|██████████| 50/50 [00:11<00:00,  4.54it/s]\n"
     ]
    }
   ],
   "source": [
    "# optimization analysis (for genes i = 0, 2, ...)\n",
    "even_results_BD = optimization.Optimization(\n",
    "    dataset_single_FIB,\n",
    "    [\n",
    "        \"downsampled_marginal_probability_1\",\n",
    "        \"downsampled_marginal_CME_1\",\n",
    "        \"k_deg_1\"\n",
    "    ],\n",
    "    tqdm_disable=False,\n",
    "    print_solution=False,\n",
    "    license_file=\"C:/WLS_credentials.json\"\n",
    ")"
   ]
  },
  {
   "cell_type": "code",
   "execution_count": 108,
   "metadata": {},
   "outputs": [
    {
     "name": "stderr",
     "output_type": "stream",
     "text": [
      "100%|██████████| 50/50 [05:06<00:00,  6.13s/it]\n"
     ]
    }
   ],
   "source": [
    "# optimization analysis (for genes i = 1, 3, ...)\n",
    "odd_results_BD = optimization.Optimization(\n",
    "    dataset_single_FIB,\n",
    "    [\n",
    "        \"downsampled_marginal_probability_2\",\n",
    "        \"downsampled_marginal_CME_2\",\n",
    "        \"k_deg_2\"\n",
    "    ],\n",
    "    tqdm_disable=False,\n",
    "    print_solution=False,\n",
    "    license_file=\"C:/WLS_credentials.json\"\n",
    ")"
   ]
  },
  {
   "cell_type": "code",
   "execution_count": 109,
   "metadata": {},
   "outputs": [],
   "source": [
    "# combine results of feasibility test\n",
    "feasible_results_BD = []\n",
    "for k in range(gene_pairs):\n",
    "    feasible_results_BD.append(even_results_BD.result_dict[k]['status'])\n",
    "    feasible_results_BD.append(odd_results_BD.result_dict[k]['status'])"
   ]
  },
  {
   "cell_type": "code",
   "execution_count": 110,
   "metadata": {},
   "outputs": [
    {
     "name": "stdout",
     "output_type": "stream",
     "text": [
      "21 Feasible \n",
      "78 Infeasible\n"
     ]
    },
    {
     "data": {
      "text/plain": [
       "Text(0.5, 1.0, 'Independent Birth-Death feasiblity tests')"
      ]
     },
     "execution_count": 110,
     "metadata": {},
     "output_type": "execute_result"
    },
    {
     "data": {
      "image/png": "[encoded data removed]",
      "text/plain": [
       "<Figure size 640x480 with 1 Axes>"
      ]
     },
     "metadata": {},
     "output_type": "display_data"
    }
   ],
   "source": [
    "num_feasible = (np.array(feasible_results_BD) == 'OPTIMAL').sum()\n",
    "num_infeasible = (np.array(feasible_results_BD) == 'INFEASIBLE').sum()\n",
    "\n",
    "print(f\"{num_feasible} Feasible \\n{num_infeasible} Infeasible\")\n",
    "\n",
    "plt.bar([\"Feasible\", \"Infeasible\"], [num_feasible, num_infeasible]);\n",
    "plt.title(\"Independent Birth-Death feasiblity tests\")"
   ]
  },
  {
   "cell_type": "code",
   "execution_count": 113,
   "metadata": {},
   "outputs": [],
   "source": [
    "indep_BD_array_sep = np.zeros((genes, genes))\n",
    "for i in range(genes):\n",
    "    for j in range(genes):\n",
    "\n",
    "        # get feasibility results\n",
    "        gene_i = feasible_results_BD[i]\n",
    "        gene_j = feasible_results_BD[j]\n",
    "\n",
    "        if gene_i == \"OPTIMAL\" and gene_j == \"OPTIMAL\":\n",
    "            indep_BD_array_sep[i, j] = 0\n",
    "        elif gene_i == \"INFEASIBLE\" and gene_j == \"INFEASIBLE\":\n",
    "            indep_BD_array_sep[i, j] = 1\n",
    "        elif gene_i == \"INFEASIBLE\" and gene_j == \"OPTIMAL\":\n",
    "            indep_BD_array_sep[i, j] = 0.75\n",
    "        elif gene_i == \"OPTIMAL\" and gene_j == \"INFEASIBLE\":\n",
    "            indep_BD_array_sep[i, j] = 0.75\n",
    "        else:\n",
    "            indep_BD_array_sep[i, j] = 0.5\n",
    "# optional remove lower triangle + diagonal (as symmetric + irrelevant diag)\n",
    "#for i in range(genes):\n",
    "#    for j in range(genes):\n",
    "#        if j <= i:\n",
    "#            moment_array[i, j] = 0.5"
   ]
  },
  {
   "cell_type": "code",
   "execution_count": 114,
   "metadata": {},
   "outputs": [
    {
     "data": {
      "text/plain": [
       "Text(0.0, 120.0, 'Optimization using marginal prob. CIs          \\nBlue: both genes feasible, independent birth-death pair          \\nRed: both genes infeasible          \\nYellow: one gene infeasible, one optimal          \\nWhite: optimization failure')"
      ]
     },
     "execution_count": 114,
     "metadata": {},
     "output_type": "execute_result"
    },
    {
     "data": {
      "image/png": "[encoded data removed]",
      "text/plain": [
       "<Figure size 600x600 with 1 Axes>"
      ]
     },
     "metadata": {},
     "output_type": "display_data"
    }
   ],
   "source": [
    "fig, axs = plt.subplots(figsize=(6, 6))\n",
    "cmap = LinearSegmentedColormap.from_list('br', [(0, \"b\"), (0.5, \"w\"), (0.75, \"y\"), (1, \"r\")], N=256)\n",
    "vmin, vmax = 0, 1\n",
    "img = axs.imshow(indep_BD_array_sep, cmap=cmap, vmin=vmin, vmax=vmax)\n",
    "axs.set_title(\"Independent Birth-Death feasibility test\")\n",
    "plt.axis('off')\n",
    "plt.text(0.0, 120.0, \"Optimization using marginal prob. CIs \\\n",
    "         \\nBlue: both genes feasible, independent birth-death pair \\\n",
    "         \\nRed: both genes infeasible \\\n",
    "         \\nYellow: one gene infeasible, one optimal \\\n",
    "         \\nWhite: optimization failure\")"
   ]
  },
  {
   "cell_type": "markdown",
   "metadata": {},
   "source": [
    "### Telegraph"
   ]
  },
  {
   "cell_type": "code",
   "execution_count": 122,
   "metadata": {},
   "outputs": [
    {
     "name": "stderr",
     "output_type": "stream",
     "text": [
      "100%|██████████| 50/50 [05:23<00:00,  6.48s/it]\n"
     ]
    }
   ],
   "source": [
    "# optimization analysis (for genes i = 0, 2, ...)\n",
    "even_results_TE = optimization.Optimization(\n",
    "    dataset_single_FIB,\n",
    "    [\n",
    "        \"downsampled_marginal_probability_1\",\n",
    "        \"downsampled_marginal_CME_TE_1\",\n",
    "        \"downsampled_marginal_TE_link_1\",\n",
    "        \"k_deg_1\"\n",
    "    ],\n",
    "    tqdm_disable=False,\n",
    "    print_solution=False,\n",
    "    license_file=\"C:/WLS_credentials.json\"\n",
    ")"
   ]
  },
  {
   "cell_type": "code",
   "execution_count": 123,
   "metadata": {},
   "outputs": [
    {
     "name": "stderr",
     "output_type": "stream",
     "text": [
      "100%|██████████| 50/50 [00:14<00:00,  3.53it/s]\n"
     ]
    }
   ],
   "source": [
    "# optimization analysis (for genes i = 1, 3, ...)\n",
    "odd_results_TE = optimization.Optimization(\n",
    "    dataset_single_FIB,\n",
    "    [\n",
    "        \"downsampled_marginal_probability_2\",\n",
    "        \"downsampled_marginal_CME_TE_2\",\n",
    "        \"downsampled_marginal_TE_link_2\",\n",
    "        \"k_deg_2\"\n",
    "    ],\n",
    "    tqdm_disable=False,\n",
    "    print_solution=False,\n",
    "    license_file=\"C:/WLS_credentials.json\"\n",
    ")"
   ]
  },
  {
   "cell_type": "code",
   "execution_count": 124,
   "metadata": {},
   "outputs": [],
   "source": [
    "# combine results of feasibility test\n",
    "feasible_results_TE = []\n",
    "for k in range(gene_pairs):\n",
    "    feasible_results_TE.append(even_results_TE.result_dict[k]['status'])\n",
    "    feasible_results_TE.append(odd_results_TE.result_dict[k]['status'])"
   ]
  },
  {
   "cell_type": "code",
   "execution_count": 125,
   "metadata": {},
   "outputs": [
    {
     "name": "stdout",
     "output_type": "stream",
     "text": [
      "99 Feasible \n",
      "0 Infeasible\n"
     ]
    },
    {
     "data": {
      "text/plain": [
       "Text(0.5, 1.0, 'Independent Telegraph feasiblity tests')"
      ]
     },
     "execution_count": 125,
     "metadata": {},
     "output_type": "execute_result"
    },
    {
     "data": {
      "image/png": "[encoded data removed]",
      "text/plain": [
       "<Figure size 640x480 with 1 Axes>"
      ]
     },
     "metadata": {},
     "output_type": "display_data"
    }
   ],
   "source": [
    "num_feasible = (np.array(feasible_results_TE) == 'OPTIMAL').sum()\n",
    "num_infeasible = (np.array(feasible_results_TE) == 'INFEASIBLE').sum()\n",
    "\n",
    "print(f\"{num_feasible} Feasible \\n{num_infeasible} Infeasible\")\n",
    "\n",
    "plt.bar([\"Feasible\", \"Infeasible\"], [num_feasible, num_infeasible]);\n",
    "plt.title(\"Independent Telegraph feasiblity tests\")"
   ]
  },
  {
   "cell_type": "code",
   "execution_count": 126,
   "metadata": {},
   "outputs": [],
   "source": [
    "indep_TE_array_sep = np.zeros((genes, genes))\n",
    "for i in range(genes):\n",
    "    for j in range(genes):\n",
    "\n",
    "        # get feasibility results\n",
    "        gene_i = feasible_results_TE[i]\n",
    "        gene_j = feasible_results_TE[j]\n",
    "\n",
    "        if gene_i == \"OPTIMAL\" and gene_j == \"OPTIMAL\":\n",
    "            indep_TE_array_sep[i, j] = 0\n",
    "        elif gene_i == \"INFEASIBLE\" and gene_j == \"INFEASIBLE\":\n",
    "            indep_TE_array_sep[i, j] = 1\n",
    "        elif gene_i == \"INFEASIBLE\" and gene_j == \"OPTIMAL\":\n",
    "            indep_TE_array_sep[i, j] = 0.75\n",
    "        elif gene_i == \"OPTIMAL\" and gene_j == \"INFEASIBLE\":\n",
    "            indep_TE_array_sep[i, j] = 0.75\n",
    "        else:\n",
    "            indep_TE_array_sep[i, j] = 0.5\n",
    "# optional remove lower triangle + diagonal (as symmetric + irrelevant diag)\n",
    "#for i in range(genes):\n",
    "#    for j in range(genes):\n",
    "#        if j <= i:\n",
    "#            moment_array[i, j] = 0.5"
   ]
  },
  {
   "cell_type": "code",
   "execution_count": 127,
   "metadata": {},
   "outputs": [
    {
     "data": {
      "text/plain": [
       "Text(0.0, 120.0, 'Optimization using marginal prob. CIs          \\nBlue: both genes feasible, independent telegraph pair          \\nRed: both genes infeasible          \\nYellow: one gene infeasible, one optimal          \\nWhite: optimization failure')"
      ]
     },
     "execution_count": 127,
     "metadata": {},
     "output_type": "execute_result"
    },
    {
     "data": {
      "image/png": "[encoded data removed]",
      "text/plain": [
       "<Figure size 600x600 with 1 Axes>"
      ]
     },
     "metadata": {},
     "output_type": "display_data"
    }
   ],
   "source": [
    "fig, axs = plt.subplots(figsize=(6, 6))\n",
    "cmap = LinearSegmentedColormap.from_list('br', [(0, \"b\"), (0.5, \"w\"), (0.75, \"y\"), (1, \"r\")], N=256)\n",
    "vmin, vmax = 0, 1\n",
    "img = axs.imshow(indep_TE_array_sep, cmap=cmap, vmin=vmin, vmax=vmax)\n",
    "axs.set_title(\"Independent Telegraph feasibility test\")\n",
    "plt.axis('off')\n",
    "plt.text(0.0, 120.0, \"Optimization using marginal prob. CIs \\\n",
    "         \\nBlue: both genes feasible, independent telegraph pair \\\n",
    "         \\nRed: both genes infeasible \\\n",
    "         \\nYellow: one gene infeasible, one optimal \\\n",
    "         \\nWhite: optimization failure\")"
   ]
  },
  {
   "cell_type": "markdown",
   "metadata": {},
   "source": [
    "### Optimization 'failure'\n",
    "\n",
    "Occurs when truncation of a sample is [0, 0] because no states except x = 0 are observed more than thresh number of times (e.g. 3) e.g. Sample below only has one non-zero observed count of x = 1750\n",
    "\n",
    "This means no CME equations can be used as constraints, as equations involve at least 2 states but bounds only exist on 1.\n",
    "\n",
    "To solve we can artificially increase the truncation for these samples to [0, 1] (at least, possibly larger) by adding uninformative bounds (i.e. [0, 1]), but suggests a larger problem at hand"
   ]
  },
  {
   "cell_type": "code",
   "execution_count": 151,
   "metadata": {},
   "outputs": [
    {
     "data": {
      "text/plain": [
       "{'minM_x1_OB': 1, 'maxM_x1_OB': 14, 'minM_x2_OB': 0, 'maxM_x2_OB': 0}"
      ]
     },
     "execution_count": 151,
     "metadata": {},
     "output_type": "execute_result"
    },
    {
     "data": {
      "image/png": "[encoded data removed]",
      "text/plain": [
       "<Figure size 640x480 with 1 Axes>"
      ]
     },
     "metadata": {},
     "output_type": "display_data"
    }
   ],
   "source": [
    "plt.hist([x[1] for x in dataset_single_FIB.count_dataset.loc[f'Gene-pair-{9}']])\n",
    "dataset_single_FIB.truncationM_OB[f'sample-{0}']"
   ]
  },
  {
   "cell_type": "markdown",
   "metadata": {},
   "source": [
    "# Sankey plots"
   ]
  },
  {
   "cell_type": "code",
   "execution_count": 4,
   "metadata": {},
   "outputs": [],
   "source": [
    "import plotly\n",
    "import plotly.graph_objects as go\n",
    "import pandas as pd"
   ]
  },
  {
   "cell_type": "code",
   "execution_count": 92,
   "metadata": {},
   "outputs": [
    {
     "data": {
      "text/html": [
       "<div>\n",
       "<style scoped>\n",
       "    .dataframe tbody tr th:only-of-type {\n",
       "        vertical-align: middle;\n",
       "    }\n",
       "\n",
       "    .dataframe tbody tr th {\n",
       "        vertical-align: top;\n",
       "    }\n",
       "\n",
       "    .dataframe thead th {\n",
       "        text-align: right;\n",
       "    }\n",
       "</style>\n",
       "<table border=\"1\" class=\"dataframe\">\n",
       "  <thead>\n",
       "    <tr style=\"text-align: right;\">\n",
       "      <th></th>\n",
       "      <th>Test_1</th>\n",
       "      <th>Test_2</th>\n",
       "      <th>Test_3</th>\n",
       "    </tr>\n",
       "  </thead>\n",
       "  <tbody>\n",
       "    <tr>\n",
       "      <th>0</th>\n",
       "      <td>True</td>\n",
       "      <td>True</td>\n",
       "      <td>True</td>\n",
       "    </tr>\n",
       "    <tr>\n",
       "      <th>1</th>\n",
       "      <td>True</td>\n",
       "      <td>True</td>\n",
       "      <td>False</td>\n",
       "    </tr>\n",
       "    <tr>\n",
       "      <th>2</th>\n",
       "      <td>True</td>\n",
       "      <td>True</td>\n",
       "      <td>True</td>\n",
       "    </tr>\n",
       "    <tr>\n",
       "      <th>3</th>\n",
       "      <td>False</td>\n",
       "      <td>True</td>\n",
       "      <td>False</td>\n",
       "    </tr>\n",
       "    <tr>\n",
       "      <th>4</th>\n",
       "      <td>False</td>\n",
       "      <td>True</td>\n",
       "      <td>4</td>\n",
       "    </tr>\n",
       "  </tbody>\n",
       "</table>\n",
       "</div>"
      ],
      "text/plain": [
       "   Test_1  Test_2 Test_3\n",
       "0    True    True   True\n",
       "1    True    True  False\n",
       "2    True    True   True\n",
       "3   False    True  False\n",
       "4   False    True      4"
      ]
     },
     "execution_count": 92,
     "metadata": {},
     "output_type": "execute_result"
    }
   ],
   "source": [
    "df = pd.DataFrame(columns=[\"Test_1\", \"Test_2\", \"Test_3\"])\n",
    "df[\"Test_1\"] = [True, True, True, False, False]\n",
    "df[\"Test_2\"] = [True, True, True, True, True]\n",
    "df[\"Test_3\"] = [True, False, True, False, 4]\n",
    "df.head()"
   ]
  },
  {
   "cell_type": "code",
   "execution_count": 131,
   "metadata": {},
   "outputs": [],
   "source": [
    "def sankey_from_df(df):\n",
    "\n",
    "    column_number = df.shape[1]\n",
    "\n",
    "    # unique values per column\n",
    "    column_values = []\n",
    "\n",
    "    # box indices per column\n",
    "    column_indices = []\n",
    "\n",
    "    i = 1\n",
    "    for col in df.columns:\n",
    "\n",
    "        values = df[col].unique().tolist()\n",
    "        column_values.append(values)\n",
    "\n",
    "        boxes = len(values)\n",
    "        indices = [x for x in range(i, i + boxes)]\n",
    "        column_indices.append(indices)\n",
    "\n",
    "        i += boxes\n",
    "\n",
    "    # plotting\n",
    "    source = []\n",
    "    target = []\n",
    "    count = []\n",
    "\n",
    "    # special case for first gap\n",
    "\n",
    "    # end values\n",
    "    val_end = column_values[0]\n",
    "\n",
    "    # end indices\n",
    "    idx_end = column_indices[0]\n",
    "\n",
    "    # end column\n",
    "    col_end = df[df.columns[0]]\n",
    "\n",
    "    # for each end value\n",
    "    for val_k, idx_k in zip(val_end, idx_end):\n",
    "\n",
    "        # get count\n",
    "        count_k = len(df.loc[col_end == val_k])\n",
    "\n",
    "        # add link to plot: from 0 to idx with size count\n",
    "        source.append(0)\n",
    "        target.append(idx_k)\n",
    "        count.append(count_k)\n",
    "\n",
    "    for i in range(column_number - 1):\n",
    "\n",
    "        # get values\n",
    "        val_start = column_values[i]\n",
    "        val_end = column_values[i + 1]\n",
    "\n",
    "        # get indices\n",
    "        idx_start = column_indices[i]\n",
    "        idx_end = column_indices[i + 1]\n",
    "\n",
    "        # get columns\n",
    "        col_start = df[df.columns[i]]\n",
    "        col_end = df[df.columns[i + 1]]\n",
    "\n",
    "        # for each pair of values level\n",
    "        for val_j, idx_j in zip(val_start, idx_start):\n",
    "            for val_k, idx_k in zip(val_end, idx_end):\n",
    "\n",
    "                # get overlap\n",
    "                count_jk = len(df.loc[(col_start == val_j) & (col_end == val_k)])\n",
    "\n",
    "                # add link to plot: from idx_j to idx_k with size count_jk\n",
    "                source.append(idx_j)\n",
    "                target.append(idx_k)\n",
    "                count.append(count_jk)\n",
    "\n",
    "    # box labels\n",
    "    labels = [\"\"]\n",
    "    for values in column_values:\n",
    "        for val in values:\n",
    "            labels.append(str(val))\n",
    "\n",
    "    fig = go.Figure(data=[go.Sankey(\n",
    "        node = {\"label\": labels},\n",
    "        link = {\"source\": source, \"target\": target, \"value\": count, \"color\": \"lightgrey\"}\n",
    "        )])\n",
    "    fig.update_layout(font_size=15)\n",
    "    fig.show()"
   ]
  },
  {
   "cell_type": "code",
   "execution_count": 95,
   "metadata": {},
   "outputs": [
    {
     "data": {
      "application/vnd.plotly.v1+json": {
       "config": {
        "plotlyServerURL": "https://plot.ly"
       },
       "data": [
        {
         "link": {
          "color": "lightgrey",
          "source": [
           0,
           0,
           1,
           2,
           3,
           3,
           3
          ],
          "target": [
           1,
           2,
           3,
           3,
           4,
           5,
           6
          ],
          "value": [
           3,
           2,
           3,
           2,
           2,
           2,
           1
          ]
         },
         "node": {
          "label": [
           "Start",
           "True",
           "False",
           "True",
           "True",
           "False",
           "4"
          ]
         },
         "type": "sankey"
        }
       ],
       "layout": {
        "font": {
         "size": 15
        },
        "template": {
         "data": {
          "bar": [
           {
            "error_x": {
             "color": "#2a3f5f"
            },
            "error_y": {
             "color": "#2a3f5f"
            },
            "marker": {
             "line": {
              "color": "#E5ECF6",
              "width": 0.5
             },
             "pattern": {
              "fillmode": "overlay",
              "size": 10,
              "solidity": 0.2
             }
            },
            "type": "bar"
           }
          ],
          "barpolar": [
           {
            "marker": {
             "line": {
              "color": "#E5ECF6",
              "width": 0.5
             },
             "pattern": {
              "fillmode": "overlay",
              "size": 10,
              "solidity": 0.2
             }
            },
            "type": "barpolar"
           }
          ],
          "carpet": [
           {
            "aaxis": {
             "endlinecolor": "#2a3f5f",
             "gridcolor": "white",
             "linecolor": "white",
             "minorgridcolor": "white",
             "startlinecolor": "#2a3f5f"
            },
            "baxis": {
             "endlinecolor": "#2a3f5f",
             "gridcolor": "white",
             "linecolor": "white",
             "minorgridcolor": "white",
             "startlinecolor": "#2a3f5f"
            },
            "type": "carpet"
           }
          ],
          "choropleth": [
           {
            "colorbar": {
             "outlinewidth": 0,
             "ticks": ""
            },
            "type": "choropleth"
           }
          ],
          "contour": [
           {
            "colorbar": {
             "outlinewidth": 0,
             "ticks": ""
            },
            "colorscale": [
             [
              0,
              "#0d0887"
             ],
             [
              0.1111111111111111,
              "#46039f"
             ],
             [
              0.2222222222222222,
              "#7201a8"
             ],
             [
              0.3333333333333333,
              "#9c179e"
             ],
             [
              0.4444444444444444,
              "#bd3786"
             ],
             [
              0.5555555555555556,
              "#d8576b"
             ],
             [
              0.6666666666666666,
              "#ed7953"
             ],
             [
              0.7777777777777778,
              "#fb9f3a"
             ],
             [
              0.8888888888888888,
              "#fdca26"
             ],
             [
              1,
              "#f0f921"
             ]
            ],
            "type": "contour"
           }
          ],
          "contourcarpet": [
           {
            "colorbar": {
             "outlinewidth": 0,
             "ticks": ""
            },
            "type": "contourcarpet"
           }
          ],
          "heatmap": [
           {
            "colorbar": {
             "outlinewidth": 0,
             "ticks": ""
            },
            "colorscale": [
             [
              0,
              "#0d0887"
             ],
             [
              0.1111111111111111,
              "#46039f"
             ],
             [
              0.2222222222222222,
              "#7201a8"
             ],
             [
              0.3333333333333333,
              "#9c179e"
             ],
             [
              0.4444444444444444,
              "#bd3786"
             ],
             [
              0.5555555555555556,
              "#d8576b"
             ],
             [
              0.6666666666666666,
              "#ed7953"
             ],
             [
              0.7777777777777778,
              "#fb9f3a"
             ],
             [
              0.8888888888888888,
              "#fdca26"
             ],
             [
              1,
              "#f0f921"
             ]
            ],
            "type": "heatmap"
           }
          ],
          "histogram": [
           {
            "marker": {
             "pattern": {
              "fillmode": "overlay",
              "size": 10,
              "solidity": 0.2
             }
            },
            "type": "histogram"
           }
          ],
          "histogram2d": [
           {
            "colorbar": {
             "outlinewidth": 0,
             "ticks": ""
            },
            "colorscale": [
             [
              0,
              "#0d0887"
             ],
             [
              0.1111111111111111,
              "#46039f"
             ],
             [
              0.2222222222222222,
              "#7201a8"
             ],
             [
              0.3333333333333333,
              "#9c179e"
             ],
             [
              0.4444444444444444,
              "#bd3786"
             ],
             [
              0.5555555555555556,
              "#d8576b"
             ],
             [
              0.6666666666666666,
              "#ed7953"
             ],
             [
              0.7777777777777778,
              "#fb9f3a"
             ],
             [
              0.8888888888888888,
              "#fdca26"
             ],
             [
              1,
              "#f0f921"
             ]
            ],
            "type": "histogram2d"
           }
          ],
          "histogram2dcontour": [
           {
            "colorbar": {
             "outlinewidth": 0,
             "ticks": ""
            },
            "colorscale": [
             [
              0,
              "#0d0887"
             ],
             [
              0.1111111111111111,
              "#46039f"
             ],
             [
              0.2222222222222222,
              "#7201a8"
             ],
             [
              0.3333333333333333,
              "#9c179e"
             ],
             [
              0.4444444444444444,
              "#bd3786"
             ],
             [
              0.5555555555555556,
              "#d8576b"
             ],
             [
              0.6666666666666666,
              "#ed7953"
             ],
             [
              0.7777777777777778,
              "#fb9f3a"
             ],
             [
              0.8888888888888888,
              "#fdca26"
             ],
             [
              1,
              "#f0f921"
             ]
            ],
            "type": "histogram2dcontour"
           }
          ],
          "mesh3d": [
           {
            "colorbar": {
             "outlinewidth": 0,
             "ticks": ""
            },
            "type": "mesh3d"
           }
          ],
          "parcoords": [
           {
            "line": {
             "colorbar": {
              "outlinewidth": 0,
              "ticks": ""
             }
            },
            "type": "parcoords"
           }
          ],
          "pie": [
           {
            "automargin": true,
            "type": "pie"
           }
          ],
          "scatter": [
           {
            "fillpattern": {
             "fillmode": "overlay",
             "size": 10,
             "solidity": 0.2
            },
            "type": "scatter"
           }
          ],
          "scatter3d": [
           {
            "line": {
             "colorbar": {
              "outlinewidth": 0,
              "ticks": ""
             }
            },
            "marker": {
             "colorbar": {
              "outlinewidth": 0,
              "ticks": ""
             }
            },
            "type": "scatter3d"
           }
          ],
          "scattercarpet": [
           {
            "marker": {
             "colorbar": {
              "outlinewidth": 0,
              "ticks": ""
             }
            },
            "type": "scattercarpet"
           }
          ],
          "scattergeo": [
           {
            "marker": {
             "colorbar": {
              "outlinewidth": 0,
              "ticks": ""
             }
            },
            "type": "scattergeo"
           }
          ],
          "scattergl": [
           {
            "marker": {
             "colorbar": {
              "outlinewidth": 0,
              "ticks": ""
             }
            },
            "type": "scattergl"
           }
          ],
          "scattermap": [
           {
            "marker": {
             "colorbar": {
              "outlinewidth": 0,
              "ticks": ""
             }
            },
            "type": "scattermap"
           }
          ],
          "scattermapbox": [
           {
            "marker": {
             "colorbar": {
              "outlinewidth": 0,
              "ticks": ""
             }
            },
            "type": "scattermapbox"
           }
          ],
          "scatterpolar": [
           {
            "marker": {
             "colorbar": {
              "outlinewidth": 0,
              "ticks": ""
             }
            },
            "type": "scatterpolar"
           }
          ],
          "scatterpolargl": [
           {
            "marker": {
             "colorbar": {
              "outlinewidth": 0,
              "ticks": ""
             }
            },
            "type": "scatterpolargl"
           }
          ],
          "scatterternary": [
           {
            "marker": {
             "colorbar": {
              "outlinewidth": 0,
              "ticks": ""
             }
            },
            "type": "scatterternary"
           }
          ],
          "surface": [
           {
            "colorbar": {
             "outlinewidth": 0,
             "ticks": ""
            },
            "colorscale": [
             [
              0,
              "#0d0887"
             ],
             [
              0.1111111111111111,
              "#46039f"
             ],
             [
              0.2222222222222222,
              "#7201a8"
             ],
             [
              0.3333333333333333,
              "#9c179e"
             ],
             [
              0.4444444444444444,
              "#bd3786"
             ],
             [
              0.5555555555555556,
              "#d8576b"
             ],
             [
              0.6666666666666666,
              "#ed7953"
             ],
             [
              0.7777777777777778,
              "#fb9f3a"
             ],
             [
              0.8888888888888888,
              "#fdca26"
             ],
             [
              1,
              "#f0f921"
             ]
            ],
            "type": "surface"
           }
          ],
          "table": [
           {
            "cells": {
             "fill": {
              "color": "#EBF0F8"
             },
             "line": {
              "color": "white"
             }
            },
            "header": {
             "fill": {
              "color": "#C8D4E3"
             },
             "line": {
              "color": "white"
             }
            },
            "type": "table"
           }
          ]
         },
         "layout": {
          "annotationdefaults": {
           "arrowcolor": "#2a3f5f",
           "arrowhead": 0,
           "arrowwidth": 1
          },
          "autotypenumbers": "strict",
          "coloraxis": {
           "colorbar": {
            "outlinewidth": 0,
            "ticks": ""
           }
          },
          "colorscale": {
           "diverging": [
            [
             0,
             "#8e0152"
            ],
            [
             0.1,
             "#c51b7d"
            ],
            [
             0.2,
             "#de77ae"
            ],
            [
             0.3,
             "#f1b6da"
            ],
            [
             0.4,
             "#fde0ef"
            ],
            [
             0.5,
             "#f7f7f7"
            ],
            [
             0.6,
             "#e6f5d0"
            ],
            [
             0.7,
             "#b8e186"
            ],
            [
             0.8,
             "#7fbc41"
            ],
            [
             0.9,
             "#4d9221"
            ],
            [
             1,
             "#276419"
            ]
           ],
           "sequential": [
            [
             0,
             "#0d0887"
            ],
            [
             0.1111111111111111,
             "#46039f"
            ],
            [
             0.2222222222222222,
             "#7201a8"
            ],
            [
             0.3333333333333333,
             "#9c179e"
            ],
            [
             0.4444444444444444,
             "#bd3786"
            ],
            [
             0.5555555555555556,
             "#d8576b"
            ],
            [
             0.6666666666666666,
             "#ed7953"
            ],
            [
             0.7777777777777778,
             "#fb9f3a"
            ],
            [
             0.8888888888888888,
             "#fdca26"
            ],
            [
             1,
             "#f0f921"
            ]
           ],
           "sequentialminus": [
            [
             0,
             "#0d0887"
            ],
            [
             0.1111111111111111,
             "#46039f"
            ],
            [
             0.2222222222222222,
             "#7201a8"
            ],
            [
             0.3333333333333333,
             "#9c179e"
            ],
            [
             0.4444444444444444,
             "#bd3786"
            ],
            [
             0.5555555555555556,
             "#d8576b"
            ],
            [
             0.6666666666666666,
             "#ed7953"
            ],
            [
             0.7777777777777778,
             "#fb9f3a"
            ],
            [
             0.8888888888888888,
             "#fdca26"
            ],
            [
             1,
             "#f0f921"
            ]
           ]
          },
          "colorway": [
           "#636efa",
           "#EF553B",
           "#00cc96",
           "#ab63fa",
           "#FFA15A",
           "#19d3f3",
           "#FF6692",
           "#B6E880",
           "#FF97FF",
           "#FECB52"
          ],
          "font": {
           "color": "#2a3f5f"
          },
          "geo": {
           "bgcolor": "white",
           "lakecolor": "white",
           "landcolor": "#E5ECF6",
           "showlakes": true,
           "showland": true,
           "subunitcolor": "white"
          },
          "hoverlabel": {
           "align": "left"
          },
          "hovermode": "closest",
          "mapbox": {
           "style": "light"
          },
          "paper_bgcolor": "white",
          "plot_bgcolor": "#E5ECF6",
          "polar": {
           "angularaxis": {
            "gridcolor": "white",
            "linecolor": "white",
            "ticks": ""
           },
           "bgcolor": "#E5ECF6",
           "radialaxis": {
            "gridcolor": "white",
            "linecolor": "white",
            "ticks": ""
           }
          },
          "scene": {
           "xaxis": {
            "backgroundcolor": "#E5ECF6",
            "gridcolor": "white",
            "gridwidth": 2,
            "linecolor": "white",
            "showbackground": true,
            "ticks": "",
            "zerolinecolor": "white"
           },
           "yaxis": {
            "backgroundcolor": "#E5ECF6",
            "gridcolor": "white",
            "gridwidth": 2,
            "linecolor": "white",
            "showbackground": true,
            "ticks": "",
            "zerolinecolor": "white"
           },
           "zaxis": {
            "backgroundcolor": "#E5ECF6",
            "gridcolor": "white",
            "gridwidth": 2,
            "linecolor": "white",
            "showbackground": true,
            "ticks": "",
            "zerolinecolor": "white"
           }
          },
          "shapedefaults": {
           "line": {
            "color": "#2a3f5f"
           }
          },
          "ternary": {
           "aaxis": {
            "gridcolor": "white",
            "linecolor": "white",
            "ticks": ""
           },
           "baxis": {
            "gridcolor": "white",
            "linecolor": "white",
            "ticks": ""
           },
           "bgcolor": "#E5ECF6",
           "caxis": {
            "gridcolor": "white",
            "linecolor": "white",
            "ticks": ""
           }
          },
          "title": {
           "x": 0.05
          },
          "xaxis": {
           "automargin": true,
           "gridcolor": "white",
           "linecolor": "white",
           "ticks": "",
           "title": {
            "standoff": 15
           },
           "zerolinecolor": "white",
           "zerolinewidth": 2
          },
          "yaxis": {
           "automargin": true,
           "gridcolor": "white",
           "linecolor": "white",
           "ticks": "",
           "title": {
            "standoff": 15
           },
           "zerolinecolor": "white",
           "zerolinewidth": 2
          }
         }
        }
       }
      }
     },
     "metadata": {},
     "output_type": "display_data"
    }
   ],
   "source": [
    "sankey_from_df(df)"
   ]
  },
  {
   "cell_type": "markdown",
   "metadata": {},
   "source": [
    "## Independent tests plot"
   ]
  },
  {
   "cell_type": "code",
   "execution_count": 129,
   "metadata": {},
   "outputs": [],
   "source": [
    "indep_df = pd.DataFrame(columns=[\"BD\", \"TE\"])\n",
    "indep_df[\"BD\"] = feasible_results_BD\n",
    "indep_df[\"TE\"] = feasible_results_TE"
   ]
  },
  {
   "cell_type": "code",
   "execution_count": 132,
   "metadata": {},
   "outputs": [
    {
     "data": {
      "application/vnd.plotly.v1+json": {
       "config": {
        "plotlyServerURL": "https://plot.ly"
       },
       "data": [
        {
         "link": {
          "color": "lightgrey",
          "source": [
           0,
           0,
           0,
           1,
           1,
           2,
           2,
           3,
           3
          ],
          "target": [
           1,
           2,
           3,
           4,
           5,
           4,
           5,
           4,
           5
          ],
          "value": [
           78,
           21,
           1,
           77,
           1,
           21,
           0,
           1,
           0
          ]
         },
         "node": {
          "label": [
           "",
           "INFEASIBLE",
           "OPTIMAL",
           "TIME_LIMIT",
           "OPTIMAL",
           "TIME_LIMIT"
          ]
         },
         "type": "sankey"
        }
       ],
       "layout": {
        "font": {
         "size": 15
        },
        "template": {
         "data": {
          "bar": [
           {
            "error_x": {
             "color": "#2a3f5f"
            },
            "error_y": {
             "color": "#2a3f5f"
            },
            "marker": {
             "line": {
              "color": "#E5ECF6",
              "width": 0.5
             },
             "pattern": {
              "fillmode": "overlay",
              "size": 10,
              "solidity": 0.2
             }
            },
            "type": "bar"
           }
          ],
          "barpolar": [
           {
            "marker": {
             "line": {
              "color": "#E5ECF6",
              "width": 0.5
             },
             "pattern": {
              "fillmode": "overlay",
              "size": 10,
              "solidity": 0.2
             }
            },
            "type": "barpolar"
           }
          ],
          "carpet": [
           {
            "aaxis": {
             "endlinecolor": "#2a3f5f",
             "gridcolor": "white",
             "linecolor": "white",
             "minorgridcolor": "white",
             "startlinecolor": "#2a3f5f"
            },
            "baxis": {
             "endlinecolor": "#2a3f5f",
             "gridcolor": "white",
             "linecolor": "white",
             "minorgridcolor": "white",
             "startlinecolor": "#2a3f5f"
            },
            "type": "carpet"
           }
          ],
          "choropleth": [
           {
            "colorbar": {
             "outlinewidth": 0,
             "ticks": ""
            },
            "type": "choropleth"
           }
          ],
          "contour": [
           {
            "colorbar": {
             "outlinewidth": 0,
             "ticks": ""
            },
            "colorscale": [
             [
              0,
              "#0d0887"
             ],
             [
              0.1111111111111111,
              "#46039f"
             ],
             [
              0.2222222222222222,
              "#7201a8"
             ],
             [
              0.3333333333333333,
              "#9c179e"
             ],
             [
              0.4444444444444444,
              "#bd3786"
             ],
             [
              0.5555555555555556,
              "#d8576b"
             ],
             [
              0.6666666666666666,
              "#ed7953"
             ],
             [
              0.7777777777777778,
              "#fb9f3a"
             ],
             [
              0.8888888888888888,
              "#fdca26"
             ],
             [
              1,
              "#f0f921"
             ]
            ],
            "type": "contour"
           }
          ],
          "contourcarpet": [
           {
            "colorbar": {
             "outlinewidth": 0,
             "ticks": ""
            },
            "type": "contourcarpet"
           }
          ],
          "heatmap": [
           {
            "colorbar": {
             "outlinewidth": 0,
             "ticks": ""
            },
            "colorscale": [
             [
              0,
              "#0d0887"
             ],
             [
              0.1111111111111111,
              "#46039f"
             ],
             [
              0.2222222222222222,
              "#7201a8"
             ],
             [
              0.3333333333333333,
              "#9c179e"
             ],
             [
              0.4444444444444444,
              "#bd3786"
             ],
             [
              0.5555555555555556,
              "#d8576b"
             ],
             [
              0.6666666666666666,
              "#ed7953"
             ],
             [
              0.7777777777777778,
              "#fb9f3a"
             ],
             [
              0.8888888888888888,
              "#fdca26"
             ],
             [
              1,
              "#f0f921"
             ]
            ],
            "type": "heatmap"
           }
          ],
          "histogram": [
           {
            "marker": {
             "pattern": {
              "fillmode": "overlay",
              "size": 10,
              "solidity": 0.2
             }
            },
            "type": "histogram"
           }
          ],
          "histogram2d": [
           {
            "colorbar": {
             "outlinewidth": 0,
             "ticks": ""
            },
            "colorscale": [
             [
              0,
              "#0d0887"
             ],
             [
              0.1111111111111111,
              "#46039f"
             ],
             [
              0.2222222222222222,
              "#7201a8"
             ],
             [
              0.3333333333333333,
              "#9c179e"
             ],
             [
              0.4444444444444444,
              "#bd3786"
             ],
             [
              0.5555555555555556,
              "#d8576b"
             ],
             [
              0.6666666666666666,
              "#ed7953"
             ],
             [
              0.7777777777777778,
              "#fb9f3a"
             ],
             [
              0.8888888888888888,
              "#fdca26"
             ],
             [
              1,
              "#f0f921"
             ]
            ],
            "type": "histogram2d"
           }
          ],
          "histogram2dcontour": [
           {
            "colorbar": {
             "outlinewidth": 0,
             "ticks": ""
            },
            "colorscale": [
             [
              0,
              "#0d0887"
             ],
             [
              0.1111111111111111,
              "#46039f"
             ],
             [
              0.2222222222222222,
              "#7201a8"
             ],
             [
              0.3333333333333333,
              "#9c179e"
             ],
             [
              0.4444444444444444,
              "#bd3786"
             ],
             [
              0.5555555555555556,
              "#d8576b"
             ],
             [
              0.6666666666666666,
              "#ed7953"
             ],
             [
              0.7777777777777778,
              "#fb9f3a"
             ],
             [
              0.8888888888888888,
              "#fdca26"
             ],
             [
              1,
              "#f0f921"
             ]
            ],
            "type": "histogram2dcontour"
           }
          ],
          "mesh3d": [
           {
            "colorbar": {
             "outlinewidth": 0,
             "ticks": ""
            },
            "type": "mesh3d"
           }
          ],
          "parcoords": [
           {
            "line": {
             "colorbar": {
              "outlinewidth": 0,
              "ticks": ""
             }
            },
            "type": "parcoords"
           }
          ],
          "pie": [
           {
            "automargin": true,
            "type": "pie"
           }
          ],
          "scatter": [
           {
            "fillpattern": {
             "fillmode": "overlay",
             "size": 10,
             "solidity": 0.2
            },
            "type": "scatter"
           }
          ],
          "scatter3d": [
           {
            "line": {
             "colorbar": {
              "outlinewidth": 0,
              "ticks": ""
             }
            },
            "marker": {
             "colorbar": {
              "outlinewidth": 0,
              "ticks": ""
             }
            },
            "type": "scatter3d"
           }
          ],
          "scattercarpet": [
           {
            "marker": {
             "colorbar": {
              "outlinewidth": 0,
              "ticks": ""
             }
            },
            "type": "scattercarpet"
           }
          ],
          "scattergeo": [
           {
            "marker": {
             "colorbar": {
              "outlinewidth": 0,
              "ticks": ""
             }
            },
            "type": "scattergeo"
           }
          ],
          "scattergl": [
           {
            "marker": {
             "colorbar": {
              "outlinewidth": 0,
              "ticks": ""
             }
            },
            "type": "scattergl"
           }
          ],
          "scattermap": [
           {
            "marker": {
             "colorbar": {
              "outlinewidth": 0,
              "ticks": ""
             }
            },
            "type": "scattermap"
           }
          ],
          "scattermapbox": [
           {
            "marker": {
             "colorbar": {
              "outlinewidth": 0,
              "ticks": ""
             }
            },
            "type": "scattermapbox"
           }
          ],
          "scatterpolar": [
           {
            "marker": {
             "colorbar": {
              "outlinewidth": 0,
              "ticks": ""
             }
            },
            "type": "scatterpolar"
           }
          ],
          "scatterpolargl": [
           {
            "marker": {
             "colorbar": {
              "outlinewidth": 0,
              "ticks": ""
             }
            },
            "type": "scatterpolargl"
           }
          ],
          "scatterternary": [
           {
            "marker": {
             "colorbar": {
              "outlinewidth": 0,
              "ticks": ""
             }
            },
            "type": "scatterternary"
           }
          ],
          "surface": [
           {
            "colorbar": {
             "outlinewidth": 0,
             "ticks": ""
            },
            "colorscale": [
             [
              0,
              "#0d0887"
             ],
             [
              0.1111111111111111,
              "#46039f"
             ],
             [
              0.2222222222222222,
              "#7201a8"
             ],
             [
              0.3333333333333333,
              "#9c179e"
             ],
             [
              0.4444444444444444,
              "#bd3786"
             ],
             [
              0.5555555555555556,
              "#d8576b"
             ],
             [
              0.6666666666666666,
              "#ed7953"
             ],
             [
              0.7777777777777778,
              "#fb9f3a"
             ],
             [
              0.8888888888888888,
              "#fdca26"
             ],
             [
              1,
              "#f0f921"
             ]
            ],
            "type": "surface"
           }
          ],
          "table": [
           {
            "cells": {
             "fill": {
              "color": "#EBF0F8"
             },
             "line": {
              "color": "white"
             }
            },
            "header": {
             "fill": {
              "color": "#C8D4E3"
             },
             "line": {
              "color": "white"
             }
            },
            "type": "table"
           }
          ]
         },
         "layout": {
          "annotationdefaults": {
           "arrowcolor": "#2a3f5f",
           "arrowhead": 0,
           "arrowwidth": 1
          },
          "autotypenumbers": "strict",
          "coloraxis": {
           "colorbar": {
            "outlinewidth": 0,
            "ticks": ""
           }
          },
          "colorscale": {
           "diverging": [
            [
             0,
             "#8e0152"
            ],
            [
             0.1,
             "#c51b7d"
            ],
            [
             0.2,
             "#de77ae"
            ],
            [
             0.3,
             "#f1b6da"
            ],
            [
             0.4,
             "#fde0ef"
            ],
            [
             0.5,
             "#f7f7f7"
            ],
            [
             0.6,
             "#e6f5d0"
            ],
            [
             0.7,
             "#b8e186"
            ],
            [
             0.8,
             "#7fbc41"
            ],
            [
             0.9,
             "#4d9221"
            ],
            [
             1,
             "#276419"
            ]
           ],
           "sequential": [
            [
             0,
             "#0d0887"
            ],
            [
             0.1111111111111111,
             "#46039f"
            ],
            [
             0.2222222222222222,
             "#7201a8"
            ],
            [
             0.3333333333333333,
             "#9c179e"
            ],
            [
             0.4444444444444444,
             "#bd3786"
            ],
            [
             0.5555555555555556,
             "#d8576b"
            ],
            [
             0.6666666666666666,
             "#ed7953"
            ],
            [
             0.7777777777777778,
             "#fb9f3a"
            ],
            [
             0.8888888888888888,
             "#fdca26"
            ],
            [
             1,
             "#f0f921"
            ]
           ],
           "sequentialminus": [
            [
             0,
             "#0d0887"
            ],
            [
             0.1111111111111111,
             "#46039f"
            ],
            [
             0.2222222222222222,
             "#7201a8"
            ],
            [
             0.3333333333333333,
             "#9c179e"
            ],
            [
             0.4444444444444444,
             "#bd3786"
            ],
            [
             0.5555555555555556,
             "#d8576b"
            ],
            [
             0.6666666666666666,
             "#ed7953"
            ],
            [
             0.7777777777777778,
             "#fb9f3a"
            ],
            [
             0.8888888888888888,
             "#fdca26"
            ],
            [
             1,
             "#f0f921"
            ]
           ]
          },
          "colorway": [
           "#636efa",
           "#EF553B",
           "#00cc96",
           "#ab63fa",
           "#FFA15A",
           "#19d3f3",
           "#FF6692",
           "#B6E880",
           "#FF97FF",
           "#FECB52"
          ],
          "font": {
           "color": "#2a3f5f"
          },
          "geo": {
           "bgcolor": "white",
           "lakecolor": "white",
           "landcolor": "#E5ECF6",
           "showlakes": true,
           "showland": true,
           "subunitcolor": "white"
          },
          "hoverlabel": {
           "align": "left"
          },
          "hovermode": "closest",
          "mapbox": {
           "style": "light"
          },
          "paper_bgcolor": "white",
          "plot_bgcolor": "#E5ECF6",
          "polar": {
           "angularaxis": {
            "gridcolor": "white",
            "linecolor": "white",
            "ticks": ""
           },
           "bgcolor": "#E5ECF6",
           "radialaxis": {
            "gridcolor": "white",
            "linecolor": "white",
            "ticks": ""
           }
          },
          "scene": {
           "xaxis": {
            "backgroundcolor": "#E5ECF6",
            "gridcolor": "white",
            "gridwidth": 2,
            "linecolor": "white",
            "showbackground": true,
            "ticks": "",
            "zerolinecolor": "white"
           },
           "yaxis": {
            "backgroundcolor": "#E5ECF6",
            "gridcolor": "white",
            "gridwidth": 2,
            "linecolor": "white",
            "showbackground": true,
            "ticks": "",
            "zerolinecolor": "white"
           },
           "zaxis": {
            "backgroundcolor": "#E5ECF6",
            "gridcolor": "white",
            "gridwidth": 2,
            "linecolor": "white",
            "showbackground": true,
            "ticks": "",
            "zerolinecolor": "white"
           }
          },
          "shapedefaults": {
           "line": {
            "color": "#2a3f5f"
           }
          },
          "ternary": {
           "aaxis": {
            "gridcolor": "white",
            "linecolor": "white",
            "ticks": ""
           },
           "baxis": {
            "gridcolor": "white",
            "linecolor": "white",
            "ticks": ""
           },
           "bgcolor": "#E5ECF6",
           "caxis": {
            "gridcolor": "white",
            "linecolor": "white",
            "ticks": ""
           }
          },
          "title": {
           "x": 0.05
          },
          "xaxis": {
           "automargin": true,
           "gridcolor": "white",
           "linecolor": "white",
           "ticks": "",
           "title": {
            "standoff": 15
           },
           "zerolinecolor": "white",
           "zerolinewidth": 2
          },
          "yaxis": {
           "automargin": true,
           "gridcolor": "white",
           "linecolor": "white",
           "ticks": "",
           "title": {
            "standoff": 15
           },
           "zerolinecolor": "white",
           "zerolinewidth": 2
          }
         }
        }
       }
      }
     },
     "metadata": {},
     "output_type": "display_data"
    }
   ],
   "source": [
    "sankey_from_df(indep_df)"
   ]
  }
 ],
 "metadata": {
  "kernelspec": {
   "display_name": "M5R_venv",
   "language": "python",
   "name": "python3"
  },
  "language_info": {
   "codemirror_mode": {
    "name": "ipython",
    "version": 3
   },
   "file_extension": ".py",
   "mimetype": "text/x-python",
   "name": "python",
   "nbconvert_exporter": "python",
   "pygments_lexer": "ipython3",
   "version": "3.10.11"
  }
 },
 "nbformat": 4,
 "nbformat_minor": 2
}
