{
 "cells": [
  {
   "cell_type": "code",
   "execution_count": 1,
   "metadata": {},
   "outputs": [],
   "source": [
    "import pandas as pd\n",
    "import matplotlib.pyplot as plt\n",
    "from matplotlib.colors import LinearSegmentedColormap\n",
    "import numpy as np\n",
    "from interaction_inference import dataset, optimization"
   ]
  },
  {
   "cell_type": "markdown",
   "metadata": {},
   "source": [
    "## Dataset (PNAS Smart-seq-total paper)\n",
    "\n",
    "Load dataset of single genes"
   ]
  },
  {
   "cell_type": "code",
   "execution_count": 2,
   "metadata": {},
   "outputs": [],
   "source": [
    "data_FIB = pd.read_csv(\"./Datasets/GSE151334_FIB_counts_thresh.csv\", index_col=0)"
   ]
  },
  {
   "cell_type": "markdown",
   "metadata": {},
   "source": [
    "## Capture efficiency\n",
    "\n",
    "Estimate capture efficiency per cell from the full dataset of genes:\n",
    "- set a mean value <$\\beta$>\n",
    "- compute the total counts per cell / total counts across all cells\n",
    "- renormalize to have mean <$\\beta$>, giving capture efficiency $\\beta_{j}$ per cell"
   ]
  },
  {
   "cell_type": "code",
   "execution_count": 3,
   "metadata": {},
   "outputs": [],
   "source": [
    "# mean beta\n",
    "beta_mean = 0.1\n",
    "\n",
    "# total counts per cell\n",
    "total_per_cell = data_FIB.sum(axis='rows')\n",
    "\n",
    "# total counts across all cells\n",
    "total_overall = total_per_cell.sum()\n",
    "\n",
    "# count proportions per cell (sum = 1)\n",
    "count_proportion = (total_per_cell / total_overall).to_numpy()\n",
    "\n",
    "# number of cells\n",
    "n = count_proportion.size\n",
    "\n",
    "# re-normalize\n",
    "beta = count_proportion * beta_mean * n\n",
    "\n",
    "# clamp values outside [0, 1]\n",
    "if (beta >= 1).size > 0:\n",
    "    beta[beta >= 1] = beta[beta < 1].max()\n",
    "if (beta <= 0).size > 0:\n",
    "    beta[beta <= 0] = beta[beta > 0].min()"
   ]
  },
  {
   "cell_type": "code",
   "execution_count": 4,
   "metadata": {},
   "outputs": [],
   "source": [
    "# set mean beta\n",
    "MeanBETA = 0.1\n",
    "\n",
    "#xx<-Matrix::colSums(Data)\n",
    "xx = data_FIB.sum(axis='rows')\n",
    "\n",
    "#Normcount <- t_sp(t_sp(Data)/xx) * mean(xx)\n",
    "# Normcount <- Matrix::t(Matrix::t(Data)/xx) * mean(xx)\n",
    "Normcount = (data_FIB / xx) * np.mean(xx) # sum = mean(xx) per column\n",
    "\n",
    "#means <- Matrix::rowMeans(Normcount)\n",
    "means = Normcount.mean(axis='columns')\n",
    "\n",
    "#lmeans <- log(means)\n",
    "lmean = np.log(means)\n",
    "\n",
    "#med <- apply(log(Normcount + 1), 1, function(x) {\n",
    "#    median(x)\n",
    "#})\n",
    "med = np.log(Normcount + 1).median(axis=1)\n",
    "\n",
    "#mad <- apply(log(Normcount + 1), 1, function(x) {\n",
    "#    mad(x)\n",
    "#})\n",
    "mad = np.log(Normcount + 1).apply(lambda row: (row - row.median()).abs().median(), axis=1)\n",
    "\n",
    "#bound <- med + 3 * mad\n",
    "bound = med + 3*mad\n",
    "\n",
    "#maxlogGene <- apply(log(Normcount + 1), 1, max)\n",
    "maxlogGene = np.log(Normcount + 1).max(axis=1)\n",
    "\n",
    "#ind <- which(maxlogGene < bound)\n",
    "ind = maxlogGene < bound\n",
    "\n",
    "#dropout = apply(Data, 1, function(x) {\n",
    "#    length(which(x == 0))/length(x)\n",
    "#})\n",
    "dropout = data_FIB.apply(lambda row: (row == 0).sum() / row.size, axis=1)\n",
    "\n",
    "\n",
    "#Select_ind <- intersect(ind, which(dropout < 0.35))\n",
    "Select_ind = ind & (dropout < 0.35)\n",
    "\n",
    "# Selected_genes <- rownames(Data)[Select_ind]\n",
    "Selected_genes = list(Select_ind.index)\n",
    "\n",
    "#temppp <- Matrix::colSums(Data[Select_ind, ])\n",
    "temppp = data_FIB[Select_ind].sum(axis=0)\n",
    "\n",
    "#BETA <- temppp/mean(temppp) * MeanBETA\n",
    "BETA = (temppp / temppp.mean()) * MeanBETA\n",
    "\n",
    "#if (length(which(BETA >= 1)) > 0) {\n",
    "#    BETA[BETA >= 1] = max(BETA[BETA < 1])\n",
    "#}\n",
    "#if (length(which(BETA <= 0)) > 0) {\n",
    "#    BETA[BETA <= 0] = min(BETA[BETA > 0])\n",
    "#}\n",
    "if (BETA >= 1).size > 0:\n",
    "    BETA[BETA >= 1] = BETA[BETA < 1].max()\n",
    "if (BETA <= 0).size > 0:\n",
    "    BETA[BETA <= 0] = BETA[BETA > 0].min()\n",
    "\n",
    "#names(BETA) <- colnames(Data)\n",
    "\n",
    "#return(list(BETA = BETA, Selected_genes = Selected_genes))\n",
    "BETA = BETA.to_numpy()"
   ]
  },
  {
   "cell_type": "code",
   "execution_count": 5,
   "metadata": {},
   "outputs": [
    {
     "data": {
      "text/plain": [
       "<matplotlib.legend.Legend at 0x26d35ba5190>"
      ]
     },
     "execution_count": 5,
     "metadata": {},
     "output_type": "execute_result"
    },
    {
     "data": {
      "image/png": "[encoded data removed]",
      "text/plain": [
       "<Figure size 640x480 with 1 Axes>"
      ]
     },
     "metadata": {},
     "output_type": "display_data"
    }
   ],
   "source": [
    "plt.hist(BETA, bins=20, alpha=0.75, label=\"Baynorm\");\n",
    "plt.hist(beta, bins=20, alpha=0.75, label=\"Default\");\n",
    "plt.legend()"
   ]
  },
  {
   "cell_type": "markdown",
   "metadata": {},
   "source": [
    "### Construct dataset of pairs\n",
    "\n",
    "Avoid repeating pairs as symmetric"
   ]
  },
  {
   "cell_type": "code",
   "execution_count": 6,
   "metadata": {},
   "outputs": [],
   "source": [
    "# size\n",
    "genes = 100\n",
    "gene_pairs = (genes * (genes - 1) // 2) + genes\n",
    "cells = data_FIB.shape[1]\n",
    "\n",
    "# construct paired count dataframe\n",
    "counts_df = pd.DataFrame(\n",
    "    index = [f\"Gene-pair-{i}\" for i in range(gene_pairs)],\n",
    "    columns = [f\"Cell-{j}\" for j in range(cells)]\n",
    ")\n",
    "\n",
    "# fill with pairs\n",
    "k = 0\n",
    "for i in range(genes):\n",
    "    gene_i = data_FIB.iloc[i]\n",
    "    for j in range(genes):\n",
    "        if j > i:\n",
    "            break\n",
    "        gene_j = data_FIB.iloc[j]\n",
    "        gene_pair_ij = list(zip(gene_i, gene_j))\n",
    "        counts_df.iloc[k] = gene_pair_ij\n",
    "        k += 1\n",
    "\n",
    "# construct object\n",
    "dataset_FIB = dataset.Dataset(\"dataset_FIB\")\n",
    "dataset_FIB.count_dataset = counts_df\n",
    "dataset_FIB.cells = cells\n",
    "dataset_FIB.gene_pairs = gene_pairs\n",
    "\n",
    "# settings\n",
    "dataset_FIB.thresh_OB = 3\n",
    "dataset_FIB.threshM_OB = 3\n",
    "\n",
    "# set capture\n",
    "dataset_FIB.beta = BETA"
   ]
  },
  {
   "cell_type": "markdown",
   "metadata": {},
   "source": [
    "### Moment optimization"
   ]
  },
  {
   "cell_type": "code",
   "execution_count": 7,
   "metadata": {},
   "outputs": [],
   "source": [
    "# memory settings\n",
    "dataset_FIB.resamples = 1000"
   ]
  },
  {
   "cell_type": "code",
   "execution_count": 8,
   "metadata": {},
   "outputs": [
    {
     "name": "stderr",
     "output_type": "stream",
     "text": [
      "100%|██████████| 5050/5050 [01:19<00:00, 63.60it/s]\n"
     ]
    }
   ],
   "source": [
    "dataset_FIB.compute_moments(tqdm_disable=False)"
   ]
  },
  {
   "cell_type": "code",
   "execution_count": 48,
   "metadata": {},
   "outputs": [
    {
     "name": "stderr",
     "output_type": "stream",
     "text": [
      "100%|██████████| 5050/5050 [01:18<00:00, 64.43it/s]\n"
     ]
    }
   ],
   "source": [
    "# optimization analysis\n",
    "moment_FIB = optimization.Optimization(\n",
    "    dataset_FIB,\n",
    "    [\n",
    "        \"dummy_moment\"\n",
    "    ],\n",
    "    tqdm_disable=False,\n",
    "    print_solution=False,\n",
    "    license_file=\"D:/WLS_credentials.json\"\n",
    ")"
   ]
  },
  {
   "cell_type": "code",
   "execution_count": 49,
   "metadata": {},
   "outputs": [],
   "source": [
    "result_array = np.zeros((genes, genes))\n",
    "k = 0\n",
    "for i in range(genes):\n",
    "    for j in range(genes):\n",
    "        # ignore above diagonal\n",
    "        if j > i:\n",
    "            pass\n",
    "        else:\n",
    "            if moment_FIB.result_dict[k]['status'] == \"INFEASIBLE\":\n",
    "                result_array[i, j] = 1\n",
    "            k += 1\n",
    "\n",
    "# fill above diagonal by symmetry\n",
    "for i in range(genes):\n",
    "    for j in range(genes):\n",
    "        if j > i:\n",
    "            result_array[i, j] = result_array[j, i]"
   ]
  },
  {
   "cell_type": "code",
   "execution_count": 50,
   "metadata": {},
   "outputs": [
    {
     "data": {
      "text/plain": [
       "(np.float64(-0.5), np.float64(99.5), np.float64(99.5), np.float64(-0.5))"
      ]
     },
     "execution_count": 50,
     "metadata": {},
     "output_type": "execute_result"
    },
    {
     "data": {
      "image/png": "[encoded data removed]",
      "text/plain": [
       "<Figure size 500x600 with 1 Axes>"
      ]
     },
     "metadata": {},
     "output_type": "display_data"
    }
   ],
   "source": [
    "fig, axs = plt.subplots(figsize=(5, 6))\n",
    "cmap = LinearSegmentedColormap.from_list('br', [(0, \"b\"), (1, \"r\")], N=256)\n",
    "vmin, vmax = 0, 1\n",
    "img = axs.imshow(result_array, cmap=cmap, vmin=vmin, vmax=vmax)\n",
    "axs.set_title(\"Pairwise moment test\")\n",
    "plt.axis('off')\n",
    "#cbar = plt.colorbar(img, ax=axs)\n",
    "#cbar.set_label(\"p-value\")"
   ]
  },
  {
   "cell_type": "markdown",
   "metadata": {},
   "source": [
    "### Construct dataset single genes (paired to save space)\n",
    "\n",
    "i.e. (X1, X2), (X3, X4), ... \n",
    "\n",
    "for marginal optimization"
   ]
  },
  {
   "cell_type": "code",
   "execution_count": 51,
   "metadata": {},
   "outputs": [],
   "source": [
    "# size\n",
    "genes = 100\n",
    "gene_pairs = genes // 2\n",
    "cells = data_FIB.shape[1]\n",
    "\n",
    "# construct paired count dataframe\n",
    "counts_df = pd.DataFrame(\n",
    "    index = [f\"Gene-pair-{i}\" for i in range(gene_pairs)],\n",
    "    columns = [f\"Cell-{j}\" for j in range(cells)]\n",
    ")\n",
    "\n",
    "# fill with pairs\n",
    "i = 0\n",
    "for k in range(gene_pairs):\n",
    "    gene_i = data_FIB.iloc[i]\n",
    "    gene_j = data_FIB.iloc[i + 1]\n",
    "    gene_pair_ij = list(zip(gene_i, gene_j))\n",
    "    counts_df.iloc[k] = gene_pair_ij\n",
    "    i += 2\n",
    "\n",
    "# construct object\n",
    "dataset_single_FIB = dataset.Dataset(\"dataset_single_FIB\")\n",
    "dataset_single_FIB.count_dataset = counts_df\n",
    "dataset_single_FIB.cells = cells\n",
    "dataset_single_FIB.gene_pairs = gene_pairs\n",
    "\n",
    "# settings\n",
    "dataset_FIB.thresh_OB = 3\n",
    "dataset_FIB.threshM_OB = 3\n",
    "\n",
    "# set capture\n",
    "dataset_single_FIB.beta = BETA"
   ]
  },
  {
   "cell_type": "markdown",
   "metadata": {},
   "source": [
    "### Marginal optimization"
   ]
  },
  {
   "cell_type": "code",
   "execution_count": 52,
   "metadata": {},
   "outputs": [],
   "source": [
    "# memory details\n",
    "dataset_single_FIB.splits = 10\n",
    "dataset_single_FIB.resamples = 1000"
   ]
  },
  {
   "cell_type": "code",
   "execution_count": 53,
   "metadata": {},
   "outputs": [
    {
     "name": "stderr",
     "output_type": "stream",
     "text": [
      "100%|██████████| 50/50 [00:01<00:00, 33.82it/s]\n"
     ]
    }
   ],
   "source": [
    "dataset_single_FIB.bootstrap_marginal_probabilities(tqdm_disable=False)"
   ]
  },
  {
   "cell_type": "code",
   "execution_count": 54,
   "metadata": {},
   "outputs": [
    {
     "name": "stderr",
     "output_type": "stream",
     "text": [
      "100%|██████████| 50/50 [00:00<00:00, 165.97it/s]\n"
     ]
    }
   ],
   "source": [
    "dataset_single_FIB.bootstrap_marginal_fm(tqdm_disable=False)"
   ]
  },
  {
   "cell_type": "code",
   "execution_count": 55,
   "metadata": {},
   "outputs": [
    {
     "name": "stderr",
     "output_type": "stream",
     "text": [
      "  2%|▏         | 1/50 [00:00<00:09,  5.01it/s]Traceback (most recent call last):\n",
      "  File \"d:\\Projects\\ProjectPaper\\M5R_venv\\Lib\\site-packages\\interaction_inference\\optimization.py\", line 85, in analyse_dataset\n",
      "    solution_dict[i] = self.optimize(i)\n",
      "                       ^^^^^^^^^^^^^^^^\n",
      "  File \"d:\\Projects\\ProjectPaper\\M5R_venv\\Lib\\site-packages\\interaction_inference\\optimization.py\", line 133, in optimize\n",
      "    constraints.add_constraints(self, model, variables, i)\n",
      "  File \"d:\\Projects\\ProjectPaper\\M5R_venv\\Lib\\site-packages\\interaction_inference\\constraints.py\", line 291, in add_constraints\n",
      "    add_downsampled_marginal_CME_1_constraints(\n",
      "  File \"d:\\Projects\\ProjectPaper\\M5R_venv\\Lib\\site-packages\\interaction_inference\\constraints.py\", line 849, in add_downsampled_marginal_CME_1_constraints\n",
      "    z == k_deg_1 * pd1[1] - k_tx_1 * fm1[0] * pd1[0],\n",
      "                   ~~~^^^\n",
      "  File \"src\\\\gurobipy\\\\mvar.pxi\", line 265, in gurobipy._matrixapi.MVar.__getitem__\n",
      "IndexError: index 1 is out of bounds for axis 0 with size 1\n",
      "Traceback (most recent call last):\n",
      "  File \"d:\\Projects\\ProjectPaper\\M5R_venv\\Lib\\site-packages\\interaction_inference\\optimization.py\", line 85, in analyse_dataset\n",
      "    solution_dict[i] = self.optimize(i)\n",
      "                       ^^^^^^^^^^^^^^^^\n",
      "  File \"d:\\Projects\\ProjectPaper\\M5R_venv\\Lib\\site-packages\\interaction_inference\\optimization.py\", line 133, in optimize\n",
      "    constraints.add_constraints(self, model, variables, i)\n",
      "  File \"d:\\Projects\\ProjectPaper\\M5R_venv\\Lib\\site-packages\\interaction_inference\\constraints.py\", line 291, in add_constraints\n",
      "    add_downsampled_marginal_CME_1_constraints(\n",
      "  File \"d:\\Projects\\ProjectPaper\\M5R_venv\\Lib\\site-packages\\interaction_inference\\constraints.py\", line 849, in add_downsampled_marginal_CME_1_constraints\n",
      "    z == k_deg_1 * pd1[1] - k_tx_1 * fm1[0] * pd1[0],\n",
      "                   ~~~^^^\n",
      "  File \"src\\\\gurobipy\\\\mvar.pxi\", line 265, in gurobipy._matrixapi.MVar.__getitem__\n",
      "IndexError: index 1 is out of bounds for axis 0 with size 1\n",
      "Traceback (most recent call last):\n",
      "  File \"d:\\Projects\\ProjectPaper\\M5R_venv\\Lib\\site-packages\\interaction_inference\\optimization.py\", line 85, in analyse_dataset\n",
      "    solution_dict[i] = self.optimize(i)\n",
      "                       ^^^^^^^^^^^^^^^^\n",
      "  File \"d:\\Projects\\ProjectPaper\\M5R_venv\\Lib\\site-packages\\interaction_inference\\optimization.py\", line 133, in optimize\n",
      "    constraints.add_constraints(self, model, variables, i)\n",
      "  File \"d:\\Projects\\ProjectPaper\\M5R_venv\\Lib\\site-packages\\interaction_inference\\constraints.py\", line 291, in add_constraints\n",
      "    add_downsampled_marginal_CME_1_constraints(\n",
      "  File \"d:\\Projects\\ProjectPaper\\M5R_venv\\Lib\\site-packages\\interaction_inference\\constraints.py\", line 849, in add_downsampled_marginal_CME_1_constraints\n",
      "    z == k_deg_1 * pd1[1] - k_tx_1 * fm1[0] * pd1[0],\n",
      "                   ~~~^^^\n",
      "  File \"src\\\\gurobipy\\\\mvar.pxi\", line 265, in gurobipy._matrixapi.MVar.__getitem__\n",
      "IndexError: index 1 is out of bounds for axis 0 with size 1\n",
      "Traceback (most recent call last):\n",
      "  File \"d:\\Projects\\ProjectPaper\\M5R_venv\\Lib\\site-packages\\interaction_inference\\optimization.py\", line 85, in analyse_dataset\n",
      "    solution_dict[i] = self.optimize(i)\n",
      "                       ^^^^^^^^^^^^^^^^\n",
      "  File \"d:\\Projects\\ProjectPaper\\M5R_venv\\Lib\\site-packages\\interaction_inference\\optimization.py\", line 133, in optimize\n",
      "    constraints.add_constraints(self, model, variables, i)\n",
      "  File \"d:\\Projects\\ProjectPaper\\M5R_venv\\Lib\\site-packages\\interaction_inference\\constraints.py\", line 291, in add_constraints\n",
      "    add_downsampled_marginal_CME_1_constraints(\n",
      "  File \"d:\\Projects\\ProjectPaper\\M5R_venv\\Lib\\site-packages\\interaction_inference\\constraints.py\", line 849, in add_downsampled_marginal_CME_1_constraints\n",
      "    z == k_deg_1 * pd1[1] - k_tx_1 * fm1[0] * pd1[0],\n",
      "                   ~~~^^^\n",
      "  File \"src\\\\gurobipy\\\\mvar.pxi\", line 265, in gurobipy._matrixapi.MVar.__getitem__\n",
      "IndexError: index 1 is out of bounds for axis 0 with size 1\n",
      "Traceback (most recent call last):\n",
      "  File \"d:\\Projects\\ProjectPaper\\M5R_venv\\Lib\\site-packages\\interaction_inference\\optimization.py\", line 85, in analyse_dataset\n",
      "    solution_dict[i] = self.optimize(i)\n",
      "                       ^^^^^^^^^^^^^^^^\n",
      "  File \"d:\\Projects\\ProjectPaper\\M5R_venv\\Lib\\site-packages\\interaction_inference\\optimization.py\", line 133, in optimize\n",
      "    constraints.add_constraints(self, model, variables, i)\n",
      "  File \"d:\\Projects\\ProjectPaper\\M5R_venv\\Lib\\site-packages\\interaction_inference\\constraints.py\", line 291, in add_constraints\n",
      "    add_downsampled_marginal_CME_1_constraints(\n",
      "  File \"d:\\Projects\\ProjectPaper\\M5R_venv\\Lib\\site-packages\\interaction_inference\\constraints.py\", line 849, in add_downsampled_marginal_CME_1_constraints\n",
      "    z == k_deg_1 * pd1[1] - k_tx_1 * fm1[0] * pd1[0],\n",
      "                   ~~~^^^\n",
      "  File \"src\\\\gurobipy\\\\mvar.pxi\", line 265, in gurobipy._matrixapi.MVar.__getitem__\n",
      "IndexError: index 1 is out of bounds for axis 0 with size 1\n",
      " 16%|█▌        | 8/50 [00:00<00:01, 31.23it/s]Traceback (most recent call last):\n",
      "  File \"d:\\Projects\\ProjectPaper\\M5R_venv\\Lib\\site-packages\\interaction_inference\\optimization.py\", line 85, in analyse_dataset\n",
      "    solution_dict[i] = self.optimize(i)\n",
      "                       ^^^^^^^^^^^^^^^^\n",
      "  File \"d:\\Projects\\ProjectPaper\\M5R_venv\\Lib\\site-packages\\interaction_inference\\optimization.py\", line 133, in optimize\n",
      "    constraints.add_constraints(self, model, variables, i)\n",
      "  File \"d:\\Projects\\ProjectPaper\\M5R_venv\\Lib\\site-packages\\interaction_inference\\constraints.py\", line 291, in add_constraints\n",
      "    add_downsampled_marginal_CME_1_constraints(\n",
      "  File \"d:\\Projects\\ProjectPaper\\M5R_venv\\Lib\\site-packages\\interaction_inference\\constraints.py\", line 849, in add_downsampled_marginal_CME_1_constraints\n",
      "    z == k_deg_1 * pd1[1] - k_tx_1 * fm1[0] * pd1[0],\n",
      "                   ~~~^^^\n",
      "  File \"src\\\\gurobipy\\\\mvar.pxi\", line 265, in gurobipy._matrixapi.MVar.__getitem__\n",
      "IndexError: index 1 is out of bounds for axis 0 with size 1\n",
      "Traceback (most recent call last):\n",
      "  File \"d:\\Projects\\ProjectPaper\\M5R_venv\\Lib\\site-packages\\interaction_inference\\optimization.py\", line 85, in analyse_dataset\n",
      "    solution_dict[i] = self.optimize(i)\n",
      "                       ^^^^^^^^^^^^^^^^\n",
      "  File \"d:\\Projects\\ProjectPaper\\M5R_venv\\Lib\\site-packages\\interaction_inference\\optimization.py\", line 133, in optimize\n",
      "    constraints.add_constraints(self, model, variables, i)\n",
      "  File \"d:\\Projects\\ProjectPaper\\M5R_venv\\Lib\\site-packages\\interaction_inference\\constraints.py\", line 291, in add_constraints\n",
      "    add_downsampled_marginal_CME_1_constraints(\n",
      "  File \"d:\\Projects\\ProjectPaper\\M5R_venv\\Lib\\site-packages\\interaction_inference\\constraints.py\", line 849, in add_downsampled_marginal_CME_1_constraints\n",
      "    z == k_deg_1 * pd1[1] - k_tx_1 * fm1[0] * pd1[0],\n",
      "                   ~~~^^^\n",
      "  File \"src\\\\gurobipy\\\\mvar.pxi\", line 265, in gurobipy._matrixapi.MVar.__getitem__\n",
      "IndexError: index 1 is out of bounds for axis 0 with size 1\n",
      "Traceback (most recent call last):\n",
      "  File \"d:\\Projects\\ProjectPaper\\M5R_venv\\Lib\\site-packages\\interaction_inference\\optimization.py\", line 85, in analyse_dataset\n",
      "    solution_dict[i] = self.optimize(i)\n",
      "                       ^^^^^^^^^^^^^^^^\n",
      "  File \"d:\\Projects\\ProjectPaper\\M5R_venv\\Lib\\site-packages\\interaction_inference\\optimization.py\", line 133, in optimize\n",
      "    constraints.add_constraints(self, model, variables, i)\n",
      "  File \"d:\\Projects\\ProjectPaper\\M5R_venv\\Lib\\site-packages\\interaction_inference\\constraints.py\", line 291, in add_constraints\n",
      "    add_downsampled_marginal_CME_1_constraints(\n",
      "  File \"d:\\Projects\\ProjectPaper\\M5R_venv\\Lib\\site-packages\\interaction_inference\\constraints.py\", line 849, in add_downsampled_marginal_CME_1_constraints\n",
      "    z == k_deg_1 * pd1[1] - k_tx_1 * fm1[0] * pd1[0],\n",
      "                   ~~~^^^\n",
      "  File \"src\\\\gurobipy\\\\mvar.pxi\", line 265, in gurobipy._matrixapi.MVar.__getitem__\n",
      "IndexError: index 1 is out of bounds for axis 0 with size 1\n",
      "Traceback (most recent call last):\n",
      "  File \"d:\\Projects\\ProjectPaper\\M5R_venv\\Lib\\site-packages\\interaction_inference\\optimization.py\", line 85, in analyse_dataset\n",
      "    solution_dict[i] = self.optimize(i)\n",
      "                       ^^^^^^^^^^^^^^^^\n",
      "  File \"d:\\Projects\\ProjectPaper\\M5R_venv\\Lib\\site-packages\\interaction_inference\\optimization.py\", line 133, in optimize\n",
      "    constraints.add_constraints(self, model, variables, i)\n",
      "  File \"d:\\Projects\\ProjectPaper\\M5R_venv\\Lib\\site-packages\\interaction_inference\\constraints.py\", line 291, in add_constraints\n",
      "    add_downsampled_marginal_CME_1_constraints(\n",
      "  File \"d:\\Projects\\ProjectPaper\\M5R_venv\\Lib\\site-packages\\interaction_inference\\constraints.py\", line 849, in add_downsampled_marginal_CME_1_constraints\n",
      "    z == k_deg_1 * pd1[1] - k_tx_1 * fm1[0] * pd1[0],\n",
      "                   ~~~^^^\n",
      "  File \"src\\\\gurobipy\\\\mvar.pxi\", line 265, in gurobipy._matrixapi.MVar.__getitem__\n",
      "IndexError: index 1 is out of bounds for axis 0 with size 1\n",
      " 30%|███       | 15/50 [00:00<00:00, 44.20it/s]"
     ]
    },
    {
     "name": "stdout",
     "output_type": "stream",
     "text": [
      "Optimization failed: index 1 is out of bounds for axis 0 with size 1\n",
      "Optimization failed: index 1 is out of bounds for axis 0 with size 1\n",
      "Optimization failed: index 1 is out of bounds for axis 0 with size 1\n",
      "Optimization failed: index 1 is out of bounds for axis 0 with size 1\n",
      "Optimization failed: index 1 is out of bounds for axis 0 with size 1\n",
      "Optimization failed: index 1 is out of bounds for axis 0 with size 1\n",
      "Optimization failed: index 1 is out of bounds for axis 0 with size 1\n",
      "Optimization failed: index 1 is out of bounds for axis 0 with size 1\n",
      "Optimization failed: index 1 is out of bounds for axis 0 with size 1\n"
     ]
    },
    {
     "name": "stderr",
     "output_type": "stream",
     "text": [
      "Traceback (most recent call last):\n",
      "  File \"d:\\Projects\\ProjectPaper\\M5R_venv\\Lib\\site-packages\\interaction_inference\\optimization.py\", line 85, in analyse_dataset\n",
      "    solution_dict[i] = self.optimize(i)\n",
      "                       ^^^^^^^^^^^^^^^^\n",
      "  File \"d:\\Projects\\ProjectPaper\\M5R_venv\\Lib\\site-packages\\interaction_inference\\optimization.py\", line 133, in optimize\n",
      "    constraints.add_constraints(self, model, variables, i)\n",
      "  File \"d:\\Projects\\ProjectPaper\\M5R_venv\\Lib\\site-packages\\interaction_inference\\constraints.py\", line 291, in add_constraints\n",
      "    add_downsampled_marginal_CME_1_constraints(\n",
      "  File \"d:\\Projects\\ProjectPaper\\M5R_venv\\Lib\\site-packages\\interaction_inference\\constraints.py\", line 849, in add_downsampled_marginal_CME_1_constraints\n",
      "    z == k_deg_1 * pd1[1] - k_tx_1 * fm1[0] * pd1[0],\n",
      "                   ~~~^^^\n",
      "  File \"src\\\\gurobipy\\\\mvar.pxi\", line 265, in gurobipy._matrixapi.MVar.__getitem__\n",
      "IndexError: index 1 is out of bounds for axis 0 with size 1\n",
      "Traceback (most recent call last):\n",
      "  File \"d:\\Projects\\ProjectPaper\\M5R_venv\\Lib\\site-packages\\interaction_inference\\optimization.py\", line 85, in analyse_dataset\n",
      "    solution_dict[i] = self.optimize(i)\n",
      "                       ^^^^^^^^^^^^^^^^\n",
      "  File \"d:\\Projects\\ProjectPaper\\M5R_venv\\Lib\\site-packages\\interaction_inference\\optimization.py\", line 133, in optimize\n",
      "    constraints.add_constraints(self, model, variables, i)\n",
      "  File \"d:\\Projects\\ProjectPaper\\M5R_venv\\Lib\\site-packages\\interaction_inference\\constraints.py\", line 291, in add_constraints\n",
      "    add_downsampled_marginal_CME_1_constraints(\n",
      "  File \"d:\\Projects\\ProjectPaper\\M5R_venv\\Lib\\site-packages\\interaction_inference\\constraints.py\", line 849, in add_downsampled_marginal_CME_1_constraints\n",
      "    z == k_deg_1 * pd1[1] - k_tx_1 * fm1[0] * pd1[0],\n",
      "                   ~~~^^^\n",
      "  File \"src\\\\gurobipy\\\\mvar.pxi\", line 265, in gurobipy._matrixapi.MVar.__getitem__\n",
      "IndexError: index 1 is out of bounds for axis 0 with size 1\n",
      " 42%|████▏     | 21/50 [00:00<00:00, 41.82it/s]Traceback (most recent call last):\n",
      "  File \"d:\\Projects\\ProjectPaper\\M5R_venv\\Lib\\site-packages\\interaction_inference\\optimization.py\", line 85, in analyse_dataset\n",
      "    solution_dict[i] = self.optimize(i)\n",
      "                       ^^^^^^^^^^^^^^^^\n",
      "  File \"d:\\Projects\\ProjectPaper\\M5R_venv\\Lib\\site-packages\\interaction_inference\\optimization.py\", line 133, in optimize\n",
      "    constraints.add_constraints(self, model, variables, i)\n",
      "  File \"d:\\Projects\\ProjectPaper\\M5R_venv\\Lib\\site-packages\\interaction_inference\\constraints.py\", line 291, in add_constraints\n",
      "    add_downsampled_marginal_CME_1_constraints(\n",
      "  File \"d:\\Projects\\ProjectPaper\\M5R_venv\\Lib\\site-packages\\interaction_inference\\constraints.py\", line 849, in add_downsampled_marginal_CME_1_constraints\n",
      "    z == k_deg_1 * pd1[1] - k_tx_1 * fm1[0] * pd1[0],\n",
      "                   ~~~^^^\n",
      "  File \"src\\\\gurobipy\\\\mvar.pxi\", line 265, in gurobipy._matrixapi.MVar.__getitem__\n",
      "IndexError: index 1 is out of bounds for axis 0 with size 1\n",
      "Traceback (most recent call last):\n",
      "  File \"d:\\Projects\\ProjectPaper\\M5R_venv\\Lib\\site-packages\\interaction_inference\\optimization.py\", line 85, in analyse_dataset\n",
      "    solution_dict[i] = self.optimize(i)\n",
      "                       ^^^^^^^^^^^^^^^^\n",
      "  File \"d:\\Projects\\ProjectPaper\\M5R_venv\\Lib\\site-packages\\interaction_inference\\optimization.py\", line 133, in optimize\n",
      "    constraints.add_constraints(self, model, variables, i)\n",
      "  File \"d:\\Projects\\ProjectPaper\\M5R_venv\\Lib\\site-packages\\interaction_inference\\constraints.py\", line 291, in add_constraints\n",
      "    add_downsampled_marginal_CME_1_constraints(\n",
      "  File \"d:\\Projects\\ProjectPaper\\M5R_venv\\Lib\\site-packages\\interaction_inference\\constraints.py\", line 849, in add_downsampled_marginal_CME_1_constraints\n",
      "    z == k_deg_1 * pd1[1] - k_tx_1 * fm1[0] * pd1[0],\n",
      "                   ~~~^^^\n",
      "  File \"src\\\\gurobipy\\\\mvar.pxi\", line 265, in gurobipy._matrixapi.MVar.__getitem__\n",
      "IndexError: index 1 is out of bounds for axis 0 with size 1\n",
      " 56%|█████▌    | 28/50 [00:00<00:00, 46.90it/s]"
     ]
    },
    {
     "name": "stdout",
     "output_type": "stream",
     "text": [
      "Optimization failed: index 1 is out of bounds for axis 0 with size 1\n",
      "Optimization failed: index 1 is out of bounds for axis 0 with size 1\n",
      "Optimization failed: index 1 is out of bounds for axis 0 with size 1\n",
      "Optimization failed: index 1 is out of bounds for axis 0 with size 1\n",
      "Optimization failed: index 1 is out of bounds for axis 0 with size 1\n",
      "Optimization failed: index 1 is out of bounds for axis 0 with size 1\n"
     ]
    },
    {
     "name": "stderr",
     "output_type": "stream",
     "text": [
      "Traceback (most recent call last):\n",
      "  File \"d:\\Projects\\ProjectPaper\\M5R_venv\\Lib\\site-packages\\interaction_inference\\optimization.py\", line 85, in analyse_dataset\n",
      "    solution_dict[i] = self.optimize(i)\n",
      "                       ^^^^^^^^^^^^^^^^\n",
      "  File \"d:\\Projects\\ProjectPaper\\M5R_venv\\Lib\\site-packages\\interaction_inference\\optimization.py\", line 133, in optimize\n",
      "    constraints.add_constraints(self, model, variables, i)\n",
      "  File \"d:\\Projects\\ProjectPaper\\M5R_venv\\Lib\\site-packages\\interaction_inference\\constraints.py\", line 291, in add_constraints\n",
      "    add_downsampled_marginal_CME_1_constraints(\n",
      "  File \"d:\\Projects\\ProjectPaper\\M5R_venv\\Lib\\site-packages\\interaction_inference\\constraints.py\", line 849, in add_downsampled_marginal_CME_1_constraints\n",
      "    z == k_deg_1 * pd1[1] - k_tx_1 * fm1[0] * pd1[0],\n",
      "                   ~~~^^^\n",
      "  File \"src\\\\gurobipy\\\\mvar.pxi\", line 265, in gurobipy._matrixapi.MVar.__getitem__\n",
      "IndexError: index 1 is out of bounds for axis 0 with size 1\n",
      "Traceback (most recent call last):\n",
      "  File \"d:\\Projects\\ProjectPaper\\M5R_venv\\Lib\\site-packages\\interaction_inference\\optimization.py\", line 85, in analyse_dataset\n",
      "    solution_dict[i] = self.optimize(i)\n",
      "                       ^^^^^^^^^^^^^^^^\n",
      "  File \"d:\\Projects\\ProjectPaper\\M5R_venv\\Lib\\site-packages\\interaction_inference\\optimization.py\", line 133, in optimize\n",
      "    constraints.add_constraints(self, model, variables, i)\n",
      "  File \"d:\\Projects\\ProjectPaper\\M5R_venv\\Lib\\site-packages\\interaction_inference\\constraints.py\", line 291, in add_constraints\n",
      "    add_downsampled_marginal_CME_1_constraints(\n",
      "  File \"d:\\Projects\\ProjectPaper\\M5R_venv\\Lib\\site-packages\\interaction_inference\\constraints.py\", line 849, in add_downsampled_marginal_CME_1_constraints\n",
      "    z == k_deg_1 * pd1[1] - k_tx_1 * fm1[0] * pd1[0],\n",
      "                   ~~~^^^\n",
      "  File \"src\\\\gurobipy\\\\mvar.pxi\", line 265, in gurobipy._matrixapi.MVar.__getitem__\n",
      "IndexError: index 1 is out of bounds for axis 0 with size 1\n",
      "Traceback (most recent call last):\n",
      "  File \"d:\\Projects\\ProjectPaper\\M5R_venv\\Lib\\site-packages\\interaction_inference\\optimization.py\", line 85, in analyse_dataset\n",
      "    solution_dict[i] = self.optimize(i)\n",
      "                       ^^^^^^^^^^^^^^^^\n",
      "  File \"d:\\Projects\\ProjectPaper\\M5R_venv\\Lib\\site-packages\\interaction_inference\\optimization.py\", line 133, in optimize\n",
      "    constraints.add_constraints(self, model, variables, i)\n",
      "  File \"d:\\Projects\\ProjectPaper\\M5R_venv\\Lib\\site-packages\\interaction_inference\\constraints.py\", line 291, in add_constraints\n",
      "    add_downsampled_marginal_CME_1_constraints(\n",
      "  File \"d:\\Projects\\ProjectPaper\\M5R_venv\\Lib\\site-packages\\interaction_inference\\constraints.py\", line 849, in add_downsampled_marginal_CME_1_constraints\n",
      "    z == k_deg_1 * pd1[1] - k_tx_1 * fm1[0] * pd1[0],\n",
      "                   ~~~^^^\n",
      "  File \"src\\\\gurobipy\\\\mvar.pxi\", line 265, in gurobipy._matrixapi.MVar.__getitem__\n",
      "IndexError: index 1 is out of bounds for axis 0 with size 1\n",
      " 68%|██████▊   | 34/50 [00:00<00:00, 45.74it/s]Traceback (most recent call last):\n"
     ]
    },
    {
     "name": "stdout",
     "output_type": "stream",
     "text": [
      "Optimization failed: index 1 is out of bounds for axis 0 with size 1\n",
      "Optimization failed: index 1 is out of bounds for axis 0 with size 1\n"
     ]
    },
    {
     "name": "stderr",
     "output_type": "stream",
     "text": [
      "  File \"d:\\Projects\\ProjectPaper\\M5R_venv\\Lib\\site-packages\\interaction_inference\\optimization.py\", line 85, in analyse_dataset\n",
      "    solution_dict[i] = self.optimize(i)\n",
      "                       ^^^^^^^^^^^^^^^^\n",
      "  File \"d:\\Projects\\ProjectPaper\\M5R_venv\\Lib\\site-packages\\interaction_inference\\optimization.py\", line 133, in optimize\n",
      "    constraints.add_constraints(self, model, variables, i)\n",
      "  File \"d:\\Projects\\ProjectPaper\\M5R_venv\\Lib\\site-packages\\interaction_inference\\constraints.py\", line 291, in add_constraints\n",
      "    add_downsampled_marginal_CME_1_constraints(\n",
      "  File \"d:\\Projects\\ProjectPaper\\M5R_venv\\Lib\\site-packages\\interaction_inference\\constraints.py\", line 849, in add_downsampled_marginal_CME_1_constraints\n",
      "    z == k_deg_1 * pd1[1] - k_tx_1 * fm1[0] * pd1[0],\n",
      "                   ~~~^^^\n",
      "  File \"src\\\\gurobipy\\\\mvar.pxi\", line 265, in gurobipy._matrixapi.MVar.__getitem__\n",
      "IndexError: index 1 is out of bounds for axis 0 with size 1\n",
      " 80%|████████  | 40/50 [00:07<00:03,  2.86it/s]Traceback (most recent call last):\n",
      "  File \"d:\\Projects\\ProjectPaper\\M5R_venv\\Lib\\site-packages\\interaction_inference\\optimization.py\", line 85, in analyse_dataset\n",
      "    solution_dict[i] = self.optimize(i)\n",
      "                       ^^^^^^^^^^^^^^^^\n",
      "  File \"d:\\Projects\\ProjectPaper\\M5R_venv\\Lib\\site-packages\\interaction_inference\\optimization.py\", line 133, in optimize\n",
      "    constraints.add_constraints(self, model, variables, i)\n",
      "  File \"d:\\Projects\\ProjectPaper\\M5R_venv\\Lib\\site-packages\\interaction_inference\\constraints.py\", line 291, in add_constraints\n",
      "    add_downsampled_marginal_CME_1_constraints(\n",
      "  File \"d:\\Projects\\ProjectPaper\\M5R_venv\\Lib\\site-packages\\interaction_inference\\constraints.py\", line 849, in add_downsampled_marginal_CME_1_constraints\n",
      "    z == k_deg_1 * pd1[1] - k_tx_1 * fm1[0] * pd1[0],\n",
      "                   ~~~^^^\n",
      "  File \"src\\\\gurobipy\\\\mvar.pxi\", line 265, in gurobipy._matrixapi.MVar.__getitem__\n",
      "IndexError: index 1 is out of bounds for axis 0 with size 1\n",
      "Traceback (most recent call last):\n",
      "  File \"d:\\Projects\\ProjectPaper\\M5R_venv\\Lib\\site-packages\\interaction_inference\\optimization.py\", line 85, in analyse_dataset\n",
      "    solution_dict[i] = self.optimize(i)\n",
      "                       ^^^^^^^^^^^^^^^^\n",
      "  File \"d:\\Projects\\ProjectPaper\\M5R_venv\\Lib\\site-packages\\interaction_inference\\optimization.py\", line 133, in optimize\n",
      "    constraints.add_constraints(self, model, variables, i)\n",
      "  File \"d:\\Projects\\ProjectPaper\\M5R_venv\\Lib\\site-packages\\interaction_inference\\constraints.py\", line 291, in add_constraints\n",
      "    add_downsampled_marginal_CME_1_constraints(\n",
      "  File \"d:\\Projects\\ProjectPaper\\M5R_venv\\Lib\\site-packages\\interaction_inference\\constraints.py\", line 849, in add_downsampled_marginal_CME_1_constraints\n",
      "    z == k_deg_1 * pd1[1] - k_tx_1 * fm1[0] * pd1[0],\n",
      "                   ~~~^^^\n",
      "  File \"src\\\\gurobipy\\\\mvar.pxi\", line 265, in gurobipy._matrixapi.MVar.__getitem__\n",
      "IndexError: index 1 is out of bounds for axis 0 with size 1\n",
      "Traceback (most recent call last):\n",
      "  File \"d:\\Projects\\ProjectPaper\\M5R_venv\\Lib\\site-packages\\interaction_inference\\optimization.py\", line 85, in analyse_dataset\n",
      "    solution_dict[i] = self.optimize(i)\n",
      "                       ^^^^^^^^^^^^^^^^\n",
      "  File \"d:\\Projects\\ProjectPaper\\M5R_venv\\Lib\\site-packages\\interaction_inference\\optimization.py\", line 133, in optimize\n",
      "    constraints.add_constraints(self, model, variables, i)\n",
      "  File \"d:\\Projects\\ProjectPaper\\M5R_venv\\Lib\\site-packages\\interaction_inference\\constraints.py\", line 291, in add_constraints\n",
      "    add_downsampled_marginal_CME_1_constraints(\n",
      "  File \"d:\\Projects\\ProjectPaper\\M5R_venv\\Lib\\site-packages\\interaction_inference\\constraints.py\", line 849, in add_downsampled_marginal_CME_1_constraints\n",
      "    z == k_deg_1 * pd1[1] - k_tx_1 * fm1[0] * pd1[0],\n",
      "                   ~~~^^^\n",
      "  File \"src\\\\gurobipy\\\\mvar.pxi\", line 265, in gurobipy._matrixapi.MVar.__getitem__\n",
      "IndexError: index 1 is out of bounds for axis 0 with size 1\n",
      " 92%|█████████▏| 46/50 [00:07<00:00,  4.06it/s]"
     ]
    },
    {
     "name": "stdout",
     "output_type": "stream",
     "text": [
      "Optimization failed: index 1 is out of bounds for axis 0 with size 1\n",
      "Optimization failed: index 1 is out of bounds for axis 0 with size 1\n",
      "Optimization failed: index 1 is out of bounds for axis 0 with size 1\n"
     ]
    },
    {
     "name": "stderr",
     "output_type": "stream",
     "text": [
      "Traceback (most recent call last):\n",
      "  File \"d:\\Projects\\ProjectPaper\\M5R_venv\\Lib\\site-packages\\interaction_inference\\optimization.py\", line 85, in analyse_dataset\n",
      "    solution_dict[i] = self.optimize(i)\n",
      "                       ^^^^^^^^^^^^^^^^\n",
      "  File \"d:\\Projects\\ProjectPaper\\M5R_venv\\Lib\\site-packages\\interaction_inference\\optimization.py\", line 133, in optimize\n",
      "    constraints.add_constraints(self, model, variables, i)\n",
      "  File \"d:\\Projects\\ProjectPaper\\M5R_venv\\Lib\\site-packages\\interaction_inference\\constraints.py\", line 291, in add_constraints\n",
      "    add_downsampled_marginal_CME_1_constraints(\n",
      "  File \"d:\\Projects\\ProjectPaper\\M5R_venv\\Lib\\site-packages\\interaction_inference\\constraints.py\", line 849, in add_downsampled_marginal_CME_1_constraints\n",
      "    z == k_deg_1 * pd1[1] - k_tx_1 * fm1[0] * pd1[0],\n",
      "                   ~~~^^^\n",
      "  File \"src\\\\gurobipy\\\\mvar.pxi\", line 265, in gurobipy._matrixapi.MVar.__getitem__\n",
      "IndexError: index 1 is out of bounds for axis 0 with size 1\n",
      "Traceback (most recent call last):\n",
      "  File \"d:\\Projects\\ProjectPaper\\M5R_venv\\Lib\\site-packages\\interaction_inference\\optimization.py\", line 85, in analyse_dataset\n",
      "    solution_dict[i] = self.optimize(i)\n",
      "                       ^^^^^^^^^^^^^^^^\n",
      "  File \"d:\\Projects\\ProjectPaper\\M5R_venv\\Lib\\site-packages\\interaction_inference\\optimization.py\", line 133, in optimize\n",
      "    constraints.add_constraints(self, model, variables, i)\n",
      "  File \"d:\\Projects\\ProjectPaper\\M5R_venv\\Lib\\site-packages\\interaction_inference\\constraints.py\", line 291, in add_constraints\n",
      "    add_downsampled_marginal_CME_1_constraints(\n",
      "  File \"d:\\Projects\\ProjectPaper\\M5R_venv\\Lib\\site-packages\\interaction_inference\\constraints.py\", line 849, in add_downsampled_marginal_CME_1_constraints\n",
      "    z == k_deg_1 * pd1[1] - k_tx_1 * fm1[0] * pd1[0],\n",
      "                   ~~~^^^\n",
      "  File \"src\\\\gurobipy\\\\mvar.pxi\", line 265, in gurobipy._matrixapi.MVar.__getitem__\n",
      "IndexError: index 1 is out of bounds for axis 0 with size 1\n",
      "100%|██████████| 50/50 [00:07<00:00,  6.67it/s]"
     ]
    },
    {
     "name": "stdout",
     "output_type": "stream",
     "text": [
      "Optimization failed: index 1 is out of bounds for axis 0 with size 1\n",
      "Optimization failed: index 1 is out of bounds for axis 0 with size 1\n"
     ]
    },
    {
     "name": "stderr",
     "output_type": "stream",
     "text": [
      "\n"
     ]
    }
   ],
   "source": [
    "# optimization analysis\n",
    "odd_results = optimization.Optimization(\n",
    "    dataset_single_FIB,\n",
    "    [\n",
    "        \"downsampled_marginal_probability_1\",\n",
    "        \"downsampled_marginal_CME_1\",\n",
    "        \"k_deg_1\"\n",
    "    ],\n",
    "    tqdm_disable=False,\n",
    "    print_solution=False,\n",
    "    license_file=\"D:/WLS_credentials.json\"\n",
    ")"
   ]
  },
  {
   "cell_type": "code",
   "execution_count": 56,
   "metadata": {},
   "outputs": [
    {
     "name": "stderr",
     "output_type": "stream",
     "text": [
      "  0%|          | 0/50 [00:00<?, ?it/s]Traceback (most recent call last):\n",
      "  File \"d:\\Projects\\ProjectPaper\\M5R_venv\\Lib\\site-packages\\interaction_inference\\optimization.py\", line 85, in analyse_dataset\n",
      "    solution_dict[i] = self.optimize(i)\n",
      "                       ^^^^^^^^^^^^^^^^\n",
      "  File \"d:\\Projects\\ProjectPaper\\M5R_venv\\Lib\\site-packages\\interaction_inference\\optimization.py\", line 133, in optimize\n",
      "    constraints.add_constraints(self, model, variables, i)\n",
      "  File \"d:\\Projects\\ProjectPaper\\M5R_venv\\Lib\\site-packages\\interaction_inference\\constraints.py\", line 298, in add_constraints\n",
      "    add_downsampled_marginal_CME_2_constraints(\n",
      "  File \"d:\\Projects\\ProjectPaper\\M5R_venv\\Lib\\site-packages\\interaction_inference\\constraints.py\", line 885, in add_downsampled_marginal_CME_2_constraints\n",
      "    z == k_deg_2 * pd2[1] - k_tx_2 * fm2[0] * pd2[0],\n",
      "                   ~~~^^^\n",
      "  File \"src\\\\gurobipy\\\\mvar.pxi\", line 265, in gurobipy._matrixapi.MVar.__getitem__\n",
      "IndexError: index 1 is out of bounds for axis 0 with size 1\n",
      "Traceback (most recent call last):\n",
      "  File \"d:\\Projects\\ProjectPaper\\M5R_venv\\Lib\\site-packages\\interaction_inference\\optimization.py\", line 85, in analyse_dataset\n",
      "    solution_dict[i] = self.optimize(i)\n",
      "                       ^^^^^^^^^^^^^^^^\n",
      "  File \"d:\\Projects\\ProjectPaper\\M5R_venv\\Lib\\site-packages\\interaction_inference\\optimization.py\", line 133, in optimize\n",
      "    constraints.add_constraints(self, model, variables, i)\n",
      "  File \"d:\\Projects\\ProjectPaper\\M5R_venv\\Lib\\site-packages\\interaction_inference\\constraints.py\", line 298, in add_constraints\n",
      "    add_downsampled_marginal_CME_2_constraints(\n",
      "  File \"d:\\Projects\\ProjectPaper\\M5R_venv\\Lib\\site-packages\\interaction_inference\\constraints.py\", line 885, in add_downsampled_marginal_CME_2_constraints\n",
      "    z == k_deg_2 * pd2[1] - k_tx_2 * fm2[0] * pd2[0],\n",
      "                   ~~~^^^\n",
      "  File \"src\\\\gurobipy\\\\mvar.pxi\", line 265, in gurobipy._matrixapi.MVar.__getitem__\n",
      "IndexError: index 1 is out of bounds for axis 0 with size 1\n",
      " 14%|█▍        | 7/50 [00:00<00:00, 64.37it/s]Traceback (most recent call last):\n",
      "  File \"d:\\Projects\\ProjectPaper\\M5R_venv\\Lib\\site-packages\\interaction_inference\\optimization.py\", line 85, in analyse_dataset\n",
      "    solution_dict[i] = self.optimize(i)\n",
      "                       ^^^^^^^^^^^^^^^^\n",
      "  File \"d:\\Projects\\ProjectPaper\\M5R_venv\\Lib\\site-packages\\interaction_inference\\optimization.py\", line 133, in optimize\n",
      "    constraints.add_constraints(self, model, variables, i)\n",
      "  File \"d:\\Projects\\ProjectPaper\\M5R_venv\\Lib\\site-packages\\interaction_inference\\constraints.py\", line 298, in add_constraints\n",
      "    add_downsampled_marginal_CME_2_constraints(\n",
      "  File \"d:\\Projects\\ProjectPaper\\M5R_venv\\Lib\\site-packages\\interaction_inference\\constraints.py\", line 885, in add_downsampled_marginal_CME_2_constraints\n",
      "    z == k_deg_2 * pd2[1] - k_tx_2 * fm2[0] * pd2[0],\n",
      "                   ~~~^^^\n",
      "  File \"src\\\\gurobipy\\\\mvar.pxi\", line 265, in gurobipy._matrixapi.MVar.__getitem__\n",
      "IndexError: index 1 is out of bounds for axis 0 with size 1\n"
     ]
    },
    {
     "name": "stdout",
     "output_type": "stream",
     "text": [
      "Optimization failed: index 1 is out of bounds for axis 0 with size 1\n",
      "Optimization failed: index 1 is out of bounds for axis 0 with size 1\n",
      "Optimization failed: index 1 is out of bounds for axis 0 with size 1\n"
     ]
    },
    {
     "name": "stderr",
     "output_type": "stream",
     "text": [
      "Traceback (most recent call last):\n",
      "  File \"d:\\Projects\\ProjectPaper\\M5R_venv\\Lib\\site-packages\\interaction_inference\\optimization.py\", line 85, in analyse_dataset\n",
      "    solution_dict[i] = self.optimize(i)\n",
      "                       ^^^^^^^^^^^^^^^^\n",
      "  File \"d:\\Projects\\ProjectPaper\\M5R_venv\\Lib\\site-packages\\interaction_inference\\optimization.py\", line 133, in optimize\n",
      "    constraints.add_constraints(self, model, variables, i)\n",
      "  File \"d:\\Projects\\ProjectPaper\\M5R_venv\\Lib\\site-packages\\interaction_inference\\constraints.py\", line 298, in add_constraints\n",
      "    add_downsampled_marginal_CME_2_constraints(\n",
      "  File \"d:\\Projects\\ProjectPaper\\M5R_venv\\Lib\\site-packages\\interaction_inference\\constraints.py\", line 885, in add_downsampled_marginal_CME_2_constraints\n",
      "    z == k_deg_2 * pd2[1] - k_tx_2 * fm2[0] * pd2[0],\n",
      "                   ~~~^^^\n",
      "  File \"src\\\\gurobipy\\\\mvar.pxi\", line 265, in gurobipy._matrixapi.MVar.__getitem__\n",
      "IndexError: index 1 is out of bounds for axis 0 with size 1\n",
      "Traceback (most recent call last):\n",
      "  File \"d:\\Projects\\ProjectPaper\\M5R_venv\\Lib\\site-packages\\interaction_inference\\optimization.py\", line 85, in analyse_dataset\n",
      "    solution_dict[i] = self.optimize(i)\n",
      "                       ^^^^^^^^^^^^^^^^\n",
      "  File \"d:\\Projects\\ProjectPaper\\M5R_venv\\Lib\\site-packages\\interaction_inference\\optimization.py\", line 133, in optimize\n",
      "    constraints.add_constraints(self, model, variables, i)\n",
      "  File \"d:\\Projects\\ProjectPaper\\M5R_venv\\Lib\\site-packages\\interaction_inference\\constraints.py\", line 298, in add_constraints\n",
      "    add_downsampled_marginal_CME_2_constraints(\n",
      "  File \"d:\\Projects\\ProjectPaper\\M5R_venv\\Lib\\site-packages\\interaction_inference\\constraints.py\", line 885, in add_downsampled_marginal_CME_2_constraints\n",
      "    z == k_deg_2 * pd2[1] - k_tx_2 * fm2[0] * pd2[0],\n",
      "                   ~~~^^^\n",
      "  File \"src\\\\gurobipy\\\\mvar.pxi\", line 265, in gurobipy._matrixapi.MVar.__getitem__\n",
      "IndexError: index 1 is out of bounds for axis 0 with size 1\n",
      " 28%|██▊       | 14/50 [00:00<00:00, 55.67it/s]Traceback (most recent call last):\n",
      "  File \"d:\\Projects\\ProjectPaper\\M5R_venv\\Lib\\site-packages\\interaction_inference\\optimization.py\", line 85, in analyse_dataset\n",
      "    solution_dict[i] = self.optimize(i)\n",
      "                       ^^^^^^^^^^^^^^^^\n",
      "  File \"d:\\Projects\\ProjectPaper\\M5R_venv\\Lib\\site-packages\\interaction_inference\\optimization.py\", line 133, in optimize\n",
      "    constraints.add_constraints(self, model, variables, i)\n",
      "  File \"d:\\Projects\\ProjectPaper\\M5R_venv\\Lib\\site-packages\\interaction_inference\\constraints.py\", line 298, in add_constraints\n",
      "    add_downsampled_marginal_CME_2_constraints(\n",
      "  File \"d:\\Projects\\ProjectPaper\\M5R_venv\\Lib\\site-packages\\interaction_inference\\constraints.py\", line 885, in add_downsampled_marginal_CME_2_constraints\n",
      "    z == k_deg_2 * pd2[1] - k_tx_2 * fm2[0] * pd2[0],\n",
      "                   ~~~^^^\n",
      "  File \"src\\\\gurobipy\\\\mvar.pxi\", line 265, in gurobipy._matrixapi.MVar.__getitem__\n",
      "IndexError: index 1 is out of bounds for axis 0 with size 1\n",
      "Traceback (most recent call last):\n",
      "  File \"d:\\Projects\\ProjectPaper\\M5R_venv\\Lib\\site-packages\\interaction_inference\\optimization.py\", line 85, in analyse_dataset\n",
      "    solution_dict[i] = self.optimize(i)\n",
      "                       ^^^^^^^^^^^^^^^^\n",
      "  File \"d:\\Projects\\ProjectPaper\\M5R_venv\\Lib\\site-packages\\interaction_inference\\optimization.py\", line 133, in optimize\n",
      "    constraints.add_constraints(self, model, variables, i)\n",
      "  File \"d:\\Projects\\ProjectPaper\\M5R_venv\\Lib\\site-packages\\interaction_inference\\constraints.py\", line 298, in add_constraints\n",
      "    add_downsampled_marginal_CME_2_constraints(\n",
      "  File \"d:\\Projects\\ProjectPaper\\M5R_venv\\Lib\\site-packages\\interaction_inference\\constraints.py\", line 885, in add_downsampled_marginal_CME_2_constraints\n",
      "    z == k_deg_2 * pd2[1] - k_tx_2 * fm2[0] * pd2[0],\n",
      "                   ~~~^^^\n",
      "  File \"src\\\\gurobipy\\\\mvar.pxi\", line 265, in gurobipy._matrixapi.MVar.__getitem__\n",
      "IndexError: index 1 is out of bounds for axis 0 with size 1\n",
      "Traceback (most recent call last):\n",
      "  File \"d:\\Projects\\ProjectPaper\\M5R_venv\\Lib\\site-packages\\interaction_inference\\optimization.py\", line 85, in analyse_dataset\n",
      "    solution_dict[i] = self.optimize(i)\n",
      "                       ^^^^^^^^^^^^^^^^\n",
      "  File \"d:\\Projects\\ProjectPaper\\M5R_venv\\Lib\\site-packages\\interaction_inference\\optimization.py\", line 133, in optimize\n",
      "    constraints.add_constraints(self, model, variables, i)\n",
      "  File \"d:\\Projects\\ProjectPaper\\M5R_venv\\Lib\\site-packages\\interaction_inference\\constraints.py\", line 298, in add_constraints\n",
      "    add_downsampled_marginal_CME_2_constraints(\n",
      "  File \"d:\\Projects\\ProjectPaper\\M5R_venv\\Lib\\site-packages\\interaction_inference\\constraints.py\", line 885, in add_downsampled_marginal_CME_2_constraints\n",
      "    z == k_deg_2 * pd2[1] - k_tx_2 * fm2[0] * pd2[0],\n",
      "                   ~~~^^^\n",
      "  File \"src\\\\gurobipy\\\\mvar.pxi\", line 265, in gurobipy._matrixapi.MVar.__getitem__\n",
      "IndexError: index 1 is out of bounds for axis 0 with size 1\n",
      "Traceback (most recent call last):\n",
      "  File \"d:\\Projects\\ProjectPaper\\M5R_venv\\Lib\\site-packages\\interaction_inference\\optimization.py\", line 85, in analyse_dataset\n",
      "    solution_dict[i] = self.optimize(i)\n",
      "                       ^^^^^^^^^^^^^^^^\n",
      "  File \"d:\\Projects\\ProjectPaper\\M5R_venv\\Lib\\site-packages\\interaction_inference\\optimization.py\", line 133, in optimize\n",
      "    constraints.add_constraints(self, model, variables, i)\n",
      "  File \"d:\\Projects\\ProjectPaper\\M5R_venv\\Lib\\site-packages\\interaction_inference\\constraints.py\", line 298, in add_constraints\n",
      "    add_downsampled_marginal_CME_2_constraints(\n",
      "  File \"d:\\Projects\\ProjectPaper\\M5R_venv\\Lib\\site-packages\\interaction_inference\\constraints.py\", line 885, in add_downsampled_marginal_CME_2_constraints\n",
      "    z == k_deg_2 * pd2[1] - k_tx_2 * fm2[0] * pd2[0],\n",
      "                   ~~~^^^\n",
      "  File \"src\\\\gurobipy\\\\mvar.pxi\", line 265, in gurobipy._matrixapi.MVar.__getitem__\n",
      "IndexError: index 1 is out of bounds for axis 0 with size 1\n",
      " 42%|████▏     | 21/50 [00:00<00:00, 59.33it/s]"
     ]
    },
    {
     "name": "stdout",
     "output_type": "stream",
     "text": [
      "Optimization failed: index 1 is out of bounds for axis 0 with size 1\n",
      "Optimization failed: index 1 is out of bounds for axis 0 with size 1\n",
      "Optimization failed: index 1 is out of bounds for axis 0 with size 1\n",
      "Optimization failed: index 1 is out of bounds for axis 0 with size 1\n",
      "Optimization failed: index 1 is out of bounds for axis 0 with size 1\n",
      "Optimization failed: index 1 is out of bounds for axis 0 with size 1\n",
      "Optimization failed: index 1 is out of bounds for axis 0 with size 1\n"
     ]
    },
    {
     "name": "stderr",
     "output_type": "stream",
     "text": [
      "Traceback (most recent call last):\n",
      "  File \"d:\\Projects\\ProjectPaper\\M5R_venv\\Lib\\site-packages\\interaction_inference\\optimization.py\", line 85, in analyse_dataset\n",
      "    solution_dict[i] = self.optimize(i)\n",
      "                       ^^^^^^^^^^^^^^^^\n",
      "  File \"d:\\Projects\\ProjectPaper\\M5R_venv\\Lib\\site-packages\\interaction_inference\\optimization.py\", line 133, in optimize\n",
      "    constraints.add_constraints(self, model, variables, i)\n",
      "  File \"d:\\Projects\\ProjectPaper\\M5R_venv\\Lib\\site-packages\\interaction_inference\\constraints.py\", line 298, in add_constraints\n",
      "    add_downsampled_marginal_CME_2_constraints(\n",
      "  File \"d:\\Projects\\ProjectPaper\\M5R_venv\\Lib\\site-packages\\interaction_inference\\constraints.py\", line 885, in add_downsampled_marginal_CME_2_constraints\n",
      "    z == k_deg_2 * pd2[1] - k_tx_2 * fm2[0] * pd2[0],\n",
      "                   ~~~^^^\n",
      "  File \"src\\\\gurobipy\\\\mvar.pxi\", line 265, in gurobipy._matrixapi.MVar.__getitem__\n",
      "IndexError: index 1 is out of bounds for axis 0 with size 1\n",
      " 56%|█████▌    | 28/50 [00:00<00:00, 61.23it/s]Traceback (most recent call last):\n",
      "  File \"d:\\Projects\\ProjectPaper\\M5R_venv\\Lib\\site-packages\\interaction_inference\\optimization.py\", line 85, in analyse_dataset\n",
      "    solution_dict[i] = self.optimize(i)\n",
      "                       ^^^^^^^^^^^^^^^^\n",
      "  File \"d:\\Projects\\ProjectPaper\\M5R_venv\\Lib\\site-packages\\interaction_inference\\optimization.py\", line 133, in optimize\n",
      "    constraints.add_constraints(self, model, variables, i)\n",
      "  File \"d:\\Projects\\ProjectPaper\\M5R_venv\\Lib\\site-packages\\interaction_inference\\constraints.py\", line 298, in add_constraints\n",
      "    add_downsampled_marginal_CME_2_constraints(\n",
      "  File \"d:\\Projects\\ProjectPaper\\M5R_venv\\Lib\\site-packages\\interaction_inference\\constraints.py\", line 885, in add_downsampled_marginal_CME_2_constraints\n",
      "    z == k_deg_2 * pd2[1] - k_tx_2 * fm2[0] * pd2[0],\n",
      "                   ~~~^^^\n",
      "  File \"src\\\\gurobipy\\\\mvar.pxi\", line 265, in gurobipy._matrixapi.MVar.__getitem__\n",
      "IndexError: index 1 is out of bounds for axis 0 with size 1\n"
     ]
    },
    {
     "name": "stdout",
     "output_type": "stream",
     "text": [
      "Optimization failed: index 1 is out of bounds for axis 0 with size 1\n"
     ]
    },
    {
     "name": "stderr",
     "output_type": "stream",
     "text": [
      " 68%|██████▊   | 34/50 [00:18<00:15,  1.03it/s]Traceback (most recent call last):\n",
      "  File \"d:\\Projects\\ProjectPaper\\M5R_venv\\Lib\\site-packages\\interaction_inference\\optimization.py\", line 85, in analyse_dataset\n",
      "    solution_dict[i] = self.optimize(i)\n",
      "                       ^^^^^^^^^^^^^^^^\n",
      "  File \"d:\\Projects\\ProjectPaper\\M5R_venv\\Lib\\site-packages\\interaction_inference\\optimization.py\", line 133, in optimize\n",
      "    constraints.add_constraints(self, model, variables, i)\n",
      "  File \"d:\\Projects\\ProjectPaper\\M5R_venv\\Lib\\site-packages\\interaction_inference\\constraints.py\", line 298, in add_constraints\n",
      "    add_downsampled_marginal_CME_2_constraints(\n",
      "  File \"d:\\Projects\\ProjectPaper\\M5R_venv\\Lib\\site-packages\\interaction_inference\\constraints.py\", line 885, in add_downsampled_marginal_CME_2_constraints\n",
      "    z == k_deg_2 * pd2[1] - k_tx_2 * fm2[0] * pd2[0],\n",
      "                   ~~~^^^\n",
      "  File \"src\\\\gurobipy\\\\mvar.pxi\", line 265, in gurobipy._matrixapi.MVar.__getitem__\n",
      "IndexError: index 1 is out of bounds for axis 0 with size 1\n",
      "Traceback (most recent call last):\n",
      "  File \"d:\\Projects\\ProjectPaper\\M5R_venv\\Lib\\site-packages\\interaction_inference\\optimization.py\", line 85, in analyse_dataset\n",
      "    solution_dict[i] = self.optimize(i)\n",
      "                       ^^^^^^^^^^^^^^^^\n",
      "  File \"d:\\Projects\\ProjectPaper\\M5R_venv\\Lib\\site-packages\\interaction_inference\\optimization.py\", line 133, in optimize\n",
      "    constraints.add_constraints(self, model, variables, i)\n",
      "  File \"d:\\Projects\\ProjectPaper\\M5R_venv\\Lib\\site-packages\\interaction_inference\\constraints.py\", line 298, in add_constraints\n",
      "    add_downsampled_marginal_CME_2_constraints(\n",
      "  File \"d:\\Projects\\ProjectPaper\\M5R_venv\\Lib\\site-packages\\interaction_inference\\constraints.py\", line 885, in add_downsampled_marginal_CME_2_constraints\n",
      "    z == k_deg_2 * pd2[1] - k_tx_2 * fm2[0] * pd2[0],\n",
      "                   ~~~^^^\n",
      "  File \"src\\\\gurobipy\\\\mvar.pxi\", line 265, in gurobipy._matrixapi.MVar.__getitem__\n",
      "IndexError: index 1 is out of bounds for axis 0 with size 1\n",
      "Traceback (most recent call last):\n",
      "  File \"d:\\Projects\\ProjectPaper\\M5R_venv\\Lib\\site-packages\\interaction_inference\\optimization.py\", line 85, in analyse_dataset\n",
      "    solution_dict[i] = self.optimize(i)\n",
      "                       ^^^^^^^^^^^^^^^^\n",
      "  File \"d:\\Projects\\ProjectPaper\\M5R_venv\\Lib\\site-packages\\interaction_inference\\optimization.py\", line 133, in optimize\n",
      "    constraints.add_constraints(self, model, variables, i)\n",
      "  File \"d:\\Projects\\ProjectPaper\\M5R_venv\\Lib\\site-packages\\interaction_inference\\constraints.py\", line 298, in add_constraints\n",
      "    add_downsampled_marginal_CME_2_constraints(\n",
      "  File \"d:\\Projects\\ProjectPaper\\M5R_venv\\Lib\\site-packages\\interaction_inference\\constraints.py\", line 885, in add_downsampled_marginal_CME_2_constraints\n",
      "    z == k_deg_2 * pd2[1] - k_tx_2 * fm2[0] * pd2[0],\n",
      "                   ~~~^^^\n",
      "  File \"src\\\\gurobipy\\\\mvar.pxi\", line 265, in gurobipy._matrixapi.MVar.__getitem__\n",
      "IndexError: index 1 is out of bounds for axis 0 with size 1\n",
      "Traceback (most recent call last):\n",
      "  File \"d:\\Projects\\ProjectPaper\\M5R_venv\\Lib\\site-packages\\interaction_inference\\optimization.py\", line 85, in analyse_dataset\n",
      "    solution_dict[i] = self.optimize(i)\n",
      "                       ^^^^^^^^^^^^^^^^\n",
      "  File \"d:\\Projects\\ProjectPaper\\M5R_venv\\Lib\\site-packages\\interaction_inference\\optimization.py\", line 133, in optimize\n",
      "    constraints.add_constraints(self, model, variables, i)\n",
      "  File \"d:\\Projects\\ProjectPaper\\M5R_venv\\Lib\\site-packages\\interaction_inference\\constraints.py\", line 298, in add_constraints\n",
      "    add_downsampled_marginal_CME_2_constraints(\n",
      "  File \"d:\\Projects\\ProjectPaper\\M5R_venv\\Lib\\site-packages\\interaction_inference\\constraints.py\", line 885, in add_downsampled_marginal_CME_2_constraints\n",
      "    z == k_deg_2 * pd2[1] - k_tx_2 * fm2[0] * pd2[0],\n",
      "                   ~~~^^^\n",
      "  File \"src\\\\gurobipy\\\\mvar.pxi\", line 265, in gurobipy._matrixapi.MVar.__getitem__\n",
      "IndexError: index 1 is out of bounds for axis 0 with size 1\n",
      "Traceback (most recent call last):\n",
      "  File \"d:\\Projects\\ProjectPaper\\M5R_venv\\Lib\\site-packages\\interaction_inference\\optimization.py\", line 85, in analyse_dataset\n",
      "    solution_dict[i] = self.optimize(i)\n",
      "                       ^^^^^^^^^^^^^^^^\n",
      "  File \"d:\\Projects\\ProjectPaper\\M5R_venv\\Lib\\site-packages\\interaction_inference\\optimization.py\", line 133, in optimize\n",
      "    constraints.add_constraints(self, model, variables, i)\n",
      "  File \"d:\\Projects\\ProjectPaper\\M5R_venv\\Lib\\site-packages\\interaction_inference\\constraints.py\", line 298, in add_constraints\n",
      "    add_downsampled_marginal_CME_2_constraints(\n",
      "  File \"d:\\Projects\\ProjectPaper\\M5R_venv\\Lib\\site-packages\\interaction_inference\\constraints.py\", line 885, in add_downsampled_marginal_CME_2_constraints\n",
      "    z == k_deg_2 * pd2[1] - k_tx_2 * fm2[0] * pd2[0],\n",
      "                   ~~~^^^\n",
      "  File \"src\\\\gurobipy\\\\mvar.pxi\", line 265, in gurobipy._matrixapi.MVar.__getitem__\n",
      "IndexError: index 1 is out of bounds for axis 0 with size 1\n",
      " 82%|████████▏ | 41/50 [00:18<00:05,  1.58it/s]Traceback (most recent call last):\n",
      "  File \"d:\\Projects\\ProjectPaper\\M5R_venv\\Lib\\site-packages\\interaction_inference\\optimization.py\", line 85, in analyse_dataset\n",
      "    solution_dict[i] = self.optimize(i)\n",
      "                       ^^^^^^^^^^^^^^^^\n",
      "  File \"d:\\Projects\\ProjectPaper\\M5R_venv\\Lib\\site-packages\\interaction_inference\\optimization.py\", line 133, in optimize\n",
      "    constraints.add_constraints(self, model, variables, i)\n",
      "  File \"d:\\Projects\\ProjectPaper\\M5R_venv\\Lib\\site-packages\\interaction_inference\\constraints.py\", line 298, in add_constraints\n",
      "    add_downsampled_marginal_CME_2_constraints(\n",
      "  File \"d:\\Projects\\ProjectPaper\\M5R_venv\\Lib\\site-packages\\interaction_inference\\constraints.py\", line 885, in add_downsampled_marginal_CME_2_constraints\n",
      "    z == k_deg_2 * pd2[1] - k_tx_2 * fm2[0] * pd2[0],\n",
      "                   ~~~^^^\n",
      "  File \"src\\\\gurobipy\\\\mvar.pxi\", line 265, in gurobipy._matrixapi.MVar.__getitem__\n",
      "IndexError: index 1 is out of bounds for axis 0 with size 1\n",
      "Traceback (most recent call last):\n",
      "  File \"d:\\Projects\\ProjectPaper\\M5R_venv\\Lib\\site-packages\\interaction_inference\\optimization.py\", line 85, in analyse_dataset\n",
      "    solution_dict[i] = self.optimize(i)\n",
      "                       ^^^^^^^^^^^^^^^^\n",
      "  File \"d:\\Projects\\ProjectPaper\\M5R_venv\\Lib\\site-packages\\interaction_inference\\optimization.py\", line 133, in optimize\n",
      "    constraints.add_constraints(self, model, variables, i)\n",
      "  File \"d:\\Projects\\ProjectPaper\\M5R_venv\\Lib\\site-packages\\interaction_inference\\constraints.py\", line 298, in add_constraints\n",
      "    add_downsampled_marginal_CME_2_constraints(\n",
      "  File \"d:\\Projects\\ProjectPaper\\M5R_venv\\Lib\\site-packages\\interaction_inference\\constraints.py\", line 885, in add_downsampled_marginal_CME_2_constraints\n",
      "    z == k_deg_2 * pd2[1] - k_tx_2 * fm2[0] * pd2[0],\n",
      "                   ~~~^^^\n",
      "  File \"src\\\\gurobipy\\\\mvar.pxi\", line 265, in gurobipy._matrixapi.MVar.__getitem__\n",
      "IndexError: index 1 is out of bounds for axis 0 with size 1\n"
     ]
    },
    {
     "name": "stdout",
     "output_type": "stream",
     "text": [
      "Optimization failed: index 1 is out of bounds for axis 0 with size 1\n",
      "Optimization failed: index 1 is out of bounds for axis 0 with size 1\n",
      "Optimization failed: index 1 is out of bounds for axis 0 with size 1\n",
      "Optimization failed: index 1 is out of bounds for axis 0 with size 1\n",
      "Optimization failed: index 1 is out of bounds for axis 0 with size 1\n",
      "Optimization failed: index 1 is out of bounds for axis 0 with size 1\n",
      "Optimization failed: index 1 is out of bounds for axis 0 with size 1\n"
     ]
    },
    {
     "name": "stderr",
     "output_type": "stream",
     "text": [
      " 90%|█████████ | 45/50 [02:15<00:35,  7.04s/it]Traceback (most recent call last):\n",
      "  File \"d:\\Projects\\ProjectPaper\\M5R_venv\\Lib\\site-packages\\interaction_inference\\optimization.py\", line 85, in analyse_dataset\n",
      "    solution_dict[i] = self.optimize(i)\n",
      "                       ^^^^^^^^^^^^^^^^\n",
      "  File \"d:\\Projects\\ProjectPaper\\M5R_venv\\Lib\\site-packages\\interaction_inference\\optimization.py\", line 133, in optimize\n",
      "    constraints.add_constraints(self, model, variables, i)\n",
      "  File \"d:\\Projects\\ProjectPaper\\M5R_venv\\Lib\\site-packages\\interaction_inference\\constraints.py\", line 298, in add_constraints\n",
      "    add_downsampled_marginal_CME_2_constraints(\n",
      "  File \"d:\\Projects\\ProjectPaper\\M5R_venv\\Lib\\site-packages\\interaction_inference\\constraints.py\", line 885, in add_downsampled_marginal_CME_2_constraints\n",
      "    z == k_deg_2 * pd2[1] - k_tx_2 * fm2[0] * pd2[0],\n",
      "                   ~~~^^^\n",
      "  File \"src\\\\gurobipy\\\\mvar.pxi\", line 265, in gurobipy._matrixapi.MVar.__getitem__\n",
      "IndexError: index 1 is out of bounds for axis 0 with size 1\n",
      "Traceback (most recent call last):\n",
      "  File \"d:\\Projects\\ProjectPaper\\M5R_venv\\Lib\\site-packages\\interaction_inference\\optimization.py\", line 85, in analyse_dataset\n",
      "    solution_dict[i] = self.optimize(i)\n",
      "                       ^^^^^^^^^^^^^^^^\n",
      "  File \"d:\\Projects\\ProjectPaper\\M5R_venv\\Lib\\site-packages\\interaction_inference\\optimization.py\", line 133, in optimize\n",
      "    constraints.add_constraints(self, model, variables, i)\n",
      "  File \"d:\\Projects\\ProjectPaper\\M5R_venv\\Lib\\site-packages\\interaction_inference\\constraints.py\", line 298, in add_constraints\n",
      "    add_downsampled_marginal_CME_2_constraints(\n",
      "  File \"d:\\Projects\\ProjectPaper\\M5R_venv\\Lib\\site-packages\\interaction_inference\\constraints.py\", line 885, in add_downsampled_marginal_CME_2_constraints\n",
      "    z == k_deg_2 * pd2[1] - k_tx_2 * fm2[0] * pd2[0],\n",
      "                   ~~~^^^\n",
      "  File \"src\\\\gurobipy\\\\mvar.pxi\", line 265, in gurobipy._matrixapi.MVar.__getitem__\n",
      "IndexError: index 1 is out of bounds for axis 0 with size 1\n",
      "100%|██████████| 50/50 [02:15<00:00,  2.71s/it]"
     ]
    },
    {
     "name": "stdout",
     "output_type": "stream",
     "text": [
      "Optimization failed: index 1 is out of bounds for axis 0 with size 1\n",
      "Optimization failed: index 1 is out of bounds for axis 0 with size 1\n"
     ]
    },
    {
     "name": "stderr",
     "output_type": "stream",
     "text": [
      "\n"
     ]
    }
   ],
   "source": [
    "# optimization analysis\n",
    "even_results = optimization.Optimization(\n",
    "    dataset_single_FIB,\n",
    "    [\n",
    "        \"downsampled_marginal_probability_2\",\n",
    "        \"downsampled_marginal_CME_2\",\n",
    "        \"k_deg_2\"\n",
    "    ],\n",
    "    tqdm_disable=False,\n",
    "    print_solution=False,\n",
    "    license_file=\"D:/WLS_credentials.json\"\n",
    ")"
   ]
  },
  {
   "cell_type": "code",
   "execution_count": 57,
   "metadata": {},
   "outputs": [],
   "source": [
    "# combine results of feasibility test\n",
    "feasible_results = []\n",
    "for k in range(gene_pairs):\n",
    "    feasible_results.append(even_results.result_dict[k]['status'])\n",
    "    feasible_results.append(odd_results.result_dict[k]['status'])"
   ]
  },
  {
   "cell_type": "code",
   "execution_count": 60,
   "metadata": {},
   "outputs": [
    {
     "name": "stdout",
     "output_type": "stream",
     "text": [
      "42 Failed \n",
      "44 Feasible \n",
      "14 Infeasible\n"
     ]
    },
    {
     "data": {
      "image/png": "[encoded data removed]",
      "text/plain": [
       "<Figure size 640x480 with 1 Axes>"
      ]
     },
     "metadata": {},
     "output_type": "display_data"
    }
   ],
   "source": [
    "num_failed = (np.array(feasible_results) == None).sum()\n",
    "num_feasible = (np.array(feasible_results) == 'OPTIMAL').sum()\n",
    "num_infeasible = (np.array(feasible_results) == 'INFEASIBLE').sum()\n",
    "\n",
    "print(f\"{num_failed} Failed \\n{num_feasible} Feasible \\n{num_infeasible} Infeasible\")\n",
    "\n",
    "plt.bar([\"Failed\", \"Feasible\", \"Infeasible\"], [num_failed, num_feasible, num_infeasible]);"
   ]
  }
 ],
 "metadata": {
  "kernelspec": {
   "display_name": "M5R_venv",
   "language": "python",
   "name": "python3"
  },
  "language_info": {
   "codemirror_mode": {
    "name": "ipython",
    "version": 3
   },
   "file_extension": ".py",
   "mimetype": "text/x-python",
   "name": "python",
   "nbconvert_exporter": "python",
   "pygments_lexer": "ipython3",
   "version": "3.12.2"
  }
 },
 "nbformat": 4,
 "nbformat_minor": 2
}
