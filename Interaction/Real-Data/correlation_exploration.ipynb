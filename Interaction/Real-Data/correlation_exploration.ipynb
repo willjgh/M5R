{
 "cells": [
  {
   "cell_type": "code",
   "execution_count": 108,
   "metadata": {},
   "outputs": [],
   "source": [
    "import pandas as pd\n",
    "import matplotlib.pyplot as plt\n",
    "from matplotlib.colors import LinearSegmentedColormap\n",
    "import numpy as np\n",
    "from interaction_inference import dataset, correlation"
   ]
  },
  {
   "cell_type": "markdown",
   "metadata": {},
   "source": [
    "## Dataset (PNAS Smart-seq-total paper)\n",
    "\n",
    "Load dataset of single genes"
   ]
  },
  {
   "cell_type": "code",
   "execution_count": 142,
   "metadata": {},
   "outputs": [],
   "source": [
    "data_FIB = pd.read_csv(\"./Datasets/GSE151334_FIB_counts_thresh.csv\", index_col=0)"
   ]
  },
  {
   "cell_type": "markdown",
   "metadata": {},
   "source": [
    "### Construct dataset of pairs"
   ]
  },
  {
   "cell_type": "code",
   "execution_count": 143,
   "metadata": {},
   "outputs": [],
   "source": [
    "# size\n",
    "genes = 100\n",
    "gene_pairs = (genes * (genes - 1) // 2) + genes\n",
    "cells = data_FIB.shape[1]\n",
    "\n",
    "# construct paired count dataframe\n",
    "counts_df = pd.DataFrame(\n",
    "    index = [f\"Gene-pair-{i}\" for i in range(gene_pairs)],\n",
    "    columns = [f\"Cell-{j}\" for j in range(cells)]\n",
    ")\n",
    "\n",
    "# fill with pairs\n",
    "k = 0\n",
    "for i in range(genes):\n",
    "    gene_i = data_FIB.iloc[i]\n",
    "    for j in range(genes):\n",
    "        if j > i:\n",
    "            break\n",
    "        gene_j = data_FIB.iloc[j]\n",
    "        gene_pair_ij = list(zip(gene_i, gene_j))\n",
    "        counts_df.iloc[k] = gene_pair_ij\n",
    "        k += 1\n",
    "\n",
    "# construct object\n",
    "dataset_FIB = dataset.Dataset(\"dataset_FIB\")\n",
    "dataset_FIB.count_dataset = counts_df\n",
    "dataset_FIB.cells = cells\n",
    "dataset_FIB.gene_pairs = gene_pairs"
   ]
  },
  {
   "cell_type": "markdown",
   "metadata": {},
   "source": [
    "### Correlation analysis"
   ]
  },
  {
   "cell_type": "code",
   "execution_count": 187,
   "metadata": {},
   "outputs": [
    {
     "name": "stderr",
     "output_type": "stream",
     "text": [
      "100%|██████████| 5050/5050 [00:14<00:00, 359.45it/s]\n"
     ]
    }
   ],
   "source": [
    "correlation_FIB = correlation.Correlation(dataset_FIB, printing=False)"
   ]
  },
  {
   "cell_type": "code",
   "execution_count": 188,
   "metadata": {},
   "outputs": [],
   "source": [
    "pvalue_array = np.zeros((genes, genes))\n",
    "k = 0\n",
    "for i in range(genes):\n",
    "    for j in range(genes):\n",
    "        # ignore above diagonal\n",
    "        if j > i:\n",
    "            pass\n",
    "        else:\n",
    "            pvalue_array[i, j] = correlation_FIB.result_dict[k]['pvalue']\n",
    "            k += 1\n",
    "\n",
    "# fill above diagonal by symmetry\n",
    "for i in range(genes):\n",
    "    for j in range(genes):\n",
    "        if j > i:\n",
    "            pvalue_array[i, j] = pvalue_array[j, i]"
   ]
  },
  {
   "cell_type": "code",
   "execution_count": 189,
   "metadata": {},
   "outputs": [
    {
     "data": {
      "text/plain": [
       "(np.float64(-0.5), np.float64(99.5), np.float64(99.5), np.float64(-0.5))"
      ]
     },
     "execution_count": 189,
     "metadata": {},
     "output_type": "execute_result"
    },
    {
     "data": {
      "image/png": "[encoded data removed]",
      "text/plain": [
       "<Figure size 500x600 with 1 Axes>"
      ]
     },
     "metadata": {},
     "output_type": "display_data"
    }
   ],
   "source": [
    "sig_lvl = 0.05\n",
    "eps = 10**-6\n",
    "\n",
    "fig, axs = plt.subplots(figsize=(5, 6))\n",
    "cmap = LinearSegmentedColormap.from_list('br', [(0, \"r\"), (sig_lvl - eps, \"r\"), (sig_lvl + eps, \"b\"), (1, \"b\")], N=256)\n",
    "vmin, vmax = 0, 1\n",
    "img = axs.imshow(pvalue_array, cmap=cmap, vmin=vmin, vmax=vmax)\n",
    "axs.set_title(\"Pairwise gene correlations\")\n",
    "plt.axis('off')\n",
    "#cbar = plt.colorbar(img, ax=axs)\n",
    "#cbar.set_label(\"p-value\")"
   ]
  },
  {
   "cell_type": "code",
   "execution_count": 190,
   "metadata": {},
   "outputs": [
    {
     "name": "stderr",
     "output_type": "stream",
     "text": [
      "100%|██████████| 5050/5050 [00:13<00:00, 374.64it/s]\n"
     ]
    }
   ],
   "source": [
    "correlation_two_FIB = correlation.Correlation(dataset_FIB, alternative=\"two-sided\", printing=False)"
   ]
  },
  {
   "cell_type": "code",
   "execution_count": 191,
   "metadata": {},
   "outputs": [],
   "source": [
    "pvalue_two_array = np.zeros((genes, genes))\n",
    "k = 0\n",
    "for i in range(genes):\n",
    "    for j in range(genes):\n",
    "        # ignore above diagonal\n",
    "        if j > i:\n",
    "            pass\n",
    "        else:\n",
    "            pvalue_two_array[i, j] = correlation_two_FIB.result_dict[k]['statistic']\n",
    "            k += 1\n",
    "\n",
    "# fill above diagonal by symmetry\n",
    "for i in range(genes):\n",
    "    for j in range(genes):\n",
    "        if j > i:\n",
    "            pvalue_two_array[i, j] = pvalue_two_array[j, i]"
   ]
  },
  {
   "cell_type": "code",
   "execution_count": 192,
   "metadata": {},
   "outputs": [
    {
     "data": {
      "text/plain": [
       "(np.float64(-0.5), np.float64(99.5), np.float64(99.5), np.float64(-0.5))"
      ]
     },
     "execution_count": 192,
     "metadata": {},
     "output_type": "execute_result"
    },
    {
     "data": {
      "image/png": "[encoded data removed]",
      "text/plain": [
       "<Figure size 500x600 with 1 Axes>"
      ]
     },
     "metadata": {},
     "output_type": "display_data"
    }
   ],
   "source": [
    "sig_lvl = 0.05\n",
    "eps = 10**-6\n",
    "\n",
    "fig, axs = plt.subplots(figsize=(5, 6))\n",
    "cmap = LinearSegmentedColormap.from_list('br', [(0, \"r\"), (sig_lvl - eps, \"r\"), (sig_lvl + eps, \"b\"), (1, \"b\")], N=256)\n",
    "vmin, vmax = 0, 1\n",
    "img = axs.imshow(pvalue_two_array, cmap=cmap, vmin=vmin, vmax=vmax)\n",
    "axs.set_title(\"Pairwise gene correlations\")\n",
    "plt.axis('off')\n",
    "#cbar = plt.colorbar(img, ax=axs)\n",
    "#cbar.set_label(\"p-value\")"
   ]
  },
  {
   "cell_type": "code",
   "execution_count": null,
   "metadata": {},
   "outputs": [
    {
     "data": {
      "text/plain": [
       "{'pvalue': 0.0, 'statistic': 1.0}"
      ]
     },
     "execution_count": 178,
     "metadata": {},
     "output_type": "execute_result"
    }
   ],
   "source": [
    "# extra code for statistic grid\n",
    "sig_lvl = 0.001\n",
    "eps = 10**-6\n",
    "\n",
    "def trf(x):\n",
    "    return (x+1)/2\n",
    "\n",
    "fig, axs = plt.subplots(figsize=(7, 8))\n",
    "cmap = LinearSegmentedColormap.from_list('br', [(trf(-1), \"y\"), (trf(-sig_lvl - eps), \"y\"), (trf(-sig_lvl + eps), \"r\"), (trf(0), \"r\"), (trf(sig_lvl - eps), \"r\"), (trf(sig_lvl + eps), \"b\"), (trf(1), \"b\")], N=256)\n",
    "vmin, vmax = -1, 1\n",
    "img = axs.imshow(pvalue_two_array, cmap=cmap, vmin=vmin, vmax=vmax)\n",
    "axs.set_title(\"Pairwise gene correlations\")\n",
    "plt.axis('off')\n",
    "cbar = plt.colorbar(img, ax=axs)\n",
    "cbar.set_label(\"p-value\")"
   ]
  }
 ],
 "metadata": {
  "kernelspec": {
   "display_name": "M5R_venv",
   "language": "python",
   "name": "python3"
  },
  "language_info": {
   "codemirror_mode": {
    "name": "ipython",
    "version": 3
   },
   "file_extension": ".py",
   "mimetype": "text/x-python",
   "name": "python",
   "nbconvert_exporter": "python",
   "pygments_lexer": "ipython3",
   "version": "3.10.11"
  }
 },
 "nbformat": 4,
 "nbformat_minor": 2
}
