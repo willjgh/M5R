{
 "cells": [
  {
   "cell_type": "code",
   "execution_count": 2,
   "metadata": {},
   "outputs": [],
   "source": [
    "import pandas as pd\n",
    "import matplotlib.pyplot as plt\n",
    "import numpy as np"
   ]
  },
  {
   "cell_type": "markdown",
   "metadata": {},
   "source": [
    "## Dataset (PNAS Smart-seq-total paper)\n",
    "\n",
    "Large dataset with rows representing genes and columns cells, with entries the recorded transcript counts\n",
    "- ~50,000 genes listed but many have zero counts recorded and are not relevant / useful\n",
    "- 3 types of cells combined: fibroblasts, HEK, MCF cell lines"
   ]
  },
  {
   "cell_type": "code",
   "execution_count": 3,
   "metadata": {},
   "outputs": [],
   "source": [
    "data = pd.read_csv(\"./Datasets/GSE151334_counts.human_download.csv\", index_col=0)"
   ]
  },
  {
   "cell_type": "code",
   "execution_count": 4,
   "metadata": {},
   "outputs": [
    {
     "data": {
      "text/html": [
       "<div>\n",
       "<style scoped>\n",
       "    .dataframe tbody tr th:only-of-type {\n",
       "        vertical-align: middle;\n",
       "    }\n",
       "\n",
       "    .dataframe tbody tr th {\n",
       "        vertical-align: top;\n",
       "    }\n",
       "\n",
       "    .dataframe thead th {\n",
       "        text-align: right;\n",
       "    }\n",
       "</style>\n",
       "<table border=\"1\" class=\"dataframe\">\n",
       "  <thead>\n",
       "    <tr style=\"text-align: right;\">\n",
       "      <th></th>\n",
       "      <th>Fibroblasts_A10_S10</th>\n",
       "      <th>Fibroblasts_A11_S11</th>\n",
       "      <th>Fibroblasts_A2_S2</th>\n",
       "      <th>Fibroblasts_A3_S3</th>\n",
       "      <th>Fibroblasts_A4_S4</th>\n",
       "      <th>Fibroblasts_A5_S5</th>\n",
       "      <th>Fibroblasts_A7_S7</th>\n",
       "      <th>Fibroblasts_A8_S8</th>\n",
       "      <th>Fibroblasts_B10_S34</th>\n",
       "      <th>Fibroblasts_B11_S35</th>\n",
       "      <th>...</th>\n",
       "      <th>MCF7_O11_S347</th>\n",
       "      <th>MCF7_O12_S348</th>\n",
       "      <th>MCF7_O13_S349</th>\n",
       "      <th>MCF7_O17_S353</th>\n",
       "      <th>MCF7_O4_S340</th>\n",
       "      <th>MCF7_O5_S341</th>\n",
       "      <th>MCF7_O9_S345</th>\n",
       "      <th>MCF7_P17_S377</th>\n",
       "      <th>MCF7_P3_S363</th>\n",
       "      <th>MCF7_P4_S364</th>\n",
       "    </tr>\n",
       "  </thead>\n",
       "  <tbody>\n",
       "    <tr>\n",
       "      <th>7SK</th>\n",
       "      <td>18</td>\n",
       "      <td>3</td>\n",
       "      <td>6</td>\n",
       "      <td>8</td>\n",
       "      <td>35</td>\n",
       "      <td>0</td>\n",
       "      <td>0</td>\n",
       "      <td>21</td>\n",
       "      <td>9</td>\n",
       "      <td>9</td>\n",
       "      <td>...</td>\n",
       "      <td>100</td>\n",
       "      <td>25</td>\n",
       "      <td>44</td>\n",
       "      <td>40</td>\n",
       "      <td>16</td>\n",
       "      <td>37</td>\n",
       "      <td>11</td>\n",
       "      <td>14</td>\n",
       "      <td>15</td>\n",
       "      <td>18</td>\n",
       "    </tr>\n",
       "    <tr>\n",
       "      <th>A1BG</th>\n",
       "      <td>0</td>\n",
       "      <td>0</td>\n",
       "      <td>0</td>\n",
       "      <td>0</td>\n",
       "      <td>0</td>\n",
       "      <td>0</td>\n",
       "      <td>0</td>\n",
       "      <td>0</td>\n",
       "      <td>0</td>\n",
       "      <td>0</td>\n",
       "      <td>...</td>\n",
       "      <td>0</td>\n",
       "      <td>0</td>\n",
       "      <td>0</td>\n",
       "      <td>0</td>\n",
       "      <td>0</td>\n",
       "      <td>0</td>\n",
       "      <td>0</td>\n",
       "      <td>0</td>\n",
       "      <td>0</td>\n",
       "      <td>0</td>\n",
       "    </tr>\n",
       "    <tr>\n",
       "      <th>A1BG-AS1</th>\n",
       "      <td>0</td>\n",
       "      <td>0</td>\n",
       "      <td>0</td>\n",
       "      <td>0</td>\n",
       "      <td>0</td>\n",
       "      <td>0</td>\n",
       "      <td>0</td>\n",
       "      <td>0</td>\n",
       "      <td>0</td>\n",
       "      <td>0</td>\n",
       "      <td>...</td>\n",
       "      <td>0</td>\n",
       "      <td>0</td>\n",
       "      <td>0</td>\n",
       "      <td>0</td>\n",
       "      <td>0</td>\n",
       "      <td>0</td>\n",
       "      <td>0</td>\n",
       "      <td>0</td>\n",
       "      <td>0</td>\n",
       "      <td>0</td>\n",
       "    </tr>\n",
       "    <tr>\n",
       "      <th>A1CF</th>\n",
       "      <td>0</td>\n",
       "      <td>0</td>\n",
       "      <td>0</td>\n",
       "      <td>0</td>\n",
       "      <td>0</td>\n",
       "      <td>0</td>\n",
       "      <td>0</td>\n",
       "      <td>0</td>\n",
       "      <td>0</td>\n",
       "      <td>0</td>\n",
       "      <td>...</td>\n",
       "      <td>0</td>\n",
       "      <td>0</td>\n",
       "      <td>0</td>\n",
       "      <td>0</td>\n",
       "      <td>0</td>\n",
       "      <td>0</td>\n",
       "      <td>0</td>\n",
       "      <td>0</td>\n",
       "      <td>0</td>\n",
       "      <td>0</td>\n",
       "    </tr>\n",
       "    <tr>\n",
       "      <th>A2M</th>\n",
       "      <td>0</td>\n",
       "      <td>0</td>\n",
       "      <td>0</td>\n",
       "      <td>0</td>\n",
       "      <td>0</td>\n",
       "      <td>0</td>\n",
       "      <td>0</td>\n",
       "      <td>0</td>\n",
       "      <td>0</td>\n",
       "      <td>0</td>\n",
       "      <td>...</td>\n",
       "      <td>0</td>\n",
       "      <td>0</td>\n",
       "      <td>0</td>\n",
       "      <td>0</td>\n",
       "      <td>0</td>\n",
       "      <td>0</td>\n",
       "      <td>0</td>\n",
       "      <td>0</td>\n",
       "      <td>0</td>\n",
       "      <td>0</td>\n",
       "    </tr>\n",
       "  </tbody>\n",
       "</table>\n",
       "<p>5 rows × 633 columns</p>\n",
       "</div>"
      ],
      "text/plain": [
       "          Fibroblasts_A10_S10  Fibroblasts_A11_S11  Fibroblasts_A2_S2  \\\n",
       "7SK                        18                    3                  6   \n",
       "A1BG                        0                    0                  0   \n",
       "A1BG-AS1                    0                    0                  0   \n",
       "A1CF                        0                    0                  0   \n",
       "A2M                         0                    0                  0   \n",
       "\n",
       "          Fibroblasts_A3_S3  Fibroblasts_A4_S4  Fibroblasts_A5_S5  \\\n",
       "7SK                       8                 35                  0   \n",
       "A1BG                      0                  0                  0   \n",
       "A1BG-AS1                  0                  0                  0   \n",
       "A1CF                      0                  0                  0   \n",
       "A2M                       0                  0                  0   \n",
       "\n",
       "          Fibroblasts_A7_S7  Fibroblasts_A8_S8  Fibroblasts_B10_S34  \\\n",
       "7SK                       0                 21                    9   \n",
       "A1BG                      0                  0                    0   \n",
       "A1BG-AS1                  0                  0                    0   \n",
       "A1CF                      0                  0                    0   \n",
       "A2M                       0                  0                    0   \n",
       "\n",
       "          Fibroblasts_B11_S35  ...  MCF7_O11_S347  MCF7_O12_S348  \\\n",
       "7SK                         9  ...            100             25   \n",
       "A1BG                        0  ...              0              0   \n",
       "A1BG-AS1                    0  ...              0              0   \n",
       "A1CF                        0  ...              0              0   \n",
       "A2M                         0  ...              0              0   \n",
       "\n",
       "          MCF7_O13_S349  MCF7_O17_S353  MCF7_O4_S340  MCF7_O5_S341  \\\n",
       "7SK                  44             40            16            37   \n",
       "A1BG                  0              0             0             0   \n",
       "A1BG-AS1              0              0             0             0   \n",
       "A1CF                  0              0             0             0   \n",
       "A2M                   0              0             0             0   \n",
       "\n",
       "          MCF7_O9_S345  MCF7_P17_S377  MCF7_P3_S363  MCF7_P4_S364  \n",
       "7SK                 11             14            15            18  \n",
       "A1BG                 0              0             0             0  \n",
       "A1BG-AS1             0              0             0             0  \n",
       "A1CF                 0              0             0             0  \n",
       "A2M                  0              0             0             0  \n",
       "\n",
       "[5 rows x 633 columns]"
      ]
     },
     "execution_count": 4,
     "metadata": {},
     "output_type": "execute_result"
    }
   ],
   "source": [
    "data.head()"
   ]
  },
  {
   "cell_type": "markdown",
   "metadata": {},
   "source": [
    "### Separate the 3 cell types"
   ]
  },
  {
   "cell_type": "code",
   "execution_count": 5,
   "metadata": {},
   "outputs": [
    {
     "name": "stdout",
     "output_type": "stream",
     "text": [
      "278 Fibroblast cells \n",
      "260 HEK cells \n",
      "95 MCF cells\n"
     ]
    }
   ],
   "source": [
    "Fibroblast_columns = [name for name in list(data.columns) if 'Fibroblasts' in name]\n",
    "HEK_columns = [name for name in list(data.columns) if 'HEK293T' in name]\n",
    "MCF_columns = [name for name in list(data.columns) if 'MCF7' in name]\n",
    "\n",
    "data_FIB = data[Fibroblast_columns]\n",
    "data_HEK = data[HEK_columns]\n",
    "data_MCF = data[MCF_columns]\n",
    "\n",
    "print(f\"{len(Fibroblast_columns)} Fibroblast cells \\n{len(HEK_columns)} HEK cells \\n{len(MCF_columns)} MCF cells\")"
   ]
  },
  {
   "cell_type": "markdown",
   "metadata": {},
   "source": [
    "### Remove zero count genes"
   ]
  },
  {
   "cell_type": "code",
   "execution_count": 6,
   "metadata": {},
   "outputs": [
    {
     "name": "stdout",
     "output_type": "stream",
     "text": [
      "23860 genes with zero counts in Fibroblasts cells\n",
      "22139 genes with zero counts in HEK cells\n",
      "33236 genes with zero counts in MCF cells\n"
     ]
    }
   ],
   "source": [
    "data_cleaned_FIB = data_FIB[data_FIB.max(axis=1) > 0]\n",
    "data_cleaned_HEK = data_HEK[data_HEK.max(axis=1) > 0]\n",
    "data_cleaned_MCF = data_MCF[data_MCF.max(axis=1) > 0]\n",
    "\n",
    "print(f\"{data_FIB.shape[0] - data_cleaned_FIB.shape[0]} genes with zero counts in Fibroblasts cells\")\n",
    "print(f\"{data_HEK.shape[0] - data_cleaned_HEK.shape[0]} genes with zero counts in HEK cells\")\n",
    "print(f\"{data_MCF.shape[0] - data_cleaned_MCF.shape[0]} genes with zero counts in MCF cells\")"
   ]
  },
  {
   "cell_type": "markdown",
   "metadata": {},
   "source": [
    "### Remove low mean expression genes\n",
    "\n",
    "Expect that genes with low mean expression (< 1) will be difficult to obtain any results from and so drop from dataset for initial tests.\n",
    "\n",
    "However, interaction can often 'switch off' genes leading to low mean expressions so need to be careful removing these. Look at the mean expression of results and see if we are able to infer any behaviour: may suggest dropped genes should be re-visited."
   ]
  },
  {
   "cell_type": "code",
   "execution_count": 7,
   "metadata": {},
   "outputs": [
    {
     "name": "stdout",
     "output_type": "stream",
     "text": [
      "22899 genes with mean counts < 1 in Fibroblasts cells\n",
      "22442 genes with mean counts < 1 in HEK cells\n",
      "12457 genes with mean counts < 1 in MCF cells\n"
     ]
    }
   ],
   "source": [
    "thresh = 1\n",
    "\n",
    "data_thresh_FIB = data_cleaned_FIB[data_cleaned_FIB.mean(axis=1) > thresh]\n",
    "data_thresh_HEK = data_cleaned_HEK[data_cleaned_HEK.mean(axis=1) > thresh]\n",
    "data_thresh_MCF = data_cleaned_MCF[data_cleaned_MCF.mean(axis=1) > thresh]\n",
    "\n",
    "print(f\"{data_cleaned_FIB.shape[0] - data_thresh_FIB.shape[0]} genes with mean counts < {thresh} in Fibroblasts cells\")\n",
    "print(f\"{data_cleaned_HEK.shape[0] - data_thresh_HEK.shape[0]} genes with mean counts < {thresh} in HEK cells\")\n",
    "print(f\"{data_cleaned_MCF.shape[0] - data_thresh_MCF.shape[0]} genes with mean counts < {thresh} in MCF cells\")"
   ]
  },
  {
   "cell_type": "markdown",
   "metadata": {},
   "source": [
    "### Mean expression histograms"
   ]
  },
  {
   "cell_type": "code",
   "execution_count": 8,
   "metadata": {},
   "outputs": [
    {
     "data": {
      "image/png": "[encoded data removed]",
      "text/plain": [
       "<Figure size 1500x500 with 3 Axes>"
      ]
     },
     "metadata": {},
     "output_type": "display_data"
    }
   ],
   "source": [
    "fig, axs = plt.subplots(1, 3, figsize=(15, 5))\n",
    "\n",
    "plt.suptitle(\"Mean expression histograms\")\n",
    "\n",
    "FIB_log_means = np.log10(data_thresh_FIB.mean(axis=1))\n",
    "FIB_hist = axs[0].hist(FIB_log_means, bins=100, color=\"red\");\n",
    "axs[0].set_title(\"FIB cells\")\n",
    "axs[0].set_xlabel(\"(log) mean expression\")\n",
    "axs[0].set_ylabel(\"Frequency\")\n",
    "\n",
    "HEK_log_means = np.log10(data_thresh_HEK.mean(axis=1))\n",
    "HEK_hist = axs[1].hist(HEK_log_means, bins=100, color=\"green\");\n",
    "axs[1].set_title(\"HEK cells\")\n",
    "axs[1].set_xlabel(\"(log) mean expression\")\n",
    "axs[1].set_ylabel(\"Frequency\")\n",
    "\n",
    "MCF_log_means = np.log10(data_thresh_MCF.mean(axis=1))\n",
    "MCF_hist = axs[2].hist(MCF_log_means, bins=100, color=\"blue\");\n",
    "axs[2].set_title(\"MCF cells\")\n",
    "axs[2].set_xlabel(\"(log) mean expression\")\n",
    "axs[2].set_ylabel(\"Frequency\")\n",
    "\n",
    "plt.show()"
   ]
  },
  {
   "cell_type": "markdown",
   "metadata": {},
   "source": [
    "### Save cleaned and threshold datasets"
   ]
  },
  {
   "cell_type": "code",
   "execution_count": 9,
   "metadata": {},
   "outputs": [],
   "source": [
    "data_cleaned_FIB.to_csv(\"./Datasets/GSE151334_FIB_counts_cleaned.csv\")\n",
    "data_cleaned_HEK.to_csv(\"./Datasets/GSE151334_HEK_counts_cleaned.csv\")\n",
    "data_cleaned_MCF.to_csv(\"./Datasets/GSE151334_MCF_counts_cleaned.csv\")"
   ]
  },
  {
   "cell_type": "code",
   "execution_count": 10,
   "metadata": {},
   "outputs": [],
   "source": [
    "data_thresh_FIB.to_csv(\"./Datasets/GSE151334_FIB_counts_thresh.csv\")\n",
    "data_thresh_HEK.to_csv(\"./Datasets/GSE151334_HEK_counts_thresh.csv\")\n",
    "data_thresh_MCF.to_csv(\"./Datasets/GSE151334_MCF_counts_thresh.csv\")"
   ]
  }
 ],
 "metadata": {
  "kernelspec": {
   "display_name": "M5R_venv",
   "language": "python",
   "name": "python3"
  },
  "language_info": {
   "codemirror_mode": {
    "name": "ipython",
    "version": 3
   },
   "file_extension": ".py",
   "mimetype": "text/x-python",
   "name": "python",
   "nbconvert_exporter": "python",
   "pygments_lexer": "ipython3",
   "version": "3.10.11"
  }
 },
 "nbformat": 4,
 "nbformat_minor": 2
}
