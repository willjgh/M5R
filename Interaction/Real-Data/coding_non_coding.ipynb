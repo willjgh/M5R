{
 "cells": [
  {
   "cell_type": "code",
   "execution_count": 6,
   "id": "16890bb7",
   "metadata": {},
   "outputs": [],
   "source": [
    "import pandas as pd\n",
    "import matplotlib.pyplot as plt\n",
    "from matplotlib.colors import LinearSegmentedColormap\n",
    "import numpy as np\n",
    "from interaction_inference import dataset, correlation, optimization\n",
    "import ensembl_rest as ens\n",
    "import time\n",
    "import json\n",
    "import plotly\n",
    "import plotly.graph_objects as go"
   ]
  },
  {
   "cell_type": "markdown",
   "id": "ba0030ca",
   "metadata": {},
   "source": [
    "# Coding - Non-coding Interactions\n",
    "\n",
    "Given a dataset of transcript counts for each gene across a set of cells we want to test for interaction between pairs of transcripts / genes.\n",
    "\n",
    "However, with such large datasets it is not practical to test all pairs and we should instead use prior information to select a good subset."
   ]
  },
  {
   "cell_type": "markdown",
   "id": "b08ae327",
   "metadata": {},
   "source": [
    "## RNA types\n",
    "\n",
    "Using the gene name / symbol (or ensembl ID) we can use a database such as Ensembl to lookup information about the gene and its transcripts such as its type:\n",
    "\n",
    "- protein coding\n",
    "- lncRNA\n",
    "- miRNA\n",
    "- ..."
   ]
  },
  {
   "cell_type": "code",
   "execution_count": 7,
   "id": "b7c32780",
   "metadata": {},
   "outputs": [
    {
     "data": {
      "text/html": [
       "<div>\n",
       "<style scoped>\n",
       "    .dataframe tbody tr th:only-of-type {\n",
       "        vertical-align: middle;\n",
       "    }\n",
       "\n",
       "    .dataframe tbody tr th {\n",
       "        vertical-align: top;\n",
       "    }\n",
       "\n",
       "    .dataframe thead th {\n",
       "        text-align: right;\n",
       "    }\n",
       "</style>\n",
       "<table border=\"1\" class=\"dataframe\">\n",
       "  <thead>\n",
       "    <tr style=\"text-align: right;\">\n",
       "      <th></th>\n",
       "      <th>Fibroblasts_A10_S10</th>\n",
       "      <th>Fibroblasts_A11_S11</th>\n",
       "      <th>Fibroblasts_A2_S2</th>\n",
       "      <th>Fibroblasts_A3_S3</th>\n",
       "      <th>Fibroblasts_A4_S4</th>\n",
       "      <th>Fibroblasts_A5_S5</th>\n",
       "      <th>Fibroblasts_A7_S7</th>\n",
       "      <th>Fibroblasts_A8_S8</th>\n",
       "      <th>Fibroblasts_B10_S34</th>\n",
       "      <th>Fibroblasts_B11_S35</th>\n",
       "      <th>...</th>\n",
       "      <th>Fibroblasts_P18_S378</th>\n",
       "      <th>Fibroblasts_P1_S361</th>\n",
       "      <th>Fibroblasts_P21_S381</th>\n",
       "      <th>Fibroblasts_P22_S382</th>\n",
       "      <th>Fibroblasts_P23_S383</th>\n",
       "      <th>Fibroblasts_P3_S363</th>\n",
       "      <th>Fibroblasts_P4_S364</th>\n",
       "      <th>Fibroblasts_P5_S365</th>\n",
       "      <th>Fibroblasts_P6_S366</th>\n",
       "      <th>Fibroblasts_P8_S368</th>\n",
       "    </tr>\n",
       "  </thead>\n",
       "  <tbody>\n",
       "    <tr>\n",
       "      <th>7SK</th>\n",
       "      <td>18</td>\n",
       "      <td>3</td>\n",
       "      <td>6</td>\n",
       "      <td>8</td>\n",
       "      <td>35</td>\n",
       "      <td>0</td>\n",
       "      <td>0</td>\n",
       "      <td>21</td>\n",
       "      <td>9</td>\n",
       "      <td>9</td>\n",
       "      <td>...</td>\n",
       "      <td>61</td>\n",
       "      <td>23</td>\n",
       "      <td>19</td>\n",
       "      <td>5</td>\n",
       "      <td>0</td>\n",
       "      <td>3</td>\n",
       "      <td>23</td>\n",
       "      <td>15</td>\n",
       "      <td>1</td>\n",
       "      <td>14</td>\n",
       "    </tr>\n",
       "    <tr>\n",
       "      <th>A4GALT</th>\n",
       "      <td>0</td>\n",
       "      <td>0</td>\n",
       "      <td>0</td>\n",
       "      <td>0</td>\n",
       "      <td>0</td>\n",
       "      <td>0</td>\n",
       "      <td>0</td>\n",
       "      <td>0</td>\n",
       "      <td>0</td>\n",
       "      <td>28</td>\n",
       "      <td>...</td>\n",
       "      <td>0</td>\n",
       "      <td>0</td>\n",
       "      <td>0</td>\n",
       "      <td>0</td>\n",
       "      <td>0</td>\n",
       "      <td>0</td>\n",
       "      <td>0</td>\n",
       "      <td>0</td>\n",
       "      <td>0</td>\n",
       "      <td>0</td>\n",
       "    </tr>\n",
       "    <tr>\n",
       "      <th>AAAS</th>\n",
       "      <td>0</td>\n",
       "      <td>0</td>\n",
       "      <td>0</td>\n",
       "      <td>0</td>\n",
       "      <td>0</td>\n",
       "      <td>0</td>\n",
       "      <td>0</td>\n",
       "      <td>0</td>\n",
       "      <td>3</td>\n",
       "      <td>4</td>\n",
       "      <td>...</td>\n",
       "      <td>0</td>\n",
       "      <td>0</td>\n",
       "      <td>0</td>\n",
       "      <td>0</td>\n",
       "      <td>705</td>\n",
       "      <td>0</td>\n",
       "      <td>5</td>\n",
       "      <td>0</td>\n",
       "      <td>0</td>\n",
       "      <td>0</td>\n",
       "    </tr>\n",
       "    <tr>\n",
       "      <th>AACS</th>\n",
       "      <td>0</td>\n",
       "      <td>0</td>\n",
       "      <td>0</td>\n",
       "      <td>0</td>\n",
       "      <td>0</td>\n",
       "      <td>0</td>\n",
       "      <td>0</td>\n",
       "      <td>1</td>\n",
       "      <td>0</td>\n",
       "      <td>0</td>\n",
       "      <td>...</td>\n",
       "      <td>0</td>\n",
       "      <td>0</td>\n",
       "      <td>0</td>\n",
       "      <td>0</td>\n",
       "      <td>0</td>\n",
       "      <td>0</td>\n",
       "      <td>4</td>\n",
       "      <td>55</td>\n",
       "      <td>22</td>\n",
       "      <td>42</td>\n",
       "    </tr>\n",
       "    <tr>\n",
       "      <th>AADAT</th>\n",
       "      <td>0</td>\n",
       "      <td>0</td>\n",
       "      <td>0</td>\n",
       "      <td>0</td>\n",
       "      <td>0</td>\n",
       "      <td>0</td>\n",
       "      <td>0</td>\n",
       "      <td>0</td>\n",
       "      <td>0</td>\n",
       "      <td>0</td>\n",
       "      <td>...</td>\n",
       "      <td>0</td>\n",
       "      <td>0</td>\n",
       "      <td>0</td>\n",
       "      <td>0</td>\n",
       "      <td>270</td>\n",
       "      <td>0</td>\n",
       "      <td>0</td>\n",
       "      <td>0</td>\n",
       "      <td>0</td>\n",
       "      <td>0</td>\n",
       "    </tr>\n",
       "  </tbody>\n",
       "</table>\n",
       "<p>5 rows × 278 columns</p>\n",
       "</div>"
      ],
      "text/plain": [
       "        Fibroblasts_A10_S10  Fibroblasts_A11_S11  Fibroblasts_A2_S2  \\\n",
       "7SK                      18                    3                  6   \n",
       "A4GALT                    0                    0                  0   \n",
       "AAAS                      0                    0                  0   \n",
       "AACS                      0                    0                  0   \n",
       "AADAT                     0                    0                  0   \n",
       "\n",
       "        Fibroblasts_A3_S3  Fibroblasts_A4_S4  Fibroblasts_A5_S5  \\\n",
       "7SK                     8                 35                  0   \n",
       "A4GALT                  0                  0                  0   \n",
       "AAAS                    0                  0                  0   \n",
       "AACS                    0                  0                  0   \n",
       "AADAT                   0                  0                  0   \n",
       "\n",
       "        Fibroblasts_A7_S7  Fibroblasts_A8_S8  Fibroblasts_B10_S34  \\\n",
       "7SK                     0                 21                    9   \n",
       "A4GALT                  0                  0                    0   \n",
       "AAAS                    0                  0                    3   \n",
       "AACS                    0                  1                    0   \n",
       "AADAT                   0                  0                    0   \n",
       "\n",
       "        Fibroblasts_B11_S35  ...  Fibroblasts_P18_S378  Fibroblasts_P1_S361  \\\n",
       "7SK                       9  ...                    61                   23   \n",
       "A4GALT                   28  ...                     0                    0   \n",
       "AAAS                      4  ...                     0                    0   \n",
       "AACS                      0  ...                     0                    0   \n",
       "AADAT                     0  ...                     0                    0   \n",
       "\n",
       "        Fibroblasts_P21_S381  Fibroblasts_P22_S382  Fibroblasts_P23_S383  \\\n",
       "7SK                       19                     5                     0   \n",
       "A4GALT                     0                     0                     0   \n",
       "AAAS                       0                     0                   705   \n",
       "AACS                       0                     0                     0   \n",
       "AADAT                      0                     0                   270   \n",
       "\n",
       "        Fibroblasts_P3_S363  Fibroblasts_P4_S364  Fibroblasts_P5_S365  \\\n",
       "7SK                       3                   23                   15   \n",
       "A4GALT                    0                    0                    0   \n",
       "AAAS                      0                    5                    0   \n",
       "AACS                      0                    4                   55   \n",
       "AADAT                     0                    0                    0   \n",
       "\n",
       "        Fibroblasts_P6_S366  Fibroblasts_P8_S368  \n",
       "7SK                       1                   14  \n",
       "A4GALT                    0                    0  \n",
       "AAAS                      0                    0  \n",
       "AACS                     22                   42  \n",
       "AADAT                     0                    0  \n",
       "\n",
       "[5 rows x 278 columns]"
      ]
     },
     "execution_count": 7,
     "metadata": {},
     "output_type": "execute_result"
    }
   ],
   "source": [
    "data_FIB = pd.read_csv(\"./Datasets/GSE151334_FIB_counts_thresh.csv\", index_col=0)\n",
    "data_FIB.head()"
   ]
  },
  {
   "cell_type": "code",
   "execution_count": null,
   "id": "16531afc",
   "metadata": {},
   "outputs": [],
   "source": [
    "'''\n",
    "API limit of 15 lookups per second + slow response time => ~40 minute runtime\n",
    "'''\n",
    "\n",
    "# get all gene symbols / names\n",
    "gene_symbols = list(data_FIB.index)\n",
    "\n",
    "# use emsembl API to lookup each gene, recording type or failure\n",
    "biotypes = []\n",
    "failures = 0\n",
    "for i, symbol in enumerate(gene_symbols):\n",
    "    if i % 14 == 0:\n",
    "        time.sleep(2)\n",
    "    try:\n",
    "        info = ens.symbol_lookup(\n",
    "            species='homo sapiens',\n",
    "            symbol=symbol\n",
    "        )\n",
    "        biotypes.append(info['biotype'])\n",
    "    except ens.HTTPError:\n",
    "        failures += 1\n",
    "        biotypes.append(\"Failure\")\n",
    "\n",
    "# some gene symbols reset in HTTP error due to no matching record in database\n",
    "print(f\"{failures} failed lookups\")"
   ]
  },
  {
   "cell_type": "code",
   "execution_count": 8,
   "id": "2435f9db",
   "metadata": {},
   "outputs": [],
   "source": [
    "# read in from file\n",
    "biotypes_dict = json.load(open(\"./Datasets/GSE151334_RNA_types_thresh.json\"))\n",
    "biotypes_dict = {int(i): btype for i, btype in biotypes_dict.items()}\n",
    "biotypes = [btype for btype in biotypes_dict.values()]"
   ]
  },
  {
   "cell_type": "code",
   "execution_count": 9,
   "id": "63d20889",
   "metadata": {},
   "outputs": [
    {
     "data": {
      "image/png": "[encoded data removed]",
      "text/plain": [
       "<Figure size 640x480 with 1 Axes>"
      ]
     },
     "metadata": {},
     "output_type": "display_data"
    }
   ],
   "source": [
    "# display proportions of RNA types\n",
    "counts = np.unique(biotypes, return_counts=True)\n",
    "plt.pie(counts[1])\n",
    "plt.legend(loc=(-1, 0), labels=[f\"{name} ({round(100 * count / data_FIB.shape[0], 2)}%)\" for name, count in zip(counts[0], counts[1])])\n",
    "plt.title(\"RNA type proportions\")\n",
    "plt.show()"
   ]
  },
  {
   "cell_type": "markdown",
   "id": "ebc57d9d",
   "metadata": {},
   "source": [
    "## Prior selection\n",
    "\n",
    "To start with, we consider pairing 'protein coding' genes: which 'code' for proteins that are produced via transcription of RNA and then translation, with 'non-coding' genes: which do not 'code' for proteins but are suggested to play a crucial role in regulation of expression and other functions.\n",
    "\n",
    "We take genes with 'protein_coding' RNA type (but very large number, so start with a subset to test), 'lncRNA' long non-coding RNA, and 'miRNA' micro RNA - small non-coding RNA."
   ]
  },
  {
   "cell_type": "code",
   "execution_count": 10,
   "id": "de1904ef",
   "metadata": {},
   "outputs": [
    {
     "name": "stdout",
     "output_type": "stream",
     "text": [
      "9376 protein coding RNA \n",
      "162 lncRNA \n",
      "18 miRNA\n"
     ]
    }
   ],
   "source": [
    "# select indices of types\n",
    "pcRNA_indices = [idx for idx, val in enumerate(biotypes) if val == \"protein_coding\"]\n",
    "lncRNA_indices = [idx for idx, val in enumerate(biotypes) if val == \"lncRNA\"]\n",
    "miRNA_indices = [idx for idx, val in enumerate(biotypes) if val == \"miRNA\"]\n",
    "ncRNA_indices = [idx for idx, val in enumerate(biotypes) if not val == \"protein_coding\"]\n",
    "\n",
    "# select rows by index\n",
    "data_pcRNA = data_FIB.iloc[pcRNA_indices]\n",
    "data_lncRNA = data_FIB.iloc[lncRNA_indices]\n",
    "data_miRNA = data_FIB.iloc[miRNA_indices]\n",
    "data_ncRNA = data_FIB.iloc[ncRNA_indices]\n",
    "\n",
    "print(f\"{data_pcRNA.shape[0]} protein coding RNA \\n{data_lncRNA.shape[0]} lncRNA \\n{data_miRNA.shape[0]} miRNA\")"
   ]
  },
  {
   "cell_type": "markdown",
   "id": "912b2b3d",
   "metadata": {},
   "source": [
    "## Capture efficiency estimation\n",
    "\n",
    "To apply optimization methods we need an estimate of the capture efficiency present in the observations. This is done by normalizing the propotion of counts per cell (across all genes, relative to the counts over all cells and genes) to a set value e.g. 10% (with additional removal of outlying genes).\n",
    "\n",
    "Also investigate how the estimates change when computed for e.g. all gene types vs just protein coding genes"
   ]
  },
  {
   "cell_type": "code",
   "execution_count": 7,
   "id": "19e46ae5",
   "metadata": {},
   "outputs": [],
   "source": [
    "def estimate_capture(df, beta_mean=0.1):\n",
    "\n",
    "    # set mean beta\n",
    "    MeanBETA = beta_mean\n",
    "\n",
    "    #xx<-Matrix::colSums(Data)\n",
    "    xx = df.sum(axis='rows')\n",
    "\n",
    "    #Normcount <- t_sp(t_sp(Data)/xx) * mean(xx)\n",
    "    # Normcount <- Matrix::t(Matrix::t(Data)/xx) * mean(xx)\n",
    "    Normcount = (df / xx) * np.mean(xx) # sum = mean(xx) per column\n",
    "\n",
    "    #means <- Matrix::rowMeans(Normcount)\n",
    "    means = Normcount.mean(axis='columns')\n",
    "\n",
    "    #lmeans <- log(means)\n",
    "    lmean = np.log(means)\n",
    "\n",
    "    #med <- apply(log(Normcount + 1), 1, function(x) {\n",
    "    #    median(x)\n",
    "    #})\n",
    "    med = np.log(Normcount + 1).median(axis=1)\n",
    "\n",
    "    #mad <- apply(log(Normcount + 1), 1, function(x) {\n",
    "    #    mad(x)\n",
    "    #})\n",
    "    mad = np.log(Normcount + 1).apply(lambda row: (row - row.median()).abs().median(), axis=1)\n",
    "\n",
    "    #bound <- med + 3 * mad\n",
    "    bound = med + 3*mad\n",
    "\n",
    "    #maxlogGene <- apply(log(Normcount + 1), 1, max)\n",
    "    maxlogGene = np.log(Normcount + 1).max(axis=1)\n",
    "\n",
    "    #ind <- which(maxlogGene < bound)\n",
    "    ind = maxlogGene < bound\n",
    "\n",
    "    #dropout = apply(Data, 1, function(x) {\n",
    "    #    length(which(x == 0))/length(x)\n",
    "    #})\n",
    "    dropout = df.apply(lambda row: (row == 0).sum() / row.size, axis=1)\n",
    "\n",
    "\n",
    "    #Select_ind <- intersect(ind, which(dropout < 0.35))\n",
    "    Select_ind = ind & (dropout < 0.35)\n",
    "\n",
    "    # Selected_genes <- rownames(Data)[Select_ind]\n",
    "    Selected_genes = list(Select_ind.index)\n",
    "\n",
    "    #temppp <- Matrix::colSums(Data[Select_ind, ])\n",
    "    temppp = df[Select_ind].sum(axis=0)\n",
    "\n",
    "    #BETA <- temppp/mean(temppp) * MeanBETA\n",
    "    BETA = (temppp / temppp.mean()) * MeanBETA\n",
    "\n",
    "    #if (length(which(BETA >= 1)) > 0) {\n",
    "    #    BETA[BETA >= 1] = max(BETA[BETA < 1])\n",
    "    #}\n",
    "    #if (length(which(BETA <= 0)) > 0) {\n",
    "    #    BETA[BETA <= 0] = min(BETA[BETA > 0])\n",
    "    #}\n",
    "    if (BETA >= 1).size > 0:\n",
    "        BETA[BETA >= 1] = BETA[BETA < 1].max()\n",
    "    if (BETA <= 0).size > 0:\n",
    "        BETA[BETA <= 0] = BETA[BETA > 0].min()\n",
    "\n",
    "    #names(BETA) <- colnames(Data)\n",
    "\n",
    "    #return(list(BETA = BETA, Selected_genes = Selected_genes))\n",
    "    BETA = BETA.to_numpy()\n",
    "    \n",
    "    return BETA"
   ]
  },
  {
   "cell_type": "code",
   "execution_count": 8,
   "id": "4f085c3a",
   "metadata": {},
   "outputs": [],
   "source": [
    "def estimate_capture_naive(df, beta_mean=0.1):\n",
    "\n",
    "    # total counts per cell\n",
    "    total_per_cell = df.sum(axis='rows')\n",
    "\n",
    "    # total counts across all cells\n",
    "    total_overall = total_per_cell.sum()\n",
    "\n",
    "    # count proportions per cell (sum = 1)\n",
    "    count_proportion = (total_per_cell / total_overall).to_numpy()\n",
    "\n",
    "    # number of cells\n",
    "    n = count_proportion.size\n",
    "\n",
    "    # re-normalize\n",
    "    beta = count_proportion * beta_mean * n\n",
    "\n",
    "    # clamp values outside [0, 1]\n",
    "    if (beta >= 1).size > 0:\n",
    "        beta[beta >= 1] = beta[beta < 1].max()\n",
    "    if (beta <= 0).size > 0:\n",
    "        beta[beta <= 0] = beta[beta > 0].min()\n",
    "\n",
    "    return beta"
   ]
  },
  {
   "cell_type": "code",
   "execution_count": 9,
   "id": "935656b7",
   "metadata": {},
   "outputs": [],
   "source": [
    "beta_overall = estimate_capture(data_FIB)\n",
    "beta_naive_overall = estimate_capture_naive(data_FIB)"
   ]
  },
  {
   "cell_type": "code",
   "execution_count": 10,
   "id": "30300613",
   "metadata": {},
   "outputs": [],
   "source": [
    "beta_pcRNA= estimate_capture(data_pcRNA)\n",
    "beta_naive_pcRNA = estimate_capture_naive(data_pcRNA)"
   ]
  },
  {
   "cell_type": "code",
   "execution_count": 11,
   "id": "7b39d88d",
   "metadata": {},
   "outputs": [],
   "source": [
    "beta_ncRNA= estimate_capture(data_ncRNA)\n",
    "beta_naive_ncRNA = estimate_capture_naive(data_ncRNA)"
   ]
  },
  {
   "cell_type": "code",
   "execution_count": 12,
   "id": "9f51da06",
   "metadata": {},
   "outputs": [
    {
     "data": {
      "text/plain": [
       "Text(0.5, 1.0, 'Estimates of capture efficiency distributions')"
      ]
     },
     "execution_count": 12,
     "metadata": {},
     "output_type": "execute_result"
    },
    {
     "data": {
      "image/png": "[encoded data removed]",
      "text/plain": [
       "<Figure size 1200x600 with 1 Axes>"
      ]
     },
     "metadata": {},
     "output_type": "display_data"
    }
   ],
   "source": [
    "fig, axs = plt.subplots(figsize=(12, 6))\n",
    "vp = axs.violinplot(\n",
    "    [\n",
    "        beta_overall,\n",
    "        beta_naive_overall,\n",
    "        beta_pcRNA,\n",
    "        beta_naive_pcRNA,\n",
    "        beta_ncRNA,\n",
    "        beta_naive_ncRNA\n",
    "    ],\n",
    "    showextrema=False\n",
    ")\n",
    "colours = [\"blue\", \"cyan\", \"red\", \"pink\", \"green\", \"purple\"]\n",
    "for i, vi in enumerate(vp['bodies']):\n",
    "    vi.set_facecolor(colours[i])\n",
    "    vi.set_edgecolor(None)\n",
    "    vi.set_alpha(1)\n",
    "labels = [\"All genes \\n(BayNorm)\", \"All genes \\n(Naive)\", \"Coding genes \\n(BayNorm)\", \"Coding genes \\n(Naive)\", \"Non-coding genes \\n(BayNorm)\", \"Non-coding genes \\n(Naive)\"]\n",
    "axs.set_xticks(np.arange(1, len(labels) + 1), labels=labels)\n",
    "axs.set_xlim(0.25, len(labels) + 0.75)\n",
    "axs.set_xlabel('Estimation type: genes used (method)')\n",
    "axs.set_ylabel(\"Capture efficiency per cell\")\n",
    "axs.set_title(\"Estimates of capture efficiency distributions\")"
   ]
  },
  {
   "cell_type": "markdown",
   "id": "ba72ac8f",
   "metadata": {},
   "source": [
    "# Independent gene analysis\n",
    "\n",
    "For each gene we can test if the observed data is feasible under an independent model e.g. birth-death, telegraph, etc.\n",
    "\n",
    "This gives information both about the presence of interaction and the types of models that can explain expression."
   ]
  },
  {
   "cell_type": "markdown",
   "id": "627588d0",
   "metadata": {},
   "source": [
    "## Analysis\n",
    "\n",
    "The inference package is designed to work with paired data, so we construct a dataset object of 'pairs' by pairing each gene with zero values"
   ]
  },
  {
   "cell_type": "code",
   "execution_count": 13,
   "id": "4f62466f",
   "metadata": {},
   "outputs": [],
   "source": [
    "def construct_independent_dataset(name, df, beta, thresh_OB=5, resamples=1000):\n",
    "    '''\n",
    "    Construct dataset object from a dataframe. Each 'pair' is a row of the dataframe\n",
    "    paired with zeros to allow for independent feasibility tests.\n",
    "\n",
    "    name: dataset name\n",
    "    df: pandas dataframe of transcript counts\n",
    "    beta: estimated capture efficiency\n",
    "    thresh_OB: dataset bootstrap threshold\n",
    "    resamples: dataset bootstrap resamples\n",
    "    '''\n",
    "\n",
    "    # size\n",
    "    gene_pairs, cells = df.shape\n",
    "\n",
    "    # construct paired count dataframe\n",
    "    counts_df = pd.DataFrame(\n",
    "        index = [f\"Gene-pair-{i}\" for i in range(gene_pairs)],\n",
    "        columns = [f\"Cell-{j}\" for j in range(cells)]\n",
    "    )\n",
    "\n",
    "    # fill with pairs\n",
    "    for i in range(gene_pairs):\n",
    "        gene_i = df.iloc[i]\n",
    "        gene_j = [0 for i in range(cells)]\n",
    "        gene_pair_ij = list(zip(gene_i, gene_j))\n",
    "        counts_df.iloc[i] = gene_pair_ij\n",
    "\n",
    "    # construct dataset object\n",
    "    data = dataset.Dataset(name)\n",
    "    data.count_dataset = counts_df\n",
    "    data.cells = cells\n",
    "    data.gene_pairs = gene_pairs\n",
    "\n",
    "    # settings\n",
    "    data.thresh_OB = thresh_OB\n",
    "    data.threshM_OB = thresh_OB\n",
    "    data.resamples = resamples\n",
    "\n",
    "    # set capture\n",
    "    data.beta = beta\n",
    "\n",
    "    return data"
   ]
  },
  {
   "cell_type": "markdown",
   "id": "df0ce124",
   "metadata": {},
   "source": [
    "### Protein Coding RNA (subset)"
   ]
  },
  {
   "cell_type": "code",
   "execution_count": 14,
   "id": "94b6d34a",
   "metadata": {},
   "outputs": [],
   "source": [
    "# select a subset of protein coding genes\n",
    "data_pcRNA_subset = data_pcRNA.iloc[0:100, :]"
   ]
  },
  {
   "cell_type": "code",
   "execution_count": 15,
   "id": "15c39fb0",
   "metadata": {},
   "outputs": [],
   "source": [
    "dataset_pcRNA = construct_independent_dataset(\"pcRNA\", data_pcRNA_subset, beta_overall)"
   ]
  },
  {
   "cell_type": "code",
   "execution_count": 16,
   "id": "67245b58",
   "metadata": {},
   "outputs": [
    {
     "name": "stderr",
     "output_type": "stream",
     "text": [
      " 10%|█         | 10/100 [00:00<00:00, 98.37it/s]"
     ]
    },
    {
     "name": "stdout",
     "output_type": "stream",
     "text": [
      "Truncation extended from [0, 0] to [0, 1]\n",
      "Truncation extended from [0, 0] to [0, 1]\n",
      "Truncation extended from [0, 0] to [0, 1]\n",
      "Truncation extended from [0, 0] to [0, 1]\n",
      "Truncation extended from [0, 0] to [0, 1]\n",
      "Truncation extended from [0, 0] to [0, 1]\n",
      "Truncation extended from [0, 0] to [0, 1]\n",
      "Truncation extended from [0, 0] to [0, 1]\n",
      "Truncation extended from [0, 0] to [0, 1]\n",
      "Truncation extended from [0, 0] to [0, 1]\n",
      "Truncation extended from [0, 0] to [0, 1]\n",
      "Truncation extended from [0, 0] to [0, 1]\n",
      "Truncation extended from [0, 0] to [0, 1]\n",
      "Truncation extended from [0, 0] to [0, 1]\n",
      "Truncation extended from [0, 0] to [0, 1]\n",
      "Truncation extended from [0, 0] to [0, 1]\n",
      "Truncation extended from [0, 0] to [0, 1]\n",
      "Truncation extended from [0, 0] to [0, 1]\n",
      "Truncation extended from [0, 0] to [0, 1]\n",
      "Truncation extended from [0, 0] to [0, 1]\n"
     ]
    },
    {
     "name": "stderr",
     "output_type": "stream",
     "text": [
      " 31%|███       | 31/100 [00:00<00:00, 83.48it/s]"
     ]
    },
    {
     "name": "stdout",
     "output_type": "stream",
     "text": [
      "Truncation extended from [0, 0] to [0, 1]\n",
      "Truncation extended from [0, 0] to [0, 1]\n",
      "Truncation extended from [0, 0] to [0, 1]\n",
      "Truncation extended from [0, 0] to [0, 1]\n",
      "Truncation extended from [0, 0] to [0, 1]\n",
      "Truncation extended from [0, 0] to [0, 1]\n",
      "Truncation extended from [0, 0] to [0, 1]\n",
      "Truncation extended from [0, 0] to [0, 1]\n",
      "Truncation extended from [0, 0] to [0, 1]\n",
      "Truncation extended from [0, 0] to [0, 1]\n",
      "Truncation extended from [0, 0] to [0, 1]\n",
      "Truncation extended from [0, 0] to [0, 1]\n",
      "Truncation extended from [0, 0] to [0, 1]\n",
      "Truncation extended from [0, 0] to [0, 1]\n",
      "Truncation extended from [0, 0] to [0, 1]\n",
      "Truncation extended from [0, 0] to [0, 1]\n"
     ]
    },
    {
     "name": "stderr",
     "output_type": "stream",
     "text": [
      " 50%|█████     | 50/100 [00:00<00:00, 80.37it/s]"
     ]
    },
    {
     "name": "stdout",
     "output_type": "stream",
     "text": [
      "Truncation extended from [0, 0] to [0, 1]\n",
      "Truncation extended from [0, 0] to [0, 1]\n",
      "Truncation extended from [0, 0] to [0, 1]\n",
      "Truncation extended from [0, 0] to [0, 1]\n",
      "Truncation extended from [0, 0] to [0, 1]\n",
      "Truncation extended from [0, 0] to [0, 1]\n",
      "Truncation extended from [0, 0] to [0, 1]\n",
      "Truncation extended from [0, 0] to [0, 1]\n",
      "Truncation extended from [0, 0] to [0, 1]\n",
      "Truncation extended from [0, 0] to [0, 1]\n",
      "Truncation extended from [0, 0] to [0, 1]\n",
      "Truncation extended from [0, 0] to [0, 1]\n",
      "Truncation extended from [0, 0] to [0, 1]\n",
      "Truncation extended from [0, 0] to [0, 1]\n",
      "Truncation extended from [0, 0] to [0, 1]\n"
     ]
    },
    {
     "name": "stderr",
     "output_type": "stream",
     "text": [
      " 59%|█████▉    | 59/100 [00:00<00:00, 77.20it/s]"
     ]
    },
    {
     "name": "stdout",
     "output_type": "stream",
     "text": [
      "Truncation extended from [0, 0] to [0, 1]\n",
      "Truncation extended from [0, 0] to [0, 1]\n",
      "Truncation extended from [0, 0] to [0, 1]\n",
      "Truncation extended from [0, 0] to [0, 1]\n",
      "Truncation extended from [0, 0] to [0, 1]\n",
      "Truncation extended from [0, 0] to [0, 1]\n",
      "Truncation extended from [0, 0] to [0, 1]\n",
      "Truncation extended from [0, 0] to [0, 1]\n",
      "Truncation extended from [0, 0] to [0, 1]\n",
      "Truncation extended from [0, 0] to [0, 1]\n",
      "Truncation extended from [0, 0] to [0, 1]\n",
      "Truncation extended from [0, 0] to [0, 1]\n",
      "Truncation extended from [0, 0] to [0, 1]\n",
      "Truncation extended from [0, 0] to [0, 1]\n",
      "Truncation extended from [0, 0] to [0, 1]\n",
      "Truncation extended from [0, 0] to [0, 1]\n",
      "Truncation extended from [0, 0] to [0, 1]\n"
     ]
    },
    {
     "name": "stderr",
     "output_type": "stream",
     "text": [
      " 76%|███████▌  | 76/100 [00:00<00:00, 75.70it/s]"
     ]
    },
    {
     "name": "stdout",
     "output_type": "stream",
     "text": [
      "Truncation extended from [0, 0] to [0, 1]\n",
      "Truncation extended from [0, 0] to [0, 1]\n",
      "Truncation extended from [0, 0] to [0, 1]\n",
      "Truncation extended from [0, 0] to [0, 1]\n",
      "Truncation extended from [0, 0] to [0, 1]\n",
      "Truncation extended from [0, 0] to [0, 1]\n",
      "Truncation extended from [0, 0] to [0, 1]\n",
      "Truncation extended from [0, 0] to [0, 1]\n",
      "Truncation extended from [0, 0] to [0, 1]\n",
      "Truncation extended from [0, 0] to [0, 1]\n",
      "Truncation extended from [0, 0] to [0, 1]\n",
      "Truncation extended from [0, 0] to [0, 1]\n",
      "Truncation extended from [0, 0] to [0, 1]\n",
      "Truncation extended from [0, 0] to [0, 1]\n",
      "Truncation extended from [0, 0] to [0, 1]\n",
      "Truncation extended from [0, 0] to [0, 1]\n",
      "Truncation extended from [0, 0] to [0, 1]\n",
      "Truncation extended from [0, 0] to [0, 1]\n"
     ]
    },
    {
     "name": "stderr",
     "output_type": "stream",
     "text": [
      "100%|██████████| 100/100 [00:01<00:00, 83.13it/s]"
     ]
    },
    {
     "name": "stdout",
     "output_type": "stream",
     "text": [
      "Truncation extended from [0, 0] to [0, 1]\n",
      "Truncation extended from [0, 0] to [0, 1]\n",
      "Truncation extended from [0, 0] to [0, 1]\n",
      "Truncation extended from [0, 0] to [0, 1]\n",
      "Truncation extended from [0, 0] to [0, 1]\n",
      "Truncation extended from [0, 0] to [0, 1]\n",
      "Truncation extended from [0, 0] to [0, 1]\n",
      "Truncation extended from [0, 0] to [0, 1]\n",
      "Truncation extended from [0, 0] to [0, 1]\n",
      "Truncation extended from [0, 0] to [0, 1]\n",
      "Truncation extended from [0, 0] to [0, 1]\n",
      "Truncation extended from [0, 0] to [0, 1]\n",
      "Truncation extended from [0, 0] to [0, 1]\n",
      "Truncation extended from [0, 0] to [0, 1]\n",
      "Truncation extended from [0, 0] to [0, 1]\n",
      "Truncation extended from [0, 0] to [0, 1]\n",
      "Truncation extended from [0, 0] to [0, 1]\n"
     ]
    },
    {
     "name": "stderr",
     "output_type": "stream",
     "text": [
      "\n"
     ]
    }
   ],
   "source": [
    "dataset_pcRNA.bootstrap_marginal_fm(tqdm_disable=False)"
   ]
  },
  {
   "cell_type": "code",
   "execution_count": 19,
   "id": "cdeaef63",
   "metadata": {},
   "outputs": [
    {
     "name": "stderr",
     "output_type": "stream",
     "text": [
      "  6%|▌         | 6/100 [00:00<00:01, 59.00it/s]"
     ]
    },
    {
     "name": "stdout",
     "output_type": "stream",
     "text": [
      "Truncation extended from [0, 0] to [0, 1]\n",
      "Truncation extended from [0, 0] to [0, 1]\n",
      "Truncation extended from [0, 0] to [0, 1]\n",
      "Truncation extended from [0, 0] to [0, 1]\n",
      "Truncation extended from [0, 0] to [0, 1]\n",
      "Truncation extended from [0, 0] to [0, 1]\n",
      "Truncation extended from [0, 0] to [0, 1]\n",
      "Truncation extended from [0, 0] to [0, 1]\n",
      "Truncation extended from [0, 0] to [0, 1]\n",
      "Truncation extended from [0, 0] to [0, 1]\n",
      "Truncation extended from [0, 0] to [0, 1]\n",
      "Truncation extended from [0, 0] to [0, 1]\n",
      "Truncation extended from [0, 0] to [0, 1]\n"
     ]
    },
    {
     "name": "stderr",
     "output_type": "stream",
     "text": [
      " 20%|██        | 20/100 [00:00<00:01, 55.96it/s]"
     ]
    },
    {
     "name": "stdout",
     "output_type": "stream",
     "text": [
      "Truncation extended from [0, 0] to [0, 1]\n",
      "Truncation extended from [0, 0] to [0, 1]\n",
      "Truncation extended from [0, 0] to [0, 1]\n",
      "Truncation extended from [0, 0] to [0, 1]\n",
      "Truncation extended from [0, 0] to [0, 1]\n",
      "Truncation extended from [0, 0] to [0, 1]\n",
      "Truncation extended from [0, 0] to [0, 1]\n",
      "Truncation extended from [0, 0] to [0, 1]\n",
      "Truncation extended from [0, 0] to [0, 1]\n",
      "Truncation extended from [0, 0] to [0, 1]\n",
      "Truncation extended from [0, 0] to [0, 1]\n"
     ]
    },
    {
     "name": "stderr",
     "output_type": "stream",
     "text": [
      " 27%|██▋       | 27/100 [00:00<00:01, 53.93it/s]"
     ]
    },
    {
     "name": "stdout",
     "output_type": "stream",
     "text": [
      "Truncation extended from [0, 0] to [0, 1]\n",
      "Truncation extended from [0, 0] to [0, 1]\n",
      "Truncation extended from [0, 0] to [0, 1]\n",
      "Truncation extended from [0, 0] to [0, 1]\n",
      "Truncation extended from [0, 0] to [0, 1]\n",
      "Truncation extended from [0, 0] to [0, 1]\n",
      "Truncation extended from [0, 0] to [0, 1]\n",
      "Truncation extended from [0, 0] to [0, 1]\n",
      "Truncation extended from [0, 0] to [0, 1]\n",
      "Truncation extended from [0, 0] to [0, 1]\n"
     ]
    },
    {
     "name": "stderr",
     "output_type": "stream",
     "text": [
      " 39%|███▉      | 39/100 [00:00<00:01, 53.73it/s]"
     ]
    },
    {
     "name": "stdout",
     "output_type": "stream",
     "text": [
      "Truncation extended from [0, 0] to [0, 1]\n",
      "Truncation extended from [0, 0] to [0, 1]\n",
      "Truncation extended from [0, 0] to [0, 1]\n",
      "Truncation extended from [0, 0] to [0, 1]\n",
      "Truncation extended from [0, 0] to [0, 1]\n",
      "Truncation extended from [0, 0] to [0, 1]\n",
      "Truncation extended from [0, 0] to [0, 1]\n",
      "Truncation extended from [0, 0] to [0, 1]\n",
      "Truncation extended from [0, 0] to [0, 1]\n",
      "Truncation extended from [0, 0] to [0, 1]\n",
      "Truncation extended from [0, 0] to [0, 1]\n",
      "Truncation extended from [0, 0] to [0, 1]\n",
      "Truncation extended from [0, 0] to [0, 1]\n"
     ]
    },
    {
     "name": "stderr",
     "output_type": "stream",
     "text": [
      " 54%|█████▍    | 54/100 [00:00<00:00, 57.88it/s]"
     ]
    },
    {
     "name": "stdout",
     "output_type": "stream",
     "text": [
      "Truncation extended from [0, 0] to [0, 1]\n",
      "Truncation extended from [0, 0] to [0, 1]\n",
      "Truncation extended from [0, 0] to [0, 1]\n",
      "Truncation extended from [0, 0] to [0, 1]\n",
      "Truncation extended from [0, 0] to [0, 1]\n",
      "Truncation extended from [0, 0] to [0, 1]\n",
      "Truncation extended from [0, 0] to [0, 1]\n",
      "Truncation extended from [0, 0] to [0, 1]\n",
      "Truncation extended from [0, 0] to [0, 1]\n",
      "Truncation extended from [0, 0] to [0, 1]\n",
      "Truncation extended from [0, 0] to [0, 1]\n",
      "Truncation extended from [0, 0] to [0, 1]\n"
     ]
    },
    {
     "name": "stderr",
     "output_type": "stream",
     "text": [
      " 67%|██████▋   | 67/100 [00:01<00:00, 58.39it/s]"
     ]
    },
    {
     "name": "stdout",
     "output_type": "stream",
     "text": [
      "Truncation extended from [0, 0] to [0, 1]\n",
      "Truncation extended from [0, 0] to [0, 1]\n",
      "Truncation extended from [0, 0] to [0, 1]\n",
      "Truncation extended from [0, 0] to [0, 1]\n",
      "Truncation extended from [0, 0] to [0, 1]\n",
      "Truncation extended from [0, 0] to [0, 1]\n",
      "Truncation extended from [0, 0] to [0, 1]\n",
      "Truncation extended from [0, 0] to [0, 1]\n",
      "Truncation extended from [0, 0] to [0, 1]\n",
      "Truncation extended from [0, 0] to [0, 1]\n",
      "Truncation extended from [0, 0] to [0, 1]\n",
      "Truncation extended from [0, 0] to [0, 1]\n",
      "Truncation extended from [0, 0] to [0, 1]\n",
      "Truncation extended from [0, 0] to [0, 1]\n",
      "Truncation extended from [0, 0] to [0, 1]\n"
     ]
    },
    {
     "name": "stderr",
     "output_type": "stream",
     "text": [
      " 74%|███████▍  | 74/100 [00:01<00:00, 59.69it/s]"
     ]
    },
    {
     "name": "stdout",
     "output_type": "stream",
     "text": [
      "Truncation extended from [0, 0] to [0, 1]\n",
      "Truncation extended from [0, 0] to [0, 1]\n",
      "Truncation extended from [0, 0] to [0, 1]\n",
      "Truncation extended from [0, 0] to [0, 1]\n",
      "Truncation extended from [0, 0] to [0, 1]\n",
      "Truncation extended from [0, 0] to [0, 1]\n",
      "Truncation extended from [0, 0] to [0, 1]\n"
     ]
    },
    {
     "name": "stderr",
     "output_type": "stream",
     "text": [
      " 86%|████████▌ | 86/100 [00:01<00:00, 46.49it/s]"
     ]
    },
    {
     "name": "stdout",
     "output_type": "stream",
     "text": [
      "Truncation extended from [0, 0] to [0, 1]\n",
      "Truncation extended from [0, 0] to [0, 1]\n",
      "Truncation extended from [0, 0] to [0, 1]\n",
      "Truncation extended from [0, 0] to [0, 1]\n",
      "Truncation extended from [0, 0] to [0, 1]\n",
      "Truncation extended from [0, 0] to [0, 1]\n",
      "Truncation extended from [0, 0] to [0, 1]\n",
      "Truncation extended from [0, 0] to [0, 1]\n",
      "Truncation extended from [0, 0] to [0, 1]\n",
      "Truncation extended from [0, 0] to [0, 1]\n",
      "Truncation extended from [0, 0] to [0, 1]\n"
     ]
    },
    {
     "name": "stderr",
     "output_type": "stream",
     "text": [
      "100%|██████████| 100/100 [00:01<00:00, 54.18it/s]"
     ]
    },
    {
     "name": "stdout",
     "output_type": "stream",
     "text": [
      "Truncation extended from [0, 0] to [0, 1]\n",
      "Truncation extended from [0, 0] to [0, 1]\n",
      "Truncation extended from [0, 0] to [0, 1]\n",
      "Truncation extended from [0, 0] to [0, 1]\n",
      "Truncation extended from [0, 0] to [0, 1]\n",
      "Truncation extended from [0, 0] to [0, 1]\n",
      "Truncation extended from [0, 0] to [0, 1]\n",
      "Truncation extended from [0, 0] to [0, 1]\n",
      "Truncation extended from [0, 0] to [0, 1]\n",
      "Truncation extended from [0, 0] to [0, 1]\n",
      "Truncation extended from [0, 0] to [0, 1]\n"
     ]
    },
    {
     "name": "stderr",
     "output_type": "stream",
     "text": [
      "\n"
     ]
    }
   ],
   "source": [
    "dataset_pcRNA.bootstrap_marginal_probabilities(tqdm_disable=False)"
   ]
  },
  {
   "cell_type": "code",
   "execution_count": 20,
   "id": "0e7ddf06",
   "metadata": {},
   "outputs": [
    {
     "name": "stderr",
     "output_type": "stream",
     "text": [
      " 93%|█████████▎| 93/100 [00:13<00:02,  2.50it/s]Traceback (most recent call last):\n",
      "  File \"c:\\Users\\willi\\Documents\\ProjectPaper\\M5R_venv\\lib\\site-packages\\interaction_inference\\optimization.py\", line 85, in analyse_dataset\n",
      "    solution_dict[i] = self.optimize(i)\n",
      "  File \"c:\\Users\\willi\\Documents\\ProjectPaper\\M5R_venv\\lib\\site-packages\\interaction_inference\\optimization.py\", line 130, in optimize\n",
      "    variables = constraints.add_variables(self, model, i)\n",
      "  File \"c:\\Users\\willi\\Documents\\ProjectPaper\\M5R_venv\\lib\\site-packages\\interaction_inference\\constraints.py\", line 134, in add_variables\n",
      "    variables['pd1'] = model.addMVar(shape=(optimization.dataset.truncationM_OB[f'sample-{i}']['maxM_x1_OB'] + 1), vtype=GRB.CONTINUOUS, name=\"pd1\", lb=0, ub=1)\n",
      "TypeError: unsupported operand type(s) for +: 'NoneType' and 'int'\n",
      "Traceback (most recent call last):\n",
      "  File \"c:\\Users\\willi\\Documents\\ProjectPaper\\M5R_venv\\lib\\site-packages\\interaction_inference\\optimization.py\", line 85, in analyse_dataset\n",
      "    solution_dict[i] = self.optimize(i)\n",
      "  File \"c:\\Users\\willi\\Documents\\ProjectPaper\\M5R_venv\\lib\\site-packages\\interaction_inference\\optimization.py\", line 130, in optimize\n",
      "    variables = constraints.add_variables(self, model, i)\n",
      "  File \"c:\\Users\\willi\\Documents\\ProjectPaper\\M5R_venv\\lib\\site-packages\\interaction_inference\\constraints.py\", line 134, in add_variables\n",
      "    variables['pd1'] = model.addMVar(shape=(optimization.dataset.truncationM_OB[f'sample-{i}']['maxM_x1_OB'] + 1), vtype=GRB.CONTINUOUS, name=\"pd1\", lb=0, ub=1)\n",
      "TypeError: unsupported operand type(s) for +: 'NoneType' and 'int'\n",
      " 98%|█████████▊| 98/100 [00:13<00:00,  4.16it/s]"
     ]
    },
    {
     "name": "stdout",
     "output_type": "stream",
     "text": [
      "Optimization failed: unsupported operand type(s) for +: 'NoneType' and 'int'\n",
      "Optimization failed: unsupported operand type(s) for +: 'NoneType' and 'int'\n"
     ]
    },
    {
     "name": "stderr",
     "output_type": "stream",
     "text": [
      "100%|██████████| 100/100 [00:20<00:00,  4.83it/s]\n"
     ]
    }
   ],
   "source": [
    "# birth death feasibility test\n",
    "optimization_pcRNA_BD = optimization.Optimization(\n",
    "    dataset_pcRNA,\n",
    "    [\n",
    "        \"downsampled_marginal_probability_1\",\n",
    "        \"downsampled_marginal_CME_1\",\n",
    "        \"k_deg_1\"\n",
    "    ],\n",
    "    tqdm_disable=False,\n",
    "    print_solution=False,\n",
    "    license_file=\"C:/WLS_credentials.json\"\n",
    ")"
   ]
  },
  {
   "cell_type": "code",
   "execution_count": 21,
   "id": "fe8ccead",
   "metadata": {},
   "outputs": [
    {
     "name": "stderr",
     "output_type": "stream",
     "text": [
      " 96%|█████████▌| 96/100 [00:14<00:00,  9.85it/s]Traceback (most recent call last):\n",
      "  File \"c:\\Users\\willi\\Documents\\ProjectPaper\\M5R_venv\\lib\\site-packages\\interaction_inference\\optimization.py\", line 85, in analyse_dataset\n",
      "    solution_dict[i] = self.optimize(i)\n",
      "  File \"c:\\Users\\willi\\Documents\\ProjectPaper\\M5R_venv\\lib\\site-packages\\interaction_inference\\optimization.py\", line 130, in optimize\n",
      "    variables = constraints.add_variables(self, model, i)\n",
      "  File \"c:\\Users\\willi\\Documents\\ProjectPaper\\M5R_venv\\lib\\site-packages\\interaction_inference\\constraints.py\", line 134, in add_variables\n",
      "    variables['pd1'] = model.addMVar(shape=(optimization.dataset.truncationM_OB[f'sample-{i}']['maxM_x1_OB'] + 1), vtype=GRB.CONTINUOUS, name=\"pd1\", lb=0, ub=1)\n",
      "TypeError: unsupported operand type(s) for +: 'NoneType' and 'int'\n",
      "Traceback (most recent call last):\n",
      "  File \"c:\\Users\\willi\\Documents\\ProjectPaper\\M5R_venv\\lib\\site-packages\\interaction_inference\\optimization.py\", line 85, in analyse_dataset\n",
      "    solution_dict[i] = self.optimize(i)\n",
      "  File \"c:\\Users\\willi\\Documents\\ProjectPaper\\M5R_venv\\lib\\site-packages\\interaction_inference\\optimization.py\", line 130, in optimize\n",
      "    variables = constraints.add_variables(self, model, i)\n",
      "  File \"c:\\Users\\willi\\Documents\\ProjectPaper\\M5R_venv\\lib\\site-packages\\interaction_inference\\constraints.py\", line 134, in add_variables\n",
      "    variables['pd1'] = model.addMVar(shape=(optimization.dataset.truncationM_OB[f'sample-{i}']['maxM_x1_OB'] + 1), vtype=GRB.CONTINUOUS, name=\"pd1\", lb=0, ub=1)\n",
      "TypeError: unsupported operand type(s) for +: 'NoneType' and 'int'\n",
      " 99%|█████████▉| 99/100 [00:14<00:00, 12.31it/s]"
     ]
    },
    {
     "name": "stdout",
     "output_type": "stream",
     "text": [
      "Optimization failed: unsupported operand type(s) for +: 'NoneType' and 'int'\n",
      "Optimization failed: unsupported operand type(s) for +: 'NoneType' and 'int'\n"
     ]
    },
    {
     "name": "stderr",
     "output_type": "stream",
     "text": [
      "100%|██████████| 100/100 [00:15<00:00,  6.58it/s]\n"
     ]
    }
   ],
   "source": [
    "# telegraph feasibility test\n",
    "optimization_pcRNA_TE = optimization.Optimization(\n",
    "    dataset_pcRNA,\n",
    "    [\n",
    "        \"downsampled_marginal_probability_1\",\n",
    "        \"downsampled_marginal_CME_TE_1\",\n",
    "        \"downsampled_marginal_TE_link_1\",\n",
    "        \"k_deg_1\"\n",
    "    ],\n",
    "    tqdm_disable=False,\n",
    "    print_solution=False,\n",
    "    license_file=\"C:/WLS_credentials.json\"\n",
    ")"
   ]
  },
  {
   "cell_type": "markdown",
   "id": "a819a87f",
   "metadata": {},
   "source": [
    "### lncRNA"
   ]
  },
  {
   "cell_type": "code",
   "execution_count": 22,
   "id": "f6221437",
   "metadata": {},
   "outputs": [],
   "source": [
    "dataset_lncRNA = construct_independent_dataset(\"lncRNA\", data_lncRNA, beta_overall)"
   ]
  },
  {
   "cell_type": "code",
   "execution_count": 23,
   "id": "7924a1f9",
   "metadata": {},
   "outputs": [
    {
     "name": "stderr",
     "output_type": "stream",
     "text": [
      "  6%|▌         | 10/162 [00:00<00:01, 93.83it/s]"
     ]
    },
    {
     "name": "stdout",
     "output_type": "stream",
     "text": [
      "Truncation extended from [0, 0] to [0, 1]\n",
      "Truncation extended from [0, 0] to [0, 1]\n",
      "Truncation extended from [0, 0] to [0, 1]\n",
      "Truncation extended from [0, 0] to [0, 1]\n",
      "Truncation extended from [0, 0] to [0, 1]\n",
      "Truncation extended from [0, 0] to [0, 1]\n",
      "Truncation extended from [0, 0] to [0, 1]\n",
      "Truncation extended from [0, 0] to [0, 1]\n",
      "Truncation extended from [0, 0] to [0, 1]\n",
      "Truncation extended from [0, 0] to [0, 1]\n",
      "Truncation extended from [0, 0] to [0, 1]\n",
      "Truncation extended from [0, 0] to [0, 1]\n",
      "Truncation extended from [0, 0] to [0, 1]\n",
      "Truncation extended from [0, 0] to [0, 1]\n",
      "Truncation extended from [0, 0] to [0, 1]\n",
      "Truncation extended from [0, 0] to [0, 1]\n",
      "Truncation extended from [0, 0] to [0, 1]\n",
      "Truncation extended from [0, 0] to [0, 1]\n",
      "Truncation extended from [0, 0] to [0, 1]\n",
      "Truncation extended from [0, 0] to [0, 1]\n",
      "Truncation extended from [0, 0] to [0, 1]\n",
      "Truncation extended from [0, 0] to [0, 1]\n",
      "Truncation extended from [0, 0] to [0, 1]\n",
      "Truncation extended from [0, 0] to [0, 1]\n",
      "Truncation extended from [0, 0] to [0, 1]\n"
     ]
    },
    {
     "name": "stderr",
     "output_type": "stream",
     "text": [
      " 20%|██        | 33/162 [00:00<00:01, 87.86it/s] "
     ]
    },
    {
     "name": "stdout",
     "output_type": "stream",
     "text": [
      "Truncation extended from [0, 0] to [0, 1]\n",
      "Truncation extended from [0, 0] to [0, 1]\n",
      "Truncation extended from [0, 0] to [0, 1]\n",
      "Truncation extended from [0, 0] to [0, 1]\n",
      "Truncation extended from [0, 0] to [0, 1]\n",
      "Truncation extended from [0, 0] to [0, 1]\n",
      "Truncation extended from [0, 0] to [0, 1]\n",
      "Truncation extended from [0, 0] to [0, 1]\n",
      "Truncation extended from [0, 0] to [0, 1]\n",
      "Truncation extended from [0, 0] to [0, 1]\n",
      "Truncation extended from [0, 0] to [0, 1]\n",
      "Truncation extended from [0, 0] to [0, 1]\n",
      "Truncation extended from [0, 0] to [0, 1]\n",
      "Truncation extended from [0, 0] to [0, 1]\n",
      "Truncation extended from [0, 0] to [0, 1]\n",
      "Truncation extended from [0, 0] to [0, 1]\n",
      "Truncation extended from [0, 0] to [0, 1]\n",
      "Truncation extended from [0, 0] to [0, 1]\n",
      "Truncation extended from [0, 0] to [0, 1]\n",
      "Truncation extended from [0, 0] to [0, 1]\n",
      "Truncation extended from [0, 0] to [0, 1]\n",
      "Truncation extended from [0, 0] to [0, 1]\n"
     ]
    },
    {
     "name": "stderr",
     "output_type": "stream",
     "text": [
      " 26%|██▌       | 42/162 [00:00<00:01, 86.73it/s]"
     ]
    },
    {
     "name": "stdout",
     "output_type": "stream",
     "text": [
      "Truncation extended from [0, 0] to [0, 1]\n",
      "Truncation extended from [0, 0] to [0, 1]\n",
      "Truncation extended from [0, 0] to [0, 1]\n",
      "Truncation extended from [0, 0] to [0, 1]\n",
      "Truncation extended from [0, 0] to [0, 1]\n",
      "Truncation extended from [0, 0] to [0, 1]\n",
      "Truncation extended from [0, 0] to [0, 1]\n",
      "Truncation extended from [0, 0] to [0, 1]\n",
      "Truncation extended from [0, 0] to [0, 1]\n",
      "Truncation extended from [0, 0] to [0, 1]\n",
      "Truncation extended from [0, 0] to [0, 1]\n",
      "Truncation extended from [0, 0] to [0, 1]\n",
      "Truncation extended from [0, 0] to [0, 1]\n",
      "Truncation extended from [0, 0] to [0, 1]\n",
      "Truncation extended from [0, 0] to [0, 1]\n",
      "Truncation extended from [0, 0] to [0, 1]\n",
      "Truncation extended from [0, 0] to [0, 1]\n",
      "Truncation extended from [0, 0] to [0, 1]\n"
     ]
    },
    {
     "name": "stderr",
     "output_type": "stream",
     "text": [
      " 38%|███▊      | 61/162 [00:00<00:01, 75.43it/s]"
     ]
    },
    {
     "name": "stdout",
     "output_type": "stream",
     "text": [
      "Truncation extended from [0, 0] to [0, 1]\n",
      "Truncation extended from [0, 0] to [0, 1]\n",
      "Truncation extended from [0, 0] to [0, 1]\n",
      "Truncation extended from [0, 0] to [0, 1]\n",
      "Truncation extended from [0, 0] to [0, 1]\n",
      "Truncation extended from [0, 0] to [0, 1]\n",
      "Truncation extended from [0, 0] to [0, 1]\n",
      "Truncation extended from [0, 0] to [0, 1]\n",
      "Truncation extended from [0, 0] to [0, 1]\n",
      "Truncation extended from [0, 0] to [0, 1]\n",
      "Truncation extended from [0, 0] to [0, 1]\n",
      "Truncation extended from [0, 0] to [0, 1]\n",
      "Truncation extended from [0, 0] to [0, 1]\n",
      "Truncation extended from [0, 0] to [0, 1]\n",
      "Truncation extended from [0, 0] to [0, 1]\n",
      "Truncation extended from [0, 0] to [0, 1]\n",
      "Truncation extended from [0, 0] to [0, 1]\n",
      "Truncation extended from [0, 0] to [0, 1]\n",
      "Truncation extended from [0, 0] to [0, 1]\n"
     ]
    },
    {
     "name": "stderr",
     "output_type": "stream",
     "text": [
      " 43%|████▎     | 69/162 [00:00<00:01, 65.41it/s]"
     ]
    },
    {
     "name": "stdout",
     "output_type": "stream",
     "text": [
      "Truncation extended from [0, 0] to [0, 1]\n",
      "Truncation extended from [0, 0] to [0, 1]\n",
      "Truncation extended from [0, 0] to [0, 1]\n",
      "Truncation extended from [0, 0] to [0, 1]\n",
      "Truncation extended from [0, 0] to [0, 1]\n",
      "Truncation extended from [0, 0] to [0, 1]\n",
      "Truncation extended from [0, 0] to [0, 1]\n",
      "Truncation extended from [0, 0] to [0, 1]\n",
      "Truncation extended from [0, 0] to [0, 1]\n",
      "Truncation extended from [0, 0] to [0, 1]\n",
      "Truncation extended from [0, 0] to [0, 1]\n",
      "Truncation extended from [0, 0] to [0, 1]\n",
      "Truncation extended from [0, 0] to [0, 1]\n"
     ]
    },
    {
     "name": "stderr",
     "output_type": "stream",
     "text": [
      " 51%|█████     | 83/162 [00:01<00:01, 56.59it/s]"
     ]
    },
    {
     "name": "stdout",
     "output_type": "stream",
     "text": [
      "Truncation extended from [0, 0] to [0, 1]\n",
      "Truncation extended from [0, 0] to [0, 1]\n",
      "Truncation extended from [0, 0] to [0, 1]\n",
      "Truncation extended from [0, 0] to [0, 1]\n",
      "Truncation extended from [0, 0] to [0, 1]\n",
      "Truncation extended from [0, 0] to [0, 1]\n",
      "Truncation extended from [0, 0] to [0, 1]\n",
      "Truncation extended from [0, 0] to [0, 1]\n",
      "Truncation extended from [0, 0] to [0, 1]\n",
      "Truncation extended from [0, 0] to [0, 1]\n",
      "Truncation extended from [0, 0] to [0, 1]\n",
      "Truncation extended from [0, 0] to [0, 1]\n"
     ]
    },
    {
     "name": "stderr",
     "output_type": "stream",
     "text": [
      " 55%|█████▍    | 89/162 [00:01<00:01, 55.13it/s]"
     ]
    },
    {
     "name": "stdout",
     "output_type": "stream",
     "text": [
      "Truncation extended from [0, 0] to [0, 1]\n",
      "Truncation extended from [0, 0] to [0, 1]\n",
      "Truncation extended from [0, 0] to [0, 1]\n",
      "Truncation extended from [0, 0] to [0, 1]\n",
      "Truncation extended from [0, 0] to [0, 1]\n",
      "Truncation extended from [0, 0] to [0, 1]\n",
      "Truncation extended from [0, 0] to [0, 1]\n",
      "Truncation extended from [0, 0] to [0, 1]\n",
      "Truncation extended from [0, 0] to [0, 1]\n",
      "Truncation extended from [0, 0] to [0, 1]\n",
      "Truncation extended from [0, 0] to [0, 1]\n",
      "Truncation extended from [0, 0] to [0, 1]\n",
      "Truncation extended from [0, 0] to [0, 1]\n",
      "Truncation extended from [0, 0] to [0, 1]\n",
      "Truncation extended from [0, 0] to [0, 1]\n",
      "Truncation extended from [0, 0] to [0, 1]\n",
      "Truncation extended from [0, 0] to [0, 1]\n",
      "Truncation extended from [0, 0] to [0, 1]\n",
      "Truncation extended from [0, 0] to [0, 1]\n",
      "Truncation extended from [0, 0] to [0, 1]\n"
     ]
    },
    {
     "name": "stderr",
     "output_type": "stream",
     "text": [
      " 65%|██████▌   | 106/162 [00:01<00:00, 60.25it/s]"
     ]
    },
    {
     "name": "stdout",
     "output_type": "stream",
     "text": [
      "Truncation extended from [0, 0] to [0, 1]\n",
      "Truncation extended from [0, 0] to [0, 1]\n",
      "Truncation extended from [0, 0] to [0, 1]\n",
      "Truncation extended from [0, 0] to [0, 1]\n",
      "Truncation extended from [0, 0] to [0, 1]\n",
      "Truncation extended from [0, 0] to [0, 1]\n",
      "Truncation extended from [0, 0] to [0, 1]\n",
      "Truncation extended from [0, 0] to [0, 1]\n",
      "Truncation extended from [0, 0] to [0, 1]\n",
      "Truncation extended from [0, 0] to [0, 1]\n",
      "Truncation extended from [0, 0] to [0, 1]\n",
      "Truncation extended from [0, 0] to [0, 1]\n",
      "Truncation extended from [0, 0] to [0, 1]\n"
     ]
    },
    {
     "name": "stderr",
     "output_type": "stream",
     "text": [
      " 76%|███████▌  | 123/162 [00:01<00:00, 69.80it/s]"
     ]
    },
    {
     "name": "stdout",
     "output_type": "stream",
     "text": [
      "Truncation extended from [0, 0] to [0, 1]\n",
      "Truncation extended from [0, 0] to [0, 1]\n",
      "Truncation extended from [0, 0] to [0, 1]\n",
      "Truncation extended from [0, 0] to [0, 1]\n",
      "Truncation extended from [0, 0] to [0, 1]\n",
      "Truncation extended from [0, 0] to [0, 1]\n",
      "Truncation extended from [0, 0] to [0, 1]\n",
      "Truncation extended from [0, 0] to [0, 1]\n",
      "Truncation extended from [0, 0] to [0, 1]\n",
      "Truncation extended from [0, 0] to [0, 1]\n",
      "Truncation extended from [0, 0] to [0, 1]\n",
      "Truncation extended from [0, 0] to [0, 1]\n",
      "Truncation extended from [0, 0] to [0, 1]\n",
      "Truncation extended from [0, 0] to [0, 1]\n",
      "Truncation extended from [0, 0] to [0, 1]\n",
      "Truncation extended from [0, 0] to [0, 1]\n",
      "Truncation extended from [0, 0] to [0, 1]\n",
      "Truncation extended from [0, 0] to [0, 1]\n",
      "Truncation extended from [0, 0] to [0, 1]\n",
      "Truncation extended from [0, 0] to [0, 1]\n",
      "Truncation extended from [0, 0] to [0, 1]\n",
      "Truncation extended from [0, 0] to [0, 1]\n",
      "Truncation extended from [0, 0] to [0, 1]\n",
      "Truncation extended from [0, 0] to [0, 1]\n",
      "Truncation extended from [0, 0] to [0, 1]\n",
      "Truncation extended from [0, 0] to [0, 1]\n"
     ]
    },
    {
     "name": "stderr",
     "output_type": "stream",
     "text": [
      " 83%|████████▎ | 134/162 [00:01<00:00, 77.78it/s]"
     ]
    },
    {
     "name": "stdout",
     "output_type": "stream",
     "text": [
      "Truncation extended from [0, 0] to [0, 1]\n",
      "Truncation extended from [0, 0] to [0, 1]\n",
      "Truncation extended from [0, 0] to [0, 1]\n",
      "Truncation extended from [0, 0] to [0, 1]\n",
      "Truncation extended from [0, 0] to [0, 1]\n",
      "Truncation extended from [0, 0] to [0, 1]\n",
      "Truncation extended from [0, 0] to [0, 1]\n",
      "Truncation extended from [0, 0] to [0, 1]\n",
      "Truncation extended from [0, 0] to [0, 1]\n",
      "Truncation extended from [0, 0] to [0, 1]\n",
      "Truncation extended from [0, 0] to [0, 1]\n",
      "Truncation extended from [0, 0] to [0, 1]\n",
      "Truncation extended from [0, 0] to [0, 1]\n"
     ]
    },
    {
     "name": "stderr",
     "output_type": "stream",
     "text": [
      " 92%|█████████▏| 149/162 [00:02<00:00, 55.99it/s]"
     ]
    },
    {
     "name": "stdout",
     "output_type": "stream",
     "text": [
      "Truncation extended from [0, 0] to [0, 1]\n",
      "Truncation extended from [0, 0] to [0, 1]\n",
      "Truncation extended from [0, 0] to [0, 1]\n",
      "Truncation extended from [0, 0] to [0, 1]\n",
      "Truncation extended from [0, 0] to [0, 1]\n",
      "Truncation extended from [0, 0] to [0, 1]\n",
      "Truncation extended from [0, 0] to [0, 1]\n",
      "Truncation extended from [0, 0] to [0, 1]\n",
      "Truncation extended from [0, 0] to [0, 1]\n",
      "Truncation extended from [0, 0] to [0, 1]\n",
      "Truncation extended from [0, 0] to [0, 1]\n",
      "Truncation extended from [0, 0] to [0, 1]\n",
      "Truncation extended from [0, 0] to [0, 1]\n",
      "Truncation extended from [0, 0] to [0, 1]\n"
     ]
    },
    {
     "name": "stderr",
     "output_type": "stream",
     "text": [
      "100%|██████████| 162/162 [00:02<00:00, 67.23it/s]"
     ]
    },
    {
     "name": "stdout",
     "output_type": "stream",
     "text": [
      "Truncation extended from [0, 0] to [0, 1]\n",
      "Truncation extended from [0, 0] to [0, 1]\n",
      "Truncation extended from [0, 0] to [0, 1]\n",
      "Truncation extended from [0, 0] to [0, 1]\n",
      "Truncation extended from [0, 0] to [0, 1]\n",
      "Truncation extended from [0, 0] to [0, 1]\n",
      "Truncation extended from [0, 0] to [0, 1]\n",
      "Truncation extended from [0, 0] to [0, 1]\n",
      "Truncation extended from [0, 0] to [0, 1]\n",
      "Truncation extended from [0, 0] to [0, 1]\n",
      "Truncation extended from [0, 0] to [0, 1]\n",
      "Truncation extended from [0, 0] to [0, 1]\n",
      "Truncation extended from [0, 0] to [0, 1]\n",
      "Truncation extended from [0, 0] to [0, 1]\n",
      "Truncation extended from [0, 0] to [0, 1]\n",
      "Truncation extended from [0, 0] to [0, 1]\n"
     ]
    },
    {
     "name": "stderr",
     "output_type": "stream",
     "text": [
      "\n"
     ]
    }
   ],
   "source": [
    "dataset_lncRNA.bootstrap_marginal_fm(tqdm_disable=False)"
   ]
  },
  {
   "cell_type": "code",
   "execution_count": 24,
   "id": "dd44673b",
   "metadata": {},
   "outputs": [
    {
     "name": "stderr",
     "output_type": "stream",
     "text": [
      "  5%|▍         | 8/162 [00:00<00:02, 75.92it/s]"
     ]
    },
    {
     "name": "stdout",
     "output_type": "stream",
     "text": [
      "Truncation extended from [0, 0] to [0, 1]\n",
      "Truncation extended from [0, 0] to [0, 1]\n",
      "Truncation extended from [0, 0] to [0, 1]\n",
      "Truncation extended from [0, 0] to [0, 1]\n",
      "Truncation extended from [0, 0] to [0, 1]\n",
      "Truncation extended from [0, 0] to [0, 1]\n",
      "Truncation extended from [0, 0] to [0, 1]\n",
      "Truncation extended from [0, 0] to [0, 1]\n",
      "Truncation extended from [0, 0] to [0, 1]\n",
      "Truncation extended from [0, 0] to [0, 1]\n",
      "Truncation extended from [0, 0] to [0, 1]\n",
      "Truncation extended from [0, 0] to [0, 1]\n",
      "Truncation extended from [0, 0] to [0, 1]\n",
      "Truncation extended from [0, 0] to [0, 1]\n",
      "Truncation extended from [0, 0] to [0, 1]\n",
      "Truncation extended from [0, 0] to [0, 1]\n",
      "Truncation extended from [0, 0] to [0, 1]\n",
      "Truncation extended from [0, 0] to [0, 1]\n",
      "Truncation extended from [0, 0] to [0, 1]\n"
     ]
    },
    {
     "name": "stderr",
     "output_type": "stream",
     "text": [
      " 15%|█▍        | 24/162 [00:00<00:02, 60.71it/s]"
     ]
    },
    {
     "name": "stdout",
     "output_type": "stream",
     "text": [
      "Truncation extended from [0, 0] to [0, 1]\n",
      "Truncation extended from [0, 0] to [0, 1]\n",
      "Truncation extended from [0, 0] to [0, 1]\n",
      "Truncation extended from [0, 0] to [0, 1]\n",
      "Truncation extended from [0, 0] to [0, 1]\n",
      "Truncation extended from [0, 0] to [0, 1]\n",
      "Truncation extended from [0, 0] to [0, 1]\n",
      "Truncation extended from [0, 0] to [0, 1]\n",
      "Truncation extended from [0, 0] to [0, 1]\n",
      "Truncation extended from [0, 0] to [0, 1]\n",
      "Truncation extended from [0, 0] to [0, 1]\n",
      "Truncation extended from [0, 0] to [0, 1]\n",
      "Truncation extended from [0, 0] to [0, 1]\n",
      "Truncation extended from [0, 0] to [0, 1]\n",
      "Truncation extended from [0, 0] to [0, 1]\n",
      "Truncation extended from [0, 0] to [0, 1]\n",
      "Truncation extended from [0, 0] to [0, 1]\n"
     ]
    },
    {
     "name": "stderr",
     "output_type": "stream",
     "text": [
      " 19%|█▉        | 31/162 [00:00<00:02, 60.11it/s]"
     ]
    },
    {
     "name": "stdout",
     "output_type": "stream",
     "text": [
      "Truncation extended from [0, 0] to [0, 1]\n",
      "Truncation extended from [0, 0] to [0, 1]\n",
      "Truncation extended from [0, 0] to [0, 1]\n",
      "Truncation extended from [0, 0] to [0, 1]\n",
      "Truncation extended from [0, 0] to [0, 1]\n",
      "Truncation extended from [0, 0] to [0, 1]\n",
      "Truncation extended from [0, 0] to [0, 1]\n",
      "Truncation extended from [0, 0] to [0, 1]\n",
      "Truncation extended from [0, 0] to [0, 1]\n",
      "Truncation extended from [0, 0] to [0, 1]\n",
      "Truncation extended from [0, 0] to [0, 1]\n",
      "Truncation extended from [0, 0] to [0, 1]\n",
      "Truncation extended from [0, 0] to [0, 1]\n"
     ]
    },
    {
     "name": "stderr",
     "output_type": "stream",
     "text": [
      " 28%|██▊       | 45/162 [00:00<00:02, 57.29it/s]"
     ]
    },
    {
     "name": "stdout",
     "output_type": "stream",
     "text": [
      "Truncation extended from [0, 0] to [0, 1]\n",
      "Truncation extended from [0, 0] to [0, 1]\n",
      "Truncation extended from [0, 0] to [0, 1]\n",
      "Truncation extended from [0, 0] to [0, 1]\n",
      "Truncation extended from [0, 0] to [0, 1]\n",
      "Truncation extended from [0, 0] to [0, 1]\n",
      "Truncation extended from [0, 0] to [0, 1]\n",
      "Truncation extended from [0, 0] to [0, 1]\n",
      "Truncation extended from [0, 0] to [0, 1]\n",
      "Truncation extended from [0, 0] to [0, 1]\n",
      "Truncation extended from [0, 0] to [0, 1]\n",
      "Truncation extended from [0, 0] to [0, 1]\n",
      "Truncation extended from [0, 0] to [0, 1]\n",
      "Truncation extended from [0, 0] to [0, 1]\n",
      "Truncation extended from [0, 0] to [0, 1]\n",
      "Truncation extended from [0, 0] to [0, 1]\n",
      "Truncation extended from [0, 0] to [0, 1]\n"
     ]
    },
    {
     "name": "stderr",
     "output_type": "stream",
     "text": [
      " 37%|███▋      | 60/162 [00:01<00:01, 57.47it/s]"
     ]
    },
    {
     "name": "stdout",
     "output_type": "stream",
     "text": [
      "Truncation extended from [0, 0] to [0, 1]\n",
      "Truncation extended from [0, 0] to [0, 1]\n",
      "Truncation extended from [0, 0] to [0, 1]\n",
      "Truncation extended from [0, 0] to [0, 1]\n",
      "Truncation extended from [0, 0] to [0, 1]\n",
      "Truncation extended from [0, 0] to [0, 1]\n",
      "Truncation extended from [0, 0] to [0, 1]\n",
      "Truncation extended from [0, 0] to [0, 1]\n",
      "Truncation extended from [0, 0] to [0, 1]\n",
      "Truncation extended from [0, 0] to [0, 1]\n",
      "Truncation extended from [0, 0] to [0, 1]\n",
      "Truncation extended from [0, 0] to [0, 1]\n",
      "Truncation extended from [0, 0] to [0, 1]\n",
      "Truncation extended from [0, 0] to [0, 1]\n",
      "Truncation extended from [0, 0] to [0, 1]\n",
      "Truncation extended from [0, 0] to [0, 1]\n"
     ]
    },
    {
     "name": "stderr",
     "output_type": "stream",
     "text": [
      " 41%|████      | 66/162 [00:01<00:01, 57.02it/s]"
     ]
    },
    {
     "name": "stdout",
     "output_type": "stream",
     "text": [
      "Truncation extended from [0, 0] to [0, 1]\n",
      "Truncation extended from [0, 0] to [0, 1]\n",
      "Truncation extended from [0, 0] to [0, 1]\n",
      "Truncation extended from [0, 0] to [0, 1]\n",
      "Truncation extended from [0, 0] to [0, 1]\n",
      "Truncation extended from [0, 0] to [0, 1]\n",
      "Truncation extended from [0, 0] to [0, 1]\n",
      "Truncation extended from [0, 0] to [0, 1]\n",
      "Truncation extended from [0, 0] to [0, 1]\n",
      "Truncation extended from [0, 0] to [0, 1]\n"
     ]
    },
    {
     "name": "stderr",
     "output_type": "stream",
     "text": [
      " 48%|████▊     | 78/162 [00:01<00:01, 48.24it/s]"
     ]
    },
    {
     "name": "stdout",
     "output_type": "stream",
     "text": [
      "Truncation extended from [0, 0] to [0, 1]\n",
      "Truncation extended from [0, 0] to [0, 1]\n",
      "Truncation extended from [0, 0] to [0, 1]\n",
      "Truncation extended from [0, 0] to [0, 1]\n",
      "Truncation extended from [0, 0] to [0, 1]\n",
      "Truncation extended from [0, 0] to [0, 1]\n",
      "Truncation extended from [0, 0] to [0, 1]\n",
      "Truncation extended from [0, 0] to [0, 1]\n",
      "Truncation extended from [0, 0] to [0, 1]\n",
      "Truncation extended from [0, 0] to [0, 1]\n",
      "Truncation extended from [0, 0] to [0, 1]\n",
      "Truncation extended from [0, 0] to [0, 1]\n",
      "Truncation extended from [0, 0] to [0, 1]\n",
      "Truncation extended from [0, 0] to [0, 1]\n",
      "Truncation extended from [0, 0] to [0, 1]\n",
      "Truncation extended from [0, 0] to [0, 1]\n"
     ]
    },
    {
     "name": "stderr",
     "output_type": "stream",
     "text": [
      " 59%|█████▊    | 95/162 [00:01<00:01, 63.15it/s]"
     ]
    },
    {
     "name": "stdout",
     "output_type": "stream",
     "text": [
      "Truncation extended from [0, 0] to [0, 1]\n",
      "Truncation extended from [0, 0] to [0, 1]\n",
      "Truncation extended from [0, 0] to [0, 1]\n",
      "Truncation extended from [0, 0] to [0, 1]\n",
      "Truncation extended from [0, 0] to [0, 1]\n",
      "Truncation extended from [0, 0] to [0, 1]\n",
      "Truncation extended from [0, 0] to [0, 1]\n",
      "Truncation extended from [0, 0] to [0, 1]\n",
      "Truncation extended from [0, 0] to [0, 1]\n",
      "Truncation extended from [0, 0] to [0, 1]\n",
      "Truncation extended from [0, 0] to [0, 1]\n",
      "Truncation extended from [0, 0] to [0, 1]\n",
      "Truncation extended from [0, 0] to [0, 1]\n",
      "Truncation extended from [0, 0] to [0, 1]\n",
      "Truncation extended from [0, 0] to [0, 1]\n",
      "Truncation extended from [0, 0] to [0, 1]\n",
      "Truncation extended from [0, 0] to [0, 1]\n",
      "Truncation extended from [0, 0] to [0, 1]\n",
      "Truncation extended from [0, 0] to [0, 1]\n",
      "Truncation extended from [0, 0] to [0, 1]\n",
      "Truncation extended from [0, 0] to [0, 1]\n",
      "Truncation extended from [0, 0] to [0, 1]\n"
     ]
    },
    {
     "name": "stderr",
     "output_type": "stream",
     "text": [
      " 69%|██████▊   | 111/162 [00:01<00:00, 69.03it/s]"
     ]
    },
    {
     "name": "stdout",
     "output_type": "stream",
     "text": [
      "Truncation extended from [0, 0] to [0, 1]\n",
      "Truncation extended from [0, 0] to [0, 1]\n",
      "Truncation extended from [0, 0] to [0, 1]\n",
      "Truncation extended from [0, 0] to [0, 1]\n",
      "Truncation extended from [0, 0] to [0, 1]\n",
      "Truncation extended from [0, 0] to [0, 1]\n",
      "Truncation extended from [0, 0] to [0, 1]\n",
      "Truncation extended from [0, 0] to [0, 1]\n",
      "Truncation extended from [0, 0] to [0, 1]\n",
      "Truncation extended from [0, 0] to [0, 1]\n",
      "Truncation extended from [0, 0] to [0, 1]\n",
      "Truncation extended from [0, 0] to [0, 1]\n",
      "Truncation extended from [0, 0] to [0, 1]\n",
      "Truncation extended from [0, 0] to [0, 1]\n",
      "Truncation extended from [0, 0] to [0, 1]\n",
      "Truncation extended from [0, 0] to [0, 1]\n",
      "Truncation extended from [0, 0] to [0, 1]\n",
      "Truncation extended from [0, 0] to [0, 1]\n"
     ]
    },
    {
     "name": "stderr",
     "output_type": "stream",
     "text": [
      " 78%|███████▊  | 126/162 [00:02<00:00, 64.93it/s]"
     ]
    },
    {
     "name": "stdout",
     "output_type": "stream",
     "text": [
      "Truncation extended from [0, 0] to [0, 1]\n",
      "Truncation extended from [0, 0] to [0, 1]\n",
      "Truncation extended from [0, 0] to [0, 1]\n",
      "Truncation extended from [0, 0] to [0, 1]\n",
      "Truncation extended from [0, 0] to [0, 1]\n",
      "Truncation extended from [0, 0] to [0, 1]\n",
      "Truncation extended from [0, 0] to [0, 1]\n",
      "Truncation extended from [0, 0] to [0, 1]\n",
      "Truncation extended from [0, 0] to [0, 1]\n",
      "Truncation extended from [0, 0] to [0, 1]\n",
      "Truncation extended from [0, 0] to [0, 1]\n",
      "Truncation extended from [0, 0] to [0, 1]\n",
      "Truncation extended from [0, 0] to [0, 1]\n",
      "Truncation extended from [0, 0] to [0, 1]\n"
     ]
    },
    {
     "name": "stderr",
     "output_type": "stream",
     "text": [
      " 82%|████████▏ | 133/162 [00:02<00:00, 60.74it/s]"
     ]
    },
    {
     "name": "stdout",
     "output_type": "stream",
     "text": [
      "Truncation extended from [0, 0] to [0, 1]\n",
      "Truncation extended from [0, 0] to [0, 1]\n",
      "Truncation extended from [0, 0] to [0, 1]\n",
      "Truncation extended from [0, 0] to [0, 1]\n",
      "Truncation extended from [0, 0] to [0, 1]\n",
      "Truncation extended from [0, 0] to [0, 1]\n",
      "Truncation extended from [0, 0] to [0, 1]\n",
      "Truncation extended from [0, 0] to [0, 1]\n",
      "Truncation extended from [0, 0] to [0, 1]\n",
      "Truncation extended from [0, 0] to [0, 1]\n",
      "Truncation extended from [0, 0] to [0, 1]\n",
      "Truncation extended from [0, 0] to [0, 1]\n",
      "Truncation extended from [0, 0] to [0, 1]\n",
      "Truncation extended from [0, 0] to [0, 1]\n",
      "Truncation extended from [0, 0] to [0, 1]\n",
      "Truncation extended from [0, 0] to [0, 1]\n"
     ]
    },
    {
     "name": "stderr",
     "output_type": "stream",
     "text": [
      " 92%|█████████▏| 149/162 [00:02<00:00, 64.73it/s]"
     ]
    },
    {
     "name": "stdout",
     "output_type": "stream",
     "text": [
      "Truncation extended from [0, 0] to [0, 1]\n",
      "Truncation extended from [0, 0] to [0, 1]\n",
      "Truncation extended from [0, 0] to [0, 1]\n",
      "Truncation extended from [0, 0] to [0, 1]\n",
      "Truncation extended from [0, 0] to [0, 1]\n",
      "Truncation extended from [0, 0] to [0, 1]\n",
      "Truncation extended from [0, 0] to [0, 1]\n",
      "Truncation extended from [0, 0] to [0, 1]\n",
      "Truncation extended from [0, 0] to [0, 1]\n",
      "Truncation extended from [0, 0] to [0, 1]\n",
      "Truncation extended from [0, 0] to [0, 1]\n",
      "Truncation extended from [0, 0] to [0, 1]\n",
      "Truncation extended from [0, 0] to [0, 1]\n",
      "Truncation extended from [0, 0] to [0, 1]\n",
      "Truncation extended from [0, 0] to [0, 1]\n",
      "Truncation extended from [0, 0] to [0, 1]\n",
      "Truncation extended from [0, 0] to [0, 1]\n",
      "Truncation extended from [0, 0] to [0, 1]\n"
     ]
    },
    {
     "name": "stderr",
     "output_type": "stream",
     "text": [
      " 96%|█████████▋| 156/162 [00:02<00:00, 56.16it/s]"
     ]
    },
    {
     "name": "stdout",
     "output_type": "stream",
     "text": [
      "Truncation extended from [0, 0] to [0, 1]\n",
      "Truncation extended from [0, 0] to [0, 1]\n",
      "Truncation extended from [0, 0] to [0, 1]\n",
      "Truncation extended from [0, 0] to [0, 1]\n",
      "Truncation extended from [0, 0] to [0, 1]\n",
      "Truncation extended from [0, 0] to [0, 1]\n",
      "Truncation extended from [0, 0] to [0, 1]\n",
      "Truncation extended from [0, 0] to [0, 1]\n",
      "Truncation extended from [0, 0] to [0, 1]\n",
      "Truncation extended from [0, 0] to [0, 1]\n",
      "Truncation extended from [0, 0] to [0, 1]\n",
      "Truncation extended from [0, 0] to [0, 1]\n",
      "Truncation extended from [0, 0] to [0, 1]\n",
      "Truncation extended from [0, 0] to [0, 1]\n"
     ]
    },
    {
     "name": "stderr",
     "output_type": "stream",
     "text": [
      "100%|██████████| 162/162 [00:02<00:00, 58.60it/s]"
     ]
    },
    {
     "name": "stdout",
     "output_type": "stream",
     "text": [
      "Truncation extended from [0, 0] to [0, 1]\n"
     ]
    },
    {
     "name": "stderr",
     "output_type": "stream",
     "text": [
      "\n"
     ]
    }
   ],
   "source": [
    "dataset_lncRNA.bootstrap_marginal_probabilities(tqdm_disable=False)"
   ]
  },
  {
   "cell_type": "code",
   "execution_count": 25,
   "id": "22fe3934",
   "metadata": {},
   "outputs": [
    {
     "name": "stderr",
     "output_type": "stream",
     "text": [
      " 42%|████▏     | 68/162 [05:03<01:16,  1.23it/s]  Traceback (most recent call last):\n",
      "  File \"c:\\Users\\willi\\Documents\\ProjectPaper\\M5R_venv\\lib\\site-packages\\interaction_inference\\optimization.py\", line 85, in analyse_dataset\n",
      "    solution_dict[i] = self.optimize(i)\n",
      "  File \"c:\\Users\\willi\\Documents\\ProjectPaper\\M5R_venv\\lib\\site-packages\\interaction_inference\\optimization.py\", line 130, in optimize\n",
      "    variables = constraints.add_variables(self, model, i)\n",
      "  File \"c:\\Users\\willi\\Documents\\ProjectPaper\\M5R_venv\\lib\\site-packages\\interaction_inference\\constraints.py\", line 134, in add_variables\n",
      "    variables['pd1'] = model.addMVar(shape=(optimization.dataset.truncationM_OB[f'sample-{i}']['maxM_x1_OB'] + 1), vtype=GRB.CONTINUOUS, name=\"pd1\", lb=0, ub=1)\n",
      "TypeError: unsupported operand type(s) for +: 'NoneType' and 'int'\n",
      " 44%|████▍     | 72/162 [05:03<00:54,  1.65it/s]"
     ]
    },
    {
     "name": "stdout",
     "output_type": "stream",
     "text": [
      "Optimization failed: unsupported operand type(s) for +: 'NoneType' and 'int'\n"
     ]
    },
    {
     "name": "stderr",
     "output_type": "stream",
     "text": [
      "100%|██████████| 162/162 [10:22<00:00,  3.84s/it]\n"
     ]
    }
   ],
   "source": [
    "# birth death feasibility test\n",
    "optimization_lncRNA_BD = optimization.Optimization(\n",
    "    dataset_lncRNA,\n",
    "    [\n",
    "        \"downsampled_marginal_probability_1\",\n",
    "        \"downsampled_marginal_CME_1\",\n",
    "        \"k_deg_1\"\n",
    "    ],\n",
    "    tqdm_disable=False,\n",
    "    print_solution=False,\n",
    "    license_file=\"C:/WLS_credentials.json\"\n",
    ")"
   ]
  },
  {
   "cell_type": "code",
   "execution_count": 26,
   "id": "d54fb511",
   "metadata": {},
   "outputs": [
    {
     "name": "stderr",
     "output_type": "stream",
     "text": [
      " 42%|████▏     | 68/162 [00:08<00:05, 16.67it/s]Traceback (most recent call last):\n",
      "  File \"c:\\Users\\willi\\Documents\\ProjectPaper\\M5R_venv\\lib\\site-packages\\interaction_inference\\optimization.py\", line 85, in analyse_dataset\n",
      "    solution_dict[i] = self.optimize(i)\n",
      "  File \"c:\\Users\\willi\\Documents\\ProjectPaper\\M5R_venv\\lib\\site-packages\\interaction_inference\\optimization.py\", line 130, in optimize\n",
      "    variables = constraints.add_variables(self, model, i)\n",
      "  File \"c:\\Users\\willi\\Documents\\ProjectPaper\\M5R_venv\\lib\\site-packages\\interaction_inference\\constraints.py\", line 134, in add_variables\n",
      "    variables['pd1'] = model.addMVar(shape=(optimization.dataset.truncationM_OB[f'sample-{i}']['maxM_x1_OB'] + 1), vtype=GRB.CONTINUOUS, name=\"pd1\", lb=0, ub=1)\n",
      "TypeError: unsupported operand type(s) for +: 'NoneType' and 'int'\n",
      " 44%|████▍     | 71/162 [00:08<00:04, 18.85it/s]"
     ]
    },
    {
     "name": "stdout",
     "output_type": "stream",
     "text": [
      "Optimization failed: unsupported operand type(s) for +: 'NoneType' and 'int'\n"
     ]
    },
    {
     "name": "stderr",
     "output_type": "stream",
     "text": [
      "100%|██████████| 162/162 [00:18<00:00,  8.80it/s]\n"
     ]
    }
   ],
   "source": [
    "# telegraph feasibility test\n",
    "optimization_lncRNA_TE = optimization.Optimization(\n",
    "    dataset_lncRNA,\n",
    "    [\n",
    "        \"downsampled_marginal_probability_1\",\n",
    "        \"downsampled_marginal_CME_TE_1\",\n",
    "        \"downsampled_marginal_TE_link_1\",\n",
    "        \"k_deg_1\"\n",
    "    ],\n",
    "    tqdm_disable=False,\n",
    "    print_solution=False,\n",
    "    license_file=\"C:/WLS_credentials.json\"\n",
    ")"
   ]
  },
  {
   "cell_type": "markdown",
   "id": "6830f00b",
   "metadata": {},
   "source": [
    "### miRNA"
   ]
  },
  {
   "cell_type": "code",
   "execution_count": 27,
   "id": "76075e56",
   "metadata": {},
   "outputs": [],
   "source": [
    "dataset_miRNA = construct_independent_dataset(\"miRNA\", data_miRNA, beta_overall)"
   ]
  },
  {
   "cell_type": "code",
   "execution_count": 28,
   "id": "a2418ba1",
   "metadata": {},
   "outputs": [
    {
     "name": "stderr",
     "output_type": "stream",
     "text": [
      "100%|██████████| 18/18 [00:00<00:00, 111.25it/s]"
     ]
    },
    {
     "name": "stdout",
     "output_type": "stream",
     "text": [
      "Truncation extended from [0, 0] to [0, 1]\n",
      "Truncation extended from [0, 0] to [0, 1]\n",
      "Truncation extended from [0, 0] to [0, 1]\n",
      "Truncation extended from [0, 0] to [0, 1]\n",
      "Truncation extended from [0, 0] to [0, 1]\n",
      "Truncation extended from [0, 0] to [0, 1]\n",
      "Truncation extended from [0, 0] to [0, 1]\n",
      "Truncation extended from [0, 0] to [0, 1]\n",
      "Truncation extended from [0, 0] to [0, 1]\n",
      "Truncation extended from [0, 0] to [0, 1]\n",
      "Truncation extended from [0, 0] to [0, 1]\n",
      "Truncation extended from [0, 0] to [0, 1]\n",
      "Truncation extended from [0, 0] to [0, 1]\n",
      "Truncation extended from [0, 0] to [0, 1]\n",
      "Truncation extended from [0, 0] to [0, 1]\n",
      "Truncation extended from [0, 0] to [0, 1]\n",
      "Truncation extended from [0, 0] to [0, 1]\n",
      "Truncation extended from [0, 0] to [0, 1]\n",
      "Truncation extended from [0, 0] to [0, 1]\n"
     ]
    },
    {
     "name": "stderr",
     "output_type": "stream",
     "text": [
      "\n"
     ]
    }
   ],
   "source": [
    "dataset_miRNA.bootstrap_marginal_fm(tqdm_disable=False)"
   ]
  },
  {
   "cell_type": "code",
   "execution_count": 29,
   "id": "86cfa40b",
   "metadata": {},
   "outputs": [
    {
     "name": "stderr",
     "output_type": "stream",
     "text": [
      " 39%|███▉      | 7/18 [00:00<00:00, 66.79it/s]"
     ]
    },
    {
     "name": "stdout",
     "output_type": "stream",
     "text": [
      "Truncation extended from [0, 0] to [0, 1]\n",
      "Truncation extended from [0, 0] to [0, 1]\n",
      "Truncation extended from [0, 0] to [0, 1]\n",
      "Truncation extended from [0, 0] to [0, 1]\n",
      "Truncation extended from [0, 0] to [0, 1]\n",
      "Truncation extended from [0, 0] to [0, 1]\n",
      "Truncation extended from [0, 0] to [0, 1]\n",
      "Truncation extended from [0, 0] to [0, 1]\n",
      "Truncation extended from [0, 0] to [0, 1]\n",
      "Truncation extended from [0, 0] to [0, 1]\n",
      "Truncation extended from [0, 0] to [0, 1]\n",
      "Truncation extended from [0, 0] to [0, 1]\n",
      "Truncation extended from [0, 0] to [0, 1]\n",
      "Truncation extended from [0, 0] to [0, 1]\n",
      "Truncation extended from [0, 0] to [0, 1]\n",
      "Truncation extended from [0, 0] to [0, 1]\n",
      "Truncation extended from [0, 0] to [0, 1]\n"
     ]
    },
    {
     "name": "stderr",
     "output_type": "stream",
     "text": [
      "100%|██████████| 18/18 [00:00<00:00, 76.50it/s]"
     ]
    },
    {
     "name": "stdout",
     "output_type": "stream",
     "text": [
      "Truncation extended from [0, 0] to [0, 1]\n",
      "Truncation extended from [0, 0] to [0, 1]\n"
     ]
    },
    {
     "name": "stderr",
     "output_type": "stream",
     "text": [
      "\n"
     ]
    }
   ],
   "source": [
    "dataset_miRNA.bootstrap_marginal_probabilities(tqdm_disable=False)"
   ]
  },
  {
   "cell_type": "code",
   "execution_count": 31,
   "id": "c2202528",
   "metadata": {},
   "outputs": [
    {
     "name": "stderr",
     "output_type": "stream",
     "text": [
      "100%|██████████| 18/18 [00:00<00:00, 28.54it/s]\n"
     ]
    }
   ],
   "source": [
    "# birth death feasibility test\n",
    "optimization_miRNA_BD = optimization.Optimization(\n",
    "    dataset_miRNA,\n",
    "    [\n",
    "        \"downsampled_marginal_probability_1\",\n",
    "        \"downsampled_marginal_CME_1\",\n",
    "        \"k_deg_1\"\n",
    "    ],\n",
    "    tqdm_disable=False,\n",
    "    print_solution=False,\n",
    "    license_file=\"C:/WLS_credentials.json\"\n",
    ")"
   ]
  },
  {
   "cell_type": "code",
   "execution_count": 32,
   "id": "e183a2d6",
   "metadata": {},
   "outputs": [
    {
     "name": "stderr",
     "output_type": "stream",
     "text": [
      "100%|██████████| 18/18 [00:01<00:00, 17.24it/s]\n"
     ]
    }
   ],
   "source": [
    "# telegraph feasibility test\n",
    "optimization_miRNA_TE = optimization.Optimization(\n",
    "    dataset_miRNA,\n",
    "    [\n",
    "        \"downsampled_marginal_probability_1\",\n",
    "        \"downsampled_marginal_CME_TE_1\",\n",
    "        \"downsampled_marginal_TE_link_1\",\n",
    "        \"k_deg_1\"\n",
    "    ],\n",
    "    tqdm_disable=False,\n",
    "    print_solution=False,\n",
    "    license_file=\"C:/WLS_credentials.json\"\n",
    ")"
   ]
  },
  {
   "cell_type": "markdown",
   "id": "1d8595dc",
   "metadata": {},
   "source": [
    "### Optimization time"
   ]
  },
  {
   "cell_type": "code",
   "execution_count": 33,
   "id": "10a4deee",
   "metadata": {},
   "outputs": [],
   "source": [
    "times_BD = []\n",
    "times_TE = []\n",
    "times_BD += [res['time'] for res in optimization_pcRNA_BD.result_dict.values()]\n",
    "times_BD += [res['time'] for res in optimization_lncRNA_BD.result_dict.values()]\n",
    "times_BD += [res['time'] for res in optimization_miRNA_BD.result_dict.values()]\n",
    "times_TE += [res['time'] for res in optimization_pcRNA_TE.result_dict.values()]\n",
    "times_TE += [res['time'] for res in optimization_lncRNA_TE.result_dict.values()]\n",
    "times_TE += [res['time'] for res in optimization_miRNA_TE.result_dict.values()]"
   ]
  },
  {
   "cell_type": "code",
   "execution_count": 34,
   "id": "89cb3805",
   "metadata": {},
   "outputs": [
    {
     "data": {
      "text/plain": [
       "Text(0.5, 1.0, 'Distribution of optimization time')"
      ]
     },
     "execution_count": 34,
     "metadata": {},
     "output_type": "execute_result"
    },
    {
     "data": {
      "image/png": "[encoded data removed]",
      "text/plain": [
       "<Figure size 800x600 with 1 Axes>"
      ]
     },
     "metadata": {},
     "output_type": "display_data"
    }
   ],
   "source": [
    "fig, axs = plt.subplots(figsize=(8, 6))\n",
    "vp = axs.violinplot(\n",
    "    [\n",
    "        times_BD,\n",
    "        times_TE\n",
    "    ],\n",
    "    showextrema=False\n",
    ")\n",
    "colours = [\"blue\", \"red\"]\n",
    "for i, vi in enumerate(vp['bodies']):\n",
    "    vi.set_facecolor(colours[i])\n",
    "    vi.set_edgecolor(None)\n",
    "    vi.set_alpha(1)\n",
    "labels = [\"BD optimization time\", \"TE optimization time\"]\n",
    "axs.set_xticks(np.arange(1, len(labels) + 1), labels=labels)\n",
    "axs.set_xlim(0.25, len(labels) + 0.75)\n",
    "axs.set_xlabel('Optimization types')\n",
    "axs.set_ylabel(\"Time (s)\")\n",
    "axs.set_title(\"Distribution of optimization time\")"
   ]
  },
  {
   "cell_type": "code",
   "execution_count": null,
   "id": "41bc9ce2",
   "metadata": {},
   "outputs": [
    {
     "data": {
      "text/plain": [
       "Text(0.5, 1.0, 'Distribution of optimization time')"
      ]
     },
     "execution_count": 117,
     "metadata": {},
     "output_type": "execute_result"
    },
    {
     "data": {
      "image/png": "[encoded data removed]",
      "text/plain": [
       "<Figure size 800x600 with 1 Axes>"
      ]
     },
     "metadata": {},
     "output_type": "display_data"
    }
   ],
   "source": [
    "# old truncation code times"
   ]
  },
  {
   "cell_type": "markdown",
   "id": "ab615f82",
   "metadata": {},
   "source": [
    "## Plots"
   ]
  },
  {
   "cell_type": "code",
   "execution_count": 3,
   "id": "55e0ab29",
   "metadata": {},
   "outputs": [],
   "source": [
    "def sankey_from_df(df, title):\n",
    "\n",
    "    column_number = df.shape[1]\n",
    "\n",
    "    # unique values per column\n",
    "    column_values = []\n",
    "\n",
    "    # box indices per column\n",
    "    column_indices = []\n",
    "\n",
    "    i = 1\n",
    "    for col in df.columns:\n",
    "\n",
    "        values = df[col].unique().tolist()\n",
    "        column_values.append(values)\n",
    "\n",
    "        boxes = len(values)\n",
    "        indices = [x for x in range(i, i + boxes)]\n",
    "        column_indices.append(indices)\n",
    "\n",
    "        i += boxes\n",
    "\n",
    "    # plotting\n",
    "    source = []\n",
    "    target = []\n",
    "    count = []\n",
    "\n",
    "    # special case for first gap\n",
    "\n",
    "    # end values\n",
    "    val_end = column_values[0]\n",
    "\n",
    "    # end indices\n",
    "    idx_end = column_indices[0]\n",
    "\n",
    "    # end column\n",
    "    col_end = df[df.columns[0]]\n",
    "\n",
    "    # for each end value\n",
    "    for val_k, idx_k in zip(val_end, idx_end):\n",
    "\n",
    "        # get count\n",
    "        count_k = len(df.loc[col_end == val_k])\n",
    "\n",
    "        # add link to plot: from 0 to idx with size count\n",
    "        source.append(0)\n",
    "        target.append(idx_k)\n",
    "        count.append(count_k)\n",
    "\n",
    "    for i in range(column_number - 1):\n",
    "\n",
    "        # get values\n",
    "        val_start = column_values[i]\n",
    "        val_end = column_values[i + 1]\n",
    "\n",
    "        # get indices\n",
    "        idx_start = column_indices[i]\n",
    "        idx_end = column_indices[i + 1]\n",
    "\n",
    "        # get columns\n",
    "        col_start = df[df.columns[i]]\n",
    "        col_end = df[df.columns[i + 1]]\n",
    "\n",
    "        # for each pair of values level\n",
    "        for val_j, idx_j in zip(val_start, idx_start):\n",
    "            for val_k, idx_k in zip(val_end, idx_end):\n",
    "\n",
    "                # get overlap\n",
    "                count_jk = len(df.loc[(col_start == val_j) & (col_end == val_k)])\n",
    "\n",
    "                # add link to plot: from idx_j to idx_k with size count_jk\n",
    "                source.append(idx_j)\n",
    "                target.append(idx_k)\n",
    "                count.append(count_jk)\n",
    "\n",
    "    # box labels\n",
    "    labels = [\"\"]\n",
    "    for values in column_values:\n",
    "        for val in values:\n",
    "            labels.append(str(val))\n",
    "\n",
    "    fig = go.Figure(data=[go.Sankey(\n",
    "        node = {\"label\": labels},\n",
    "        link = {\"source\": source, \"target\": target, \"value\": count, \"color\": \"lightgrey\"}\n",
    "        )])\n",
    "\n",
    "    headers = [\"Genes\"] + list(df.columns)\n",
    "    for x_coordinate, column_name in enumerate(headers):\n",
    "        fig.add_annotation(\n",
    "                x=x_coordinate / (column_number),\n",
    "                y=1.1,\n",
    "                xref=\"paper\",\n",
    "                yref=\"paper\",\n",
    "                text=column_name,\n",
    "                showarrow=False,\n",
    "                font=dict(\n",
    "                    family=\"Courier New, monospace\",\n",
    "                    size=16,\n",
    "                    color=\"tomato\"\n",
    "                    ),\n",
    "                align=\"center\",\n",
    "                )\n",
    "        \n",
    "    #fig.update_layout(font_size=15)\n",
    "    fig.update_layout(\n",
    "        title_text=title, \n",
    "        xaxis={\n",
    "        'showgrid': False, # thin lines in the background\n",
    "        'zeroline': False, # thick line at x=0\n",
    "        'visible': False,  # numbers below\n",
    "        },\n",
    "        yaxis={\n",
    "        'showgrid': False, # thin lines in the background\n",
    "        'zeroline': False, # thick line at x=0\n",
    "        'visible': False,  # numbers below\n",
    "        }, plot_bgcolor='rgba(0,0,0,0)', font_size=10\n",
    "    )\n",
    "\n",
    "    fig.show()"
   ]
  },
  {
   "cell_type": "code",
   "execution_count": 36,
   "id": "aa544c1b",
   "metadata": {},
   "outputs": [],
   "source": [
    "def result_df(optim_BD, optim_TE):\n",
    "    independent_feasibility = pd.DataFrame(columns=[\"Birth-Death\", \"Telegraph\"])\n",
    "    independent_feasibility[\"Birth-Death\"] = [res['status'] for res in optim_BD.result_dict.values()]\n",
    "    independent_feasibility[\"Telegraph\"] = [res['status'] for res in optim_TE.result_dict.values()]\n",
    "    return independent_feasibility"
   ]
  },
  {
   "cell_type": "code",
   "execution_count": 37,
   "id": "48410cbc",
   "metadata": {},
   "outputs": [
    {
     "data": {
      "application/vnd.plotly.v1+json": {
       "config": {
        "plotlyServerURL": "https://plot.ly"
       },
       "data": [
        {
         "link": {
          "color": "lightgrey",
          "source": [
           0,
           0,
           0,
           0,
           1,
           1,
           2,
           2,
           3,
           3,
           4,
           4
          ],
          "target": [
           1,
           2,
           3,
           4,
           5,
           6,
           5,
           6,
           5,
           6,
           5,
           6
          ],
          "value": [
           58,
           101,
           2,
           0,
           58,
           0,
           101,
           0,
           2,
           0,
           0,
           0
          ]
         },
         "node": {
          "label": [
           "",
           "INFEASIBLE",
           "OPTIMAL",
           "TIME_LIMIT",
           "None",
           "OPTIMAL",
           "None"
          ]
         },
         "type": "sankey"
        }
       ],
       "layout": {
        "annotations": [
         {
          "align": "center",
          "font": {
           "color": "tomato",
           "family": "Courier New, monospace",
           "size": 16
          },
          "showarrow": false,
          "text": "Genes",
          "x": 0,
          "xref": "paper",
          "y": 1.1,
          "yref": "paper"
         },
         {
          "align": "center",
          "font": {
           "color": "tomato",
           "family": "Courier New, monospace",
           "size": 16
          },
          "showarrow": false,
          "text": "Birth-Death",
          "x": 0.5,
          "xref": "paper",
          "y": 1.1,
          "yref": "paper"
         },
         {
          "align": "center",
          "font": {
           "color": "tomato",
           "family": "Courier New, monospace",
           "size": 16
          },
          "showarrow": false,
          "text": "Telegraph",
          "x": 1,
          "xref": "paper",
          "y": 1.1,
          "yref": "paper"
         }
        ],
        "font": {
         "size": 10
        },
        "plot_bgcolor": "rgba(0,0,0,0)",
        "template": {
         "data": {
          "bar": [
           {
            "error_x": {
             "color": "#2a3f5f"
            },
            "error_y": {
             "color": "#2a3f5f"
            },
            "marker": {
             "line": {
              "color": "#E5ECF6",
              "width": 0.5
             },
             "pattern": {
              "fillmode": "overlay",
              "size": 10,
              "solidity": 0.2
             }
            },
            "type": "bar"
           }
          ],
          "barpolar": [
           {
            "marker": {
             "line": {
              "color": "#E5ECF6",
              "width": 0.5
             },
             "pattern": {
              "fillmode": "overlay",
              "size": 10,
              "solidity": 0.2
             }
            },
            "type": "barpolar"
           }
          ],
          "carpet": [
           {
            "aaxis": {
             "endlinecolor": "#2a3f5f",
             "gridcolor": "white",
             "linecolor": "white",
             "minorgridcolor": "white",
             "startlinecolor": "#2a3f5f"
            },
            "baxis": {
             "endlinecolor": "#2a3f5f",
             "gridcolor": "white",
             "linecolor": "white",
             "minorgridcolor": "white",
             "startlinecolor": "#2a3f5f"
            },
            "type": "carpet"
           }
          ],
          "choropleth": [
           {
            "colorbar": {
             "outlinewidth": 0,
             "ticks": ""
            },
            "type": "choropleth"
           }
          ],
          "contour": [
           {
            "colorbar": {
             "outlinewidth": 0,
             "ticks": ""
            },
            "colorscale": [
             [
              0,
              "#0d0887"
             ],
             [
              0.1111111111111111,
              "#46039f"
             ],
             [
              0.2222222222222222,
              "#7201a8"
             ],
             [
              0.3333333333333333,
              "#9c179e"
             ],
             [
              0.4444444444444444,
              "#bd3786"
             ],
             [
              0.5555555555555556,
              "#d8576b"
             ],
             [
              0.6666666666666666,
              "#ed7953"
             ],
             [
              0.7777777777777778,
              "#fb9f3a"
             ],
             [
              0.8888888888888888,
              "#fdca26"
             ],
             [
              1,
              "#f0f921"
             ]
            ],
            "type": "contour"
           }
          ],
          "contourcarpet": [
           {
            "colorbar": {
             "outlinewidth": 0,
             "ticks": ""
            },
            "type": "contourcarpet"
           }
          ],
          "heatmap": [
           {
            "colorbar": {
             "outlinewidth": 0,
             "ticks": ""
            },
            "colorscale": [
             [
              0,
              "#0d0887"
             ],
             [
              0.1111111111111111,
              "#46039f"
             ],
             [
              0.2222222222222222,
              "#7201a8"
             ],
             [
              0.3333333333333333,
              "#9c179e"
             ],
             [
              0.4444444444444444,
              "#bd3786"
             ],
             [
              0.5555555555555556,
              "#d8576b"
             ],
             [
              0.6666666666666666,
              "#ed7953"
             ],
             [
              0.7777777777777778,
              "#fb9f3a"
             ],
             [
              0.8888888888888888,
              "#fdca26"
             ],
             [
              1,
              "#f0f921"
             ]
            ],
            "type": "heatmap"
           }
          ],
          "histogram": [
           {
            "marker": {
             "pattern": {
              "fillmode": "overlay",
              "size": 10,
              "solidity": 0.2
             }
            },
            "type": "histogram"
           }
          ],
          "histogram2d": [
           {
            "colorbar": {
             "outlinewidth": 0,
             "ticks": ""
            },
            "colorscale": [
             [
              0,
              "#0d0887"
             ],
             [
              0.1111111111111111,
              "#46039f"
             ],
             [
              0.2222222222222222,
              "#7201a8"
             ],
             [
              0.3333333333333333,
              "#9c179e"
             ],
             [
              0.4444444444444444,
              "#bd3786"
             ],
             [
              0.5555555555555556,
              "#d8576b"
             ],
             [
              0.6666666666666666,
              "#ed7953"
             ],
             [
              0.7777777777777778,
              "#fb9f3a"
             ],
             [
              0.8888888888888888,
              "#fdca26"
             ],
             [
              1,
              "#f0f921"
             ]
            ],
            "type": "histogram2d"
           }
          ],
          "histogram2dcontour": [
           {
            "colorbar": {
             "outlinewidth": 0,
             "ticks": ""
            },
            "colorscale": [
             [
              0,
              "#0d0887"
             ],
             [
              0.1111111111111111,
              "#46039f"
             ],
             [
              0.2222222222222222,
              "#7201a8"
             ],
             [
              0.3333333333333333,
              "#9c179e"
             ],
             [
              0.4444444444444444,
              "#bd3786"
             ],
             [
              0.5555555555555556,
              "#d8576b"
             ],
             [
              0.6666666666666666,
              "#ed7953"
             ],
             [
              0.7777777777777778,
              "#fb9f3a"
             ],
             [
              0.8888888888888888,
              "#fdca26"
             ],
             [
              1,
              "#f0f921"
             ]
            ],
            "type": "histogram2dcontour"
           }
          ],
          "mesh3d": [
           {
            "colorbar": {
             "outlinewidth": 0,
             "ticks": ""
            },
            "type": "mesh3d"
           }
          ],
          "parcoords": [
           {
            "line": {
             "colorbar": {
              "outlinewidth": 0,
              "ticks": ""
             }
            },
            "type": "parcoords"
           }
          ],
          "pie": [
           {
            "automargin": true,
            "type": "pie"
           }
          ],
          "scatter": [
           {
            "fillpattern": {
             "fillmode": "overlay",
             "size": 10,
             "solidity": 0.2
            },
            "type": "scatter"
           }
          ],
          "scatter3d": [
           {
            "line": {
             "colorbar": {
              "outlinewidth": 0,
              "ticks": ""
             }
            },
            "marker": {
             "colorbar": {
              "outlinewidth": 0,
              "ticks": ""
             }
            },
            "type": "scatter3d"
           }
          ],
          "scattercarpet": [
           {
            "marker": {
             "colorbar": {
              "outlinewidth": 0,
              "ticks": ""
             }
            },
            "type": "scattercarpet"
           }
          ],
          "scattergeo": [
           {
            "marker": {
             "colorbar": {
              "outlinewidth": 0,
              "ticks": ""
             }
            },
            "type": "scattergeo"
           }
          ],
          "scattergl": [
           {
            "marker": {
             "colorbar": {
              "outlinewidth": 0,
              "ticks": ""
             }
            },
            "type": "scattergl"
           }
          ],
          "scattermap": [
           {
            "marker": {
             "colorbar": {
              "outlinewidth": 0,
              "ticks": ""
             }
            },
            "type": "scattermap"
           }
          ],
          "scattermapbox": [
           {
            "marker": {
             "colorbar": {
              "outlinewidth": 0,
              "ticks": ""
             }
            },
            "type": "scattermapbox"
           }
          ],
          "scatterpolar": [
           {
            "marker": {
             "colorbar": {
              "outlinewidth": 0,
              "ticks": ""
             }
            },
            "type": "scatterpolar"
           }
          ],
          "scatterpolargl": [
           {
            "marker": {
             "colorbar": {
              "outlinewidth": 0,
              "ticks": ""
             }
            },
            "type": "scatterpolargl"
           }
          ],
          "scatterternary": [
           {
            "marker": {
             "colorbar": {
              "outlinewidth": 0,
              "ticks": ""
             }
            },
            "type": "scatterternary"
           }
          ],
          "surface": [
           {
            "colorbar": {
             "outlinewidth": 0,
             "ticks": ""
            },
            "colorscale": [
             [
              0,
              "#0d0887"
             ],
             [
              0.1111111111111111,
              "#46039f"
             ],
             [
              0.2222222222222222,
              "#7201a8"
             ],
             [
              0.3333333333333333,
              "#9c179e"
             ],
             [
              0.4444444444444444,
              "#bd3786"
             ],
             [
              0.5555555555555556,
              "#d8576b"
             ],
             [
              0.6666666666666666,
              "#ed7953"
             ],
             [
              0.7777777777777778,
              "#fb9f3a"
             ],
             [
              0.8888888888888888,
              "#fdca26"
             ],
             [
              1,
              "#f0f921"
             ]
            ],
            "type": "surface"
           }
          ],
          "table": [
           {
            "cells": {
             "fill": {
              "color": "#EBF0F8"
             },
             "line": {
              "color": "white"
             }
            },
            "header": {
             "fill": {
              "color": "#C8D4E3"
             },
             "line": {
              "color": "white"
             }
            },
            "type": "table"
           }
          ]
         },
         "layout": {
          "annotationdefaults": {
           "arrowcolor": "#2a3f5f",
           "arrowhead": 0,
           "arrowwidth": 1
          },
          "autotypenumbers": "strict",
          "coloraxis": {
           "colorbar": {
            "outlinewidth": 0,
            "ticks": ""
           }
          },
          "colorscale": {
           "diverging": [
            [
             0,
             "#8e0152"
            ],
            [
             0.1,
             "#c51b7d"
            ],
            [
             0.2,
             "#de77ae"
            ],
            [
             0.3,
             "#f1b6da"
            ],
            [
             0.4,
             "#fde0ef"
            ],
            [
             0.5,
             "#f7f7f7"
            ],
            [
             0.6,
             "#e6f5d0"
            ],
            [
             0.7,
             "#b8e186"
            ],
            [
             0.8,
             "#7fbc41"
            ],
            [
             0.9,
             "#4d9221"
            ],
            [
             1,
             "#276419"
            ]
           ],
           "sequential": [
            [
             0,
             "#0d0887"
            ],
            [
             0.1111111111111111,
             "#46039f"
            ],
            [
             0.2222222222222222,
             "#7201a8"
            ],
            [
             0.3333333333333333,
             "#9c179e"
            ],
            [
             0.4444444444444444,
             "#bd3786"
            ],
            [
             0.5555555555555556,
             "#d8576b"
            ],
            [
             0.6666666666666666,
             "#ed7953"
            ],
            [
             0.7777777777777778,
             "#fb9f3a"
            ],
            [
             0.8888888888888888,
             "#fdca26"
            ],
            [
             1,
             "#f0f921"
            ]
           ],
           "sequentialminus": [
            [
             0,
             "#0d0887"
            ],
            [
             0.1111111111111111,
             "#46039f"
            ],
            [
             0.2222222222222222,
             "#7201a8"
            ],
            [
             0.3333333333333333,
             "#9c179e"
            ],
            [
             0.4444444444444444,
             "#bd3786"
            ],
            [
             0.5555555555555556,
             "#d8576b"
            ],
            [
             0.6666666666666666,
             "#ed7953"
            ],
            [
             0.7777777777777778,
             "#fb9f3a"
            ],
            [
             0.8888888888888888,
             "#fdca26"
            ],
            [
             1,
             "#f0f921"
            ]
           ]
          },
          "colorway": [
           "#636efa",
           "#EF553B",
           "#00cc96",
           "#ab63fa",
           "#FFA15A",
           "#19d3f3",
           "#FF6692",
           "#B6E880",
           "#FF97FF",
           "#FECB52"
          ],
          "font": {
           "color": "#2a3f5f"
          },
          "geo": {
           "bgcolor": "white",
           "lakecolor": "white",
           "landcolor": "#E5ECF6",
           "showlakes": true,
           "showland": true,
           "subunitcolor": "white"
          },
          "hoverlabel": {
           "align": "left"
          },
          "hovermode": "closest",
          "mapbox": {
           "style": "light"
          },
          "paper_bgcolor": "white",
          "plot_bgcolor": "#E5ECF6",
          "polar": {
           "angularaxis": {
            "gridcolor": "white",
            "linecolor": "white",
            "ticks": ""
           },
           "bgcolor": "#E5ECF6",
           "radialaxis": {
            "gridcolor": "white",
            "linecolor": "white",
            "ticks": ""
           }
          },
          "scene": {
           "xaxis": {
            "backgroundcolor": "#E5ECF6",
            "gridcolor": "white",
            "gridwidth": 2,
            "linecolor": "white",
            "showbackground": true,
            "ticks": "",
            "zerolinecolor": "white"
           },
           "yaxis": {
            "backgroundcolor": "#E5ECF6",
            "gridcolor": "white",
            "gridwidth": 2,
            "linecolor": "white",
            "showbackground": true,
            "ticks": "",
            "zerolinecolor": "white"
           },
           "zaxis": {
            "backgroundcolor": "#E5ECF6",
            "gridcolor": "white",
            "gridwidth": 2,
            "linecolor": "white",
            "showbackground": true,
            "ticks": "",
            "zerolinecolor": "white"
           }
          },
          "shapedefaults": {
           "line": {
            "color": "#2a3f5f"
           }
          },
          "ternary": {
           "aaxis": {
            "gridcolor": "white",
            "linecolor": "white",
            "ticks": ""
           },
           "baxis": {
            "gridcolor": "white",
            "linecolor": "white",
            "ticks": ""
           },
           "bgcolor": "#E5ECF6",
           "caxis": {
            "gridcolor": "white",
            "linecolor": "white",
            "ticks": ""
           }
          },
          "title": {
           "x": 0.05
          },
          "xaxis": {
           "automargin": true,
           "gridcolor": "white",
           "linecolor": "white",
           "ticks": "",
           "title": {
            "standoff": 15
           },
           "zerolinecolor": "white",
           "zerolinewidth": 2
          },
          "yaxis": {
           "automargin": true,
           "gridcolor": "white",
           "linecolor": "white",
           "ticks": "",
           "title": {
            "standoff": 15
           },
           "zerolinecolor": "white",
           "zerolinewidth": 2
          }
         }
        },
        "title": {
         "text": "lncRNA: Independent feasibility tests"
        },
        "xaxis": {
         "showgrid": false,
         "visible": false,
         "zeroline": false
        },
        "yaxis": {
         "showgrid": false,
         "visible": false,
         "zeroline": false
        }
       }
      }
     },
     "metadata": {},
     "output_type": "display_data"
    }
   ],
   "source": [
    "sankey_from_df(result_df(optimization_lncRNA_BD, optimization_lncRNA_TE), \"lncRNA: Independent feasibility tests\")"
   ]
  },
  {
   "cell_type": "code",
   "execution_count": 38,
   "id": "dbbe2472",
   "metadata": {},
   "outputs": [
    {
     "data": {
      "application/vnd.plotly.v1+json": {
       "config": {
        "plotlyServerURL": "https://plot.ly"
       },
       "data": [
        {
         "link": {
          "color": "lightgrey",
          "source": [
           0,
           0,
           1,
           2
          ],
          "target": [
           1,
           2,
           3,
           3
          ],
          "value": [
           15,
           3,
           15,
           3
          ]
         },
         "node": {
          "label": [
           "",
           "INFEASIBLE",
           "OPTIMAL",
           "OPTIMAL"
          ]
         },
         "type": "sankey"
        }
       ],
       "layout": {
        "annotations": [
         {
          "align": "center",
          "font": {
           "color": "tomato",
           "family": "Courier New, monospace",
           "size": 16
          },
          "showarrow": false,
          "text": "Genes",
          "x": 0,
          "xref": "paper",
          "y": 1.1,
          "yref": "paper"
         },
         {
          "align": "center",
          "font": {
           "color": "tomato",
           "family": "Courier New, monospace",
           "size": 16
          },
          "showarrow": false,
          "text": "Birth-Death",
          "x": 0.5,
          "xref": "paper",
          "y": 1.1,
          "yref": "paper"
         },
         {
          "align": "center",
          "font": {
           "color": "tomato",
           "family": "Courier New, monospace",
           "size": 16
          },
          "showarrow": false,
          "text": "Telegraph",
          "x": 1,
          "xref": "paper",
          "y": 1.1,
          "yref": "paper"
         }
        ],
        "font": {
         "size": 10
        },
        "plot_bgcolor": "rgba(0,0,0,0)",
        "template": {
         "data": {
          "bar": [
           {
            "error_x": {
             "color": "#2a3f5f"
            },
            "error_y": {
             "color": "#2a3f5f"
            },
            "marker": {
             "line": {
              "color": "#E5ECF6",
              "width": 0.5
             },
             "pattern": {
              "fillmode": "overlay",
              "size": 10,
              "solidity": 0.2
             }
            },
            "type": "bar"
           }
          ],
          "barpolar": [
           {
            "marker": {
             "line": {
              "color": "#E5ECF6",
              "width": 0.5
             },
             "pattern": {
              "fillmode": "overlay",
              "size": 10,
              "solidity": 0.2
             }
            },
            "type": "barpolar"
           }
          ],
          "carpet": [
           {
            "aaxis": {
             "endlinecolor": "#2a3f5f",
             "gridcolor": "white",
             "linecolor": "white",
             "minorgridcolor": "white",
             "startlinecolor": "#2a3f5f"
            },
            "baxis": {
             "endlinecolor": "#2a3f5f",
             "gridcolor": "white",
             "linecolor": "white",
             "minorgridcolor": "white",
             "startlinecolor": "#2a3f5f"
            },
            "type": "carpet"
           }
          ],
          "choropleth": [
           {
            "colorbar": {
             "outlinewidth": 0,
             "ticks": ""
            },
            "type": "choropleth"
           }
          ],
          "contour": [
           {
            "colorbar": {
             "outlinewidth": 0,
             "ticks": ""
            },
            "colorscale": [
             [
              0,
              "#0d0887"
             ],
             [
              0.1111111111111111,
              "#46039f"
             ],
             [
              0.2222222222222222,
              "#7201a8"
             ],
             [
              0.3333333333333333,
              "#9c179e"
             ],
             [
              0.4444444444444444,
              "#bd3786"
             ],
             [
              0.5555555555555556,
              "#d8576b"
             ],
             [
              0.6666666666666666,
              "#ed7953"
             ],
             [
              0.7777777777777778,
              "#fb9f3a"
             ],
             [
              0.8888888888888888,
              "#fdca26"
             ],
             [
              1,
              "#f0f921"
             ]
            ],
            "type": "contour"
           }
          ],
          "contourcarpet": [
           {
            "colorbar": {
             "outlinewidth": 0,
             "ticks": ""
            },
            "type": "contourcarpet"
           }
          ],
          "heatmap": [
           {
            "colorbar": {
             "outlinewidth": 0,
             "ticks": ""
            },
            "colorscale": [
             [
              0,
              "#0d0887"
             ],
             [
              0.1111111111111111,
              "#46039f"
             ],
             [
              0.2222222222222222,
              "#7201a8"
             ],
             [
              0.3333333333333333,
              "#9c179e"
             ],
             [
              0.4444444444444444,
              "#bd3786"
             ],
             [
              0.5555555555555556,
              "#d8576b"
             ],
             [
              0.6666666666666666,
              "#ed7953"
             ],
             [
              0.7777777777777778,
              "#fb9f3a"
             ],
             [
              0.8888888888888888,
              "#fdca26"
             ],
             [
              1,
              "#f0f921"
             ]
            ],
            "type": "heatmap"
           }
          ],
          "histogram": [
           {
            "marker": {
             "pattern": {
              "fillmode": "overlay",
              "size": 10,
              "solidity": 0.2
             }
            },
            "type": "histogram"
           }
          ],
          "histogram2d": [
           {
            "colorbar": {
             "outlinewidth": 0,
             "ticks": ""
            },
            "colorscale": [
             [
              0,
              "#0d0887"
             ],
             [
              0.1111111111111111,
              "#46039f"
             ],
             [
              0.2222222222222222,
              "#7201a8"
             ],
             [
              0.3333333333333333,
              "#9c179e"
             ],
             [
              0.4444444444444444,
              "#bd3786"
             ],
             [
              0.5555555555555556,
              "#d8576b"
             ],
             [
              0.6666666666666666,
              "#ed7953"
             ],
             [
              0.7777777777777778,
              "#fb9f3a"
             ],
             [
              0.8888888888888888,
              "#fdca26"
             ],
             [
              1,
              "#f0f921"
             ]
            ],
            "type": "histogram2d"
           }
          ],
          "histogram2dcontour": [
           {
            "colorbar": {
             "outlinewidth": 0,
             "ticks": ""
            },
            "colorscale": [
             [
              0,
              "#0d0887"
             ],
             [
              0.1111111111111111,
              "#46039f"
             ],
             [
              0.2222222222222222,
              "#7201a8"
             ],
             [
              0.3333333333333333,
              "#9c179e"
             ],
             [
              0.4444444444444444,
              "#bd3786"
             ],
             [
              0.5555555555555556,
              "#d8576b"
             ],
             [
              0.6666666666666666,
              "#ed7953"
             ],
             [
              0.7777777777777778,
              "#fb9f3a"
             ],
             [
              0.8888888888888888,
              "#fdca26"
             ],
             [
              1,
              "#f0f921"
             ]
            ],
            "type": "histogram2dcontour"
           }
          ],
          "mesh3d": [
           {
            "colorbar": {
             "outlinewidth": 0,
             "ticks": ""
            },
            "type": "mesh3d"
           }
          ],
          "parcoords": [
           {
            "line": {
             "colorbar": {
              "outlinewidth": 0,
              "ticks": ""
             }
            },
            "type": "parcoords"
           }
          ],
          "pie": [
           {
            "automargin": true,
            "type": "pie"
           }
          ],
          "scatter": [
           {
            "fillpattern": {
             "fillmode": "overlay",
             "size": 10,
             "solidity": 0.2
            },
            "type": "scatter"
           }
          ],
          "scatter3d": [
           {
            "line": {
             "colorbar": {
              "outlinewidth": 0,
              "ticks": ""
             }
            },
            "marker": {
             "colorbar": {
              "outlinewidth": 0,
              "ticks": ""
             }
            },
            "type": "scatter3d"
           }
          ],
          "scattercarpet": [
           {
            "marker": {
             "colorbar": {
              "outlinewidth": 0,
              "ticks": ""
             }
            },
            "type": "scattercarpet"
           }
          ],
          "scattergeo": [
           {
            "marker": {
             "colorbar": {
              "outlinewidth": 0,
              "ticks": ""
             }
            },
            "type": "scattergeo"
           }
          ],
          "scattergl": [
           {
            "marker": {
             "colorbar": {
              "outlinewidth": 0,
              "ticks": ""
             }
            },
            "type": "scattergl"
           }
          ],
          "scattermap": [
           {
            "marker": {
             "colorbar": {
              "outlinewidth": 0,
              "ticks": ""
             }
            },
            "type": "scattermap"
           }
          ],
          "scattermapbox": [
           {
            "marker": {
             "colorbar": {
              "outlinewidth": 0,
              "ticks": ""
             }
            },
            "type": "scattermapbox"
           }
          ],
          "scatterpolar": [
           {
            "marker": {
             "colorbar": {
              "outlinewidth": 0,
              "ticks": ""
             }
            },
            "type": "scatterpolar"
           }
          ],
          "scatterpolargl": [
           {
            "marker": {
             "colorbar": {
              "outlinewidth": 0,
              "ticks": ""
             }
            },
            "type": "scatterpolargl"
           }
          ],
          "scatterternary": [
           {
            "marker": {
             "colorbar": {
              "outlinewidth": 0,
              "ticks": ""
             }
            },
            "type": "scatterternary"
           }
          ],
          "surface": [
           {
            "colorbar": {
             "outlinewidth": 0,
             "ticks": ""
            },
            "colorscale": [
             [
              0,
              "#0d0887"
             ],
             [
              0.1111111111111111,
              "#46039f"
             ],
             [
              0.2222222222222222,
              "#7201a8"
             ],
             [
              0.3333333333333333,
              "#9c179e"
             ],
             [
              0.4444444444444444,
              "#bd3786"
             ],
             [
              0.5555555555555556,
              "#d8576b"
             ],
             [
              0.6666666666666666,
              "#ed7953"
             ],
             [
              0.7777777777777778,
              "#fb9f3a"
             ],
             [
              0.8888888888888888,
              "#fdca26"
             ],
             [
              1,
              "#f0f921"
             ]
            ],
            "type": "surface"
           }
          ],
          "table": [
           {
            "cells": {
             "fill": {
              "color": "#EBF0F8"
             },
             "line": {
              "color": "white"
             }
            },
            "header": {
             "fill": {
              "color": "#C8D4E3"
             },
             "line": {
              "color": "white"
             }
            },
            "type": "table"
           }
          ]
         },
         "layout": {
          "annotationdefaults": {
           "arrowcolor": "#2a3f5f",
           "arrowhead": 0,
           "arrowwidth": 1
          },
          "autotypenumbers": "strict",
          "coloraxis": {
           "colorbar": {
            "outlinewidth": 0,
            "ticks": ""
           }
          },
          "colorscale": {
           "diverging": [
            [
             0,
             "#8e0152"
            ],
            [
             0.1,
             "#c51b7d"
            ],
            [
             0.2,
             "#de77ae"
            ],
            [
             0.3,
             "#f1b6da"
            ],
            [
             0.4,
             "#fde0ef"
            ],
            [
             0.5,
             "#f7f7f7"
            ],
            [
             0.6,
             "#e6f5d0"
            ],
            [
             0.7,
             "#b8e186"
            ],
            [
             0.8,
             "#7fbc41"
            ],
            [
             0.9,
             "#4d9221"
            ],
            [
             1,
             "#276419"
            ]
           ],
           "sequential": [
            [
             0,
             "#0d0887"
            ],
            [
             0.1111111111111111,
             "#46039f"
            ],
            [
             0.2222222222222222,
             "#7201a8"
            ],
            [
             0.3333333333333333,
             "#9c179e"
            ],
            [
             0.4444444444444444,
             "#bd3786"
            ],
            [
             0.5555555555555556,
             "#d8576b"
            ],
            [
             0.6666666666666666,
             "#ed7953"
            ],
            [
             0.7777777777777778,
             "#fb9f3a"
            ],
            [
             0.8888888888888888,
             "#fdca26"
            ],
            [
             1,
             "#f0f921"
            ]
           ],
           "sequentialminus": [
            [
             0,
             "#0d0887"
            ],
            [
             0.1111111111111111,
             "#46039f"
            ],
            [
             0.2222222222222222,
             "#7201a8"
            ],
            [
             0.3333333333333333,
             "#9c179e"
            ],
            [
             0.4444444444444444,
             "#bd3786"
            ],
            [
             0.5555555555555556,
             "#d8576b"
            ],
            [
             0.6666666666666666,
             "#ed7953"
            ],
            [
             0.7777777777777778,
             "#fb9f3a"
            ],
            [
             0.8888888888888888,
             "#fdca26"
            ],
            [
             1,
             "#f0f921"
            ]
           ]
          },
          "colorway": [
           "#636efa",
           "#EF553B",
           "#00cc96",
           "#ab63fa",
           "#FFA15A",
           "#19d3f3",
           "#FF6692",
           "#B6E880",
           "#FF97FF",
           "#FECB52"
          ],
          "font": {
           "color": "#2a3f5f"
          },
          "geo": {
           "bgcolor": "white",
           "lakecolor": "white",
           "landcolor": "#E5ECF6",
           "showlakes": true,
           "showland": true,
           "subunitcolor": "white"
          },
          "hoverlabel": {
           "align": "left"
          },
          "hovermode": "closest",
          "mapbox": {
           "style": "light"
          },
          "paper_bgcolor": "white",
          "plot_bgcolor": "#E5ECF6",
          "polar": {
           "angularaxis": {
            "gridcolor": "white",
            "linecolor": "white",
            "ticks": ""
           },
           "bgcolor": "#E5ECF6",
           "radialaxis": {
            "gridcolor": "white",
            "linecolor": "white",
            "ticks": ""
           }
          },
          "scene": {
           "xaxis": {
            "backgroundcolor": "#E5ECF6",
            "gridcolor": "white",
            "gridwidth": 2,
            "linecolor": "white",
            "showbackground": true,
            "ticks": "",
            "zerolinecolor": "white"
           },
           "yaxis": {
            "backgroundcolor": "#E5ECF6",
            "gridcolor": "white",
            "gridwidth": 2,
            "linecolor": "white",
            "showbackground": true,
            "ticks": "",
            "zerolinecolor": "white"
           },
           "zaxis": {
            "backgroundcolor": "#E5ECF6",
            "gridcolor": "white",
            "gridwidth": 2,
            "linecolor": "white",
            "showbackground": true,
            "ticks": "",
            "zerolinecolor": "white"
           }
          },
          "shapedefaults": {
           "line": {
            "color": "#2a3f5f"
           }
          },
          "ternary": {
           "aaxis": {
            "gridcolor": "white",
            "linecolor": "white",
            "ticks": ""
           },
           "baxis": {
            "gridcolor": "white",
            "linecolor": "white",
            "ticks": ""
           },
           "bgcolor": "#E5ECF6",
           "caxis": {
            "gridcolor": "white",
            "linecolor": "white",
            "ticks": ""
           }
          },
          "title": {
           "x": 0.05
          },
          "xaxis": {
           "automargin": true,
           "gridcolor": "white",
           "linecolor": "white",
           "ticks": "",
           "title": {
            "standoff": 15
           },
           "zerolinecolor": "white",
           "zerolinewidth": 2
          },
          "yaxis": {
           "automargin": true,
           "gridcolor": "white",
           "linecolor": "white",
           "ticks": "",
           "title": {
            "standoff": 15
           },
           "zerolinecolor": "white",
           "zerolinewidth": 2
          }
         }
        },
        "title": {
         "text": "miRNA: Independent feasibility tests"
        },
        "xaxis": {
         "showgrid": false,
         "visible": false,
         "zeroline": false
        },
        "yaxis": {
         "showgrid": false,
         "visible": false,
         "zeroline": false
        }
       }
      }
     },
     "metadata": {},
     "output_type": "display_data"
    }
   ],
   "source": [
    "sankey_from_df(result_df(optimization_miRNA_BD, optimization_miRNA_TE), \"miRNA: Independent feasibility tests\")"
   ]
  },
  {
   "cell_type": "code",
   "execution_count": 39,
   "id": "75d12af8",
   "metadata": {},
   "outputs": [
    {
     "data": {
      "application/vnd.plotly.v1+json": {
       "config": {
        "plotlyServerURL": "https://plot.ly"
       },
       "data": [
        {
         "link": {
          "color": "lightgrey",
          "source": [
           0,
           0,
           0,
           1,
           1,
           2,
           2,
           3,
           3
          ],
          "target": [
           1,
           2,
           3,
           4,
           5,
           4,
           5,
           4,
           5
          ],
          "value": [
           70,
           28,
           0,
           70,
           0,
           28,
           0,
           0,
           0
          ]
         },
         "node": {
          "label": [
           "",
           "INFEASIBLE",
           "OPTIMAL",
           "None",
           "OPTIMAL",
           "None"
          ]
         },
         "type": "sankey"
        }
       ],
       "layout": {
        "annotations": [
         {
          "align": "center",
          "font": {
           "color": "tomato",
           "family": "Courier New, monospace",
           "size": 16
          },
          "showarrow": false,
          "text": "Genes",
          "x": 0,
          "xref": "paper",
          "y": 1.1,
          "yref": "paper"
         },
         {
          "align": "center",
          "font": {
           "color": "tomato",
           "family": "Courier New, monospace",
           "size": 16
          },
          "showarrow": false,
          "text": "Birth-Death",
          "x": 0.5,
          "xref": "paper",
          "y": 1.1,
          "yref": "paper"
         },
         {
          "align": "center",
          "font": {
           "color": "tomato",
           "family": "Courier New, monospace",
           "size": 16
          },
          "showarrow": false,
          "text": "Telegraph",
          "x": 1,
          "xref": "paper",
          "y": 1.1,
          "yref": "paper"
         }
        ],
        "font": {
         "size": 10
        },
        "plot_bgcolor": "rgba(0,0,0,0)",
        "template": {
         "data": {
          "bar": [
           {
            "error_x": {
             "color": "#2a3f5f"
            },
            "error_y": {
             "color": "#2a3f5f"
            },
            "marker": {
             "line": {
              "color": "#E5ECF6",
              "width": 0.5
             },
             "pattern": {
              "fillmode": "overlay",
              "size": 10,
              "solidity": 0.2
             }
            },
            "type": "bar"
           }
          ],
          "barpolar": [
           {
            "marker": {
             "line": {
              "color": "#E5ECF6",
              "width": 0.5
             },
             "pattern": {
              "fillmode": "overlay",
              "size": 10,
              "solidity": 0.2
             }
            },
            "type": "barpolar"
           }
          ],
          "carpet": [
           {
            "aaxis": {
             "endlinecolor": "#2a3f5f",
             "gridcolor": "white",
             "linecolor": "white",
             "minorgridcolor": "white",
             "startlinecolor": "#2a3f5f"
            },
            "baxis": {
             "endlinecolor": "#2a3f5f",
             "gridcolor": "white",
             "linecolor": "white",
             "minorgridcolor": "white",
             "startlinecolor": "#2a3f5f"
            },
            "type": "carpet"
           }
          ],
          "choropleth": [
           {
            "colorbar": {
             "outlinewidth": 0,
             "ticks": ""
            },
            "type": "choropleth"
           }
          ],
          "contour": [
           {
            "colorbar": {
             "outlinewidth": 0,
             "ticks": ""
            },
            "colorscale": [
             [
              0,
              "#0d0887"
             ],
             [
              0.1111111111111111,
              "#46039f"
             ],
             [
              0.2222222222222222,
              "#7201a8"
             ],
             [
              0.3333333333333333,
              "#9c179e"
             ],
             [
              0.4444444444444444,
              "#bd3786"
             ],
             [
              0.5555555555555556,
              "#d8576b"
             ],
             [
              0.6666666666666666,
              "#ed7953"
             ],
             [
              0.7777777777777778,
              "#fb9f3a"
             ],
             [
              0.8888888888888888,
              "#fdca26"
             ],
             [
              1,
              "#f0f921"
             ]
            ],
            "type": "contour"
           }
          ],
          "contourcarpet": [
           {
            "colorbar": {
             "outlinewidth": 0,
             "ticks": ""
            },
            "type": "contourcarpet"
           }
          ],
          "heatmap": [
           {
            "colorbar": {
             "outlinewidth": 0,
             "ticks": ""
            },
            "colorscale": [
             [
              0,
              "#0d0887"
             ],
             [
              0.1111111111111111,
              "#46039f"
             ],
             [
              0.2222222222222222,
              "#7201a8"
             ],
             [
              0.3333333333333333,
              "#9c179e"
             ],
             [
              0.4444444444444444,
              "#bd3786"
             ],
             [
              0.5555555555555556,
              "#d8576b"
             ],
             [
              0.6666666666666666,
              "#ed7953"
             ],
             [
              0.7777777777777778,
              "#fb9f3a"
             ],
             [
              0.8888888888888888,
              "#fdca26"
             ],
             [
              1,
              "#f0f921"
             ]
            ],
            "type": "heatmap"
           }
          ],
          "histogram": [
           {
            "marker": {
             "pattern": {
              "fillmode": "overlay",
              "size": 10,
              "solidity": 0.2
             }
            },
            "type": "histogram"
           }
          ],
          "histogram2d": [
           {
            "colorbar": {
             "outlinewidth": 0,
             "ticks": ""
            },
            "colorscale": [
             [
              0,
              "#0d0887"
             ],
             [
              0.1111111111111111,
              "#46039f"
             ],
             [
              0.2222222222222222,
              "#7201a8"
             ],
             [
              0.3333333333333333,
              "#9c179e"
             ],
             [
              0.4444444444444444,
              "#bd3786"
             ],
             [
              0.5555555555555556,
              "#d8576b"
             ],
             [
              0.6666666666666666,
              "#ed7953"
             ],
             [
              0.7777777777777778,
              "#fb9f3a"
             ],
             [
              0.8888888888888888,
              "#fdca26"
             ],
             [
              1,
              "#f0f921"
             ]
            ],
            "type": "histogram2d"
           }
          ],
          "histogram2dcontour": [
           {
            "colorbar": {
             "outlinewidth": 0,
             "ticks": ""
            },
            "colorscale": [
             [
              0,
              "#0d0887"
             ],
             [
              0.1111111111111111,
              "#46039f"
             ],
             [
              0.2222222222222222,
              "#7201a8"
             ],
             [
              0.3333333333333333,
              "#9c179e"
             ],
             [
              0.4444444444444444,
              "#bd3786"
             ],
             [
              0.5555555555555556,
              "#d8576b"
             ],
             [
              0.6666666666666666,
              "#ed7953"
             ],
             [
              0.7777777777777778,
              "#fb9f3a"
             ],
             [
              0.8888888888888888,
              "#fdca26"
             ],
             [
              1,
              "#f0f921"
             ]
            ],
            "type": "histogram2dcontour"
           }
          ],
          "mesh3d": [
           {
            "colorbar": {
             "outlinewidth": 0,
             "ticks": ""
            },
            "type": "mesh3d"
           }
          ],
          "parcoords": [
           {
            "line": {
             "colorbar": {
              "outlinewidth": 0,
              "ticks": ""
             }
            },
            "type": "parcoords"
           }
          ],
          "pie": [
           {
            "automargin": true,
            "type": "pie"
           }
          ],
          "scatter": [
           {
            "fillpattern": {
             "fillmode": "overlay",
             "size": 10,
             "solidity": 0.2
            },
            "type": "scatter"
           }
          ],
          "scatter3d": [
           {
            "line": {
             "colorbar": {
              "outlinewidth": 0,
              "ticks": ""
             }
            },
            "marker": {
             "colorbar": {
              "outlinewidth": 0,
              "ticks": ""
             }
            },
            "type": "scatter3d"
           }
          ],
          "scattercarpet": [
           {
            "marker": {
             "colorbar": {
              "outlinewidth": 0,
              "ticks": ""
             }
            },
            "type": "scattercarpet"
           }
          ],
          "scattergeo": [
           {
            "marker": {
             "colorbar": {
              "outlinewidth": 0,
              "ticks": ""
             }
            },
            "type": "scattergeo"
           }
          ],
          "scattergl": [
           {
            "marker": {
             "colorbar": {
              "outlinewidth": 0,
              "ticks": ""
             }
            },
            "type": "scattergl"
           }
          ],
          "scattermap": [
           {
            "marker": {
             "colorbar": {
              "outlinewidth": 0,
              "ticks": ""
             }
            },
            "type": "scattermap"
           }
          ],
          "scattermapbox": [
           {
            "marker": {
             "colorbar": {
              "outlinewidth": 0,
              "ticks": ""
             }
            },
            "type": "scattermapbox"
           }
          ],
          "scatterpolar": [
           {
            "marker": {
             "colorbar": {
              "outlinewidth": 0,
              "ticks": ""
             }
            },
            "type": "scatterpolar"
           }
          ],
          "scatterpolargl": [
           {
            "marker": {
             "colorbar": {
              "outlinewidth": 0,
              "ticks": ""
             }
            },
            "type": "scatterpolargl"
           }
          ],
          "scatterternary": [
           {
            "marker": {
             "colorbar": {
              "outlinewidth": 0,
              "ticks": ""
             }
            },
            "type": "scatterternary"
           }
          ],
          "surface": [
           {
            "colorbar": {
             "outlinewidth": 0,
             "ticks": ""
            },
            "colorscale": [
             [
              0,
              "#0d0887"
             ],
             [
              0.1111111111111111,
              "#46039f"
             ],
             [
              0.2222222222222222,
              "#7201a8"
             ],
             [
              0.3333333333333333,
              "#9c179e"
             ],
             [
              0.4444444444444444,
              "#bd3786"
             ],
             [
              0.5555555555555556,
              "#d8576b"
             ],
             [
              0.6666666666666666,
              "#ed7953"
             ],
             [
              0.7777777777777778,
              "#fb9f3a"
             ],
             [
              0.8888888888888888,
              "#fdca26"
             ],
             [
              1,
              "#f0f921"
             ]
            ],
            "type": "surface"
           }
          ],
          "table": [
           {
            "cells": {
             "fill": {
              "color": "#EBF0F8"
             },
             "line": {
              "color": "white"
             }
            },
            "header": {
             "fill": {
              "color": "#C8D4E3"
             },
             "line": {
              "color": "white"
             }
            },
            "type": "table"
           }
          ]
         },
         "layout": {
          "annotationdefaults": {
           "arrowcolor": "#2a3f5f",
           "arrowhead": 0,
           "arrowwidth": 1
          },
          "autotypenumbers": "strict",
          "coloraxis": {
           "colorbar": {
            "outlinewidth": 0,
            "ticks": ""
           }
          },
          "colorscale": {
           "diverging": [
            [
             0,
             "#8e0152"
            ],
            [
             0.1,
             "#c51b7d"
            ],
            [
             0.2,
             "#de77ae"
            ],
            [
             0.3,
             "#f1b6da"
            ],
            [
             0.4,
             "#fde0ef"
            ],
            [
             0.5,
             "#f7f7f7"
            ],
            [
             0.6,
             "#e6f5d0"
            ],
            [
             0.7,
             "#b8e186"
            ],
            [
             0.8,
             "#7fbc41"
            ],
            [
             0.9,
             "#4d9221"
            ],
            [
             1,
             "#276419"
            ]
           ],
           "sequential": [
            [
             0,
             "#0d0887"
            ],
            [
             0.1111111111111111,
             "#46039f"
            ],
            [
             0.2222222222222222,
             "#7201a8"
            ],
            [
             0.3333333333333333,
             "#9c179e"
            ],
            [
             0.4444444444444444,
             "#bd3786"
            ],
            [
             0.5555555555555556,
             "#d8576b"
            ],
            [
             0.6666666666666666,
             "#ed7953"
            ],
            [
             0.7777777777777778,
             "#fb9f3a"
            ],
            [
             0.8888888888888888,
             "#fdca26"
            ],
            [
             1,
             "#f0f921"
            ]
           ],
           "sequentialminus": [
            [
             0,
             "#0d0887"
            ],
            [
             0.1111111111111111,
             "#46039f"
            ],
            [
             0.2222222222222222,
             "#7201a8"
            ],
            [
             0.3333333333333333,
             "#9c179e"
            ],
            [
             0.4444444444444444,
             "#bd3786"
            ],
            [
             0.5555555555555556,
             "#d8576b"
            ],
            [
             0.6666666666666666,
             "#ed7953"
            ],
            [
             0.7777777777777778,
             "#fb9f3a"
            ],
            [
             0.8888888888888888,
             "#fdca26"
            ],
            [
             1,
             "#f0f921"
            ]
           ]
          },
          "colorway": [
           "#636efa",
           "#EF553B",
           "#00cc96",
           "#ab63fa",
           "#FFA15A",
           "#19d3f3",
           "#FF6692",
           "#B6E880",
           "#FF97FF",
           "#FECB52"
          ],
          "font": {
           "color": "#2a3f5f"
          },
          "geo": {
           "bgcolor": "white",
           "lakecolor": "white",
           "landcolor": "#E5ECF6",
           "showlakes": true,
           "showland": true,
           "subunitcolor": "white"
          },
          "hoverlabel": {
           "align": "left"
          },
          "hovermode": "closest",
          "mapbox": {
           "style": "light"
          },
          "paper_bgcolor": "white",
          "plot_bgcolor": "#E5ECF6",
          "polar": {
           "angularaxis": {
            "gridcolor": "white",
            "linecolor": "white",
            "ticks": ""
           },
           "bgcolor": "#E5ECF6",
           "radialaxis": {
            "gridcolor": "white",
            "linecolor": "white",
            "ticks": ""
           }
          },
          "scene": {
           "xaxis": {
            "backgroundcolor": "#E5ECF6",
            "gridcolor": "white",
            "gridwidth": 2,
            "linecolor": "white",
            "showbackground": true,
            "ticks": "",
            "zerolinecolor": "white"
           },
           "yaxis": {
            "backgroundcolor": "#E5ECF6",
            "gridcolor": "white",
            "gridwidth": 2,
            "linecolor": "white",
            "showbackground": true,
            "ticks": "",
            "zerolinecolor": "white"
           },
           "zaxis": {
            "backgroundcolor": "#E5ECF6",
            "gridcolor": "white",
            "gridwidth": 2,
            "linecolor": "white",
            "showbackground": true,
            "ticks": "",
            "zerolinecolor": "white"
           }
          },
          "shapedefaults": {
           "line": {
            "color": "#2a3f5f"
           }
          },
          "ternary": {
           "aaxis": {
            "gridcolor": "white",
            "linecolor": "white",
            "ticks": ""
           },
           "baxis": {
            "gridcolor": "white",
            "linecolor": "white",
            "ticks": ""
           },
           "bgcolor": "#E5ECF6",
           "caxis": {
            "gridcolor": "white",
            "linecolor": "white",
            "ticks": ""
           }
          },
          "title": {
           "x": 0.05
          },
          "xaxis": {
           "automargin": true,
           "gridcolor": "white",
           "linecolor": "white",
           "ticks": "",
           "title": {
            "standoff": 15
           },
           "zerolinecolor": "white",
           "zerolinewidth": 2
          },
          "yaxis": {
           "automargin": true,
           "gridcolor": "white",
           "linecolor": "white",
           "ticks": "",
           "title": {
            "standoff": 15
           },
           "zerolinecolor": "white",
           "zerolinewidth": 2
          }
         }
        },
        "title": {
         "text": "Protein Coding RNA: Independent feasibility tests"
        },
        "xaxis": {
         "showgrid": false,
         "visible": false,
         "zeroline": false
        },
        "yaxis": {
         "showgrid": false,
         "visible": false,
         "zeroline": false
        }
       }
      }
     },
     "metadata": {},
     "output_type": "display_data"
    }
   ],
   "source": [
    "sankey_from_df(result_df(optimization_pcRNA_BD, optimization_pcRNA_TE), \"Protein Coding RNA: Independent feasibility tests\")"
   ]
  },
  {
   "cell_type": "markdown",
   "id": "0d87360d",
   "metadata": {},
   "source": [
    "# Interacting pair analysis\n",
    "\n",
    "For each coding - non-coding gene pair we can use a variety of methods to test for interaction or model feasibility"
   ]
  },
  {
   "cell_type": "markdown",
   "id": "d846786a",
   "metadata": {},
   "source": [
    "## Analysis\n",
    "\n",
    "Construct dataset objects with coding and non-coding genes paired"
   ]
  },
  {
   "cell_type": "code",
   "execution_count": 40,
   "id": "ffc27b03",
   "metadata": {},
   "outputs": [],
   "source": [
    "def construct_paired_dataset(name, pc_df, nc_df, beta, thresh_OB=5, resamples=1000):\n",
    "    '''\n",
    "    Construct dataset object from coding and non-coding dataframes containing\n",
    "    all pairs of coding and non-coding genes to allow correlation or moment \n",
    "    and interacting feasibility tests.\n",
    "\n",
    "    name: dataset name\n",
    "    pc_df: pandas dataframe of protein coding transcript counts\n",
    "    nc_df: pandas dataframe of no-coding transcript counts\n",
    "    beta: estimated capture efficiency\n",
    "    thresh_OB: dataset bootstrap threshold\n",
    "    resamples: dataset bootstrap resamples\n",
    "    '''\n",
    "\n",
    "    # size\n",
    "    pc_genes = pc_df.shape[0]\n",
    "    nc_genes = nc_df.shape[0]\n",
    "    gene_pairs = pc_genes * nc_genes\n",
    "    cells = pc_df.shape[1]\n",
    "\n",
    "    # construct paired count dataframe\n",
    "    counts_df = pd.DataFrame(\n",
    "        index = [f\"Gene-pair-{i}\" for i in range(gene_pairs)],\n",
    "        columns = [f\"Cell-{j}\" for j in range(cells)]\n",
    "    )\n",
    "\n",
    "    # fill with pairs\n",
    "    k = 0\n",
    "    for i in range(pc_genes):\n",
    "        for j in range(nc_genes):\n",
    "            gene_i = pc_df.iloc[i]\n",
    "            gene_j = nc_df.iloc[j]\n",
    "            gene_pair_ij = list(zip(gene_i, gene_j))\n",
    "            counts_df.iloc[k] = gene_pair_ij\n",
    "            k += 1\n",
    "\n",
    "    # construct dataset object\n",
    "    data = dataset.Dataset(name)\n",
    "    data.count_dataset = counts_df\n",
    "    data.cells = cells\n",
    "    data.gene_pairs = gene_pairs\n",
    "\n",
    "    # settings\n",
    "    data.thresh_OB = thresh_OB\n",
    "    data.threshM_OB = thresh_OB\n",
    "    data.resamples = resamples\n",
    "\n",
    "    # set capture\n",
    "    data.beta = beta\n",
    "\n",
    "    return data"
   ]
  },
  {
   "cell_type": "markdown",
   "id": "66fe61cf",
   "metadata": {},
   "source": [
    "### Protein Coding RNA (subset) - lncRNA"
   ]
  },
  {
   "cell_type": "code",
   "execution_count": 41,
   "id": "6c147ac5",
   "metadata": {},
   "outputs": [],
   "source": [
    "# select a subset of protein coding genes\n",
    "data_pcRNA_subset = data_pcRNA.iloc[0:100, :]"
   ]
  },
  {
   "cell_type": "code",
   "execution_count": 42,
   "id": "340ab21f",
   "metadata": {},
   "outputs": [],
   "source": [
    "dataset_pcRNA_lncRNA = construct_paired_dataset(\"pcRNA_lncRNA\", data_pcRNA_subset, data_lncRNA, beta_overall)"
   ]
  },
  {
   "cell_type": "code",
   "execution_count": 43,
   "id": "da0521fc",
   "metadata": {},
   "outputs": [
    {
     "name": "stderr",
     "output_type": "stream",
     "text": [
      "100%|██████████| 16200/16200 [00:25<00:00, 626.14it/s]\n"
     ]
    }
   ],
   "source": [
    "correlation_pcRNA_lncRNA = correlation.Correlation(dataset_pcRNA_lncRNA, printing=False)"
   ]
  },
  {
   "cell_type": "code",
   "execution_count": 45,
   "id": "18ba21fb",
   "metadata": {},
   "outputs": [
    {
     "name": "stderr",
     "output_type": "stream",
     "text": [
      "100%|██████████| 16200/16200 [04:49<00:00, 55.99it/s]\n"
     ]
    }
   ],
   "source": [
    "dataset_pcRNA_lncRNA.compute_moments(tqdm_disable=False)"
   ]
  },
  {
   "cell_type": "code",
   "execution_count": 46,
   "id": "98ba14c4",
   "metadata": {},
   "outputs": [
    {
     "name": "stderr",
     "output_type": "stream",
     "text": [
      "100%|██████████| 16200/16200 [05:01<00:00, 53.69it/s]\n"
     ]
    }
   ],
   "source": [
    "# moment optimization test\n",
    "moment_pcRNA_lncRNA = optimization.Optimization(\n",
    "    dataset_pcRNA_lncRNA,\n",
    "    [\n",
    "        \"dummy_moment\"\n",
    "    ],\n",
    "    tqdm_disable=False,\n",
    "    print_solution=False,\n",
    "    license_file=\"C:/WLS_credentials.json\"\n",
    ")"
   ]
  },
  {
   "cell_type": "code",
   "execution_count": null,
   "id": "799ce5ba",
   "metadata": {},
   "outputs": [],
   "source": []
  },
  {
   "cell_type": "code",
   "execution_count": null,
   "id": "a6d44320",
   "metadata": {},
   "outputs": [],
   "source": []
  },
  {
   "cell_type": "markdown",
   "id": "30ff37b5",
   "metadata": {},
   "source": [
    "### Protein Coding RNA (subset) - miRNA"
   ]
  },
  {
   "cell_type": "code",
   "execution_count": 47,
   "id": "c3372526",
   "metadata": {},
   "outputs": [],
   "source": [
    "# select a subset of protein coding genes\n",
    "data_pcRNA_subset = data_pcRNA.iloc[0:100, :]"
   ]
  },
  {
   "cell_type": "code",
   "execution_count": 48,
   "id": "d7e9277d",
   "metadata": {},
   "outputs": [],
   "source": [
    "dataset_pcRNA_miRNA = construct_paired_dataset(\"pcRNA_miRNA\", data_pcRNA_subset, data_miRNA, beta_overall)"
   ]
  },
  {
   "cell_type": "code",
   "execution_count": 49,
   "id": "1652f14c",
   "metadata": {},
   "outputs": [
    {
     "name": "stderr",
     "output_type": "stream",
     "text": [
      "100%|██████████| 1800/1800 [00:02<00:00, 810.87it/s]\n"
     ]
    }
   ],
   "source": [
    "correlation_pcRNA_miRNA = correlation.Correlation(dataset_pcRNA_miRNA, printing=False)"
   ]
  },
  {
   "cell_type": "code",
   "execution_count": 50,
   "id": "2f43771a",
   "metadata": {},
   "outputs": [
    {
     "name": "stderr",
     "output_type": "stream",
     "text": [
      "100%|██████████| 1800/1800 [00:37<00:00, 48.43it/s]\n"
     ]
    }
   ],
   "source": [
    "dataset_pcRNA_miRNA.compute_moments(tqdm_disable=False)"
   ]
  },
  {
   "cell_type": "code",
   "execution_count": 51,
   "id": "9b023a77",
   "metadata": {},
   "outputs": [
    {
     "name": "stderr",
     "output_type": "stream",
     "text": [
      "100%|██████████| 1800/1800 [00:34<00:00, 52.03it/s]\n"
     ]
    }
   ],
   "source": [
    "# moment optimization test\n",
    "moment_pcRNA_miRNA = optimization.Optimization(\n",
    "    dataset_pcRNA_miRNA,\n",
    "    [\n",
    "        \"dummy_moment\"\n",
    "    ],\n",
    "    tqdm_disable=False,\n",
    "    print_solution=False,\n",
    "    license_file=\"C:/WLS_credentials.json\"\n",
    ")"
   ]
  },
  {
   "cell_type": "code",
   "execution_count": 52,
   "id": "55b7f6a6",
   "metadata": {},
   "outputs": [],
   "source": [
    "# settings\n",
    "dataset_pcRNA_miRNA.splits = 10"
   ]
  },
  {
   "cell_type": "code",
   "execution_count": 53,
   "id": "18fdd70d",
   "metadata": {},
   "outputs": [
    {
     "name": "stderr",
     "output_type": "stream",
     "text": [
      "100%|██████████| 1800/1800 [00:19<00:00, 90.17it/s] \n"
     ]
    }
   ],
   "source": [
    "dataset_pcRNA_miRNA.bootstrap_joint_fm(tqdm_disable=False)"
   ]
  },
  {
   "cell_type": "code",
   "execution_count": 54,
   "id": "2c0b322b",
   "metadata": {},
   "outputs": [
    {
     "name": "stderr",
     "output_type": "stream",
     "text": [
      "100%|██████████| 1800/1800 [03:06<00:00,  9.64it/s]\n"
     ]
    }
   ],
   "source": [
    "dataset_pcRNA_miRNA.bootstrap_joint_probabilities(tqdm_disable=False)"
   ]
  },
  {
   "cell_type": "code",
   "execution_count": 55,
   "id": "c792db36",
   "metadata": {},
   "outputs": [
    {
     "name": "stderr",
     "output_type": "stream",
     "text": [
      " 28%|██▊       | 510/1800 [21:28<16:46,  1.28it/s]   Traceback (most recent call last):\n",
      "  File \"c:\\Users\\willi\\Documents\\ProjectPaper\\M5R_venv\\lib\\site-packages\\interaction_inference\\optimization.py\", line 85, in analyse_dataset\n",
      "    solution_dict[i] = self.optimize(i)\n",
      "  File \"c:\\Users\\willi\\Documents\\ProjectPaper\\M5R_venv\\lib\\site-packages\\interaction_inference\\optimization.py\", line 130, in optimize\n",
      "    variables = constraints.add_variables(self, model, i)\n",
      "  File \"c:\\Users\\willi\\Documents\\ProjectPaper\\M5R_venv\\lib\\site-packages\\interaction_inference\\constraints.py\", line 140, in add_variables\n",
      "    variables['pd'] = model.addMVar(shape=(optimization.dataset.truncation_OB[f'sample-{i}']['max_x1_OB'] + 1, optimization.dataset.truncation_OB[f'sample-{i}']['max_x2_OB'] + 1), vtype=GRB.CONTINUOUS, name=\"pd\", lb=0, ub=1)\n",
      "TypeError: unsupported operand type(s) for +: 'NoneType' and 'int'\n"
     ]
    },
    {
     "name": "stdout",
     "output_type": "stream",
     "text": [
      "Optimization failed: unsupported operand type(s) for +: 'NoneType' and 'int'\n"
     ]
    },
    {
     "name": "stderr",
     "output_type": "stream",
     "text": [
      " 29%|██▊       | 517/1800 [21:29<07:02,  3.04it/s]Traceback (most recent call last):\n",
      "  File \"c:\\Users\\willi\\Documents\\ProjectPaper\\M5R_venv\\lib\\site-packages\\interaction_inference\\optimization.py\", line 85, in analyse_dataset\n",
      "    solution_dict[i] = self.optimize(i)\n",
      "  File \"c:\\Users\\willi\\Documents\\ProjectPaper\\M5R_venv\\lib\\site-packages\\interaction_inference\\optimization.py\", line 130, in optimize\n",
      "    variables = constraints.add_variables(self, model, i)\n",
      "  File \"c:\\Users\\willi\\Documents\\ProjectPaper\\M5R_venv\\lib\\site-packages\\interaction_inference\\constraints.py\", line 140, in add_variables\n",
      "    variables['pd'] = model.addMVar(shape=(optimization.dataset.truncation_OB[f'sample-{i}']['max_x1_OB'] + 1, optimization.dataset.truncation_OB[f'sample-{i}']['max_x2_OB'] + 1), vtype=GRB.CONTINUOUS, name=\"pd\", lb=0, ub=1)\n",
      "TypeError: unsupported operand type(s) for +: 'NoneType' and 'int'\n"
     ]
    },
    {
     "name": "stdout",
     "output_type": "stream",
     "text": [
      "Optimization failed: unsupported operand type(s) for +: 'NoneType' and 'int'\n"
     ]
    },
    {
     "name": "stderr",
     "output_type": "stream",
     "text": [
      " 50%|█████     | 906/1800 [52:54<01:42,  8.71it/s]   Traceback (most recent call last):\n",
      "  File \"c:\\Users\\willi\\Documents\\ProjectPaper\\M5R_venv\\lib\\site-packages\\interaction_inference\\optimization.py\", line 85, in analyse_dataset\n",
      "    solution_dict[i] = self.optimize(i)\n",
      "  File \"c:\\Users\\willi\\Documents\\ProjectPaper\\M5R_venv\\lib\\site-packages\\interaction_inference\\optimization.py\", line 130, in optimize\n",
      "    variables = constraints.add_variables(self, model, i)\n",
      "  File \"c:\\Users\\willi\\Documents\\ProjectPaper\\M5R_venv\\lib\\site-packages\\interaction_inference\\constraints.py\", line 140, in add_variables\n",
      "    variables['pd'] = model.addMVar(shape=(optimization.dataset.truncation_OB[f'sample-{i}']['max_x1_OB'] + 1, optimization.dataset.truncation_OB[f'sample-{i}']['max_x2_OB'] + 1), vtype=GRB.CONTINUOUS, name=\"pd\", lb=0, ub=1)\n",
      "TypeError: unsupported operand type(s) for +: 'NoneType' and 'int'\n",
      " 51%|█████     | 910/1800 [52:54<01:17, 11.55it/s]"
     ]
    },
    {
     "name": "stdout",
     "output_type": "stream",
     "text": [
      "Optimization failed: unsupported operand type(s) for +: 'NoneType' and 'int'\n"
     ]
    },
    {
     "name": "stderr",
     "output_type": "stream",
     "text": [
      " 75%|███████▌  | 1356/1800 [1:21:04<01:12,  6.16it/s]   Traceback (most recent call last):\n",
      "  File \"c:\\Users\\willi\\Documents\\ProjectPaper\\M5R_venv\\lib\\site-packages\\interaction_inference\\optimization.py\", line 85, in analyse_dataset\n",
      "    solution_dict[i] = self.optimize(i)\n",
      "  File \"c:\\Users\\willi\\Documents\\ProjectPaper\\M5R_venv\\lib\\site-packages\\interaction_inference\\optimization.py\", line 130, in optimize\n",
      "    variables = constraints.add_variables(self, model, i)\n",
      "  File \"c:\\Users\\willi\\Documents\\ProjectPaper\\M5R_venv\\lib\\site-packages\\interaction_inference\\constraints.py\", line 140, in add_variables\n",
      "    variables['pd'] = model.addMVar(shape=(optimization.dataset.truncation_OB[f'sample-{i}']['max_x1_OB'] + 1, optimization.dataset.truncation_OB[f'sample-{i}']['max_x2_OB'] + 1), vtype=GRB.CONTINUOUS, name=\"pd\", lb=0, ub=1)\n",
      "TypeError: unsupported operand type(s) for +: 'NoneType' and 'int'\n"
     ]
    },
    {
     "name": "stdout",
     "output_type": "stream",
     "text": [
      "Optimization failed: unsupported operand type(s) for +: 'NoneType' and 'int'\n"
     ]
    },
    {
     "name": "stderr",
     "output_type": "stream",
     "text": [
      " 86%|████████▋ | 1553/1800 [1:31:28<04:44,  1.15s/it]  Traceback (most recent call last):\n",
      "  File \"c:\\Users\\willi\\Documents\\ProjectPaper\\M5R_venv\\lib\\site-packages\\interaction_inference\\optimization.py\", line 85, in analyse_dataset\n",
      "    solution_dict[i] = self.optimize(i)\n",
      "  File \"c:\\Users\\willi\\Documents\\ProjectPaper\\M5R_venv\\lib\\site-packages\\interaction_inference\\optimization.py\", line 130, in optimize\n",
      "    variables = constraints.add_variables(self, model, i)\n",
      "  File \"c:\\Users\\willi\\Documents\\ProjectPaper\\M5R_venv\\lib\\site-packages\\interaction_inference\\constraints.py\", line 140, in add_variables\n",
      "    variables['pd'] = model.addMVar(shape=(optimization.dataset.truncation_OB[f'sample-{i}']['max_x1_OB'] + 1, optimization.dataset.truncation_OB[f'sample-{i}']['max_x2_OB'] + 1), vtype=GRB.CONTINUOUS, name=\"pd\", lb=0, ub=1)\n",
      "TypeError: unsupported operand type(s) for +: 'NoneType' and 'int'\n",
      " 86%|████████▋ | 1555/1800 [1:31:28<03:33,  1.15it/s]"
     ]
    },
    {
     "name": "stdout",
     "output_type": "stream",
     "text": [
      "Optimization failed: unsupported operand type(s) for +: 'NoneType' and 'int'\n"
     ]
    },
    {
     "name": "stderr",
     "output_type": "stream",
     "text": [
      " 87%|████████▋ | 1561/1800 [1:31:29<01:36,  2.47it/s]Traceback (most recent call last):\n",
      "  File \"c:\\Users\\willi\\Documents\\ProjectPaper\\M5R_venv\\lib\\site-packages\\interaction_inference\\optimization.py\", line 85, in analyse_dataset\n",
      "    solution_dict[i] = self.optimize(i)\n",
      "  File \"c:\\Users\\willi\\Documents\\ProjectPaper\\M5R_venv\\lib\\site-packages\\interaction_inference\\optimization.py\", line 130, in optimize\n",
      "    variables = constraints.add_variables(self, model, i)\n",
      "  File \"c:\\Users\\willi\\Documents\\ProjectPaper\\M5R_venv\\lib\\site-packages\\interaction_inference\\constraints.py\", line 140, in add_variables\n",
      "    variables['pd'] = model.addMVar(shape=(optimization.dataset.truncation_OB[f'sample-{i}']['max_x1_OB'] + 1, optimization.dataset.truncation_OB[f'sample-{i}']['max_x2_OB'] + 1), vtype=GRB.CONTINUOUS, name=\"pd\", lb=0, ub=1)\n",
      "TypeError: unsupported operand type(s) for +: 'NoneType' and 'int'\n",
      " 87%|████████▋ | 1563/1800 [1:31:29<01:14,  3.20it/s]"
     ]
    },
    {
     "name": "stdout",
     "output_type": "stream",
     "text": [
      "Optimization failed: unsupported operand type(s) for +: 'NoneType' and 'int'\n"
     ]
    },
    {
     "name": "stderr",
     "output_type": "stream",
     "text": [
      " 91%|█████████▏| 1644/1800 [1:37:08<02:29,  1.04it/s]  Traceback (most recent call last):\n",
      "  File \"c:\\Users\\willi\\Documents\\ProjectPaper\\M5R_venv\\lib\\site-packages\\interaction_inference\\optimization.py\", line 85, in analyse_dataset\n",
      "    solution_dict[i] = self.optimize(i)\n",
      "  File \"c:\\Users\\willi\\Documents\\ProjectPaper\\M5R_venv\\lib\\site-packages\\interaction_inference\\optimization.py\", line 130, in optimize\n",
      "    variables = constraints.add_variables(self, model, i)\n",
      "  File \"c:\\Users\\willi\\Documents\\ProjectPaper\\M5R_venv\\lib\\site-packages\\interaction_inference\\constraints.py\", line 140, in add_variables\n",
      "    variables['pd'] = model.addMVar(shape=(optimization.dataset.truncation_OB[f'sample-{i}']['max_x1_OB'] + 1, optimization.dataset.truncation_OB[f'sample-{i}']['max_x2_OB'] + 1), vtype=GRB.CONTINUOUS, name=\"pd\", lb=0, ub=1)\n",
      "TypeError: unsupported operand type(s) for +: 'NoneType' and 'int'\n",
      " 92%|█████████▏| 1647/1800 [1:37:08<01:34,  1.63it/s]"
     ]
    },
    {
     "name": "stdout",
     "output_type": "stream",
     "text": [
      "Optimization failed: unsupported operand type(s) for +: 'NoneType' and 'int'\n"
     ]
    },
    {
     "name": "stderr",
     "output_type": "stream",
     "text": [
      " 92%|█████████▏| 1651/1800 [1:37:09<01:03,  2.35it/s]Traceback (most recent call last):\n",
      "  File \"c:\\Users\\willi\\Documents\\ProjectPaper\\M5R_venv\\lib\\site-packages\\interaction_inference\\optimization.py\", line 85, in analyse_dataset\n",
      "    solution_dict[i] = self.optimize(i)\n",
      "  File \"c:\\Users\\willi\\Documents\\ProjectPaper\\M5R_venv\\lib\\site-packages\\interaction_inference\\optimization.py\", line 130, in optimize\n",
      "    variables = constraints.add_variables(self, model, i)\n",
      "  File \"c:\\Users\\willi\\Documents\\ProjectPaper\\M5R_venv\\lib\\site-packages\\interaction_inference\\constraints.py\", line 140, in add_variables\n",
      "    variables['pd'] = model.addMVar(shape=(optimization.dataset.truncation_OB[f'sample-{i}']['max_x1_OB'] + 1, optimization.dataset.truncation_OB[f'sample-{i}']['max_x2_OB'] + 1), vtype=GRB.CONTINUOUS, name=\"pd\", lb=0, ub=1)\n",
      "TypeError: unsupported operand type(s) for +: 'NoneType' and 'int'\n",
      " 92%|█████████▏| 1653/1800 [1:37:09<00:47,  3.07it/s]"
     ]
    },
    {
     "name": "stdout",
     "output_type": "stream",
     "text": [
      "Optimization failed: unsupported operand type(s) for +: 'NoneType' and 'int'\n"
     ]
    },
    {
     "name": "stderr",
     "output_type": "stream",
     "text": [
      " 96%|█████████▌| 1728/1800 [1:37:14<00:02, 24.97it/s]Traceback (most recent call last):\n",
      "  File \"c:\\Users\\willi\\Documents\\ProjectPaper\\M5R_venv\\lib\\site-packages\\interaction_inference\\optimization.py\", line 85, in analyse_dataset\n",
      "    solution_dict[i] = self.optimize(i)\n",
      "  File \"c:\\Users\\willi\\Documents\\ProjectPaper\\M5R_venv\\lib\\site-packages\\interaction_inference\\optimization.py\", line 130, in optimize\n",
      "    variables = constraints.add_variables(self, model, i)\n",
      "  File \"c:\\Users\\willi\\Documents\\ProjectPaper\\M5R_venv\\lib\\site-packages\\interaction_inference\\constraints.py\", line 140, in add_variables\n",
      "    variables['pd'] = model.addMVar(shape=(optimization.dataset.truncation_OB[f'sample-{i}']['max_x1_OB'] + 1, optimization.dataset.truncation_OB[f'sample-{i}']['max_x2_OB'] + 1), vtype=GRB.CONTINUOUS, name=\"pd\", lb=0, ub=1)\n",
      "TypeError: unsupported operand type(s) for +: 'NoneType' and 'int'\n",
      "Traceback (most recent call last):\n",
      "  File \"c:\\Users\\willi\\Documents\\ProjectPaper\\M5R_venv\\lib\\site-packages\\interaction_inference\\optimization.py\", line 85, in analyse_dataset\n",
      "    solution_dict[i] = self.optimize(i)\n",
      "  File \"c:\\Users\\willi\\Documents\\ProjectPaper\\M5R_venv\\lib\\site-packages\\interaction_inference\\optimization.py\", line 130, in optimize\n",
      "    variables = constraints.add_variables(self, model, i)\n",
      "  File \"c:\\Users\\willi\\Documents\\ProjectPaper\\M5R_venv\\lib\\site-packages\\interaction_inference\\constraints.py\", line 140, in add_variables\n",
      "    variables['pd'] = model.addMVar(shape=(optimization.dataset.truncation_OB[f'sample-{i}']['max_x1_OB'] + 1, optimization.dataset.truncation_OB[f'sample-{i}']['max_x2_OB'] + 1), vtype=GRB.CONTINUOUS, name=\"pd\", lb=0, ub=1)\n",
      "TypeError: unsupported operand type(s) for +: 'NoneType' and 'int'\n",
      "Traceback (most recent call last):\n",
      "  File \"c:\\Users\\willi\\Documents\\ProjectPaper\\M5R_venv\\lib\\site-packages\\interaction_inference\\optimization.py\", line 85, in analyse_dataset\n",
      "    solution_dict[i] = self.optimize(i)\n",
      "  File \"c:\\Users\\willi\\Documents\\ProjectPaper\\M5R_venv\\lib\\site-packages\\interaction_inference\\optimization.py\", line 130, in optimize\n",
      "    variables = constraints.add_variables(self, model, i)\n",
      "  File \"c:\\Users\\willi\\Documents\\ProjectPaper\\M5R_venv\\lib\\site-packages\\interaction_inference\\constraints.py\", line 140, in add_variables\n",
      "    variables['pd'] = model.addMVar(shape=(optimization.dataset.truncation_OB[f'sample-{i}']['max_x1_OB'] + 1, optimization.dataset.truncation_OB[f'sample-{i}']['max_x2_OB'] + 1), vtype=GRB.CONTINUOUS, name=\"pd\", lb=0, ub=1)\n",
      "TypeError: unsupported operand type(s) for +: 'NoneType' and 'int'\n",
      "Traceback (most recent call last):\n",
      "  File \"c:\\Users\\willi\\Documents\\ProjectPaper\\M5R_venv\\lib\\site-packages\\interaction_inference\\optimization.py\", line 85, in analyse_dataset\n",
      "    solution_dict[i] = self.optimize(i)\n",
      "  File \"c:\\Users\\willi\\Documents\\ProjectPaper\\M5R_venv\\lib\\site-packages\\interaction_inference\\optimization.py\", line 130, in optimize\n",
      "    variables = constraints.add_variables(self, model, i)\n",
      "  File \"c:\\Users\\willi\\Documents\\ProjectPaper\\M5R_venv\\lib\\site-packages\\interaction_inference\\constraints.py\", line 140, in add_variables\n",
      "    variables['pd'] = model.addMVar(shape=(optimization.dataset.truncation_OB[f'sample-{i}']['max_x1_OB'] + 1, optimization.dataset.truncation_OB[f'sample-{i}']['max_x2_OB'] + 1), vtype=GRB.CONTINUOUS, name=\"pd\", lb=0, ub=1)\n",
      "TypeError: unsupported operand type(s) for +: 'NoneType' and 'int'\n",
      " 96%|█████████▌| 1732/1800 [1:37:14<00:02, 27.69it/s]Traceback (most recent call last):\n",
      "  File \"c:\\Users\\willi\\Documents\\ProjectPaper\\M5R_venv\\lib\\site-packages\\interaction_inference\\optimization.py\", line 85, in analyse_dataset\n",
      "    solution_dict[i] = self.optimize(i)\n",
      "  File \"c:\\Users\\willi\\Documents\\ProjectPaper\\M5R_venv\\lib\\site-packages\\interaction_inference\\optimization.py\", line 130, in optimize\n",
      "    variables = constraints.add_variables(self, model, i)\n",
      "  File \"c:\\Users\\willi\\Documents\\ProjectPaper\\M5R_venv\\lib\\site-packages\\interaction_inference\\constraints.py\", line 140, in add_variables\n",
      "    variables['pd'] = model.addMVar(shape=(optimization.dataset.truncation_OB[f'sample-{i}']['max_x1_OB'] + 1, optimization.dataset.truncation_OB[f'sample-{i}']['max_x2_OB'] + 1), vtype=GRB.CONTINUOUS, name=\"pd\", lb=0, ub=1)\n",
      "TypeError: unsupported operand type(s) for +: 'NoneType' and 'int'\n",
      "Traceback (most recent call last):\n",
      "  File \"c:\\Users\\willi\\Documents\\ProjectPaper\\M5R_venv\\lib\\site-packages\\interaction_inference\\optimization.py\", line 85, in analyse_dataset\n",
      "    solution_dict[i] = self.optimize(i)\n",
      "  File \"c:\\Users\\willi\\Documents\\ProjectPaper\\M5R_venv\\lib\\site-packages\\interaction_inference\\optimization.py\", line 130, in optimize\n",
      "    variables = constraints.add_variables(self, model, i)\n",
      "  File \"c:\\Users\\willi\\Documents\\ProjectPaper\\M5R_venv\\lib\\site-packages\\interaction_inference\\constraints.py\", line 140, in add_variables\n",
      "    variables['pd'] = model.addMVar(shape=(optimization.dataset.truncation_OB[f'sample-{i}']['max_x1_OB'] + 1, optimization.dataset.truncation_OB[f'sample-{i}']['max_x2_OB'] + 1), vtype=GRB.CONTINUOUS, name=\"pd\", lb=0, ub=1)\n",
      "TypeError: unsupported operand type(s) for +: 'NoneType' and 'int'\n",
      "Traceback (most recent call last):\n",
      "  File \"c:\\Users\\willi\\Documents\\ProjectPaper\\M5R_venv\\lib\\site-packages\\interaction_inference\\optimization.py\", line 85, in analyse_dataset\n",
      "    solution_dict[i] = self.optimize(i)\n",
      "  File \"c:\\Users\\willi\\Documents\\ProjectPaper\\M5R_venv\\lib\\site-packages\\interaction_inference\\optimization.py\", line 130, in optimize\n",
      "    variables = constraints.add_variables(self, model, i)\n",
      "  File \"c:\\Users\\willi\\Documents\\ProjectPaper\\M5R_venv\\lib\\site-packages\\interaction_inference\\constraints.py\", line 140, in add_variables\n",
      "    variables['pd'] = model.addMVar(shape=(optimization.dataset.truncation_OB[f'sample-{i}']['max_x1_OB'] + 1, optimization.dataset.truncation_OB[f'sample-{i}']['max_x2_OB'] + 1), vtype=GRB.CONTINUOUS, name=\"pd\", lb=0, ub=1)\n",
      "TypeError: unsupported operand type(s) for +: 'NoneType' and 'int'\n",
      " 96%|█████████▋| 1735/1800 [1:37:14<00:02, 27.88it/s]"
     ]
    },
    {
     "name": "stdout",
     "output_type": "stream",
     "text": [
      "Optimization failed: unsupported operand type(s) for +: 'NoneType' and 'int'\n",
      "Optimization failed: unsupported operand type(s) for +: 'NoneType' and 'int'\n",
      "Optimization failed: unsupported operand type(s) for +: 'NoneType' and 'int'\n",
      "Optimization failed: unsupported operand type(s) for +: 'NoneType' and 'int'\n",
      "Optimization failed: unsupported operand type(s) for +: 'NoneType' and 'int'\n",
      "Optimization failed: unsupported operand type(s) for +: 'NoneType' and 'int'\n",
      "Optimization failed: unsupported operand type(s) for +: 'NoneType' and 'int'\n",
      "Optimization failed: unsupported operand type(s) for +: 'NoneType' and 'int'\n"
     ]
    },
    {
     "name": "stderr",
     "output_type": "stream",
     "text": [
      "Traceback (most recent call last):\n",
      "  File \"c:\\Users\\willi\\Documents\\ProjectPaper\\M5R_venv\\lib\\site-packages\\interaction_inference\\optimization.py\", line 85, in analyse_dataset\n",
      "    solution_dict[i] = self.optimize(i)\n",
      "  File \"c:\\Users\\willi\\Documents\\ProjectPaper\\M5R_venv\\lib\\site-packages\\interaction_inference\\optimization.py\", line 130, in optimize\n",
      "    variables = constraints.add_variables(self, model, i)\n",
      "  File \"c:\\Users\\willi\\Documents\\ProjectPaper\\M5R_venv\\lib\\site-packages\\interaction_inference\\constraints.py\", line 140, in add_variables\n",
      "    variables['pd'] = model.addMVar(shape=(optimization.dataset.truncation_OB[f'sample-{i}']['max_x1_OB'] + 1, optimization.dataset.truncation_OB[f'sample-{i}']['max_x2_OB'] + 1), vtype=GRB.CONTINUOUS, name=\"pd\", lb=0, ub=1)\n",
      "TypeError: unsupported operand type(s) for +: 'NoneType' and 'int'\n",
      "Traceback (most recent call last):\n",
      "  File \"c:\\Users\\willi\\Documents\\ProjectPaper\\M5R_venv\\lib\\site-packages\\interaction_inference\\optimization.py\", line 85, in analyse_dataset\n",
      "    solution_dict[i] = self.optimize(i)\n",
      "  File \"c:\\Users\\willi\\Documents\\ProjectPaper\\M5R_venv\\lib\\site-packages\\interaction_inference\\optimization.py\", line 130, in optimize\n",
      "    variables = constraints.add_variables(self, model, i)\n",
      "  File \"c:\\Users\\willi\\Documents\\ProjectPaper\\M5R_venv\\lib\\site-packages\\interaction_inference\\constraints.py\", line 140, in add_variables\n",
      "    variables['pd'] = model.addMVar(shape=(optimization.dataset.truncation_OB[f'sample-{i}']['max_x1_OB'] + 1, optimization.dataset.truncation_OB[f'sample-{i}']['max_x2_OB'] + 1), vtype=GRB.CONTINUOUS, name=\"pd\", lb=0, ub=1)\n",
      "TypeError: unsupported operand type(s) for +: 'NoneType' and 'int'\n",
      "Traceback (most recent call last):\n",
      "  File \"c:\\Users\\willi\\Documents\\ProjectPaper\\M5R_venv\\lib\\site-packages\\interaction_inference\\optimization.py\", line 85, in analyse_dataset\n",
      "    solution_dict[i] = self.optimize(i)\n",
      "  File \"c:\\Users\\willi\\Documents\\ProjectPaper\\M5R_venv\\lib\\site-packages\\interaction_inference\\optimization.py\", line 130, in optimize\n",
      "    variables = constraints.add_variables(self, model, i)\n",
      "  File \"c:\\Users\\willi\\Documents\\ProjectPaper\\M5R_venv\\lib\\site-packages\\interaction_inference\\constraints.py\", line 140, in add_variables\n",
      "    variables['pd'] = model.addMVar(shape=(optimization.dataset.truncation_OB[f'sample-{i}']['max_x1_OB'] + 1, optimization.dataset.truncation_OB[f'sample-{i}']['max_x2_OB'] + 1), vtype=GRB.CONTINUOUS, name=\"pd\", lb=0, ub=1)\n",
      "TypeError: unsupported operand type(s) for +: 'NoneType' and 'int'\n",
      "Traceback (most recent call last):\n",
      "  File \"c:\\Users\\willi\\Documents\\ProjectPaper\\M5R_venv\\lib\\site-packages\\interaction_inference\\optimization.py\", line 85, in analyse_dataset\n",
      "    solution_dict[i] = self.optimize(i)\n",
      "  File \"c:\\Users\\willi\\Documents\\ProjectPaper\\M5R_venv\\lib\\site-packages\\interaction_inference\\optimization.py\", line 130, in optimize\n",
      "    variables = constraints.add_variables(self, model, i)\n",
      "  File \"c:\\Users\\willi\\Documents\\ProjectPaper\\M5R_venv\\lib\\site-packages\\interaction_inference\\constraints.py\", line 140, in add_variables\n",
      "    variables['pd'] = model.addMVar(shape=(optimization.dataset.truncation_OB[f'sample-{i}']['max_x1_OB'] + 1, optimization.dataset.truncation_OB[f'sample-{i}']['max_x2_OB'] + 1), vtype=GRB.CONTINUOUS, name=\"pd\", lb=0, ub=1)\n",
      "TypeError: unsupported operand type(s) for +: 'NoneType' and 'int'\n",
      " 97%|█████████▋| 1739/1800 [1:37:14<00:02, 29.14it/s]Traceback (most recent call last):\n",
      "  File \"c:\\Users\\willi\\Documents\\ProjectPaper\\M5R_venv\\lib\\site-packages\\interaction_inference\\optimization.py\", line 85, in analyse_dataset\n",
      "    solution_dict[i] = self.optimize(i)\n",
      "  File \"c:\\Users\\willi\\Documents\\ProjectPaper\\M5R_venv\\lib\\site-packages\\interaction_inference\\optimization.py\", line 130, in optimize\n",
      "    variables = constraints.add_variables(self, model, i)\n",
      "  File \"c:\\Users\\willi\\Documents\\ProjectPaper\\M5R_venv\\lib\\site-packages\\interaction_inference\\constraints.py\", line 140, in add_variables\n",
      "    variables['pd'] = model.addMVar(shape=(optimization.dataset.truncation_OB[f'sample-{i}']['max_x1_OB'] + 1, optimization.dataset.truncation_OB[f'sample-{i}']['max_x2_OB'] + 1), vtype=GRB.CONTINUOUS, name=\"pd\", lb=0, ub=1)\n",
      "TypeError: unsupported operand type(s) for +: 'NoneType' and 'int'\n",
      "Traceback (most recent call last):\n",
      "  File \"c:\\Users\\willi\\Documents\\ProjectPaper\\M5R_venv\\lib\\site-packages\\interaction_inference\\optimization.py\", line 85, in analyse_dataset\n",
      "    solution_dict[i] = self.optimize(i)\n",
      "  File \"c:\\Users\\willi\\Documents\\ProjectPaper\\M5R_venv\\lib\\site-packages\\interaction_inference\\optimization.py\", line 130, in optimize\n",
      "    variables = constraints.add_variables(self, model, i)\n",
      "  File \"c:\\Users\\willi\\Documents\\ProjectPaper\\M5R_venv\\lib\\site-packages\\interaction_inference\\constraints.py\", line 140, in add_variables\n",
      "    variables['pd'] = model.addMVar(shape=(optimization.dataset.truncation_OB[f'sample-{i}']['max_x1_OB'] + 1, optimization.dataset.truncation_OB[f'sample-{i}']['max_x2_OB'] + 1), vtype=GRB.CONTINUOUS, name=\"pd\", lb=0, ub=1)\n",
      "TypeError: unsupported operand type(s) for +: 'NoneType' and 'int'\n",
      "Traceback (most recent call last):\n",
      "  File \"c:\\Users\\willi\\Documents\\ProjectPaper\\M5R_venv\\lib\\site-packages\\interaction_inference\\optimization.py\", line 85, in analyse_dataset\n",
      "    solution_dict[i] = self.optimize(i)\n",
      "  File \"c:\\Users\\willi\\Documents\\ProjectPaper\\M5R_venv\\lib\\site-packages\\interaction_inference\\optimization.py\", line 130, in optimize\n",
      "    variables = constraints.add_variables(self, model, i)\n",
      "  File \"c:\\Users\\willi\\Documents\\ProjectPaper\\M5R_venv\\lib\\site-packages\\interaction_inference\\constraints.py\", line 140, in add_variables\n",
      "    variables['pd'] = model.addMVar(shape=(optimization.dataset.truncation_OB[f'sample-{i}']['max_x1_OB'] + 1, optimization.dataset.truncation_OB[f'sample-{i}']['max_x2_OB'] + 1), vtype=GRB.CONTINUOUS, name=\"pd\", lb=0, ub=1)\n",
      "TypeError: unsupported operand type(s) for +: 'NoneType' and 'int'\n",
      "Traceback (most recent call last):\n",
      "  File \"c:\\Users\\willi\\Documents\\ProjectPaper\\M5R_venv\\lib\\site-packages\\interaction_inference\\optimization.py\", line 85, in analyse_dataset\n",
      "    solution_dict[i] = self.optimize(i)\n",
      "  File \"c:\\Users\\willi\\Documents\\ProjectPaper\\M5R_venv\\lib\\site-packages\\interaction_inference\\optimization.py\", line 130, in optimize\n",
      "    variables = constraints.add_variables(self, model, i)\n",
      "  File \"c:\\Users\\willi\\Documents\\ProjectPaper\\M5R_venv\\lib\\site-packages\\interaction_inference\\constraints.py\", line 140, in add_variables\n",
      "    variables['pd'] = model.addMVar(shape=(optimization.dataset.truncation_OB[f'sample-{i}']['max_x1_OB'] + 1, optimization.dataset.truncation_OB[f'sample-{i}']['max_x2_OB'] + 1), vtype=GRB.CONTINUOUS, name=\"pd\", lb=0, ub=1)\n",
      "TypeError: unsupported operand type(s) for +: 'NoneType' and 'int'\n",
      " 97%|█████████▋| 1743/1800 [1:37:14<00:01, 30.07it/s]"
     ]
    },
    {
     "name": "stdout",
     "output_type": "stream",
     "text": [
      "Optimization failed: unsupported operand type(s) for +: 'NoneType' and 'int'\n",
      "Optimization failed: unsupported operand type(s) for +: 'NoneType' and 'int'\n",
      "Optimization failed: unsupported operand type(s) for +: 'NoneType' and 'int'\n",
      "Optimization failed: unsupported operand type(s) for +: 'NoneType' and 'int'\n",
      "Optimization failed: unsupported operand type(s) for +: 'NoneType' and 'int'\n",
      "Optimization failed: unsupported operand type(s) for +: 'NoneType' and 'int'\n",
      "Optimization failed: unsupported operand type(s) for +: 'NoneType' and 'int'\n"
     ]
    },
    {
     "name": "stderr",
     "output_type": "stream",
     "text": [
      "Traceback (most recent call last):\n",
      "  File \"c:\\Users\\willi\\Documents\\ProjectPaper\\M5R_venv\\lib\\site-packages\\interaction_inference\\optimization.py\", line 85, in analyse_dataset\n",
      "    solution_dict[i] = self.optimize(i)\n",
      "  File \"c:\\Users\\willi\\Documents\\ProjectPaper\\M5R_venv\\lib\\site-packages\\interaction_inference\\optimization.py\", line 130, in optimize\n",
      "    variables = constraints.add_variables(self, model, i)\n",
      "  File \"c:\\Users\\willi\\Documents\\ProjectPaper\\M5R_venv\\lib\\site-packages\\interaction_inference\\constraints.py\", line 140, in add_variables\n",
      "    variables['pd'] = model.addMVar(shape=(optimization.dataset.truncation_OB[f'sample-{i}']['max_x1_OB'] + 1, optimization.dataset.truncation_OB[f'sample-{i}']['max_x2_OB'] + 1), vtype=GRB.CONTINUOUS, name=\"pd\", lb=0, ub=1)\n",
      "TypeError: unsupported operand type(s) for +: 'NoneType' and 'int'\n",
      "Traceback (most recent call last):\n",
      "  File \"c:\\Users\\willi\\Documents\\ProjectPaper\\M5R_venv\\lib\\site-packages\\interaction_inference\\optimization.py\", line 85, in analyse_dataset\n",
      "    solution_dict[i] = self.optimize(i)\n",
      "  File \"c:\\Users\\willi\\Documents\\ProjectPaper\\M5R_venv\\lib\\site-packages\\interaction_inference\\optimization.py\", line 130, in optimize\n",
      "    variables = constraints.add_variables(self, model, i)\n",
      "  File \"c:\\Users\\willi\\Documents\\ProjectPaper\\M5R_venv\\lib\\site-packages\\interaction_inference\\constraints.py\", line 140, in add_variables\n",
      "    variables['pd'] = model.addMVar(shape=(optimization.dataset.truncation_OB[f'sample-{i}']['max_x1_OB'] + 1, optimization.dataset.truncation_OB[f'sample-{i}']['max_x2_OB'] + 1), vtype=GRB.CONTINUOUS, name=\"pd\", lb=0, ub=1)\n",
      "TypeError: unsupported operand type(s) for +: 'NoneType' and 'int'\n",
      "Traceback (most recent call last):\n",
      "  File \"c:\\Users\\willi\\Documents\\ProjectPaper\\M5R_venv\\lib\\site-packages\\interaction_inference\\optimization.py\", line 85, in analyse_dataset\n",
      "    solution_dict[i] = self.optimize(i)\n",
      "  File \"c:\\Users\\willi\\Documents\\ProjectPaper\\M5R_venv\\lib\\site-packages\\interaction_inference\\optimization.py\", line 130, in optimize\n",
      "    variables = constraints.add_variables(self, model, i)\n",
      "  File \"c:\\Users\\willi\\Documents\\ProjectPaper\\M5R_venv\\lib\\site-packages\\interaction_inference\\constraints.py\", line 140, in add_variables\n",
      "    variables['pd'] = model.addMVar(shape=(optimization.dataset.truncation_OB[f'sample-{i}']['max_x1_OB'] + 1, optimization.dataset.truncation_OB[f'sample-{i}']['max_x2_OB'] + 1), vtype=GRB.CONTINUOUS, name=\"pd\", lb=0, ub=1)\n",
      "TypeError: unsupported operand type(s) for +: 'NoneType' and 'int'\n",
      "Traceback (most recent call last):\n",
      "  File \"c:\\Users\\willi\\Documents\\ProjectPaper\\M5R_venv\\lib\\site-packages\\interaction_inference\\optimization.py\", line 85, in analyse_dataset\n",
      "    solution_dict[i] = self.optimize(i)\n",
      "  File \"c:\\Users\\willi\\Documents\\ProjectPaper\\M5R_venv\\lib\\site-packages\\interaction_inference\\optimization.py\", line 130, in optimize\n",
      "    variables = constraints.add_variables(self, model, i)\n",
      "  File \"c:\\Users\\willi\\Documents\\ProjectPaper\\M5R_venv\\lib\\site-packages\\interaction_inference\\constraints.py\", line 140, in add_variables\n",
      "    variables['pd'] = model.addMVar(shape=(optimization.dataset.truncation_OB[f'sample-{i}']['max_x1_OB'] + 1, optimization.dataset.truncation_OB[f'sample-{i}']['max_x2_OB'] + 1), vtype=GRB.CONTINUOUS, name=\"pd\", lb=0, ub=1)\n",
      "TypeError: unsupported operand type(s) for +: 'NoneType' and 'int'\n",
      " 97%|█████████▋| 1747/1800 [1:37:15<00:01, 31.49it/s]Traceback (most recent call last):\n",
      "  File \"c:\\Users\\willi\\Documents\\ProjectPaper\\M5R_venv\\lib\\site-packages\\interaction_inference\\optimization.py\", line 85, in analyse_dataset\n",
      "    solution_dict[i] = self.optimize(i)\n",
      "  File \"c:\\Users\\willi\\Documents\\ProjectPaper\\M5R_venv\\lib\\site-packages\\interaction_inference\\optimization.py\", line 130, in optimize\n",
      "    variables = constraints.add_variables(self, model, i)\n",
      "  File \"c:\\Users\\willi\\Documents\\ProjectPaper\\M5R_venv\\lib\\site-packages\\interaction_inference\\constraints.py\", line 140, in add_variables\n",
      "    variables['pd'] = model.addMVar(shape=(optimization.dataset.truncation_OB[f'sample-{i}']['max_x1_OB'] + 1, optimization.dataset.truncation_OB[f'sample-{i}']['max_x2_OB'] + 1), vtype=GRB.CONTINUOUS, name=\"pd\", lb=0, ub=1)\n",
      "TypeError: unsupported operand type(s) for +: 'NoneType' and 'int'\n",
      "Traceback (most recent call last):\n",
      "  File \"c:\\Users\\willi\\Documents\\ProjectPaper\\M5R_venv\\lib\\site-packages\\interaction_inference\\optimization.py\", line 85, in analyse_dataset\n",
      "    solution_dict[i] = self.optimize(i)\n",
      "  File \"c:\\Users\\willi\\Documents\\ProjectPaper\\M5R_venv\\lib\\site-packages\\interaction_inference\\optimization.py\", line 130, in optimize\n",
      "    variables = constraints.add_variables(self, model, i)\n",
      "  File \"c:\\Users\\willi\\Documents\\ProjectPaper\\M5R_venv\\lib\\site-packages\\interaction_inference\\constraints.py\", line 140, in add_variables\n",
      "    variables['pd'] = model.addMVar(shape=(optimization.dataset.truncation_OB[f'sample-{i}']['max_x1_OB'] + 1, optimization.dataset.truncation_OB[f'sample-{i}']['max_x2_OB'] + 1), vtype=GRB.CONTINUOUS, name=\"pd\", lb=0, ub=1)\n",
      "TypeError: unsupported operand type(s) for +: 'NoneType' and 'int'\n",
      "Traceback (most recent call last):\n",
      "  File \"c:\\Users\\willi\\Documents\\ProjectPaper\\M5R_venv\\lib\\site-packages\\interaction_inference\\optimization.py\", line 85, in analyse_dataset\n",
      "    solution_dict[i] = self.optimize(i)\n",
      "  File \"c:\\Users\\willi\\Documents\\ProjectPaper\\M5R_venv\\lib\\site-packages\\interaction_inference\\optimization.py\", line 130, in optimize\n",
      "    variables = constraints.add_variables(self, model, i)\n",
      "  File \"c:\\Users\\willi\\Documents\\ProjectPaper\\M5R_venv\\lib\\site-packages\\interaction_inference\\constraints.py\", line 140, in add_variables\n",
      "    variables['pd'] = model.addMVar(shape=(optimization.dataset.truncation_OB[f'sample-{i}']['max_x1_OB'] + 1, optimization.dataset.truncation_OB[f'sample-{i}']['max_x2_OB'] + 1), vtype=GRB.CONTINUOUS, name=\"pd\", lb=0, ub=1)\n",
      "TypeError: unsupported operand type(s) for +: 'NoneType' and 'int'\n",
      "Traceback (most recent call last):\n",
      "  File \"c:\\Users\\willi\\Documents\\ProjectPaper\\M5R_venv\\lib\\site-packages\\interaction_inference\\optimization.py\", line 85, in analyse_dataset\n",
      "    solution_dict[i] = self.optimize(i)\n",
      "  File \"c:\\Users\\willi\\Documents\\ProjectPaper\\M5R_venv\\lib\\site-packages\\interaction_inference\\optimization.py\", line 130, in optimize\n",
      "    variables = constraints.add_variables(self, model, i)\n",
      "  File \"c:\\Users\\willi\\Documents\\ProjectPaper\\M5R_venv\\lib\\site-packages\\interaction_inference\\constraints.py\", line 140, in add_variables\n",
      "    variables['pd'] = model.addMVar(shape=(optimization.dataset.truncation_OB[f'sample-{i}']['max_x1_OB'] + 1, optimization.dataset.truncation_OB[f'sample-{i}']['max_x2_OB'] + 1), vtype=GRB.CONTINUOUS, name=\"pd\", lb=0, ub=1)\n",
      "TypeError: unsupported operand type(s) for +: 'NoneType' and 'int'\n",
      " 97%|█████████▋| 1751/1800 [1:37:15<00:01, 33.03it/s]"
     ]
    },
    {
     "name": "stdout",
     "output_type": "stream",
     "text": [
      "Optimization failed: unsupported operand type(s) for +: 'NoneType' and 'int'\n",
      "Optimization failed: unsupported operand type(s) for +: 'NoneType' and 'int'\n",
      "Optimization failed: unsupported operand type(s) for +: 'NoneType' and 'int'\n",
      "Optimization failed: unsupported operand type(s) for +: 'NoneType' and 'int'\n",
      "Optimization failed: unsupported operand type(s) for +: 'NoneType' and 'int'\n",
      "Optimization failed: unsupported operand type(s) for +: 'NoneType' and 'int'\n",
      "Optimization failed: unsupported operand type(s) for +: 'NoneType' and 'int'\n",
      "Optimization failed: unsupported operand type(s) for +: 'NoneType' and 'int'\n"
     ]
    },
    {
     "name": "stderr",
     "output_type": "stream",
     "text": [
      "Traceback (most recent call last):\n",
      "  File \"c:\\Users\\willi\\Documents\\ProjectPaper\\M5R_venv\\lib\\site-packages\\interaction_inference\\optimization.py\", line 85, in analyse_dataset\n",
      "    solution_dict[i] = self.optimize(i)\n",
      "  File \"c:\\Users\\willi\\Documents\\ProjectPaper\\M5R_venv\\lib\\site-packages\\interaction_inference\\optimization.py\", line 130, in optimize\n",
      "    variables = constraints.add_variables(self, model, i)\n",
      "  File \"c:\\Users\\willi\\Documents\\ProjectPaper\\M5R_venv\\lib\\site-packages\\interaction_inference\\constraints.py\", line 140, in add_variables\n",
      "    variables['pd'] = model.addMVar(shape=(optimization.dataset.truncation_OB[f'sample-{i}']['max_x1_OB'] + 1, optimization.dataset.truncation_OB[f'sample-{i}']['max_x2_OB'] + 1), vtype=GRB.CONTINUOUS, name=\"pd\", lb=0, ub=1)\n",
      "TypeError: unsupported operand type(s) for +: 'NoneType' and 'int'\n",
      "Traceback (most recent call last):\n",
      "  File \"c:\\Users\\willi\\Documents\\ProjectPaper\\M5R_venv\\lib\\site-packages\\interaction_inference\\optimization.py\", line 85, in analyse_dataset\n",
      "    solution_dict[i] = self.optimize(i)\n",
      "  File \"c:\\Users\\willi\\Documents\\ProjectPaper\\M5R_venv\\lib\\site-packages\\interaction_inference\\optimization.py\", line 130, in optimize\n",
      "    variables = constraints.add_variables(self, model, i)\n",
      "  File \"c:\\Users\\willi\\Documents\\ProjectPaper\\M5R_venv\\lib\\site-packages\\interaction_inference\\constraints.py\", line 140, in add_variables\n",
      "    variables['pd'] = model.addMVar(shape=(optimization.dataset.truncation_OB[f'sample-{i}']['max_x1_OB'] + 1, optimization.dataset.truncation_OB[f'sample-{i}']['max_x2_OB'] + 1), vtype=GRB.CONTINUOUS, name=\"pd\", lb=0, ub=1)\n",
      "TypeError: unsupported operand type(s) for +: 'NoneType' and 'int'\n",
      "Traceback (most recent call last):\n",
      "  File \"c:\\Users\\willi\\Documents\\ProjectPaper\\M5R_venv\\lib\\site-packages\\interaction_inference\\optimization.py\", line 85, in analyse_dataset\n",
      "    solution_dict[i] = self.optimize(i)\n",
      "  File \"c:\\Users\\willi\\Documents\\ProjectPaper\\M5R_venv\\lib\\site-packages\\interaction_inference\\optimization.py\", line 130, in optimize\n",
      "    variables = constraints.add_variables(self, model, i)\n",
      "  File \"c:\\Users\\willi\\Documents\\ProjectPaper\\M5R_venv\\lib\\site-packages\\interaction_inference\\constraints.py\", line 140, in add_variables\n",
      "    variables['pd'] = model.addMVar(shape=(optimization.dataset.truncation_OB[f'sample-{i}']['max_x1_OB'] + 1, optimization.dataset.truncation_OB[f'sample-{i}']['max_x2_OB'] + 1), vtype=GRB.CONTINUOUS, name=\"pd\", lb=0, ub=1)\n",
      "TypeError: unsupported operand type(s) for +: 'NoneType' and 'int'\n",
      "Traceback (most recent call last):\n",
      "  File \"c:\\Users\\willi\\Documents\\ProjectPaper\\M5R_venv\\lib\\site-packages\\interaction_inference\\optimization.py\", line 85, in analyse_dataset\n",
      "    solution_dict[i] = self.optimize(i)\n",
      "  File \"c:\\Users\\willi\\Documents\\ProjectPaper\\M5R_venv\\lib\\site-packages\\interaction_inference\\optimization.py\", line 130, in optimize\n",
      "    variables = constraints.add_variables(self, model, i)\n",
      "  File \"c:\\Users\\willi\\Documents\\ProjectPaper\\M5R_venv\\lib\\site-packages\\interaction_inference\\constraints.py\", line 140, in add_variables\n",
      "    variables['pd'] = model.addMVar(shape=(optimization.dataset.truncation_OB[f'sample-{i}']['max_x1_OB'] + 1, optimization.dataset.truncation_OB[f'sample-{i}']['max_x2_OB'] + 1), vtype=GRB.CONTINUOUS, name=\"pd\", lb=0, ub=1)\n",
      "TypeError: unsupported operand type(s) for +: 'NoneType' and 'int'\n",
      " 98%|█████████▊| 1755/1800 [1:37:15<00:01, 30.51it/s]Traceback (most recent call last):\n",
      "  File \"c:\\Users\\willi\\Documents\\ProjectPaper\\M5R_venv\\lib\\site-packages\\interaction_inference\\optimization.py\", line 85, in analyse_dataset\n",
      "    solution_dict[i] = self.optimize(i)\n",
      "  File \"c:\\Users\\willi\\Documents\\ProjectPaper\\M5R_venv\\lib\\site-packages\\interaction_inference\\optimization.py\", line 130, in optimize\n",
      "    variables = constraints.add_variables(self, model, i)\n",
      "  File \"c:\\Users\\willi\\Documents\\ProjectPaper\\M5R_venv\\lib\\site-packages\\interaction_inference\\constraints.py\", line 140, in add_variables\n",
      "    variables['pd'] = model.addMVar(shape=(optimization.dataset.truncation_OB[f'sample-{i}']['max_x1_OB'] + 1, optimization.dataset.truncation_OB[f'sample-{i}']['max_x2_OB'] + 1), vtype=GRB.CONTINUOUS, name=\"pd\", lb=0, ub=1)\n",
      "TypeError: unsupported operand type(s) for +: 'NoneType' and 'int'\n",
      "Traceback (most recent call last):\n",
      "  File \"c:\\Users\\willi\\Documents\\ProjectPaper\\M5R_venv\\lib\\site-packages\\interaction_inference\\optimization.py\", line 85, in analyse_dataset\n",
      "    solution_dict[i] = self.optimize(i)\n",
      "  File \"c:\\Users\\willi\\Documents\\ProjectPaper\\M5R_venv\\lib\\site-packages\\interaction_inference\\optimization.py\", line 130, in optimize\n",
      "    variables = constraints.add_variables(self, model, i)\n",
      "  File \"c:\\Users\\willi\\Documents\\ProjectPaper\\M5R_venv\\lib\\site-packages\\interaction_inference\\constraints.py\", line 140, in add_variables\n",
      "    variables['pd'] = model.addMVar(shape=(optimization.dataset.truncation_OB[f'sample-{i}']['max_x1_OB'] + 1, optimization.dataset.truncation_OB[f'sample-{i}']['max_x2_OB'] + 1), vtype=GRB.CONTINUOUS, name=\"pd\", lb=0, ub=1)\n",
      "TypeError: unsupported operand type(s) for +: 'NoneType' and 'int'\n"
     ]
    },
    {
     "name": "stdout",
     "output_type": "stream",
     "text": [
      "Optimization failed: unsupported operand type(s) for +: 'NoneType' and 'int'\n",
      "Optimization failed: unsupported operand type(s) for +: 'NoneType' and 'int'\n",
      "Optimization failed: unsupported operand type(s) for +: 'NoneType' and 'int'\n",
      "Optimization failed: unsupported operand type(s) for +: 'NoneType' and 'int'\n",
      "Optimization failed: unsupported operand type(s) for +: 'NoneType' and 'int'\n",
      "Optimization failed: unsupported operand type(s) for +: 'NoneType' and 'int'\n",
      "Optimization failed: unsupported operand type(s) for +: 'NoneType' and 'int'\n"
     ]
    },
    {
     "name": "stderr",
     "output_type": "stream",
     "text": [
      "Traceback (most recent call last):\n",
      "  File \"c:\\Users\\willi\\Documents\\ProjectPaper\\M5R_venv\\lib\\site-packages\\interaction_inference\\optimization.py\", line 85, in analyse_dataset\n",
      "    solution_dict[i] = self.optimize(i)\n",
      "  File \"c:\\Users\\willi\\Documents\\ProjectPaper\\M5R_venv\\lib\\site-packages\\interaction_inference\\optimization.py\", line 130, in optimize\n",
      "    variables = constraints.add_variables(self, model, i)\n",
      "  File \"c:\\Users\\willi\\Documents\\ProjectPaper\\M5R_venv\\lib\\site-packages\\interaction_inference\\constraints.py\", line 140, in add_variables\n",
      "    variables['pd'] = model.addMVar(shape=(optimization.dataset.truncation_OB[f'sample-{i}']['max_x1_OB'] + 1, optimization.dataset.truncation_OB[f'sample-{i}']['max_x2_OB'] + 1), vtype=GRB.CONTINUOUS, name=\"pd\", lb=0, ub=1)\n",
      "TypeError: unsupported operand type(s) for +: 'NoneType' and 'int'\n",
      "Traceback (most recent call last):\n",
      "  File \"c:\\Users\\willi\\Documents\\ProjectPaper\\M5R_venv\\lib\\site-packages\\interaction_inference\\optimization.py\", line 85, in analyse_dataset\n",
      "    solution_dict[i] = self.optimize(i)\n",
      "  File \"c:\\Users\\willi\\Documents\\ProjectPaper\\M5R_venv\\lib\\site-packages\\interaction_inference\\optimization.py\", line 130, in optimize\n",
      "    variables = constraints.add_variables(self, model, i)\n",
      "  File \"c:\\Users\\willi\\Documents\\ProjectPaper\\M5R_venv\\lib\\site-packages\\interaction_inference\\constraints.py\", line 140, in add_variables\n",
      "    variables['pd'] = model.addMVar(shape=(optimization.dataset.truncation_OB[f'sample-{i}']['max_x1_OB'] + 1, optimization.dataset.truncation_OB[f'sample-{i}']['max_x2_OB'] + 1), vtype=GRB.CONTINUOUS, name=\"pd\", lb=0, ub=1)\n",
      "TypeError: unsupported operand type(s) for +: 'NoneType' and 'int'\n",
      " 98%|█████████▊| 1759/1800 [1:37:15<00:01, 32.54it/s]Traceback (most recent call last):\n",
      "  File \"c:\\Users\\willi\\Documents\\ProjectPaper\\M5R_venv\\lib\\site-packages\\interaction_inference\\optimization.py\", line 85, in analyse_dataset\n",
      "    solution_dict[i] = self.optimize(i)\n",
      "  File \"c:\\Users\\willi\\Documents\\ProjectPaper\\M5R_venv\\lib\\site-packages\\interaction_inference\\optimization.py\", line 130, in optimize\n",
      "    variables = constraints.add_variables(self, model, i)\n",
      "  File \"c:\\Users\\willi\\Documents\\ProjectPaper\\M5R_venv\\lib\\site-packages\\interaction_inference\\constraints.py\", line 140, in add_variables\n",
      "    variables['pd'] = model.addMVar(shape=(optimization.dataset.truncation_OB[f'sample-{i}']['max_x1_OB'] + 1, optimization.dataset.truncation_OB[f'sample-{i}']['max_x2_OB'] + 1), vtype=GRB.CONTINUOUS, name=\"pd\", lb=0, ub=1)\n",
      "TypeError: unsupported operand type(s) for +: 'NoneType' and 'int'\n",
      "Traceback (most recent call last):\n",
      "  File \"c:\\Users\\willi\\Documents\\ProjectPaper\\M5R_venv\\lib\\site-packages\\interaction_inference\\optimization.py\", line 85, in analyse_dataset\n",
      "    solution_dict[i] = self.optimize(i)\n",
      "  File \"c:\\Users\\willi\\Documents\\ProjectPaper\\M5R_venv\\lib\\site-packages\\interaction_inference\\optimization.py\", line 130, in optimize\n",
      "    variables = constraints.add_variables(self, model, i)\n",
      "  File \"c:\\Users\\willi\\Documents\\ProjectPaper\\M5R_venv\\lib\\site-packages\\interaction_inference\\constraints.py\", line 140, in add_variables\n",
      "    variables['pd'] = model.addMVar(shape=(optimization.dataset.truncation_OB[f'sample-{i}']['max_x1_OB'] + 1, optimization.dataset.truncation_OB[f'sample-{i}']['max_x2_OB'] + 1), vtype=GRB.CONTINUOUS, name=\"pd\", lb=0, ub=1)\n",
      "TypeError: unsupported operand type(s) for +: 'NoneType' and 'int'\n",
      "Traceback (most recent call last):\n",
      "  File \"c:\\Users\\willi\\Documents\\ProjectPaper\\M5R_venv\\lib\\site-packages\\interaction_inference\\optimization.py\", line 85, in analyse_dataset\n",
      "    solution_dict[i] = self.optimize(i)\n",
      "  File \"c:\\Users\\willi\\Documents\\ProjectPaper\\M5R_venv\\lib\\site-packages\\interaction_inference\\optimization.py\", line 130, in optimize\n",
      "    variables = constraints.add_variables(self, model, i)\n",
      "  File \"c:\\Users\\willi\\Documents\\ProjectPaper\\M5R_venv\\lib\\site-packages\\interaction_inference\\constraints.py\", line 140, in add_variables\n",
      "    variables['pd'] = model.addMVar(shape=(optimization.dataset.truncation_OB[f'sample-{i}']['max_x1_OB'] + 1, optimization.dataset.truncation_OB[f'sample-{i}']['max_x2_OB'] + 1), vtype=GRB.CONTINUOUS, name=\"pd\", lb=0, ub=1)\n",
      "TypeError: unsupported operand type(s) for +: 'NoneType' and 'int'\n",
      "Traceback (most recent call last):\n",
      "  File \"c:\\Users\\willi\\Documents\\ProjectPaper\\M5R_venv\\lib\\site-packages\\interaction_inference\\optimization.py\", line 85, in analyse_dataset\n",
      "    solution_dict[i] = self.optimize(i)\n",
      "  File \"c:\\Users\\willi\\Documents\\ProjectPaper\\M5R_venv\\lib\\site-packages\\interaction_inference\\optimization.py\", line 130, in optimize\n",
      "    variables = constraints.add_variables(self, model, i)\n",
      "  File \"c:\\Users\\willi\\Documents\\ProjectPaper\\M5R_venv\\lib\\site-packages\\interaction_inference\\constraints.py\", line 140, in add_variables\n",
      "    variables['pd'] = model.addMVar(shape=(optimization.dataset.truncation_OB[f'sample-{i}']['max_x1_OB'] + 1, optimization.dataset.truncation_OB[f'sample-{i}']['max_x2_OB'] + 1), vtype=GRB.CONTINUOUS, name=\"pd\", lb=0, ub=1)\n",
      "TypeError: unsupported operand type(s) for +: 'NoneType' and 'int'\n",
      " 98%|█████████▊| 1763/1800 [1:37:15<00:01, 33.77it/s]Traceback (most recent call last):\n",
      "  File \"c:\\Users\\willi\\Documents\\ProjectPaper\\M5R_venv\\lib\\site-packages\\interaction_inference\\optimization.py\", line 85, in analyse_dataset\n",
      "    solution_dict[i] = self.optimize(i)\n",
      "  File \"c:\\Users\\willi\\Documents\\ProjectPaper\\M5R_venv\\lib\\site-packages\\interaction_inference\\optimization.py\", line 130, in optimize\n",
      "    variables = constraints.add_variables(self, model, i)\n",
      "  File \"c:\\Users\\willi\\Documents\\ProjectPaper\\M5R_venv\\lib\\site-packages\\interaction_inference\\constraints.py\", line 140, in add_variables\n",
      "    variables['pd'] = model.addMVar(shape=(optimization.dataset.truncation_OB[f'sample-{i}']['max_x1_OB'] + 1, optimization.dataset.truncation_OB[f'sample-{i}']['max_x2_OB'] + 1), vtype=GRB.CONTINUOUS, name=\"pd\", lb=0, ub=1)\n",
      "TypeError: unsupported operand type(s) for +: 'NoneType' and 'int'\n"
     ]
    },
    {
     "name": "stdout",
     "output_type": "stream",
     "text": [
      "Optimization failed: unsupported operand type(s) for +: 'NoneType' and 'int'\n",
      "Optimization failed: unsupported operand type(s) for +: 'NoneType' and 'int'\n",
      "Optimization failed: unsupported operand type(s) for +: 'NoneType' and 'int'\n",
      "Optimization failed: unsupported operand type(s) for +: 'NoneType' and 'int'\n",
      "Optimization failed: unsupported operand type(s) for +: 'NoneType' and 'int'\n",
      "Optimization failed: unsupported operand type(s) for +: 'NoneType' and 'int'\n"
     ]
    },
    {
     "name": "stderr",
     "output_type": "stream",
     "text": [
      " 99%|█████████▉| 1787/1800 [1:42:18<00:21,  1.67s/it]Traceback (most recent call last):\n",
      "  File \"c:\\Users\\willi\\Documents\\ProjectPaper\\M5R_venv\\lib\\site-packages\\interaction_inference\\optimization.py\", line 85, in analyse_dataset\n",
      "    solution_dict[i] = self.optimize(i)\n",
      "  File \"c:\\Users\\willi\\Documents\\ProjectPaper\\M5R_venv\\lib\\site-packages\\interaction_inference\\optimization.py\", line 130, in optimize\n",
      "    variables = constraints.add_variables(self, model, i)\n",
      "  File \"c:\\Users\\willi\\Documents\\ProjectPaper\\M5R_venv\\lib\\site-packages\\interaction_inference\\constraints.py\", line 140, in add_variables\n",
      "    variables['pd'] = model.addMVar(shape=(optimization.dataset.truncation_OB[f'sample-{i}']['max_x1_OB'] + 1, optimization.dataset.truncation_OB[f'sample-{i}']['max_x2_OB'] + 1), vtype=GRB.CONTINUOUS, name=\"pd\", lb=0, ub=1)\n",
      "TypeError: unsupported operand type(s) for +: 'NoneType' and 'int'\n",
      " 99%|█████████▉| 1789/1800 [1:42:19<00:12,  1.12s/it]Traceback (most recent call last):\n",
      "  File \"c:\\Users\\willi\\Documents\\ProjectPaper\\M5R_venv\\lib\\site-packages\\interaction_inference\\optimization.py\", line 85, in analyse_dataset\n",
      "    solution_dict[i] = self.optimize(i)\n",
      "  File \"c:\\Users\\willi\\Documents\\ProjectPaper\\M5R_venv\\lib\\site-packages\\interaction_inference\\optimization.py\", line 130, in optimize\n",
      "    variables = constraints.add_variables(self, model, i)\n",
      "  File \"c:\\Users\\willi\\Documents\\ProjectPaper\\M5R_venv\\lib\\site-packages\\interaction_inference\\constraints.py\", line 140, in add_variables\n",
      "    variables['pd'] = model.addMVar(shape=(optimization.dataset.truncation_OB[f'sample-{i}']['max_x1_OB'] + 1, optimization.dataset.truncation_OB[f'sample-{i}']['max_x2_OB'] + 1), vtype=GRB.CONTINUOUS, name=\"pd\", lb=0, ub=1)\n",
      "TypeError: unsupported operand type(s) for +: 'NoneType' and 'int'\n",
      "100%|█████████▉| 1793/1800 [1:42:19<00:04,  1.71it/s]"
     ]
    },
    {
     "name": "stdout",
     "output_type": "stream",
     "text": [
      "Optimization failed: unsupported operand type(s) for +: 'NoneType' and 'int'\n",
      "Optimization failed: unsupported operand type(s) for +: 'NoneType' and 'int'\n",
      "Optimization failed: unsupported operand type(s) for +: 'NoneType' and 'int'\n"
     ]
    },
    {
     "name": "stderr",
     "output_type": "stream",
     "text": [
      "Traceback (most recent call last):\n",
      "  File \"c:\\Users\\willi\\Documents\\ProjectPaper\\M5R_venv\\lib\\site-packages\\interaction_inference\\optimization.py\", line 85, in analyse_dataset\n",
      "    solution_dict[i] = self.optimize(i)\n",
      "  File \"c:\\Users\\willi\\Documents\\ProjectPaper\\M5R_venv\\lib\\site-packages\\interaction_inference\\optimization.py\", line 130, in optimize\n",
      "    variables = constraints.add_variables(self, model, i)\n",
      "  File \"c:\\Users\\willi\\Documents\\ProjectPaper\\M5R_venv\\lib\\site-packages\\interaction_inference\\constraints.py\", line 140, in add_variables\n",
      "    variables['pd'] = model.addMVar(shape=(optimization.dataset.truncation_OB[f'sample-{i}']['max_x1_OB'] + 1, optimization.dataset.truncation_OB[f'sample-{i}']['max_x2_OB'] + 1), vtype=GRB.CONTINUOUS, name=\"pd\", lb=0, ub=1)\n",
      "TypeError: unsupported operand type(s) for +: 'NoneType' and 'int'\n",
      "100%|█████████▉| 1795/1800 [1:42:19<00:02,  2.19it/s]Traceback (most recent call last):\n",
      "  File \"c:\\Users\\willi\\Documents\\ProjectPaper\\M5R_venv\\lib\\site-packages\\interaction_inference\\optimization.py\", line 85, in analyse_dataset\n",
      "    solution_dict[i] = self.optimize(i)\n",
      "  File \"c:\\Users\\willi\\Documents\\ProjectPaper\\M5R_venv\\lib\\site-packages\\interaction_inference\\optimization.py\", line 130, in optimize\n",
      "    variables = constraints.add_variables(self, model, i)\n",
      "  File \"c:\\Users\\willi\\Documents\\ProjectPaper\\M5R_venv\\lib\\site-packages\\interaction_inference\\constraints.py\", line 140, in add_variables\n",
      "    variables['pd'] = model.addMVar(shape=(optimization.dataset.truncation_OB[f'sample-{i}']['max_x1_OB'] + 1, optimization.dataset.truncation_OB[f'sample-{i}']['max_x2_OB'] + 1), vtype=GRB.CONTINUOUS, name=\"pd\", lb=0, ub=1)\n",
      "TypeError: unsupported operand type(s) for +: 'NoneType' and 'int'\n",
      "Traceback (most recent call last):\n",
      "  File \"c:\\Users\\willi\\Documents\\ProjectPaper\\M5R_venv\\lib\\site-packages\\interaction_inference\\optimization.py\", line 85, in analyse_dataset\n",
      "    solution_dict[i] = self.optimize(i)\n",
      "  File \"c:\\Users\\willi\\Documents\\ProjectPaper\\M5R_venv\\lib\\site-packages\\interaction_inference\\optimization.py\", line 130, in optimize\n",
      "    variables = constraints.add_variables(self, model, i)\n",
      "  File \"c:\\Users\\willi\\Documents\\ProjectPaper\\M5R_venv\\lib\\site-packages\\interaction_inference\\constraints.py\", line 140, in add_variables\n",
      "    variables['pd'] = model.addMVar(shape=(optimization.dataset.truncation_OB[f'sample-{i}']['max_x1_OB'] + 1, optimization.dataset.truncation_OB[f'sample-{i}']['max_x2_OB'] + 1), vtype=GRB.CONTINUOUS, name=\"pd\", lb=0, ub=1)\n",
      "TypeError: unsupported operand type(s) for +: 'NoneType' and 'int'\n"
     ]
    },
    {
     "name": "stdout",
     "output_type": "stream",
     "text": [
      "Optimization failed: unsupported operand type(s) for +: 'NoneType' and 'int'\n",
      "Optimization failed: unsupported operand type(s) for +: 'NoneType' and 'int'\n"
     ]
    },
    {
     "name": "stderr",
     "output_type": "stream",
     "text": [
      "100%|█████████▉| 1799/1800 [1:42:19<00:00,  3.44it/s]Traceback (most recent call last):\n",
      "  File \"c:\\Users\\willi\\Documents\\ProjectPaper\\M5R_venv\\lib\\site-packages\\interaction_inference\\optimization.py\", line 85, in analyse_dataset\n",
      "    solution_dict[i] = self.optimize(i)\n",
      "  File \"c:\\Users\\willi\\Documents\\ProjectPaper\\M5R_venv\\lib\\site-packages\\interaction_inference\\optimization.py\", line 130, in optimize\n",
      "    variables = constraints.add_variables(self, model, i)\n",
      "  File \"c:\\Users\\willi\\Documents\\ProjectPaper\\M5R_venv\\lib\\site-packages\\interaction_inference\\constraints.py\", line 140, in add_variables\n",
      "    variables['pd'] = model.addMVar(shape=(optimization.dataset.truncation_OB[f'sample-{i}']['max_x1_OB'] + 1, optimization.dataset.truncation_OB[f'sample-{i}']['max_x2_OB'] + 1), vtype=GRB.CONTINUOUS, name=\"pd\", lb=0, ub=1)\n",
      "TypeError: unsupported operand type(s) for +: 'NoneType' and 'int'\n",
      "100%|██████████| 1800/1800 [1:42:19<00:00,  3.41s/it]"
     ]
    },
    {
     "name": "stdout",
     "output_type": "stream",
     "text": [
      "Optimization failed: unsupported operand type(s) for +: 'NoneType' and 'int'\n"
     ]
    },
    {
     "name": "stderr",
     "output_type": "stream",
     "text": [
      "\n"
     ]
    }
   ],
   "source": [
    "# interacting birth death feasibility test\n",
    "optimization_pcRNA_miRNA_int_BD = optimization.Optimization(\n",
    "    dataset_pcRNA_miRNA,\n",
    "    [\n",
    "        \"downsampled_probability\",\n",
    "        \"downsampled_CME\",\n",
    "        \"k_deg_1\"\n",
    "    ],\n",
    "    tqdm_disable=False,\n",
    "    print_solution=False,\n",
    "    license_file=\"C:/WLS_credentials.json\"\n",
    ")"
   ]
  },
  {
   "cell_type": "markdown",
   "id": "859158d3",
   "metadata": {},
   "source": [
    "## Plots"
   ]
  },
  {
   "cell_type": "code",
   "execution_count": 56,
   "id": "699ecb50",
   "metadata": {},
   "outputs": [],
   "source": [
    "def moment_gridplot(moment, pc_df, nc_df, title, pc_name, nc_name, figsize=(6, 6)):\n",
    "\n",
    "    # size\n",
    "    pc_genes = pc_df.shape[0]\n",
    "    nc_genes = nc_df.shape[0]\n",
    "\n",
    "    # construct array\n",
    "    moment_array = np.empty((pc_genes, nc_genes))\n",
    "    k = 0\n",
    "    for i in range(pc_genes):\n",
    "        for j in range(nc_genes):\n",
    "            if moment.result_dict[k]['status'] == \"INFEASIBLE\":\n",
    "                moment_array[i, j] = 1\n",
    "            elif moment.result_dict[k]['status'] == \"OPTIMAL\":\n",
    "                moment_array[i, j] = 0\n",
    "            else:\n",
    "                moment_array[i, j] = 0.5\n",
    "            k += 1\n",
    "\n",
    "    # plot\n",
    "    fig, axs = plt.subplots(figsize=figsize)\n",
    "    cmap = LinearSegmentedColormap.from_list('br', [(0, \"b\"), (0.5, \"w\"), (1, \"r\")], N=256)\n",
    "    vmin, vmax = 0, 1\n",
    "    img = axs.imshow(moment_array, cmap=cmap, vmin=vmin, vmax=vmax)\n",
    "    axs.set_title(title)\n",
    "    axs.set_xlabel(nc_name)\n",
    "    axs.set_ylabel(pc_name)\n",
    "    #plt.axis('off')\n",
    "    plt.text(0.0, 120.0, \"Moment feasibility test for independence\\\n",
    "            \\nBlue: feasible, independent pair \\\n",
    "            \\nRed: infeasible, interacting pair \\\n",
    "            \\nWhite: optimization failure\")\n",
    "    #cbar = plt.colorbar(img, ax=axs)\n",
    "    #cbar.set_label(\"p-value\")"
   ]
  },
  {
   "cell_type": "code",
   "execution_count": 57,
   "id": "6dfe41e3",
   "metadata": {},
   "outputs": [],
   "source": [
    "def prob_gridplot(prob, pc_df, nc_df, title, pc_name, nc_name, figsize=(6, 6)):\n",
    "\n",
    "    # size\n",
    "    pc_genes = pc_df.shape[0]\n",
    "    nc_genes = nc_df.shape[0]\n",
    "\n",
    "    # construct array\n",
    "    prob_array = np.empty((pc_genes, nc_genes))\n",
    "    k = 0\n",
    "    for i in range(pc_genes):\n",
    "        for j in range(nc_genes):\n",
    "            if prob.result_dict[k]['status'] == \"INFEASIBLE\":\n",
    "                prob_array[i, j] = 1\n",
    "            elif prob.result_dict[k]['status'] == \"OPTIMAL\":\n",
    "                prob_array[i, j] = 0\n",
    "            else:\n",
    "                prob_array[i, j] = 0.5\n",
    "            k += 1\n",
    "\n",
    "    # plot\n",
    "    fig, axs = plt.subplots(figsize=figsize)\n",
    "    cmap = LinearSegmentedColormap.from_list('br', [(0, \"b\"), (0.5, \"w\"), (1, \"r\")], N=256)\n",
    "    vmin, vmax = 0, 1\n",
    "    img = axs.imshow(prob_array, cmap=cmap, vmin=vmin, vmax=vmax)\n",
    "    axs.set_title(title)\n",
    "    axs.set_xlabel(nc_name)\n",
    "    axs.set_ylabel(pc_name)\n",
    "    #plt.axis('off')\n",
    "    plt.text(0.0, 120.0, \"Interacting Birth-Death feasibility test\\\n",
    "            \\nBlue: feasible \\\n",
    "            \\nRed: infeasible \\\n",
    "            \\nWhite: optimization failure\")\n",
    "    #cbar = plt.colorbar(img, ax=axs)\n",
    "    #cbar.set_label(\"p-value\")"
   ]
  },
  {
   "cell_type": "code",
   "execution_count": 58,
   "id": "1dc10a9c",
   "metadata": {},
   "outputs": [],
   "source": [
    "def correlation_gridplot(correlation, pc_df, nc_df, title, pc_name, nc_name, sig=0.05, figsize=(6, 6)):\n",
    "\n",
    "    # size\n",
    "    pc_genes = pc_df.shape[0]\n",
    "    nc_genes = nc_df.shape[0]\n",
    "\n",
    "    # construct array\n",
    "    stat_array = np.empty((pc_genes, nc_genes))\n",
    "    pvalue_array = np.empty((pc_genes, nc_genes))\n",
    "    k = 0\n",
    "    for i in range(pc_genes):\n",
    "        for j in range(nc_genes):\n",
    "            stat_array[i, j] = correlation.result_dict[k]['statistic']\n",
    "            pvalue_array[i, j] = correlation.result_dict[k]['pvalue']\n",
    "            k += 1\n",
    "\n",
    "    # plot\n",
    "    fig, axs = plt.subplots(1, 2, figsize=figsize)\n",
    "    \n",
    "    eps = 10**-6\n",
    "    cmap = LinearSegmentedColormap.from_list('br', [(0, \"r\"), (sig - eps, \"r\"), (sig + eps, \"b\"), (1, \"b\")], N=256)\n",
    "    vmin, vmax = 0, 1\n",
    "    img = axs[0].imshow(pvalue_array, cmap=cmap, vmin=vmin, vmax=vmax)\n",
    "    axs[0].set_title(\"Pairwise gene correlation p-value (r < 0)\")\n",
    "    #plt.axis('off')\n",
    "    axs[0].set_xlabel(nc_name)\n",
    "    axs[0].set_ylabel(pc_name)\n",
    "    cbar = plt.colorbar(img, ax=axs[0])\n",
    "    cbar.set_label(\"p-value\")\n",
    "\n",
    "    cmap = LinearSegmentedColormap.from_list('br', [(0, \"r\"), (0.5, \"w\"), (1, \"b\")], N=256)\n",
    "    vmin, vmax = -1, 1 #MAP_stat_array.min(), MAP_stat_array.max()\n",
    "    img = axs[1].imshow(stat_array, cmap=cmap, vmin=vmin, vmax=vmax)\n",
    "    axs[1].set_title(\"Pairwise gene correlations\")\n",
    "    #plt.axis('off')\n",
    "    axs[1].set_xlabel(nc_name)\n",
    "    axs[1].set_ylabel(pc_name)\n",
    "    cbar = plt.colorbar(img, ax=axs[1])\n",
    "    cbar.set_label(\"statistic\")"
   ]
  },
  {
   "cell_type": "code",
   "execution_count": 70,
   "id": "2ed67473",
   "metadata": {},
   "outputs": [],
   "source": [
    "def result_df(corr, momt):\n",
    "    res = pd.DataFrame(columns=[\"Correlation test\", \"Moment test\"])\n",
    "    res[\"Correlation test\"] = [\"Interacting\" if res['pvalue'] < 0.05 else \"Independent\" for res in corr.result_dict.values()]\n",
    "    res[\"Moment test\"] = [\"Interacting\" if res['status'] == \"INFEASIBLE\" else \"Independent\" for res in momt.result_dict.values()]\n",
    "    return res"
   ]
  },
  {
   "cell_type": "markdown",
   "id": "40a8c57d",
   "metadata": {},
   "source": [
    "### Gridplots: correlation & moment"
   ]
  },
  {
   "cell_type": "code",
   "execution_count": 60,
   "id": "43fc04ae",
   "metadata": {},
   "outputs": [
    {
     "data": {
      "image/png": "[encoded data removed]",
      "text/plain": [
       "<Figure size 1000x1000 with 1 Axes>"
      ]
     },
     "metadata": {},
     "output_type": "display_data"
    }
   ],
   "source": [
    "moment_gridplot(moment_pcRNA_miRNA, data_pcRNA_subset, data_miRNA, \"Moment feasibility test\", \"Coding RNA\", \"miRNA\", figsize=(10, 10))"
   ]
  },
  {
   "cell_type": "code",
   "execution_count": 61,
   "id": "5fd99028",
   "metadata": {},
   "outputs": [
    {
     "data": {
      "image/png": "[encoded data removed]",
      "text/plain": [
       "<Figure size 1000x1000 with 4 Axes>"
      ]
     },
     "metadata": {},
     "output_type": "display_data"
    }
   ],
   "source": [
    "correlation_gridplot(correlation_pcRNA_miRNA, data_pcRNA_subset, data_miRNA, \"Correlation test\", \"Coding RNA\", \"miRNA\", figsize=(10, 10))"
   ]
  },
  {
   "cell_type": "code",
   "execution_count": 62,
   "id": "926fd1d0",
   "metadata": {},
   "outputs": [
    {
     "data": {
      "image/png": "[encoded data removed]",
      "text/plain": [
       "<Figure size 1200x1000 with 1 Axes>"
      ]
     },
     "metadata": {},
     "output_type": "display_data"
    }
   ],
   "source": [
    "moment_gridplot(moment_pcRNA_lncRNA, data_pcRNA_subset, data_lncRNA, \"Moment feasibility test\", \"Coding RNA\", \"lncRNA\", figsize=(12, 10))"
   ]
  },
  {
   "cell_type": "code",
   "execution_count": 63,
   "id": "31725589",
   "metadata": {},
   "outputs": [
    {
     "data": {
      "image/png": "[encoded data removed]",
      "text/plain": [
       "<Figure size 2000x1000 with 4 Axes>"
      ]
     },
     "metadata": {},
     "output_type": "display_data"
    }
   ],
   "source": [
    "correlation_gridplot(correlation_pcRNA_lncRNA, data_pcRNA_subset, data_lncRNA, \"Correlation test\", \"Coding RNA\", \"lncRNA\", figsize=(20, 10))"
   ]
  },
  {
   "cell_type": "markdown",
   "id": "c12ef963",
   "metadata": {},
   "source": [
    "### Gridplots: interacting model feasibility"
   ]
  },
  {
   "cell_type": "code",
   "execution_count": 66,
   "id": "55b0e774",
   "metadata": {},
   "outputs": [
    {
     "data": {
      "image/png": "[encoded data removed]",
      "text/plain": [
       "<Figure size 1000x1000 with 1 Axes>"
      ]
     },
     "metadata": {},
     "output_type": "display_data"
    }
   ],
   "source": [
    "prob_gridplot(optimization_pcRNA_miRNA_int_BD, data_pcRNA_subset, data_miRNA, \"Interacting Birth-Death feasibility test\", \"Coding RNA\", \"miRNA\", figsize=(10, 10))"
   ]
  },
  {
   "cell_type": "markdown",
   "id": "c5cabea3",
   "metadata": {},
   "source": [
    "### Sankey: moment & interacting model tests"
   ]
  },
  {
   "cell_type": "code",
   "execution_count": 69,
   "id": "14ca58a7",
   "metadata": {},
   "outputs": [],
   "source": [
    "def result_df_prob(prob, momt):\n",
    "    res = pd.DataFrame(columns=[\"Interacting Birth-Death\", \"Moment test\"])\n",
    "    res[\"Interacting Birth-Death\"] = [res['status'] for res in prob.result_dict.values()]\n",
    "    res[\"Moment test\"] = [res['status'] for res in momt.result_dict.values()]\n",
    "    return res"
   ]
  },
  {
   "cell_type": "code",
   "execution_count": 71,
   "id": "99b290c1",
   "metadata": {},
   "outputs": [
    {
     "data": {
      "application/vnd.plotly.v1+json": {
       "config": {
        "plotlyServerURL": "https://plot.ly"
       },
       "data": [
        {
         "link": {
          "color": "lightgrey",
          "source": [
           0,
           0,
           0,
           0,
           1,
           1,
           2,
           2,
           3,
           3,
           4,
           4
          ],
          "target": [
           1,
           2,
           3,
           4,
           5,
           6,
           5,
           6,
           5,
           6,
           5,
           6
          ],
          "value": [
           1673,
           59,
           18,
           0,
           1610,
           63,
           58,
           1,
           18,
           0,
           0,
           0
          ]
         },
         "node": {
          "label": [
           "",
           "OPTIMAL",
           "INFEASIBLE",
           "TIME_LIMIT",
           "None",
           "OPTIMAL",
           "INFEASIBLE"
          ]
         },
         "type": "sankey"
        }
       ],
       "layout": {
        "annotations": [
         {
          "align": "center",
          "font": {
           "color": "tomato",
           "family": "Courier New, monospace",
           "size": 16
          },
          "showarrow": false,
          "text": "Genes",
          "x": 0,
          "xref": "paper",
          "y": 1.1,
          "yref": "paper"
         },
         {
          "align": "center",
          "font": {
           "color": "tomato",
           "family": "Courier New, monospace",
           "size": 16
          },
          "showarrow": false,
          "text": "Interacting Birth-Death",
          "x": 0.5,
          "xref": "paper",
          "y": 1.1,
          "yref": "paper"
         },
         {
          "align": "center",
          "font": {
           "color": "tomato",
           "family": "Courier New, monospace",
           "size": 16
          },
          "showarrow": false,
          "text": "Moment test",
          "x": 1,
          "xref": "paper",
          "y": 1.1,
          "yref": "paper"
         }
        ],
        "font": {
         "size": 10
        },
        "plot_bgcolor": "rgba(0,0,0,0)",
        "template": {
         "data": {
          "bar": [
           {
            "error_x": {
             "color": "#2a3f5f"
            },
            "error_y": {
             "color": "#2a3f5f"
            },
            "marker": {
             "line": {
              "color": "#E5ECF6",
              "width": 0.5
             },
             "pattern": {
              "fillmode": "overlay",
              "size": 10,
              "solidity": 0.2
             }
            },
            "type": "bar"
           }
          ],
          "barpolar": [
           {
            "marker": {
             "line": {
              "color": "#E5ECF6",
              "width": 0.5
             },
             "pattern": {
              "fillmode": "overlay",
              "size": 10,
              "solidity": 0.2
             }
            },
            "type": "barpolar"
           }
          ],
          "carpet": [
           {
            "aaxis": {
             "endlinecolor": "#2a3f5f",
             "gridcolor": "white",
             "linecolor": "white",
             "minorgridcolor": "white",
             "startlinecolor": "#2a3f5f"
            },
            "baxis": {
             "endlinecolor": "#2a3f5f",
             "gridcolor": "white",
             "linecolor": "white",
             "minorgridcolor": "white",
             "startlinecolor": "#2a3f5f"
            },
            "type": "carpet"
           }
          ],
          "choropleth": [
           {
            "colorbar": {
             "outlinewidth": 0,
             "ticks": ""
            },
            "type": "choropleth"
           }
          ],
          "contour": [
           {
            "colorbar": {
             "outlinewidth": 0,
             "ticks": ""
            },
            "colorscale": [
             [
              0,
              "#0d0887"
             ],
             [
              0.1111111111111111,
              "#46039f"
             ],
             [
              0.2222222222222222,
              "#7201a8"
             ],
             [
              0.3333333333333333,
              "#9c179e"
             ],
             [
              0.4444444444444444,
              "#bd3786"
             ],
             [
              0.5555555555555556,
              "#d8576b"
             ],
             [
              0.6666666666666666,
              "#ed7953"
             ],
             [
              0.7777777777777778,
              "#fb9f3a"
             ],
             [
              0.8888888888888888,
              "#fdca26"
             ],
             [
              1,
              "#f0f921"
             ]
            ],
            "type": "contour"
           }
          ],
          "contourcarpet": [
           {
            "colorbar": {
             "outlinewidth": 0,
             "ticks": ""
            },
            "type": "contourcarpet"
           }
          ],
          "heatmap": [
           {
            "colorbar": {
             "outlinewidth": 0,
             "ticks": ""
            },
            "colorscale": [
             [
              0,
              "#0d0887"
             ],
             [
              0.1111111111111111,
              "#46039f"
             ],
             [
              0.2222222222222222,
              "#7201a8"
             ],
             [
              0.3333333333333333,
              "#9c179e"
             ],
             [
              0.4444444444444444,
              "#bd3786"
             ],
             [
              0.5555555555555556,
              "#d8576b"
             ],
             [
              0.6666666666666666,
              "#ed7953"
             ],
             [
              0.7777777777777778,
              "#fb9f3a"
             ],
             [
              0.8888888888888888,
              "#fdca26"
             ],
             [
              1,
              "#f0f921"
             ]
            ],
            "type": "heatmap"
           }
          ],
          "histogram": [
           {
            "marker": {
             "pattern": {
              "fillmode": "overlay",
              "size": 10,
              "solidity": 0.2
             }
            },
            "type": "histogram"
           }
          ],
          "histogram2d": [
           {
            "colorbar": {
             "outlinewidth": 0,
             "ticks": ""
            },
            "colorscale": [
             [
              0,
              "#0d0887"
             ],
             [
              0.1111111111111111,
              "#46039f"
             ],
             [
              0.2222222222222222,
              "#7201a8"
             ],
             [
              0.3333333333333333,
              "#9c179e"
             ],
             [
              0.4444444444444444,
              "#bd3786"
             ],
             [
              0.5555555555555556,
              "#d8576b"
             ],
             [
              0.6666666666666666,
              "#ed7953"
             ],
             [
              0.7777777777777778,
              "#fb9f3a"
             ],
             [
              0.8888888888888888,
              "#fdca26"
             ],
             [
              1,
              "#f0f921"
             ]
            ],
            "type": "histogram2d"
           }
          ],
          "histogram2dcontour": [
           {
            "colorbar": {
             "outlinewidth": 0,
             "ticks": ""
            },
            "colorscale": [
             [
              0,
              "#0d0887"
             ],
             [
              0.1111111111111111,
              "#46039f"
             ],
             [
              0.2222222222222222,
              "#7201a8"
             ],
             [
              0.3333333333333333,
              "#9c179e"
             ],
             [
              0.4444444444444444,
              "#bd3786"
             ],
             [
              0.5555555555555556,
              "#d8576b"
             ],
             [
              0.6666666666666666,
              "#ed7953"
             ],
             [
              0.7777777777777778,
              "#fb9f3a"
             ],
             [
              0.8888888888888888,
              "#fdca26"
             ],
             [
              1,
              "#f0f921"
             ]
            ],
            "type": "histogram2dcontour"
           }
          ],
          "mesh3d": [
           {
            "colorbar": {
             "outlinewidth": 0,
             "ticks": ""
            },
            "type": "mesh3d"
           }
          ],
          "parcoords": [
           {
            "line": {
             "colorbar": {
              "outlinewidth": 0,
              "ticks": ""
             }
            },
            "type": "parcoords"
           }
          ],
          "pie": [
           {
            "automargin": true,
            "type": "pie"
           }
          ],
          "scatter": [
           {
            "fillpattern": {
             "fillmode": "overlay",
             "size": 10,
             "solidity": 0.2
            },
            "type": "scatter"
           }
          ],
          "scatter3d": [
           {
            "line": {
             "colorbar": {
              "outlinewidth": 0,
              "ticks": ""
             }
            },
            "marker": {
             "colorbar": {
              "outlinewidth": 0,
              "ticks": ""
             }
            },
            "type": "scatter3d"
           }
          ],
          "scattercarpet": [
           {
            "marker": {
             "colorbar": {
              "outlinewidth": 0,
              "ticks": ""
             }
            },
            "type": "scattercarpet"
           }
          ],
          "scattergeo": [
           {
            "marker": {
             "colorbar": {
              "outlinewidth": 0,
              "ticks": ""
             }
            },
            "type": "scattergeo"
           }
          ],
          "scattergl": [
           {
            "marker": {
             "colorbar": {
              "outlinewidth": 0,
              "ticks": ""
             }
            },
            "type": "scattergl"
           }
          ],
          "scattermap": [
           {
            "marker": {
             "colorbar": {
              "outlinewidth": 0,
              "ticks": ""
             }
            },
            "type": "scattermap"
           }
          ],
          "scattermapbox": [
           {
            "marker": {
             "colorbar": {
              "outlinewidth": 0,
              "ticks": ""
             }
            },
            "type": "scattermapbox"
           }
          ],
          "scatterpolar": [
           {
            "marker": {
             "colorbar": {
              "outlinewidth": 0,
              "ticks": ""
             }
            },
            "type": "scatterpolar"
           }
          ],
          "scatterpolargl": [
           {
            "marker": {
             "colorbar": {
              "outlinewidth": 0,
              "ticks": ""
             }
            },
            "type": "scatterpolargl"
           }
          ],
          "scatterternary": [
           {
            "marker": {
             "colorbar": {
              "outlinewidth": 0,
              "ticks": ""
             }
            },
            "type": "scatterternary"
           }
          ],
          "surface": [
           {
            "colorbar": {
             "outlinewidth": 0,
             "ticks": ""
            },
            "colorscale": [
             [
              0,
              "#0d0887"
             ],
             [
              0.1111111111111111,
              "#46039f"
             ],
             [
              0.2222222222222222,
              "#7201a8"
             ],
             [
              0.3333333333333333,
              "#9c179e"
             ],
             [
              0.4444444444444444,
              "#bd3786"
             ],
             [
              0.5555555555555556,
              "#d8576b"
             ],
             [
              0.6666666666666666,
              "#ed7953"
             ],
             [
              0.7777777777777778,
              "#fb9f3a"
             ],
             [
              0.8888888888888888,
              "#fdca26"
             ],
             [
              1,
              "#f0f921"
             ]
            ],
            "type": "surface"
           }
          ],
          "table": [
           {
            "cells": {
             "fill": {
              "color": "#EBF0F8"
             },
             "line": {
              "color": "white"
             }
            },
            "header": {
             "fill": {
              "color": "#C8D4E3"
             },
             "line": {
              "color": "white"
             }
            },
            "type": "table"
           }
          ]
         },
         "layout": {
          "annotationdefaults": {
           "arrowcolor": "#2a3f5f",
           "arrowhead": 0,
           "arrowwidth": 1
          },
          "autotypenumbers": "strict",
          "coloraxis": {
           "colorbar": {
            "outlinewidth": 0,
            "ticks": ""
           }
          },
          "colorscale": {
           "diverging": [
            [
             0,
             "#8e0152"
            ],
            [
             0.1,
             "#c51b7d"
            ],
            [
             0.2,
             "#de77ae"
            ],
            [
             0.3,
             "#f1b6da"
            ],
            [
             0.4,
             "#fde0ef"
            ],
            [
             0.5,
             "#f7f7f7"
            ],
            [
             0.6,
             "#e6f5d0"
            ],
            [
             0.7,
             "#b8e186"
            ],
            [
             0.8,
             "#7fbc41"
            ],
            [
             0.9,
             "#4d9221"
            ],
            [
             1,
             "#276419"
            ]
           ],
           "sequential": [
            [
             0,
             "#0d0887"
            ],
            [
             0.1111111111111111,
             "#46039f"
            ],
            [
             0.2222222222222222,
             "#7201a8"
            ],
            [
             0.3333333333333333,
             "#9c179e"
            ],
            [
             0.4444444444444444,
             "#bd3786"
            ],
            [
             0.5555555555555556,
             "#d8576b"
            ],
            [
             0.6666666666666666,
             "#ed7953"
            ],
            [
             0.7777777777777778,
             "#fb9f3a"
            ],
            [
             0.8888888888888888,
             "#fdca26"
            ],
            [
             1,
             "#f0f921"
            ]
           ],
           "sequentialminus": [
            [
             0,
             "#0d0887"
            ],
            [
             0.1111111111111111,
             "#46039f"
            ],
            [
             0.2222222222222222,
             "#7201a8"
            ],
            [
             0.3333333333333333,
             "#9c179e"
            ],
            [
             0.4444444444444444,
             "#bd3786"
            ],
            [
             0.5555555555555556,
             "#d8576b"
            ],
            [
             0.6666666666666666,
             "#ed7953"
            ],
            [
             0.7777777777777778,
             "#fb9f3a"
            ],
            [
             0.8888888888888888,
             "#fdca26"
            ],
            [
             1,
             "#f0f921"
            ]
           ]
          },
          "colorway": [
           "#636efa",
           "#EF553B",
           "#00cc96",
           "#ab63fa",
           "#FFA15A",
           "#19d3f3",
           "#FF6692",
           "#B6E880",
           "#FF97FF",
           "#FECB52"
          ],
          "font": {
           "color": "#2a3f5f"
          },
          "geo": {
           "bgcolor": "white",
           "lakecolor": "white",
           "landcolor": "#E5ECF6",
           "showlakes": true,
           "showland": true,
           "subunitcolor": "white"
          },
          "hoverlabel": {
           "align": "left"
          },
          "hovermode": "closest",
          "mapbox": {
           "style": "light"
          },
          "paper_bgcolor": "white",
          "plot_bgcolor": "#E5ECF6",
          "polar": {
           "angularaxis": {
            "gridcolor": "white",
            "linecolor": "white",
            "ticks": ""
           },
           "bgcolor": "#E5ECF6",
           "radialaxis": {
            "gridcolor": "white",
            "linecolor": "white",
            "ticks": ""
           }
          },
          "scene": {
           "xaxis": {
            "backgroundcolor": "#E5ECF6",
            "gridcolor": "white",
            "gridwidth": 2,
            "linecolor": "white",
            "showbackground": true,
            "ticks": "",
            "zerolinecolor": "white"
           },
           "yaxis": {
            "backgroundcolor": "#E5ECF6",
            "gridcolor": "white",
            "gridwidth": 2,
            "linecolor": "white",
            "showbackground": true,
            "ticks": "",
            "zerolinecolor": "white"
           },
           "zaxis": {
            "backgroundcolor": "#E5ECF6",
            "gridcolor": "white",
            "gridwidth": 2,
            "linecolor": "white",
            "showbackground": true,
            "ticks": "",
            "zerolinecolor": "white"
           }
          },
          "shapedefaults": {
           "line": {
            "color": "#2a3f5f"
           }
          },
          "ternary": {
           "aaxis": {
            "gridcolor": "white",
            "linecolor": "white",
            "ticks": ""
           },
           "baxis": {
            "gridcolor": "white",
            "linecolor": "white",
            "ticks": ""
           },
           "bgcolor": "#E5ECF6",
           "caxis": {
            "gridcolor": "white",
            "linecolor": "white",
            "ticks": ""
           }
          },
          "title": {
           "x": 0.05
          },
          "xaxis": {
           "automargin": true,
           "gridcolor": "white",
           "linecolor": "white",
           "ticks": "",
           "title": {
            "standoff": 15
           },
           "zerolinecolor": "white",
           "zerolinewidth": 2
          },
          "yaxis": {
           "automargin": true,
           "gridcolor": "white",
           "linecolor": "white",
           "ticks": "",
           "title": {
            "standoff": 15
           },
           "zerolinecolor": "white",
           "zerolinewidth": 2
          }
         }
        },
        "title": {
         "text": "Coding RNA - miRNA: interacting birth-death & moment tests"
        },
        "xaxis": {
         "showgrid": false,
         "visible": false,
         "zeroline": false
        },
        "yaxis": {
         "showgrid": false,
         "visible": false,
         "zeroline": false
        }
       }
      }
     },
     "metadata": {},
     "output_type": "display_data"
    }
   ],
   "source": [
    "sankey_from_df(result_df_prob(optimization_pcRNA_miRNA_int_BD, moment_pcRNA_miRNA), \"Coding RNA - miRNA: interacting birth-death & moment tests\")"
   ]
  },
  {
   "cell_type": "markdown",
   "id": "ada2df71",
   "metadata": {},
   "source": [
    "### Sankey: correlation & moment tests"
   ]
  },
  {
   "cell_type": "code",
   "execution_count": 64,
   "id": "c3ced6ef",
   "metadata": {},
   "outputs": [
    {
     "data": {
      "application/vnd.plotly.v1+json": {
       "config": {
        "plotlyServerURL": "https://plot.ly"
       },
       "data": [
        {
         "link": {
          "color": "lightgrey",
          "source": [
           0,
           0,
           1,
           1,
           2,
           2
          ],
          "target": [
           1,
           2,
           3,
           4,
           3,
           4
          ],
          "value": [
           1799,
           1,
           1736,
           63,
           0,
           1
          ]
         },
         "node": {
          "label": [
           "",
           "Independent",
           "Interacting",
           "Independent",
           "Interacting"
          ]
         },
         "type": "sankey"
        }
       ],
       "layout": {
        "annotations": [
         {
          "align": "center",
          "font": {
           "color": "tomato",
           "family": "Courier New, monospace",
           "size": 16
          },
          "showarrow": false,
          "text": "Genes",
          "x": 0,
          "xref": "paper",
          "y": 1.1,
          "yref": "paper"
         },
         {
          "align": "center",
          "font": {
           "color": "tomato",
           "family": "Courier New, monospace",
           "size": 16
          },
          "showarrow": false,
          "text": "Correlation test",
          "x": 0.5,
          "xref": "paper",
          "y": 1.1,
          "yref": "paper"
         },
         {
          "align": "center",
          "font": {
           "color": "tomato",
           "family": "Courier New, monospace",
           "size": 16
          },
          "showarrow": false,
          "text": "Moment test",
          "x": 1,
          "xref": "paper",
          "y": 1.1,
          "yref": "paper"
         }
        ],
        "font": {
         "size": 10
        },
        "plot_bgcolor": "rgba(0,0,0,0)",
        "template": {
         "data": {
          "bar": [
           {
            "error_x": {
             "color": "#2a3f5f"
            },
            "error_y": {
             "color": "#2a3f5f"
            },
            "marker": {
             "line": {
              "color": "#E5ECF6",
              "width": 0.5
             },
             "pattern": {
              "fillmode": "overlay",
              "size": 10,
              "solidity": 0.2
             }
            },
            "type": "bar"
           }
          ],
          "barpolar": [
           {
            "marker": {
             "line": {
              "color": "#E5ECF6",
              "width": 0.5
             },
             "pattern": {
              "fillmode": "overlay",
              "size": 10,
              "solidity": 0.2
             }
            },
            "type": "barpolar"
           }
          ],
          "carpet": [
           {
            "aaxis": {
             "endlinecolor": "#2a3f5f",
             "gridcolor": "white",
             "linecolor": "white",
             "minorgridcolor": "white",
             "startlinecolor": "#2a3f5f"
            },
            "baxis": {
             "endlinecolor": "#2a3f5f",
             "gridcolor": "white",
             "linecolor": "white",
             "minorgridcolor": "white",
             "startlinecolor": "#2a3f5f"
            },
            "type": "carpet"
           }
          ],
          "choropleth": [
           {
            "colorbar": {
             "outlinewidth": 0,
             "ticks": ""
            },
            "type": "choropleth"
           }
          ],
          "contour": [
           {
            "colorbar": {
             "outlinewidth": 0,
             "ticks": ""
            },
            "colorscale": [
             [
              0,
              "#0d0887"
             ],
             [
              0.1111111111111111,
              "#46039f"
             ],
             [
              0.2222222222222222,
              "#7201a8"
             ],
             [
              0.3333333333333333,
              "#9c179e"
             ],
             [
              0.4444444444444444,
              "#bd3786"
             ],
             [
              0.5555555555555556,
              "#d8576b"
             ],
             [
              0.6666666666666666,
              "#ed7953"
             ],
             [
              0.7777777777777778,
              "#fb9f3a"
             ],
             [
              0.8888888888888888,
              "#fdca26"
             ],
             [
              1,
              "#f0f921"
             ]
            ],
            "type": "contour"
           }
          ],
          "contourcarpet": [
           {
            "colorbar": {
             "outlinewidth": 0,
             "ticks": ""
            },
            "type": "contourcarpet"
           }
          ],
          "heatmap": [
           {
            "colorbar": {
             "outlinewidth": 0,
             "ticks": ""
            },
            "colorscale": [
             [
              0,
              "#0d0887"
             ],
             [
              0.1111111111111111,
              "#46039f"
             ],
             [
              0.2222222222222222,
              "#7201a8"
             ],
             [
              0.3333333333333333,
              "#9c179e"
             ],
             [
              0.4444444444444444,
              "#bd3786"
             ],
             [
              0.5555555555555556,
              "#d8576b"
             ],
             [
              0.6666666666666666,
              "#ed7953"
             ],
             [
              0.7777777777777778,
              "#fb9f3a"
             ],
             [
              0.8888888888888888,
              "#fdca26"
             ],
             [
              1,
              "#f0f921"
             ]
            ],
            "type": "heatmap"
           }
          ],
          "histogram": [
           {
            "marker": {
             "pattern": {
              "fillmode": "overlay",
              "size": 10,
              "solidity": 0.2
             }
            },
            "type": "histogram"
           }
          ],
          "histogram2d": [
           {
            "colorbar": {
             "outlinewidth": 0,
             "ticks": ""
            },
            "colorscale": [
             [
              0,
              "#0d0887"
             ],
             [
              0.1111111111111111,
              "#46039f"
             ],
             [
              0.2222222222222222,
              "#7201a8"
             ],
             [
              0.3333333333333333,
              "#9c179e"
             ],
             [
              0.4444444444444444,
              "#bd3786"
             ],
             [
              0.5555555555555556,
              "#d8576b"
             ],
             [
              0.6666666666666666,
              "#ed7953"
             ],
             [
              0.7777777777777778,
              "#fb9f3a"
             ],
             [
              0.8888888888888888,
              "#fdca26"
             ],
             [
              1,
              "#f0f921"
             ]
            ],
            "type": "histogram2d"
           }
          ],
          "histogram2dcontour": [
           {
            "colorbar": {
             "outlinewidth": 0,
             "ticks": ""
            },
            "colorscale": [
             [
              0,
              "#0d0887"
             ],
             [
              0.1111111111111111,
              "#46039f"
             ],
             [
              0.2222222222222222,
              "#7201a8"
             ],
             [
              0.3333333333333333,
              "#9c179e"
             ],
             [
              0.4444444444444444,
              "#bd3786"
             ],
             [
              0.5555555555555556,
              "#d8576b"
             ],
             [
              0.6666666666666666,
              "#ed7953"
             ],
             [
              0.7777777777777778,
              "#fb9f3a"
             ],
             [
              0.8888888888888888,
              "#fdca26"
             ],
             [
              1,
              "#f0f921"
             ]
            ],
            "type": "histogram2dcontour"
           }
          ],
          "mesh3d": [
           {
            "colorbar": {
             "outlinewidth": 0,
             "ticks": ""
            },
            "type": "mesh3d"
           }
          ],
          "parcoords": [
           {
            "line": {
             "colorbar": {
              "outlinewidth": 0,
              "ticks": ""
             }
            },
            "type": "parcoords"
           }
          ],
          "pie": [
           {
            "automargin": true,
            "type": "pie"
           }
          ],
          "scatter": [
           {
            "fillpattern": {
             "fillmode": "overlay",
             "size": 10,
             "solidity": 0.2
            },
            "type": "scatter"
           }
          ],
          "scatter3d": [
           {
            "line": {
             "colorbar": {
              "outlinewidth": 0,
              "ticks": ""
             }
            },
            "marker": {
             "colorbar": {
              "outlinewidth": 0,
              "ticks": ""
             }
            },
            "type": "scatter3d"
           }
          ],
          "scattercarpet": [
           {
            "marker": {
             "colorbar": {
              "outlinewidth": 0,
              "ticks": ""
             }
            },
            "type": "scattercarpet"
           }
          ],
          "scattergeo": [
           {
            "marker": {
             "colorbar": {
              "outlinewidth": 0,
              "ticks": ""
             }
            },
            "type": "scattergeo"
           }
          ],
          "scattergl": [
           {
            "marker": {
             "colorbar": {
              "outlinewidth": 0,
              "ticks": ""
             }
            },
            "type": "scattergl"
           }
          ],
          "scattermap": [
           {
            "marker": {
             "colorbar": {
              "outlinewidth": 0,
              "ticks": ""
             }
            },
            "type": "scattermap"
           }
          ],
          "scattermapbox": [
           {
            "marker": {
             "colorbar": {
              "outlinewidth": 0,
              "ticks": ""
             }
            },
            "type": "scattermapbox"
           }
          ],
          "scatterpolar": [
           {
            "marker": {
             "colorbar": {
              "outlinewidth": 0,
              "ticks": ""
             }
            },
            "type": "scatterpolar"
           }
          ],
          "scatterpolargl": [
           {
            "marker": {
             "colorbar": {
              "outlinewidth": 0,
              "ticks": ""
             }
            },
            "type": "scatterpolargl"
           }
          ],
          "scatterternary": [
           {
            "marker": {
             "colorbar": {
              "outlinewidth": 0,
              "ticks": ""
             }
            },
            "type": "scatterternary"
           }
          ],
          "surface": [
           {
            "colorbar": {
             "outlinewidth": 0,
             "ticks": ""
            },
            "colorscale": [
             [
              0,
              "#0d0887"
             ],
             [
              0.1111111111111111,
              "#46039f"
             ],
             [
              0.2222222222222222,
              "#7201a8"
             ],
             [
              0.3333333333333333,
              "#9c179e"
             ],
             [
              0.4444444444444444,
              "#bd3786"
             ],
             [
              0.5555555555555556,
              "#d8576b"
             ],
             [
              0.6666666666666666,
              "#ed7953"
             ],
             [
              0.7777777777777778,
              "#fb9f3a"
             ],
             [
              0.8888888888888888,
              "#fdca26"
             ],
             [
              1,
              "#f0f921"
             ]
            ],
            "type": "surface"
           }
          ],
          "table": [
           {
            "cells": {
             "fill": {
              "color": "#EBF0F8"
             },
             "line": {
              "color": "white"
             }
            },
            "header": {
             "fill": {
              "color": "#C8D4E3"
             },
             "line": {
              "color": "white"
             }
            },
            "type": "table"
           }
          ]
         },
         "layout": {
          "annotationdefaults": {
           "arrowcolor": "#2a3f5f",
           "arrowhead": 0,
           "arrowwidth": 1
          },
          "autotypenumbers": "strict",
          "coloraxis": {
           "colorbar": {
            "outlinewidth": 0,
            "ticks": ""
           }
          },
          "colorscale": {
           "diverging": [
            [
             0,
             "#8e0152"
            ],
            [
             0.1,
             "#c51b7d"
            ],
            [
             0.2,
             "#de77ae"
            ],
            [
             0.3,
             "#f1b6da"
            ],
            [
             0.4,
             "#fde0ef"
            ],
            [
             0.5,
             "#f7f7f7"
            ],
            [
             0.6,
             "#e6f5d0"
            ],
            [
             0.7,
             "#b8e186"
            ],
            [
             0.8,
             "#7fbc41"
            ],
            [
             0.9,
             "#4d9221"
            ],
            [
             1,
             "#276419"
            ]
           ],
           "sequential": [
            [
             0,
             "#0d0887"
            ],
            [
             0.1111111111111111,
             "#46039f"
            ],
            [
             0.2222222222222222,
             "#7201a8"
            ],
            [
             0.3333333333333333,
             "#9c179e"
            ],
            [
             0.4444444444444444,
             "#bd3786"
            ],
            [
             0.5555555555555556,
             "#d8576b"
            ],
            [
             0.6666666666666666,
             "#ed7953"
            ],
            [
             0.7777777777777778,
             "#fb9f3a"
            ],
            [
             0.8888888888888888,
             "#fdca26"
            ],
            [
             1,
             "#f0f921"
            ]
           ],
           "sequentialminus": [
            [
             0,
             "#0d0887"
            ],
            [
             0.1111111111111111,
             "#46039f"
            ],
            [
             0.2222222222222222,
             "#7201a8"
            ],
            [
             0.3333333333333333,
             "#9c179e"
            ],
            [
             0.4444444444444444,
             "#bd3786"
            ],
            [
             0.5555555555555556,
             "#d8576b"
            ],
            [
             0.6666666666666666,
             "#ed7953"
            ],
            [
             0.7777777777777778,
             "#fb9f3a"
            ],
            [
             0.8888888888888888,
             "#fdca26"
            ],
            [
             1,
             "#f0f921"
            ]
           ]
          },
          "colorway": [
           "#636efa",
           "#EF553B",
           "#00cc96",
           "#ab63fa",
           "#FFA15A",
           "#19d3f3",
           "#FF6692",
           "#B6E880",
           "#FF97FF",
           "#FECB52"
          ],
          "font": {
           "color": "#2a3f5f"
          },
          "geo": {
           "bgcolor": "white",
           "lakecolor": "white",
           "landcolor": "#E5ECF6",
           "showlakes": true,
           "showland": true,
           "subunitcolor": "white"
          },
          "hoverlabel": {
           "align": "left"
          },
          "hovermode": "closest",
          "mapbox": {
           "style": "light"
          },
          "paper_bgcolor": "white",
          "plot_bgcolor": "#E5ECF6",
          "polar": {
           "angularaxis": {
            "gridcolor": "white",
            "linecolor": "white",
            "ticks": ""
           },
           "bgcolor": "#E5ECF6",
           "radialaxis": {
            "gridcolor": "white",
            "linecolor": "white",
            "ticks": ""
           }
          },
          "scene": {
           "xaxis": {
            "backgroundcolor": "#E5ECF6",
            "gridcolor": "white",
            "gridwidth": 2,
            "linecolor": "white",
            "showbackground": true,
            "ticks": "",
            "zerolinecolor": "white"
           },
           "yaxis": {
            "backgroundcolor": "#E5ECF6",
            "gridcolor": "white",
            "gridwidth": 2,
            "linecolor": "white",
            "showbackground": true,
            "ticks": "",
            "zerolinecolor": "white"
           },
           "zaxis": {
            "backgroundcolor": "#E5ECF6",
            "gridcolor": "white",
            "gridwidth": 2,
            "linecolor": "white",
            "showbackground": true,
            "ticks": "",
            "zerolinecolor": "white"
           }
          },
          "shapedefaults": {
           "line": {
            "color": "#2a3f5f"
           }
          },
          "ternary": {
           "aaxis": {
            "gridcolor": "white",
            "linecolor": "white",
            "ticks": ""
           },
           "baxis": {
            "gridcolor": "white",
            "linecolor": "white",
            "ticks": ""
           },
           "bgcolor": "#E5ECF6",
           "caxis": {
            "gridcolor": "white",
            "linecolor": "white",
            "ticks": ""
           }
          },
          "title": {
           "x": 0.05
          },
          "xaxis": {
           "automargin": true,
           "gridcolor": "white",
           "linecolor": "white",
           "ticks": "",
           "title": {
            "standoff": 15
           },
           "zerolinecolor": "white",
           "zerolinewidth": 2
          },
          "yaxis": {
           "automargin": true,
           "gridcolor": "white",
           "linecolor": "white",
           "ticks": "",
           "title": {
            "standoff": 15
           },
           "zerolinecolor": "white",
           "zerolinewidth": 2
          }
         }
        },
        "title": {
         "text": "Coding RNA - miRNA: correlation & moment tests"
        },
        "xaxis": {
         "showgrid": false,
         "visible": false,
         "zeroline": false
        },
        "yaxis": {
         "showgrid": false,
         "visible": false,
         "zeroline": false
        }
       }
      }
     },
     "metadata": {},
     "output_type": "display_data"
    }
   ],
   "source": [
    "sankey_from_df(result_df(correlation_pcRNA_miRNA, moment_pcRNA_miRNA), \"Coding RNA - miRNA: correlation & moment tests\")"
   ]
  },
  {
   "cell_type": "code",
   "execution_count": 65,
   "id": "7ffea0bd",
   "metadata": {},
   "outputs": [
    {
     "data": {
      "application/vnd.plotly.v1+json": {
       "config": {
        "plotlyServerURL": "https://plot.ly"
       },
       "data": [
        {
         "link": {
          "color": "lightgrey",
          "source": [
           0,
           0,
           1,
           1,
           2,
           2
          ],
          "target": [
           1,
           2,
           3,
           4,
           3,
           4
          ],
          "value": [
           16189,
           11,
           15155,
           1034,
           1,
           10
          ]
         },
         "node": {
          "label": [
           "",
           "Independent",
           "Interacting",
           "Independent",
           "Interacting"
          ]
         },
         "type": "sankey"
        }
       ],
       "layout": {
        "annotations": [
         {
          "align": "center",
          "font": {
           "color": "tomato",
           "family": "Courier New, monospace",
           "size": 16
          },
          "showarrow": false,
          "text": "Genes",
          "x": 0,
          "xref": "paper",
          "y": 1.1,
          "yref": "paper"
         },
         {
          "align": "center",
          "font": {
           "color": "tomato",
           "family": "Courier New, monospace",
           "size": 16
          },
          "showarrow": false,
          "text": "Correlation test",
          "x": 0.5,
          "xref": "paper",
          "y": 1.1,
          "yref": "paper"
         },
         {
          "align": "center",
          "font": {
           "color": "tomato",
           "family": "Courier New, monospace",
           "size": 16
          },
          "showarrow": false,
          "text": "Moment test",
          "x": 1,
          "xref": "paper",
          "y": 1.1,
          "yref": "paper"
         }
        ],
        "font": {
         "size": 10
        },
        "plot_bgcolor": "rgba(0,0,0,0)",
        "template": {
         "data": {
          "bar": [
           {
            "error_x": {
             "color": "#2a3f5f"
            },
            "error_y": {
             "color": "#2a3f5f"
            },
            "marker": {
             "line": {
              "color": "#E5ECF6",
              "width": 0.5
             },
             "pattern": {
              "fillmode": "overlay",
              "size": 10,
              "solidity": 0.2
             }
            },
            "type": "bar"
           }
          ],
          "barpolar": [
           {
            "marker": {
             "line": {
              "color": "#E5ECF6",
              "width": 0.5
             },
             "pattern": {
              "fillmode": "overlay",
              "size": 10,
              "solidity": 0.2
             }
            },
            "type": "barpolar"
           }
          ],
          "carpet": [
           {
            "aaxis": {
             "endlinecolor": "#2a3f5f",
             "gridcolor": "white",
             "linecolor": "white",
             "minorgridcolor": "white",
             "startlinecolor": "#2a3f5f"
            },
            "baxis": {
             "endlinecolor": "#2a3f5f",
             "gridcolor": "white",
             "linecolor": "white",
             "minorgridcolor": "white",
             "startlinecolor": "#2a3f5f"
            },
            "type": "carpet"
           }
          ],
          "choropleth": [
           {
            "colorbar": {
             "outlinewidth": 0,
             "ticks": ""
            },
            "type": "choropleth"
           }
          ],
          "contour": [
           {
            "colorbar": {
             "outlinewidth": 0,
             "ticks": ""
            },
            "colorscale": [
             [
              0,
              "#0d0887"
             ],
             [
              0.1111111111111111,
              "#46039f"
             ],
             [
              0.2222222222222222,
              "#7201a8"
             ],
             [
              0.3333333333333333,
              "#9c179e"
             ],
             [
              0.4444444444444444,
              "#bd3786"
             ],
             [
              0.5555555555555556,
              "#d8576b"
             ],
             [
              0.6666666666666666,
              "#ed7953"
             ],
             [
              0.7777777777777778,
              "#fb9f3a"
             ],
             [
              0.8888888888888888,
              "#fdca26"
             ],
             [
              1,
              "#f0f921"
             ]
            ],
            "type": "contour"
           }
          ],
          "contourcarpet": [
           {
            "colorbar": {
             "outlinewidth": 0,
             "ticks": ""
            },
            "type": "contourcarpet"
           }
          ],
          "heatmap": [
           {
            "colorbar": {
             "outlinewidth": 0,
             "ticks": ""
            },
            "colorscale": [
             [
              0,
              "#0d0887"
             ],
             [
              0.1111111111111111,
              "#46039f"
             ],
             [
              0.2222222222222222,
              "#7201a8"
             ],
             [
              0.3333333333333333,
              "#9c179e"
             ],
             [
              0.4444444444444444,
              "#bd3786"
             ],
             [
              0.5555555555555556,
              "#d8576b"
             ],
             [
              0.6666666666666666,
              "#ed7953"
             ],
             [
              0.7777777777777778,
              "#fb9f3a"
             ],
             [
              0.8888888888888888,
              "#fdca26"
             ],
             [
              1,
              "#f0f921"
             ]
            ],
            "type": "heatmap"
           }
          ],
          "histogram": [
           {
            "marker": {
             "pattern": {
              "fillmode": "overlay",
              "size": 10,
              "solidity": 0.2
             }
            },
            "type": "histogram"
           }
          ],
          "histogram2d": [
           {
            "colorbar": {
             "outlinewidth": 0,
             "ticks": ""
            },
            "colorscale": [
             [
              0,
              "#0d0887"
             ],
             [
              0.1111111111111111,
              "#46039f"
             ],
             [
              0.2222222222222222,
              "#7201a8"
             ],
             [
              0.3333333333333333,
              "#9c179e"
             ],
             [
              0.4444444444444444,
              "#bd3786"
             ],
             [
              0.5555555555555556,
              "#d8576b"
             ],
             [
              0.6666666666666666,
              "#ed7953"
             ],
             [
              0.7777777777777778,
              "#fb9f3a"
             ],
             [
              0.8888888888888888,
              "#fdca26"
             ],
             [
              1,
              "#f0f921"
             ]
            ],
            "type": "histogram2d"
           }
          ],
          "histogram2dcontour": [
           {
            "colorbar": {
             "outlinewidth": 0,
             "ticks": ""
            },
            "colorscale": [
             [
              0,
              "#0d0887"
             ],
             [
              0.1111111111111111,
              "#46039f"
             ],
             [
              0.2222222222222222,
              "#7201a8"
             ],
             [
              0.3333333333333333,
              "#9c179e"
             ],
             [
              0.4444444444444444,
              "#bd3786"
             ],
             [
              0.5555555555555556,
              "#d8576b"
             ],
             [
              0.6666666666666666,
              "#ed7953"
             ],
             [
              0.7777777777777778,
              "#fb9f3a"
             ],
             [
              0.8888888888888888,
              "#fdca26"
             ],
             [
              1,
              "#f0f921"
             ]
            ],
            "type": "histogram2dcontour"
           }
          ],
          "mesh3d": [
           {
            "colorbar": {
             "outlinewidth": 0,
             "ticks": ""
            },
            "type": "mesh3d"
           }
          ],
          "parcoords": [
           {
            "line": {
             "colorbar": {
              "outlinewidth": 0,
              "ticks": ""
             }
            },
            "type": "parcoords"
           }
          ],
          "pie": [
           {
            "automargin": true,
            "type": "pie"
           }
          ],
          "scatter": [
           {
            "fillpattern": {
             "fillmode": "overlay",
             "size": 10,
             "solidity": 0.2
            },
            "type": "scatter"
           }
          ],
          "scatter3d": [
           {
            "line": {
             "colorbar": {
              "outlinewidth": 0,
              "ticks": ""
             }
            },
            "marker": {
             "colorbar": {
              "outlinewidth": 0,
              "ticks": ""
             }
            },
            "type": "scatter3d"
           }
          ],
          "scattercarpet": [
           {
            "marker": {
             "colorbar": {
              "outlinewidth": 0,
              "ticks": ""
             }
            },
            "type": "scattercarpet"
           }
          ],
          "scattergeo": [
           {
            "marker": {
             "colorbar": {
              "outlinewidth": 0,
              "ticks": ""
             }
            },
            "type": "scattergeo"
           }
          ],
          "scattergl": [
           {
            "marker": {
             "colorbar": {
              "outlinewidth": 0,
              "ticks": ""
             }
            },
            "type": "scattergl"
           }
          ],
          "scattermap": [
           {
            "marker": {
             "colorbar": {
              "outlinewidth": 0,
              "ticks": ""
             }
            },
            "type": "scattermap"
           }
          ],
          "scattermapbox": [
           {
            "marker": {
             "colorbar": {
              "outlinewidth": 0,
              "ticks": ""
             }
            },
            "type": "scattermapbox"
           }
          ],
          "scatterpolar": [
           {
            "marker": {
             "colorbar": {
              "outlinewidth": 0,
              "ticks": ""
             }
            },
            "type": "scatterpolar"
           }
          ],
          "scatterpolargl": [
           {
            "marker": {
             "colorbar": {
              "outlinewidth": 0,
              "ticks": ""
             }
            },
            "type": "scatterpolargl"
           }
          ],
          "scatterternary": [
           {
            "marker": {
             "colorbar": {
              "outlinewidth": 0,
              "ticks": ""
             }
            },
            "type": "scatterternary"
           }
          ],
          "surface": [
           {
            "colorbar": {
             "outlinewidth": 0,
             "ticks": ""
            },
            "colorscale": [
             [
              0,
              "#0d0887"
             ],
             [
              0.1111111111111111,
              "#46039f"
             ],
             [
              0.2222222222222222,
              "#7201a8"
             ],
             [
              0.3333333333333333,
              "#9c179e"
             ],
             [
              0.4444444444444444,
              "#bd3786"
             ],
             [
              0.5555555555555556,
              "#d8576b"
             ],
             [
              0.6666666666666666,
              "#ed7953"
             ],
             [
              0.7777777777777778,
              "#fb9f3a"
             ],
             [
              0.8888888888888888,
              "#fdca26"
             ],
             [
              1,
              "#f0f921"
             ]
            ],
            "type": "surface"
           }
          ],
          "table": [
           {
            "cells": {
             "fill": {
              "color": "#EBF0F8"
             },
             "line": {
              "color": "white"
             }
            },
            "header": {
             "fill": {
              "color": "#C8D4E3"
             },
             "line": {
              "color": "white"
             }
            },
            "type": "table"
           }
          ]
         },
         "layout": {
          "annotationdefaults": {
           "arrowcolor": "#2a3f5f",
           "arrowhead": 0,
           "arrowwidth": 1
          },
          "autotypenumbers": "strict",
          "coloraxis": {
           "colorbar": {
            "outlinewidth": 0,
            "ticks": ""
           }
          },
          "colorscale": {
           "diverging": [
            [
             0,
             "#8e0152"
            ],
            [
             0.1,
             "#c51b7d"
            ],
            [
             0.2,
             "#de77ae"
            ],
            [
             0.3,
             "#f1b6da"
            ],
            [
             0.4,
             "#fde0ef"
            ],
            [
             0.5,
             "#f7f7f7"
            ],
            [
             0.6,
             "#e6f5d0"
            ],
            [
             0.7,
             "#b8e186"
            ],
            [
             0.8,
             "#7fbc41"
            ],
            [
             0.9,
             "#4d9221"
            ],
            [
             1,
             "#276419"
            ]
           ],
           "sequential": [
            [
             0,
             "#0d0887"
            ],
            [
             0.1111111111111111,
             "#46039f"
            ],
            [
             0.2222222222222222,
             "#7201a8"
            ],
            [
             0.3333333333333333,
             "#9c179e"
            ],
            [
             0.4444444444444444,
             "#bd3786"
            ],
            [
             0.5555555555555556,
             "#d8576b"
            ],
            [
             0.6666666666666666,
             "#ed7953"
            ],
            [
             0.7777777777777778,
             "#fb9f3a"
            ],
            [
             0.8888888888888888,
             "#fdca26"
            ],
            [
             1,
             "#f0f921"
            ]
           ],
           "sequentialminus": [
            [
             0,
             "#0d0887"
            ],
            [
             0.1111111111111111,
             "#46039f"
            ],
            [
             0.2222222222222222,
             "#7201a8"
            ],
            [
             0.3333333333333333,
             "#9c179e"
            ],
            [
             0.4444444444444444,
             "#bd3786"
            ],
            [
             0.5555555555555556,
             "#d8576b"
            ],
            [
             0.6666666666666666,
             "#ed7953"
            ],
            [
             0.7777777777777778,
             "#fb9f3a"
            ],
            [
             0.8888888888888888,
             "#fdca26"
            ],
            [
             1,
             "#f0f921"
            ]
           ]
          },
          "colorway": [
           "#636efa",
           "#EF553B",
           "#00cc96",
           "#ab63fa",
           "#FFA15A",
           "#19d3f3",
           "#FF6692",
           "#B6E880",
           "#FF97FF",
           "#FECB52"
          ],
          "font": {
           "color": "#2a3f5f"
          },
          "geo": {
           "bgcolor": "white",
           "lakecolor": "white",
           "landcolor": "#E5ECF6",
           "showlakes": true,
           "showland": true,
           "subunitcolor": "white"
          },
          "hoverlabel": {
           "align": "left"
          },
          "hovermode": "closest",
          "mapbox": {
           "style": "light"
          },
          "paper_bgcolor": "white",
          "plot_bgcolor": "#E5ECF6",
          "polar": {
           "angularaxis": {
            "gridcolor": "white",
            "linecolor": "white",
            "ticks": ""
           },
           "bgcolor": "#E5ECF6",
           "radialaxis": {
            "gridcolor": "white",
            "linecolor": "white",
            "ticks": ""
           }
          },
          "scene": {
           "xaxis": {
            "backgroundcolor": "#E5ECF6",
            "gridcolor": "white",
            "gridwidth": 2,
            "linecolor": "white",
            "showbackground": true,
            "ticks": "",
            "zerolinecolor": "white"
           },
           "yaxis": {
            "backgroundcolor": "#E5ECF6",
            "gridcolor": "white",
            "gridwidth": 2,
            "linecolor": "white",
            "showbackground": true,
            "ticks": "",
            "zerolinecolor": "white"
           },
           "zaxis": {
            "backgroundcolor": "#E5ECF6",
            "gridcolor": "white",
            "gridwidth": 2,
            "linecolor": "white",
            "showbackground": true,
            "ticks": "",
            "zerolinecolor": "white"
           }
          },
          "shapedefaults": {
           "line": {
            "color": "#2a3f5f"
           }
          },
          "ternary": {
           "aaxis": {
            "gridcolor": "white",
            "linecolor": "white",
            "ticks": ""
           },
           "baxis": {
            "gridcolor": "white",
            "linecolor": "white",
            "ticks": ""
           },
           "bgcolor": "#E5ECF6",
           "caxis": {
            "gridcolor": "white",
            "linecolor": "white",
            "ticks": ""
           }
          },
          "title": {
           "x": 0.05
          },
          "xaxis": {
           "automargin": true,
           "gridcolor": "white",
           "linecolor": "white",
           "ticks": "",
           "title": {
            "standoff": 15
           },
           "zerolinecolor": "white",
           "zerolinewidth": 2
          },
          "yaxis": {
           "automargin": true,
           "gridcolor": "white",
           "linecolor": "white",
           "ticks": "",
           "title": {
            "standoff": 15
           },
           "zerolinecolor": "white",
           "zerolinewidth": 2
          }
         }
        },
        "title": {
         "text": "Coding RNA - lncRNA: correlation & moment tests"
        },
        "xaxis": {
         "showgrid": false,
         "visible": false,
         "zeroline": false
        },
        "yaxis": {
         "showgrid": false,
         "visible": false,
         "zeroline": false
        }
       }
      }
     },
     "metadata": {},
     "output_type": "display_data"
    }
   ],
   "source": [
    "sankey_from_df(result_df(correlation_pcRNA_lncRNA, moment_pcRNA_lncRNA), \"Coding RNA - lncRNA: correlation & moment tests\")"
   ]
  },
  {
   "cell_type": "markdown",
   "id": "97fe8b06",
   "metadata": {},
   "source": [
    "# Birth-Death model feasibility sankey"
   ]
  },
  {
   "cell_type": "code",
   "execution_count": 1,
   "id": "f62299cd",
   "metadata": {},
   "outputs": [],
   "source": [
    "def result_df(int_BD_pc_nc, ind_BD_pc, ind_BD_nc):\n",
    "\n",
    "    # size\n",
    "    pc_genes = len(ind_BD_pc.result_dict)\n",
    "    nc_genes = len(ind_BD_nc.result_dict)\n",
    "\n",
    "    # construct df\n",
    "    df = pd.DataFrame(columns=[\"Independent Birth-Death\", \"Interacting Birth-Death\"])\n",
    "\n",
    "    # get data\n",
    "    ind_BD_list = []\n",
    "    for i in range(pc_genes):\n",
    "        gene_i = ind_BD_pc.result_dict[i]['status']\n",
    "        for j in range(nc_genes):\n",
    "            gene_j = ind_BD_nc.result_dict[j]['status']\n",
    "            if gene_i < gene_j:\n",
    "                ind_BD_list.append(gene_i + \" - \" + gene_j)\n",
    "            else:\n",
    "                ind_BD_list.append(gene_j + \" - \" + gene_i)\n",
    "            '''\n",
    "            if gene_i == \"INFEASIBLE\" and gene_j == \"INFEASIBLE\":\n",
    "                BD_list.append('INF-INF')\n",
    "            elif gene_i == \"INFESIBLE\" and gene_j == \"OPTIMAL\":\n",
    "                BD_list.append('INF-OPT')\n",
    "            elif gene_i == \"OPTIMAL\" and gene_j == \"INFEASIBLE\":\n",
    "                BD_list.append('INF-OPT')\n",
    "            elif gene_i == \"OPTIMAL\" and gene_j == \"OPTIMAL\":\n",
    "                BD_list.append('OPT-OPT')\n",
    "            else:\n",
    "                BD_list.append('OTHER')\n",
    "            '''\n",
    "\n",
    "    # fill\n",
    "    df[\"Independent Birth-Death\"] = ind_BD_list\n",
    "    df[\"Interacting Birth-Death\"] = [res['status'] for res in int_BD_pc_nc.result_dict.values()]\n",
    "\n",
    "    return df"
   ]
  },
  {
   "cell_type": "code",
   "execution_count": 4,
   "id": "9a4ce5a1",
   "metadata": {},
   "outputs": [
    {
     "ename": "NameError",
     "evalue": "name 'optimization_pcRNA_miRNA_int_BD' is not defined",
     "output_type": "error",
     "traceback": [
      "\u001b[1;31m---------------------------------------------------------------------------\u001b[0m",
      "\u001b[1;31mNameError\u001b[0m                                 Traceback (most recent call last)",
      "Cell \u001b[1;32mIn[4], line 1\u001b[0m\n\u001b[1;32m----> 1\u001b[0m sankey_from_df(result_df(\u001b[43moptimization_pcRNA_miRNA_int_BD\u001b[49m, optimization_pcRNA_BD, optimization_miRNA_BD), \u001b[38;5;124m\"\u001b[39m\u001b[38;5;124mCoding RNA - miRNA: birth death feasibility\u001b[39m\u001b[38;5;124m\"\u001b[39m)\n",
      "\u001b[1;31mNameError\u001b[0m: name 'optimization_pcRNA_miRNA_int_BD' is not defined"
     ]
    }
   ],
   "source": [
    "sankey_from_df(result_df(optimization_pcRNA_miRNA_int_BD, optimization_pcRNA_BD, optimization_miRNA_BD), \"Coding RNA - miRNA: birth death feasibility\")"
   ]
  },
  {
   "cell_type": "markdown",
   "id": "c3bba66a",
   "metadata": {},
   "source": [
    "# Independent - Interacting result comparison\n",
    "\n",
    "Compare how the independent birth-death model feasibility test results compare to the independent moment test\n",
    "\n",
    "- are the genes that are infeasible under an independent BD model also infeasible for moments i.e. due to interaction, or not i.e. due to non-BD model\n",
    "- how many gene pairs that are infeasible under moments i.e. due to interaction, are also infeasible under an independent BD model i.e. how good is test at detection"
   ]
  },
  {
   "cell_type": "code",
   "execution_count": 226,
   "id": "ef9c70be",
   "metadata": {},
   "outputs": [],
   "source": [
    "def result_df(moment_pc_nc, optim_BD_pc, optim_BD_nc):\n",
    "\n",
    "    # size\n",
    "    pc_genes = len(optim_BD_pc.result_dict)\n",
    "    nc_genes = len(optim_BD_nc.result_dict)\n",
    "\n",
    "    # construct df\n",
    "    df = pd.DataFrame(columns=[\"Moment\", \"Birth-Death\"])\n",
    "\n",
    "    # get data\n",
    "    BD_list = []\n",
    "    for i in range(pc_genes):\n",
    "        gene_i = optim_BD_pc.result_dict[i]['status']\n",
    "        for j in range(nc_genes):\n",
    "            gene_j = optim_BD_nc.result_dict[j]['status']\n",
    "            if gene_i < gene_j:\n",
    "                BD_list.append(gene_i + \" - \" + gene_j)\n",
    "            else:\n",
    "                BD_list.append(gene_j + \" - \" + gene_i)\n",
    "            '''\n",
    "            if gene_i == \"INFEASIBLE\" and gene_j == \"INFEASIBLE\":\n",
    "                BD_list.append('INF-INF')\n",
    "            elif gene_i == \"INFESIBLE\" and gene_j == \"OPTIMAL\":\n",
    "                BD_list.append('INF-OPT')\n",
    "            elif gene_i == \"OPTIMAL\" and gene_j == \"INFEASIBLE\":\n",
    "                BD_list.append('INF-OPT')\n",
    "            elif gene_i == \"OPTIMAL\" and gene_j == \"OPTIMAL\":\n",
    "                BD_list.append('OPT-OPT')\n",
    "            else:\n",
    "                BD_list.append('OTHER')\n",
    "            '''\n",
    "\n",
    "    # fill\n",
    "    df[\"Moment\"] = [res['status'] for res in moment_pc_nc.result_dict.values()]\n",
    "    df[\"Birth-Death\"] = BD_list\n",
    "\n",
    "    return df"
   ]
  },
  {
   "cell_type": "code",
   "execution_count": 216,
   "id": "d3358d45",
   "metadata": {},
   "outputs": [
    {
     "data": {
      "application/vnd.plotly.v1+json": {
       "config": {
        "plotlyServerURL": "https://plot.ly"
       },
       "data": [
        {
         "link": {
          "color": "lightgrey",
          "source": [
           0,
           0,
           1,
           1,
           1,
           1,
           1,
           2,
           2,
           2,
           2,
           2
          ],
          "target": [
           1,
           2,
           3,
           4,
           5,
           6,
           7,
           3,
           4,
           5,
           6,
           7
          ],
          "value": [
           1735,
           65,
           1028,
           612,
           77,
           15,
           3,
           22,
           33,
           10,
           0,
           0
          ]
         },
         "node": {
          "label": [
           "",
           "OPTIMAL",
           "INFEASIBLE",
           "INFEASIBLE - INFEASIBLE",
           "INFEASIBLE - OPTIMAL",
           "OPTIMAL - OPTIMAL",
           "INFEASIBLE - TIME_LIMIT",
           "OPTIMAL - TIME_LIMIT"
          ]
         },
         "type": "sankey"
        }
       ],
       "layout": {
        "annotations": [
         {
          "align": "center",
          "font": {
           "color": "tomato",
           "family": "Courier New, monospace",
           "size": 16
          },
          "showarrow": false,
          "text": "Genes",
          "x": 0,
          "xref": "paper",
          "y": 1.1,
          "yref": "paper"
         },
         {
          "align": "center",
          "font": {
           "color": "tomato",
           "family": "Courier New, monospace",
           "size": 16
          },
          "showarrow": false,
          "text": "Moment",
          "x": 0.5,
          "xref": "paper",
          "y": 1.1,
          "yref": "paper"
         },
         {
          "align": "center",
          "font": {
           "color": "tomato",
           "family": "Courier New, monospace",
           "size": 16
          },
          "showarrow": false,
          "text": "Birth-Death",
          "x": 1,
          "xref": "paper",
          "y": 1.1,
          "yref": "paper"
         }
        ],
        "font": {
         "size": 10
        },
        "plot_bgcolor": "rgba(0,0,0,0)",
        "template": {
         "data": {
          "bar": [
           {
            "error_x": {
             "color": "#2a3f5f"
            },
            "error_y": {
             "color": "#2a3f5f"
            },
            "marker": {
             "line": {
              "color": "#E5ECF6",
              "width": 0.5
             },
             "pattern": {
              "fillmode": "overlay",
              "size": 10,
              "solidity": 0.2
             }
            },
            "type": "bar"
           }
          ],
          "barpolar": [
           {
            "marker": {
             "line": {
              "color": "#E5ECF6",
              "width": 0.5
             },
             "pattern": {
              "fillmode": "overlay",
              "size": 10,
              "solidity": 0.2
             }
            },
            "type": "barpolar"
           }
          ],
          "carpet": [
           {
            "aaxis": {
             "endlinecolor": "#2a3f5f",
             "gridcolor": "white",
             "linecolor": "white",
             "minorgridcolor": "white",
             "startlinecolor": "#2a3f5f"
            },
            "baxis": {
             "endlinecolor": "#2a3f5f",
             "gridcolor": "white",
             "linecolor": "white",
             "minorgridcolor": "white",
             "startlinecolor": "#2a3f5f"
            },
            "type": "carpet"
           }
          ],
          "choropleth": [
           {
            "colorbar": {
             "outlinewidth": 0,
             "ticks": ""
            },
            "type": "choropleth"
           }
          ],
          "contour": [
           {
            "colorbar": {
             "outlinewidth": 0,
             "ticks": ""
            },
            "colorscale": [
             [
              0,
              "#0d0887"
             ],
             [
              0.1111111111111111,
              "#46039f"
             ],
             [
              0.2222222222222222,
              "#7201a8"
             ],
             [
              0.3333333333333333,
              "#9c179e"
             ],
             [
              0.4444444444444444,
              "#bd3786"
             ],
             [
              0.5555555555555556,
              "#d8576b"
             ],
             [
              0.6666666666666666,
              "#ed7953"
             ],
             [
              0.7777777777777778,
              "#fb9f3a"
             ],
             [
              0.8888888888888888,
              "#fdca26"
             ],
             [
              1,
              "#f0f921"
             ]
            ],
            "type": "contour"
           }
          ],
          "contourcarpet": [
           {
            "colorbar": {
             "outlinewidth": 0,
             "ticks": ""
            },
            "type": "contourcarpet"
           }
          ],
          "heatmap": [
           {
            "colorbar": {
             "outlinewidth": 0,
             "ticks": ""
            },
            "colorscale": [
             [
              0,
              "#0d0887"
             ],
             [
              0.1111111111111111,
              "#46039f"
             ],
             [
              0.2222222222222222,
              "#7201a8"
             ],
             [
              0.3333333333333333,
              "#9c179e"
             ],
             [
              0.4444444444444444,
              "#bd3786"
             ],
             [
              0.5555555555555556,
              "#d8576b"
             ],
             [
              0.6666666666666666,
              "#ed7953"
             ],
             [
              0.7777777777777778,
              "#fb9f3a"
             ],
             [
              0.8888888888888888,
              "#fdca26"
             ],
             [
              1,
              "#f0f921"
             ]
            ],
            "type": "heatmap"
           }
          ],
          "histogram": [
           {
            "marker": {
             "pattern": {
              "fillmode": "overlay",
              "size": 10,
              "solidity": 0.2
             }
            },
            "type": "histogram"
           }
          ],
          "histogram2d": [
           {
            "colorbar": {
             "outlinewidth": 0,
             "ticks": ""
            },
            "colorscale": [
             [
              0,
              "#0d0887"
             ],
             [
              0.1111111111111111,
              "#46039f"
             ],
             [
              0.2222222222222222,
              "#7201a8"
             ],
             [
              0.3333333333333333,
              "#9c179e"
             ],
             [
              0.4444444444444444,
              "#bd3786"
             ],
             [
              0.5555555555555556,
              "#d8576b"
             ],
             [
              0.6666666666666666,
              "#ed7953"
             ],
             [
              0.7777777777777778,
              "#fb9f3a"
             ],
             [
              0.8888888888888888,
              "#fdca26"
             ],
             [
              1,
              "#f0f921"
             ]
            ],
            "type": "histogram2d"
           }
          ],
          "histogram2dcontour": [
           {
            "colorbar": {
             "outlinewidth": 0,
             "ticks": ""
            },
            "colorscale": [
             [
              0,
              "#0d0887"
             ],
             [
              0.1111111111111111,
              "#46039f"
             ],
             [
              0.2222222222222222,
              "#7201a8"
             ],
             [
              0.3333333333333333,
              "#9c179e"
             ],
             [
              0.4444444444444444,
              "#bd3786"
             ],
             [
              0.5555555555555556,
              "#d8576b"
             ],
             [
              0.6666666666666666,
              "#ed7953"
             ],
             [
              0.7777777777777778,
              "#fb9f3a"
             ],
             [
              0.8888888888888888,
              "#fdca26"
             ],
             [
              1,
              "#f0f921"
             ]
            ],
            "type": "histogram2dcontour"
           }
          ],
          "mesh3d": [
           {
            "colorbar": {
             "outlinewidth": 0,
             "ticks": ""
            },
            "type": "mesh3d"
           }
          ],
          "parcoords": [
           {
            "line": {
             "colorbar": {
              "outlinewidth": 0,
              "ticks": ""
             }
            },
            "type": "parcoords"
           }
          ],
          "pie": [
           {
            "automargin": true,
            "type": "pie"
           }
          ],
          "scatter": [
           {
            "fillpattern": {
             "fillmode": "overlay",
             "size": 10,
             "solidity": 0.2
            },
            "type": "scatter"
           }
          ],
          "scatter3d": [
           {
            "line": {
             "colorbar": {
              "outlinewidth": 0,
              "ticks": ""
             }
            },
            "marker": {
             "colorbar": {
              "outlinewidth": 0,
              "ticks": ""
             }
            },
            "type": "scatter3d"
           }
          ],
          "scattercarpet": [
           {
            "marker": {
             "colorbar": {
              "outlinewidth": 0,
              "ticks": ""
             }
            },
            "type": "scattercarpet"
           }
          ],
          "scattergeo": [
           {
            "marker": {
             "colorbar": {
              "outlinewidth": 0,
              "ticks": ""
             }
            },
            "type": "scattergeo"
           }
          ],
          "scattergl": [
           {
            "marker": {
             "colorbar": {
              "outlinewidth": 0,
              "ticks": ""
             }
            },
            "type": "scattergl"
           }
          ],
          "scattermap": [
           {
            "marker": {
             "colorbar": {
              "outlinewidth": 0,
              "ticks": ""
             }
            },
            "type": "scattermap"
           }
          ],
          "scattermapbox": [
           {
            "marker": {
             "colorbar": {
              "outlinewidth": 0,
              "ticks": ""
             }
            },
            "type": "scattermapbox"
           }
          ],
          "scatterpolar": [
           {
            "marker": {
             "colorbar": {
              "outlinewidth": 0,
              "ticks": ""
             }
            },
            "type": "scatterpolar"
           }
          ],
          "scatterpolargl": [
           {
            "marker": {
             "colorbar": {
              "outlinewidth": 0,
              "ticks": ""
             }
            },
            "type": "scatterpolargl"
           }
          ],
          "scatterternary": [
           {
            "marker": {
             "colorbar": {
              "outlinewidth": 0,
              "ticks": ""
             }
            },
            "type": "scatterternary"
           }
          ],
          "surface": [
           {
            "colorbar": {
             "outlinewidth": 0,
             "ticks": ""
            },
            "colorscale": [
             [
              0,
              "#0d0887"
             ],
             [
              0.1111111111111111,
              "#46039f"
             ],
             [
              0.2222222222222222,
              "#7201a8"
             ],
             [
              0.3333333333333333,
              "#9c179e"
             ],
             [
              0.4444444444444444,
              "#bd3786"
             ],
             [
              0.5555555555555556,
              "#d8576b"
             ],
             [
              0.6666666666666666,
              "#ed7953"
             ],
             [
              0.7777777777777778,
              "#fb9f3a"
             ],
             [
              0.8888888888888888,
              "#fdca26"
             ],
             [
              1,
              "#f0f921"
             ]
            ],
            "type": "surface"
           }
          ],
          "table": [
           {
            "cells": {
             "fill": {
              "color": "#EBF0F8"
             },
             "line": {
              "color": "white"
             }
            },
            "header": {
             "fill": {
              "color": "#C8D4E3"
             },
             "line": {
              "color": "white"
             }
            },
            "type": "table"
           }
          ]
         },
         "layout": {
          "annotationdefaults": {
           "arrowcolor": "#2a3f5f",
           "arrowhead": 0,
           "arrowwidth": 1
          },
          "autotypenumbers": "strict",
          "coloraxis": {
           "colorbar": {
            "outlinewidth": 0,
            "ticks": ""
           }
          },
          "colorscale": {
           "diverging": [
            [
             0,
             "#8e0152"
            ],
            [
             0.1,
             "#c51b7d"
            ],
            [
             0.2,
             "#de77ae"
            ],
            [
             0.3,
             "#f1b6da"
            ],
            [
             0.4,
             "#fde0ef"
            ],
            [
             0.5,
             "#f7f7f7"
            ],
            [
             0.6,
             "#e6f5d0"
            ],
            [
             0.7,
             "#b8e186"
            ],
            [
             0.8,
             "#7fbc41"
            ],
            [
             0.9,
             "#4d9221"
            ],
            [
             1,
             "#276419"
            ]
           ],
           "sequential": [
            [
             0,
             "#0d0887"
            ],
            [
             0.1111111111111111,
             "#46039f"
            ],
            [
             0.2222222222222222,
             "#7201a8"
            ],
            [
             0.3333333333333333,
             "#9c179e"
            ],
            [
             0.4444444444444444,
             "#bd3786"
            ],
            [
             0.5555555555555556,
             "#d8576b"
            ],
            [
             0.6666666666666666,
             "#ed7953"
            ],
            [
             0.7777777777777778,
             "#fb9f3a"
            ],
            [
             0.8888888888888888,
             "#fdca26"
            ],
            [
             1,
             "#f0f921"
            ]
           ],
           "sequentialminus": [
            [
             0,
             "#0d0887"
            ],
            [
             0.1111111111111111,
             "#46039f"
            ],
            [
             0.2222222222222222,
             "#7201a8"
            ],
            [
             0.3333333333333333,
             "#9c179e"
            ],
            [
             0.4444444444444444,
             "#bd3786"
            ],
            [
             0.5555555555555556,
             "#d8576b"
            ],
            [
             0.6666666666666666,
             "#ed7953"
            ],
            [
             0.7777777777777778,
             "#fb9f3a"
            ],
            [
             0.8888888888888888,
             "#fdca26"
            ],
            [
             1,
             "#f0f921"
            ]
           ]
          },
          "colorway": [
           "#636efa",
           "#EF553B",
           "#00cc96",
           "#ab63fa",
           "#FFA15A",
           "#19d3f3",
           "#FF6692",
           "#B6E880",
           "#FF97FF",
           "#FECB52"
          ],
          "font": {
           "color": "#2a3f5f"
          },
          "geo": {
           "bgcolor": "white",
           "lakecolor": "white",
           "landcolor": "#E5ECF6",
           "showlakes": true,
           "showland": true,
           "subunitcolor": "white"
          },
          "hoverlabel": {
           "align": "left"
          },
          "hovermode": "closest",
          "mapbox": {
           "style": "light"
          },
          "paper_bgcolor": "white",
          "plot_bgcolor": "#E5ECF6",
          "polar": {
           "angularaxis": {
            "gridcolor": "white",
            "linecolor": "white",
            "ticks": ""
           },
           "bgcolor": "#E5ECF6",
           "radialaxis": {
            "gridcolor": "white",
            "linecolor": "white",
            "ticks": ""
           }
          },
          "scene": {
           "xaxis": {
            "backgroundcolor": "#E5ECF6",
            "gridcolor": "white",
            "gridwidth": 2,
            "linecolor": "white",
            "showbackground": true,
            "ticks": "",
            "zerolinecolor": "white"
           },
           "yaxis": {
            "backgroundcolor": "#E5ECF6",
            "gridcolor": "white",
            "gridwidth": 2,
            "linecolor": "white",
            "showbackground": true,
            "ticks": "",
            "zerolinecolor": "white"
           },
           "zaxis": {
            "backgroundcolor": "#E5ECF6",
            "gridcolor": "white",
            "gridwidth": 2,
            "linecolor": "white",
            "showbackground": true,
            "ticks": "",
            "zerolinecolor": "white"
           }
          },
          "shapedefaults": {
           "line": {
            "color": "#2a3f5f"
           }
          },
          "ternary": {
           "aaxis": {
            "gridcolor": "white",
            "linecolor": "white",
            "ticks": ""
           },
           "baxis": {
            "gridcolor": "white",
            "linecolor": "white",
            "ticks": ""
           },
           "bgcolor": "#E5ECF6",
           "caxis": {
            "gridcolor": "white",
            "linecolor": "white",
            "ticks": ""
           }
          },
          "title": {
           "x": 0.05
          },
          "xaxis": {
           "automargin": true,
           "gridcolor": "white",
           "linecolor": "white",
           "ticks": "",
           "title": {
            "standoff": 15
           },
           "zerolinecolor": "white",
           "zerolinewidth": 2
          },
          "yaxis": {
           "automargin": true,
           "gridcolor": "white",
           "linecolor": "white",
           "ticks": "",
           "title": {
            "standoff": 15
           },
           "zerolinecolor": "white",
           "zerolinewidth": 2
          }
         }
        },
        "title": {
         "text": "Coding RNA - miRNA: moments & paired indep BD feasibility"
        },
        "xaxis": {
         "showgrid": false,
         "visible": false,
         "zeroline": false
        },
        "yaxis": {
         "showgrid": false,
         "visible": false,
         "zeroline": false
        }
       }
      }
     },
     "metadata": {},
     "output_type": "display_data"
    }
   ],
   "source": [
    "sankey_from_df(result_df(moment_pcRNA_miRNA, optimization_pcRNA_BD, optimization_miRNA_BD), \"Coding RNA - miRNA: moments & paired indep BD feasibility\")"
   ]
  },
  {
   "cell_type": "code",
   "execution_count": 227,
   "id": "d2cbbef6",
   "metadata": {},
   "outputs": [
    {
     "data": {
      "application/vnd.plotly.v1+json": {
       "config": {
        "plotlyServerURL": "https://plot.ly"
       },
       "data": [
        {
         "link": {
          "color": "lightgrey",
          "source": [
           0,
           0,
           1,
           1,
           1,
           1,
           1,
           1,
           2,
           2,
           2,
           2,
           2,
           2
          ],
          "target": [
           1,
           2,
           3,
           4,
           5,
           6,
           7,
           8,
           3,
           4,
           5,
           6,
           7,
           8
          ],
          "value": [
           15160,
           1040,
           3891,
           8321,
           267,
           2489,
           189,
           3,
           99,
           472,
           0,
           469,
           0,
           0
          ]
         },
         "node": {
          "label": [
           "",
           "OPTIMAL",
           "INFEASIBLE",
           "INFEASIBLE - INFEASIBLE",
           "INFEASIBLE - OPTIMAL",
           "INFEASIBLE - TIME_LIMIT",
           "OPTIMAL - OPTIMAL",
           "OPTIMAL - TIME_LIMIT",
           "TIME_LIMIT - TIME_LIMIT"
          ]
         },
         "type": "sankey"
        }
       ],
       "layout": {
        "annotations": [
         {
          "align": "center",
          "font": {
           "color": "tomato",
           "family": "Courier New, monospace",
           "size": 16
          },
          "showarrow": false,
          "text": "Genes",
          "x": 0,
          "xref": "paper",
          "y": 1.1,
          "yref": "paper"
         },
         {
          "align": "center",
          "font": {
           "color": "tomato",
           "family": "Courier New, monospace",
           "size": 16
          },
          "showarrow": false,
          "text": "Moment",
          "x": 0.5,
          "xref": "paper",
          "y": 1.1,
          "yref": "paper"
         },
         {
          "align": "center",
          "font": {
           "color": "tomato",
           "family": "Courier New, monospace",
           "size": 16
          },
          "showarrow": false,
          "text": "Birth-Death",
          "x": 1,
          "xref": "paper",
          "y": 1.1,
          "yref": "paper"
         }
        ],
        "font": {
         "size": 10
        },
        "plot_bgcolor": "rgba(0,0,0,0)",
        "template": {
         "data": {
          "bar": [
           {
            "error_x": {
             "color": "#2a3f5f"
            },
            "error_y": {
             "color": "#2a3f5f"
            },
            "marker": {
             "line": {
              "color": "#E5ECF6",
              "width": 0.5
             },
             "pattern": {
              "fillmode": "overlay",
              "size": 10,
              "solidity": 0.2
             }
            },
            "type": "bar"
           }
          ],
          "barpolar": [
           {
            "marker": {
             "line": {
              "color": "#E5ECF6",
              "width": 0.5
             },
             "pattern": {
              "fillmode": "overlay",
              "size": 10,
              "solidity": 0.2
             }
            },
            "type": "barpolar"
           }
          ],
          "carpet": [
           {
            "aaxis": {
             "endlinecolor": "#2a3f5f",
             "gridcolor": "white",
             "linecolor": "white",
             "minorgridcolor": "white",
             "startlinecolor": "#2a3f5f"
            },
            "baxis": {
             "endlinecolor": "#2a3f5f",
             "gridcolor": "white",
             "linecolor": "white",
             "minorgridcolor": "white",
             "startlinecolor": "#2a3f5f"
            },
            "type": "carpet"
           }
          ],
          "choropleth": [
           {
            "colorbar": {
             "outlinewidth": 0,
             "ticks": ""
            },
            "type": "choropleth"
           }
          ],
          "contour": [
           {
            "colorbar": {
             "outlinewidth": 0,
             "ticks": ""
            },
            "colorscale": [
             [
              0,
              "#0d0887"
             ],
             [
              0.1111111111111111,
              "#46039f"
             ],
             [
              0.2222222222222222,
              "#7201a8"
             ],
             [
              0.3333333333333333,
              "#9c179e"
             ],
             [
              0.4444444444444444,
              "#bd3786"
             ],
             [
              0.5555555555555556,
              "#d8576b"
             ],
             [
              0.6666666666666666,
              "#ed7953"
             ],
             [
              0.7777777777777778,
              "#fb9f3a"
             ],
             [
              0.8888888888888888,
              "#fdca26"
             ],
             [
              1,
              "#f0f921"
             ]
            ],
            "type": "contour"
           }
          ],
          "contourcarpet": [
           {
            "colorbar": {
             "outlinewidth": 0,
             "ticks": ""
            },
            "type": "contourcarpet"
           }
          ],
          "heatmap": [
           {
            "colorbar": {
             "outlinewidth": 0,
             "ticks": ""
            },
            "colorscale": [
             [
              0,
              "#0d0887"
             ],
             [
              0.1111111111111111,
              "#46039f"
             ],
             [
              0.2222222222222222,
              "#7201a8"
             ],
             [
              0.3333333333333333,
              "#9c179e"
             ],
             [
              0.4444444444444444,
              "#bd3786"
             ],
             [
              0.5555555555555556,
              "#d8576b"
             ],
             [
              0.6666666666666666,
              "#ed7953"
             ],
             [
              0.7777777777777778,
              "#fb9f3a"
             ],
             [
              0.8888888888888888,
              "#fdca26"
             ],
             [
              1,
              "#f0f921"
             ]
            ],
            "type": "heatmap"
           }
          ],
          "histogram": [
           {
            "marker": {
             "pattern": {
              "fillmode": "overlay",
              "size": 10,
              "solidity": 0.2
             }
            },
            "type": "histogram"
           }
          ],
          "histogram2d": [
           {
            "colorbar": {
             "outlinewidth": 0,
             "ticks": ""
            },
            "colorscale": [
             [
              0,
              "#0d0887"
             ],
             [
              0.1111111111111111,
              "#46039f"
             ],
             [
              0.2222222222222222,
              "#7201a8"
             ],
             [
              0.3333333333333333,
              "#9c179e"
             ],
             [
              0.4444444444444444,
              "#bd3786"
             ],
             [
              0.5555555555555556,
              "#d8576b"
             ],
             [
              0.6666666666666666,
              "#ed7953"
             ],
             [
              0.7777777777777778,
              "#fb9f3a"
             ],
             [
              0.8888888888888888,
              "#fdca26"
             ],
             [
              1,
              "#f0f921"
             ]
            ],
            "type": "histogram2d"
           }
          ],
          "histogram2dcontour": [
           {
            "colorbar": {
             "outlinewidth": 0,
             "ticks": ""
            },
            "colorscale": [
             [
              0,
              "#0d0887"
             ],
             [
              0.1111111111111111,
              "#46039f"
             ],
             [
              0.2222222222222222,
              "#7201a8"
             ],
             [
              0.3333333333333333,
              "#9c179e"
             ],
             [
              0.4444444444444444,
              "#bd3786"
             ],
             [
              0.5555555555555556,
              "#d8576b"
             ],
             [
              0.6666666666666666,
              "#ed7953"
             ],
             [
              0.7777777777777778,
              "#fb9f3a"
             ],
             [
              0.8888888888888888,
              "#fdca26"
             ],
             [
              1,
              "#f0f921"
             ]
            ],
            "type": "histogram2dcontour"
           }
          ],
          "mesh3d": [
           {
            "colorbar": {
             "outlinewidth": 0,
             "ticks": ""
            },
            "type": "mesh3d"
           }
          ],
          "parcoords": [
           {
            "line": {
             "colorbar": {
              "outlinewidth": 0,
              "ticks": ""
             }
            },
            "type": "parcoords"
           }
          ],
          "pie": [
           {
            "automargin": true,
            "type": "pie"
           }
          ],
          "scatter": [
           {
            "fillpattern": {
             "fillmode": "overlay",
             "size": 10,
             "solidity": 0.2
            },
            "type": "scatter"
           }
          ],
          "scatter3d": [
           {
            "line": {
             "colorbar": {
              "outlinewidth": 0,
              "ticks": ""
             }
            },
            "marker": {
             "colorbar": {
              "outlinewidth": 0,
              "ticks": ""
             }
            },
            "type": "scatter3d"
           }
          ],
          "scattercarpet": [
           {
            "marker": {
             "colorbar": {
              "outlinewidth": 0,
              "ticks": ""
             }
            },
            "type": "scattercarpet"
           }
          ],
          "scattergeo": [
           {
            "marker": {
             "colorbar": {
              "outlinewidth": 0,
              "ticks": ""
             }
            },
            "type": "scattergeo"
           }
          ],
          "scattergl": [
           {
            "marker": {
             "colorbar": {
              "outlinewidth": 0,
              "ticks": ""
             }
            },
            "type": "scattergl"
           }
          ],
          "scattermap": [
           {
            "marker": {
             "colorbar": {
              "outlinewidth": 0,
              "ticks": ""
             }
            },
            "type": "scattermap"
           }
          ],
          "scattermapbox": [
           {
            "marker": {
             "colorbar": {
              "outlinewidth": 0,
              "ticks": ""
             }
            },
            "type": "scattermapbox"
           }
          ],
          "scatterpolar": [
           {
            "marker": {
             "colorbar": {
              "outlinewidth": 0,
              "ticks": ""
             }
            },
            "type": "scatterpolar"
           }
          ],
          "scatterpolargl": [
           {
            "marker": {
             "colorbar": {
              "outlinewidth": 0,
              "ticks": ""
             }
            },
            "type": "scatterpolargl"
           }
          ],
          "scatterternary": [
           {
            "marker": {
             "colorbar": {
              "outlinewidth": 0,
              "ticks": ""
             }
            },
            "type": "scatterternary"
           }
          ],
          "surface": [
           {
            "colorbar": {
             "outlinewidth": 0,
             "ticks": ""
            },
            "colorscale": [
             [
              0,
              "#0d0887"
             ],
             [
              0.1111111111111111,
              "#46039f"
             ],
             [
              0.2222222222222222,
              "#7201a8"
             ],
             [
              0.3333333333333333,
              "#9c179e"
             ],
             [
              0.4444444444444444,
              "#bd3786"
             ],
             [
              0.5555555555555556,
              "#d8576b"
             ],
             [
              0.6666666666666666,
              "#ed7953"
             ],
             [
              0.7777777777777778,
              "#fb9f3a"
             ],
             [
              0.8888888888888888,
              "#fdca26"
             ],
             [
              1,
              "#f0f921"
             ]
            ],
            "type": "surface"
           }
          ],
          "table": [
           {
            "cells": {
             "fill": {
              "color": "#EBF0F8"
             },
             "line": {
              "color": "white"
             }
            },
            "header": {
             "fill": {
              "color": "#C8D4E3"
             },
             "line": {
              "color": "white"
             }
            },
            "type": "table"
           }
          ]
         },
         "layout": {
          "annotationdefaults": {
           "arrowcolor": "#2a3f5f",
           "arrowhead": 0,
           "arrowwidth": 1
          },
          "autotypenumbers": "strict",
          "coloraxis": {
           "colorbar": {
            "outlinewidth": 0,
            "ticks": ""
           }
          },
          "colorscale": {
           "diverging": [
            [
             0,
             "#8e0152"
            ],
            [
             0.1,
             "#c51b7d"
            ],
            [
             0.2,
             "#de77ae"
            ],
            [
             0.3,
             "#f1b6da"
            ],
            [
             0.4,
             "#fde0ef"
            ],
            [
             0.5,
             "#f7f7f7"
            ],
            [
             0.6,
             "#e6f5d0"
            ],
            [
             0.7,
             "#b8e186"
            ],
            [
             0.8,
             "#7fbc41"
            ],
            [
             0.9,
             "#4d9221"
            ],
            [
             1,
             "#276419"
            ]
           ],
           "sequential": [
            [
             0,
             "#0d0887"
            ],
            [
             0.1111111111111111,
             "#46039f"
            ],
            [
             0.2222222222222222,
             "#7201a8"
            ],
            [
             0.3333333333333333,
             "#9c179e"
            ],
            [
             0.4444444444444444,
             "#bd3786"
            ],
            [
             0.5555555555555556,
             "#d8576b"
            ],
            [
             0.6666666666666666,
             "#ed7953"
            ],
            [
             0.7777777777777778,
             "#fb9f3a"
            ],
            [
             0.8888888888888888,
             "#fdca26"
            ],
            [
             1,
             "#f0f921"
            ]
           ],
           "sequentialminus": [
            [
             0,
             "#0d0887"
            ],
            [
             0.1111111111111111,
             "#46039f"
            ],
            [
             0.2222222222222222,
             "#7201a8"
            ],
            [
             0.3333333333333333,
             "#9c179e"
            ],
            [
             0.4444444444444444,
             "#bd3786"
            ],
            [
             0.5555555555555556,
             "#d8576b"
            ],
            [
             0.6666666666666666,
             "#ed7953"
            ],
            [
             0.7777777777777778,
             "#fb9f3a"
            ],
            [
             0.8888888888888888,
             "#fdca26"
            ],
            [
             1,
             "#f0f921"
            ]
           ]
          },
          "colorway": [
           "#636efa",
           "#EF553B",
           "#00cc96",
           "#ab63fa",
           "#FFA15A",
           "#19d3f3",
           "#FF6692",
           "#B6E880",
           "#FF97FF",
           "#FECB52"
          ],
          "font": {
           "color": "#2a3f5f"
          },
          "geo": {
           "bgcolor": "white",
           "lakecolor": "white",
           "landcolor": "#E5ECF6",
           "showlakes": true,
           "showland": true,
           "subunitcolor": "white"
          },
          "hoverlabel": {
           "align": "left"
          },
          "hovermode": "closest",
          "mapbox": {
           "style": "light"
          },
          "paper_bgcolor": "white",
          "plot_bgcolor": "#E5ECF6",
          "polar": {
           "angularaxis": {
            "gridcolor": "white",
            "linecolor": "white",
            "ticks": ""
           },
           "bgcolor": "#E5ECF6",
           "radialaxis": {
            "gridcolor": "white",
            "linecolor": "white",
            "ticks": ""
           }
          },
          "scene": {
           "xaxis": {
            "backgroundcolor": "#E5ECF6",
            "gridcolor": "white",
            "gridwidth": 2,
            "linecolor": "white",
            "showbackground": true,
            "ticks": "",
            "zerolinecolor": "white"
           },
           "yaxis": {
            "backgroundcolor": "#E5ECF6",
            "gridcolor": "white",
            "gridwidth": 2,
            "linecolor": "white",
            "showbackground": true,
            "ticks": "",
            "zerolinecolor": "white"
           },
           "zaxis": {
            "backgroundcolor": "#E5ECF6",
            "gridcolor": "white",
            "gridwidth": 2,
            "linecolor": "white",
            "showbackground": true,
            "ticks": "",
            "zerolinecolor": "white"
           }
          },
          "shapedefaults": {
           "line": {
            "color": "#2a3f5f"
           }
          },
          "ternary": {
           "aaxis": {
            "gridcolor": "white",
            "linecolor": "white",
            "ticks": ""
           },
           "baxis": {
            "gridcolor": "white",
            "linecolor": "white",
            "ticks": ""
           },
           "bgcolor": "#E5ECF6",
           "caxis": {
            "gridcolor": "white",
            "linecolor": "white",
            "ticks": ""
           }
          },
          "title": {
           "x": 0.05
          },
          "xaxis": {
           "automargin": true,
           "gridcolor": "white",
           "linecolor": "white",
           "ticks": "",
           "title": {
            "standoff": 15
           },
           "zerolinecolor": "white",
           "zerolinewidth": 2
          },
          "yaxis": {
           "automargin": true,
           "gridcolor": "white",
           "linecolor": "white",
           "ticks": "",
           "title": {
            "standoff": 15
           },
           "zerolinecolor": "white",
           "zerolinewidth": 2
          }
         }
        },
        "title": {
         "text": "Coding RNA - lncRNA: moments & paired indep BD feasibility"
        },
        "xaxis": {
         "showgrid": false,
         "visible": false,
         "zeroline": false
        },
        "yaxis": {
         "showgrid": false,
         "visible": false,
         "zeroline": false
        }
       }
      }
     },
     "metadata": {},
     "output_type": "display_data"
    }
   ],
   "source": [
    "sankey_from_df(result_df(moment_pcRNA_lncRNA, optimization_pcRNA_BD, optimization_lncRNA_BD), \"Coding RNA - lncRNA: moments & paired indep BD feasibility\")"
   ]
  },
  {
   "cell_type": "markdown",
   "id": "1ac3d41a",
   "metadata": {},
   "source": [
    "# BayNorm comparison"
   ]
  },
  {
   "cell_type": "code",
   "execution_count": 218,
   "id": "5256b0d9",
   "metadata": {},
   "outputs": [
    {
     "data": {
      "text/html": [
       "<div>\n",
       "<style scoped>\n",
       "    .dataframe tbody tr th:only-of-type {\n",
       "        vertical-align: middle;\n",
       "    }\n",
       "\n",
       "    .dataframe tbody tr th {\n",
       "        vertical-align: top;\n",
       "    }\n",
       "\n",
       "    .dataframe thead th {\n",
       "        text-align: right;\n",
       "    }\n",
       "</style>\n",
       "<table border=\"1\" class=\"dataframe\">\n",
       "  <thead>\n",
       "    <tr style=\"text-align: right;\">\n",
       "      <th></th>\n",
       "      <th>Fibroblasts_A10_S10</th>\n",
       "      <th>Fibroblasts_A11_S11</th>\n",
       "      <th>Fibroblasts_A2_S2</th>\n",
       "      <th>Fibroblasts_A3_S3</th>\n",
       "      <th>Fibroblasts_A4_S4</th>\n",
       "      <th>Fibroblasts_A5_S5</th>\n",
       "      <th>Fibroblasts_A7_S7</th>\n",
       "      <th>Fibroblasts_A8_S8</th>\n",
       "      <th>Fibroblasts_B10_S34</th>\n",
       "      <th>Fibroblasts_B11_S35</th>\n",
       "      <th>...</th>\n",
       "      <th>Fibroblasts_P18_S378</th>\n",
       "      <th>Fibroblasts_P1_S361</th>\n",
       "      <th>Fibroblasts_P21_S381</th>\n",
       "      <th>Fibroblasts_P22_S382</th>\n",
       "      <th>Fibroblasts_P23_S383</th>\n",
       "      <th>Fibroblasts_P3_S363</th>\n",
       "      <th>Fibroblasts_P4_S364</th>\n",
       "      <th>Fibroblasts_P5_S365</th>\n",
       "      <th>Fibroblasts_P6_S366</th>\n",
       "      <th>Fibroblasts_P8_S368</th>\n",
       "    </tr>\n",
       "  </thead>\n",
       "  <tbody>\n",
       "    <tr>\n",
       "      <th>7SK</th>\n",
       "      <td>237</td>\n",
       "      <td>33</td>\n",
       "      <td>265</td>\n",
       "      <td>319</td>\n",
       "      <td>349</td>\n",
       "      <td>31</td>\n",
       "      <td>20</td>\n",
       "      <td>350</td>\n",
       "      <td>181</td>\n",
       "      <td>172</td>\n",
       "      <td>...</td>\n",
       "      <td>337</td>\n",
       "      <td>552</td>\n",
       "      <td>119</td>\n",
       "      <td>172</td>\n",
       "      <td>3</td>\n",
       "      <td>62</td>\n",
       "      <td>222</td>\n",
       "      <td>247</td>\n",
       "      <td>34</td>\n",
       "      <td>173</td>\n",
       "    </tr>\n",
       "    <tr>\n",
       "      <th>A4GALT</th>\n",
       "      <td>0</td>\n",
       "      <td>0</td>\n",
       "      <td>0</td>\n",
       "      <td>0</td>\n",
       "      <td>0</td>\n",
       "      <td>0</td>\n",
       "      <td>0</td>\n",
       "      <td>0</td>\n",
       "      <td>0</td>\n",
       "      <td>525</td>\n",
       "      <td>...</td>\n",
       "      <td>0</td>\n",
       "      <td>0</td>\n",
       "      <td>0</td>\n",
       "      <td>0</td>\n",
       "      <td>0</td>\n",
       "      <td>0</td>\n",
       "      <td>0</td>\n",
       "      <td>0</td>\n",
       "      <td>0</td>\n",
       "      <td>0</td>\n",
       "    </tr>\n",
       "    <tr>\n",
       "      <th>AAAS</th>\n",
       "      <td>0</td>\n",
       "      <td>0</td>\n",
       "      <td>0</td>\n",
       "      <td>0</td>\n",
       "      <td>0</td>\n",
       "      <td>0</td>\n",
       "      <td>0</td>\n",
       "      <td>0</td>\n",
       "      <td>45</td>\n",
       "      <td>63</td>\n",
       "      <td>...</td>\n",
       "      <td>0</td>\n",
       "      <td>0</td>\n",
       "      <td>0</td>\n",
       "      <td>0</td>\n",
       "      <td>3898</td>\n",
       "      <td>0</td>\n",
       "      <td>41</td>\n",
       "      <td>0</td>\n",
       "      <td>0</td>\n",
       "      <td>0</td>\n",
       "    </tr>\n",
       "    <tr>\n",
       "      <th>AACS</th>\n",
       "      <td>0</td>\n",
       "      <td>0</td>\n",
       "      <td>0</td>\n",
       "      <td>0</td>\n",
       "      <td>0</td>\n",
       "      <td>0</td>\n",
       "      <td>0</td>\n",
       "      <td>4</td>\n",
       "      <td>0</td>\n",
       "      <td>0</td>\n",
       "      <td>...</td>\n",
       "      <td>0</td>\n",
       "      <td>0</td>\n",
       "      <td>0</td>\n",
       "      <td>0</td>\n",
       "      <td>0</td>\n",
       "      <td>0</td>\n",
       "      <td>32</td>\n",
       "      <td>928</td>\n",
       "      <td>453</td>\n",
       "      <td>515</td>\n",
       "    </tr>\n",
       "    <tr>\n",
       "      <th>AADAT</th>\n",
       "      <td>0</td>\n",
       "      <td>0</td>\n",
       "      <td>0</td>\n",
       "      <td>0</td>\n",
       "      <td>0</td>\n",
       "      <td>0</td>\n",
       "      <td>0</td>\n",
       "      <td>0</td>\n",
       "      <td>0</td>\n",
       "      <td>0</td>\n",
       "      <td>...</td>\n",
       "      <td>0</td>\n",
       "      <td>0</td>\n",
       "      <td>0</td>\n",
       "      <td>0</td>\n",
       "      <td>1483</td>\n",
       "      <td>0</td>\n",
       "      <td>0</td>\n",
       "      <td>0</td>\n",
       "      <td>0</td>\n",
       "      <td>0</td>\n",
       "    </tr>\n",
       "  </tbody>\n",
       "</table>\n",
       "<p>5 rows × 278 columns</p>\n",
       "</div>"
      ],
      "text/plain": [
       "        Fibroblasts_A10_S10  Fibroblasts_A11_S11  Fibroblasts_A2_S2  \\\n",
       "7SK                     237                   33                265   \n",
       "A4GALT                    0                    0                  0   \n",
       "AAAS                      0                    0                  0   \n",
       "AACS                      0                    0                  0   \n",
       "AADAT                     0                    0                  0   \n",
       "\n",
       "        Fibroblasts_A3_S3  Fibroblasts_A4_S4  Fibroblasts_A5_S5  \\\n",
       "7SK                   319                349                 31   \n",
       "A4GALT                  0                  0                  0   \n",
       "AAAS                    0                  0                  0   \n",
       "AACS                    0                  0                  0   \n",
       "AADAT                   0                  0                  0   \n",
       "\n",
       "        Fibroblasts_A7_S7  Fibroblasts_A8_S8  Fibroblasts_B10_S34  \\\n",
       "7SK                    20                350                  181   \n",
       "A4GALT                  0                  0                    0   \n",
       "AAAS                    0                  0                   45   \n",
       "AACS                    0                  4                    0   \n",
       "AADAT                   0                  0                    0   \n",
       "\n",
       "        Fibroblasts_B11_S35  ...  Fibroblasts_P18_S378  Fibroblasts_P1_S361  \\\n",
       "7SK                     172  ...                   337                  552   \n",
       "A4GALT                  525  ...                     0                    0   \n",
       "AAAS                     63  ...                     0                    0   \n",
       "AACS                      0  ...                     0                    0   \n",
       "AADAT                     0  ...                     0                    0   \n",
       "\n",
       "        Fibroblasts_P21_S381  Fibroblasts_P22_S382  Fibroblasts_P23_S383  \\\n",
       "7SK                      119                   172                     3   \n",
       "A4GALT                     0                     0                     0   \n",
       "AAAS                       0                     0                  3898   \n",
       "AACS                       0                     0                     0   \n",
       "AADAT                      0                     0                  1483   \n",
       "\n",
       "        Fibroblasts_P3_S363  Fibroblasts_P4_S364  Fibroblasts_P5_S365  \\\n",
       "7SK                      62                  222                  247   \n",
       "A4GALT                    0                    0                    0   \n",
       "AAAS                      0                   41                    0   \n",
       "AACS                      0                   32                  928   \n",
       "AADAT                     0                    0                    0   \n",
       "\n",
       "        Fibroblasts_P6_S366  Fibroblasts_P8_S368  \n",
       "7SK                      34                  173  \n",
       "A4GALT                    0                    0  \n",
       "AAAS                      0                    0  \n",
       "AACS                    453                  515  \n",
       "AADAT                     0                    0  \n",
       "\n",
       "[5 rows x 278 columns]"
      ]
     },
     "execution_count": 218,
     "metadata": {},
     "output_type": "execute_result"
    }
   ],
   "source": [
    "data_MAP_FIB = pd.read_csv(\"./Datasets/GSE151334_FIB_counts_MAP.csv\", index_col=0)\n",
    "data_MAP_FIB.head()"
   ]
  },
  {
   "cell_type": "code",
   "execution_count": 219,
   "id": "5421de8e",
   "metadata": {},
   "outputs": [],
   "source": [
    "# select indices of types\n",
    "pcRNA_indices = [idx for idx, val in enumerate(biotypes) if val == \"protein_coding\"]\n",
    "lncRNA_indices = [idx for idx, val in enumerate(biotypes) if val == \"lncRNA\"]\n",
    "miRNA_indices = [idx for idx, val in enumerate(biotypes) if val == \"miRNA\"]\n",
    "ncRNA_indices = [idx for idx, val in enumerate(biotypes) if not val == \"protein_coding\"]\n",
    "\n",
    "# select rows by index\n",
    "data_MAP_pcRNA = data_MAP_FIB.iloc[pcRNA_indices]\n",
    "data_MAP_lncRNA = data_MAP_FIB.iloc[lncRNA_indices]\n",
    "data_MAP_miRNA = data_MAP_FIB.iloc[miRNA_indices]\n",
    "data_MAP_ncRNA = data_MAP_FIB.iloc[ncRNA_indices]"
   ]
  },
  {
   "cell_type": "code",
   "execution_count": 220,
   "id": "1284c008",
   "metadata": {},
   "outputs": [],
   "source": [
    "# select a subset of protein coding genes\n",
    "data_MAP_pcRNA_subset = data_MAP_pcRNA.iloc[0:100, :]"
   ]
  },
  {
   "cell_type": "code",
   "execution_count": 221,
   "id": "c12090ba",
   "metadata": {},
   "outputs": [],
   "source": [
    "dataset_MAP_pcRNA_lncRNA = construct_paired_dataset(\"MAP_pcRNA_lncRNA\", data_MAP_pcRNA_subset, data_MAP_lncRNA, beta_overall)"
   ]
  },
  {
   "cell_type": "code",
   "execution_count": 222,
   "id": "47172fab",
   "metadata": {},
   "outputs": [
    {
     "name": "stderr",
     "output_type": "stream",
     "text": [
      "100%|██████████| 16200/16200 [00:23<00:00, 680.32it/s]\n"
     ]
    }
   ],
   "source": [
    "correlation_MAP_pcRNA_lncRNA = correlation.Correlation(dataset_MAP_pcRNA_lncRNA, printing=False)"
   ]
  },
  {
   "cell_type": "code",
   "execution_count": 234,
   "id": "6a43503b",
   "metadata": {},
   "outputs": [],
   "source": [
    "dataset_MAP_pcRNA_miRNA = construct_paired_dataset(\"MAP_pcRNA_miRNA\", data_MAP_pcRNA_subset, data_MAP_miRNA, beta_overall)"
   ]
  },
  {
   "cell_type": "code",
   "execution_count": 235,
   "id": "91f76a54",
   "metadata": {},
   "outputs": [
    {
     "name": "stderr",
     "output_type": "stream",
     "text": [
      "100%|██████████| 1800/1800 [00:02<00:00, 613.53it/s]\n"
     ]
    }
   ],
   "source": [
    "correlation_MAP_pcRNA_miRNA = correlation.Correlation(dataset_MAP_pcRNA_miRNA, printing=False)"
   ]
  },
  {
   "cell_type": "code",
   "execution_count": 264,
   "id": "a78964a0",
   "metadata": {},
   "outputs": [],
   "source": [
    "def result_df(corr_OB, corr, momt_OB):\n",
    "    res = pd.DataFrame(columns=[\"OB Corr.\", \"MAP Corr.\", \"Moment\"])\n",
    "    res[\"OB Corr.\"] = [\"Interacting\" if res['pvalue'] < 0.05 else \"Independent\" for res in corr_OB.result_dict.values()]\n",
    "    res[\"MAP Corr.\"] = [\"Interacting\" if res['pvalue'] < 0.05 else \"Independent\" for res in corr.result_dict.values()]\n",
    "    res[\"Moment\"] = [\"Interacting\" if res['status'] == \"INFEASIBLE\" else \"Independent\" for res in momt_OB.result_dict.values()]\n",
    "    return res"
   ]
  },
  {
   "cell_type": "code",
   "execution_count": 233,
   "id": "c208eba6",
   "metadata": {},
   "outputs": [
    {
     "data": {
      "application/vnd.plotly.v1+json": {
       "config": {
        "plotlyServerURL": "https://plot.ly"
       },
       "data": [
        {
         "link": {
          "color": "lightgrey",
          "source": [
           0,
           0,
           1,
           1,
           2,
           2,
           3,
           3,
           4,
           4
          ],
          "target": [
           1,
           2,
           3,
           4,
           3,
           4,
           5,
           6,
           5,
           6
          ],
          "value": [
           16189,
           11,
           16072,
           117,
           4,
           7,
           15057,
           1019,
           103,
           21
          ]
         },
         "node": {
          "label": [
           "",
           "Independent",
           "Interacting",
           "Independent",
           "Interacting",
           "Independent",
           "Interacting"
          ]
         },
         "type": "sankey"
        }
       ],
       "layout": {
        "annotations": [
         {
          "align": "center",
          "font": {
           "color": "tomato",
           "family": "Courier New, monospace",
           "size": 16
          },
          "showarrow": false,
          "text": "Genes",
          "x": 0,
          "xref": "paper",
          "y": 1.1,
          "yref": "paper"
         },
         {
          "align": "center",
          "font": {
           "color": "tomato",
           "family": "Courier New, monospace",
           "size": 16
          },
          "showarrow": false,
          "text": "OB Corr.",
          "x": 0.3333333333333333,
          "xref": "paper",
          "y": 1.1,
          "yref": "paper"
         },
         {
          "align": "center",
          "font": {
           "color": "tomato",
           "family": "Courier New, monospace",
           "size": 16
          },
          "showarrow": false,
          "text": "MAP Corr.",
          "x": 0.6666666666666666,
          "xref": "paper",
          "y": 1.1,
          "yref": "paper"
         },
         {
          "align": "center",
          "font": {
           "color": "tomato",
           "family": "Courier New, monospace",
           "size": 16
          },
          "showarrow": false,
          "text": "Moment",
          "x": 1,
          "xref": "paper",
          "y": 1.1,
          "yref": "paper"
         }
        ],
        "font": {
         "size": 10
        },
        "plot_bgcolor": "rgba(0,0,0,0)",
        "template": {
         "data": {
          "bar": [
           {
            "error_x": {
             "color": "#2a3f5f"
            },
            "error_y": {
             "color": "#2a3f5f"
            },
            "marker": {
             "line": {
              "color": "#E5ECF6",
              "width": 0.5
             },
             "pattern": {
              "fillmode": "overlay",
              "size": 10,
              "solidity": 0.2
             }
            },
            "type": "bar"
           }
          ],
          "barpolar": [
           {
            "marker": {
             "line": {
              "color": "#E5ECF6",
              "width": 0.5
             },
             "pattern": {
              "fillmode": "overlay",
              "size": 10,
              "solidity": 0.2
             }
            },
            "type": "barpolar"
           }
          ],
          "carpet": [
           {
            "aaxis": {
             "endlinecolor": "#2a3f5f",
             "gridcolor": "white",
             "linecolor": "white",
             "minorgridcolor": "white",
             "startlinecolor": "#2a3f5f"
            },
            "baxis": {
             "endlinecolor": "#2a3f5f",
             "gridcolor": "white",
             "linecolor": "white",
             "minorgridcolor": "white",
             "startlinecolor": "#2a3f5f"
            },
            "type": "carpet"
           }
          ],
          "choropleth": [
           {
            "colorbar": {
             "outlinewidth": 0,
             "ticks": ""
            },
            "type": "choropleth"
           }
          ],
          "contour": [
           {
            "colorbar": {
             "outlinewidth": 0,
             "ticks": ""
            },
            "colorscale": [
             [
              0,
              "#0d0887"
             ],
             [
              0.1111111111111111,
              "#46039f"
             ],
             [
              0.2222222222222222,
              "#7201a8"
             ],
             [
              0.3333333333333333,
              "#9c179e"
             ],
             [
              0.4444444444444444,
              "#bd3786"
             ],
             [
              0.5555555555555556,
              "#d8576b"
             ],
             [
              0.6666666666666666,
              "#ed7953"
             ],
             [
              0.7777777777777778,
              "#fb9f3a"
             ],
             [
              0.8888888888888888,
              "#fdca26"
             ],
             [
              1,
              "#f0f921"
             ]
            ],
            "type": "contour"
           }
          ],
          "contourcarpet": [
           {
            "colorbar": {
             "outlinewidth": 0,
             "ticks": ""
            },
            "type": "contourcarpet"
           }
          ],
          "heatmap": [
           {
            "colorbar": {
             "outlinewidth": 0,
             "ticks": ""
            },
            "colorscale": [
             [
              0,
              "#0d0887"
             ],
             [
              0.1111111111111111,
              "#46039f"
             ],
             [
              0.2222222222222222,
              "#7201a8"
             ],
             [
              0.3333333333333333,
              "#9c179e"
             ],
             [
              0.4444444444444444,
              "#bd3786"
             ],
             [
              0.5555555555555556,
              "#d8576b"
             ],
             [
              0.6666666666666666,
              "#ed7953"
             ],
             [
              0.7777777777777778,
              "#fb9f3a"
             ],
             [
              0.8888888888888888,
              "#fdca26"
             ],
             [
              1,
              "#f0f921"
             ]
            ],
            "type": "heatmap"
           }
          ],
          "histogram": [
           {
            "marker": {
             "pattern": {
              "fillmode": "overlay",
              "size": 10,
              "solidity": 0.2
             }
            },
            "type": "histogram"
           }
          ],
          "histogram2d": [
           {
            "colorbar": {
             "outlinewidth": 0,
             "ticks": ""
            },
            "colorscale": [
             [
              0,
              "#0d0887"
             ],
             [
              0.1111111111111111,
              "#46039f"
             ],
             [
              0.2222222222222222,
              "#7201a8"
             ],
             [
              0.3333333333333333,
              "#9c179e"
             ],
             [
              0.4444444444444444,
              "#bd3786"
             ],
             [
              0.5555555555555556,
              "#d8576b"
             ],
             [
              0.6666666666666666,
              "#ed7953"
             ],
             [
              0.7777777777777778,
              "#fb9f3a"
             ],
             [
              0.8888888888888888,
              "#fdca26"
             ],
             [
              1,
              "#f0f921"
             ]
            ],
            "type": "histogram2d"
           }
          ],
          "histogram2dcontour": [
           {
            "colorbar": {
             "outlinewidth": 0,
             "ticks": ""
            },
            "colorscale": [
             [
              0,
              "#0d0887"
             ],
             [
              0.1111111111111111,
              "#46039f"
             ],
             [
              0.2222222222222222,
              "#7201a8"
             ],
             [
              0.3333333333333333,
              "#9c179e"
             ],
             [
              0.4444444444444444,
              "#bd3786"
             ],
             [
              0.5555555555555556,
              "#d8576b"
             ],
             [
              0.6666666666666666,
              "#ed7953"
             ],
             [
              0.7777777777777778,
              "#fb9f3a"
             ],
             [
              0.8888888888888888,
              "#fdca26"
             ],
             [
              1,
              "#f0f921"
             ]
            ],
            "type": "histogram2dcontour"
           }
          ],
          "mesh3d": [
           {
            "colorbar": {
             "outlinewidth": 0,
             "ticks": ""
            },
            "type": "mesh3d"
           }
          ],
          "parcoords": [
           {
            "line": {
             "colorbar": {
              "outlinewidth": 0,
              "ticks": ""
             }
            },
            "type": "parcoords"
           }
          ],
          "pie": [
           {
            "automargin": true,
            "type": "pie"
           }
          ],
          "scatter": [
           {
            "fillpattern": {
             "fillmode": "overlay",
             "size": 10,
             "solidity": 0.2
            },
            "type": "scatter"
           }
          ],
          "scatter3d": [
           {
            "line": {
             "colorbar": {
              "outlinewidth": 0,
              "ticks": ""
             }
            },
            "marker": {
             "colorbar": {
              "outlinewidth": 0,
              "ticks": ""
             }
            },
            "type": "scatter3d"
           }
          ],
          "scattercarpet": [
           {
            "marker": {
             "colorbar": {
              "outlinewidth": 0,
              "ticks": ""
             }
            },
            "type": "scattercarpet"
           }
          ],
          "scattergeo": [
           {
            "marker": {
             "colorbar": {
              "outlinewidth": 0,
              "ticks": ""
             }
            },
            "type": "scattergeo"
           }
          ],
          "scattergl": [
           {
            "marker": {
             "colorbar": {
              "outlinewidth": 0,
              "ticks": ""
             }
            },
            "type": "scattergl"
           }
          ],
          "scattermap": [
           {
            "marker": {
             "colorbar": {
              "outlinewidth": 0,
              "ticks": ""
             }
            },
            "type": "scattermap"
           }
          ],
          "scattermapbox": [
           {
            "marker": {
             "colorbar": {
              "outlinewidth": 0,
              "ticks": ""
             }
            },
            "type": "scattermapbox"
           }
          ],
          "scatterpolar": [
           {
            "marker": {
             "colorbar": {
              "outlinewidth": 0,
              "ticks": ""
             }
            },
            "type": "scatterpolar"
           }
          ],
          "scatterpolargl": [
           {
            "marker": {
             "colorbar": {
              "outlinewidth": 0,
              "ticks": ""
             }
            },
            "type": "scatterpolargl"
           }
          ],
          "scatterternary": [
           {
            "marker": {
             "colorbar": {
              "outlinewidth": 0,
              "ticks": ""
             }
            },
            "type": "scatterternary"
           }
          ],
          "surface": [
           {
            "colorbar": {
             "outlinewidth": 0,
             "ticks": ""
            },
            "colorscale": [
             [
              0,
              "#0d0887"
             ],
             [
              0.1111111111111111,
              "#46039f"
             ],
             [
              0.2222222222222222,
              "#7201a8"
             ],
             [
              0.3333333333333333,
              "#9c179e"
             ],
             [
              0.4444444444444444,
              "#bd3786"
             ],
             [
              0.5555555555555556,
              "#d8576b"
             ],
             [
              0.6666666666666666,
              "#ed7953"
             ],
             [
              0.7777777777777778,
              "#fb9f3a"
             ],
             [
              0.8888888888888888,
              "#fdca26"
             ],
             [
              1,
              "#f0f921"
             ]
            ],
            "type": "surface"
           }
          ],
          "table": [
           {
            "cells": {
             "fill": {
              "color": "#EBF0F8"
             },
             "line": {
              "color": "white"
             }
            },
            "header": {
             "fill": {
              "color": "#C8D4E3"
             },
             "line": {
              "color": "white"
             }
            },
            "type": "table"
           }
          ]
         },
         "layout": {
          "annotationdefaults": {
           "arrowcolor": "#2a3f5f",
           "arrowhead": 0,
           "arrowwidth": 1
          },
          "autotypenumbers": "strict",
          "coloraxis": {
           "colorbar": {
            "outlinewidth": 0,
            "ticks": ""
           }
          },
          "colorscale": {
           "diverging": [
            [
             0,
             "#8e0152"
            ],
            [
             0.1,
             "#c51b7d"
            ],
            [
             0.2,
             "#de77ae"
            ],
            [
             0.3,
             "#f1b6da"
            ],
            [
             0.4,
             "#fde0ef"
            ],
            [
             0.5,
             "#f7f7f7"
            ],
            [
             0.6,
             "#e6f5d0"
            ],
            [
             0.7,
             "#b8e186"
            ],
            [
             0.8,
             "#7fbc41"
            ],
            [
             0.9,
             "#4d9221"
            ],
            [
             1,
             "#276419"
            ]
           ],
           "sequential": [
            [
             0,
             "#0d0887"
            ],
            [
             0.1111111111111111,
             "#46039f"
            ],
            [
             0.2222222222222222,
             "#7201a8"
            ],
            [
             0.3333333333333333,
             "#9c179e"
            ],
            [
             0.4444444444444444,
             "#bd3786"
            ],
            [
             0.5555555555555556,
             "#d8576b"
            ],
            [
             0.6666666666666666,
             "#ed7953"
            ],
            [
             0.7777777777777778,
             "#fb9f3a"
            ],
            [
             0.8888888888888888,
             "#fdca26"
            ],
            [
             1,
             "#f0f921"
            ]
           ],
           "sequentialminus": [
            [
             0,
             "#0d0887"
            ],
            [
             0.1111111111111111,
             "#46039f"
            ],
            [
             0.2222222222222222,
             "#7201a8"
            ],
            [
             0.3333333333333333,
             "#9c179e"
            ],
            [
             0.4444444444444444,
             "#bd3786"
            ],
            [
             0.5555555555555556,
             "#d8576b"
            ],
            [
             0.6666666666666666,
             "#ed7953"
            ],
            [
             0.7777777777777778,
             "#fb9f3a"
            ],
            [
             0.8888888888888888,
             "#fdca26"
            ],
            [
             1,
             "#f0f921"
            ]
           ]
          },
          "colorway": [
           "#636efa",
           "#EF553B",
           "#00cc96",
           "#ab63fa",
           "#FFA15A",
           "#19d3f3",
           "#FF6692",
           "#B6E880",
           "#FF97FF",
           "#FECB52"
          ],
          "font": {
           "color": "#2a3f5f"
          },
          "geo": {
           "bgcolor": "white",
           "lakecolor": "white",
           "landcolor": "#E5ECF6",
           "showlakes": true,
           "showland": true,
           "subunitcolor": "white"
          },
          "hoverlabel": {
           "align": "left"
          },
          "hovermode": "closest",
          "mapbox": {
           "style": "light"
          },
          "paper_bgcolor": "white",
          "plot_bgcolor": "#E5ECF6",
          "polar": {
           "angularaxis": {
            "gridcolor": "white",
            "linecolor": "white",
            "ticks": ""
           },
           "bgcolor": "#E5ECF6",
           "radialaxis": {
            "gridcolor": "white",
            "linecolor": "white",
            "ticks": ""
           }
          },
          "scene": {
           "xaxis": {
            "backgroundcolor": "#E5ECF6",
            "gridcolor": "white",
            "gridwidth": 2,
            "linecolor": "white",
            "showbackground": true,
            "ticks": "",
            "zerolinecolor": "white"
           },
           "yaxis": {
            "backgroundcolor": "#E5ECF6",
            "gridcolor": "white",
            "gridwidth": 2,
            "linecolor": "white",
            "showbackground": true,
            "ticks": "",
            "zerolinecolor": "white"
           },
           "zaxis": {
            "backgroundcolor": "#E5ECF6",
            "gridcolor": "white",
            "gridwidth": 2,
            "linecolor": "white",
            "showbackground": true,
            "ticks": "",
            "zerolinecolor": "white"
           }
          },
          "shapedefaults": {
           "line": {
            "color": "#2a3f5f"
           }
          },
          "ternary": {
           "aaxis": {
            "gridcolor": "white",
            "linecolor": "white",
            "ticks": ""
           },
           "baxis": {
            "gridcolor": "white",
            "linecolor": "white",
            "ticks": ""
           },
           "bgcolor": "#E5ECF6",
           "caxis": {
            "gridcolor": "white",
            "linecolor": "white",
            "ticks": ""
           }
          },
          "title": {
           "x": 0.05
          },
          "xaxis": {
           "automargin": true,
           "gridcolor": "white",
           "linecolor": "white",
           "ticks": "",
           "title": {
            "standoff": 15
           },
           "zerolinecolor": "white",
           "zerolinewidth": 2
          },
          "yaxis": {
           "automargin": true,
           "gridcolor": "white",
           "linecolor": "white",
           "ticks": "",
           "title": {
            "standoff": 15
           },
           "zerolinecolor": "white",
           "zerolinewidth": 2
          }
         }
        },
        "title": {
         "text": "Coding RNA - lncRNA: BayNorm comparisons"
        },
        "xaxis": {
         "showgrid": false,
         "visible": false,
         "zeroline": false
        },
        "yaxis": {
         "showgrid": false,
         "visible": false,
         "zeroline": false
        }
       }
      }
     },
     "metadata": {},
     "output_type": "display_data"
    }
   ],
   "source": [
    "sankey_from_df(result_df(correlation_pcRNA_lncRNA, correlation_MAP_pcRNA_lncRNA, moment_pcRNA_lncRNA), \"Coding RNA - lncRNA: BayNorm comparisons\")"
   ]
  },
  {
   "cell_type": "code",
   "execution_count": 236,
   "id": "b1945fc2",
   "metadata": {},
   "outputs": [
    {
     "data": {
      "application/vnd.plotly.v1+json": {
       "config": {
        "plotlyServerURL": "https://plot.ly"
       },
       "data": [
        {
         "link": {
          "color": "lightgrey",
          "source": [
           0,
           0,
           1,
           1,
           2,
           2,
           3,
           3,
           4,
           4
          ],
          "target": [
           1,
           2,
           3,
           4,
           3,
           4,
           5,
           6,
           5,
           6
          ],
          "value": [
           1799,
           1,
           1774,
           25,
           0,
           1,
           1716,
           58,
           19,
           7
          ]
         },
         "node": {
          "label": [
           "",
           "Independent",
           "Interacting",
           "Independent",
           "Interacting",
           "Independent",
           "Interacting"
          ]
         },
         "type": "sankey"
        }
       ],
       "layout": {
        "annotations": [
         {
          "align": "center",
          "font": {
           "color": "tomato",
           "family": "Courier New, monospace",
           "size": 16
          },
          "showarrow": false,
          "text": "Genes",
          "x": 0,
          "xref": "paper",
          "y": 1.1,
          "yref": "paper"
         },
         {
          "align": "center",
          "font": {
           "color": "tomato",
           "family": "Courier New, monospace",
           "size": 16
          },
          "showarrow": false,
          "text": "OB Corr.",
          "x": 0.3333333333333333,
          "xref": "paper",
          "y": 1.1,
          "yref": "paper"
         },
         {
          "align": "center",
          "font": {
           "color": "tomato",
           "family": "Courier New, monospace",
           "size": 16
          },
          "showarrow": false,
          "text": "MAP Corr.",
          "x": 0.6666666666666666,
          "xref": "paper",
          "y": 1.1,
          "yref": "paper"
         },
         {
          "align": "center",
          "font": {
           "color": "tomato",
           "family": "Courier New, monospace",
           "size": 16
          },
          "showarrow": false,
          "text": "Moment",
          "x": 1,
          "xref": "paper",
          "y": 1.1,
          "yref": "paper"
         }
        ],
        "font": {
         "size": 10
        },
        "plot_bgcolor": "rgba(0,0,0,0)",
        "template": {
         "data": {
          "bar": [
           {
            "error_x": {
             "color": "#2a3f5f"
            },
            "error_y": {
             "color": "#2a3f5f"
            },
            "marker": {
             "line": {
              "color": "#E5ECF6",
              "width": 0.5
             },
             "pattern": {
              "fillmode": "overlay",
              "size": 10,
              "solidity": 0.2
             }
            },
            "type": "bar"
           }
          ],
          "barpolar": [
           {
            "marker": {
             "line": {
              "color": "#E5ECF6",
              "width": 0.5
             },
             "pattern": {
              "fillmode": "overlay",
              "size": 10,
              "solidity": 0.2
             }
            },
            "type": "barpolar"
           }
          ],
          "carpet": [
           {
            "aaxis": {
             "endlinecolor": "#2a3f5f",
             "gridcolor": "white",
             "linecolor": "white",
             "minorgridcolor": "white",
             "startlinecolor": "#2a3f5f"
            },
            "baxis": {
             "endlinecolor": "#2a3f5f",
             "gridcolor": "white",
             "linecolor": "white",
             "minorgridcolor": "white",
             "startlinecolor": "#2a3f5f"
            },
            "type": "carpet"
           }
          ],
          "choropleth": [
           {
            "colorbar": {
             "outlinewidth": 0,
             "ticks": ""
            },
            "type": "choropleth"
           }
          ],
          "contour": [
           {
            "colorbar": {
             "outlinewidth": 0,
             "ticks": ""
            },
            "colorscale": [
             [
              0,
              "#0d0887"
             ],
             [
              0.1111111111111111,
              "#46039f"
             ],
             [
              0.2222222222222222,
              "#7201a8"
             ],
             [
              0.3333333333333333,
              "#9c179e"
             ],
             [
              0.4444444444444444,
              "#bd3786"
             ],
             [
              0.5555555555555556,
              "#d8576b"
             ],
             [
              0.6666666666666666,
              "#ed7953"
             ],
             [
              0.7777777777777778,
              "#fb9f3a"
             ],
             [
              0.8888888888888888,
              "#fdca26"
             ],
             [
              1,
              "#f0f921"
             ]
            ],
            "type": "contour"
           }
          ],
          "contourcarpet": [
           {
            "colorbar": {
             "outlinewidth": 0,
             "ticks": ""
            },
            "type": "contourcarpet"
           }
          ],
          "heatmap": [
           {
            "colorbar": {
             "outlinewidth": 0,
             "ticks": ""
            },
            "colorscale": [
             [
              0,
              "#0d0887"
             ],
             [
              0.1111111111111111,
              "#46039f"
             ],
             [
              0.2222222222222222,
              "#7201a8"
             ],
             [
              0.3333333333333333,
              "#9c179e"
             ],
             [
              0.4444444444444444,
              "#bd3786"
             ],
             [
              0.5555555555555556,
              "#d8576b"
             ],
             [
              0.6666666666666666,
              "#ed7953"
             ],
             [
              0.7777777777777778,
              "#fb9f3a"
             ],
             [
              0.8888888888888888,
              "#fdca26"
             ],
             [
              1,
              "#f0f921"
             ]
            ],
            "type": "heatmap"
           }
          ],
          "histogram": [
           {
            "marker": {
             "pattern": {
              "fillmode": "overlay",
              "size": 10,
              "solidity": 0.2
             }
            },
            "type": "histogram"
           }
          ],
          "histogram2d": [
           {
            "colorbar": {
             "outlinewidth": 0,
             "ticks": ""
            },
            "colorscale": [
             [
              0,
              "#0d0887"
             ],
             [
              0.1111111111111111,
              "#46039f"
             ],
             [
              0.2222222222222222,
              "#7201a8"
             ],
             [
              0.3333333333333333,
              "#9c179e"
             ],
             [
              0.4444444444444444,
              "#bd3786"
             ],
             [
              0.5555555555555556,
              "#d8576b"
             ],
             [
              0.6666666666666666,
              "#ed7953"
             ],
             [
              0.7777777777777778,
              "#fb9f3a"
             ],
             [
              0.8888888888888888,
              "#fdca26"
             ],
             [
              1,
              "#f0f921"
             ]
            ],
            "type": "histogram2d"
           }
          ],
          "histogram2dcontour": [
           {
            "colorbar": {
             "outlinewidth": 0,
             "ticks": ""
            },
            "colorscale": [
             [
              0,
              "#0d0887"
             ],
             [
              0.1111111111111111,
              "#46039f"
             ],
             [
              0.2222222222222222,
              "#7201a8"
             ],
             [
              0.3333333333333333,
              "#9c179e"
             ],
             [
              0.4444444444444444,
              "#bd3786"
             ],
             [
              0.5555555555555556,
              "#d8576b"
             ],
             [
              0.6666666666666666,
              "#ed7953"
             ],
             [
              0.7777777777777778,
              "#fb9f3a"
             ],
             [
              0.8888888888888888,
              "#fdca26"
             ],
             [
              1,
              "#f0f921"
             ]
            ],
            "type": "histogram2dcontour"
           }
          ],
          "mesh3d": [
           {
            "colorbar": {
             "outlinewidth": 0,
             "ticks": ""
            },
            "type": "mesh3d"
           }
          ],
          "parcoords": [
           {
            "line": {
             "colorbar": {
              "outlinewidth": 0,
              "ticks": ""
             }
            },
            "type": "parcoords"
           }
          ],
          "pie": [
           {
            "automargin": true,
            "type": "pie"
           }
          ],
          "scatter": [
           {
            "fillpattern": {
             "fillmode": "overlay",
             "size": 10,
             "solidity": 0.2
            },
            "type": "scatter"
           }
          ],
          "scatter3d": [
           {
            "line": {
             "colorbar": {
              "outlinewidth": 0,
              "ticks": ""
             }
            },
            "marker": {
             "colorbar": {
              "outlinewidth": 0,
              "ticks": ""
             }
            },
            "type": "scatter3d"
           }
          ],
          "scattercarpet": [
           {
            "marker": {
             "colorbar": {
              "outlinewidth": 0,
              "ticks": ""
             }
            },
            "type": "scattercarpet"
           }
          ],
          "scattergeo": [
           {
            "marker": {
             "colorbar": {
              "outlinewidth": 0,
              "ticks": ""
             }
            },
            "type": "scattergeo"
           }
          ],
          "scattergl": [
           {
            "marker": {
             "colorbar": {
              "outlinewidth": 0,
              "ticks": ""
             }
            },
            "type": "scattergl"
           }
          ],
          "scattermap": [
           {
            "marker": {
             "colorbar": {
              "outlinewidth": 0,
              "ticks": ""
             }
            },
            "type": "scattermap"
           }
          ],
          "scattermapbox": [
           {
            "marker": {
             "colorbar": {
              "outlinewidth": 0,
              "ticks": ""
             }
            },
            "type": "scattermapbox"
           }
          ],
          "scatterpolar": [
           {
            "marker": {
             "colorbar": {
              "outlinewidth": 0,
              "ticks": ""
             }
            },
            "type": "scatterpolar"
           }
          ],
          "scatterpolargl": [
           {
            "marker": {
             "colorbar": {
              "outlinewidth": 0,
              "ticks": ""
             }
            },
            "type": "scatterpolargl"
           }
          ],
          "scatterternary": [
           {
            "marker": {
             "colorbar": {
              "outlinewidth": 0,
              "ticks": ""
             }
            },
            "type": "scatterternary"
           }
          ],
          "surface": [
           {
            "colorbar": {
             "outlinewidth": 0,
             "ticks": ""
            },
            "colorscale": [
             [
              0,
              "#0d0887"
             ],
             [
              0.1111111111111111,
              "#46039f"
             ],
             [
              0.2222222222222222,
              "#7201a8"
             ],
             [
              0.3333333333333333,
              "#9c179e"
             ],
             [
              0.4444444444444444,
              "#bd3786"
             ],
             [
              0.5555555555555556,
              "#d8576b"
             ],
             [
              0.6666666666666666,
              "#ed7953"
             ],
             [
              0.7777777777777778,
              "#fb9f3a"
             ],
             [
              0.8888888888888888,
              "#fdca26"
             ],
             [
              1,
              "#f0f921"
             ]
            ],
            "type": "surface"
           }
          ],
          "table": [
           {
            "cells": {
             "fill": {
              "color": "#EBF0F8"
             },
             "line": {
              "color": "white"
             }
            },
            "header": {
             "fill": {
              "color": "#C8D4E3"
             },
             "line": {
              "color": "white"
             }
            },
            "type": "table"
           }
          ]
         },
         "layout": {
          "annotationdefaults": {
           "arrowcolor": "#2a3f5f",
           "arrowhead": 0,
           "arrowwidth": 1
          },
          "autotypenumbers": "strict",
          "coloraxis": {
           "colorbar": {
            "outlinewidth": 0,
            "ticks": ""
           }
          },
          "colorscale": {
           "diverging": [
            [
             0,
             "#8e0152"
            ],
            [
             0.1,
             "#c51b7d"
            ],
            [
             0.2,
             "#de77ae"
            ],
            [
             0.3,
             "#f1b6da"
            ],
            [
             0.4,
             "#fde0ef"
            ],
            [
             0.5,
             "#f7f7f7"
            ],
            [
             0.6,
             "#e6f5d0"
            ],
            [
             0.7,
             "#b8e186"
            ],
            [
             0.8,
             "#7fbc41"
            ],
            [
             0.9,
             "#4d9221"
            ],
            [
             1,
             "#276419"
            ]
           ],
           "sequential": [
            [
             0,
             "#0d0887"
            ],
            [
             0.1111111111111111,
             "#46039f"
            ],
            [
             0.2222222222222222,
             "#7201a8"
            ],
            [
             0.3333333333333333,
             "#9c179e"
            ],
            [
             0.4444444444444444,
             "#bd3786"
            ],
            [
             0.5555555555555556,
             "#d8576b"
            ],
            [
             0.6666666666666666,
             "#ed7953"
            ],
            [
             0.7777777777777778,
             "#fb9f3a"
            ],
            [
             0.8888888888888888,
             "#fdca26"
            ],
            [
             1,
             "#f0f921"
            ]
           ],
           "sequentialminus": [
            [
             0,
             "#0d0887"
            ],
            [
             0.1111111111111111,
             "#46039f"
            ],
            [
             0.2222222222222222,
             "#7201a8"
            ],
            [
             0.3333333333333333,
             "#9c179e"
            ],
            [
             0.4444444444444444,
             "#bd3786"
            ],
            [
             0.5555555555555556,
             "#d8576b"
            ],
            [
             0.6666666666666666,
             "#ed7953"
            ],
            [
             0.7777777777777778,
             "#fb9f3a"
            ],
            [
             0.8888888888888888,
             "#fdca26"
            ],
            [
             1,
             "#f0f921"
            ]
           ]
          },
          "colorway": [
           "#636efa",
           "#EF553B",
           "#00cc96",
           "#ab63fa",
           "#FFA15A",
           "#19d3f3",
           "#FF6692",
           "#B6E880",
           "#FF97FF",
           "#FECB52"
          ],
          "font": {
           "color": "#2a3f5f"
          },
          "geo": {
           "bgcolor": "white",
           "lakecolor": "white",
           "landcolor": "#E5ECF6",
           "showlakes": true,
           "showland": true,
           "subunitcolor": "white"
          },
          "hoverlabel": {
           "align": "left"
          },
          "hovermode": "closest",
          "mapbox": {
           "style": "light"
          },
          "paper_bgcolor": "white",
          "plot_bgcolor": "#E5ECF6",
          "polar": {
           "angularaxis": {
            "gridcolor": "white",
            "linecolor": "white",
            "ticks": ""
           },
           "bgcolor": "#E5ECF6",
           "radialaxis": {
            "gridcolor": "white",
            "linecolor": "white",
            "ticks": ""
           }
          },
          "scene": {
           "xaxis": {
            "backgroundcolor": "#E5ECF6",
            "gridcolor": "white",
            "gridwidth": 2,
            "linecolor": "white",
            "showbackground": true,
            "ticks": "",
            "zerolinecolor": "white"
           },
           "yaxis": {
            "backgroundcolor": "#E5ECF6",
            "gridcolor": "white",
            "gridwidth": 2,
            "linecolor": "white",
            "showbackground": true,
            "ticks": "",
            "zerolinecolor": "white"
           },
           "zaxis": {
            "backgroundcolor": "#E5ECF6",
            "gridcolor": "white",
            "gridwidth": 2,
            "linecolor": "white",
            "showbackground": true,
            "ticks": "",
            "zerolinecolor": "white"
           }
          },
          "shapedefaults": {
           "line": {
            "color": "#2a3f5f"
           }
          },
          "ternary": {
           "aaxis": {
            "gridcolor": "white",
            "linecolor": "white",
            "ticks": ""
           },
           "baxis": {
            "gridcolor": "white",
            "linecolor": "white",
            "ticks": ""
           },
           "bgcolor": "#E5ECF6",
           "caxis": {
            "gridcolor": "white",
            "linecolor": "white",
            "ticks": ""
           }
          },
          "title": {
           "x": 0.05
          },
          "xaxis": {
           "automargin": true,
           "gridcolor": "white",
           "linecolor": "white",
           "ticks": "",
           "title": {
            "standoff": 15
           },
           "zerolinecolor": "white",
           "zerolinewidth": 2
          },
          "yaxis": {
           "automargin": true,
           "gridcolor": "white",
           "linecolor": "white",
           "ticks": "",
           "title": {
            "standoff": 15
           },
           "zerolinecolor": "white",
           "zerolinewidth": 2
          }
         }
        },
        "title": {
         "text": "Coding RNA - miRNA: BayNorm comparisons"
        },
        "xaxis": {
         "showgrid": false,
         "visible": false,
         "zeroline": false
        },
        "yaxis": {
         "showgrid": false,
         "visible": false,
         "zeroline": false
        }
       }
      }
     },
     "metadata": {},
     "output_type": "display_data"
    }
   ],
   "source": [
    "sankey_from_df(result_df(correlation_pcRNA_miRNA, correlation_MAP_pcRNA_miRNA, moment_pcRNA_miRNA), \"Coding RNA - miRNA: BayNorm comparisons\")"
   ]
  },
  {
   "cell_type": "code",
   "execution_count": 259,
   "id": "45ac3337",
   "metadata": {},
   "outputs": [
    {
     "data": {
      "text/html": [
       "<div>\n",
       "<style scoped>\n",
       "    .dataframe tbody tr th:only-of-type {\n",
       "        vertical-align: middle;\n",
       "    }\n",
       "\n",
       "    .dataframe tbody tr th {\n",
       "        vertical-align: top;\n",
       "    }\n",
       "\n",
       "    .dataframe thead th {\n",
       "        text-align: right;\n",
       "    }\n",
       "</style>\n",
       "<table border=\"1\" class=\"dataframe\">\n",
       "  <thead>\n",
       "    <tr style=\"text-align: right;\">\n",
       "      <th></th>\n",
       "      <th>Fibroblasts_A10_S10.1</th>\n",
       "      <th>Fibroblasts_A11_S11.1</th>\n",
       "      <th>Fibroblasts_A2_S2.1</th>\n",
       "      <th>Fibroblasts_A3_S3.1</th>\n",
       "      <th>Fibroblasts_A4_S4.1</th>\n",
       "      <th>Fibroblasts_A5_S5.1</th>\n",
       "      <th>Fibroblasts_A7_S7.1</th>\n",
       "      <th>Fibroblasts_A8_S8.1</th>\n",
       "      <th>Fibroblasts_B10_S34.1</th>\n",
       "      <th>Fibroblasts_B11_S35.1</th>\n",
       "      <th>...</th>\n",
       "      <th>Fibroblasts_P18_S378.20</th>\n",
       "      <th>Fibroblasts_P1_S361.20</th>\n",
       "      <th>Fibroblasts_P21_S381.20</th>\n",
       "      <th>Fibroblasts_P22_S382.20</th>\n",
       "      <th>Fibroblasts_P23_S383.20</th>\n",
       "      <th>Fibroblasts_P3_S363.20</th>\n",
       "      <th>Fibroblasts_P4_S364.20</th>\n",
       "      <th>Fibroblasts_P5_S365.20</th>\n",
       "      <th>Fibroblasts_P6_S366.20</th>\n",
       "      <th>Fibroblasts_P8_S368.20</th>\n",
       "    </tr>\n",
       "  </thead>\n",
       "  <tbody>\n",
       "    <tr>\n",
       "      <th>7SK</th>\n",
       "      <td>185</td>\n",
       "      <td>81</td>\n",
       "      <td>133</td>\n",
       "      <td>454</td>\n",
       "      <td>400</td>\n",
       "      <td>78</td>\n",
       "      <td>29</td>\n",
       "      <td>392</td>\n",
       "      <td>215</td>\n",
       "      <td>131</td>\n",
       "      <td>...</td>\n",
       "      <td>294</td>\n",
       "      <td>804</td>\n",
       "      <td>185</td>\n",
       "      <td>133</td>\n",
       "      <td>8</td>\n",
       "      <td>64</td>\n",
       "      <td>248</td>\n",
       "      <td>217</td>\n",
       "      <td>43</td>\n",
       "      <td>236</td>\n",
       "    </tr>\n",
       "    <tr>\n",
       "      <th>A4GALT</th>\n",
       "      <td>0</td>\n",
       "      <td>0</td>\n",
       "      <td>0</td>\n",
       "      <td>0</td>\n",
       "      <td>0</td>\n",
       "      <td>68</td>\n",
       "      <td>1</td>\n",
       "      <td>0</td>\n",
       "      <td>0</td>\n",
       "      <td>490</td>\n",
       "      <td>...</td>\n",
       "      <td>0</td>\n",
       "      <td>0</td>\n",
       "      <td>0</td>\n",
       "      <td>3</td>\n",
       "      <td>4</td>\n",
       "      <td>0</td>\n",
       "      <td>0</td>\n",
       "      <td>0</td>\n",
       "      <td>0</td>\n",
       "      <td>0</td>\n",
       "    </tr>\n",
       "    <tr>\n",
       "      <th>AAAS</th>\n",
       "      <td>0</td>\n",
       "      <td>0</td>\n",
       "      <td>0</td>\n",
       "      <td>2</td>\n",
       "      <td>1</td>\n",
       "      <td>0</td>\n",
       "      <td>0</td>\n",
       "      <td>0</td>\n",
       "      <td>52</td>\n",
       "      <td>52</td>\n",
       "      <td>...</td>\n",
       "      <td>0</td>\n",
       "      <td>0</td>\n",
       "      <td>0</td>\n",
       "      <td>0</td>\n",
       "      <td>4049</td>\n",
       "      <td>0</td>\n",
       "      <td>67</td>\n",
       "      <td>8</td>\n",
       "      <td>0</td>\n",
       "      <td>0</td>\n",
       "    </tr>\n",
       "    <tr>\n",
       "      <th>AACS</th>\n",
       "      <td>0</td>\n",
       "      <td>2</td>\n",
       "      <td>0</td>\n",
       "      <td>6</td>\n",
       "      <td>2</td>\n",
       "      <td>5</td>\n",
       "      <td>0</td>\n",
       "      <td>11</td>\n",
       "      <td>1</td>\n",
       "      <td>0</td>\n",
       "      <td>...</td>\n",
       "      <td>0</td>\n",
       "      <td>0</td>\n",
       "      <td>0</td>\n",
       "      <td>2</td>\n",
       "      <td>0</td>\n",
       "      <td>0</td>\n",
       "      <td>29</td>\n",
       "      <td>1004</td>\n",
       "      <td>471</td>\n",
       "      <td>785</td>\n",
       "    </tr>\n",
       "    <tr>\n",
       "      <th>AADAT</th>\n",
       "      <td>0</td>\n",
       "      <td>0</td>\n",
       "      <td>0</td>\n",
       "      <td>0</td>\n",
       "      <td>0</td>\n",
       "      <td>0</td>\n",
       "      <td>3</td>\n",
       "      <td>0</td>\n",
       "      <td>0</td>\n",
       "      <td>42</td>\n",
       "      <td>...</td>\n",
       "      <td>0</td>\n",
       "      <td>1</td>\n",
       "      <td>0</td>\n",
       "      <td>0</td>\n",
       "      <td>1579</td>\n",
       "      <td>3</td>\n",
       "      <td>0</td>\n",
       "      <td>1</td>\n",
       "      <td>0</td>\n",
       "      <td>0</td>\n",
       "    </tr>\n",
       "  </tbody>\n",
       "</table>\n",
       "<p>5 rows × 5560 columns</p>\n",
       "</div>"
      ],
      "text/plain": [
       "        Fibroblasts_A10_S10.1  Fibroblasts_A11_S11.1  Fibroblasts_A2_S2.1  \\\n",
       "7SK                       185                     81                  133   \n",
       "A4GALT                      0                      0                    0   \n",
       "AAAS                        0                      0                    0   \n",
       "AACS                        0                      2                    0   \n",
       "AADAT                       0                      0                    0   \n",
       "\n",
       "        Fibroblasts_A3_S3.1  Fibroblasts_A4_S4.1  Fibroblasts_A5_S5.1  \\\n",
       "7SK                     454                  400                   78   \n",
       "A4GALT                    0                    0                   68   \n",
       "AAAS                      2                    1                    0   \n",
       "AACS                      6                    2                    5   \n",
       "AADAT                     0                    0                    0   \n",
       "\n",
       "        Fibroblasts_A7_S7.1  Fibroblasts_A8_S8.1  Fibroblasts_B10_S34.1  \\\n",
       "7SK                      29                  392                    215   \n",
       "A4GALT                    1                    0                      0   \n",
       "AAAS                      0                    0                     52   \n",
       "AACS                      0                   11                      1   \n",
       "AADAT                     3                    0                      0   \n",
       "\n",
       "        Fibroblasts_B11_S35.1  ...  Fibroblasts_P18_S378.20  \\\n",
       "7SK                       131  ...                      294   \n",
       "A4GALT                    490  ...                        0   \n",
       "AAAS                       52  ...                        0   \n",
       "AACS                        0  ...                        0   \n",
       "AADAT                      42  ...                        0   \n",
       "\n",
       "        Fibroblasts_P1_S361.20  Fibroblasts_P21_S381.20  \\\n",
       "7SK                        804                      185   \n",
       "A4GALT                       0                        0   \n",
       "AAAS                         0                        0   \n",
       "AACS                         0                        0   \n",
       "AADAT                        1                        0   \n",
       "\n",
       "        Fibroblasts_P22_S382.20  Fibroblasts_P23_S383.20  \\\n",
       "7SK                         133                        8   \n",
       "A4GALT                        3                        4   \n",
       "AAAS                          0                     4049   \n",
       "AACS                          2                        0   \n",
       "AADAT                         0                     1579   \n",
       "\n",
       "        Fibroblasts_P3_S363.20  Fibroblasts_P4_S364.20  \\\n",
       "7SK                         64                     248   \n",
       "A4GALT                       0                       0   \n",
       "AAAS                         0                      67   \n",
       "AACS                         0                      29   \n",
       "AADAT                        3                       0   \n",
       "\n",
       "        Fibroblasts_P5_S365.20  Fibroblasts_P6_S366.20  Fibroblasts_P8_S368.20  \n",
       "7SK                        217                      43                     236  \n",
       "A4GALT                       0                       0                       0  \n",
       "AAAS                         8                       0                       0  \n",
       "AACS                      1004                     471                     785  \n",
       "AADAT                        1                       0                       0  \n",
       "\n",
       "[5 rows x 5560 columns]"
      ]
     },
     "execution_count": 259,
     "metadata": {},
     "output_type": "execute_result"
    }
   ],
   "source": [
    "data_PS_FIB = pd.read_csv(\"./Datasets/GSE151334_FIB_counts_PS.csv\", index_col=0)\n",
    "data_PS_FIB.head()"
   ]
  },
  {
   "cell_type": "code",
   "execution_count": 260,
   "id": "d793636f",
   "metadata": {},
   "outputs": [],
   "source": [
    "# select indices of types\n",
    "pcRNA_indices = [idx for idx, val in enumerate(biotypes) if val == \"protein_coding\"]\n",
    "lncRNA_indices = [idx for idx, val in enumerate(biotypes) if val == \"lncRNA\"]\n",
    "miRNA_indices = [idx for idx, val in enumerate(biotypes) if val == \"miRNA\"]\n",
    "ncRNA_indices = [idx for idx, val in enumerate(biotypes) if not val == \"protein_coding\"]\n",
    "\n",
    "# select rows by index\n",
    "data_PS_pcRNA = data_PS_FIB.iloc[pcRNA_indices]\n",
    "data_PS_lncRNA = data_PS_FIB.iloc[lncRNA_indices]\n",
    "data_PS_miRNA = data_PS_FIB.iloc[miRNA_indices]\n",
    "data_PS_ncRNA = data_PS_FIB.iloc[ncRNA_indices]"
   ]
  },
  {
   "cell_type": "code",
   "execution_count": 261,
   "id": "4b835d82",
   "metadata": {},
   "outputs": [],
   "source": [
    "# select a subset of protein coding genes\n",
    "data_PS_pcRNA_subset = data_PS_pcRNA.iloc[0:100, :]"
   ]
  },
  {
   "cell_type": "code",
   "execution_count": 262,
   "id": "fff827fd",
   "metadata": {},
   "outputs": [],
   "source": [
    "dataset_PS_pcRNA_lncRNA = construct_paired_dataset(\"PS_pcRNA_lncRNA\", data_PS_pcRNA_subset, data_PS_lncRNA, beta_overall)"
   ]
  },
  {
   "cell_type": "code",
   "execution_count": 263,
   "id": "830017f0",
   "metadata": {},
   "outputs": [
    {
     "name": "stderr",
     "output_type": "stream",
     "text": [
      "100%|██████████| 16200/16200 [02:53<00:00, 93.41it/s] \n"
     ]
    }
   ],
   "source": [
    "correlation_PS_pcRNA_lncRNA = correlation.Correlation(dataset_PS_pcRNA_lncRNA, printing=False)"
   ]
  },
  {
   "cell_type": "code",
   "execution_count": 265,
   "id": "6688875b",
   "metadata": {},
   "outputs": [
    {
     "data": {
      "application/vnd.plotly.v1+json": {
       "config": {
        "plotlyServerURL": "https://plot.ly"
       },
       "data": [
        {
         "link": {
          "color": "lightgrey",
          "source": [
           0,
           0,
           1,
           1,
           2,
           2,
           3,
           3,
           4,
           4
          ],
          "target": [
           1,
           2,
           3,
           4,
           3,
           4,
           5,
           6,
           5,
           6
          ],
          "value": [
           16189,
           11,
           10014,
           6175,
           0,
           11,
           9908,
           106,
           5252,
           934
          ]
         },
         "node": {
          "label": [
           "",
           "Independent",
           "Interacting",
           "Independent",
           "Interacting",
           "Independent",
           "Interacting"
          ]
         },
         "type": "sankey"
        }
       ],
       "layout": {
        "annotations": [
         {
          "align": "center",
          "font": {
           "color": "tomato",
           "family": "Courier New, monospace",
           "size": 16
          },
          "showarrow": false,
          "text": "Genes",
          "x": 0,
          "xref": "paper",
          "y": 1.1,
          "yref": "paper"
         },
         {
          "align": "center",
          "font": {
           "color": "tomato",
           "family": "Courier New, monospace",
           "size": 16
          },
          "showarrow": false,
          "text": "OB Corr.",
          "x": 0.3333333333333333,
          "xref": "paper",
          "y": 1.1,
          "yref": "paper"
         },
         {
          "align": "center",
          "font": {
           "color": "tomato",
           "family": "Courier New, monospace",
           "size": 16
          },
          "showarrow": false,
          "text": "MAP Corr.",
          "x": 0.6666666666666666,
          "xref": "paper",
          "y": 1.1,
          "yref": "paper"
         },
         {
          "align": "center",
          "font": {
           "color": "tomato",
           "family": "Courier New, monospace",
           "size": 16
          },
          "showarrow": false,
          "text": "Moment",
          "x": 1,
          "xref": "paper",
          "y": 1.1,
          "yref": "paper"
         }
        ],
        "font": {
         "size": 10
        },
        "plot_bgcolor": "rgba(0,0,0,0)",
        "template": {
         "data": {
          "bar": [
           {
            "error_x": {
             "color": "#2a3f5f"
            },
            "error_y": {
             "color": "#2a3f5f"
            },
            "marker": {
             "line": {
              "color": "#E5ECF6",
              "width": 0.5
             },
             "pattern": {
              "fillmode": "overlay",
              "size": 10,
              "solidity": 0.2
             }
            },
            "type": "bar"
           }
          ],
          "barpolar": [
           {
            "marker": {
             "line": {
              "color": "#E5ECF6",
              "width": 0.5
             },
             "pattern": {
              "fillmode": "overlay",
              "size": 10,
              "solidity": 0.2
             }
            },
            "type": "barpolar"
           }
          ],
          "carpet": [
           {
            "aaxis": {
             "endlinecolor": "#2a3f5f",
             "gridcolor": "white",
             "linecolor": "white",
             "minorgridcolor": "white",
             "startlinecolor": "#2a3f5f"
            },
            "baxis": {
             "endlinecolor": "#2a3f5f",
             "gridcolor": "white",
             "linecolor": "white",
             "minorgridcolor": "white",
             "startlinecolor": "#2a3f5f"
            },
            "type": "carpet"
           }
          ],
          "choropleth": [
           {
            "colorbar": {
             "outlinewidth": 0,
             "ticks": ""
            },
            "type": "choropleth"
           }
          ],
          "contour": [
           {
            "colorbar": {
             "outlinewidth": 0,
             "ticks": ""
            },
            "colorscale": [
             [
              0,
              "#0d0887"
             ],
             [
              0.1111111111111111,
              "#46039f"
             ],
             [
              0.2222222222222222,
              "#7201a8"
             ],
             [
              0.3333333333333333,
              "#9c179e"
             ],
             [
              0.4444444444444444,
              "#bd3786"
             ],
             [
              0.5555555555555556,
              "#d8576b"
             ],
             [
              0.6666666666666666,
              "#ed7953"
             ],
             [
              0.7777777777777778,
              "#fb9f3a"
             ],
             [
              0.8888888888888888,
              "#fdca26"
             ],
             [
              1,
              "#f0f921"
             ]
            ],
            "type": "contour"
           }
          ],
          "contourcarpet": [
           {
            "colorbar": {
             "outlinewidth": 0,
             "ticks": ""
            },
            "type": "contourcarpet"
           }
          ],
          "heatmap": [
           {
            "colorbar": {
             "outlinewidth": 0,
             "ticks": ""
            },
            "colorscale": [
             [
              0,
              "#0d0887"
             ],
             [
              0.1111111111111111,
              "#46039f"
             ],
             [
              0.2222222222222222,
              "#7201a8"
             ],
             [
              0.3333333333333333,
              "#9c179e"
             ],
             [
              0.4444444444444444,
              "#bd3786"
             ],
             [
              0.5555555555555556,
              "#d8576b"
             ],
             [
              0.6666666666666666,
              "#ed7953"
             ],
             [
              0.7777777777777778,
              "#fb9f3a"
             ],
             [
              0.8888888888888888,
              "#fdca26"
             ],
             [
              1,
              "#f0f921"
             ]
            ],
            "type": "heatmap"
           }
          ],
          "histogram": [
           {
            "marker": {
             "pattern": {
              "fillmode": "overlay",
              "size": 10,
              "solidity": 0.2
             }
            },
            "type": "histogram"
           }
          ],
          "histogram2d": [
           {
            "colorbar": {
             "outlinewidth": 0,
             "ticks": ""
            },
            "colorscale": [
             [
              0,
              "#0d0887"
             ],
             [
              0.1111111111111111,
              "#46039f"
             ],
             [
              0.2222222222222222,
              "#7201a8"
             ],
             [
              0.3333333333333333,
              "#9c179e"
             ],
             [
              0.4444444444444444,
              "#bd3786"
             ],
             [
              0.5555555555555556,
              "#d8576b"
             ],
             [
              0.6666666666666666,
              "#ed7953"
             ],
             [
              0.7777777777777778,
              "#fb9f3a"
             ],
             [
              0.8888888888888888,
              "#fdca26"
             ],
             [
              1,
              "#f0f921"
             ]
            ],
            "type": "histogram2d"
           }
          ],
          "histogram2dcontour": [
           {
            "colorbar": {
             "outlinewidth": 0,
             "ticks": ""
            },
            "colorscale": [
             [
              0,
              "#0d0887"
             ],
             [
              0.1111111111111111,
              "#46039f"
             ],
             [
              0.2222222222222222,
              "#7201a8"
             ],
             [
              0.3333333333333333,
              "#9c179e"
             ],
             [
              0.4444444444444444,
              "#bd3786"
             ],
             [
              0.5555555555555556,
              "#d8576b"
             ],
             [
              0.6666666666666666,
              "#ed7953"
             ],
             [
              0.7777777777777778,
              "#fb9f3a"
             ],
             [
              0.8888888888888888,
              "#fdca26"
             ],
             [
              1,
              "#f0f921"
             ]
            ],
            "type": "histogram2dcontour"
           }
          ],
          "mesh3d": [
           {
            "colorbar": {
             "outlinewidth": 0,
             "ticks": ""
            },
            "type": "mesh3d"
           }
          ],
          "parcoords": [
           {
            "line": {
             "colorbar": {
              "outlinewidth": 0,
              "ticks": ""
             }
            },
            "type": "parcoords"
           }
          ],
          "pie": [
           {
            "automargin": true,
            "type": "pie"
           }
          ],
          "scatter": [
           {
            "fillpattern": {
             "fillmode": "overlay",
             "size": 10,
             "solidity": 0.2
            },
            "type": "scatter"
           }
          ],
          "scatter3d": [
           {
            "line": {
             "colorbar": {
              "outlinewidth": 0,
              "ticks": ""
             }
            },
            "marker": {
             "colorbar": {
              "outlinewidth": 0,
              "ticks": ""
             }
            },
            "type": "scatter3d"
           }
          ],
          "scattercarpet": [
           {
            "marker": {
             "colorbar": {
              "outlinewidth": 0,
              "ticks": ""
             }
            },
            "type": "scattercarpet"
           }
          ],
          "scattergeo": [
           {
            "marker": {
             "colorbar": {
              "outlinewidth": 0,
              "ticks": ""
             }
            },
            "type": "scattergeo"
           }
          ],
          "scattergl": [
           {
            "marker": {
             "colorbar": {
              "outlinewidth": 0,
              "ticks": ""
             }
            },
            "type": "scattergl"
           }
          ],
          "scattermap": [
           {
            "marker": {
             "colorbar": {
              "outlinewidth": 0,
              "ticks": ""
             }
            },
            "type": "scattermap"
           }
          ],
          "scattermapbox": [
           {
            "marker": {
             "colorbar": {
              "outlinewidth": 0,
              "ticks": ""
             }
            },
            "type": "scattermapbox"
           }
          ],
          "scatterpolar": [
           {
            "marker": {
             "colorbar": {
              "outlinewidth": 0,
              "ticks": ""
             }
            },
            "type": "scatterpolar"
           }
          ],
          "scatterpolargl": [
           {
            "marker": {
             "colorbar": {
              "outlinewidth": 0,
              "ticks": ""
             }
            },
            "type": "scatterpolargl"
           }
          ],
          "scatterternary": [
           {
            "marker": {
             "colorbar": {
              "outlinewidth": 0,
              "ticks": ""
             }
            },
            "type": "scatterternary"
           }
          ],
          "surface": [
           {
            "colorbar": {
             "outlinewidth": 0,
             "ticks": ""
            },
            "colorscale": [
             [
              0,
              "#0d0887"
             ],
             [
              0.1111111111111111,
              "#46039f"
             ],
             [
              0.2222222222222222,
              "#7201a8"
             ],
             [
              0.3333333333333333,
              "#9c179e"
             ],
             [
              0.4444444444444444,
              "#bd3786"
             ],
             [
              0.5555555555555556,
              "#d8576b"
             ],
             [
              0.6666666666666666,
              "#ed7953"
             ],
             [
              0.7777777777777778,
              "#fb9f3a"
             ],
             [
              0.8888888888888888,
              "#fdca26"
             ],
             [
              1,
              "#f0f921"
             ]
            ],
            "type": "surface"
           }
          ],
          "table": [
           {
            "cells": {
             "fill": {
              "color": "#EBF0F8"
             },
             "line": {
              "color": "white"
             }
            },
            "header": {
             "fill": {
              "color": "#C8D4E3"
             },
             "line": {
              "color": "white"
             }
            },
            "type": "table"
           }
          ]
         },
         "layout": {
          "annotationdefaults": {
           "arrowcolor": "#2a3f5f",
           "arrowhead": 0,
           "arrowwidth": 1
          },
          "autotypenumbers": "strict",
          "coloraxis": {
           "colorbar": {
            "outlinewidth": 0,
            "ticks": ""
           }
          },
          "colorscale": {
           "diverging": [
            [
             0,
             "#8e0152"
            ],
            [
             0.1,
             "#c51b7d"
            ],
            [
             0.2,
             "#de77ae"
            ],
            [
             0.3,
             "#f1b6da"
            ],
            [
             0.4,
             "#fde0ef"
            ],
            [
             0.5,
             "#f7f7f7"
            ],
            [
             0.6,
             "#e6f5d0"
            ],
            [
             0.7,
             "#b8e186"
            ],
            [
             0.8,
             "#7fbc41"
            ],
            [
             0.9,
             "#4d9221"
            ],
            [
             1,
             "#276419"
            ]
           ],
           "sequential": [
            [
             0,
             "#0d0887"
            ],
            [
             0.1111111111111111,
             "#46039f"
            ],
            [
             0.2222222222222222,
             "#7201a8"
            ],
            [
             0.3333333333333333,
             "#9c179e"
            ],
            [
             0.4444444444444444,
             "#bd3786"
            ],
            [
             0.5555555555555556,
             "#d8576b"
            ],
            [
             0.6666666666666666,
             "#ed7953"
            ],
            [
             0.7777777777777778,
             "#fb9f3a"
            ],
            [
             0.8888888888888888,
             "#fdca26"
            ],
            [
             1,
             "#f0f921"
            ]
           ],
           "sequentialminus": [
            [
             0,
             "#0d0887"
            ],
            [
             0.1111111111111111,
             "#46039f"
            ],
            [
             0.2222222222222222,
             "#7201a8"
            ],
            [
             0.3333333333333333,
             "#9c179e"
            ],
            [
             0.4444444444444444,
             "#bd3786"
            ],
            [
             0.5555555555555556,
             "#d8576b"
            ],
            [
             0.6666666666666666,
             "#ed7953"
            ],
            [
             0.7777777777777778,
             "#fb9f3a"
            ],
            [
             0.8888888888888888,
             "#fdca26"
            ],
            [
             1,
             "#f0f921"
            ]
           ]
          },
          "colorway": [
           "#636efa",
           "#EF553B",
           "#00cc96",
           "#ab63fa",
           "#FFA15A",
           "#19d3f3",
           "#FF6692",
           "#B6E880",
           "#FF97FF",
           "#FECB52"
          ],
          "font": {
           "color": "#2a3f5f"
          },
          "geo": {
           "bgcolor": "white",
           "lakecolor": "white",
           "landcolor": "#E5ECF6",
           "showlakes": true,
           "showland": true,
           "subunitcolor": "white"
          },
          "hoverlabel": {
           "align": "left"
          },
          "hovermode": "closest",
          "mapbox": {
           "style": "light"
          },
          "paper_bgcolor": "white",
          "plot_bgcolor": "#E5ECF6",
          "polar": {
           "angularaxis": {
            "gridcolor": "white",
            "linecolor": "white",
            "ticks": ""
           },
           "bgcolor": "#E5ECF6",
           "radialaxis": {
            "gridcolor": "white",
            "linecolor": "white",
            "ticks": ""
           }
          },
          "scene": {
           "xaxis": {
            "backgroundcolor": "#E5ECF6",
            "gridcolor": "white",
            "gridwidth": 2,
            "linecolor": "white",
            "showbackground": true,
            "ticks": "",
            "zerolinecolor": "white"
           },
           "yaxis": {
            "backgroundcolor": "#E5ECF6",
            "gridcolor": "white",
            "gridwidth": 2,
            "linecolor": "white",
            "showbackground": true,
            "ticks": "",
            "zerolinecolor": "white"
           },
           "zaxis": {
            "backgroundcolor": "#E5ECF6",
            "gridcolor": "white",
            "gridwidth": 2,
            "linecolor": "white",
            "showbackground": true,
            "ticks": "",
            "zerolinecolor": "white"
           }
          },
          "shapedefaults": {
           "line": {
            "color": "#2a3f5f"
           }
          },
          "ternary": {
           "aaxis": {
            "gridcolor": "white",
            "linecolor": "white",
            "ticks": ""
           },
           "baxis": {
            "gridcolor": "white",
            "linecolor": "white",
            "ticks": ""
           },
           "bgcolor": "#E5ECF6",
           "caxis": {
            "gridcolor": "white",
            "linecolor": "white",
            "ticks": ""
           }
          },
          "title": {
           "x": 0.05
          },
          "xaxis": {
           "automargin": true,
           "gridcolor": "white",
           "linecolor": "white",
           "ticks": "",
           "title": {
            "standoff": 15
           },
           "zerolinecolor": "white",
           "zerolinewidth": 2
          },
          "yaxis": {
           "automargin": true,
           "gridcolor": "white",
           "linecolor": "white",
           "ticks": "",
           "title": {
            "standoff": 15
           },
           "zerolinecolor": "white",
           "zerolinewidth": 2
          }
         }
        },
        "title": {
         "text": "Coding RNA - lncRNA: BayNorm comparisons"
        },
        "xaxis": {
         "showgrid": false,
         "visible": false,
         "zeroline": false
        },
        "yaxis": {
         "showgrid": false,
         "visible": false,
         "zeroline": false
        }
       }
      }
     },
     "metadata": {},
     "output_type": "display_data"
    }
   ],
   "source": [
    "sankey_from_df(result_df(correlation_pcRNA_lncRNA, correlation_PS_pcRNA_lncRNA, moment_pcRNA_lncRNA), \"Coding RNA - lncRNA: BayNorm comparisons\")"
   ]
  }
 ],
 "metadata": {
  "kernelspec": {
   "display_name": "M5R_venv",
   "language": "python",
   "name": "python3"
  },
  "language_info": {
   "codemirror_mode": {
    "name": "ipython",
    "version": 3
   },
   "file_extension": ".py",
   "mimetype": "text/x-python",
   "name": "python",
   "nbconvert_exporter": "python",
   "pygments_lexer": "ipython3",
   "version": "3.10.11"
  }
 },
 "nbformat": 4,
 "nbformat_minor": 5
}
