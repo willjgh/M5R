{
 "cells": [
  {
   "cell_type": "code",
   "execution_count": 1,
   "metadata": {},
   "outputs": [],
   "source": [
    "import numpy as np\n",
    "import matplotlib.pyplot as plt\n",
    "import pandas as pd\n",
    "import cvxpy as cv\n",
    "import time\n",
    "import gurobipy as gp\n",
    "from gurobipy import GRB"
   ]
  },
  {
   "cell_type": "markdown",
   "metadata": {},
   "source": [
    "# Identifying perturbations\n",
    "\n",
    "Given transcript counts for a gene in a number of cells we can estimate bounds on the parameters of the reaction network. Assuming the counts are sampled from the stationary distribution of the system we bootstrap to produce CI bounds on the distribution, then optimize over constraints constructed from these values and the reaction system."
   ]
  },
  {
   "cell_type": "markdown",
   "metadata": {},
   "source": [
    "## Bootstrap"
   ]
  },
  {
   "cell_type": "code",
   "execution_count": 2,
   "metadata": {},
   "outputs": [],
   "source": [
    "def bootstrap(samples, N, plot=False, printing=False, drop_missing=False):\n",
    "    \"\"\"\n",
    "    Bootstrap sample data to find confidence intervals of\n",
    "    stationary distribution values.\n",
    "\n",
    "    Inputs:\n",
    "    samples: sample from stationary distribution (counts of transcripts)\n",
    "    N: number of bootstrap samples\n",
    "    plot: whether to plot histograms of bootstrap estimates with CI lines\n",
    "    printing: whether to print CI's\n",
    "    drop_missing: whether to drop missing values from the sample,\n",
    "        or replace them with 0 (as used when preparing BayNorm data)\n",
    "\n",
    "    Output:\n",
    "    intervals: list of confidence intervals for stationary distribution values\n",
    "        of all states up to largest observed\n",
    "    \"\"\"\n",
    "\n",
    "    '''pre-processing for real data'''\n",
    "    # change to series\n",
    "    # samples = pd.Series(samples)\n",
    "\n",
    "    # drop missing values\n",
    "    #if drop_missing:\n",
    "    #    samples = samples.dropna()\n",
    "    # replace with 0\n",
    "    #else:\n",
    "    #    samples = samples.fillna(value=0.0)\n",
    "\n",
    "    # change to int\n",
    "    #samples = samples.astype('int64')\n",
    "\n",
    "    # maximum state observed\n",
    "    x_max = int(np.nanmax(samples))\n",
    "    # size of sample\n",
    "    n = len(samples)\n",
    "\n",
    "    # N boostrap samples as N x n array\n",
    "    bootstrap = np.random.choice(samples, size=(N, n))\n",
    "    # produce N x (x_max + 1) array of counts of states:\n",
    "    # offset each row by multiple of x_max + 1 for efficient bincount\n",
    "    bootstrap_offs = bootstrap + np.arange(N)[:,None]*(x_max + 1)\n",
    "    counts = np.bincount(bootstrap_offs.ravel(), minlength=N*(x_max + 1)).reshape(-1,x_max + 1)\n",
    "    # dividing by n gives columns of estimates\n",
    "    # take 2.5%, 97.5% percentiles of each column (i.e each p(x))\n",
    "    quantiles = np.quantile(counts / n, [0.025, 0.975], axis=0)\n",
    "    # form intervals: list of [2.5%, 97.5%] values for each p(x)\n",
    "    intervals = [quantiles[:,i] for i in range(x_max + 1)]\n",
    "\n",
    "    # plot histograms and CI\n",
    "    if printing or plot:\n",
    "        for x in range(x_max + 1):\n",
    "            if printing:\n",
    "                print(f\"95% CI for p({x}) is: ({intervals[x][0]}, {intervals[x][1]})\")\n",
    "            if plot:\n",
    "                plt.hist(counts[:, x] / n)\n",
    "                plt.title(f\"Hist of p({x})\")\n",
    "                plt.axvline(intervals[x][0], color=\"red\")\n",
    "                plt.axvline(intervals[x][1], color=\"red\")\n",
    "            plt.show()\n",
    "\n",
    "    # return CIs\n",
    "    return intervals"
   ]
  },
  {
   "cell_type": "markdown",
   "metadata": {},
   "source": [
    "## Optimization"
   ]
  },
  {
   "cell_type": "code",
   "execution_count": 29,
   "metadata": {},
   "outputs": [],
   "source": [
    "def optimization_NLP(params, N, intervals, K=100, frechet_bounds=False, print_solution=True, printing=False):\n",
    "    \"\"\"\n",
    "    Solve Non-Linear Programming problem to bound parameters\n",
    "\n",
    "    Inputs:\n",
    "    params: [k_on, k_off, k_tx, k_deg] either values that will be fixed, or \"v\"\n",
    "        for variable to be bounded\n",
    "    N: number of rows/equations of Qp = 0 to use in constraints\n",
    "        must be even\n",
    "    intervals: list of confidence intervals for at least N/2 + 1 marginal states\n",
    "    K: upper bound on params (k's) for computational reasons\n",
    "    frechet_bounds: bool to include additionally derived 'frechet' constraints\n",
    "    print_solution: bool to print solution bounds\n",
    "    printing: bool to print optimizer information\n",
    "    \"\"\"\n",
    "\t\n",
    "\t# number of marginals used\n",
    "    M = int(N/2 + 1)\n",
    "\n",
    "\t# create Qr matrices:\n",
    "\t# create N + 2 x N + 2 square and drop last 2 rows, as have 2 upper diagonals\n",
    "    Q_on = (np.diag([-1 if not x % 2 else 0 for x in range(0,N+2)],0) +\n",
    "    \t\tnp.diag([1 if not x % 2 else 0 for x in range(0,N+1)],-1))[:-2, :]\n",
    "    Q_off = (np.diag([-1 if x % 2 else 0 for x in range(0,N+2)],0) +\n",
    "    \t\tnp.diag([1 if not x % 2 else 0 for x in range(0,N+1)],1))[:-2, :]\n",
    "    Q_tx = (np.diag([-1 if x % 2 else 0 for x in range(0,N+2)],0) +\n",
    "    \t\tnp.diag([1 if x % 2 else 0 for x in range(0,N)],-2))[:-2, :]\n",
    "    diag = []\n",
    "    off_diag = []\n",
    "    m = 0\n",
    "    for x in range(0, N + 2):\n",
    "        diag.append(-m)\n",
    "        if x > 1:\n",
    "            off_diag.append(m)\n",
    "        # every 2 entries, increase m by 1\n",
    "        if x % 2:\n",
    "            m += 1\n",
    "    Q_deg = (np.diag(diag,0) + np.diag(off_diag,2))[:-2, :]\n",
    "\n",
    "    # bounds from CI, on marginal\n",
    "    pl = [intr[0] for intr in intervals]\n",
    "    pu = [intr[1] for intr in intervals]\n",
    "\n",
    "    # define bounds\n",
    "    pl = np.array(pl)[:M]\n",
    "    pu = np.array(pu)[:M]\n",
    "\n",
    "    # form doubled bounds\n",
    "    pdl = np.repeat(pl,2)\n",
    "    pdu = np.repeat(pu,2)\n",
    "\t\n",
    "    # marginal = A @ p\n",
    "    A = np.repeat(np.eye(M, dtype=int), repeats=2, axis=1)\n",
    "\n",
    "    # create model\n",
    "    m = gp.Model(\"gene_exp\")\n",
    "\n",
    "    # set options\n",
    "    if not printing:\n",
    "        m.Params.LogToConsole = 0\n",
    "\n",
    "    # add variable p in [0, 1]\n",
    "    p = m.addMVar(shape=N + 2, vtype=GRB.CONTINUOUS, name=\"p\", lb=0, ub=1)\n",
    "\n",
    "    # initialize fixed / variable rates, constrain to [0, K] for computational reasons\n",
    "    if params[0] == \"v\":\n",
    "        k_on = m.addVar(vtype=GRB.CONTINUOUS, name=\"k_on\", lb=0, ub=K)\n",
    "    else:\n",
    "        k_on = params[0]\n",
    "    if params[1] == \"v\":\n",
    "        k_off = m.addVar(vtype=GRB.CONTINUOUS, name=\"k_off\", lb=0, ub=K)\n",
    "    else:\n",
    "        k_off = params[1]\n",
    "    if params[2] == \"v\":\n",
    "        k_tx = m.addVar(vtype=GRB.CONTINUOUS, name=\"k_tx\", lb=0, ub=K)\n",
    "    else:\n",
    "        k_tx = params[2]\n",
    "    if params[3] == \"v\":\n",
    "        k_deg = m.addVar(vtype=GRB.CONTINUOUS, name=\"k_deg\", lb=0, ub=K)\n",
    "    else:\n",
    "        k_deg = params[3]\n",
    "\n",
    "    # Constraints:\n",
    "    # Stationary condition: Qp = 0\n",
    "    m.addConstr(k_on*(Q_on @ p) + k_off*(Q_off @ p) + k_tx*(Q_tx @ p) + k_deg*(Q_deg @ p) == 0, name=\"Qp=0\")\n",
    "    # marginal bounds: p_L <= A @ p <= p_U\n",
    "    m.addConstr(pl <= A @ p, name=\"Marginal lb\")\n",
    "    m.addConstr(A @ p <= pu, name=\"Marginal ub\" )\n",
    "    # truncated joint dist: sum(p) <= 1\n",
    "    m.addConstr(p.sum() <= 1, name=\"Joint dist\")\n",
    "\n",
    "    if frechet_bounds:\n",
    "        # frechet bound vector\n",
    "        kv_off = np.array([0 if x % 2 else 1 for x in range(N + 2)])\n",
    "        kv_on = np.array([1 if x % 2 else 0 for x in range(N + 2)])\n",
    "        kv = k_off * kv_off + k_on * kv_on\n",
    "        # frechet bound\n",
    "        m.addConstr((k_on + k_off) * p <= kv)\n",
    "\n",
    "    # solution dict\n",
    "    solution = {}\n",
    "\n",
    "    par_names = [\"k_on\", \"k_off\", \"k_tx\", \"k_deg\"]\n",
    "\n",
    "    # optimize for each unknown parameter\n",
    "    for i, par in enumerate([k_on, k_off, k_tx, k_deg]):\n",
    "\n",
    "        # param name\n",
    "        name = par_names[i]\n",
    "\n",
    "        # if unknown: optimize\n",
    "        if params[i] == \"v\":\n",
    "\n",
    "            # set objective\n",
    "            m.setObjective(par, GRB.MINIMIZE)\n",
    "\n",
    "            try:\n",
    "                # optimize (solve)\n",
    "                m.optimize()\n",
    "                # record\n",
    "                min_val = m.ObjVal\n",
    "            except:\n",
    "                # record as infeasible/unbounded\n",
    "                min_val = None\n",
    "\n",
    "            # reset\n",
    "            m.reset()\n",
    "\n",
    "            # change objective\n",
    "            m.setObjective(par, GRB.MAXIMIZE)\n",
    "\n",
    "            try:\n",
    "                # re-optimize (re-solve)\n",
    "                m.optimize()\n",
    "                # record\n",
    "                max_val = m.ObjVal\n",
    "            except:\n",
    "                # record as infeasible/unbounded\n",
    "                max_val = None\n",
    "\n",
    "            # store\n",
    "            solution[name] = [min_val, max_val]\n",
    "    \n",
    "        # if known: store\n",
    "        else:\n",
    "            solution[name] = par\n",
    "    \n",
    "    # print\n",
    "    if print_solution:\n",
    "        for key, val in solution.items():\n",
    "            if type(val) == list:\n",
    "                print(f\"{key} in ({val[0]}, {val[1]})\")\n",
    "            else:\n",
    "                print(f\"{key} = {val}\")\n",
    "\n",
    "    return solution"
   ]
  },
  {
   "cell_type": "markdown",
   "metadata": {},
   "source": [
    "## Example"
   ]
  },
  {
   "cell_type": "code",
   "execution_count": 34,
   "metadata": {},
   "outputs": [],
   "source": [
    "# original\n",
    "counts_original = pd.read_csv(\"Simulated_data/counts_original.csv\", index_col=\"Unnamed: 0\")\n",
    "parameters_original = pd.read_csv(\"Simulated_data/parameters_original.csv\", index_col=\"Unnamed: 0\")\n",
    "# perturbed\n",
    "counts_perturbed = pd.read_csv(\"Simulated_data/counts_perturbed.csv\", index_col=\"Unnamed: 0\")\n",
    "parameters_perturbed = pd.read_csv(\"Simulated_data/parameters_perturbed.csv\", index_col=\"Unnamed: 0\")"
   ]
  },
  {
   "cell_type": "code",
   "execution_count": 104,
   "metadata": {},
   "outputs": [
    {
     "name": "stdout",
     "output_type": "stream",
     "text": [
      "95% CI for p(0) is: (0.0222, 0.0314)\n",
      "95% CI for p(1) is: (0.078, 0.09300499999999999)\n",
      "95% CI for p(2) is: (0.1306, 0.15)\n",
      "95% CI for p(3) is: (0.155, 0.175205)\n",
      "95% CI for p(4) is: (0.1504, 0.171)\n",
      "95% CI for p(5) is: (0.1296, 0.14960500000000002)\n",
      "95% CI for p(6) is: (0.0884, 0.1046)\n",
      "95% CI for p(7) is: (0.0676, 0.082605)\n",
      "95% CI for p(8) is: (0.045595000000000004, 0.0572)\n",
      "95% CI for p(9) is: (0.020995000000000003, 0.029804999999999995)\n",
      "95% CI for p(10) is: (0.0126, 0.019404999999999995)\n",
      "95% CI for p(11) is: (0.0086, 0.0142)\n",
      "95% CI for p(12) is: (0.0024, 0.0058)\n",
      "95% CI for p(13) is: (0.0004, 0.0022)\n",
      "95% CI for p(14) is: (0.0004, 0.0022)\n",
      "95% CI for p(15) is: (0.0, 0.001)\n",
      "95% CI for p(16) is: (0.0, 0.001)\n",
      "\n",
      "\n",
      "95% CI for p(0) is: (0.002795, 0.0062)\n",
      "95% CI for p(1) is: (0.017795000000000002, 0.0256)\n",
      "95% CI for p(2) is: (0.0414, 0.0534)\n",
      "95% CI for p(3) is: (0.0828, 0.0988)\n",
      "95% CI for p(4) is: (0.0926, 0.109)\n",
      "95% CI for p(5) is: (0.128595, 0.14680500000000002)\n",
      "95% CI for p(6) is: (0.127395, 0.1466)\n",
      "95% CI for p(7) is: (0.118795, 0.136805)\n",
      "95% CI for p(8) is: (0.0966, 0.1132)\n",
      "95% CI for p(9) is: (0.07, 0.0844)\n",
      "95% CI for p(10) is: (0.054, 0.0672)\n",
      "95% CI for p(11) is: (0.0308, 0.0408)\n",
      "95% CI for p(12) is: (0.0192, 0.027404999999999995)\n",
      "95% CI for p(13) is: (0.012195000000000001, 0.019)\n",
      "95% CI for p(14) is: (0.0056, 0.0108)\n",
      "95% CI for p(15) is: (0.0024, 0.0058)\n",
      "95% CI for p(16) is: (0.0008, 0.003)\n",
      "95% CI for p(17) is: (0.0004, 0.0024)\n",
      "95% CI for p(18) is: (0.0, 0.001)\n"
     ]
    }
   ],
   "source": [
    "intervals_original = bootstrap(counts_original.loc[\"gene_4\"], 1000, printing=True)\n",
    "print(\"\\n\")\n",
    "intervals_perturbed = bootstrap(counts_perturbed.loc[\"gene_4\"], 1000, printing=True)"
   ]
  },
  {
   "cell_type": "code",
   "execution_count": 117,
   "metadata": {},
   "outputs": [
    {
     "name": "stdout",
     "output_type": "stream",
     "text": [
      "k_on in (3.6254992372171158, 10.291587286356677)\n",
      "k_off in (2.0891729329637982, 100.0)\n",
      "k_tx in (6.709584384800729, 66.19982630404822)\n",
      "k_deg = 1.0\n",
      "\n",
      "\n",
      "k_on in (5.192322428668154, 37.53724754795519)\n",
      "k_off in (1.5310446234699968, 100.0)\n",
      "k_tx in (6.881439767987239, 96.26025945074466)\n",
      "k_deg = 1.0\n"
     ]
    }
   ],
   "source": [
    "solution_original = optimization_NLP_new(params=[\"v\", \"v\", \"v\", 1.0], N=20, intervals=intervals_original, frechet_bounds=True)\n",
    "print(\"\\n\")\n",
    "solution_perturbed = optimization_NLP_new(params=[\"v\", \"v\", \"v\", 1.0], N=10, intervals=intervals_perturbed, frechet_bounds=True)"
   ]
  },
  {
   "cell_type": "code",
   "execution_count": 118,
   "metadata": {},
   "outputs": [
    {
     "name": "stdout",
     "output_type": "stream",
     "text": [
      "k_on      8.225970\n",
      "k_off    38.113865\n",
      "k_tx     24.297643\n",
      "k_deg     1.000000\n",
      "Name: gene_4, dtype: float64\n",
      "\n",
      "\n",
      "k_on     13.596697\n",
      "k_off    38.113865\n",
      "k_tx     24.297643\n",
      "k_deg     1.000000\n",
      "Name: gene_4, dtype: float64\n"
     ]
    }
   ],
   "source": [
    "print(parameters_original.loc[\"gene_4\"])\n",
    "print(\"\\n\")\n",
    "print(parameters_perturbed.loc[\"gene_4\"])"
   ]
  },
  {
   "cell_type": "markdown",
   "metadata": {},
   "source": [
    "## Plotting"
   ]
  },
  {
   "cell_type": "code",
   "execution_count": 133,
   "metadata": {},
   "outputs": [],
   "source": [
    "def plot_intervals(solution_original, solution_perturbed, parameters_original, parameters_perturbed):\n",
    "\n",
    "    # original results\n",
    "    x_org = [1, 4, 7]\n",
    "    y_org = [parameters_original['k_on'],\n",
    "             parameters_original['k_off'],\n",
    "             parameters_original['k_tx']]\n",
    "    lbs_org = [abs(solution_original['k_on'][0] - parameters_original['k_on']),\n",
    "               abs(solution_original['k_off'][0] - parameters_original['k_off']),\n",
    "               abs(solution_original['k_tx'][0] - parameters_original['k_tx'])]\n",
    "    ubs_org = [abs(solution_original['k_on'][1] - parameters_original['k_on']),\n",
    "               abs(solution_original['k_off'][1] - parameters_original['k_off']),\n",
    "               abs(solution_original['k_tx'][1] - parameters_original['k_tx'])]\n",
    "    bounds_org = [lbs_org, ubs_org]\n",
    "\n",
    "    # perturbed results\n",
    "    x_pert = [2, 5, 8]\n",
    "    y_pert = [parameters_perturbed['k_on'],\n",
    "             parameters_perturbed['k_off'],\n",
    "             parameters_perturbed['k_tx']]\n",
    "    lbs_pert = [abs(solution_perturbed['k_on'][0] - parameters_perturbed['k_on']),\n",
    "                abs(solution_perturbed['k_off'][0] - parameters_perturbed['k_off']),\n",
    "                abs(solution_perturbed['k_tx'][0] - parameters_perturbed['k_tx'])]\n",
    "    ubs_pert = [abs(solution_perturbed['k_on'][1] - parameters_perturbed['k_on']),\n",
    "                abs(solution_perturbed['k_off'][1] - parameters_perturbed['k_off']),\n",
    "                abs(solution_perturbed['k_tx'][1] - parameters_perturbed['k_tx'])]\n",
    "    bounds_pert = [lbs_pert, ubs_pert]\n",
    "\n",
    "    # plot\n",
    "    plt.figure(figsize=(12, 8))\n",
    "    plt.xticks([1.5, 4.5, 7.5], ['k_on', 'k_off', 'k_tx'])\n",
    "    plt.errorbar(x_org, y_org, yerr=bounds_org, fmt='o', color = \"red\", ecolor = 'orange', capsize=5.0, label=\"Original\")\n",
    "    plt.errorbar(x_pert, y_pert, yerr=bounds_pert, fmt='o', color = \"red\", ecolor = 'blue', capsize=5.0, label=\"Perturbed\")\n",
    "    plt.xlabel(\"Parameters\")\n",
    "    plt.ylabel(\"Values\")\n",
    "    plt.legend()\n",
    "    plt.show()"
   ]
  },
  {
   "cell_type": "code",
   "execution_count": 134,
   "metadata": {},
   "outputs": [
    {
     "data": {
      "image/png": "[encoded data removed]",
      "text/plain": [
       "<Figure size 1200x800 with 1 Axes>"
      ]
     },
     "metadata": {},
     "output_type": "display_data"
    }
   ],
   "source": [
    "plot_intervals(solution_original, solution_perturbed, parameters_original.loc['gene_4'], parameters_perturbed.loc['gene_4'])"
   ]
  },
  {
   "cell_type": "code",
   "execution_count": 122,
   "metadata": {},
   "outputs": [
    {
     "data": {
      "text/plain": [
       "{'k_on': [5.192322428668154, 37.53724754795519],\n",
       " 'k_off': [1.5310446234699968, 100.0],\n",
       " 'k_tx': [6.881439767987239, 96.26025945074466],\n",
       " 'k_deg': 1.0}"
      ]
     },
     "execution_count": 122,
     "metadata": {},
     "output_type": "execute_result"
    }
   ],
   "source": [
    "solution_perturbed"
   ]
  }
 ],
 "metadata": {
  "kernelspec": {
   "display_name": "M5R_venv",
   "language": "python",
   "name": "python3"
  },
  "language_info": {
   "codemirror_mode": {
    "name": "ipython",
    "version": 3
   },
   "file_extension": ".py",
   "mimetype": "text/x-python",
   "name": "python",
   "nbconvert_exporter": "python",
   "pygments_lexer": "ipython3",
   "version": "3.10.11"
  }
 },
 "nbformat": 4,
 "nbformat_minor": 2
}
